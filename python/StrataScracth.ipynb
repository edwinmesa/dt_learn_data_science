{
 "cells": [
  {
   "attachments": {},
   "cell_type": "markdown",
   "metadata": {},
   "source": [
    "#### Customer Details"
   ]
  },
  {
   "cell_type": "code",
   "execution_count": null,
   "metadata": {},
   "outputs": [],
   "source": [
    "# Import your libraries\n",
    "import pandas as pd\n",
    "\n",
    "# Start writing code\n",
    "# customers.head()\n",
    "# orders.head()\n",
    "\n",
    "# merge the data\n",
    "customer_orders = pd.merge(customers, orders, how='left', left_on='id', right_on='cust_id', suffixes=['_cust','_order'])\n",
    "customer_orders = customer_orders[['first_name', 'last_name', 'city', 'order_details']].sort_values(by=['first_name', 'order_details'])"
   ]
  },
  {
   "attachments": {},
   "cell_type": "markdown",
   "metadata": {},
   "source": [
    "#### Order Details"
   ]
  },
  {
   "cell_type": "code",
   "execution_count": null,
   "metadata": {},
   "outputs": [],
   "source": [
    "# Import your libraries\n",
    "import pandas as pd\n",
    "\n",
    "# Start writing code\n",
    "# customers.head()\n",
    "\n",
    "# merge the data\n",
    "customer_orders = pd.merge(customers, orders, how='left', left_on='id', right_on='cust_id', suffixes=['_cust','_order'])\n",
    "\n",
    "only_eva_jill = customer_orders[(customer_orders['first_name']=='Eva')|(customer_orders['first_name']=='Jill') ]\n",
    "only_eva_jill = only_eva_jill[['id_cust', 'first_name', 'order_date', 'order_details', 'total_order_cost']]\n",
    "only_eva_jill\n",
    "# only_eva_jill.head()"
   ]
  }
 ],
 "metadata": {
  "kernelspec": {
   "display_name": "tensf",
   "language": "python",
   "name": "python3"
  },
  "language_info": {
   "name": "python",
   "version": "3.10.8 (tags/v3.10.8:aaaf517, Oct 11 2022, 16:50:30) [MSC v.1933 64 bit (AMD64)]"
  },
  "orig_nbformat": 4,
  "vscode": {
   "interpreter": {
    "hash": "3e313d1f24da57a081eee6b594756086e5e54161d7342791616a06970af18016"
   }
  }
 },
 "nbformat": 4,
 "nbformat_minor": 2
}
