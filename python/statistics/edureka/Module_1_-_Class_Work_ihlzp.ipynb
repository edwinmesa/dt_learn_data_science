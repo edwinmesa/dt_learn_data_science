{
 "cells": [
  {
   "cell_type": "code",
   "execution_count": 1,
   "id": "b982764b",
   "metadata": {},
   "outputs": [
    {
     "name": "stdout",
     "output_type": "stream",
     "text": [
      "Enter a number: 3\n",
      "The square root of 3.000 is 1.732\n",
      "I guess i lost you\n",
      "Wish you could be here\n"
     ]
    }
   ],
   "source": [
    "# Take input from the user - SINGLE LINE COMMENTS\n",
    "\n",
    "# This is a single line commment\n",
    "\n",
    "num = float(input('Enter a number: '))\n",
    "\n",
    "# MULTIPLE LINE COMMENTS\n",
    "'''\n",
    "Use the user input to\n",
    "calculate the square root of the number\n",
    "'''\n",
    "\n",
    "'''\n",
    "a line\n",
    "b line\n",
    "c line\n",
    "'''\n",
    "\n",
    "# num & num_sqrt are literals....(Literals are the constant values assigned to the constant variables)\n",
    "num_sqrt = num ** 0.5\n",
    "print(\"The square root of %0.3f is %0.3f\"%(num, num_sqrt))\n",
    "\n",
    "# Indentation\n",
    "if(num_sqrt <= 1):\n",
    "    print(\"Hello\")\n",
    "    print(\"Thr you are !!\")\n",
    "else:\n",
    "    print(\"I guess i lost you\")\n",
    "    print(\"Wish you could be here\")"
   ]
  },
  {
   "cell_type": "code",
   "execution_count": 2,
   "id": "21004f6f",
   "metadata": {},
   "outputs": [
    {
     "data": {
      "text/plain": [
       "4397833072"
      ]
     },
     "execution_count": 2,
     "metadata": {},
     "output_type": "execute_result"
    }
   ],
   "source": [
    "id(num)"
   ]
  },
  {
   "cell_type": "code",
   "execution_count": 3,
   "id": "8d244497",
   "metadata": {},
   "outputs": [
    {
     "data": {
      "text/plain": [
       "4399156912"
      ]
     },
     "execution_count": 3,
     "metadata": {},
     "output_type": "execute_result"
    }
   ],
   "source": [
    "str = \"Edureka\"\n",
    "id(str)"
   ]
  },
  {
   "cell_type": "code",
   "execution_count": 4,
   "id": "06107443",
   "metadata": {},
   "outputs": [
    {
     "data": {
      "text/plain": [
       "4351410704"
      ]
     },
     "execution_count": 4,
     "metadata": {},
     "output_type": "execute_result"
    }
   ],
   "source": [
    "num1 = 10\n",
    "id(num1)"
   ]
  },
  {
   "cell_type": "code",
   "execution_count": 5,
   "id": "900c432e",
   "metadata": {},
   "outputs": [
    {
     "data": {
      "text/plain": [
       "4603264496"
      ]
     },
     "execution_count": 5,
     "metadata": {},
     "output_type": "execute_result"
    }
   ],
   "source": [
    "num2 = 10.20\n",
    "id(num2)"
   ]
  },
  {
   "cell_type": "code",
   "execution_count": 6,
   "id": "61e265d6",
   "metadata": {},
   "outputs": [
    {
     "name": "stdout",
     "output_type": "stream",
     "text": [
      "Edureka 10 10.2\n"
     ]
    }
   ],
   "source": [
    "print(str, num1, num2)"
   ]
  },
  {
   "cell_type": "markdown",
   "id": "01d8b1b9",
   "metadata": {},
   "source": [
    "### Keywords"
   ]
  },
  {
   "cell_type": "code",
   "execution_count": 1,
   "id": "ac487256",
   "metadata": {},
   "outputs": [
    {
     "name": "stdout",
     "output_type": "stream",
     "text": [
      "\n",
      "Here is a list of the Python keywords.  Enter any keyword to get more help.\n",
      "\n",
      "False               class               from                or\n",
      "None                continue            global              pass\n",
      "True                def                 if                  raise\n",
      "and                 del                 import              return\n",
      "as                  elif                in                  try\n",
      "assert              else                is                  while\n",
      "async               except              lambda              with\n",
      "await               finally             nonlocal            yield\n",
      "break               for                 not                 \n",
      "\n"
     ]
    }
   ],
   "source": [
    "# List of keywords\n",
    "help(\"keywords\")\n",
    "\n",
    "# list of built-in functions\n",
    "# https://docs.python.org/3/library/functions.html"
   ]
  },
  {
   "cell_type": "markdown",
   "id": "14fa5592",
   "metadata": {},
   "source": [
    "### Print Stmt"
   ]
  },
  {
   "cell_type": "code",
   "execution_count": 2,
   "id": "6295ee75",
   "metadata": {},
   "outputs": [
    {
     "name": "stdout",
     "output_type": "stream",
     "text": [
      "Welcome to Edureka\n",
      "My age is 30\n",
      "Hello ! Welcome to Edureka\n"
     ]
    }
   ],
   "source": [
    "n1 = \"Hello\"\n",
    "n2 = \"Edureka\"\n",
    "n3 = 30\n",
    "\n",
    "print(\"Welcome to %s\" %n2)\n",
    "print(\"My age is %d\" %n3)\n",
    "\n",
    "print(\"%s ! Welcome to %s\" %(n1,n2))"
   ]
  },
  {
   "cell_type": "code",
   "execution_count": 3,
   "id": "57ca1755",
   "metadata": {},
   "outputs": [
    {
     "name": "stdout",
     "output_type": "stream",
     "text": [
      "Hello ! Welcome to Edureka\n"
     ]
    }
   ],
   "source": [
    "n1 = \"Hello\"\n",
    "n2 = \"Edureka\"\n",
    "\n",
    "print(\"{} ! Welcome to {}\".format(n1,n2))"
   ]
  },
  {
   "cell_type": "code",
   "execution_count": 4,
   "id": "ee092908",
   "metadata": {},
   "outputs": [
    {
     "name": "stdout",
     "output_type": "stream",
     "text": [
      "Hello ! Welcome to Edureka\n"
     ]
    }
   ],
   "source": [
    "n1 = \"Hello\"\n",
    "n2 = \"Edureka\"\n",
    "\n",
    "print(f\"{n1} ! Welcome to {n2}\")"
   ]
  },
  {
   "cell_type": "markdown",
   "id": "3d8adfd4",
   "metadata": {},
   "source": [
    "### Immutable and Mutable Data Types"
   ]
  },
  {
   "cell_type": "code",
   "execution_count": 5,
   "id": "aabdad8e",
   "metadata": {},
   "outputs": [
    {
     "data": {
      "text/plain": [
       "139953439312432"
      ]
     },
     "execution_count": 5,
     "metadata": {},
     "output_type": "execute_result"
    }
   ],
   "source": [
    "str1 = \"Python\"\n",
    "id(str1)"
   ]
  },
  {
   "cell_type": "code",
   "execution_count": 6,
   "id": "d8b0fd7f",
   "metadata": {},
   "outputs": [
    {
     "data": {
      "text/plain": [
       "139953430770800"
      ]
     },
     "execution_count": 6,
     "metadata": {},
     "output_type": "execute_result"
    }
   ],
   "source": [
    "str1 = \"Java\"\n",
    "id(str1)"
   ]
  },
  {
   "cell_type": "code",
   "execution_count": 7,
   "id": "5b8976c5",
   "metadata": {},
   "outputs": [
    {
     "data": {
      "text/plain": [
       "str"
      ]
     },
     "execution_count": 7,
     "metadata": {},
     "output_type": "execute_result"
    }
   ],
   "source": [
    "type(str1)"
   ]
  },
  {
   "cell_type": "code",
   "execution_count": 8,
   "id": "225471ca",
   "metadata": {},
   "outputs": [
    {
     "data": {
      "text/plain": [
       "139953326535616"
      ]
     },
     "execution_count": 8,
     "metadata": {},
     "output_type": "execute_result"
    }
   ],
   "source": [
    "lst = [1,2,3]\n",
    "id(lst)"
   ]
  },
  {
   "cell_type": "code",
   "execution_count": 9,
   "id": "ed3e0602",
   "metadata": {},
   "outputs": [
    {
     "data": {
      "text/plain": [
       "list"
      ]
     },
     "execution_count": 9,
     "metadata": {},
     "output_type": "execute_result"
    }
   ],
   "source": [
    "type(lst)"
   ]
  },
  {
   "cell_type": "code",
   "execution_count": 10,
   "id": "576e59fe",
   "metadata": {},
   "outputs": [
    {
     "data": {
      "text/plain": [
       "[1, 2, 3]"
      ]
     },
     "execution_count": 10,
     "metadata": {},
     "output_type": "execute_result"
    }
   ],
   "source": [
    "lst"
   ]
  },
  {
   "cell_type": "code",
   "execution_count": 11,
   "id": "b2eeb5d8",
   "metadata": {},
   "outputs": [
    {
     "data": {
      "text/plain": [
       "139953326535616"
      ]
     },
     "execution_count": 11,
     "metadata": {},
     "output_type": "execute_result"
    }
   ],
   "source": [
    "lst.append(4)\n",
    "id(lst)"
   ]
  },
  {
   "cell_type": "code",
   "execution_count": 12,
   "id": "a2e54e74",
   "metadata": {},
   "outputs": [
    {
     "data": {
      "text/plain": [
       "[1, 2, 3, 4]"
      ]
     },
     "execution_count": 12,
     "metadata": {},
     "output_type": "execute_result"
    }
   ],
   "source": [
    "lst"
   ]
  },
  {
   "cell_type": "code",
   "execution_count": 13,
   "id": "6beb5923",
   "metadata": {},
   "outputs": [
    {
     "data": {
      "text/plain": [
       "[1, 2, 3.4, 'Help']"
      ]
     },
     "execution_count": 13,
     "metadata": {},
     "output_type": "execute_result"
    }
   ],
   "source": [
    "lst = [1,2,3.4,\"Help\"]\n",
    "lst"
   ]
  },
  {
   "cell_type": "markdown",
   "id": "42bafcb1",
   "metadata": {},
   "source": [
    "### Operators in Python"
   ]
  },
  {
   "cell_type": "code",
   "execution_count": 14,
   "id": "22453095",
   "metadata": {},
   "outputs": [
    {
     "name": "stdout",
     "output_type": "stream",
     "text": [
      "8\n",
      "2\n",
      "15\n",
      "4.0\n",
      "1\n",
      "64\n"
     ]
    }
   ],
   "source": [
    "# Arithmetic Operators\n",
    "x = 5\n",
    "y = 3\n",
    "print(x + y)\n",
    "x = 5\n",
    "y = 3\n",
    "print(x - y)\n",
    "x = 5\n",
    "y = 3\n",
    "print(x * y)\n",
    "x = 12\n",
    "y = 3\n",
    "print(x / y) # Quotient\n",
    "x = 5\n",
    "y = 2\n",
    "print(x % y) # Remainder\n",
    "x = 2\n",
    "y = 6\n",
    "print(x ** y) # Raised to 2^5 = 2*2*2*2*2"
   ]
  },
  {
   "cell_type": "code",
   "execution_count": 15,
   "id": "c24bfcde",
   "metadata": {},
   "outputs": [
    {
     "name": "stdout",
     "output_type": "stream",
     "text": [
      "5\n",
      "8\n",
      "2\n",
      "15\n",
      "1.6666666666666667\n",
      "2\n",
      "1\n",
      "125\n"
     ]
    }
   ],
   "source": [
    "# Assignment Operators\n",
    "x = 5\n",
    "print(x) # Assignment\n",
    "x = 5\n",
    "x += 3\n",
    "print(x) # x = 5 + 3\n",
    "x = 5\n",
    "x -= 3\n",
    "print(x) # x = 5 - 3\n",
    "x = 5\n",
    "x *= 3\n",
    "print(x) # x = 5 * 3\n",
    "x = 5\n",
    "x /= 3\n",
    "print(x) # x = 5 / 3\n",
    "x = 5\n",
    "x %= 3\n",
    "print(x) # x = 5 % 3 rounding off the remainder\n",
    "x = 5\n",
    "x //= 3\n",
    "print(x) # x = 5 // 3 rounding off the quotient\n",
    "x = 5\n",
    "x **= 3\n",
    "print(x) # x = 5 ** 3 == 5 * 5 * 5 = 125"
   ]
  },
  {
   "cell_type": "code",
   "execution_count": 16,
   "id": "f22f144a",
   "metadata": {},
   "outputs": [
    {
     "name": "stdout",
     "output_type": "stream",
     "text": [
      "False\n",
      "True\n",
      "True\n",
      "False\n",
      "True\n",
      "False\n"
     ]
    }
   ],
   "source": [
    "# Comparison Operator\n",
    "x = 5\n",
    "y = 3\n",
    "print(x == y) # returns False because 5 is not equal to 3\n",
    "x = 5\n",
    "y = 3\n",
    "print(x != y) # returns True because 5 is not equal to 3\n",
    "x = 5\n",
    "y = 3\n",
    "print(x > y) # returns True because 5 is greater than 3\n",
    "x = 5\n",
    "y = 3\n",
    "print(x < y) # returns False because 5 is not less than 3\n",
    "x = 5\n",
    "y = 3\n",
    "print(x >= y) # returns True because five is greater, or equal, to 3\n",
    "x = 5\n",
    "y = 3\n",
    "print(x <= y) # returns False because 5 is neither less than or equal to 3"
   ]
  },
  {
   "cell_type": "code",
   "execution_count": 23,
   "id": "ccc77219",
   "metadata": {},
   "outputs": [
    {
     "name": "stdout",
     "output_type": "stream",
     "text": [
      "True\n",
      "True\n",
      "False\n"
     ]
    }
   ],
   "source": [
    "# Logical Operator\n",
    "x = 5\n",
    "print(x > 3 and x < 10) # returns True because 5 is greater than 3 AND 5 is less than 10\n",
    "\n",
    "x = 5\n",
    "print(x > 3 or x < 4) # returns True because one of the conditions are true (5 is greater than 3, but 5 is not less than 4)\n",
    "\n",
    "x = 5\n",
    "print(not(x > 3 and x < 10)) # returns False because not is used to reverse the result"
   ]
  },
  {
   "cell_type": "code",
   "execution_count": 17,
   "id": "518a7bc3",
   "metadata": {},
   "outputs": [
    {
     "name": "stdout",
     "output_type": "stream",
     "text": [
      "True\n",
      "False\n",
      "True\n",
      "\n",
      "\n",
      "False\n",
      "True\n",
      "False\n"
     ]
    }
   ],
   "source": [
    "# Identity Operator\n",
    "x = [\"apple\", \"banana\"]\n",
    "y = [\"apple\", \"banana\"]\n",
    "z = x\n",
    "print(x is z)   # returns True because z is the same object as x\n",
    "print(x is y)   # returns False because x is not the same object as y, even if they have the same content\n",
    "print(x == y)   # to demonstrate the difference between \"is\" and \"==\": this comparison returns True because x is equal to y\n",
    "print(\"\\n\")\n",
    "\n",
    "x = [\"apple\", \"banana\"]\n",
    "y = [\"apple\", \"banana\"]\n",
    "z = x\n",
    "\n",
    "print(x is not z)  # returns False because z is the same object as x\n",
    "print(x is not y)  # returns True because x is not the same object as y, even if they have the same content\n",
    "print(x != y)  # to demonstrate the difference betweeen \"is not\" and \"!=\": this comparison returns False because x is equal to"
   ]
  },
  {
   "cell_type": "code",
   "execution_count": 18,
   "id": "25b2c948",
   "metadata": {},
   "outputs": [
    {
     "data": {
      "text/plain": [
       "139953326250176"
      ]
     },
     "execution_count": 18,
     "metadata": {},
     "output_type": "execute_result"
    }
   ],
   "source": [
    "id(x)"
   ]
  },
  {
   "cell_type": "code",
   "execution_count": 19,
   "id": "6612ace4",
   "metadata": {},
   "outputs": [
    {
     "data": {
      "text/plain": [
       "139953326250176"
      ]
     },
     "execution_count": 19,
     "metadata": {},
     "output_type": "execute_result"
    }
   ],
   "source": [
    "id(z)"
   ]
  },
  {
   "cell_type": "code",
   "execution_count": 20,
   "id": "54852a6c",
   "metadata": {},
   "outputs": [
    {
     "data": {
      "text/plain": [
       "139953326334208"
      ]
     },
     "execution_count": 20,
     "metadata": {},
     "output_type": "execute_result"
    }
   ],
   "source": [
    "id(y)"
   ]
  },
  {
   "cell_type": "code",
   "execution_count": 21,
   "id": "50a03ca1",
   "metadata": {},
   "outputs": [
    {
     "name": "stdout",
     "output_type": "stream",
     "text": [
      "False\n",
      "False\n"
     ]
    }
   ],
   "source": [
    "# Membership Operators\n",
    "x = [\"apple\", \"banana\"]\n",
    "print(\"pine\" in x)\n",
    "# returns True because a sequence with the value \"banana\" is in the list\n",
    "\n",
    "x = [\"apple\", \"banana\"]\n",
    "print(\"apple\" not in x)\n",
    "# returns True because a sequence with the value \"pineapple\" is not in the list"
   ]
  },
  {
   "cell_type": "code",
   "execution_count": 22,
   "id": "a4cc0ac9",
   "metadata": {},
   "outputs": [
    {
     "name": "stdout",
     "output_type": "stream",
     "text": [
      "0b111100\n",
      "60\n",
      "\n",
      "\n"
     ]
    }
   ],
   "source": [
    "# Bitwise Operators\n",
    "print(bin(60))\n",
    "print(int('111100',2))\n",
    "print(\"\\n\")"
   ]
  },
  {
   "cell_type": "code",
   "execution_count": 23,
   "id": "312ee863",
   "metadata": {},
   "outputs": [
    {
     "data": {
      "text/plain": [
       "'0b1101'"
      ]
     },
     "execution_count": 23,
     "metadata": {},
     "output_type": "execute_result"
    }
   ],
   "source": [
    "bin(13)"
   ]
  },
  {
   "cell_type": "code",
   "execution_count": 27,
   "id": "2d0599e7",
   "metadata": {},
   "outputs": [
    {
     "data": {
      "text/plain": [
       "'0b1100'"
      ]
     },
     "execution_count": 27,
     "metadata": {},
     "output_type": "execute_result"
    }
   ],
   "source": [
    "bin(12)"
   ]
  },
  {
   "cell_type": "code",
   "execution_count": 24,
   "id": "0d565860",
   "metadata": {},
   "outputs": [
    {
     "data": {
      "text/plain": [
       "13"
      ]
     },
     "execution_count": 24,
     "metadata": {},
     "output_type": "execute_result"
    }
   ],
   "source": [
    "int('00001101',2)"
   ]
  },
  {
   "cell_type": "code",
   "execution_count": 25,
   "id": "d173a7b7",
   "metadata": {},
   "outputs": [
    {
     "data": {
      "text/plain": [
       "12"
      ]
     },
     "execution_count": 25,
     "metadata": {},
     "output_type": "execute_result"
    }
   ],
   "source": [
    "int('00001100',2)"
   ]
  },
  {
   "cell_type": "code",
   "execution_count": 26,
   "id": "643a3428",
   "metadata": {},
   "outputs": [
    {
     "name": "stdout",
     "output_type": "stream",
     "text": [
      "Line 1 - Value of c is  12\n",
      "Line 2 - Value of c is  61\n",
      "Line 3 - Value of c is  49\n",
      "Line 4 - Value of c is  -61\n",
      "Line 5 - Value of c is  240\n",
      "Line 6 - Value of c is  15\n"
     ]
    }
   ],
   "source": [
    "a = 60            # 60 = 0011 1100\n",
    "b = 13            # 13 = 0000 1101\n",
    "c = 0\n",
    "\n",
    "c = a & b;        # 12 = 0000 1100\n",
    "print(\"Line 1 - Value of c is \", c)\n",
    "\n",
    "c = a | b;        # 61 = 0011 1101\n",
    "print(\"Line 2 - Value of c is \", c)\n",
    "\n",
    "c = a ^ b;        # 49 = 0011 0001\n",
    "print(\"Line 3 - Value of c is \", c)\n",
    "\n",
    "c = ~a;           # -61 = 1100 0011\n",
    "print(\"Line 4 - Value of c is \", c)\n",
    "\n",
    "c = a << 2;       # 240 = 1111 0000\n",
    "print(\"Line 5 - Value of c is \", c)\n",
    "\n",
    "c = a >> 2;       # 15 = 0000 1111\n",
    "print(\"Line 6 - Value of c is \", c)"
   ]
  },
  {
   "cell_type": "markdown",
   "id": "44997e71",
   "metadata": {},
   "source": [
    "### If-Elif-Else Stmts"
   ]
  },
  {
   "cell_type": "code",
   "execution_count": 28,
   "id": "ec594e10",
   "metadata": {},
   "outputs": [
    {
     "name": "stdout",
     "output_type": "stream",
     "text": [
      "b is less than a\n",
      "Hi\n"
     ]
    }
   ],
   "source": [
    "a = 37\n",
    "b = 35\n",
    "if b > a:\n",
    "    # Stmts will get executed when above condition is true\n",
    "    print(\"b is greater than a\")\n",
    "    print(\"Hello\")\n",
    "else:\n",
    "    # Stmts will get executed when above condition is false\n",
    "    print(\"b is less than a\")\n",
    "    print(\"Hi\")"
   ]
  },
  {
   "cell_type": "code",
   "execution_count": 29,
   "id": "78c4e661",
   "metadata": {},
   "outputs": [
    {
     "name": "stdout",
     "output_type": "stream",
     "text": [
      "b is greater than a\n",
      "Hello\n"
     ]
    }
   ],
   "source": [
    "a = 37\n",
    "b = 38\n",
    "if b > a:\n",
    "    # Stmts will get executed when above condition is true\n",
    "    print(\"b is greater than a\")\n",
    "    print(\"Hello\")\n",
    "elif a == b:\n",
    "    print(\"a and b are equal\")\n",
    "else:\n",
    "    # Stmts will get executed when above condition is false\n",
    "    print(\"b is less than a\")\n",
    "    print(\"Hi\")"
   ]
  },
  {
   "cell_type": "markdown",
   "id": "24d83de3",
   "metadata": {},
   "source": [
    "### Loops"
   ]
  },
  {
   "cell_type": "markdown",
   "id": "58d53711",
   "metadata": {},
   "source": [
    "### While Loop"
   ]
  },
  {
   "cell_type": "code",
   "execution_count": 30,
   "id": "7e2f741c",
   "metadata": {},
   "outputs": [
    {
     "name": "stdout",
     "output_type": "stream",
     "text": [
      "0\n",
      "1\n",
      "2\n",
      "3\n",
      "4\n",
      "5\n",
      "GoodBye\n"
     ]
    }
   ],
   "source": [
    "count = 0\n",
    "while (count <= 5):\n",
    "    print(count)\n",
    "    count = count + 1  # count += 1\n",
    "\n",
    "print(\"GoodBye\")"
   ]
  },
  {
   "cell_type": "markdown",
   "id": "95486d49",
   "metadata": {},
   "source": [
    "### for Loop"
   ]
  },
  {
   "cell_type": "code",
   "execution_count": 37,
   "id": "ca815b6d",
   "metadata": {},
   "outputs": [
    {
     "name": "stdout",
     "output_type": "stream",
     "text": [
      "0 hi\n",
      "Hello\n",
      "1 hi\n",
      "Hello\n",
      "2 hi\n",
      "Program Ends\n"
     ]
    }
   ],
   "source": [
    "# syntax of range: starting number, ending number +1, increment by\n",
    "# range(0,6,2) ==> [0,1,2,3,4,5,6,7,8,9]\n",
    "\n",
    "for x in range(0,5,1):\n",
    "    print(x, \"hi\")\n",
    "    if x == 2:\n",
    "        break\n",
    "    else:\n",
    "        print(\"Hello\")\n",
    "else:\n",
    "    print(\"all went well\")\n",
    "\n",
    "print(\"Program Ends\")"
   ]
  },
  {
   "cell_type": "code",
   "execution_count": 38,
   "id": "edf86995",
   "metadata": {},
   "outputs": [
    {
     "name": "stdout",
     "output_type": "stream",
     "text": [
      "H\n",
      "e\n",
      "l\n",
      "l\n",
      "o\n",
      ",\n",
      " \n",
      "u\n",
      "l\n",
      "d\n",
      "e\n",
      "e\n",
      "p\n"
     ]
    }
   ],
   "source": [
    "for letter in \"Hello, Kuldeep\":\n",
    "    if (letter == 'K'):\n",
    "        continue\n",
    "    print(letter)"
   ]
  },
  {
   "cell_type": "markdown",
   "id": "45f99da5",
   "metadata": {},
   "source": [
    "### Nested for loop concept"
   ]
  },
  {
   "cell_type": "code",
   "execution_count": 1,
   "id": "6cfe77b9",
   "metadata": {},
   "outputs": [
    {
     "name": "stdout",
     "output_type": "stream",
     "text": [
      "red\n",
      "red apple\n",
      "red cherry\n",
      "big\n",
      "big apple\n",
      "big cherry\n"
     ]
    }
   ],
   "source": [
    "adj = [\"red\", \"big\"] # outer loop\n",
    "fruits = [\"apple\", \"cherry\"] # inner loop\n",
    "\n",
    "for x in adj:\n",
    "    print(x)\n",
    "    for y in fruits:\n",
    "        print(x,y)"
   ]
  },
  {
   "cell_type": "markdown",
   "id": "b9585726",
   "metadata": {},
   "source": [
    "### match statement"
   ]
  },
  {
   "cell_type": "code",
   "execution_count": 31,
   "id": "b607db58",
   "metadata": {},
   "outputs": [
    {
     "ename": "SyntaxError",
     "evalue": "invalid syntax (1295780117.py, line 2)",
     "output_type": "error",
     "traceback": [
      "\u001b[0;36m  Cell \u001b[0;32mIn[31], line 2\u001b[0;36m\u001b[0m\n\u001b[0;31m    match status:\u001b[0m\n\u001b[0m          ^\u001b[0m\n\u001b[0;31mSyntaxError\u001b[0m\u001b[0;31m:\u001b[0m invalid syntax\n"
     ]
    }
   ],
   "source": [
    "status = 600\n",
    "match status:\n",
    "    case 200:\n",
    "        print('OK') \n",
    "    case 400:\n",
    "        print('Bad Request') \n",
    "    case 401 | 403 | 404:\n",
    "        print('Not Allowed')\n",
    "    case 600:\n",
    "        print(\"I am 600\")\n",
    "    case _:           # wildcard\n",
    "        print('Something is wrong')"
   ]
  },
  {
   "cell_type": "code",
   "execution_count": 11,
   "id": "f7a10893",
   "metadata": {},
   "outputs": [
    {
     "name": "stdout",
     "output_type": "stream",
     "text": [
      "Interest Rate of HDFC is 6.00%\n"
     ]
    }
   ],
   "source": [
    "def IntRate(bank):\n",
    "    match bank:\n",
    "        case 'ICICI':\n",
    "            print(\"Interest Rate of ICICI is 5.35%\")\n",
    "        case 'YESBANK':\n",
    "            print(\"Interest Rate of YB is 6.50%\")\n",
    "        case 'HDFC':\n",
    "            print(\"Interest Rate of HDFC is 6.00%\")\n",
    "        case _:\n",
    "            print(\"Interest Rate of ICICI is 5.00%\")\n",
    "\n",
    "IntRate('HDFC')"
   ]
  },
  {
   "cell_type": "code",
   "execution_count": 41,
   "id": "650a0079",
   "metadata": {},
   "outputs": [
    {
     "name": "stdout",
     "output_type": "stream",
     "text": [
      "My jackets button is broken\n"
     ]
    }
   ],
   "source": [
    "print(\"My jackets button is broken\")"
   ]
  },
  {
   "cell_type": "code",
   "execution_count": 42,
   "id": "663279f8",
   "metadata": {},
   "outputs": [
    {
     "name": "stdout",
     "output_type": "stream",
     "text": [
      "10\n"
     ]
    }
   ],
   "source": [
    "x = 10\n",
    "print(x)"
   ]
  },
  {
   "cell_type": "code",
   "execution_count": 32,
   "id": "7540deb0",
   "metadata": {},
   "outputs": [
    {
     "ename": "SyntaxError",
     "evalue": "'break' outside loop (2671448776.py, line 7)",
     "output_type": "error",
     "traceback": [
      "\u001b[0;36m  Cell \u001b[0;32mIn[32], line 7\u001b[0;36m\u001b[0m\n\u001b[0;31m    break            # Line 7\u001b[0m\n\u001b[0m    ^\u001b[0m\n\u001b[0;31mSyntaxError\u001b[0m\u001b[0;31m:\u001b[0m 'break' outside loop\n"
     ]
    }
   ],
   "source": [
    "x='Edureka'\n",
    "if(type(x) is str):\n",
    "    x=x+' '+\"rocks\"  # Line 3\n",
    "    print('hello')\n",
    "else:\n",
    "    x=x+' '+'Python'\n",
    "    break            # Line 7\n",
    "    print('hi')\n",
    "print(x)"
   ]
  },
  {
   "cell_type": "code",
   "execution_count": null,
   "id": "f3149956",
   "metadata": {},
   "outputs": [],
   "source": [
    "x=True\n",
    "y=5\n",
    "while (x):\n",
    "    while((y-1)>0):\n",
    "        print(x,y)\n",
    "        break\n",
    "    continue\n",
    "    print('hello')\n",
    "    x=False\n",
    "print('End')"
   ]
  },
  {
   "cell_type": "code",
   "execution_count": 37,
   "id": "3ba0725d",
   "metadata": {},
   "outputs": [
    {
     "name": "stdout",
     "output_type": "stream",
     "text": [
      "1\n",
      "hello\n"
     ]
    }
   ],
   "source": [
    "for i in range(1,3):\n",
    "    # print(i)\n",
    "    # break\n",
    "    if(i%2==0):\n",
    "        for j in range(i,2):\n",
    "            print('hi')\n",
    "        else:\n",
    "            print('hello')\n",
    "    else:\n",
    "        for j in range(i,3):\n",
    "            pass\n",
    "        else:\n",
    "            print(i)"
   ]
  },
  {
   "cell_type": "code",
   "execution_count": null,
   "id": "baaac75a",
   "metadata": {},
   "outputs": [],
   "source": [
    "import os\n",
    "os.ar"
   ]
  }
 ],
 "metadata": {
  "kernelspec": {
   "display_name": "envStats",
   "language": "python",
   "name": "python3"
  },
  "language_info": {
   "codemirror_mode": {
    "name": "ipython",
    "version": 3
   },
   "file_extension": ".py",
   "mimetype": "text/x-python",
   "name": "python",
   "nbconvert_exporter": "python",
   "pygments_lexer": "ipython3",
   "version": "3.8.10"
  },
  "vscode": {
   "interpreter": {
    "hash": "58fa1f7aa14d8339791a77547581425ea6799aa95bb62a4c4579ede0ef3a661d"
   }
  }
 },
 "nbformat": 4,
 "nbformat_minor": 5
}
