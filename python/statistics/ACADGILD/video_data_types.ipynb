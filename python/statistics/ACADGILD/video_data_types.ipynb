{
 "cells": [
  {
   "cell_type": "code",
   "execution_count": 1,
   "metadata": {},
   "outputs": [],
   "source": [
    "import numpy as np\n",
    "import pandas as pd\n",
    "import matplotlib.pyplot as plt\n",
    "import seaborn as sns\n",
    "import scipy.stats as stats     \n",
    "%matplotlib inline"
   ]
  },
  {
   "cell_type": "code",
   "execution_count": 2,
   "metadata": {},
   "outputs": [
    {
     "data": {
      "text/plain": [
       "array([0, 1, 2, 3])"
      ]
     },
     "execution_count": 2,
     "metadata": {},
     "output_type": "execute_result"
    }
   ],
   "source": [
    "# Numerical . discrete\n",
    "\n",
    "np.unique(np.random.randint(0,4,100))"
   ]
  },
  {
   "cell_type": "code",
   "execution_count": 3,
   "metadata": {},
   "outputs": [
    {
     "data": {
      "text/plain": [
       "(array([21.,  0.,  0., 29.,  0.,  0., 22.,  0.,  0., 28.]),\n",
       " array([0. , 0.3, 0.6, 0.9, 1.2, 1.5, 1.8, 2.1, 2.4, 2.7, 3. ]),\n",
       " <BarContainer object of 10 artists>)"
      ]
     },
     "execution_count": 3,
     "metadata": {},
     "output_type": "execute_result"
    },
    {
     "data": {
      "image/png": "[encoded data removed]",
      "text/plain": [
       "<Figure size 640x480 with 1 Axes>"
      ]
     },
     "metadata": {},
     "output_type": "display_data"
    }
   ],
   "source": [
    "plt.hist(np.random.randint(0,4,100))"
   ]
  },
  {
   "cell_type": "code",
   "execution_count": 4,
   "metadata": {},
   "outputs": [],
   "source": [
    "# continuos variable\n",
    "import scipy.stats as stats\n",
    "\n",
    "mu = 20\n",
    "sigma = 2\n",
    "h = sorted(np.random.normal(mu, sigma, 100))"
   ]
  },
  {
   "cell_type": "code",
   "execution_count": 5,
   "metadata": {},
   "outputs": [
    {
     "data": {
      "text/plain": [
       "[16.047867310856052,\n",
       " 16.137292348145156,\n",
       " 16.306480875507795,\n",
       " 16.665548496556557,\n",
       " 17.018525588801772,\n",
       " 17.18757974007836,\n",
       " 17.402086823483224,\n",
       " 17.428995819865087,\n",
       " 17.477322184028036,\n",
       " 17.537431719698738,\n",
       " 17.551555403096316,\n",
       " 17.73937272709559,\n",
       " 17.848387013356643,\n",
       " 17.861836592997175,\n",
       " 17.903898781381468,\n",
       " 18.098574662978947,\n",
       " 18.105254383761988,\n",
       " 18.17821814024881,\n",
       " 18.233218787598222,\n",
       " 18.24323069142128,\n",
       " 18.331714036791983,\n",
       " 18.436510665753367,\n",
       " 18.581226580244365,\n",
       " 18.590981817622964,\n",
       " 18.700621750853728,\n",
       " 18.717476695111678,\n",
       " 18.750663174700943,\n",
       " 18.76728338247963,\n",
       " 18.769228734013428,\n",
       " 18.7799769219695,\n",
       " 18.820256943127855,\n",
       " 18.901741915614256,\n",
       " 18.904022619004,\n",
       " 18.936759536254765,\n",
       " 18.957835113794882,\n",
       " 18.982868645027352,\n",
       " 19.063682677072965,\n",
       " 19.09583439277169,\n",
       " 19.169929253449595,\n",
       " 19.192423107686118,\n",
       " 19.196455095824604,\n",
       " 19.30338136935109,\n",
       " 19.473208145170634,\n",
       " 19.50181528073974,\n",
       " 19.521610816288018,\n",
       " 19.54822361092101,\n",
       " 19.579934343358683,\n",
       " 19.629370803162228,\n",
       " 19.695841257754655,\n",
       " 19.764082944354485,\n",
       " 20.01871525641387,\n",
       " 20.025550191194363,\n",
       " 20.038237433442273,\n",
       " 20.05802088065894,\n",
       " 20.096972133332766,\n",
       " 20.10966121930414,\n",
       " 20.22606348242335,\n",
       " 20.29701293034493,\n",
       " 20.357419072481715,\n",
       " 20.37498164766269,\n",
       " 20.405332366697778,\n",
       " 20.4240093374008,\n",
       " 20.50453286971986,\n",
       " 20.52992644185305,\n",
       " 20.874886835479533,\n",
       " 21.04122286265533,\n",
       " 21.05953700034963,\n",
       " 21.087423691399497,\n",
       " 21.15924519258551,\n",
       " 21.200730219360235,\n",
       " 21.303439285171677,\n",
       " 21.337898773889208,\n",
       " 21.36351946941871,\n",
       " 21.5036052749877,\n",
       " 21.53024731997698,\n",
       " 21.552902532537694,\n",
       " 21.60711537270907,\n",
       " 21.71433369680276,\n",
       " 21.74867538463514,\n",
       " 21.794660047358693,\n",
       " 21.833089955344242,\n",
       " 21.83900516786579,\n",
       " 21.916972744549817,\n",
       " 22.020171157093884,\n",
       " 22.061296211087193,\n",
       " 22.110310372014037,\n",
       " 22.21891913296522,\n",
       " 22.396223036491833,\n",
       " 22.485861455577947,\n",
       " 22.488515477588415,\n",
       " 22.674405626410834,\n",
       " 22.856197083492447,\n",
       " 22.865081188081437,\n",
       " 22.89154710651093,\n",
       " 22.954947177311656,\n",
       " 23.119650312891995,\n",
       " 23.52013736210759,\n",
       " 23.544077856045956,\n",
       " 23.554519153232167,\n",
       " 25.13884508429883]"
      ]
     },
     "execution_count": 5,
     "metadata": {},
     "output_type": "execute_result"
    }
   ],
   "source": [
    "h"
   ]
  }
 ],
 "metadata": {
  "kernelspec": {
   "display_name": "venvdt",
   "language": "python",
   "name": "python3"
  },
  "language_info": {
   "codemirror_mode": {
    "name": "ipython",
    "version": 3
   },
   "file_extension": ".py",
   "mimetype": "text/x-python",
   "name": "python",
   "nbconvert_exporter": "python",
   "pygments_lexer": "ipython3",
   "version": "3.8.10"
  },
  "orig_nbformat": 4,
  "vscode": {
   "interpreter": {
    "hash": "0dcc85c4f71229b6099eb35aa11e58cece2d49f14a132d07237ed49196d88abb"
   }
  }
 },
 "nbformat": 4,
 "nbformat_minor": 2
}
