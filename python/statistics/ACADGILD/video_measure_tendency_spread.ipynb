{
 "cells": [
  {
   "cell_type": "code",
   "execution_count": 14,
   "metadata": {},
   "outputs": [],
   "source": [
    "# Spread: Propagacion.\n",
    "# Measures of spread describe how similar or varied the set of observed \n",
    "# values are for a particular variable (data item). Measures of spread include the range, \n",
    "# quartiles and the interquartile range, variance and standard deviation.\n",
    "\n",
    "import numpy as np\n",
    "from statistics import mode\n",
    "import matplotlib.pyplot as ptl"
   ]
  },
  {
   "cell_type": "code",
   "execution_count": 15,
   "metadata": {},
   "outputs": [
    {
     "data": {
      "text/plain": [
       "array([6, 3, 1, 3, 9, 9, 4, 2, 9, 8, 7, 7, 6, 2, 1, 3, 3, 1, 4, 4, 9, 2,\n",
       "       6, 4, 5, 4, 1, 2, 2, 3])"
      ]
     },
     "execution_count": 15,
     "metadata": {},
     "output_type": "execute_result"
    }
   ],
   "source": [
    "n = np.random.randint(1,10,30)\n",
    "n"
   ]
  },
  {
   "cell_type": "code",
   "execution_count": 16,
   "metadata": {},
   "outputs": [
    {
     "data": {
      "text/plain": [
       "8"
      ]
     },
     "execution_count": 16,
     "metadata": {},
     "output_type": "execute_result"
    }
   ],
   "source": [
    "# range\n",
    "np.max(n) - np.min(n)"
   ]
  },
  {
   "cell_type": "code",
   "execution_count": 17,
   "metadata": {},
   "outputs": [
    {
     "name": "stdout",
     "output_type": "stream",
     "text": [
      "first quartile - Q1 2.0\n",
      "second quartile - Q2 4.0\n",
      "third quartile - Q3  6.0\n",
      "Inter quartile 4.0\n"
     ]
    }
   ],
   "source": [
    "# quartiles\n",
    "print(\"first quartile - Q1\", np.percentile(n,25))\n",
    "print(\"second quartile - Q2\",np.percentile(n,50))\n",
    "print(\"third quartile - Q3 \",np.percentile(n,75))\n",
    "print(\"Inter quartile\", np.percentile(n,75)-np.percentile(n,25))"
   ]
  },
  {
   "cell_type": "code",
   "execution_count": 18,
   "metadata": {},
   "outputs": [
    {
     "data": {
      "text/plain": [
       "array([-1.11327895, -2.93348354,  0.71262088,  0.97698099,  0.899451  ,\n",
       "        2.13463312,  1.64076697,  0.393133  ,  0.23054993, -1.66275579,\n",
       "        0.59190688, -0.32712332, -0.20400067, -1.52161767, -0.19197777,\n",
       "       -0.59646156,  0.14811473,  0.59681127, -0.31038946, -0.82054493,\n",
       "       -1.22976641,  0.48556205,  0.40129407, -0.12201537, -0.55396487,\n",
       "        0.29907397,  0.60562742,  0.83844495,  0.92006585,  0.63990054,\n",
       "        0.50895163, -0.05209328, -1.11721014,  1.05206265,  0.39885927,\n",
       "        2.19373943, -0.857423  , -0.77859035, -0.10145695, -0.06946547,\n",
       "       -0.21026687,  0.48981305,  1.10808344,  0.03157548,  2.38683678,\n",
       "        0.5041394 , -2.50799868, -0.87313746,  0.7425017 , -0.32165791,\n",
       "       -0.79174179,  0.65613331,  0.61255444, -1.49312813,  0.38855438,\n",
       "       -0.52120401,  0.59968656, -0.09288002, -1.39947423,  0.79708873,\n",
       "       -1.94435738, -1.68011242, -0.46048853,  0.5705739 ,  0.84001307,\n",
       "        0.89762315, -0.23692159, -0.52486299, -2.33560894, -1.41534567,\n",
       "       -1.21760652, -0.93132654, -1.29341661,  0.84416895, -1.85516849,\n",
       "        1.83362928, -1.52883804,  0.55899205, -0.49990088,  1.09806068,\n",
       "       -1.02464878,  1.26623959,  1.48091972, -0.92233127,  0.57718727,\n",
       "       -0.04956649, -0.57581317, -1.40176122, -0.03334661, -1.97386656,\n",
       "        0.22953144, -0.37283104,  0.41328829,  1.03037858,  0.45964478,\n",
       "        1.36801865, -1.06574196, -0.79645797,  1.32611908, -0.60481518])"
      ]
     },
     "execution_count": 18,
     "metadata": {},
     "output_type": "execute_result"
    }
   ],
   "source": [
    "population = np.random.randn(100)\n",
    "population"
   ]
  },
  {
   "cell_type": "code",
   "execution_count": 19,
   "metadata": {},
   "outputs": [
    {
     "data": {
      "text/plain": [
       "array([ 0.41328829,  0.23054993,  1.48091972,  0.59190688, -0.37283104,\n",
       "       -0.46048853, -0.19197777,  0.79708873,  0.7425017 ,  1.26623959,\n",
       "        0.48981305,  0.5705739 , -0.31038946,  1.48091972, -2.50799868,\n",
       "        0.83844495,  0.40129407, -0.60481518,  1.03037858,  0.84416895])"
      ]
     },
     "execution_count": 19,
     "metadata": {},
     "output_type": "execute_result"
    }
   ],
   "source": [
    "sample = np.random.choice(population, 20)\n",
    "sample"
   ]
  },
  {
   "cell_type": "code",
   "execution_count": 21,
   "metadata": {},
   "outputs": [
    {
     "data": {
      "text/plain": [
       "1.1361670382733373"
      ]
     },
     "execution_count": 21,
     "metadata": {},
     "output_type": "execute_result"
    }
   ],
   "source": [
    "# variance\n",
    "np.var(population)"
   ]
  },
  {
   "cell_type": "code",
   "execution_count": 22,
   "metadata": {},
   "outputs": [
    {
     "data": {
      "text/plain": [
       "0.7915061644836711"
      ]
     },
     "execution_count": 22,
     "metadata": {},
     "output_type": "execute_result"
    }
   ],
   "source": [
    "# variance\n",
    "np.var(sample)"
   ]
  },
  {
   "cell_type": "code",
   "execution_count": 25,
   "metadata": {},
   "outputs": [
    {
     "name": "stdout",
     "output_type": "stream",
     "text": [
      "the mean is: 6.6\n",
      "the variance is: 13.84\n",
      "the standard deviation is: 3.7202150475476548\n"
     ]
    }
   ],
   "source": [
    "# Let’s calculate the variance of the follow data set: 2, 7, 3, 12, 9.\n",
    "# The first step is to calculate the mean. The sum is 33 and there are 5 data points. \n",
    "# Therefore, the mean is 33 ÷ 5 = 6.6. Then you take each value in data set, subtract the mean \n",
    "# and square the difference. For instance, for the first value:\n",
    "# (2 - 6.6)2  = 21.16\n",
    "# The squared differences for all values are added:\n",
    "# 21.16 + 0.16 + 12.96 + 29.16 + 5.76 = 69.20\n",
    "# The sum is then divided by the number of data points:\n",
    "# 69.20 ÷5 = 13.84\n",
    "# The variance is 13.84. To get the standard deviation, you calculate the square \n",
    "# root of the variance, which is 3.72.\n",
    "\n",
    "v = [2, 7, 3, 12, 9]\n",
    "print(\"the mean is:\", np.mean(v))\n",
    "print(\"the variance is:\", np.var(v))\n",
    "print(\"the standard deviation is:\", np.std(v))"
   ]
  },
  {
   "cell_type": "code",
   "execution_count": 28,
   "metadata": {},
   "outputs": [
    {
     "name": "stdout",
     "output_type": "stream",
     "text": [
      "the variance is:  1.1361670382733373\n",
      "the standard deviation is:  1.0659113651112542\n"
     ]
    }
   ],
   "source": [
    "# standart deviation\n",
    "print(\"the variance is: \", np.var(population))\n",
    "print(\"the standard deviation is: \", np.std(population))"
   ]
  }
 ],
 "metadata": {
  "kernelspec": {
   "display_name": "envStats",
   "language": "python",
   "name": "python3"
  },
  "language_info": {
   "codemirror_mode": {
    "name": "ipython",
    "version": 3
   },
   "file_extension": ".py",
   "mimetype": "text/x-python",
   "name": "python",
   "nbconvert_exporter": "python",
   "pygments_lexer": "ipython3",
   "version": "3.8.10 (default, Nov 14 2022, 12:59:47) \n[GCC 9.4.0]"
  },
  "orig_nbformat": 4,
  "vscode": {
   "interpreter": {
    "hash": "58fa1f7aa14d8339791a77547581425ea6799aa95bb62a4c4579ede0ef3a661d"
   }
  }
 },
 "nbformat": 4,
 "nbformat_minor": 2
}
