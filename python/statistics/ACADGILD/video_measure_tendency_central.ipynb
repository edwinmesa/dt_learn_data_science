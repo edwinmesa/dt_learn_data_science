{
 "cells": [
  {
   "cell_type": "code",
   "execution_count": 40,
   "metadata": {},
   "outputs": [],
   "source": [
    "import numpy as np\n",
    "from statistics import mode\n",
    "import matplotlib.pyplot as ptl\n",
    "\n",
    "# A measure of central tendency (also referred to as measures of centre or central location) \n",
    "# is a summary measure that attempts to describe a whole set of data with a single value that \n",
    "# represents the middle or centre of its distribution.\n",
    "\n",
    "# There are three main measures of central tendency: the mode, the median and the mean. \n",
    "# Each of these measures describes a different indication \n",
    "# of the typical or central value in the distribution."
   ]
  },
  {
   "cell_type": "code",
   "execution_count": 41,
   "metadata": {},
   "outputs": [
    {
     "name": "stdout",
     "output_type": "stream",
     "text": [
      "[8 8 8 7 8 8 9 9 9 7 8 7 8 7 9 7 8 8 8 8]\n"
     ]
    }
   ],
   "source": [
    "m = np.random.randint(7,10,20)\n",
    "print(m)"
   ]
  },
  {
   "cell_type": "code",
   "execution_count": 42,
   "metadata": {},
   "outputs": [
    {
     "data": {
      "text/plain": [
       "7.95"
      ]
     },
     "execution_count": 42,
     "metadata": {},
     "output_type": "execute_result"
    }
   ],
   "source": [
    "# mean\n",
    "# def mean(x):\n",
    "#     return sum(x) / len(x)\n",
    "\n",
    "np.mean(m)"
   ]
  },
  {
   "cell_type": "code",
   "execution_count": 43,
   "metadata": {},
   "outputs": [
    {
     "data": {
      "text/plain": [
       "8.0"
      ]
     },
     "execution_count": 43,
     "metadata": {},
     "output_type": "execute_result"
    }
   ],
   "source": [
    "# mediam\n",
    "# the middle value in distribution \n",
    "np.median(m)\n"
   ]
  },
  {
   "cell_type": "code",
   "execution_count": 44,
   "metadata": {},
   "outputs": [
    {
     "data": {
      "text/plain": [
       "8"
      ]
     },
     "execution_count": 44,
     "metadata": {},
     "output_type": "execute_result"
    }
   ],
   "source": [
    "# mode\n",
    "# the most commonly occurring value in a distribution\n",
    "mode(m)"
   ]
  },
  {
   "cell_type": "code",
   "execution_count": 45,
   "metadata": {},
   "outputs": [
    {
     "data": {
      "text/plain": [
       "array([19, 12, 17, 12, 15, 13, 15, 10, 16, 17, 13, 16, 19, 10, 15, 17, 11,\n",
       "       11, 15, 19, 13, 13, 13, 15, 12, 15, 14, 18, 17, 19, 16, 19, 11, 12,\n",
       "       11, 10, 18, 18, 19, 16, 19, 11, 13, 19, 17, 15, 14, 12, 10, 17, 15,\n",
       "       11, 11, 17, 12, 10, 10, 10, 17, 11, 10, 13, 18, 16, 14, 15, 12, 12,\n",
       "       10, 11, 15, 18, 10, 15, 19, 19, 14, 19, 15, 16, 16, 15, 11, 10, 17,\n",
       "       17, 12, 16, 10, 13, 10, 15, 14, 13, 12, 10, 12, 17, 18, 17])"
      ]
     },
     "execution_count": 45,
     "metadata": {},
     "output_type": "execute_result"
    }
   ],
   "source": [
    "# Population\n",
    "population = np.random.randint(10, 20, 100)\n",
    "population"
   ]
  },
  {
   "cell_type": "code",
   "execution_count": 46,
   "metadata": {},
   "outputs": [
    {
     "data": {
      "text/plain": [
       "14.28"
      ]
     },
     "execution_count": 46,
     "metadata": {},
     "output_type": "execute_result"
    }
   ],
   "source": [
    "# mean population\n",
    "np.mean(population)"
   ]
  },
  {
   "cell_type": "code",
   "execution_count": 47,
   "metadata": {},
   "outputs": [
    {
     "data": {
      "text/plain": [
       "4.0"
      ]
     },
     "execution_count": 47,
     "metadata": {},
     "output_type": "execute_result"
    }
   ],
   "source": [
    "# median\n",
    "a = [1,2,3,4,5,6,7,7,6,5,4,3,2,1]\n",
    "mode(a)\n",
    "np.median(a)"
   ]
  },
  {
   "cell_type": "code",
   "execution_count": 48,
   "metadata": {},
   "outputs": [
    {
     "data": {
      "text/plain": [
       "15.0"
      ]
     },
     "execution_count": 48,
     "metadata": {},
     "output_type": "execute_result"
    }
   ],
   "source": [
    "# mediam population\n",
    "np.median(population)"
   ]
  },
  {
   "cell_type": "code",
   "execution_count": 49,
   "metadata": {},
   "outputs": [
    {
     "data": {
      "text/plain": [
       "15"
      ]
     },
     "execution_count": 49,
     "metadata": {},
     "output_type": "execute_result"
    }
   ],
   "source": [
    "# mode population\n",
    "mode(population)"
   ]
  },
  {
   "cell_type": "code",
   "execution_count": 50,
   "metadata": {},
   "outputs": [
    {
     "data": {
      "text/plain": [
       "array([15, 14, 17, 18, 15, 19, 15, 13, 11, 11, 16, 16, 15, 17, 11, 18, 13,\n",
       "       18, 15, 19])"
      ]
     },
     "execution_count": 50,
     "metadata": {},
     "output_type": "execute_result"
    }
   ],
   "source": [
    "sample = np.random.choice(population, 20)\n",
    "sample"
   ]
  },
  {
   "cell_type": "code",
   "execution_count": 51,
   "metadata": {},
   "outputs": [
    {
     "name": "stdout",
     "output_type": "stream",
     "text": [
      "15.3\n",
      "15.0\n",
      "15\n"
     ]
    }
   ],
   "source": [
    "# print all variables\n",
    "print(np.mean(sample))\n",
    "print(np.median(sample))\n",
    "print(mode(sample))"
   ]
  },
  {
   "cell_type": "code",
   "execution_count": 52,
   "metadata": {},
   "outputs": [],
   "source": [
    "sample1 = np.random.choice(population, 15)\n",
    "sample2 = np.random.choice(population, 15)\n",
    "sample3 = np.random.choice(population, 15)\n",
    "sample4 = np.random.choice(population, 15)"
   ]
  },
  {
   "cell_type": "code",
   "execution_count": 53,
   "metadata": {},
   "outputs": [
    {
     "data": {
      "text/plain": [
       "[14.4, 16.133333333333333, 13.8, 13.8]"
      ]
     },
     "execution_count": 53,
     "metadata": {},
     "output_type": "execute_result"
    }
   ],
   "source": [
    "# join examples\n",
    "all_samples = [sample1, sample2, sample3, sample4]\n",
    "sample_mean = []\n",
    "for i in all_samples:\n",
    "    sample_mean.append(np.mean(i))\n",
    "\n",
    "sample_mean"
   ]
  },
  {
   "cell_type": "code",
   "execution_count": null,
   "metadata": {},
   "outputs": [],
   "source": []
  }
 ],
 "metadata": {
  "kernelspec": {
   "display_name": "envStats",
   "language": "python",
   "name": "python3"
  },
  "language_info": {
   "codemirror_mode": {
    "name": "ipython",
    "version": 3
   },
   "file_extension": ".py",
   "mimetype": "text/x-python",
   "name": "python",
   "nbconvert_exporter": "python",
   "pygments_lexer": "ipython3",
   "version": "3.8.10 (default, Nov 14 2022, 12:59:47) \n[GCC 9.4.0]"
  },
  "orig_nbformat": 4,
  "vscode": {
   "interpreter": {
    "hash": "58fa1f7aa14d8339791a77547581425ea6799aa95bb62a4c4579ede0ef3a661d"
   }
  }
 },
 "nbformat": 4,
 "nbformat_minor": 2
}
