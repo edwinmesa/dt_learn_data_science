{
 "cells": [
  {
   "attachments": {},
   "cell_type": "markdown",
   "metadata": {},
   "source": [
    "#####\n",
    "This is a demo task.\n",
    "\n",
    "Write a function:\n",
    "\n",
    "def solution(A)\n",
    "\n",
    "that, given an array A of N integers, returns the smallest positive integer (greater than 0) that does not occur in A.\n",
    "\n",
    "For example, given A = [1, 3, 6, 4, 1, 2], the function should return 5.\n",
    "\n",
    "Given A = [1, 2, 3], the function should return 4.\n",
    "\n",
    "Given A = [−1, −3], the function should return 1.\n",
    "\n",
    "Write an efficient algorithm for the following assumptions:\n",
    "\n",
    "N is an integer within the range [1..100,000];\n",
    "each element of array A is an integer within the range [−1,000,000..1,000,000]."
   ]
  },
  {
   "cell_type": "code",
   "execution_count": 10,
   "metadata": {},
   "outputs": [],
   "source": [
    "# you can write to stdout for debugging purposes, e.g.\n",
    "# print(\"this is a debug message\")\n",
    "\n",
    "def solution(A):\n",
    "    # Implement your solution here\n",
    "    # pass\n",
    "    m = max(A)\n",
    "    if m<= 0:\n",
    "        return 1\n",
    "    value_smallest = set(e for e in range(1, m+2))-set(A)\n",
    "    return min(value_smallest)    "
   ]
  },
  {
   "attachments": {},
   "cell_type": "markdown",
   "metadata": {},
   "source": [
    "##### testing"
   ]
  },
  {
   "cell_type": "code",
   "execution_count": 74,
   "metadata": {},
   "outputs": [
    {
     "name": "stdout",
     "output_type": "stream",
     "text": [
      "1\n",
      "2\n"
     ]
    }
   ],
   "source": [
    "# a = [1, 2, 3, 4, 5, 7, 6, 10]\n",
    "# a = [-2, -3]\n",
    "# a = [1,2,4]\n",
    "# m = max(a)\n",
    "# print(m)\n",
    "# value_smallest = set(e for e in range(1, m+2))-set(a)\n",
    "# print ((value_smallest))\n",
    "\n",
    "A = [x for x in a if x > 0]\n",
    "# print(A)\n",
    "A = sorted(A)\n",
    "# print(A)\n",
    "# def a(A):\n",
    "#     if 1 not in A:\n",
    "#         return 1\n",
    "# a(A)\n",
    "a = [1,2,4]\n",
    "for i in range(0, len(A) -1): # range 0,1 \n",
    "    # print(i)\n",
    "    print(A[i+1] - A[i])\n",
    "    # if A[i+1] - A[i] > 1:\n",
    "    #     print(A[i+1] )\n",
    "        #     return A[i] + 1\n",
    "    # return max(A) + 1  \n"
   ]
  },
  {
   "cell_type": "code",
   "execution_count": 7,
   "metadata": {},
   "outputs": [
    {
     "name": "stdout",
     "output_type": "stream",
     "text": [
      "3\n"
     ]
    },
    {
     "data": {
      "text/plain": [
       "4"
      ]
     },
     "execution_count": 7,
     "metadata": {},
     "output_type": "execute_result"
    }
   ],
   "source": [
    "c = [1,2,3,5]\n",
    "def solutionb(B):\n",
    "    A = [x for x in B if x > 0] # remove negative numbers\n",
    "    A = sorted(A)   # order\n",
    "    if 1 not in A:\n",
    "        return 1\n",
    "    for i in range(0, len(A) -1): # range between 0 and len list\n",
    "        if A[i+1] - A[i] > 1:     # \n",
    "            print(A[i])\n",
    "            return A[i] + 1\n",
    "    return max(A) + 1            \n",
    "\n",
    "\n",
    "\n",
    "solutionb(c)"
   ]
  },
  {
   "cell_type": "code",
   "execution_count": 65,
   "metadata": {},
   "outputs": [
    {
     "name": "stdout",
     "output_type": "stream",
     "text": [
      "0\n",
      "1\n"
     ]
    }
   ],
   "source": [
    "c = [1,2,4]\n",
    "# range(0, len(c) -1)\n",
    "for i in range(0, len(A) -1):\n",
    "    print(i)"
   ]
  }
 ],
 "metadata": {
  "kernelspec": {
   "display_name": "tensf",
   "language": "python",
   "name": "python3"
  },
  "language_info": {
   "codemirror_mode": {
    "name": "ipython",
    "version": 3
   },
   "file_extension": ".py",
   "mimetype": "text/x-python",
   "name": "python",
   "nbconvert_exporter": "python",
   "pygments_lexer": "ipython3",
   "version": "3.10.8"
  },
  "orig_nbformat": 4,
  "vscode": {
   "interpreter": {
    "hash": "3e313d1f24da57a081eee6b594756086e5e54161d7342791616a06970af18016"
   }
  }
 },
 "nbformat": 4,
 "nbformat_minor": 2
}
