{
 "cells": [
  {
   "cell_type": "code",
   "execution_count": 1,
   "metadata": {},
   "outputs": [],
   "source": [
    "import numpy as np\n",
    "import pandas as pd\n",
    "import os "
   ]
  },
  {
   "cell_type": "code",
   "execution_count": 2,
   "metadata": {},
   "outputs": [
    {
     "name": "stdout",
     "output_type": "stream",
     "text": [
      "/home/pydev/workflow/dt_learn_data_science/edureka/ML-Practices/petrol_consumption.csv\n",
      "/home/pydev/workflow/dt_learn_data_science/edureka/ML-Practices/sales_prediction_regression_models.ipynb\n",
      "/home/pydev/workflow/dt_learn_data_science/edureka/ML-Practices/linear_regression_scikitLearn.ipynb\n",
      "/home/pydev/workflow/dt_learn_data_science/edureka/ML-Practices/linear_regression_fit_dummyData.ipynb\n",
      "/home/pydev/workflow/dt_learn_data_science/edureka/ML-Practices/sales_prediction_linear_regression.ipynb\n",
      "/home/pydev/workflow/dt_learn_data_science/edureka/ML-Practices/Dummy Data HSS.csv\n",
      "/home/pydev/workflow/dt_learn_data_science/edureka/ML-Practices/advertising.csv\n",
      "/home/pydev/workflow/dt_learn_data_science/edureka/ML-Practices/student_scores.csv\n"
     ]
    }
   ],
   "source": [
    "for dirname, _, filenames in os.walk('/home/pydev/workflow/dt_learn_data_science/edureka/ML-Practices'):\n",
    "    for filename in filenames:\n",
    "        print(os.path.join(dirname, filename))"
   ]
  },
  {
   "cell_type": "code",
   "execution_count": 3,
   "metadata": {},
   "outputs": [],
   "source": [
    "# Business Problems\n",
    "# For example:\n",
    "\n",
    "# How should we allocate our limited marketing budget for next year?\n",
    "# What type on influencers should we focus on?\n",
    "# Can we cut budget from TV, as it is too expensive?\n",
    "# Finally, set your assumptions of the marketing budget and influencer (if any). \n",
    "# Can you try to predict the expected sales based on the best ML model?"
   ]
  },
  {
   "cell_type": "code",
   "execution_count": 4,
   "metadata": {},
   "outputs": [],
   "source": [
    "import pandas as pd\n",
    "import numpy as np\n",
    "import matplotlib.pyplot as plt\n",
    "import seaborn as sns\n",
    "from sklearn.model_selection import train_test_split\n",
    "from sklearn.linear_model import LinearRegression\n",
    "from sklearn.ensemble import RandomForestRegressor\n",
    "from sklearn.svm import SVR\n",
    "from sklearn.tree import DecisionTreeRegressor\n",
    "from sklearn.preprocessing import PolynomialFeatures\n",
    "from sklearn.preprocessing import StandardScaler\n",
    "from sklearn.metrics import r2_score\n",
    "from sklearn.metrics import mean_squared_error as mse\n",
    "from sklearn.metrics import mean_absolute_error, mean_squared_error"
   ]
  },
  {
   "cell_type": "code",
   "execution_count": 5,
   "metadata": {},
   "outputs": [],
   "source": [
    "df = pd.read_csv('/home/pydev/workflow/dt_learn_data_science/edureka/ML-Practices/Dummy Data HSS.csv')"
   ]
  },
  {
   "cell_type": "code",
   "execution_count": 6,
   "metadata": {},
   "outputs": [
    {
     "name": "stdout",
     "output_type": "stream",
     "text": [
      "<class 'pandas.core.frame.DataFrame'>\n",
      "RangeIndex: 4572 entries, 0 to 4571\n",
      "Data columns (total 5 columns):\n",
      " #   Column        Non-Null Count  Dtype  \n",
      "---  ------        --------------  -----  \n",
      " 0   TV            4562 non-null   float64\n",
      " 1   Radio         4568 non-null   float64\n",
      " 2   Social Media  4566 non-null   float64\n",
      " 3   Influencer    4572 non-null   object \n",
      " 4   Sales         4566 non-null   float64\n",
      "dtypes: float64(4), object(1)\n",
      "memory usage: 178.7+ KB\n"
     ]
    }
   ],
   "source": [
    "df.info()"
   ]
  },
  {
   "cell_type": "code",
   "execution_count": 7,
   "metadata": {},
   "outputs": [
    {
     "name": "stdout",
     "output_type": "stream",
     "text": [
      "<class 'pandas.core.frame.DataFrame'>\n",
      "RangeIndex: 4572 entries, 0 to 4571\n",
      "Data columns (total 5 columns):\n",
      " #   Column        Non-Null Count  Dtype  \n",
      "---  ------        --------------  -----  \n",
      " 0   TV            4572 non-null   float64\n",
      " 1   Radio         4572 non-null   float64\n",
      " 2   Social Media  4572 non-null   float64\n",
      " 3   Influencer    4572 non-null   object \n",
      " 4   Sales         4572 non-null   float64\n",
      "dtypes: float64(4), object(1)\n",
      "memory usage: 178.7+ KB\n"
     ]
    }
   ],
   "source": [
    "df = df.fillna(df.mean(numeric_only=True))\n",
    "df.info()"
   ]
  },
  {
   "cell_type": "code",
   "execution_count": 8,
   "metadata": {},
   "outputs": [
    {
     "data": {
      "text/html": [
       "<div>\n",
       "<style scoped>\n",
       "    .dataframe tbody tr th:only-of-type {\n",
       "        vertical-align: middle;\n",
       "    }\n",
       "\n",
       "    .dataframe tbody tr th {\n",
       "        vertical-align: top;\n",
       "    }\n",
       "\n",
       "    .dataframe thead th {\n",
       "        text-align: right;\n",
       "    }\n",
       "</style>\n",
       "<table border=\"1\" class=\"dataframe\">\n",
       "  <thead>\n",
       "    <tr style=\"text-align: right;\">\n",
       "      <th></th>\n",
       "      <th>TV</th>\n",
       "      <th>Radio</th>\n",
       "      <th>Social Media</th>\n",
       "      <th>Sales</th>\n",
       "      <th>Influencer_Macro</th>\n",
       "      <th>Influencer_Mega</th>\n",
       "      <th>Influencer_Micro</th>\n",
       "      <th>Influencer_Nano</th>\n",
       "    </tr>\n",
       "  </thead>\n",
       "  <tbody>\n",
       "    <tr>\n",
       "      <th>0</th>\n",
       "      <td>16.0</td>\n",
       "      <td>6.566231</td>\n",
       "      <td>2.907983</td>\n",
       "      <td>54.732757</td>\n",
       "      <td>0</td>\n",
       "      <td>1</td>\n",
       "      <td>0</td>\n",
       "      <td>0</td>\n",
       "    </tr>\n",
       "    <tr>\n",
       "      <th>1</th>\n",
       "      <td>13.0</td>\n",
       "      <td>9.237765</td>\n",
       "      <td>2.409567</td>\n",
       "      <td>46.677897</td>\n",
       "      <td>0</td>\n",
       "      <td>1</td>\n",
       "      <td>0</td>\n",
       "      <td>0</td>\n",
       "    </tr>\n",
       "    <tr>\n",
       "      <th>2</th>\n",
       "      <td>41.0</td>\n",
       "      <td>15.886446</td>\n",
       "      <td>2.913410</td>\n",
       "      <td>150.177829</td>\n",
       "      <td>0</td>\n",
       "      <td>1</td>\n",
       "      <td>0</td>\n",
       "      <td>0</td>\n",
       "    </tr>\n",
       "    <tr>\n",
       "      <th>3</th>\n",
       "      <td>83.0</td>\n",
       "      <td>30.020028</td>\n",
       "      <td>6.922304</td>\n",
       "      <td>298.246340</td>\n",
       "      <td>0</td>\n",
       "      <td>1</td>\n",
       "      <td>0</td>\n",
       "      <td>0</td>\n",
       "    </tr>\n",
       "    <tr>\n",
       "      <th>4</th>\n",
       "      <td>15.0</td>\n",
       "      <td>8.437408</td>\n",
       "      <td>1.405998</td>\n",
       "      <td>56.594181</td>\n",
       "      <td>0</td>\n",
       "      <td>0</td>\n",
       "      <td>1</td>\n",
       "      <td>0</td>\n",
       "    </tr>\n",
       "  </tbody>\n",
       "</table>\n",
       "</div>"
      ],
      "text/plain": [
       "     TV      Radio  Social Media       Sales  Influencer_Macro  \\\n",
       "0  16.0   6.566231      2.907983   54.732757                 0   \n",
       "1  13.0   9.237765      2.409567   46.677897                 0   \n",
       "2  41.0  15.886446      2.913410  150.177829                 0   \n",
       "3  83.0  30.020028      6.922304  298.246340                 0   \n",
       "4  15.0   8.437408      1.405998   56.594181                 0   \n",
       "\n",
       "   Influencer_Mega  Influencer_Micro  Influencer_Nano  \n",
       "0                1                 0                0  \n",
       "1                1                 0                0  \n",
       "2                1                 0                0  \n",
       "3                1                 0                0  \n",
       "4                0                 1                0  "
      ]
     },
     "execution_count": 8,
     "metadata": {},
     "output_type": "execute_result"
    }
   ],
   "source": [
    "# Now we have a dataframe that has no missing values. \n",
    "# Now, we want to encode the categorical variable to dummy variables, as follows\n",
    "\n",
    "df = pd.get_dummies(df)\n",
    "df.head()"
   ]
  },
  {
   "cell_type": "code",
   "execution_count": 9,
   "metadata": {},
   "outputs": [
    {
     "data": {
      "text/html": [
       "<div>\n",
       "<style scoped>\n",
       "    .dataframe tbody tr th:only-of-type {\n",
       "        vertical-align: middle;\n",
       "    }\n",
       "\n",
       "    .dataframe tbody tr th {\n",
       "        vertical-align: top;\n",
       "    }\n",
       "\n",
       "    .dataframe thead th {\n",
       "        text-align: right;\n",
       "    }\n",
       "</style>\n",
       "<table border=\"1\" class=\"dataframe\">\n",
       "  <thead>\n",
       "    <tr style=\"text-align: right;\">\n",
       "      <th></th>\n",
       "      <th>TV</th>\n",
       "      <th>Radio</th>\n",
       "      <th>Social Media</th>\n",
       "      <th>Influencer_Macro</th>\n",
       "      <th>Influencer_Mega</th>\n",
       "      <th>Influencer_Micro</th>\n",
       "      <th>Influencer_Nano</th>\n",
       "      <th>Sales</th>\n",
       "    </tr>\n",
       "  </thead>\n",
       "  <tbody>\n",
       "    <tr>\n",
       "      <th>0</th>\n",
       "      <td>16.0</td>\n",
       "      <td>6.566231</td>\n",
       "      <td>2.907983</td>\n",
       "      <td>0</td>\n",
       "      <td>1</td>\n",
       "      <td>0</td>\n",
       "      <td>0</td>\n",
       "      <td>54.732757</td>\n",
       "    </tr>\n",
       "    <tr>\n",
       "      <th>1</th>\n",
       "      <td>13.0</td>\n",
       "      <td>9.237765</td>\n",
       "      <td>2.409567</td>\n",
       "      <td>0</td>\n",
       "      <td>1</td>\n",
       "      <td>0</td>\n",
       "      <td>0</td>\n",
       "      <td>46.677897</td>\n",
       "    </tr>\n",
       "    <tr>\n",
       "      <th>2</th>\n",
       "      <td>41.0</td>\n",
       "      <td>15.886446</td>\n",
       "      <td>2.913410</td>\n",
       "      <td>0</td>\n",
       "      <td>1</td>\n",
       "      <td>0</td>\n",
       "      <td>0</td>\n",
       "      <td>150.177829</td>\n",
       "    </tr>\n",
       "    <tr>\n",
       "      <th>3</th>\n",
       "      <td>83.0</td>\n",
       "      <td>30.020028</td>\n",
       "      <td>6.922304</td>\n",
       "      <td>0</td>\n",
       "      <td>1</td>\n",
       "      <td>0</td>\n",
       "      <td>0</td>\n",
       "      <td>298.246340</td>\n",
       "    </tr>\n",
       "    <tr>\n",
       "      <th>4</th>\n",
       "      <td>15.0</td>\n",
       "      <td>8.437408</td>\n",
       "      <td>1.405998</td>\n",
       "      <td>0</td>\n",
       "      <td>0</td>\n",
       "      <td>1</td>\n",
       "      <td>0</td>\n",
       "      <td>56.594181</td>\n",
       "    </tr>\n",
       "  </tbody>\n",
       "</table>\n",
       "</div>"
      ],
      "text/plain": [
       "     TV      Radio  Social Media  Influencer_Macro  Influencer_Mega  \\\n",
       "0  16.0   6.566231      2.907983                 0                1   \n",
       "1  13.0   9.237765      2.409567                 0                1   \n",
       "2  41.0  15.886446      2.913410                 0                1   \n",
       "3  83.0  30.020028      6.922304                 0                1   \n",
       "4  15.0   8.437408      1.405998                 0                0   \n",
       "\n",
       "   Influencer_Micro  Influencer_Nano       Sales  \n",
       "0                 0                0   54.732757  \n",
       "1                 0                0   46.677897  \n",
       "2                 0                0  150.177829  \n",
       "3                 0                0  298.246340  \n",
       "4                 1                0   56.594181  "
      ]
     },
     "execution_count": 9,
     "metadata": {},
     "output_type": "execute_result"
    }
   ],
   "source": [
    "df = df[['TV', 'Radio', 'Social Media', 'Influencer_Macro','Influencer_Mega', 'Influencer_Micro', 'Influencer_Nano', 'Sales']]\n",
    "df.head()"
   ]
  },
  {
   "cell_type": "code",
   "execution_count": 10,
   "metadata": {},
   "outputs": [
    {
     "data": {
      "text/html": [
       "<div>\n",
       "<style scoped>\n",
       "    .dataframe tbody tr th:only-of-type {\n",
       "        vertical-align: middle;\n",
       "    }\n",
       "\n",
       "    .dataframe tbody tr th {\n",
       "        vertical-align: top;\n",
       "    }\n",
       "\n",
       "    .dataframe thead th {\n",
       "        text-align: right;\n",
       "    }\n",
       "</style>\n",
       "<table border=\"1\" class=\"dataframe\">\n",
       "  <thead>\n",
       "    <tr style=\"text-align: right;\">\n",
       "      <th></th>\n",
       "      <th>TV</th>\n",
       "      <th>Radio</th>\n",
       "      <th>Social Media</th>\n",
       "      <th>Influencer_Macro</th>\n",
       "      <th>Influencer_Mega</th>\n",
       "      <th>Influencer_Micro</th>\n",
       "      <th>Influencer_Nano</th>\n",
       "      <th>Sales</th>\n",
       "    </tr>\n",
       "  </thead>\n",
       "  <tbody>\n",
       "    <tr>\n",
       "      <th>TV</th>\n",
       "      <td>1.000000</td>\n",
       "      <td>0.866885</td>\n",
       "      <td>0.527010</td>\n",
       "      <td>0.021335</td>\n",
       "      <td>-0.012630</td>\n",
       "      <td>-0.004863</td>\n",
       "      <td>-0.003645</td>\n",
       "      <td>0.996652</td>\n",
       "    </tr>\n",
       "    <tr>\n",
       "      <th>Radio</th>\n",
       "      <td>0.866885</td>\n",
       "      <td>1.000000</td>\n",
       "      <td>0.606793</td>\n",
       "      <td>0.009518</td>\n",
       "      <td>-0.005071</td>\n",
       "      <td>0.004212</td>\n",
       "      <td>-0.008601</td>\n",
       "      <td>0.867369</td>\n",
       "    </tr>\n",
       "    <tr>\n",
       "      <th>Social Media</th>\n",
       "      <td>0.527010</td>\n",
       "      <td>0.606793</td>\n",
       "      <td>1.000000</td>\n",
       "      <td>0.011631</td>\n",
       "      <td>0.013072</td>\n",
       "      <td>-0.013312</td>\n",
       "      <td>-0.011351</td>\n",
       "      <td>0.528121</td>\n",
       "    </tr>\n",
       "    <tr>\n",
       "      <th>Influencer_Macro</th>\n",
       "      <td>0.021335</td>\n",
       "      <td>0.009518</td>\n",
       "      <td>0.011631</td>\n",
       "      <td>1.000000</td>\n",
       "      <td>-0.332131</td>\n",
       "      <td>-0.331171</td>\n",
       "      <td>-0.328482</td>\n",
       "      <td>0.019267</td>\n",
       "    </tr>\n",
       "    <tr>\n",
       "      <th>Influencer_Mega</th>\n",
       "      <td>-0.012630</td>\n",
       "      <td>-0.005071</td>\n",
       "      <td>0.013072</td>\n",
       "      <td>-0.332131</td>\n",
       "      <td>1.000000</td>\n",
       "      <td>-0.338211</td>\n",
       "      <td>-0.335465</td>\n",
       "      <td>-0.011701</td>\n",
       "    </tr>\n",
       "    <tr>\n",
       "      <th>Influencer_Micro</th>\n",
       "      <td>-0.004863</td>\n",
       "      <td>0.004212</td>\n",
       "      <td>-0.013312</td>\n",
       "      <td>-0.331171</td>\n",
       "      <td>-0.338211</td>\n",
       "      <td>1.000000</td>\n",
       "      <td>-0.334495</td>\n",
       "      <td>-0.004099</td>\n",
       "    </tr>\n",
       "    <tr>\n",
       "      <th>Influencer_Nano</th>\n",
       "      <td>-0.003645</td>\n",
       "      <td>-0.008601</td>\n",
       "      <td>-0.011351</td>\n",
       "      <td>-0.328482</td>\n",
       "      <td>-0.335465</td>\n",
       "      <td>-0.334495</td>\n",
       "      <td>1.000000</td>\n",
       "      <td>-0.003289</td>\n",
       "    </tr>\n",
       "    <tr>\n",
       "      <th>Sales</th>\n",
       "      <td>0.996652</td>\n",
       "      <td>0.867369</td>\n",
       "      <td>0.528121</td>\n",
       "      <td>0.019267</td>\n",
       "      <td>-0.011701</td>\n",
       "      <td>-0.004099</td>\n",
       "      <td>-0.003289</td>\n",
       "      <td>1.000000</td>\n",
       "    </tr>\n",
       "  </tbody>\n",
       "</table>\n",
       "</div>"
      ],
      "text/plain": [
       "                        TV     Radio  Social Media  Influencer_Macro  \\\n",
       "TV                1.000000  0.866885      0.527010          0.021335   \n",
       "Radio             0.866885  1.000000      0.606793          0.009518   \n",
       "Social Media      0.527010  0.606793      1.000000          0.011631   \n",
       "Influencer_Macro  0.021335  0.009518      0.011631          1.000000   \n",
       "Influencer_Mega  -0.012630 -0.005071      0.013072         -0.332131   \n",
       "Influencer_Micro -0.004863  0.004212     -0.013312         -0.331171   \n",
       "Influencer_Nano  -0.003645 -0.008601     -0.011351         -0.328482   \n",
       "Sales             0.996652  0.867369      0.528121          0.019267   \n",
       "\n",
       "                  Influencer_Mega  Influencer_Micro  Influencer_Nano     Sales  \n",
       "TV                      -0.012630         -0.004863        -0.003645  0.996652  \n",
       "Radio                   -0.005071          0.004212        -0.008601  0.867369  \n",
       "Social Media             0.013072         -0.013312        -0.011351  0.528121  \n",
       "Influencer_Macro        -0.332131         -0.331171        -0.328482  0.019267  \n",
       "Influencer_Mega          1.000000         -0.338211        -0.335465 -0.011701  \n",
       "Influencer_Micro        -0.338211          1.000000        -0.334495 -0.004099  \n",
       "Influencer_Nano         -0.335465         -0.334495         1.000000 -0.003289  \n",
       "Sales                   -0.011701         -0.004099        -0.003289  1.000000  "
      ]
     },
     "execution_count": 10,
     "metadata": {},
     "output_type": "execute_result"
    }
   ],
   "source": [
    "df.corr()"
   ]
  },
  {
   "cell_type": "code",
   "execution_count": 11,
   "metadata": {},
   "outputs": [
    {
     "data": {
      "image/png": "[encoded data removed]",
      "text/plain": [
       "<Figure size 640x480 with 2 Axes>"
      ]
     },
     "metadata": {},
     "output_type": "display_data"
    }
   ],
   "source": [
    "# Let's see the correlation between different variables.\n",
    "sns.heatmap(df.corr(), cmap=\"YlGnBu\", annot = True)\n",
    "plt.show()"
   ]
  },
  {
   "cell_type": "code",
   "execution_count": 12,
   "metadata": {},
   "outputs": [
    {
     "data": {
      "image/png": "[encoded data removed]",
      "text/plain": [
       "<Figure size 640x480 with 1 Axes>"
      ]
     },
     "metadata": {},
     "output_type": "display_data"
    },
    {
     "data": {
      "image/png": "[encoded data removed]",
      "text/plain": [
       "<Figure size 640x480 with 1 Axes>"
      ]
     },
     "metadata": {},
     "output_type": "display_data"
    },
    {
     "data": {
      "image/png": "[encoded data removed]",
      "text/plain": [
       "<Figure size 640x480 with 1 Axes>"
      ]
     },
     "metadata": {},
     "output_type": "display_data"
    }
   ],
   "source": [
    "variables = ['TV', 'Radio', 'Social Media']\n",
    "for var in variables:\n",
    "    plt.figure() # Creating a rectangle (figure) for each plot\n",
    "    # Regression Plot also by default includes\n",
    "    # best-fitting regression line\n",
    "    # which can be turned off via `fit_reg=False`\n",
    "    sns.regplot(x=var, y='Sales', data=df).set(title=f'Regression plot of {var} and Petrol Consumption')"
   ]
  },
  {
   "cell_type": "code",
   "execution_count": 13,
   "metadata": {},
   "outputs": [],
   "source": [
    "y = df['Sales']\n",
    "X = df[['TV', 'Radio', 'Social Media']]"
   ]
  },
  {
   "cell_type": "code",
   "execution_count": 14,
   "metadata": {},
   "outputs": [],
   "source": [
    "SEED = 42\n",
    "X_train, X_test, y_train, y_test = train_test_split(X, y, \n",
    "                                                    test_size=0.2, \n",
    "                                                    random_state=SEED)"
   ]
  },
  {
   "cell_type": "code",
   "execution_count": 15,
   "metadata": {},
   "outputs": [
    {
     "data": {
      "text/plain": [
       "(4572, 3)"
      ]
     },
     "execution_count": 15,
     "metadata": {},
     "output_type": "execute_result"
    }
   ],
   "source": [
    "X.shape"
   ]
  },
  {
   "cell_type": "code",
   "execution_count": 16,
   "metadata": {},
   "outputs": [
    {
     "data": {
      "text/html": [
       "<style>#sk-container-id-1 {color: black;background-color: white;}#sk-container-id-1 pre{padding: 0;}#sk-container-id-1 div.sk-toggleable {background-color: white;}#sk-container-id-1 label.sk-toggleable__label {cursor: pointer;display: block;width: 100%;margin-bottom: 0;padding: 0.3em;box-sizing: border-box;text-align: center;}#sk-container-id-1 label.sk-toggleable__label-arrow:before {content: \"▸\";float: left;margin-right: 0.25em;color: #696969;}#sk-container-id-1 label.sk-toggleable__label-arrow:hover:before {color: black;}#sk-container-id-1 div.sk-estimator:hover label.sk-toggleable__label-arrow:before {color: black;}#sk-container-id-1 div.sk-toggleable__content {max-height: 0;max-width: 0;overflow: hidden;text-align: left;background-color: #f0f8ff;}#sk-container-id-1 div.sk-toggleable__content pre {margin: 0.2em;color: black;border-radius: 0.25em;background-color: #f0f8ff;}#sk-container-id-1 input.sk-toggleable__control:checked~div.sk-toggleable__content {max-height: 200px;max-width: 100%;overflow: auto;}#sk-container-id-1 input.sk-toggleable__control:checked~label.sk-toggleable__label-arrow:before {content: \"▾\";}#sk-container-id-1 div.sk-estimator input.sk-toggleable__control:checked~label.sk-toggleable__label {background-color: #d4ebff;}#sk-container-id-1 div.sk-label input.sk-toggleable__control:checked~label.sk-toggleable__label {background-color: #d4ebff;}#sk-container-id-1 input.sk-hidden--visually {border: 0;clip: rect(1px 1px 1px 1px);clip: rect(1px, 1px, 1px, 1px);height: 1px;margin: -1px;overflow: hidden;padding: 0;position: absolute;width: 1px;}#sk-container-id-1 div.sk-estimator {font-family: monospace;background-color: #f0f8ff;border: 1px dotted black;border-radius: 0.25em;box-sizing: border-box;margin-bottom: 0.5em;}#sk-container-id-1 div.sk-estimator:hover {background-color: #d4ebff;}#sk-container-id-1 div.sk-parallel-item::after {content: \"\";width: 100%;border-bottom: 1px solid gray;flex-grow: 1;}#sk-container-id-1 div.sk-label:hover label.sk-toggleable__label {background-color: #d4ebff;}#sk-container-id-1 div.sk-serial::before {content: \"\";position: absolute;border-left: 1px solid gray;box-sizing: border-box;top: 0;bottom: 0;left: 50%;z-index: 0;}#sk-container-id-1 div.sk-serial {display: flex;flex-direction: column;align-items: center;background-color: white;padding-right: 0.2em;padding-left: 0.2em;position: relative;}#sk-container-id-1 div.sk-item {position: relative;z-index: 1;}#sk-container-id-1 div.sk-parallel {display: flex;align-items: stretch;justify-content: center;background-color: white;position: relative;}#sk-container-id-1 div.sk-item::before, #sk-container-id-1 div.sk-parallel-item::before {content: \"\";position: absolute;border-left: 1px solid gray;box-sizing: border-box;top: 0;bottom: 0;left: 50%;z-index: -1;}#sk-container-id-1 div.sk-parallel-item {display: flex;flex-direction: column;z-index: 1;position: relative;background-color: white;}#sk-container-id-1 div.sk-parallel-item:first-child::after {align-self: flex-end;width: 50%;}#sk-container-id-1 div.sk-parallel-item:last-child::after {align-self: flex-start;width: 50%;}#sk-container-id-1 div.sk-parallel-item:only-child::after {width: 0;}#sk-container-id-1 div.sk-dashed-wrapped {border: 1px dashed gray;margin: 0 0.4em 0.5em 0.4em;box-sizing: border-box;padding-bottom: 0.4em;background-color: white;}#sk-container-id-1 div.sk-label label {font-family: monospace;font-weight: bold;display: inline-block;line-height: 1.2em;}#sk-container-id-1 div.sk-label-container {text-align: center;}#sk-container-id-1 div.sk-container {/* jupyter's `normalize.less` sets `[hidden] { display: none; }` but bootstrap.min.css set `[hidden] { display: none !important; }` so we also need the `!important` here to be able to override the default hidden behavior on the sphinx rendered scikit-learn.org. See: https://github.com/scikit-learn/scikit-learn/issues/21755 */display: inline-block !important;position: relative;}#sk-container-id-1 div.sk-text-repr-fallback {display: none;}</style><div id=\"sk-container-id-1\" class=\"sk-top-container\"><div class=\"sk-text-repr-fallback\"><pre>LinearRegression()</pre><b>In a Jupyter environment, please rerun this cell to show the HTML representation or trust the notebook. <br />On GitHub, the HTML representation is unable to render, please try loading this page with nbviewer.org.</b></div><div class=\"sk-container\" hidden><div class=\"sk-item\"><div class=\"sk-estimator sk-toggleable\"><input class=\"sk-toggleable__control sk-hidden--visually\" id=\"sk-estimator-id-1\" type=\"checkbox\" checked><label for=\"sk-estimator-id-1\" class=\"sk-toggleable__label sk-toggleable__label-arrow\">LinearRegression</label><div class=\"sk-toggleable__content\"><pre>LinearRegression()</pre></div></div></div></div></div>"
      ],
      "text/plain": [
       "LinearRegression()"
      ]
     },
     "execution_count": 16,
     "metadata": {},
     "output_type": "execute_result"
    }
   ],
   "source": [
    "ax_regressor = LinearRegression()\n",
    "ax_regressor.fit(X_train, y_train)"
   ]
  },
  {
   "cell_type": "code",
   "execution_count": 17,
   "metadata": {},
   "outputs": [
    {
     "data": {
      "text/plain": [
       "0.05524906631242743"
      ]
     },
     "execution_count": 17,
     "metadata": {},
     "output_type": "execute_result"
    }
   ],
   "source": [
    "ax_regressor.intercept_"
   ]
  },
  {
   "cell_type": "code",
   "execution_count": 18,
   "metadata": {},
   "outputs": [
    {
     "data": {
      "text/plain": [
       "array([3.5112574 , 0.13177259, 0.06802915])"
      ]
     },
     "execution_count": 18,
     "metadata": {},
     "output_type": "execute_result"
    }
   ],
   "source": [
    "ax_regressor.coef_"
   ]
  },
  {
   "cell_type": "code",
   "execution_count": 19,
   "metadata": {},
   "outputs": [
    {
     "data": {
      "text/plain": [
       "Index(['TV', 'Radio', 'Social Media'], dtype='object')"
      ]
     },
     "execution_count": 19,
     "metadata": {},
     "output_type": "execute_result"
    }
   ],
   "source": [
    "feature_names = X.columns\n",
    "feature_names"
   ]
  },
  {
   "cell_type": "code",
   "execution_count": 20,
   "metadata": {},
   "outputs": [],
   "source": [
    "feature_names = X.columns\n",
    "model_coefficients = ax_regressor.coef_"
   ]
  },
  {
   "cell_type": "code",
   "execution_count": 21,
   "metadata": {},
   "outputs": [],
   "source": [
    "coefficients_df = pd.DataFrame(data = model_coefficients, \n",
    "                              index = feature_names, \n",
    "                              columns = ['Coefficient value'])"
   ]
  },
  {
   "cell_type": "code",
   "execution_count": 22,
   "metadata": {},
   "outputs": [
    {
     "data": {
      "text/html": [
       "<div>\n",
       "<style scoped>\n",
       "    .dataframe tbody tr th:only-of-type {\n",
       "        vertical-align: middle;\n",
       "    }\n",
       "\n",
       "    .dataframe tbody tr th {\n",
       "        vertical-align: top;\n",
       "    }\n",
       "\n",
       "    .dataframe thead th {\n",
       "        text-align: right;\n",
       "    }\n",
       "</style>\n",
       "<table border=\"1\" class=\"dataframe\">\n",
       "  <thead>\n",
       "    <tr style=\"text-align: right;\">\n",
       "      <th></th>\n",
       "      <th>Coefficient value</th>\n",
       "    </tr>\n",
       "  </thead>\n",
       "  <tbody>\n",
       "    <tr>\n",
       "      <th>TV</th>\n",
       "      <td>3.511257</td>\n",
       "    </tr>\n",
       "    <tr>\n",
       "      <th>Radio</th>\n",
       "      <td>0.131773</td>\n",
       "    </tr>\n",
       "    <tr>\n",
       "      <th>Social Media</th>\n",
       "      <td>0.068029</td>\n",
       "    </tr>\n",
       "  </tbody>\n",
       "</table>\n",
       "</div>"
      ],
      "text/plain": [
       "              Coefficient value\n",
       "TV                     3.511257\n",
       "Radio                  0.131773\n",
       "Social Media           0.068029"
      ]
     },
     "execution_count": 22,
     "metadata": {},
     "output_type": "execute_result"
    }
   ],
   "source": [
    "coefficients_df"
   ]
  },
  {
   "cell_type": "code",
   "execution_count": 23,
   "metadata": {},
   "outputs": [
    {
     "data": {
      "text/plain": [
       "0.9924495666736649"
      ]
     },
     "execution_count": 23,
     "metadata": {},
     "output_type": "execute_result"
    }
   ],
   "source": [
    "ax_regressor.score(X_test, y_test)"
   ]
  },
  {
   "cell_type": "code",
   "execution_count": 24,
   "metadata": {},
   "outputs": [],
   "source": [
    "y_pred = ax_regressor.predict(X_test)"
   ]
  },
  {
   "cell_type": "code",
   "execution_count": 25,
   "metadata": {},
   "outputs": [
    {
     "data": {
      "text/html": [
       "<div>\n",
       "<style scoped>\n",
       "    .dataframe tbody tr th:only-of-type {\n",
       "        vertical-align: middle;\n",
       "    }\n",
       "\n",
       "    .dataframe tbody tr th {\n",
       "        vertical-align: top;\n",
       "    }\n",
       "\n",
       "    .dataframe thead th {\n",
       "        text-align: right;\n",
       "    }\n",
       "</style>\n",
       "<table border=\"1\" class=\"dataframe\">\n",
       "  <thead>\n",
       "    <tr style=\"text-align: right;\">\n",
       "      <th></th>\n",
       "      <th>Actual</th>\n",
       "      <th>Predicted</th>\n",
       "    </tr>\n",
       "  </thead>\n",
       "  <tbody>\n",
       "    <tr>\n",
       "      <th>538</th>\n",
       "      <td>90.054222</td>\n",
       "      <td>91.594914</td>\n",
       "    </tr>\n",
       "    <tr>\n",
       "      <th>1822</th>\n",
       "      <td>222.741668</td>\n",
       "      <td>219.741851</td>\n",
       "    </tr>\n",
       "    <tr>\n",
       "      <th>534</th>\n",
       "      <td>102.774790</td>\n",
       "      <td>103.253368</td>\n",
       "    </tr>\n",
       "    <tr>\n",
       "      <th>2119</th>\n",
       "      <td>328.239378</td>\n",
       "      <td>327.059885</td>\n",
       "    </tr>\n",
       "    <tr>\n",
       "      <th>561</th>\n",
       "      <td>351.807328</td>\n",
       "      <td>353.047304</td>\n",
       "    </tr>\n",
       "    <tr>\n",
       "      <th>...</th>\n",
       "      <td>...</td>\n",
       "      <td>...</td>\n",
       "    </tr>\n",
       "    <tr>\n",
       "      <th>744</th>\n",
       "      <td>244.865923</td>\n",
       "      <td>241.695370</td>\n",
       "    </tr>\n",
       "    <tr>\n",
       "      <th>733</th>\n",
       "      <td>130.478749</td>\n",
       "      <td>125.726952</td>\n",
       "    </tr>\n",
       "    <tr>\n",
       "      <th>2647</th>\n",
       "      <td>251.403637</td>\n",
       "      <td>249.302455</td>\n",
       "    </tr>\n",
       "    <tr>\n",
       "      <th>4149</th>\n",
       "      <td>253.172404</td>\n",
       "      <td>248.265137</td>\n",
       "    </tr>\n",
       "    <tr>\n",
       "      <th>3819</th>\n",
       "      <td>250.151755</td>\n",
       "      <td>253.481385</td>\n",
       "    </tr>\n",
       "  </tbody>\n",
       "</table>\n",
       "<p>915 rows × 2 columns</p>\n",
       "</div>"
      ],
      "text/plain": [
       "          Actual   Predicted\n",
       "538    90.054222   91.594914\n",
       "1822  222.741668  219.741851\n",
       "534   102.774790  103.253368\n",
       "2119  328.239378  327.059885\n",
       "561   351.807328  353.047304\n",
       "...          ...         ...\n",
       "744   244.865923  241.695370\n",
       "733   130.478749  125.726952\n",
       "2647  251.403637  249.302455\n",
       "4149  253.172404  248.265137\n",
       "3819  250.151755  253.481385\n",
       "\n",
       "[915 rows x 2 columns]"
      ]
     },
     "execution_count": 25,
     "metadata": {},
     "output_type": "execute_result"
    }
   ],
   "source": [
    "results = pd.DataFrame({'Actual': y_test, 'Predicted': y_pred})\n",
    "results"
   ]
  },
  {
   "cell_type": "code",
   "execution_count": 26,
   "metadata": {},
   "outputs": [
    {
     "name": "stdout",
     "output_type": "stream",
     "text": [
      "Mean absolute error: 2.83\n",
      "Mean squared error: 63.02\n",
      "Root mean squared error: 7.94\n"
     ]
    }
   ],
   "source": [
    "mae = mean_absolute_error(y_test, y_pred)\n",
    "mse = mean_squared_error(y_test, y_pred)\n",
    "rmse = np.sqrt(mse)\n",
    "\n",
    "print(f'Mean absolute error: {mae:.2f}')\n",
    "print(f'Mean squared error: {mse:.2f}')\n",
    "print(f'Root mean squared error: {rmse:.2f}')"
   ]
  },
  {
   "cell_type": "code",
   "execution_count": 27,
   "metadata": {},
   "outputs": [
    {
     "name": "stdout",
     "output_type": "stream",
     "text": [
      "R²: 0.9924495666736649\n"
     ]
    }
   ],
   "source": [
    "actual_minus_predicted = sum((y_test - y_pred)**2)\n",
    "actual_minus_actual_mean = sum((y_test - y_test.mean())**2)\n",
    "r2 = 1 - actual_minus_predicted/actual_minus_actual_mean\n",
    "print('R²:', r2)"
   ]
  },
  {
   "cell_type": "code",
   "execution_count": 28,
   "metadata": {},
   "outputs": [
    {
     "data": {
      "text/plain": [
       "0.9924495666736649"
      ]
     },
     "execution_count": 28,
     "metadata": {},
     "output_type": "execute_result"
    }
   ],
   "source": [
    "ax_regressor.score(X_test, y_test)"
   ]
  },
  {
   "cell_type": "code",
   "execution_count": 29,
   "metadata": {},
   "outputs": [
    {
     "data": {
      "text/plain": [
       "0.9935794604146435"
      ]
     },
     "execution_count": 29,
     "metadata": {},
     "output_type": "execute_result"
    }
   ],
   "source": [
    "ax_regressor.score(X_train, y_train)"
   ]
  },
  {
   "cell_type": "code",
   "execution_count": null,
   "metadata": {},
   "outputs": [],
   "source": []
  },
  {
   "cell_type": "code",
   "execution_count": null,
   "metadata": {},
   "outputs": [],
   "source": []
  },
  {
   "cell_type": "code",
   "execution_count": 30,
   "metadata": {},
   "outputs": [],
   "source": [
    "x = df.iloc[:,0:-1].values\n",
    "y = df.iloc[:,-1:].values\n",
    "# x = df['TV']\n",
    "# y = df['Sales']"
   ]
  },
  {
   "cell_type": "code",
   "execution_count": 31,
   "metadata": {},
   "outputs": [
    {
     "data": {
      "text/plain": [
       "array([[16.        ,  6.56623079,  2.90798277, ...,  1.        ,\n",
       "         0.        ,  0.        ],\n",
       "       [13.        ,  9.23776457,  2.4095672 , ...,  1.        ,\n",
       "         0.        ,  0.        ],\n",
       "       [41.        , 15.88644602,  2.91341018, ...,  1.        ,\n",
       "         0.        ,  0.        ],\n",
       "       ...,\n",
       "       [44.        , 19.80007236,  5.09619187, ...,  0.        ,\n",
       "         1.        ,  0.        ],\n",
       "       [71.        , 17.5346403 ,  1.94087322, ...,  0.        ,\n",
       "         0.        ,  0.        ],\n",
       "       [42.        , 15.96668752,  5.04654763, ...,  0.        ,\n",
       "         1.        ,  0.        ]])"
      ]
     },
     "execution_count": 31,
     "metadata": {},
     "output_type": "execute_result"
    }
   ],
   "source": [
    "x"
   ]
  },
  {
   "cell_type": "code",
   "execution_count": 32,
   "metadata": {},
   "outputs": [
    {
     "data": {
      "text/plain": [
       "array([[ 54.73275715],\n",
       "       [ 46.67789698],\n",
       "       [150.1778288 ],\n",
       "       ...,\n",
       "       [163.6314574 ],\n",
       "       [253.6104113 ],\n",
       "       [148.2024141 ]])"
      ]
     },
     "execution_count": 32,
     "metadata": {},
     "output_type": "execute_result"
    }
   ],
   "source": [
    "y"
   ]
  },
  {
   "cell_type": "code",
   "execution_count": 33,
   "metadata": {},
   "outputs": [],
   "source": [
    "x_train, x_test, y_train, y_test = train_test_split(x,y)"
   ]
  },
  {
   "cell_type": "code",
   "execution_count": 34,
   "metadata": {},
   "outputs": [
    {
     "data": {
      "text/plain": [
       "(3429, 7)"
      ]
     },
     "execution_count": 34,
     "metadata": {},
     "output_type": "execute_result"
    }
   ],
   "source": [
    "x_train.shape"
   ]
  },
  {
   "cell_type": "code",
   "execution_count": 35,
   "metadata": {},
   "outputs": [
    {
     "data": {
      "text/plain": [
       "(3429, 1)"
      ]
     },
     "execution_count": 35,
     "metadata": {},
     "output_type": "execute_result"
    }
   ],
   "source": [
    "y_train.shape"
   ]
  },
  {
   "cell_type": "code",
   "execution_count": 36,
   "metadata": {},
   "outputs": [
    {
     "data": {
      "text/plain": [
       "(1143, 1)"
      ]
     },
     "execution_count": 36,
     "metadata": {},
     "output_type": "execute_result"
    }
   ],
   "source": [
    "y_test.shape"
   ]
  },
  {
   "cell_type": "code",
   "execution_count": 37,
   "metadata": {},
   "outputs": [
    {
     "name": "stdout",
     "output_type": "stream",
     "text": [
      "0.9938370407956197\n"
     ]
    },
    {
     "ename": "TypeError",
     "evalue": "'numpy.float64' object is not callable",
     "output_type": "error",
     "traceback": [
      "\u001b[0;31m---------------------------------------------------------------------------\u001b[0m",
      "\u001b[0;31mTypeError\u001b[0m                                 Traceback (most recent call last)",
      "\u001b[1;32m/home/pydev/workflow/dt_learn_data_science/edureka/ML-Practices/sales_prediction_regression_models.ipynb Cell 39\u001b[0m in \u001b[0;36m7\n\u001b[1;32m      <a href='vscode-notebook-cell://wsl%2Bubuntu-20.04/home/pydev/workflow/dt_learn_data_science/edureka/ML-Practices/sales_prediction_regression_models.ipynb#X52sdnNjb2RlLXJlbW90ZQ%3D%3D?line=3'>4</a>\u001b[0m y_pred_lr \u001b[39m=\u001b[39m lr_regressor\u001b[39m.\u001b[39mpredict(x_test)\n\u001b[1;32m      <a href='vscode-notebook-cell://wsl%2Bubuntu-20.04/home/pydev/workflow/dt_learn_data_science/edureka/ML-Practices/sales_prediction_regression_models.ipynb#X52sdnNjb2RlLXJlbW90ZQ%3D%3D?line=5'>6</a>\u001b[0m \u001b[39mprint\u001b[39m(r2_score(y_test, y_pred_lr))\n\u001b[0;32m----> <a href='vscode-notebook-cell://wsl%2Bubuntu-20.04/home/pydev/workflow/dt_learn_data_science/edureka/ML-Practices/sales_prediction_regression_models.ipynb#X52sdnNjb2RlLXJlbW90ZQ%3D%3D?line=6'>7</a>\u001b[0m \u001b[39mprint\u001b[39m(mse(y_test, y_pred_lr)\u001b[39m*\u001b[39m\u001b[39m*\u001b[39m\u001b[39m0.5\u001b[39m)\n",
      "\u001b[0;31mTypeError\u001b[0m: 'numpy.float64' object is not callable"
     ]
    }
   ],
   "source": [
    "lr_regressor = LinearRegression()\n",
    "lr_regressor.fit(x_train, y_train)\n",
    "\n",
    "y_pred_lr = lr_regressor.predict(x_test)\n",
    "\n",
    "print(r2_score(y_test, y_pred_lr))\n",
    "print(mse(y_test, y_pred_lr)**0.5)"
   ]
  },
  {
   "cell_type": "code",
   "execution_count": null,
   "metadata": {},
   "outputs": [
    {
     "data": {
      "text/plain": [
       "array([[ 3.50571141,  0.13904893,  0.07011217, -0.46548238,  0.17010434,\n",
       "         0.21100225,  0.08437579]])"
      ]
     },
     "execution_count": 609,
     "metadata": {},
     "output_type": "execute_result"
    }
   ],
   "source": [
    "lr_regressor.coef_"
   ]
  },
  {
   "cell_type": "code",
   "execution_count": null,
   "metadata": {},
   "outputs": [
    {
     "data": {
      "text/plain": [
       "Index(['TV', 'Radio', 'Social Media', 'Influencer_Macro', 'Influencer_Mega',\n",
       "       'Influencer_Micro', 'Influencer_Nano', 'Sales'],\n",
       "      dtype='object')"
      ]
     },
     "execution_count": 610,
     "metadata": {},
     "output_type": "execute_result"
    }
   ],
   "source": [
    "df.columns"
   ]
  },
  {
   "cell_type": "code",
   "execution_count": null,
   "metadata": {},
   "outputs": [
    {
     "data": {
      "text/plain": [
       "array([0.1285431])"
      ]
     },
     "execution_count": 611,
     "metadata": {},
     "output_type": "execute_result"
    }
   ],
   "source": [
    "lr_regressor.intercept_"
   ]
  },
  {
   "attachments": {},
   "cell_type": "markdown",
   "metadata": {},
   "source": [
    "#### Other Way"
   ]
  },
  {
   "cell_type": "code",
   "execution_count": null,
   "metadata": {},
   "outputs": [],
   "source": [
    "y = df[\"Radio\"].values.reshape(-1,1)\n",
    "X = df[\"Sales\"].values.reshape(-1,1)"
   ]
  },
  {
   "cell_type": "code",
   "execution_count": null,
   "metadata": {},
   "outputs": [
    {
     "data": {
      "text/plain": [
       "<AxesSubplot: title={'center': 'Scatterplot of sales by Radio'}, xlabel='Sales', ylabel='Radio'>"
      ]
     },
     "execution_count": 613,
     "metadata": {},
     "output_type": "execute_result"
    },
    {
     "data": {
      "image/png": "[encoded data removed]",
      "text/plain": [
       "<Figure size 640x480 with 1 Axes>"
      ]
     },
     "metadata": {},
     "output_type": "display_data"
    }
   ],
   "source": [
    "df.plot.scatter(x='Sales', y='Radio', title='Scatterplot of sales by Radio')"
   ]
  },
  {
   "cell_type": "code",
   "execution_count": null,
   "metadata": {},
   "outputs": [],
   "source": [
    "SEED = 42\n",
    "X_train, X_test, y_train, y_test = train_test_split(X, y, test_size=0.2, random_state=SEED)"
   ]
  },
  {
   "cell_type": "code",
   "execution_count": null,
   "metadata": {},
   "outputs": [
    {
     "data": {
      "text/html": [
       "<style>#sk-container-id-18 {color: black;background-color: white;}#sk-container-id-18 pre{padding: 0;}#sk-container-id-18 div.sk-toggleable {background-color: white;}#sk-container-id-18 label.sk-toggleable__label {cursor: pointer;display: block;width: 100%;margin-bottom: 0;padding: 0.3em;box-sizing: border-box;text-align: center;}#sk-container-id-18 label.sk-toggleable__label-arrow:before {content: \"▸\";float: left;margin-right: 0.25em;color: #696969;}#sk-container-id-18 label.sk-toggleable__label-arrow:hover:before {color: black;}#sk-container-id-18 div.sk-estimator:hover label.sk-toggleable__label-arrow:before {color: black;}#sk-container-id-18 div.sk-toggleable__content {max-height: 0;max-width: 0;overflow: hidden;text-align: left;background-color: #f0f8ff;}#sk-container-id-18 div.sk-toggleable__content pre {margin: 0.2em;color: black;border-radius: 0.25em;background-color: #f0f8ff;}#sk-container-id-18 input.sk-toggleable__control:checked~div.sk-toggleable__content {max-height: 200px;max-width: 100%;overflow: auto;}#sk-container-id-18 input.sk-toggleable__control:checked~label.sk-toggleable__label-arrow:before {content: \"▾\";}#sk-container-id-18 div.sk-estimator input.sk-toggleable__control:checked~label.sk-toggleable__label {background-color: #d4ebff;}#sk-container-id-18 div.sk-label input.sk-toggleable__control:checked~label.sk-toggleable__label {background-color: #d4ebff;}#sk-container-id-18 input.sk-hidden--visually {border: 0;clip: rect(1px 1px 1px 1px);clip: rect(1px, 1px, 1px, 1px);height: 1px;margin: -1px;overflow: hidden;padding: 0;position: absolute;width: 1px;}#sk-container-id-18 div.sk-estimator {font-family: monospace;background-color: #f0f8ff;border: 1px dotted black;border-radius: 0.25em;box-sizing: border-box;margin-bottom: 0.5em;}#sk-container-id-18 div.sk-estimator:hover {background-color: #d4ebff;}#sk-container-id-18 div.sk-parallel-item::after {content: \"\";width: 100%;border-bottom: 1px solid gray;flex-grow: 1;}#sk-container-id-18 div.sk-label:hover label.sk-toggleable__label {background-color: #d4ebff;}#sk-container-id-18 div.sk-serial::before {content: \"\";position: absolute;border-left: 1px solid gray;box-sizing: border-box;top: 0;bottom: 0;left: 50%;z-index: 0;}#sk-container-id-18 div.sk-serial {display: flex;flex-direction: column;align-items: center;background-color: white;padding-right: 0.2em;padding-left: 0.2em;position: relative;}#sk-container-id-18 div.sk-item {position: relative;z-index: 1;}#sk-container-id-18 div.sk-parallel {display: flex;align-items: stretch;justify-content: center;background-color: white;position: relative;}#sk-container-id-18 div.sk-item::before, #sk-container-id-18 div.sk-parallel-item::before {content: \"\";position: absolute;border-left: 1px solid gray;box-sizing: border-box;top: 0;bottom: 0;left: 50%;z-index: -1;}#sk-container-id-18 div.sk-parallel-item {display: flex;flex-direction: column;z-index: 1;position: relative;background-color: white;}#sk-container-id-18 div.sk-parallel-item:first-child::after {align-self: flex-end;width: 50%;}#sk-container-id-18 div.sk-parallel-item:last-child::after {align-self: flex-start;width: 50%;}#sk-container-id-18 div.sk-parallel-item:only-child::after {width: 0;}#sk-container-id-18 div.sk-dashed-wrapped {border: 1px dashed gray;margin: 0 0.4em 0.5em 0.4em;box-sizing: border-box;padding-bottom: 0.4em;background-color: white;}#sk-container-id-18 div.sk-label label {font-family: monospace;font-weight: bold;display: inline-block;line-height: 1.2em;}#sk-container-id-18 div.sk-label-container {text-align: center;}#sk-container-id-18 div.sk-container {/* jupyter's `normalize.less` sets `[hidden] { display: none; }` but bootstrap.min.css set `[hidden] { display: none !important; }` so we also need the `!important` here to be able to override the default hidden behavior on the sphinx rendered scikit-learn.org. See: https://github.com/scikit-learn/scikit-learn/issues/21755 */display: inline-block !important;position: relative;}#sk-container-id-18 div.sk-text-repr-fallback {display: none;}</style><div id=\"sk-container-id-18\" class=\"sk-top-container\"><div class=\"sk-text-repr-fallback\"><pre>LinearRegression()</pre><b>In a Jupyter environment, please rerun this cell to show the HTML representation or trust the notebook. <br />On GitHub, the HTML representation is unable to render, please try loading this page with nbviewer.org.</b></div><div class=\"sk-container\" hidden><div class=\"sk-item\"><div class=\"sk-estimator sk-toggleable\"><input class=\"sk-toggleable__control sk-hidden--visually\" id=\"sk-estimator-id-18\" type=\"checkbox\" checked><label for=\"sk-estimator-id-18\" class=\"sk-toggleable__label sk-toggleable__label-arrow\">LinearRegression</label><div class=\"sk-toggleable__content\"><pre>LinearRegression()</pre></div></div></div></div></div>"
      ],
      "text/plain": [
       "LinearRegression()"
      ]
     },
     "execution_count": 615,
     "metadata": {},
     "output_type": "execute_result"
    }
   ],
   "source": [
    "aw_regressor = LinearRegression()\n",
    "aw_regressor.fit(X_train, y_train)"
   ]
  },
  {
   "cell_type": "code",
   "execution_count": null,
   "metadata": {},
   "outputs": [
    {
     "data": {
      "text/plain": [
       "array([0.81295229])"
      ]
     },
     "execution_count": 616,
     "metadata": {},
     "output_type": "execute_result"
    }
   ],
   "source": [
    "aw_regressor.intercept_"
   ]
  },
  {
   "cell_type": "code",
   "execution_count": null,
   "metadata": {},
   "outputs": [
    {
     "data": {
      "text/plain": [
       "array([[0.09003394]])"
      ]
     },
     "execution_count": 617,
     "metadata": {},
     "output_type": "execute_result"
    }
   ],
   "source": [
    "aw_regressor.coef_"
   ]
  },
  {
   "cell_type": "code",
   "execution_count": null,
   "metadata": {},
   "outputs": [],
   "source": [
    "def calc(slope, intercept, hours):\n",
    "    return slope*hours+intercept"
   ]
  },
  {
   "cell_type": "code",
   "execution_count": null,
   "metadata": {},
   "outputs": [
    {
     "name": "stdout",
     "output_type": "stream",
     "text": [
      "[[2.24269133]]\n"
     ]
    }
   ],
   "source": [
    "score = calc(aw_regressor.coef_, aw_regressor.intercept_, 15.88)\n",
    "print(score) "
   ]
  },
  {
   "cell_type": "code",
   "execution_count": null,
   "metadata": {},
   "outputs": [
    {
     "name": "stdout",
     "output_type": "stream",
     "text": [
      "[[2.24327168]]\n"
     ]
    }
   ],
   "source": [
    "score = aw_regressor.predict([[15.886446]])\n",
    "print(score)"
   ]
  },
  {
   "cell_type": "code",
   "execution_count": null,
   "metadata": {},
   "outputs": [
    {
     "data": {
      "text/plain": [
       "array([[ 8.92088914],\n",
       "       [20.86726323],\n",
       "       [10.06617206],\n",
       "       [30.36563819],\n",
       "       [32.48755369],\n",
       "       [24.39885769],\n",
       "       [32.31236988],\n",
       "       [13.45509433],\n",
       "       [24.6352347 ],\n",
       "       [ 5.82552135],\n",
       "       [13.24688919],\n",
       "       [11.36267688],\n",
       "       [29.45720991],\n",
       "       [18.85588788],\n",
       "       [14.80131602],\n",
       "       [27.9575671 ],\n",
       "       [22.89312172],\n",
       "       [11.34878893],\n",
       "       [27.72250852],\n",
       "       [22.24004837],\n",
       "       [18.05294077],\n",
       "       [32.33998862],\n",
       "       [10.750654  ],\n",
       "       [ 9.70666708],\n",
       "       [15.42581316],\n",
       "       [32.10446662],\n",
       "       [ 5.80116534],\n",
       "       [15.50701068],\n",
       "       [20.58154196],\n",
       "       [33.08298512],\n",
       "       [23.2883809 ],\n",
       "       [15.37888135],\n",
       "       [32.49254735],\n",
       "       [26.20708018],\n",
       "       [ 6.1354721 ],\n",
       "       [ 5.2806986 ],\n",
       "       [ 8.0102646 ],\n",
       "       [29.78118285],\n",
       "       [11.62759482],\n",
       "       [22.87977037],\n",
       "       [25.45273142],\n",
       "       [14.10829372],\n",
       "       [14.63825477],\n",
       "       [15.8471185 ],\n",
       "       [31.44058859],\n",
       "       [26.99280416],\n",
       "       [22.23076754],\n",
       "       [ 4.41363969],\n",
       "       [25.13916969],\n",
       "       [30.43692898],\n",
       "       [14.2240979 ],\n",
       "       [24.1943759 ],\n",
       "       [20.45854725],\n",
       "       [11.92919536],\n",
       "       [20.55526004],\n",
       "       [ 4.91422455],\n",
       "       [ 7.49495539],\n",
       "       [21.44350244],\n",
       "       [22.54042566],\n",
       "       [12.62990985],\n",
       "       [18.3273693 ],\n",
       "       [ 8.72378752],\n",
       "       [ 8.29901437],\n",
       "       [12.89449106],\n",
       "       [14.40294144],\n",
       "       [ 5.76569367],\n",
       "       [ 6.8969874 ],\n",
       "       [ 4.10483909],\n",
       "       [15.58953815],\n",
       "       [24.18371709],\n",
       "       [25.67795631],\n",
       "       [24.54128605],\n",
       "       [32.60369527],\n",
       "       [21.6700082 ],\n",
       "       [ 8.16457536],\n",
       "       [27.87001949],\n",
       "       [26.50793264],\n",
       "       [25.77408336],\n",
       "       [26.59292751],\n",
       "       [10.4500213 ],\n",
       "       [ 9.34035067],\n",
       "       [ 7.18470025],\n",
       "       [ 8.28963284],\n",
       "       [28.82083099],\n",
       "       [12.30710853],\n",
       "       [17.08718115],\n",
       "       [14.05054379],\n",
       "       [13.3536714 ],\n",
       "       [12.60372191],\n",
       "       [ 4.7806491 ],\n",
       "       [26.89043667],\n",
       "       [20.09059754],\n",
       "       [29.13357878],\n",
       "       [15.36129752],\n",
       "       [10.68816411],\n",
       "       [11.65736819],\n",
       "       [32.71130489],\n",
       "       [23.21361183],\n",
       "       [10.21323349],\n",
       "       [ 9.79253016],\n",
       "       [11.55677556],\n",
       "       [18.13642203],\n",
       "       [14.77192643],\n",
       "       [32.110709  ],\n",
       "       [19.74079254],\n",
       "       [12.53186476],\n",
       "       [32.06866463],\n",
       "       [17.38744476],\n",
       "       [ 5.18312086],\n",
       "       [26.19413912],\n",
       "       [22.45654915],\n",
       "       [21.64373203],\n",
       "       [12.60850581],\n",
       "       [11.51668757],\n",
       "       [11.04757339],\n",
       "       [26.63199643],\n",
       "       [13.10764376],\n",
       "       [30.33234009],\n",
       "       [27.62872456],\n",
       "       [10.97011321],\n",
       "       [ 7.68121893],\n",
       "       [ 5.92408402],\n",
       "       [24.35821081],\n",
       "       [11.01699125],\n",
       "       [15.64701625],\n",
       "       [ 8.62664056],\n",
       "       [24.79520706],\n",
       "       [32.80821343],\n",
       "       [18.97193282],\n",
       "       [25.79230535],\n",
       "       [19.03260847],\n",
       "       [19.93120848],\n",
       "       [27.94654304],\n",
       "       [ 9.2177794 ],\n",
       "       [21.79851481],\n",
       "       [ 6.29725972],\n",
       "       [21.79039778],\n",
       "       [20.0103967 ],\n",
       "       [16.79360582],\n",
       "       [ 8.85347723],\n",
       "       [16.55923796],\n",
       "       [19.55929687],\n",
       "       [16.67047303],\n",
       "       [21.63821004],\n",
       "       [28.43273122],\n",
       "       [25.53180933],\n",
       "       [ 8.05658243],\n",
       "       [ 8.78757022],\n",
       "       [29.26898933],\n",
       "       [17.33274463],\n",
       "       [13.63530811],\n",
       "       [21.85759919],\n",
       "       [ 4.13165403],\n",
       "       [ 9.75423146],\n",
       "       [20.84107165],\n",
       "       [25.97948977],\n",
       "       [15.82911787],\n",
       "       [15.63180232],\n",
       "       [21.37964005],\n",
       "       [22.88549519],\n",
       "       [19.95435385],\n",
       "       [24.11998717],\n",
       "       [32.06905413],\n",
       "       [28.92457832],\n",
       "       [19.94403504],\n",
       "       [22.1291002 ],\n",
       "       [20.68074061],\n",
       "       [28.15775959],\n",
       "       [24.80771753],\n",
       "       [19.21376687],\n",
       "       [ 4.98040346],\n",
       "       [18.19165722],\n",
       "       [20.65325927],\n",
       "       [24.74745437],\n",
       "       [21.16235897],\n",
       "       [22.09803508],\n",
       "       [18.58140378],\n",
       "       [13.40606706],\n",
       "       [20.92866479],\n",
       "       [10.23549097],\n",
       "       [11.78033518],\n",
       "       [12.54108094],\n",
       "       [22.42425208],\n",
       "       [ 5.67450442],\n",
       "       [30.40476927],\n",
       "       [21.11188938],\n",
       "       [ 7.19469187],\n",
       "       [32.33267282],\n",
       "       [29.02431866],\n",
       "       [25.15353736],\n",
       "       [ 9.66722715],\n",
       "       [12.58569102],\n",
       "       [ 4.65919838],\n",
       "       [15.27057055],\n",
       "       [10.84751963],\n",
       "       [ 6.62661695],\n",
       "       [ 8.83436856],\n",
       "       [22.65405012],\n",
       "       [23.15281023],\n",
       "       [10.59552219],\n",
       "       [20.31667541],\n",
       "       [19.78208181],\n",
       "       [20.47344683],\n",
       "       [ 6.44011904],\n",
       "       [17.2465292 ],\n",
       "       [ 6.50171349],\n",
       "       [22.53192388],\n",
       "       [30.79861723],\n",
       "       [29.75084479],\n",
       "       [ 5.27866767],\n",
       "       [21.95086709],\n",
       "       [25.11037061],\n",
       "       [28.69333302],\n",
       "       [26.79049875],\n",
       "       [30.94244403],\n",
       "       [23.49969033],\n",
       "       [16.85623299],\n",
       "       [12.91434686],\n",
       "       [10.42520498],\n",
       "       [17.72248899],\n",
       "       [ 9.21250851],\n",
       "       [23.22978301],\n",
       "       [32.42170586],\n",
       "       [19.72634418],\n",
       "       [30.19838522],\n",
       "       [ 5.47541706],\n",
       "       [13.96299712],\n",
       "       [25.60728079],\n",
       "       [19.93728806],\n",
       "       [25.08775968],\n",
       "       [12.44863993],\n",
       "       [22.4473352 ],\n",
       "       [31.68679578],\n",
       "       [29.84590994],\n",
       "       [ 6.32475001],\n",
       "       [21.43885775],\n",
       "       [10.90311412],\n",
       "       [11.89810493],\n",
       "       [ 8.32200049],\n",
       "       [11.50382762],\n",
       "       [12.09680969],\n",
       "       [ 9.11266297],\n",
       "       [ 5.75324694],\n",
       "       [19.62312098],\n",
       "       [15.74425411],\n",
       "       [29.42817253],\n",
       "       [20.27280752],\n",
       "       [ 4.41359763],\n",
       "       [13.26654864],\n",
       "       [ 6.34498459],\n",
       "       [29.86400391],\n",
       "       [13.01654205],\n",
       "       [ 5.70348266],\n",
       "       [23.99160065],\n",
       "       [12.83032414],\n",
       "       [11.72888444],\n",
       "       [ 9.18749457],\n",
       "       [23.3890888 ],\n",
       "       [ 4.88530946],\n",
       "       [21.4503434 ],\n",
       "       [14.70201226],\n",
       "       [11.82335722],\n",
       "       [32.40079813],\n",
       "       [22.05364921],\n",
       "       [13.54196249],\n",
       "       [ 3.85392009],\n",
       "       [13.20707574],\n",
       "       [14.47958528],\n",
       "       [14.6360609 ],\n",
       "       [25.22349633],\n",
       "       [14.53958877],\n",
       "       [29.83755048],\n",
       "       [21.24958461],\n",
       "       [30.78729976],\n",
       "       [ 8.8997942 ],\n",
       "       [27.91719061],\n",
       "       [ 8.44863133],\n",
       "       [18.93728445],\n",
       "       [ 5.53467207],\n",
       "       [26.59060851],\n",
       "       [18.82792364],\n",
       "       [23.12455875],\n",
       "       [ 7.24118238],\n",
       "       [13.88736428],\n",
       "       [24.22112193],\n",
       "       [ 5.92639474],\n",
       "       [17.03589713],\n",
       "       [30.55197982],\n",
       "       [19.83083881],\n",
       "       [ 5.09868426],\n",
       "       [14.15405222],\n",
       "       [13.23050263],\n",
       "       [28.95574366],\n",
       "       [27.82751798],\n",
       "       [16.18639729],\n",
       "       [13.36909488],\n",
       "       [13.89180591],\n",
       "       [27.70063629],\n",
       "       [24.89901226],\n",
       "       [ 9.57866779],\n",
       "       [20.02448189],\n",
       "       [19.3801148 ],\n",
       "       [11.97285246],\n",
       "       [30.84524932],\n",
       "       [27.79281048],\n",
       "       [13.07105519],\n",
       "       [20.0294615 ],\n",
       "       [24.43796476],\n",
       "       [13.1434531 ],\n",
       "       [18.68661789],\n",
       "       [31.00464162],\n",
       "       [24.34432545],\n",
       "       [23.34414066],\n",
       "       [ 9.92557475],\n",
       "       [25.66987458],\n",
       "       [29.31531166],\n",
       "       [14.55230166],\n",
       "       [20.85387131],\n",
       "       [28.9169309 ],\n",
       "       [32.248847  ],\n",
       "       [11.30098224],\n",
       "       [27.87220596],\n",
       "       [23.10464893],\n",
       "       [ 7.10035639],\n",
       "       [26.06731656],\n",
       "       [23.89528775],\n",
       "       [19.65901747],\n",
       "       [ 8.52385406],\n",
       "       [16.56420926],\n",
       "       [31.12266604],\n",
       "       [10.96977754],\n",
       "       [27.51166264],\n",
       "       [ 6.79603894],\n",
       "       [ 6.08277996],\n",
       "       [21.53384144],\n",
       "       [ 3.62195812],\n",
       "       [23.00585129],\n",
       "       [30.58211006],\n",
       "       [22.53592089],\n",
       "       [27.4819292 ],\n",
       "       [11.35184465],\n",
       "       [27.02575511],\n",
       "       [22.95949841],\n",
       "       [10.05522203],\n",
       "       [28.26468144],\n",
       "       [ 3.89257868],\n",
       "       [ 3.745072  ],\n",
       "       [ 7.28642256],\n",
       "       [14.62436381],\n",
       "       [16.37053115],\n",
       "       [26.29001452],\n",
       "       [15.63242442],\n",
       "       [27.37122309],\n",
       "       [ 6.99214051],\n",
       "       [32.57885247],\n",
       "       [14.1310302 ],\n",
       "       [30.71677992],\n",
       "       [10.02155055],\n",
       "       [ 8.62825484],\n",
       "       [14.83911044],\n",
       "       [32.20254046],\n",
       "       [12.99109164],\n",
       "       [ 7.13402855],\n",
       "       [ 7.96334865],\n",
       "       [ 6.36881074],\n",
       "       [12.71139498],\n",
       "       [ 8.71436382],\n",
       "       [ 7.12200884],\n",
       "       [15.03151956],\n",
       "       [18.26794141],\n",
       "       [14.2580995 ],\n",
       "       [26.27991927],\n",
       "       [24.60188607],\n",
       "       [20.74544796],\n",
       "       [11.67602434],\n",
       "       [23.43321481],\n",
       "       [ 5.69797393],\n",
       "       [15.06650971],\n",
       "       [24.02940467],\n",
       "       [19.61947473],\n",
       "       [25.93796111],\n",
       "       [14.64247355],\n",
       "       [22.37840565],\n",
       "       [13.21348386],\n",
       "       [24.07551106],\n",
       "       [31.10366254],\n",
       "       [29.09986619],\n",
       "       [24.66748074],\n",
       "       [ 9.01372427],\n",
       "       [13.72220706],\n",
       "       [ 4.88911857],\n",
       "       [ 8.35342858],\n",
       "       [14.12535378],\n",
       "       [30.46568045],\n",
       "       [30.24938801],\n",
       "       [24.74547815],\n",
       "       [21.16675487],\n",
       "       [30.38771685],\n",
       "       [24.38831897],\n",
       "       [ 5.7883437 ],\n",
       "       [24.23705393],\n",
       "       [13.82624247],\n",
       "       [19.6263743 ],\n",
       "       [19.46800178],\n",
       "       [32.91304724],\n",
       "       [13.80444501],\n",
       "       [15.01016171],\n",
       "       [27.22019516],\n",
       "       [26.46443309],\n",
       "       [ 8.96759402],\n",
       "       [27.2375103 ],\n",
       "       [20.8994484 ],\n",
       "       [ 7.78177309],\n",
       "       [25.24487136],\n",
       "       [30.75735045],\n",
       "       [10.67537157],\n",
       "       [14.15830237],\n",
       "       [20.43305987],\n",
       "       [23.24058029],\n",
       "       [ 5.04834556],\n",
       "       [11.21660009],\n",
       "       [21.1471994 ],\n",
       "       [ 7.90974292],\n",
       "       [17.45871662],\n",
       "       [11.72853986],\n",
       "       [16.00875055],\n",
       "       [29.81293046],\n",
       "       [11.46814595],\n",
       "       [ 9.94715766],\n",
       "       [29.99268014],\n",
       "       [24.26366664],\n",
       "       [20.95310105],\n",
       "       [24.92436758],\n",
       "       [11.52909687],\n",
       "       [ 8.254142  ],\n",
       "       [24.45563641],\n",
       "       [26.56536503],\n",
       "       [12.15977041],\n",
       "       [22.11268573],\n",
       "       [ 4.79817965],\n",
       "       [21.7332639 ],\n",
       "       [32.10647706],\n",
       "       [24.5376117 ],\n",
       "       [18.14147963],\n",
       "       [20.21128556],\n",
       "       [15.81543098],\n",
       "       [22.78379759],\n",
       "       [12.91765355],\n",
       "       [19.79256191],\n",
       "       [14.22098758],\n",
       "       [25.16606769],\n",
       "       [31.51000911],\n",
       "       [10.08454258],\n",
       "       [31.77660256],\n",
       "       [ 5.16192953],\n",
       "       [ 8.95490891],\n",
       "       [ 8.94588459],\n",
       "       [29.18977926],\n",
       "       [25.41565565],\n",
       "       [26.49457994],\n",
       "       [23.36253543],\n",
       "       [25.06200735],\n",
       "       [25.48576632],\n",
       "       [18.92230999],\n",
       "       [29.18203442],\n",
       "       [18.32987318],\n",
       "       [19.63166334],\n",
       "       [14.38173985],\n",
       "       [10.19375634],\n",
       "       [ 7.35174877],\n",
       "       [ 9.06904457],\n",
       "       [18.16091705],\n",
       "       [31.55307447],\n",
       "       [16.30758659],\n",
       "       [23.25603817],\n",
       "       [27.37341047],\n",
       "       [ 4.24678013],\n",
       "       [26.47078621],\n",
       "       [32.16417328],\n",
       "       [19.99441605],\n",
       "       [ 5.22000691],\n",
       "       [18.86258012],\n",
       "       [29.16873545],\n",
       "       [17.96078163],\n",
       "       [16.04919891],\n",
       "       [29.28045659],\n",
       "       [28.22108554],\n",
       "       [ 9.70230346],\n",
       "       [28.51810195],\n",
       "       [17.87424682],\n",
       "       [30.58185101],\n",
       "       [20.77632948],\n",
       "       [11.27051368],\n",
       "       [ 6.78377991],\n",
       "       [14.14338543],\n",
       "       [21.10744736],\n",
       "       [24.52308866],\n",
       "       [17.9238209 ],\n",
       "       [18.18625219],\n",
       "       [12.42868374],\n",
       "       [27.76430775],\n",
       "       [27.59066649],\n",
       "       [21.87287325],\n",
       "       [20.59388733],\n",
       "       [17.0897471 ],\n",
       "       [17.63199668],\n",
       "       [14.64727298],\n",
       "       [15.3747606 ],\n",
       "       [28.74350471],\n",
       "       [21.62349699],\n",
       "       [ 7.83843585],\n",
       "       [27.10508848],\n",
       "       [ 4.53800417],\n",
       "       [25.74506776],\n",
       "       [18.85406793],\n",
       "       [12.3748048 ],\n",
       "       [23.06493086],\n",
       "       [22.8177481 ],\n",
       "       [19.81343227],\n",
       "       [12.81179332],\n",
       "       [15.46156114],\n",
       "       [15.08982128],\n",
       "       [17.79942996],\n",
       "       [22.20233715],\n",
       "       [14.76804956],\n",
       "       [15.90594634],\n",
       "       [ 6.05955232],\n",
       "       [15.59227048],\n",
       "       [26.68098803],\n",
       "       [ 4.71111533],\n",
       "       [10.22280919],\n",
       "       [31.16834877],\n",
       "       [26.15759248],\n",
       "       [26.26987886],\n",
       "       [ 8.81587062],\n",
       "       [ 3.71537926],\n",
       "       [27.52684667],\n",
       "       [ 9.68378818],\n",
       "       [ 9.38545316],\n",
       "       [13.31472469],\n",
       "       [ 6.5009435 ],\n",
       "       [ 4.34345125],\n",
       "       [17.2828261 ],\n",
       "       [10.3055106 ],\n",
       "       [14.17982604],\n",
       "       [18.82946956],\n",
       "       [20.5374406 ],\n",
       "       [27.9163497 ],\n",
       "       [14.46584151],\n",
       "       [20.08476473],\n",
       "       [16.56764683],\n",
       "       [26.57149859],\n",
       "       [15.5893101 ],\n",
       "       [24.23114942],\n",
       "       [11.0281465 ],\n",
       "       [11.94016835],\n",
       "       [31.13284039],\n",
       "       [14.15620019],\n",
       "       [24.64170916],\n",
       "       [ 7.94377326],\n",
       "       [27.34223449],\n",
       "       [25.35909889],\n",
       "       [25.15408873],\n",
       "       [ 5.26045495],\n",
       "       [ 8.24517082],\n",
       "       [ 5.06334004],\n",
       "       [ 6.15542386],\n",
       "       [28.08315347],\n",
       "       [21.75079831],\n",
       "       [ 7.46545586],\n",
       "       [11.79255305],\n",
       "       [17.24519278],\n",
       "       [ 5.81652424],\n",
       "       [33.40903264],\n",
       "       [ 5.25784851],\n",
       "       [15.46697332],\n",
       "       [14.03985252],\n",
       "       [11.98431252],\n",
       "       [18.77471795],\n",
       "       [26.09733109],\n",
       "       [32.06944243],\n",
       "       [17.78084979],\n",
       "       [26.34607384],\n",
       "       [ 9.76446205],\n",
       "       [25.91099768],\n",
       "       [10.65668143],\n",
       "       [ 7.43174035],\n",
       "       [26.61063664],\n",
       "       [ 6.77336959],\n",
       "       [ 9.12822557],\n",
       "       [11.2782726 ],\n",
       "       [32.13415346],\n",
       "       [11.25826754],\n",
       "       [22.2472283 ],\n",
       "       [ 3.94357191],\n",
       "       [28.41795273],\n",
       "       [28.87385342],\n",
       "       [16.87272801],\n",
       "       [20.91480512],\n",
       "       [19.61738974],\n",
       "       [21.59433513],\n",
       "       [29.63944787],\n",
       "       [ 8.26705054],\n",
       "       [ 7.81645563],\n",
       "       [30.12023561],\n",
       "       [22.12459234],\n",
       "       [ 4.69027243],\n",
       "       [31.22605431],\n",
       "       [11.54416092],\n",
       "       [18.49903328],\n",
       "       [16.24417485],\n",
       "       [ 7.08812189],\n",
       "       [13.49999517],\n",
       "       [21.84878402],\n",
       "       [ 6.48564312],\n",
       "       [26.46681676],\n",
       "       [24.6035414 ],\n",
       "       [13.27142705],\n",
       "       [19.73102027],\n",
       "       [16.86583605],\n",
       "       [21.11286305],\n",
       "       [14.82495571],\n",
       "       [ 4.81719334],\n",
       "       [20.45475618],\n",
       "       [26.1612403 ],\n",
       "       [25.21453149],\n",
       "       [ 6.06036603],\n",
       "       [ 8.52796149],\n",
       "       [ 8.43948808],\n",
       "       [13.56086629],\n",
       "       [17.7084024 ],\n",
       "       [27.48538222],\n",
       "       [32.36011804],\n",
       "       [16.58565396],\n",
       "       [13.23773129],\n",
       "       [24.65265334],\n",
       "       [16.37784528],\n",
       "       [10.28320084],\n",
       "       [26.37519095],\n",
       "       [13.21038955],\n",
       "       [ 9.52384682],\n",
       "       [15.18515583],\n",
       "       [19.0351135 ],\n",
       "       [ 5.26337986],\n",
       "       [25.49305614],\n",
       "       [16.37038303],\n",
       "       [10.24062752],\n",
       "       [20.67527252],\n",
       "       [29.86336843],\n",
       "       [ 5.39856082],\n",
       "       [18.36934147],\n",
       "       [27.67210162],\n",
       "       [14.97562425],\n",
       "       [12.21857381],\n",
       "       [30.48193969],\n",
       "       [22.7423539 ],\n",
       "       [31.49633883],\n",
       "       [25.55367769],\n",
       "       [14.42153456],\n",
       "       [25.79371973],\n",
       "       [10.34310976],\n",
       "       [19.38561323],\n",
       "       [ 8.28902932],\n",
       "       [ 7.10106895],\n",
       "       [11.22216444],\n",
       "       [25.75146901],\n",
       "       [13.65421148],\n",
       "       [16.34604756],\n",
       "       [20.85418196],\n",
       "       [ 9.2763641 ],\n",
       "       [28.29170568],\n",
       "       [12.08053892],\n",
       "       [13.36746219],\n",
       "       [10.4153214 ],\n",
       "       [28.76601664],\n",
       "       [ 8.56627364],\n",
       "       [ 4.84302625],\n",
       "       [ 7.26348772],\n",
       "       [10.19277568],\n",
       "       [20.22277246],\n",
       "       [12.78937444],\n",
       "       [21.21375908],\n",
       "       [20.84565549],\n",
       "       [30.87731348],\n",
       "       [29.12794507],\n",
       "       [26.31516673],\n",
       "       [20.75903999],\n",
       "       [11.99209867],\n",
       "       [15.25423064],\n",
       "       [30.48369693],\n",
       "       [10.68015957],\n",
       "       [26.77001741],\n",
       "       [16.65410764],\n",
       "       [25.06721513],\n",
       "       [19.51425903],\n",
       "       [25.61612179],\n",
       "       [ 6.51735045],\n",
       "       [ 5.65589775],\n",
       "       [ 3.95810827],\n",
       "       [16.24635644],\n",
       "       [15.60904515],\n",
       "       [ 6.98375682],\n",
       "       [19.67834977],\n",
       "       [13.40918257],\n",
       "       [20.99837342],\n",
       "       [29.30519474],\n",
       "       [11.51437827],\n",
       "       [11.96532713],\n",
       "       [25.58118278],\n",
       "       [22.80105707],\n",
       "       [ 4.93414711],\n",
       "       [14.30832635],\n",
       "       [11.91856939],\n",
       "       [16.83939764],\n",
       "       [16.40278814],\n",
       "       [ 6.4932712 ],\n",
       "       [ 8.22454537],\n",
       "       [30.13302989],\n",
       "       [11.32621493],\n",
       "       [26.84858646],\n",
       "       [ 6.38442475],\n",
       "       [30.09724609],\n",
       "       [12.94811426],\n",
       "       [12.0550761 ],\n",
       "       [18.4761694 ],\n",
       "       [27.32506356],\n",
       "       [16.04118228],\n",
       "       [18.91708   ],\n",
       "       [21.93455713],\n",
       "       [18.89227257],\n",
       "       [24.04331582],\n",
       "       [31.67042354],\n",
       "       [ 8.9460023 ],\n",
       "       [10.22372158],\n",
       "       [18.28276209],\n",
       "       [10.29112272],\n",
       "       [18.45027317],\n",
       "       [10.64307709],\n",
       "       [16.97393399],\n",
       "       [ 8.69310291],\n",
       "       [32.12267787],\n",
       "       [ 8.67109507],\n",
       "       [25.49071592],\n",
       "       [13.61349961],\n",
       "       [17.81000614],\n",
       "       [ 9.3455976 ],\n",
       "       [27.86022718],\n",
       "       [27.17081089],\n",
       "       [19.4031458 ],\n",
       "       [25.33934873],\n",
       "       [11.14246466],\n",
       "       [11.60295973],\n",
       "       [15.76401668],\n",
       "       [22.9179087 ],\n",
       "       [12.04577811],\n",
       "       [25.78830819],\n",
       "       [12.44332119],\n",
       "       [23.10928449],\n",
       "       [ 9.92942738],\n",
       "       [15.30723311],\n",
       "       [31.61265952],\n",
       "       [20.88238496],\n",
       "       [16.16093774],\n",
       "       [ 7.58980196],\n",
       "       [12.2675931 ],\n",
       "       [20.63528168],\n",
       "       [26.73366567],\n",
       "       [28.9426184 ],\n",
       "       [ 8.28208805],\n",
       "       [10.84219575],\n",
       "       [ 5.34646508],\n",
       "       [ 9.93250499],\n",
       "       [17.04783141],\n",
       "       [25.65853152],\n",
       "       [17.21984778],\n",
       "       [ 5.69768738],\n",
       "       [ 4.29507118],\n",
       "       [20.54738247],\n",
       "       [15.47759787],\n",
       "       [ 8.51855293],\n",
       "       [32.49280108],\n",
       "       [12.53692675],\n",
       "       [ 8.30352247],\n",
       "       [23.72268921],\n",
       "       [23.38148601],\n",
       "       [ 4.85282342],\n",
       "       [12.91316282],\n",
       "       [14.93787582],\n",
       "       [32.63717497],\n",
       "       [31.50026373],\n",
       "       [21.20637139],\n",
       "       [19.75608254],\n",
       "       [18.37877075],\n",
       "       [19.73577645],\n",
       "       [ 5.66321538],\n",
       "       [19.23887633],\n",
       "       [10.16588764],\n",
       "       [30.93474446],\n",
       "       [27.34044634],\n",
       "       [29.5770081 ],\n",
       "       [30.6147486 ],\n",
       "       [20.18141736],\n",
       "       [11.73734871],\n",
       "       [32.11526425],\n",
       "       [ 4.14155234],\n",
       "       [32.80468888],\n",
       "       [20.38565232],\n",
       "       [ 6.79381843],\n",
       "       [ 3.97327929],\n",
       "       [21.38953236],\n",
       "       [28.54879529],\n",
       "       [ 5.0468989 ],\n",
       "       [27.93933285],\n",
       "       [31.19627293],\n",
       "       [30.58912242],\n",
       "       [10.71019074],\n",
       "       [10.42926367],\n",
       "       [ 5.66581075],\n",
       "       [30.88801636],\n",
       "       [25.01974746],\n",
       "       [13.45280487],\n",
       "       [14.42578932],\n",
       "       [13.48736473],\n",
       "       [ 4.20927435],\n",
       "       [21.52064281],\n",
       "       [10.91411978],\n",
       "       [15.38937793],\n",
       "       [15.19203374],\n",
       "       [11.45737637],\n",
       "       [13.83441774],\n",
       "       [15.16199848],\n",
       "       [ 6.10691036],\n",
       "       [18.1094297 ],\n",
       "       [ 8.91940231],\n",
       "       [13.65293642],\n",
       "       [13.53144706],\n",
       "       [12.82260842],\n",
       "       [ 8.33748106],\n",
       "       [ 7.19714829],\n",
       "       [17.45977922],\n",
       "       [22.21968496],\n",
       "       [24.79923447],\n",
       "       [12.72572895],\n",
       "       [15.34935394],\n",
       "       [16.5444157 ],\n",
       "       [27.06067571],\n",
       "       [21.13770124],\n",
       "       [29.48134371],\n",
       "       [10.92784339],\n",
       "       [27.67131211],\n",
       "       [10.73826375],\n",
       "       [28.39755265],\n",
       "       [22.64815909],\n",
       "       [ 5.9347111 ],\n",
       "       [16.45430145],\n",
       "       [11.91478857],\n",
       "       [ 7.09801775],\n",
       "       [19.61322594],\n",
       "       [26.82587483],\n",
       "       [ 5.87195276],\n",
       "       [ 9.8421424 ],\n",
       "       [11.28885142],\n",
       "       [20.45214571],\n",
       "       [31.56229119],\n",
       "       [13.5612243 ],\n",
       "       [ 6.43005195],\n",
       "       [ 7.16048598],\n",
       "       [19.33026022],\n",
       "       [15.54533782],\n",
       "       [32.47505384],\n",
       "       [10.01082878],\n",
       "       [32.69432939],\n",
       "       [32.48603623],\n",
       "       [10.97402935],\n",
       "       [16.4608533 ],\n",
       "       [ 8.03749577],\n",
       "       [11.39885467],\n",
       "       [ 4.8872307 ],\n",
       "       [31.23929835],\n",
       "       [19.76230275],\n",
       "       [15.42354802],\n",
       "       [25.03491047],\n",
       "       [20.45594083],\n",
       "       [25.96973651],\n",
       "       [ 9.05083572],\n",
       "       [22.02697555],\n",
       "       [ 6.81901484],\n",
       "       [31.52318371],\n",
       "       [31.69083185],\n",
       "       [ 5.41834494],\n",
       "       [31.7552218 ],\n",
       "       [27.41848249],\n",
       "       [27.09948243],\n",
       "       [24.99039436],\n",
       "       [16.88963713],\n",
       "       [11.09416669],\n",
       "       [31.58358355],\n",
       "       [19.55652428],\n",
       "       [ 9.54439157],\n",
       "       [32.78833486],\n",
       "       [15.81424642],\n",
       "       [13.02291363],\n",
       "       [ 4.48563453],\n",
       "       [ 7.62603858],\n",
       "       [10.08364825],\n",
       "       [ 5.43878567],\n",
       "       [13.08113061],\n",
       "       [21.81721494],\n",
       "       [ 5.47545887],\n",
       "       [31.14434423],\n",
       "       [22.85919718],\n",
       "       [12.56046876],\n",
       "       [23.44781335],\n",
       "       [23.60706239],\n",
       "       [23.3351015 ]])"
      ]
     },
     "execution_count": 621,
     "metadata": {},
     "output_type": "execute_result"
    }
   ],
   "source": [
    "y_pred = aw_regressor.predict(X_test)\n",
    "y_pred"
   ]
  },
  {
   "cell_type": "code",
   "execution_count": null,
   "metadata": {},
   "outputs": [
    {
     "name": "stdout",
     "output_type": "stream",
     "text": [
      "        Actual  Predicted\n",
      "0     1.218354   8.920889\n",
      "1    14.949791  20.867263\n",
      "2    10.377258  10.066172\n",
      "3    26.469274  30.365638\n",
      "4    36.876302  32.487554\n",
      "..         ...        ...\n",
      "910  18.167834  22.859197\n",
      "911  19.156498  12.560469\n",
      "912  25.228580  23.447813\n",
      "913  16.123668  23.607062\n",
      "914  28.989318  23.335101\n",
      "\n",
      "[915 rows x 2 columns]\n"
     ]
    }
   ],
   "source": [
    "df_preds = pd.DataFrame({'Actual': y_test.squeeze(), 'Predicted': y_pred.squeeze()})\n",
    "print(df_preds)"
   ]
  },
  {
   "cell_type": "code",
   "execution_count": null,
   "metadata": {},
   "outputs": [],
   "source": [
    "mae = mean_absolute_error(y_test, y_pred)\n",
    "mse = mean_squared_error(y_test, y_pred)\n",
    "rmse= np.sqrt(mse)"
   ]
  },
  {
   "cell_type": "code",
   "execution_count": null,
   "metadata": {},
   "outputs": [
    {
     "name": "stdout",
     "output_type": "stream",
     "text": [
      "Mean absolute error: 3.78\n",
      "Mean squared error: 22.58\n",
      "Root mean squared error: 4.75\n"
     ]
    }
   ],
   "source": [
    "print(f'Mean absolute error: {mae:.2f}')\n",
    "print(f'Mean squared error: {mse:.2f}')\n",
    "print(f'Root mean squared error: {rmse:.2f}')"
   ]
  },
  {
   "cell_type": "code",
   "execution_count": null,
   "metadata": {},
   "outputs": [
    {
     "data": {
      "text/html": [
       "<div>\n",
       "<style scoped>\n",
       "    .dataframe tbody tr th:only-of-type {\n",
       "        vertical-align: middle;\n",
       "    }\n",
       "\n",
       "    .dataframe tbody tr th {\n",
       "        vertical-align: top;\n",
       "    }\n",
       "\n",
       "    .dataframe thead th {\n",
       "        text-align: right;\n",
       "    }\n",
       "</style>\n",
       "<table border=\"1\" class=\"dataframe\">\n",
       "  <thead>\n",
       "    <tr style=\"text-align: right;\">\n",
       "      <th></th>\n",
       "      <th>TV</th>\n",
       "      <th>Radio</th>\n",
       "      <th>Social Media</th>\n",
       "      <th>Influencer_Macro</th>\n",
       "      <th>Influencer_Mega</th>\n",
       "      <th>Influencer_Micro</th>\n",
       "      <th>Influencer_Nano</th>\n",
       "      <th>Sales</th>\n",
       "    </tr>\n",
       "  </thead>\n",
       "  <tbody>\n",
       "    <tr>\n",
       "      <th>0</th>\n",
       "      <td>16.0</td>\n",
       "      <td>6.566231</td>\n",
       "      <td>2.907983</td>\n",
       "      <td>0</td>\n",
       "      <td>1</td>\n",
       "      <td>0</td>\n",
       "      <td>0</td>\n",
       "      <td>54.732757</td>\n",
       "    </tr>\n",
       "    <tr>\n",
       "      <th>1</th>\n",
       "      <td>13.0</td>\n",
       "      <td>9.237765</td>\n",
       "      <td>2.409567</td>\n",
       "      <td>0</td>\n",
       "      <td>1</td>\n",
       "      <td>0</td>\n",
       "      <td>0</td>\n",
       "      <td>46.677897</td>\n",
       "    </tr>\n",
       "    <tr>\n",
       "      <th>2</th>\n",
       "      <td>41.0</td>\n",
       "      <td>15.886446</td>\n",
       "      <td>2.913410</td>\n",
       "      <td>0</td>\n",
       "      <td>1</td>\n",
       "      <td>0</td>\n",
       "      <td>0</td>\n",
       "      <td>150.177829</td>\n",
       "    </tr>\n",
       "    <tr>\n",
       "      <th>3</th>\n",
       "      <td>83.0</td>\n",
       "      <td>30.020028</td>\n",
       "      <td>6.922304</td>\n",
       "      <td>0</td>\n",
       "      <td>1</td>\n",
       "      <td>0</td>\n",
       "      <td>0</td>\n",
       "      <td>298.246340</td>\n",
       "    </tr>\n",
       "    <tr>\n",
       "      <th>4</th>\n",
       "      <td>15.0</td>\n",
       "      <td>8.437408</td>\n",
       "      <td>1.405998</td>\n",
       "      <td>0</td>\n",
       "      <td>0</td>\n",
       "      <td>1</td>\n",
       "      <td>0</td>\n",
       "      <td>56.594181</td>\n",
       "    </tr>\n",
       "  </tbody>\n",
       "</table>\n",
       "</div>"
      ],
      "text/plain": [
       "     TV      Radio  Social Media  Influencer_Macro  Influencer_Mega  \\\n",
       "0  16.0   6.566231      2.907983                 0                1   \n",
       "1  13.0   9.237765      2.409567                 0                1   \n",
       "2  41.0  15.886446      2.913410                 0                1   \n",
       "3  83.0  30.020028      6.922304                 0                1   \n",
       "4  15.0   8.437408      1.405998                 0                0   \n",
       "\n",
       "   Influencer_Micro  Influencer_Nano       Sales  \n",
       "0                 0                0   54.732757  \n",
       "1                 0                0   46.677897  \n",
       "2                 0                0  150.177829  \n",
       "3                 0                0  298.246340  \n",
       "4                 1                0   56.594181  "
      ]
     },
     "execution_count": 625,
     "metadata": {},
     "output_type": "execute_result"
    }
   ],
   "source": [
    "df.head()"
   ]
  }
 ],
 "metadata": {
  "kernelspec": {
   "display_name": "venvdt",
   "language": "python",
   "name": "python3"
  },
  "language_info": {
   "codemirror_mode": {
    "name": "ipython",
    "version": 3
   },
   "file_extension": ".py",
   "mimetype": "text/x-python",
   "name": "python",
   "nbconvert_exporter": "python",
   "pygments_lexer": "ipython3",
   "version": "3.8.10"
  },
  "orig_nbformat": 4
 },
 "nbformat": 4,
 "nbformat_minor": 2
}
