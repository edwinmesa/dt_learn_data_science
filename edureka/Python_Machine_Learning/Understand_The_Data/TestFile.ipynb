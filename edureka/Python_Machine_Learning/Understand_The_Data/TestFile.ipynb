{
 "cells": [
  {
   "cell_type": "code",
   "execution_count": 18,
   "metadata": {},
   "outputs": [
    {
     "name": "stdout",
     "output_type": "stream",
     "text": [
      "ID, Name\n",
      "0, ABC\n",
      "1, DEF\n",
      "2, GHI\n",
      "3, JKL\n",
      "4, MNO\n"
     ]
    }
   ],
   "source": [
    "FILENAME = '/home/pydev/workflow/dt_learn_data_science/edureka/Python_Machine_Learning/Understand_The_Data/test.csv'\n",
    "DELETE_LINE_NUMBER = 0\n",
    "with open(FILENAME) as f:\n",
    "    data = f.read().splitlines() # Read csv file\n",
    "    for d in data:\n",
    "        print(d)\n",
    "# with open(FILENAME, 'w') as g:\n",
    "#     g.write('\\n'.join([data[:DELETE_LINE_NUMBER]] + data[DELETE_LINE_NUMBER+1:])) # Write to file"
   ]
  }
 ],
 "metadata": {
  "kernelspec": {
   "display_name": "envWebs",
   "language": "python",
   "name": "python3"
  },
  "language_info": {
   "codemirror_mode": {
    "name": "ipython",
    "version": 3
   },
   "file_extension": ".py",
   "mimetype": "text/x-python",
   "name": "python",
   "nbconvert_exporter": "python",
   "pygments_lexer": "ipython3",
   "version": "3.8.10"
  },
  "orig_nbformat": 4
 },
 "nbformat": 4,
 "nbformat_minor": 2
}
