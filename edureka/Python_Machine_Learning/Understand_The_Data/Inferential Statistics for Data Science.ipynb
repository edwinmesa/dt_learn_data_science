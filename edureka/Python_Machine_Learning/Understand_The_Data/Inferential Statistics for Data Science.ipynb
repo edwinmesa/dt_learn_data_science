{
 "cells": [
  {
   "attachments": {},
   "cell_type": "markdown",
   "metadata": {},
   "source": [
    "#### Parameter: It is a measure that could be mean, median, variance, and many more for population data.\n",
    "\n",
    "#### Statistic: It is a measure that could be mean, median, variance, and many more for sample data."
   ]
  },
  {
   "attachments": {},
   "cell_type": "markdown",
   "metadata": {},
   "source": [
    "Problem: A farmer planted 98 tomato plants last year. He has numbered each plant with numbers 1,2,…98. Now he wants to study the growth of the plants. Help the farmer to select 12 plants randomly as a sample for the study using an appropriate sampling technique."
   ]
  },
  {
   "cell_type": "code",
   "execution_count": 13,
   "metadata": {},
   "outputs": [],
   "source": [
    "import random\n",
    "import pandas as pd\n",
    "import numpy as np"
   ]
  },
  {
   "cell_type": "code",
   "execution_count": 14,
   "metadata": {},
   "outputs": [
    {
     "data": {
      "text/plain": [
       "[97, 80, 53, 65, 29]"
      ]
     },
     "execution_count": 14,
     "metadata": {},
     "output_type": "execute_result"
    }
   ],
   "source": [
    "# Simple random sampling without replacement\n",
    "data1            = list(range(1,99))\n",
    "sample_without_r = random.sample(data1, k=5)\n",
    "sample_without_r"
   ]
  },
  {
   "cell_type": "code",
   "execution_count": 15,
   "metadata": {},
   "outputs": [
    {
     "data": {
      "text/plain": [
       "[25, 23, 48, 59, 42]"
      ]
     },
     "execution_count": 15,
     "metadata": {},
     "output_type": "execute_result"
    }
   ],
   "source": [
    "# Simple random sampling with replacement\n",
    "data1            = list(range(1,99))\n",
    "sample_with_r = random.choices(data1, k=5)\n",
    "sample_with_r"
   ]
  },
  {
   "attachments": {},
   "cell_type": "markdown",
   "metadata": {},
   "source": [
    "Problem: A rose nursery contains roses of 5 distinct colors. Select two plants of each color randomly."
   ]
  },
  {
   "cell_type": "code",
   "execution_count": 16,
   "metadata": {},
   "outputs": [
    {
     "data": {
      "text/html": [
       "<div>\n",
       "<style scoped>\n",
       "    .dataframe tbody tr th:only-of-type {\n",
       "        vertical-align: middle;\n",
       "    }\n",
       "\n",
       "    .dataframe tbody tr th {\n",
       "        vertical-align: top;\n",
       "    }\n",
       "\n",
       "    .dataframe thead th {\n",
       "        text-align: right;\n",
       "    }\n",
       "</style>\n",
       "<table border=\"1\" class=\"dataframe\">\n",
       "  <thead>\n",
       "    <tr style=\"text-align: right;\">\n",
       "      <th></th>\n",
       "      <th>Color</th>\n",
       "    </tr>\n",
       "  </thead>\n",
       "  <tbody>\n",
       "    <tr>\n",
       "      <th>5</th>\n",
       "      <td>Orange</td>\n",
       "    </tr>\n",
       "    <tr>\n",
       "      <th>13</th>\n",
       "      <td>Orange</td>\n",
       "    </tr>\n",
       "    <tr>\n",
       "      <th>1</th>\n",
       "      <td>Pink</td>\n",
       "    </tr>\n",
       "    <tr>\n",
       "      <th>10</th>\n",
       "      <td>Pink</td>\n",
       "    </tr>\n",
       "    <tr>\n",
       "      <th>3</th>\n",
       "      <td>Red</td>\n",
       "    </tr>\n",
       "    <tr>\n",
       "      <th>12</th>\n",
       "      <td>Red</td>\n",
       "    </tr>\n",
       "    <tr>\n",
       "      <th>9</th>\n",
       "      <td>White</td>\n",
       "    </tr>\n",
       "    <tr>\n",
       "      <th>0</th>\n",
       "      <td>White</td>\n",
       "    </tr>\n",
       "    <tr>\n",
       "      <th>4</th>\n",
       "      <td>Yellow</td>\n",
       "    </tr>\n",
       "    <tr>\n",
       "      <th>8</th>\n",
       "      <td>Yellow</td>\n",
       "    </tr>\n",
       "  </tbody>\n",
       "</table>\n",
       "</div>"
      ],
      "text/plain": [
       "     Color\n",
       "5   Orange\n",
       "13  Orange\n",
       "1     Pink\n",
       "10    Pink\n",
       "3      Red\n",
       "12     Red\n",
       "9    White\n",
       "0    White\n",
       "4   Yellow\n",
       "8   Yellow"
      ]
     },
     "execution_count": 16,
     "metadata": {},
     "output_type": "execute_result"
    }
   ],
   "source": [
    "rose_col = ['White', 'Pink', 'White', 'Red', 'Yellow', 'Orange', 'Orange', 'Red', 'Yellow', 'White', 'Pink','White', 'Red', 'Orange']\n",
    "df_rose  = pd.DataFrame(rose_col, columns=[\"Color\"])\n",
    "df_rose.groupby('Color', group_keys=False).apply(lambda x : x.sample(2, random_state=10))"
   ]
  },
  {
   "attachments": {},
   "cell_type": "markdown",
   "metadata": {},
   "source": [
    "Problem: Ann has collected 20 beautiful blue marbles pebbles on her last summer vacation. Her mother gave her permission to take only 4 pebbles for her friends. Each of the marble is coded with numbers as 1,2,…20. As 2 is her favorite number, she wants to select pebbles starting from the 2nd pebble. Help Ann to systematically select the 4 marble pebbles for her friends."
   ]
  },
  {
   "cell_type": "code",
   "execution_count": 17,
   "metadata": {},
   "outputs": [
    {
     "data": {
      "text/plain": [
       "array([[ 1,  2,  3,  4,  5],\n",
       "       [ 6,  7,  8,  9, 10],\n",
       "       [11, 12, 13, 14, 15],\n",
       "       [16, 17, 18, 19, 20]])"
      ]
     },
     "execution_count": 17,
     "metadata": {},
     "output_type": "execute_result"
    }
   ],
   "source": [
    "mar   = list(range(1,21))\n",
    "mar_a = np.array(mar)\n",
    "mar_r = mar_a.reshape(4,5)\n",
    "mar_r"
   ]
  },
  {
   "cell_type": "code",
   "execution_count": 18,
   "metadata": {},
   "outputs": [
    {
     "data": {
      "text/plain": [
       "[2, 7, 12, 17]"
      ]
     },
     "execution_count": 18,
     "metadata": {},
     "output_type": "execute_result"
    }
   ],
   "source": [
    "b= []\n",
    "for i in range(4):\n",
    "    a = mar_r[i][1]\n",
    "    b.append(a)\n",
    "b    "
   ]
  },
  {
   "attachments": {},
   "cell_type": "markdown",
   "metadata": {},
   "source": [
    "Requirement:\n",
    "\n",
    "Total data points=100 , Number of Samples =10, Sample Size =10"
   ]
  },
  {
   "cell_type": "code",
   "execution_count": 19,
   "metadata": {},
   "outputs": [
    {
     "data": {
      "text/plain": [
       "[46.8, 60.5, 36.3, 54.1, 50.0, 53.6, 43.0, 41.3, 55.0, 54.9]"
      ]
     },
     "execution_count": 19,
     "metadata": {},
     "output_type": "execute_result"
    }
   ],
   "source": [
    "a = range(100)\n",
    "\n",
    "means = [] # list of sample means\n",
    "for i in range(10):\n",
    "    b = random.sample(a, k=10)\n",
    "    means.append(np.mean(b))\n",
    "means    "
   ]
  },
  {
   "cell_type": "code",
   "execution_count": 20,
   "metadata": {},
   "outputs": [
    {
     "data": {
      "text/plain": [
       "49.55"
      ]
     },
     "execution_count": 20,
     "metadata": {},
     "output_type": "execute_result"
    }
   ],
   "source": [
    "# means sample\n",
    "np.mean(means)"
   ]
  },
  {
   "cell_type": "code",
   "execution_count": 21,
   "metadata": {},
   "outputs": [
    {
     "data": {
      "text/plain": [
       "49.5"
      ]
     },
     "execution_count": 21,
     "metadata": {},
     "output_type": "execute_result"
    }
   ],
   "source": [
    "np.mean(a)"
   ]
  },
  {
   "attachments": {},
   "cell_type": "markdown",
   "metadata": {},
   "source": [
    "Example: The production manager at the automobile company states that all the steel rods are produced with an average length of 26 cm. Use the data given in the previous question and calculate the sampling error for the mean."
   ]
  },
  {
   "cell_type": "code",
   "execution_count": 22,
   "metadata": {},
   "outputs": [
    {
     "name": "stdout",
     "output_type": "stream",
     "text": [
      "Sampling error 0.8399999999999999\n"
     ]
    }
   ],
   "source": [
    "len_rod       = np.array([25.2, 26.3, 28, 21.9, 23.4, 24, 27.2, 23, 29.2, 28.7, 23.1, 23.5, 26.4, 22.8, 24.7])\n",
    "mu_population = 26\n",
    "mu_sample     = len_rod.mean() \n",
    "print(\"Sampling error\", (mu_population-mu_sample))"
   ]
  },
  {
   "attachments": {},
   "cell_type": "markdown",
   "metadata": {},
   "source": [
    "Problema: Un pediatra quiere verificar la cantidad de azúcar en el paquete de 100 g de comida para bebés producido por la empresa KidsGrow. La revista médica afirma que una desviación estándar de azúcar en un paquete de 100 g es de 8 g. El pediatra recolecta 37 paquetes de comida para bebés y encontró que el azúcar promedio es de 24 g. Encuentre el intervalo de confianza del 90% para la media de la población."
   ]
  },
  {
   "cell_type": "code",
   "execution_count": 23,
   "metadata": {},
   "outputs": [
    {
     "data": {
      "text/plain": [
       "1.6448536269514729"
      ]
     },
     "execution_count": 23,
     "metadata": {},
     "output_type": "execute_result"
    }
   ],
   "source": [
    "import scipy.stats \n",
    "n            = 100  # sample size\n",
    "sigma        = 8    # the standard deviation of the population is given\n",
    "xbar         = 24   # the mean of sample\n",
    "a            = 0.10 # level of significane= 1 - confidence level\n",
    "\n",
    "z_alpha_by_2 = scipy.stats.norm.isf(0.1/2)\n",
    "z_alpha_by_2"
   ]
  },
  {
   "cell_type": "code",
   "execution_count": 24,
   "metadata": {},
   "outputs": [
    {
     "name": "stdout",
     "output_type": "stream",
     "text": [
      "22.684117098438822 25.315882901561178\n"
     ]
    }
   ],
   "source": [
    "LCL = xbar-(z_alpha_by_2*sigma/np.sqrt(n)) # lower limit of the interval\n",
    "UCL = xbar+(z_alpha_by_2*sigma/np.sqrt(n)) # upper limit of the interval\n",
    "\n",
    "print(LCL, UCL) # the interval estimation of the population"
   ]
  },
  {
   "cell_type": "code",
   "execution_count": 25,
   "metadata": {},
   "outputs": [
    {
     "data": {
      "text/plain": [
       "(22.684117098438822, 25.315882901561178)"
      ]
     },
     "execution_count": 25,
     "metadata": {},
     "output_type": "execute_result"
    }
   ],
   "source": [
    "scipy.stats.norm.interval(0.90, xbar, sigma/np.sqrt(n))"
   ]
  },
  {
   "attachments": {},
   "cell_type": "markdown",
   "metadata": {},
   "source": [
    "Problema: La revista de salud de Los Ángeles establece que una persona debe beber 1,8 L de agua todos los días. Para estudiar esta afirmación, el médico recopila los datos de 15 personas y encontró que la ingesta de agua promedio de estas personas es de 1,6 L con una desviación estándar de 0,5 L. Calcule el intervalo de confianza del 90 % para la ingesta de agua promedio de la población."
   ]
  },
  {
   "cell_type": "code",
   "execution_count": 26,
   "metadata": {},
   "outputs": [
    {
     "data": {
      "text/plain": [
       "1.7613101357748564"
      ]
     },
     "execution_count": 26,
     "metadata": {},
     "output_type": "execute_result"
    }
   ],
   "source": [
    "n               = 15   # sample size \n",
    "mu_sample       = 1.6  # mean of the sample\n",
    "std_sample      = 0.5  # standard deviation of the sample\n",
    "a               = 0.10 # level of significance\n",
    "\n",
    "t_alpha_by_2    = scipy.stats.t.isf(a/2, n-1) # Ta/2 is the equivalent of Za/2 from Z-distribution\n",
    "t_alpha_by_2\n"
   ]
  },
  {
   "cell_type": "code",
   "execution_count": 27,
   "metadata": {},
   "outputs": [
    {
     "name": "stdout",
     "output_type": "stream",
     "text": [
      "1.3726158392212553 1.8273841607787449\n"
     ]
    }
   ],
   "source": [
    "LCL = mu_sample-(t_alpha_by_2*std_sample/np.sqrt(n))\n",
    "UCL = mu_sample+(t_alpha_by_2*std_sample/np.sqrt(n))\n",
    "\n",
    "print(LCL, UCL)"
   ]
  },
  {
   "attachments": {},
   "cell_type": "markdown",
   "metadata": {},
   "source": [
    "Problema de proporción: La universidad de NY ha abierto la plaza de profesor de Astrofísica. El número total de solicitudes fue de 36. Para verificar la autenticidad de los solicitantes, se recopiló una muestra de 10 solicitudes, de las cuales 3 solicitantes resultaron ser un fraude. Construya el intervalo de confianza del 95% para la proporción de la población."
   ]
  },
  {
   "cell_type": "code",
   "execution_count": 28,
   "metadata": {},
   "outputs": [
    {
     "data": {
      "text/plain": [
       "1.9599639845400545"
      ]
     },
     "execution_count": 28,
     "metadata": {},
     "output_type": "execute_result"
    }
   ],
   "source": [
    "n         = 10 # sample size\n",
    "p         = 3/10 # sample proportion\n",
    "\n",
    "z_alphy_2 = scipy.stats.norm.isf(0.05/2)\n",
    "z_alphy_2"
   ]
  },
  {
   "cell_type": "code",
   "execution_count": 29,
   "metadata": {},
   "outputs": [
    {
     "name": "stdout",
     "output_type": "stream",
     "text": [
      "0.015974234910674567 0.5840257650893255\n"
     ]
    }
   ],
   "source": [
    "lcl = p-np.sqrt(p*(1-p)/n)*z_alphy_2\n",
    "ucl = p+np.sqrt(p*(1-p)/n)*z_alphy_2\n",
    "print(lcl, ucl)"
   ]
  },
  {
   "cell_type": "code",
   "execution_count": 30,
   "metadata": {},
   "outputs": [
    {
     "data": {
      "text/plain": [
       "(0.015974234910674623, 0.5840257650893254)"
      ]
     },
     "execution_count": 30,
     "metadata": {},
     "output_type": "execute_result"
    }
   ],
   "source": [
    "scipy.stats.norm.interval(0.95,p,np.sqrt(p*(1-p)/n))"
   ]
  }
 ],
 "metadata": {
  "kernelspec": {
   "display_name": "envSpark",
   "language": "python",
   "name": "python3"
  },
  "language_info": {
   "codemirror_mode": {
    "name": "ipython",
    "version": 3
   },
   "file_extension": ".py",
   "mimetype": "text/x-python",
   "name": "python",
   "nbconvert_exporter": "python",
   "pygments_lexer": "ipython3",
   "version": "3.8.10"
  },
  "orig_nbformat": 4
 },
 "nbformat": 4,
 "nbformat_minor": 2
}
