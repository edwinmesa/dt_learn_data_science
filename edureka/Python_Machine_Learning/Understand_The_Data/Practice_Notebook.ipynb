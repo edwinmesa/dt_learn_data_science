{
 "cells": [
  {
   "cell_type": "code",
   "execution_count": 11,
   "metadata": {},
   "outputs": [],
   "source": [
    "import pandas as pd\n",
    "import numpy as np"
   ]
  },
  {
   "cell_type": "code",
   "execution_count": 12,
   "metadata": {},
   "outputs": [
    {
     "name": "stdout",
     "output_type": "stream",
     "text": [
      "Sorry boys, you can not join the club\n"
     ]
    }
   ],
   "source": [
    "#nominal data\n",
    "ans1=input(\"Would you like to go for shopping? if yes then type Y / y else N/n\")\n",
    "ans2=input(\"Do you love talking on any topic? if yes then type Y / y else N/n\")\n",
    "\n",
    "if(((ans1=='Y')|(ans1=='y'))&((ans2=='Y')|(ans2=='y'))):\n",
    "    print(\"Welcome to girls club\")\n",
    "else:\n",
    "    print(\"Sorry boys, you can not join the club\")"
   ]
  },
  {
   "cell_type": "code",
   "execution_count": 13,
   "metadata": {},
   "outputs": [
    {
     "ename": "ValueError",
     "evalue": "invalid literal for int() with base 10: ''",
     "output_type": "error",
     "traceback": [
      "\u001b[0;31m---------------------------------------------------------------------------\u001b[0m",
      "\u001b[0;31mValueError\u001b[0m                                Traceback (most recent call last)",
      "Cell \u001b[0;32mIn[13], line 2\u001b[0m\n\u001b[1;32m      1\u001b[0m \u001b[39m#Ordinal data\u001b[39;00m\n\u001b[0;32m----> 2\u001b[0m marks\u001b[39m=\u001b[39m\u001b[39mint\u001b[39;49m(\u001b[39minput\u001b[39;49m(\u001b[39m\"\u001b[39;49m\u001b[39mEnter your percentage\u001b[39;49m\u001b[39m\"\u001b[39;49m))\n\u001b[1;32m      4\u001b[0m \u001b[39mif\u001b[39;00m(marks\u001b[39m<\u001b[39m\u001b[39m=\u001b[39m\u001b[39m40\u001b[39m):\n\u001b[1;32m      5\u001b[0m     \u001b[39mprint\u001b[39m(\u001b[39m\"\u001b[39m\u001b[39mFail\u001b[39m\u001b[39m\"\u001b[39m)\n",
      "\u001b[0;31mValueError\u001b[0m: invalid literal for int() with base 10: ''"
     ]
    }
   ],
   "source": [
    "#Ordinal data\n",
    "marks=int(input(\"Enter your percentage\"))\n",
    "\n",
    "if(marks<=40):\n",
    "    print(\"Fail\")\n",
    "elif((marks>40)&(marks<=50)):\n",
    "    print(\"Second Class\")\n",
    "elif((marks>50)&(marks<=60)):\n",
    "    print(\"First Class\")\n",
    "elif(marks>=60):\n",
    "    print(\"Congratulations!! You got distinction\")"
   ]
  },
  {
   "cell_type": "code",
   "execution_count": null,
   "metadata": {},
   "outputs": [
    {
     "data": {
      "image/png": "[encoded data removed]",
      "text/plain": [
       "<Figure size 640x480 with 1 Axes>"
      ]
     },
     "metadata": {},
     "output_type": "display_data"
    }
   ],
   "source": [
    "#mean mode median\n",
    "import matplotlib\n",
    "import matplotlib.pyplot as plt\n",
    "matplotlib.style.use('ggplot')\n",
    "import numpy as np\n",
    "from statistics import mode\n",
    "from scipy import stats\n",
    "\n",
    "np.random.seed(1)\n",
    "data = np.round(np.random.normal(5, 2, 100))\n",
    "plt.hist(data, bins=10, range=(0,10), edgecolor='black')\n",
    "\n",
    "plt.show()"
   ]
  },
  {
   "cell_type": "code",
   "execution_count": null,
   "metadata": {},
   "outputs": [],
   "source": [
    "# mean = np.mean(data)\n",
    "# print(mean)\n",
    "# print(np.median(data))\n",
    "# mode = stats.mode(data)\n",
    "# print(\"The modal value is {} with a count of {}\".format(mode.mode[0], mode.count[0]))"
   ]
  },
  {
   "cell_type": "code",
   "execution_count": null,
   "metadata": {},
   "outputs": [
    {
     "name": "stdout",
     "output_type": "stream",
     "text": [
      "mean 4.82\n",
      "median 5.0\n",
      "mode 5.0\n"
     ]
    }
   ],
   "source": [
    "data = np.round(np.random.normal(5, 2, 100))\n",
    "# data\n",
    "print(\"mean\", data.mean())\n",
    "print(\"median\", np.median(data))\n",
    "print(\"mode\", mode(data))"
   ]
  },
  {
   "cell_type": "code",
   "execution_count": null,
   "metadata": {},
   "outputs": [
    {
     "data": {
      "text/plain": [
       "array([ 4.,  7.,  4.,  9.,  2.,  1.,  2.,  3.,  3.,  9.,  4.,  2.,  7.,\n",
       "        4.,  3.,  7.,  6.,  4.,  8.,  5.,  8.,  6.,  8.,  5.,  3., 10.,\n",
       "        4.,  5.,  4.,  5.,  5.,  5.,  6.,  9.,  5.,  3.,  3.,  4.,  2.,\n",
       "        7.,  4.,  4.,  5.,  2.,  3.,  6.,  6.,  4.,  9.,  2.,  4.,  5.,\n",
       "       -1.,  9.,  6.,  3.,  9.,  6.,  6.,  4.,  5.,  2.,  7.,  4.,  5.,\n",
       "        7.,  6.,  6.,  6.,  4.,  7.,  8.,  7.,  7.,  3.,  3.,  2.,  7.,\n",
       "        4.,  8.,  3.,  4.,  5.,  7.,  5.,  5.,  5.,  5.,  3.,  5.,  5.,\n",
       "        5.,  6.,  4.,  5.,  4.,  6.,  7.,  3.,  6.])"
      ]
     },
     "execution_count": 23,
     "metadata": {},
     "output_type": "execute_result"
    }
   ],
   "source": [
    "data"
   ]
  },
  {
   "cell_type": "code",
   "execution_count": null,
   "metadata": {},
   "outputs": [
    {
     "data": {
      "text/html": [
       "<div>\n",
       "<style scoped>\n",
       "    .dataframe tbody tr th:only-of-type {\n",
       "        vertical-align: middle;\n",
       "    }\n",
       "\n",
       "    .dataframe tbody tr th {\n",
       "        vertical-align: top;\n",
       "    }\n",
       "\n",
       "    .dataframe thead th {\n",
       "        text-align: right;\n",
       "    }\n",
       "</style>\n",
       "<table border=\"1\" class=\"dataframe\">\n",
       "  <thead>\n",
       "    <tr style=\"text-align: right;\">\n",
       "      <th></th>\n",
       "      <th>John - Marks</th>\n",
       "      <th>Adam - Marks</th>\n",
       "      <th>David - Marks</th>\n",
       "      <th>Rahul - Marks</th>\n",
       "    </tr>\n",
       "  </thead>\n",
       "  <tbody>\n",
       "    <tr>\n",
       "      <th>0</th>\n",
       "      <td>98</td>\n",
       "      <td>88</td>\n",
       "      <td>90</td>\n",
       "      <td>88</td>\n",
       "    </tr>\n",
       "    <tr>\n",
       "      <th>1</th>\n",
       "      <td>87</td>\n",
       "      <td>52</td>\n",
       "      <td>92</td>\n",
       "      <td>85</td>\n",
       "    </tr>\n",
       "    <tr>\n",
       "      <th>2</th>\n",
       "      <td>76</td>\n",
       "      <td>69</td>\n",
       "      <td>71</td>\n",
       "      <td>79</td>\n",
       "    </tr>\n",
       "    <tr>\n",
       "      <th>3</th>\n",
       "      <td>88</td>\n",
       "      <td>79</td>\n",
       "      <td>60</td>\n",
       "      <td>81</td>\n",
       "    </tr>\n",
       "    <tr>\n",
       "      <th>4</th>\n",
       "      <td>96</td>\n",
       "      <td>80</td>\n",
       "      <td>64</td>\n",
       "      <td>91</td>\n",
       "    </tr>\n",
       "    <tr>\n",
       "      <th>5</th>\n",
       "      <td>77</td>\n",
       "      <td>58</td>\n",
       "      <td>62</td>\n",
       "      <td>30</td>\n",
       "    </tr>\n",
       "  </tbody>\n",
       "</table>\n",
       "</div>"
      ],
      "text/plain": [
       "   John - Marks   Adam - Marks  David - Marks  Rahul - Marks\n",
       "0             98            88             90             88\n",
       "1             87            52             92             85\n",
       "2             76            69             71             79\n",
       "3             88            79             60             81\n",
       "4             96            80             64             91\n",
       "5             77            58             62             30"
      ]
     },
     "execution_count": 8,
     "metadata": {},
     "output_type": "execute_result"
    }
   ],
   "source": [
    "# measure of center \n",
    "import pandas as pd\n",
    "\n",
    "# Creating the dataframe of student's marks\n",
    "df = pd.DataFrame({\"John - Marks \":[98,87,76,88,96,77],\n",
    "\t\t\t\t\"Adam - Marks\":[88,52,69,79,80, 58],\n",
    "\t\t\t\t\"David - Marks\":[90,92,71,60,64,62],\n",
    "\t\t\t\t\"Rahul - Marks\":[88,85,79,81,91, 30]})\n",
    "\n",
    "# Printing the dataframe\n",
    "df\n"
   ]
  },
  {
   "cell_type": "code",
   "execution_count": null,
   "metadata": {},
   "outputs": [
    {
     "data": {
      "text/plain": [
       "John - Marks     87.000000\n",
       "Adam - Marks     71.000000\n",
       "David - Marks    73.166667\n",
       "Rahul - Marks    75.666667\n",
       "dtype: float64"
      ]
     },
     "execution_count": 9,
     "metadata": {},
     "output_type": "execute_result"
    }
   ],
   "source": [
    "df.mean(axis = 0)"
   ]
  },
  {
   "cell_type": "code",
   "execution_count": null,
   "metadata": {},
   "outputs": [
    {
     "data": {
      "text/plain": [
       "John - Marks     88.0\n",
       "Adam - Marks     79.0\n",
       "David - Marks    71.0\n",
       "Rahul - Marks    85.0\n",
       "dtype: float64"
      ]
     },
     "execution_count": 3,
     "metadata": {},
     "output_type": "execute_result"
    }
   ],
   "source": [
    "df.median(axis = 0)"
   ]
  },
  {
   "cell_type": "code",
   "execution_count": null,
   "metadata": {},
   "outputs": [
    {
     "name": "stdout",
     "output_type": "stream",
     "text": [
      "(array([4., 3., 2., 1.]), array([11., 15., 19., 23., 26.]), <BarContainer object of 4 artists>)\n"
     ]
    },
    {
     "data": {
      "image/png": "[encoded data removed]",
      "text/plain": [
       "<Figure size 640x480 with 1 Axes>"
      ]
     },
     "metadata": {},
     "output_type": "display_data"
    }
   ],
   "source": [
    "# Importing Libraries\n",
    "import matplotlib.pyplot as plt\n",
    "# Storing data in a list\n",
    "data = [11, 12, 12, 14, 15, 17, 18, 19, 22, 25]\n",
    "# Setting our bins in the form of a list\n",
    "bins = [11, 15, 19, 23, 26]\n",
    "# Plotting a very simple histogram and setting edge color to white \n",
    "histogram = plt.hist(data, bins=bins, edgecolor='white')\n",
    "# Viewing histogram\n",
    "print(histogram)"
   ]
  },
  {
   "cell_type": "code",
   "execution_count": 17,
   "metadata": {},
   "outputs": [
    {
     "name": "stdout",
     "output_type": "stream",
     "text": [
      "Variance =  8.0\n",
      "Standard Deviation =  2.8284271247461903\n"
     ]
    }
   ],
   "source": [
    "# Importing libraries\n",
    "import numpy\n",
    "# Storing input data into a list\n",
    "input_data = [10, 14, 10, 6]\n",
    "# Computing variance\n",
    "print(\"Variance = \", np.var(input_data))\n",
    "# Computing standard deviation\n",
    "print(\"Standard Deviation = \", np.std(input_data))"
   ]
  },
  {
   "cell_type": "code",
   "execution_count": 20,
   "metadata": {},
   "outputs": [
    {
     "name": "stdout",
     "output_type": "stream",
     "text": [
      "13.833333333333334 mean\n",
      "12.5 median\n",
      "8.050189783822216 std\n",
      "64.80555555555556 vars\n"
     ]
    }
   ],
   "source": [
    "x = [15,25,3,23,10,7]\n",
    "\n",
    "print(np.mean(x), \"mean\")\n",
    "print(np.median(x), \"median\")\n",
    "print(np.std(x), \"std\")\n",
    "print(np.var(x), \"vars\")"
   ]
  },
  {
   "cell_type": "code",
   "execution_count": 21,
   "metadata": {},
   "outputs": [
    {
     "name": "stdout",
     "output_type": "stream",
     "text": [
      "   Unnamed: 0  Gender  FSIQ  VIQ  PIQ  Weight  Height  MRI_Count\n",
      "0           1  Female   133  132  124   118.0    64.5     816932\n",
      "1           2    Male   140  150  124     NaN    72.5    1001121\n",
      "2           3    Male   139  123  150   143.0    73.3    1038437\n",
      "3           4    Male   133  129  128   172.0    68.8     965353\n",
      "4           5  Female   137  132  134   147.0    65.0     951545\n"
     ]
    }
   ],
   "source": [
    "import pandas as pd\n",
    "import numpy as np\n",
    "\n",
    "data=pd.read_csv(\"brain_size.csv\",sep=';',na_values='.')\n",
    "print(data.head())"
   ]
  },
  {
   "cell_type": "code",
   "execution_count": 22,
   "metadata": {},
   "outputs": [
    {
     "name": "stdout",
     "output_type": "stream",
     "text": [
      "    Unnamed: 0  Gender  FSIQ  VIQ  PIQ  Weight  Height  MRI_Count\n",
      "0            1  Female   133  132  124   118.0    64.5     816932\n",
      "4            5  Female   137  132  134   147.0    65.0     951545\n",
      "5            6  Female    99   90  110   146.0    69.0     928799\n",
      "6            7  Female   138  136  131   138.0    64.5     991305\n",
      "7            8  Female    92   90   98   175.0    66.0     854258\n",
      "10          11  Female   132  129  124   118.0    64.5     833868\n",
      "13          14  Female   140  120  147   155.0    70.5     856472\n",
      "14          15  Female    96  100   90   146.0    66.0     878897\n",
      "15          16  Female    83   71   96   135.0    68.0     865363\n",
      "16          17  Female   132  132  120   127.0    68.5     852244\n",
      "18          19  Female   101  112   84   136.0    66.3     808020\n",
      "22          23  Female   135  129  134   122.0    62.0     790619\n",
      "24          25  Female    91   86  102   114.0    63.0     831772\n",
      "26          27  Female    85   90   84   140.0    68.0     798612\n",
      "28          29  Female    77   83   72   106.0    63.0     793549\n",
      "29          30  Female   130  126  124   159.0    66.5     866662\n",
      "30          31  Female   133  126  132   127.0    62.5     857782\n",
      "34          35  Female    83   90   81   143.0    66.5     834344\n",
      "35          36  Female   133  129  128   153.0    66.5     948066\n",
      "37          38  Female    88   86   94   139.0    64.5     893983\n"
     ]
    }
   ],
   "source": [
    "data1=data[data['Gender']=='Female']['VIQ']\n",
    "print(data[data['Gender']=='Female'])\n"
   ]
  },
  {
   "cell_type": "code",
   "execution_count": 23,
   "metadata": {},
   "outputs": [
    {
     "name": "stdout",
     "output_type": "stream",
     "text": [
      "\n",
      "\n",
      "The mean value of Female VIQ is  109.45\n"
     ]
    }
   ],
   "source": [
    "print(\"\\n\")\n",
    "print(\"The mean value of Female VIQ is \",\n",
    "      data1.mean())"
   ]
  },
  {
   "cell_type": "code",
   "execution_count": 24,
   "metadata": {},
   "outputs": [
    {
     "name": "stdout",
     "output_type": "stream",
     "text": [
      "[132 132  90 136  90 129 120 100  71 132 112 129  86  90  83 126 126  90\n",
      " 129  86]\n",
      "Mean VIQ:        109.45\n"
     ]
    }
   ],
   "source": [
    "VIQ = np.array(data1)\n",
    "print(VIQ)\n",
    "print(\"Mean VIQ:       \", VIQ.mean())"
   ]
  },
  {
   "cell_type": "code",
   "execution_count": 26,
   "metadata": {},
   "outputs": [
    {
     "name": "stdout",
     "output_type": "stream",
     "text": [
      "Median VIQ   116.0\n",
      "Standard deviation: 21.12220395697381\n",
      "Minimum VIQ:     71\n",
      "Maximum VIQ:     136\n"
     ]
    }
   ],
   "source": [
    "print(\"Median VIQ  \",np.median(VIQ))\n",
    "print(\"Standard deviation:\", VIQ.std())\n",
    "print(\"Minimum VIQ:    \", VIQ.min())\n",
    "print(\"Maximum VIQ:    \", VIQ.max())"
   ]
  }
 ],
 "metadata": {
  "kernelspec": {
   "display_name": "envSpark",
   "language": "python",
   "name": "python3"
  },
  "language_info": {
   "codemirror_mode": {
    "name": "ipython",
    "version": 3
   },
   "file_extension": ".py",
   "mimetype": "text/x-python",
   "name": "python",
   "nbconvert_exporter": "python",
   "pygments_lexer": "ipython3",
   "version": "3.8.10"
  },
  "orig_nbformat": 4
 },
 "nbformat": 4,
 "nbformat_minor": 2
}
