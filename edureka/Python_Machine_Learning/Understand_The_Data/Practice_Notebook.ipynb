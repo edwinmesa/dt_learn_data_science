{
 "cells": [
  {
   "cell_type": "code",
   "execution_count": 5,
   "metadata": {},
   "outputs": [],
   "source": [
    "import pandas as pd\n",
    "import numpy as np"
   ]
  },
  {
   "cell_type": "code",
   "execution_count": 6,
   "metadata": {},
   "outputs": [
    {
     "name": "stdout",
     "output_type": "stream",
     "text": [
      "Welcome to girls club\n"
     ]
    }
   ],
   "source": [
    "#nominal data\n",
    "ans1=input(\"Would you like to go for shopping? if yes then type Y / y else N/n\")\n",
    "ans2=input(\"Do you love talking on any topic? if yes then type Y / y else N/n\")\n",
    "\n",
    "if(((ans1=='Y')|(ans1=='y'))&((ans2=='Y')|(ans2=='y'))):\n",
    "    print(\"Welcome to girls club\")\n",
    "else:\n",
    "    print(\"Sorry boys, you can not join the club\")"
   ]
  },
  {
   "cell_type": "code",
   "execution_count": 7,
   "metadata": {},
   "outputs": [
    {
     "name": "stdout",
     "output_type": "stream",
     "text": [
      "Congratulations!! You got distinction\n"
     ]
    }
   ],
   "source": [
    "#Ordinal data\n",
    "marks=int(input(\"Enter your percentage\"))\n",
    "\n",
    "if(marks<=40):\n",
    "    print(\"Fail\")\n",
    "elif((marks>40)&(marks<=50)):\n",
    "    print(\"Second Class\")\n",
    "elif((marks>50)&(marks<=60)):\n",
    "    print(\"First Class\")\n",
    "elif(marks>=60):\n",
    "    print(\"Congratulations!! You got distinction\")"
   ]
  },
  {
   "cell_type": "code",
   "execution_count": 11,
   "metadata": {},
   "outputs": [
    {
     "data": {
      "image/png": "[encoded data removed]",
      "text/plain": [
       "<Figure size 640x480 with 1 Axes>"
      ]
     },
     "metadata": {},
     "output_type": "display_data"
    }
   ],
   "source": [
    "\n",
    "#mean mode median\n",
    "import matplotlib\n",
    "import matplotlib.pyplot as plt\n",
    "matplotlib.style.use('ggplot')\n",
    "import numpy as np\n",
    "from statistics import mode\n",
    "from scipy import stats\n",
    "\n",
    "np.random.seed(1)\n",
    "data = np.round(np.random.normal(5, 2, 100))\n",
    "plt.hist(data, bins=10, range=(0,10), edgecolor='black')\n",
    "\n",
    "plt.show()"
   ]
  },
  {
   "cell_type": "code",
   "execution_count": 12,
   "metadata": {},
   "outputs": [
    {
     "name": "stdout",
     "output_type": "stream",
     "text": [
      "5.1\n",
      "5.0\n",
      "The modal value is 5.0 with a count of 23\n"
     ]
    },
    {
     "name": "stderr",
     "output_type": "stream",
     "text": [
      "/tmp/ipykernel_1834/2280172623.py:4: FutureWarning: Unlike other reduction functions (e.g. `skew`, `kurtosis`), the default behavior of `mode` typically preserves the axis it acts along. In SciPy 1.11.0, this behavior will change: the default value of `keepdims` will become False, the `axis` over which the statistic is taken will be eliminated, and the value None will no longer be accepted. Set `keepdims` to True or False to avoid this warning.\n",
      "  mode = stats.mode(data)\n"
     ]
    }
   ],
   "source": [
    "mean = np.mean(data)\n",
    "print(mean)\n",
    "print(np.median(data))\n",
    "mode = stats.mode(data)\n",
    "print(\"The modal value is {} with a count of {}\".format(mode.mode[0], mode.count[0]))"
   ]
  }
 ],
 "metadata": {
  "kernelspec": {
   "display_name": "envSpark",
   "language": "python",
   "name": "python3"
  },
  "language_info": {
   "codemirror_mode": {
    "name": "ipython",
    "version": 3
   },
   "file_extension": ".py",
   "mimetype": "text/x-python",
   "name": "python",
   "nbconvert_exporter": "python",
   "pygments_lexer": "ipython3",
   "version": "3.8.10"
  },
  "orig_nbformat": 4
 },
 "nbformat": 4,
 "nbformat_minor": 2
}
