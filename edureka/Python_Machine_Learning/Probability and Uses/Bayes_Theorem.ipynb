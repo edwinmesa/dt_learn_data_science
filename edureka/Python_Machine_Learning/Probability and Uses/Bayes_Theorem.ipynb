{
 "cells": [
  {
   "cell_type": "code",
   "execution_count": 5,
   "metadata": {},
   "outputs": [],
   "source": [
    "# Bayes Theorem states the following for any two events A and B:\n",
    "\n",
    "# P(A|B) = P(A)*P(B|A) / P(B)\n",
    "\n",
    "\n",
    "# For example, suppose the probability of the weather being cloudy is 40%.\n",
    "# Also suppose the probability of rain on a given day is 20%.\n",
    "# Also suppose the probability of clouds on a rainy day is 85%. \n",
    "# If it’s cloudy outside on a given day, what is the probability that it will rain that day?\n",
    "\n",
    "# P(cloudy) = 0.40\n",
    "# P(rain) = 0.20\n",
    "# P(cloudy | rain) = 0.85\n",
    "\n",
    "# Thus, we can calculate:\n",
    "\n",
    "# P(rain | cloudy) = P(rain) * P(cloudy | rain) / P(cloudy)\n",
    "# P(rain | cloudy) = 0.20 * 0.85 / 0.40\n",
    "# P(rain | cloudy) = 0.425\n",
    "\n",
    "# If it’s cloudy outside on a given day, the probability that it will rain that day is 42.5%.\n",
    "\n",
    "# We can create the following simple function to apply Bayes’ Theorem in Python:"
   ]
  },
  {
   "cell_type": "code",
   "execution_count": 6,
   "metadata": {},
   "outputs": [
    {
     "data": {
      "text/plain": [
       "0.425"
      ]
     },
     "execution_count": 6,
     "metadata": {},
     "output_type": "execute_result"
    }
   ],
   "source": [
    "#define function for Bayes' theorem\n",
    "def bayesTheorem(pA, pB, pBA):\n",
    "    return pA * pBA / pB\n",
    "\n",
    "#define probabilities\n",
    "pRain = 0.2\n",
    "pCloudy = 0.4\n",
    "pCloudyRain = 0.85\n",
    "\n",
    "#use function to calculate conditional probability\n",
    "bayesTheorem(pRain, pCloudy, pCloudyRain)\n",
    "\n",
    "# 0.425"
   ]
  },
  {
   "cell_type": "code",
   "execution_count": 7,
   "metadata": {},
   "outputs": [],
   "source": [
    "import warnings\n",
    "import numpy as np\n",
    "import matplotlib.pyplot as plt\n",
    "from sklearn.naive_bayes import GaussianNB\n",
    "from IPython.display import Image"
   ]
  },
  {
   "cell_type": "code",
   "execution_count": 8,
   "metadata": {},
   "outputs": [],
   "source": [
    "x_blue = np.array([1,2,1,5,1.5,2.4,4.9,4.5])\n",
    "y_blue = np.array([5,6.3,6.1,4,3.5,2,4.1,3])\n",
    "z_blue = np.array([5,1.3,1.1,1,3.5,2,4.1,3])\n",
    "\n",
    "x_red = np.array([5,7,7,8,5.5,6,6.1,7.7])\n",
    "y_red = np.array([5,7.7,7,9,5,4,8.5,5.5])\n",
    "z_red = np.array([5,6.7,7,9,1,4,6.5,5.5])"
   ]
  },
  {
   "cell_type": "code",
   "execution_count": null,
   "metadata": {},
   "outputs": [],
   "source": [
    "red_points = np.array(zip(x_red,y_red,z_red))\n",
    "blue_points = np.array(zip(x_blue,y_blue,z_blue))\n",
    "points = np.concatenate([red_points,blue_points])\n",
    "output = np.concatenate([np.ones(x_red.size),np.zeros(x_blue.size)])"
   ]
  }
 ],
 "metadata": {
  "kernelspec": {
   "display_name": "envSpark",
   "language": "python",
   "name": "python3"
  },
  "language_info": {
   "codemirror_mode": {
    "name": "ipython",
    "version": 3
   },
   "file_extension": ".py",
   "mimetype": "text/x-python",
   "name": "python",
   "nbconvert_exporter": "python",
   "pygments_lexer": "ipython3",
   "version": "3.8.10"
  },
  "orig_nbformat": 4
 },
 "nbformat": 4,
 "nbformat_minor": 2
}
