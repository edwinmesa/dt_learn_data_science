{
  "nbformat": 4,
  "nbformat_minor": 0,
  "metadata": {
    "colab": {
      "name": "M1: Python Basics 1 - Part 1",
      "provenance": [],
      "collapsed_sections": [
        "uVQCM4FJ5Y_j",
        "1wYGnuO552W9",
        "HMbEICc96pzM",
        "VjIOsEt2Lj6i",
        "tpyIaXurM-tU",
        "9wuz8A80VDtf",
        "FiZF__pUSb92",
        "I2QeGhhnSb9-",
        "H3w_umq0Sb-E",
        "noTpfMQ9Sb-K",
        "j7gZl5oMSb-Q",
        "11Mmo_WlPRNT"
      ]
    },
    "kernelspec": {
      "name": "python3",
      "display_name": "Python 3"
    }
  },
  "cells": [
    {
      "cell_type": "markdown",
      "metadata": {
        "id": "j4O_3cFe4kpD",
        "colab_type": "text"
      },
      "source": [
        "![alt text](https://i.imgur.com/YNooG8G.png)"
      ]
    },
    {
      "cell_type": "markdown",
      "metadata": {
        "id": "3jbsX8jJS_kf",
        "colab_type": "text"
      },
      "source": [
        "# Getting Started with Python\n",
        "\n",
        "\n",
        "---\n",
        "\n",
        "\n",
        "\n",
        "\n",
        "\n",
        "\n",
        "## What is Python?\n",
        "Python is a popular programming language that is reliable, flexible, easy to learn, free to use on all operating systems, and supported by both a strong developer community and many free libraries. Python supports all manners of development, including web applications, web services, desktop apps, scripting, data science, scientific computing, and Jupyter notebooks. Python is a language used by many universities, scientists, casual developers, and professional developers alike.\n",
        "\n",
        "\n",
        "\n",
        "You can learn more about the language on [python.org](https://www.python.org/) and [Python for Beginners](https://www.python.org/about/gettingstarted/).\n",
        "Or you can refer to [edureka python blogs](https://www.edureka.co/blog/what-is-python/): \n",
        "\n",
        "This introduction is written for Python 3.6.7 but is generally applicable to other Python 3.x versions. \n",
        "\n",
        "The original material is Copyright (c) 2001-2018 Python Software Foundation.\n",
        "\n",
        "> **Note**: This notebook is designed to have you run code cells one by one, and several code cells contain deliberate errors for demonstration purposes. As a result, if you use the **Cell** > **Run All** command, some code cells past the error won't be run. To resume running the code in each case, use **Cell** > **Run All Below** from the cell after the error."
      ]
    },
    {
      "cell_type": "code",
      "metadata": {
        "id": "mBAurAHl4fXA",
        "colab_type": "code",
        "colab": {
          "base_uri": "https://localhost:8080/",
          "height": 34
        },
        "outputId": "3b1f8508-134d-4157-b954-9d355cd76a47"
      },
      "source": [
        "#Why Use Python for AI-ML - Code Simplicity\n",
        "# Printing a statement in Python\n",
        "print('Hello World')"
      ],
      "execution_count": null,
      "outputs": [
        {
          "output_type": "stream",
          "text": [
            "Hello World\n"
          ],
          "name": "stdout"
        }
      ]
    },
    {
      "cell_type": "code",
      "metadata": {
        "id": "a-bFFprT5Gwc",
        "colab_type": "code",
        "colab": {
          "base_uri": "https://localhost:8080/",
          "height": 34
        },
        "outputId": "a506d402-d860-4d72-9f5c-1bb5d18830a2"
      },
      "source": [
        "# Sum of two numbers in Python\n",
        "\n",
        "# Type 1 --> Its as easy as!\n",
        "10+20"
      ],
      "execution_count": null,
      "outputs": [
        {
          "output_type": "execute_result",
          "data": {
            "text/plain": [
              "30"
            ]
          },
          "metadata": {
            "tags": []
          },
          "execution_count": 4
        }
      ]
    },
    {
      "cell_type": "code",
      "metadata": {
        "id": "bS_GD8GPwzt7",
        "colab_type": "code",
        "colab": {
          "base_uri": "https://localhost:8080/",
          "height": 51
        },
        "outputId": "067c9a26-331f-4579-b820-8fbd28521846"
      },
      "source": [
        "#Type 2\n",
        "a = 10\n",
        "b = 20\n",
        "print(a+b)\n",
        "print(a*b)"
      ],
      "execution_count": null,
      "outputs": [
        {
          "output_type": "stream",
          "text": [
            "30\n",
            "200\n"
          ],
          "name": "stdout"
        }
      ]
    },
    {
      "cell_type": "markdown",
      "metadata": {
        "id": "JM3-AP211e0S",
        "colab_type": "text"
      },
      "source": [
        "## Q. Can a non-programmer learn the Python language from a non-tech background? With just this language, is it possible to earn some passive income?\n",
        "\n",
        "There is no rule like people only from technical background can learn python (or any other programming language for that matter). People with any background can be a programmer, what it takes is practice (a lot of it, if you want to be best or at least better than the good ) and your thinking from coding perspective (Develop your thinking in terms of programing/coding, it will come with practice).\n",
        "\n",
        "You will find many examples who are best programmers in industry instead having non-tech background. Chemical engineers, Mechanical engineers, Mathematicians, Pharmacy background there are many of these.\n",
        "\n",
        "So, Yes! you can learn python and it doesn't matter what is your prior educational background is. Refer good books, online learning courses/channels. But remember, the skills you need as a programmer will only come with practice, so practice a lot, do it daily, I mean obviously how your current work-life balance permits. But you have to sweat to enjoy the fruits later.\n",
        "\n",
        "Now once you are good at it, you can look for a job(entry level) or as you mentioned passive you can do freelancing - build your profile strong. you can work part-time. There are many organizations who outsource their work, once you are in likewise group you will get many opportunities. And for that do some freelancing first, build your network."
      ]
    },
    {
      "cell_type": "markdown",
      "metadata": {
        "id": "5QH82sMiS_kh",
        "colab_type": "text"
      },
      "source": [
        "## Comments\n",
        "\n",
        "Most of the examples in this notebook include comments. \n",
        "\n",
        "\n",
        "*   A Comments in Python start with the hash character, `#`\n",
        "*   A comment may appear at the start of a line or following whitespace or code, but not within a string literal\n",
        "*   A hash character within a string literal is just a hash character.\n",
        "*   Comments are used just to clarify the code and are not interpreted by python\n",
        "\n",
        "For example:"
      ]
    },
    {
      "cell_type": "code",
      "metadata": {
        "id": "ZVqLosoIDNIt",
        "colab_type": "code",
        "colab": {}
      },
      "source": [
        "# this is the first comment\n",
        "sample = 1                 # and a comment on the same line as code\n",
        "# ... and now a third!\n",
        "STRING = \"# This is not a comment.\""
      ],
      "execution_count": null,
      "outputs": []
    },
    {
      "cell_type": "markdown",
      "metadata": {
        "id": "q_nir-wTVDty",
        "colab_type": "text"
      },
      "source": [
        "##Accepting User Inputs"
      ]
    },
    {
      "cell_type": "markdown",
      "metadata": {
        "id": "1hyoZTyQVDtz",
        "colab_type": "text"
      },
      "source": [
        "**input( )** accepts input and stores it as a string. Hence, if the user inputs a integer, the code should convert the string to an integer and then proceed."
      ]
    },
    {
      "cell_type": "code",
      "metadata": {
        "id": "HmJWJNL6VDt7",
        "colab_type": "code",
        "colab": {
          "base_uri": "https://localhost:8080/",
          "height": 34
        },
        "outputId": "ed2852fc-7bbb-4a45-d869-400b09670bc6"
      },
      "source": [
        "num1 =  input(\"Enter a number \\t\")"
      ],
      "execution_count": null,
      "outputs": [
        {
          "output_type": "stream",
          "text": [
            "Enter a number \t123\n"
          ],
          "name": "stdout"
        }
      ]
    },
    {
      "cell_type": "code",
      "metadata": {
        "id": "_5drdWc3W4kV",
        "colab_type": "code",
        "colab": {
          "base_uri": "https://localhost:8080/",
          "height": 163
        },
        "outputId": "72018309-c6d5-4b27-829c-c804019fbd9a"
      },
      "source": [
        "print(num1+10) #This will generate an error because num1 is of type string, so you have to type cast num1 first"
      ],
      "execution_count": null,
      "outputs": [
        {
          "output_type": "error",
          "ename": "TypeError",
          "evalue": "ignored",
          "traceback": [
            "\u001b[0;31m---------------------------------------------------------------------------\u001b[0m",
            "\u001b[0;31mTypeError\u001b[0m                                 Traceback (most recent call last)",
            "\u001b[0;32m<ipython-input-47-5bcb5c7bba90>\u001b[0m in \u001b[0;36m<module>\u001b[0;34m()\u001b[0m\n\u001b[0;32m----> 1\u001b[0;31m \u001b[0mprint\u001b[0m\u001b[0;34m(\u001b[0m\u001b[0mnum1\u001b[0m\u001b[0;34m+\u001b[0m\u001b[0;36m10\u001b[0m\u001b[0;34m)\u001b[0m \u001b[0;31m#This will generate an error because num1 is of type string, so you have to type cast num1 first\u001b[0m\u001b[0;34m\u001b[0m\u001b[0;34m\u001b[0m\u001b[0m\n\u001b[0m",
            "\u001b[0;31mTypeError\u001b[0m: must be str, not int"
          ]
        }
      ]
    },
    {
      "cell_type": "code",
      "metadata": {
        "id": "h8eb-hN4VDt-",
        "colab_type": "code",
        "colab": {
          "base_uri": "https://localhost:8080/",
          "height": 34
        },
        "outputId": "c2d28a08-98d4-48a8-fc33-3d3ecedbcc58"
      },
      "source": [
        "num1 = int(num1)\n",
        "print(num1+10)"
      ],
      "execution_count": null,
      "outputs": [
        {
          "output_type": "stream",
          "text": [
            "133\n"
          ],
          "name": "stdout"
        }
      ]
    },
    {
      "cell_type": "code",
      "metadata": {
        "id": "fCee_ENZxvWO",
        "colab_type": "code",
        "colab": {
          "base_uri": "https://localhost:8080/",
          "height": 68
        },
        "outputId": "e0025c50-6785-4976-aa27-17673ea38fd0"
      },
      "source": [
        "a = int(input(\"Enter a number \"))\n",
        "b = int(input(\"Enter another number \"))\n",
        "sum = a + b\n",
        "print(\"Sum of {0} and {1} is {2}\" .format(a,b,sum))"
      ],
      "execution_count": null,
      "outputs": [
        {
          "output_type": "stream",
          "text": [
            "Enter a number 10\n",
            "Enter another number 20\n",
            "Sum of 10 and 20 is 30\n"
          ],
          "name": "stdout"
        }
      ]
    },
    {
      "cell_type": "markdown",
      "metadata": {
        "id": "uVQCM4FJ5Y_j",
        "colab_type": "text"
      },
      "source": [
        "##Tokens in Python"
      ]
    },
    {
      "cell_type": "markdown",
      "metadata": {
        "id": "BFoo8f1R5cvX",
        "colab_type": "text"
      },
      "source": [
        "“Basic building blocks written together to form a program is known as **Token**.”\n"
      ]
    },
    {
      "cell_type": "markdown",
      "metadata": {
        "id": "1wYGnuO552W9",
        "colab_type": "text"
      },
      "source": [
        "###Types of Tokens in Python\n",
        "![](https://i.imgur.com/schSzJr.png)"
      ]
    },
    {
      "cell_type": "code",
      "metadata": {
        "id": "uRCCuajq5lHK",
        "colab_type": "code",
        "colab": {}
      },
      "source": [
        "# In the above example, sum of two numbers in Python:\n",
        "a = 10\n",
        "b = 20\n",
        "print(a+b)\n",
        "\n",
        "# Here 10,20 are literals, stored in variable(identifier) a, b. \n",
        "# print is a keyword and + is an operator"
      ],
      "execution_count": null,
      "outputs": []
    },
    {
      "cell_type": "markdown",
      "metadata": {
        "id": "VjIOsEt2Lj6i",
        "colab_type": "text"
      },
      "source": [
        "##Identifiers in Python"
      ]
    },
    {
      "cell_type": "code",
      "metadata": {
        "id": "qexCjS4jLqw6",
        "colab_type": "code",
        "colab": {
          "base_uri": "https://localhost:8080/",
          "height": 34
        },
        "outputId": "0a31871a-079c-42df-c871-921d26be735f"
      },
      "source": [
        "Incentive = 1000\n",
        "total_sal = 10000 + Incentive\n",
        "\n",
        "# Incentive = 1500\n",
        "# total_sal = 10000 + Incentive\n",
        "\n",
        "print(total_sal)\n"
      ],
      "execution_count": null,
      "outputs": [
        {
          "output_type": "stream",
          "text": [
            "11000\n"
          ],
          "name": "stdout"
        }
      ]
    },
    {
      "cell_type": "code",
      "metadata": {
        "id": "qJofpxdAL7vt",
        "colab_type": "code",
        "colab": {}
      },
      "source": [
        "var = 10\n",
        "Var = 'edureka!' #Python is case-sensitive\n",
        "print(var,Var)\n"
      ],
      "execution_count": null,
      "outputs": []
    },
    {
      "cell_type": "markdown",
      "metadata": {
        "id": "tpyIaXurM-tU",
        "colab_type": "text"
      },
      "source": [
        "###Rules for naming an identifier"
      ]
    },
    {
      "cell_type": "code",
      "metadata": {
        "id": "WA6X-EBGxAyQ",
        "colab_type": "code",
        "colab": {
          "base_uri": "https://localhost:8080/",
          "height": 129
        },
        "outputId": "9aa66c59-78b3-410e-9ed3-3bcf9ec99151"
      },
      "source": [
        "first name = 'Edureka'  # You will get a syntax error because you cannot use any spaces in between the variable name. \n",
        "# first_name = 'Edureka'"
      ],
      "execution_count": null,
      "outputs": [
        {
          "output_type": "error",
          "ename": "SyntaxError",
          "evalue": "ignored",
          "traceback": [
            "\u001b[0;36m  File \u001b[0;32m\"<ipython-input-31-091cf5313654>\"\u001b[0;36m, line \u001b[0;32m1\u001b[0m\n\u001b[0;31m    first name = 'Edureka'  # You will get a syntax error because you cannot use any spaces in between the variable name.\u001b[0m\n\u001b[0m             ^\u001b[0m\n\u001b[0;31mSyntaxError\u001b[0m\u001b[0;31m:\u001b[0m invalid syntax\n"
          ]
        }
      ]
    },
    {
      "cell_type": "code",
      "metadata": {
        "id": "TskQECL2NWAz",
        "colab_type": "code",
        "colab": {
          "base_uri": "https://localhost:8080/",
          "height": 197
        },
        "outputId": "37f6a1af-13ce-46e0-99c8-f2eeffe4e340"
      },
      "source": [
        "Count = 10\n",
        "print(count) #You will get an error because Python is case-sensitive language ‘Count’ and ‘count’ are treated as two different variables.\n",
        "#print(Count) "
      ],
      "execution_count": null,
      "outputs": [
        {
          "output_type": "error",
          "ename": "NameError",
          "evalue": "ignored",
          "traceback": [
            "\u001b[0;31m---------------------------------------------------------------------------\u001b[0m",
            "\u001b[0;31mNameError\u001b[0m                                 Traceback (most recent call last)",
            "\u001b[0;32m<ipython-input-32-28f18f989010>\u001b[0m in \u001b[0;36m<module>\u001b[0;34m()\u001b[0m\n\u001b[1;32m      1\u001b[0m \u001b[0mCount\u001b[0m \u001b[0;34m=\u001b[0m \u001b[0;36m10\u001b[0m\u001b[0;34m\u001b[0m\u001b[0;34m\u001b[0m\u001b[0m\n\u001b[0;32m----> 2\u001b[0;31m \u001b[0mprint\u001b[0m\u001b[0;34m(\u001b[0m\u001b[0mcount\u001b[0m\u001b[0;34m)\u001b[0m \u001b[0;31m#You will get an error because Python is case-sensitive language ‘Count’ and ‘count’ are treated as two different variables.\u001b[0m\u001b[0;34m\u001b[0m\u001b[0;34m\u001b[0m\u001b[0m\n\u001b[0m\u001b[1;32m      3\u001b[0m \u001b[0;31m#print(Count)\u001b[0m\u001b[0;34m\u001b[0m\u001b[0;34m\u001b[0m\u001b[0;34m\u001b[0m\u001b[0m\n",
            "\u001b[0;31mNameError\u001b[0m: name 'count' is not defined"
          ]
        }
      ]
    },
    {
      "cell_type": "code",
      "metadata": {
        "id": "8jeZDWqoNrji",
        "colab_type": "code",
        "colab": {
          "base_uri": "https://localhost:8080/",
          "height": 129
        },
        "outputId": "f95a40dc-5886-479f-c59c-d87c60e26fea"
      },
      "source": [
        "for = 10 # You will get an error because the reserved keyword cannot be used as variable names\n",
        "# _for = 10"
      ],
      "execution_count": null,
      "outputs": [
        {
          "output_type": "error",
          "ename": "SyntaxError",
          "evalue": "ignored",
          "traceback": [
            "\u001b[0;36m  File \u001b[0;32m\"<ipython-input-33-c73827e8e72b>\"\u001b[0;36m, line \u001b[0;32m1\u001b[0m\n\u001b[0;31m    for = 10\u001b[0m\n\u001b[0m        ^\u001b[0m\n\u001b[0;31mSyntaxError\u001b[0m\u001b[0;31m:\u001b[0m invalid syntax\n"
          ]
        }
      ]
    },
    {
      "cell_type": "code",
      "metadata": {
        "id": "kw8RPTs3N4vL",
        "colab_type": "code",
        "colab": {
          "base_uri": "https://localhost:8080/",
          "height": 129
        },
        "outputId": "f4ae92d5-4edf-42f6-8f47-ba80673447e1"
      },
      "source": [
        "9var = 10 # You will get an error because variable name cannot start with a number. It only starts with _, A-Z, a-z\n",
        "# var9 = 10"
      ],
      "execution_count": null,
      "outputs": [
        {
          "output_type": "error",
          "ename": "SyntaxError",
          "evalue": "ignored",
          "traceback": [
            "\u001b[0;36m  File \u001b[0;32m\"<ipython-input-34-fb0990bea9ea>\"\u001b[0;36m, line \u001b[0;32m1\u001b[0m\n\u001b[0;31m    9var = 10 # You will get an error because variable name cannot start with a number\u001b[0m\n\u001b[0m       ^\u001b[0m\n\u001b[0;31mSyntaxError\u001b[0m\u001b[0;31m:\u001b[0m invalid syntax\n"
          ]
        }
      ]
    },
    {
      "cell_type": "code",
      "metadata": {
        "id": "iFID6YwpORkn",
        "colab_type": "code",
        "colab": {
          "base_uri": "https://localhost:8080/",
          "height": 180
        },
        "outputId": "623be717-eddc-4821-8445-b82d71786fc7"
      },
      "source": [
        "print('Edureka'+10) #  You are getting this TypeError because you cannot add string with integer\n",
        "# print('Edureka + 10')\n",
        "# print('Edureka' + '10')"
      ],
      "execution_count": null,
      "outputs": [
        {
          "output_type": "error",
          "ename": "TypeError",
          "evalue": "ignored",
          "traceback": [
            "\u001b[0;31m---------------------------------------------------------------------------\u001b[0m",
            "\u001b[0;31mTypeError\u001b[0m                                 Traceback (most recent call last)",
            "\u001b[0;32m<ipython-input-36-acd1e2fa402b>\u001b[0m in \u001b[0;36m<module>\u001b[0;34m()\u001b[0m\n\u001b[0;32m----> 1\u001b[0;31m \u001b[0mprint\u001b[0m\u001b[0;34m(\u001b[0m\u001b[0;34m'Edureka'\u001b[0m\u001b[0;34m+\u001b[0m\u001b[0;36m10\u001b[0m\u001b[0;34m)\u001b[0m \u001b[0;31m#  You are getting this TypeError because you cannot add string with integer\u001b[0m\u001b[0;34m\u001b[0m\u001b[0;34m\u001b[0m\u001b[0m\n\u001b[0m\u001b[1;32m      2\u001b[0m \u001b[0;31m# print('Edureka + 10')\u001b[0m\u001b[0;34m\u001b[0m\u001b[0;34m\u001b[0m\u001b[0;34m\u001b[0m\u001b[0m\n",
            "\u001b[0;31mTypeError\u001b[0m: must be str, not int"
          ]
        }
      ]
    },
    {
      "cell_type": "code",
      "metadata": {
        "id": "cHmATDYdOxHY",
        "colab_type": "code",
        "colab": {
          "base_uri": "https://localhost:8080/",
          "height": 129
        },
        "outputId": "0bb0d86b-f0af-44f4-9656-5d2e91851539"
      },
      "source": [
        "$at = 10 #You are getting this error as only special character allowed in Python is underscore(_)\n",
        "# _at = 10\n",
        "# at = 10"
      ],
      "execution_count": null,
      "outputs": [
        {
          "output_type": "error",
          "ename": "SyntaxError",
          "evalue": "ignored",
          "traceback": [
            "\u001b[0;36m  File \u001b[0;32m\"<ipython-input-37-7a73ee8aa76a>\"\u001b[0;36m, line \u001b[0;32m1\u001b[0m\n\u001b[0;31m    $at = 10 #You are getting this error as only special character allowed in Python is underscore(_)\u001b[0m\n\u001b[0m    ^\u001b[0m\n\u001b[0;31mSyntaxError\u001b[0m\u001b[0;31m:\u001b[0m invalid syntax\n"
          ]
        }
      ]
    },
    {
      "cell_type": "code",
      "metadata": {
        "id": "LybH2UYGxtIS",
        "colab_type": "code",
        "colab": {
          "base_uri": "https://localhost:8080/",
          "height": 129
        },
        "outputId": "ee664930-3230-49ce-fb8f-06b9e3bd25fc"
      },
      "source": [
        "ghjk=10"
      ],
      "execution_count": null,
      "outputs": [
        {
          "output_type": "error",
          "ename": "SyntaxError",
          "evalue": "ignored",
          "traceback": [
            "\u001b[0;36m  File \u001b[0;32m\"<ipython-input-5-1e13b19b3023>\"\u001b[0;36m, line \u001b[0;32m1\u001b[0m\n\u001b[0;31m    9ghjk=10\u001b[0m\n\u001b[0m        ^\u001b[0m\n\u001b[0;31mSyntaxError\u001b[0m\u001b[0;31m:\u001b[0m invalid syntax\n"
          ]
        }
      ]
    },
    {
      "cell_type": "markdown",
      "metadata": {
        "id": "kftINPtVPOP8",
        "colab_type": "text"
      },
      "source": [
        "##Operators in Python"
      ]
    },
    {
      "cell_type": "markdown",
      "metadata": {
        "id": "unRY5oWzTNhR",
        "colab_type": "text"
      },
      "source": [
        "### Arithmetic Operators and Built-in Functions - Using Python as a calculator\n",
        "The following are examples of the kinds of Python expressions that we can use.\n",
        "\n",
        "| Operator | Description |\n",
        "|----|---|\n",
        "| +  | Addition |\n",
        "| -  | Subtraction |\n",
        "| /  | division |\n",
        "| %  | mod (remainder) |\n",
        "| *  | multiplication |\n",
        "| //  | floor division |\n",
        "| **  | to the power of |"
      ]
    },
    {
      "cell_type": "code",
      "metadata": {
        "id": "vcGojFZ4TNhT",
        "colab_type": "code",
        "colab": {
          "base_uri": "https://localhost:8080/",
          "height": 34
        },
        "outputId": "17b496b0-dcd2-49c3-bf55-61770e218efc"
      },
      "source": [
        "6 + 5"
      ],
      "execution_count": null,
      "outputs": [
        {
          "output_type": "execute_result",
          "data": {
            "text/plain": [
              "11"
            ]
          },
          "metadata": {
            "tags": []
          },
          "execution_count": 1
        }
      ]
    },
    {
      "cell_type": "code",
      "metadata": {
        "id": "wKXjWA9LTNhX",
        "colab_type": "code",
        "colab": {
          "base_uri": "https://localhost:8080/",
          "height": 34
        },
        "outputId": "412fe7b4-fd49-4c35-c094-a1420701fb6c"
      },
      "source": [
        "20 - 12.5"
      ],
      "execution_count": null,
      "outputs": [
        {
          "output_type": "execute_result",
          "data": {
            "text/plain": [
              "7.5"
            ]
          },
          "metadata": {
            "tags": []
          },
          "execution_count": 2
        }
      ]
    },
    {
      "cell_type": "code",
      "metadata": {
        "id": "wZdkY8n2TNha",
        "colab_type": "code",
        "colab": {
          "base_uri": "https://localhost:8080/",
          "height": 34
        },
        "outputId": "89abbf9b-edea-4e13-d7b5-84048be524d3"
      },
      "source": [
        "3.14 * 6"
      ],
      "execution_count": null,
      "outputs": [
        {
          "output_type": "execute_result",
          "data": {
            "text/plain": [
              "18.84"
            ]
          },
          "metadata": {
            "tags": []
          },
          "execution_count": 3
        }
      ]
    },
    {
      "cell_type": "markdown",
      "metadata": {
        "id": "6VbZR8kBTNhd",
        "colab_type": "text"
      },
      "source": [
        "Each Python value has a type.  `6`, `5`, `20`, and `6` have type `int`.  `12.5` and `3.14` have type `float`. Float stands for *floating point number*. Floats are approximations to the real numbers."
      ]
    },
    {
      "cell_type": "markdown",
      "metadata": {
        "id": "CZvGqgkaTNhe",
        "colab_type": "text"
      },
      "source": [
        "Python has two different division operators: `/` produces a `float` and `//` is integer division (it produces an `int`)."
      ]
    },
    {
      "cell_type": "code",
      "metadata": {
        "id": "0UQ9fG-aTNhf",
        "colab_type": "code",
        "colab": {
          "base_uri": "https://localhost:8080/",
          "height": 34
        },
        "outputId": "a72003f9-a248-4e71-b72b-c15ab8d32cae"
      },
      "source": [
        "8 / 4"
      ],
      "execution_count": null,
      "outputs": [
        {
          "output_type": "execute_result",
          "data": {
            "text/plain": [
              "2.0"
            ]
          },
          "metadata": {
            "tags": []
          },
          "execution_count": 94
        }
      ]
    },
    {
      "cell_type": "code",
      "metadata": {
        "id": "21gIXq0xTNhi",
        "colab_type": "code",
        "colab": {
          "base_uri": "https://localhost:8080/",
          "height": 34
        },
        "outputId": "f6a10fa2-8246-4554-b7f9-7373c15e15a9"
      },
      "source": [
        "8 // 4"
      ],
      "execution_count": null,
      "outputs": [
        {
          "output_type": "execute_result",
          "data": {
            "text/plain": [
              "2"
            ]
          },
          "metadata": {
            "tags": []
          },
          "execution_count": 95
        }
      ]
    },
    {
      "cell_type": "code",
      "metadata": {
        "id": "jgSSweONTNhl",
        "colab_type": "code",
        "colab": {}
      },
      "source": [
        "# When writing programs, we can put in English language explanations called comments.\n",
        "# Whatever comes after the # symbol is not executed."
      ],
      "execution_count": null,
      "outputs": []
    },
    {
      "cell_type": "code",
      "metadata": {
        "id": "nq6xHjgXTNho",
        "colab_type": "code",
        "colab": {
          "base_uri": "https://localhost:8080/",
          "height": 34
        },
        "outputId": "5b8523b4-f516-4a25-a1e3-0bd962ae4429"
      },
      "source": [
        "2 ** 5  # 2 to the power of 5"
      ],
      "execution_count": null,
      "outputs": [
        {
          "output_type": "execute_result",
          "data": {
            "text/plain": [
              "32"
            ]
          },
          "metadata": {
            "tags": []
          },
          "execution_count": 97
        }
      ]
    },
    {
      "cell_type": "code",
      "metadata": {
        "id": "uYUFjCuwTNhu",
        "colab_type": "code",
        "colab": {
          "base_uri": "https://localhost:8080/",
          "height": 34
        },
        "outputId": "082c161b-b749-401a-e5d1-53b88a0348e5"
      },
      "source": [
        "# The % operator gives the remainder of a division.\n",
        "# 10 % 3 gives the remainder of 10 // 3\n",
        "10 % 3"
      ],
      "execution_count": null,
      "outputs": [
        {
          "output_type": "execute_result",
          "data": {
            "text/plain": [
              "1"
            ]
          },
          "metadata": {
            "tags": []
          },
          "execution_count": 98
        }
      ]
    },
    {
      "cell_type": "markdown",
      "metadata": {
        "id": "c4Xwz-kgTNhy",
        "colab_type": "text"
      },
      "source": [
        "In other words, the fraction 10 / 3 can be rewritten as 3 1/3, so the remainder is `1`."
      ]
    },
    {
      "cell_type": "markdown",
      "metadata": {
        "id": "_IHV0KZCTNhy",
        "colab_type": "text"
      },
      "source": [
        "Operator order of precedence (from highest to lowest)\n",
        "\n",
        "- `**`\n",
        "\n",
        "- `-` (negation)\n",
        "\n",
        "- `*`, `/`, `//`, `%` (left to right)\n",
        "\n",
        "- `+` (addition), `-` (subtraction) (left to right)"
      ]
    },
    {
      "cell_type": "markdown",
      "metadata": {
        "id": "UqRl5T54TNhz",
        "colab_type": "text"
      },
      "source": [
        "#### Encountering Errors"
      ]
    },
    {
      "cell_type": "markdown",
      "metadata": {
        "id": "zAIHgj7VTNhz",
        "colab_type": "text"
      },
      "source": [
        "When programming, it is common to encounter errors.  You will learn how to interpret the error messages, so that you can fix your code.  Here are a few examples:"
      ]
    },
    {
      "cell_type": "code",
      "metadata": {
        "id": "LD6ZdjQvTNh0",
        "colab_type": "code",
        "colab": {
          "base_uri": "https://localhost:8080/",
          "height": 129
        },
        "outputId": "06368194-0766-43be-e845-5ee82d7e6be8"
      },
      "source": [
        "3 + "
      ],
      "execution_count": null,
      "outputs": [
        {
          "output_type": "error",
          "ename": "SyntaxError",
          "evalue": "ignored",
          "traceback": [
            "\u001b[0;36m  File \u001b[0;32m\"<ipython-input-99-8349edc6a237>\"\u001b[0;36m, line \u001b[0;32m1\u001b[0m\n\u001b[0;31m    3 +\u001b[0m\n\u001b[0m        ^\u001b[0m\n\u001b[0;31mSyntaxError\u001b[0m\u001b[0;31m:\u001b[0m invalid syntax\n"
          ]
        }
      ]
    },
    {
      "cell_type": "code",
      "metadata": {
        "id": "GezIHIurTNh3",
        "colab_type": "code",
        "colab": {
          "base_uri": "https://localhost:8080/",
          "height": 129
        },
        "outputId": "4a167920-c142-43d0-9b08-cbaa0b19141e"
      },
      "source": [
        "4 + 5 ) * 2"
      ],
      "execution_count": null,
      "outputs": [
        {
          "output_type": "error",
          "ename": "SyntaxError",
          "evalue": "ignored",
          "traceback": [
            "\u001b[0;36m  File \u001b[0;32m\"<ipython-input-100-a1d07d20c86c>\"\u001b[0;36m, line \u001b[0;32m1\u001b[0m\n\u001b[0;31m    4 + 5 ) * 2\u001b[0m\n\u001b[0m          ^\u001b[0m\n\u001b[0;31mSyntaxError\u001b[0m\u001b[0;31m:\u001b[0m invalid syntax\n"
          ]
        }
      ]
    },
    {
      "cell_type": "code",
      "metadata": {
        "id": "m-yLJ34dTNh7",
        "colab_type": "code",
        "colab": {
          "base_uri": "https://localhost:8080/",
          "height": 129
        },
        "outputId": "a2425396-2ddd-4b73-fe09-ac8ec3e2def2"
      },
      "source": [
        "2 * * 5"
      ],
      "execution_count": null,
      "outputs": [
        {
          "output_type": "error",
          "ename": "SyntaxError",
          "evalue": "ignored",
          "traceback": [
            "\u001b[0;36m  File \u001b[0;32m\"<ipython-input-101-bf3d38745370>\"\u001b[0;36m, line \u001b[0;32m1\u001b[0m\n\u001b[0;31m    2 * * 5\u001b[0m\n\u001b[0m        ^\u001b[0m\n\u001b[0;31mSyntaxError\u001b[0m\u001b[0;31m:\u001b[0m invalid syntax\n"
          ]
        }
      ]
    },
    {
      "cell_type": "code",
      "metadata": {
        "id": "u7mn7tfkTNh9",
        "colab_type": "code",
        "colab": {
          "base_uri": "https://localhost:8080/",
          "height": 163
        },
        "outputId": "e2bba197-2f61-480a-a53f-e44460be1fbf"
      },
      "source": [
        "9 / 0"
      ],
      "execution_count": null,
      "outputs": [
        {
          "output_type": "error",
          "ename": "ZeroDivisionError",
          "evalue": "ignored",
          "traceback": [
            "\u001b[0;31m---------------------------------------------------------------------------\u001b[0m",
            "\u001b[0;31mZeroDivisionError\u001b[0m                         Traceback (most recent call last)",
            "\u001b[0;32m<ipython-input-102-cb7aab57c3ef>\u001b[0m in \u001b[0;36m<module>\u001b[0;34m()\u001b[0m\n\u001b[0;32m----> 1\u001b[0;31m \u001b[0;36m9\u001b[0m \u001b[0;34m/\u001b[0m \u001b[0;36m0\u001b[0m\u001b[0;34m\u001b[0m\u001b[0;34m\u001b[0m\u001b[0m\n\u001b[0m",
            "\u001b[0;31mZeroDivisionError\u001b[0m: division by zero"
          ]
        }
      ]
    },
    {
      "cell_type": "markdown",
      "metadata": {
        "id": "7ALUUVJRTNiB",
        "colab_type": "text"
      },
      "source": [
        "#### Practice Exercise: Writing expressions\n",
        "\n",
        "1. A patient just turned 95 years old.  Write a Python expression to calculate her age in months.\n",
        "2. A father reports that his son's temperature was 39.1 degrees Celsius when measured at home.  Write an expression to covert the temperature from Celsius to Fahreneheit.  \n",
        "**Hint:** To convert Celsius to Fahreneheit Multiply by 9, divide by 5, and then add 32."
      ]
    },
    {
      "cell_type": "markdown",
      "metadata": {
        "id": "9wuz8A80VDtf",
        "colab_type": "text"
      },
      "source": [
        "####Simplifying Arithmetic Operations"
      ]
    },
    {
      "cell_type": "markdown",
      "metadata": {
        "id": "WqSg0wyxVDtf",
        "colab_type": "text"
      },
      "source": [
        "**round( )** function rounds the input value to a specified number of places or to the nearest integer. "
      ]
    },
    {
      "cell_type": "code",
      "metadata": {
        "scrolled": false,
        "id": "RJVoNxKmVDtg",
        "colab_type": "code",
        "colab": {
          "base_uri": "https://localhost:8080/",
          "height": 51
        },
        "outputId": "a0b34992-4b46-4a7f-c2b4-2b8b7182057e"
      },
      "source": [
        "print(round(5.6231))\n",
        "print(round(4.55892, 2))"
      ],
      "execution_count": null,
      "outputs": [
        {
          "output_type": "stream",
          "text": [
            "6\n",
            "4.56\n"
          ],
          "name": "stdout"
        }
      ]
    },
    {
      "cell_type": "markdown",
      "metadata": {
        "id": "vmnrQSSQVDti",
        "colab_type": "text"
      },
      "source": [
        "**complex( )** is used to define a complex number and **abs( )** outputs the absolute value of the same."
      ]
    },
    {
      "cell_type": "code",
      "metadata": {
        "id": "2TzGEcNcVDti",
        "colab_type": "code",
        "colab": {
          "base_uri": "https://localhost:8080/",
          "height": 34
        },
        "outputId": "dfaf5187-d214-4439-ee53-63ff7e24de4f"
      },
      "source": [
        "c =complex('5+2j')\n",
        "print(abs(c))"
      ],
      "execution_count": null,
      "outputs": [
        {
          "output_type": "stream",
          "text": [
            "5.385164807134504\n"
          ],
          "name": "stdout"
        }
      ]
    },
    {
      "cell_type": "markdown",
      "metadata": {
        "id": "STc5qwDxVDtl",
        "colab_type": "text"
      },
      "source": [
        "**divmod(x,y)** outputs the quotient and the remainder in a tuple(you will be learning about it in the further chapters) in the format (quotient, remainder). "
      ]
    },
    {
      "cell_type": "code",
      "metadata": {
        "id": "9VKGXreIVDtl",
        "colab_type": "code",
        "colab": {
          "base_uri": "https://localhost:8080/",
          "height": 34
        },
        "outputId": "6d892320-4761-41e7-e734-8f8334608d95"
      },
      "source": [
        "divmod(9,2)"
      ],
      "execution_count": null,
      "outputs": [
        {
          "output_type": "execute_result",
          "data": {
            "text/plain": [
              "(4, 1)"
            ]
          },
          "metadata": {
            "tags": []
          },
          "execution_count": 106
        }
      ]
    },
    {
      "cell_type": "markdown",
      "metadata": {
        "id": "xWtI3WxLVDts",
        "colab_type": "text"
      },
      "source": [
        "**pow(x,y,z)** can be used to find the power $x^y$ also the mod of the resulting value with the third specified number can be found i.e. : ($x^y$ % z)."
      ]
    },
    {
      "cell_type": "code",
      "metadata": {
        "id": "gXJiJl5SVDtt",
        "colab_type": "code",
        "colab": {
          "base_uri": "https://localhost:8080/",
          "height": 51
        },
        "outputId": "0ac96ccb-da2e-4c95-c8a6-63bb319beb47"
      },
      "source": [
        "print(pow(3,3))\n",
        "print(pow(3,3,5))"
      ],
      "execution_count": null,
      "outputs": [
        {
          "output_type": "stream",
          "text": [
            "27\n",
            "2\n"
          ],
          "name": "stdout"
        }
      ]
    },
    {
      "cell_type": "markdown",
      "metadata": {
        "id": "WbRneFDQd_W9",
        "colab_type": "text"
      },
      "source": [
        "###Assignment Operator\n",
        "Used to assign value to a variable"
      ]
    },
    {
      "cell_type": "markdown",
      "metadata": {
        "id": "3T-GCHHQeQrh",
        "colab_type": "text"
      },
      "source": [
        "| Operator | Example | Similar to \n",
        "|----------|---------|----------|\n",
        "| = |x=10 |x = 10\n",
        "| +=  | x+=5 | x = x + 5\n",
        "| -= | x-=5 | x = x - 5\n",
        "| *=  | x*=5 |x = x * 5 \n",
        "| /=  | x/=5 |x = x / 5 \n",
        "| %=  | x%=5 |x = x % 5 \n",
        "| **=  | x**=5 |x = x ** 5\n",
        "| &=  | x&=5 |x = x & 5\n",
        "| ^=  | x^=5 |x = x ^ 5\n",
        "| <<=  | x<<=5 |x = x << 5\n",
        " \n"
      ]
    },
    {
      "cell_type": "markdown",
      "metadata": {
        "id": "sUhY9kwHSb91",
        "colab_type": "text"
      },
      "source": [
        "### Comparison Operators \n",
        "\n",
        "These operators will allow us to compare variables and output a Boolean value (True or False). \n",
        "\n",
        "<h3> Table of Comparison Operators </h3><p>  In the table below, consider a=3 and b=4.</p>\n",
        "\n",
        "<table class=\"table table-bordered\">\n",
        "<tr>\n",
        "<th style=\"width:10%\">Operator</th><th style=\"width:45%\">Description</th><th>Example</th>\n",
        "</tr>\n",
        "<tr>\n",
        "<td>==</td>\n",
        "<td>If the values of two operands are equal, then the condition becomes true.</td>\n",
        "<td> (a == b) is not true.</td>\n",
        "</tr>\n",
        "<tr>\n",
        "<td>!=</td>\n",
        "<td>If values of two operands are not equal, then condition becomes true.</td>\n",
        "<td>(a != b) is true</td>\n",
        "</tr>\n",
        "<tr>\n",
        "<td>&gt;</td>\n",
        "<td>If the value of left operand is greater than the value of right operand, then condition becomes true.</td>\n",
        "<td> (a &gt; b) is not true.</td>\n",
        "</tr>\n",
        "<tr>\n",
        "<td>&lt;</td>\n",
        "<td>If the value of left operand is less than the value of right operand, then condition becomes true.</td>\n",
        "<td> (a &lt; b) is true.</td>\n",
        "</tr>\n",
        "<tr>\n",
        "<td>&gt;=</td>\n",
        "<td>If the value of left operand is greater than or equal to the value of right operand, then condition becomes true.</td>\n",
        "<td> (a &gt;= b) is not true. </td>\n",
        "</tr>\n",
        "<tr>\n",
        "<td>&lt;=</td>\n",
        "<td>If the value of left operand is less than or equal to the value of right operand, then condition becomes true.</td>\n",
        "<td> (a &lt;= b) is true. </td>\n",
        "</tr>\n",
        "</table>"
      ]
    },
    {
      "cell_type": "markdown",
      "metadata": {
        "id": "FiZF__pUSb92",
        "colab_type": "text"
      },
      "source": [
        "Let's now work through quick examples of each of these.\n",
        "\n",
        "#### Equal"
      ]
    },
    {
      "cell_type": "code",
      "metadata": {
        "id": "Reo0v_1aSb92",
        "colab_type": "code",
        "colab": {
          "base_uri": "https://localhost:8080/",
          "height": 34
        },
        "outputId": "fcb9971a-1fcc-429b-9792-b40229b074d1"
      },
      "source": [
        "2 == 2"
      ],
      "execution_count": null,
      "outputs": [
        {
          "output_type": "execute_result",
          "data": {
            "text/plain": [
              "True"
            ]
          },
          "metadata": {
            "tags": []
          },
          "execution_count": 111
        }
      ]
    },
    {
      "cell_type": "code",
      "metadata": {
        "id": "cX3xvVzGSb96",
        "colab_type": "code",
        "colab": {
          "base_uri": "https://localhost:8080/",
          "height": 34
        },
        "outputId": "881c87d6-8abb-4eb0-e441-7a577aac672f"
      },
      "source": [
        "1 == 0"
      ],
      "execution_count": null,
      "outputs": [
        {
          "output_type": "execute_result",
          "data": {
            "text/plain": [
              "False"
            ]
          },
          "metadata": {
            "tags": []
          },
          "execution_count": 112
        }
      ]
    },
    {
      "cell_type": "markdown",
      "metadata": {
        "id": "sayhkYDJSb99",
        "colab_type": "text"
      },
      "source": [
        "Note that <code>==</code> is a <em>comparison</em> operator, while <code>=</code> is an <em>assignment</em> operator."
      ]
    },
    {
      "cell_type": "markdown",
      "metadata": {
        "id": "I2QeGhhnSb9-",
        "colab_type": "text"
      },
      "source": [
        "#### Not Equal"
      ]
    },
    {
      "cell_type": "code",
      "metadata": {
        "id": "Q_GTDHDzSb9-",
        "colab_type": "code",
        "colab": {
          "base_uri": "https://localhost:8080/",
          "height": 34
        },
        "outputId": "5e076be5-fa16-4a45-a613-3b5e555980e4"
      },
      "source": [
        "2 != 1"
      ],
      "execution_count": null,
      "outputs": [
        {
          "output_type": "execute_result",
          "data": {
            "text/plain": [
              "True"
            ]
          },
          "metadata": {
            "tags": []
          },
          "execution_count": 113
        }
      ]
    },
    {
      "cell_type": "code",
      "metadata": {
        "id": "X69c9vztSb-B",
        "colab_type": "code",
        "colab": {
          "base_uri": "https://localhost:8080/",
          "height": 34
        },
        "outputId": "a0651ac3-d3ea-4373-becc-3f246f09983e"
      },
      "source": [
        "2 != 2"
      ],
      "execution_count": null,
      "outputs": [
        {
          "output_type": "execute_result",
          "data": {
            "text/plain": [
              "False"
            ]
          },
          "metadata": {
            "tags": []
          },
          "execution_count": 114
        }
      ]
    },
    {
      "cell_type": "markdown",
      "metadata": {
        "id": "H3w_umq0Sb-E",
        "colab_type": "text"
      },
      "source": [
        "#### Greater Than"
      ]
    },
    {
      "cell_type": "code",
      "metadata": {
        "id": "pDFenlg2Sb-E",
        "colab_type": "code",
        "colab": {
          "base_uri": "https://localhost:8080/",
          "height": 34
        },
        "outputId": "765bd6ff-2812-47e0-c88a-ae49c57bbf88"
      },
      "source": [
        "2 > 1"
      ],
      "execution_count": null,
      "outputs": [
        {
          "output_type": "execute_result",
          "data": {
            "text/plain": [
              "True"
            ]
          },
          "metadata": {
            "tags": []
          },
          "execution_count": 115
        }
      ]
    },
    {
      "cell_type": "code",
      "metadata": {
        "id": "BdaXqPZaSb-H",
        "colab_type": "code",
        "colab": {
          "base_uri": "https://localhost:8080/",
          "height": 34
        },
        "outputId": "57129245-99b7-4911-c734-5c503b709b22"
      },
      "source": [
        "2 > 4"
      ],
      "execution_count": null,
      "outputs": [
        {
          "output_type": "execute_result",
          "data": {
            "text/plain": [
              "False"
            ]
          },
          "metadata": {
            "tags": []
          },
          "execution_count": 116
        }
      ]
    },
    {
      "cell_type": "markdown",
      "metadata": {
        "id": "noTpfMQ9Sb-K",
        "colab_type": "text"
      },
      "source": [
        "#### Less Than"
      ]
    },
    {
      "cell_type": "code",
      "metadata": {
        "id": "6krihHAkSb-L",
        "colab_type": "code",
        "colab": {
          "base_uri": "https://localhost:8080/",
          "height": 34
        },
        "outputId": "bab6ede5-a06a-4ef9-d6ff-54eb2134cba2"
      },
      "source": [
        "2 < 4"
      ],
      "execution_count": null,
      "outputs": [
        {
          "output_type": "execute_result",
          "data": {
            "text/plain": [
              "True"
            ]
          },
          "metadata": {
            "tags": []
          },
          "execution_count": 117
        }
      ]
    },
    {
      "cell_type": "code",
      "metadata": {
        "id": "TSGPrc43Sb-O",
        "colab_type": "code",
        "colab": {
          "base_uri": "https://localhost:8080/",
          "height": 34
        },
        "outputId": "718ab6cc-6f26-4d69-937b-7bc15f345d80"
      },
      "source": [
        "2 < 1"
      ],
      "execution_count": null,
      "outputs": [
        {
          "output_type": "execute_result",
          "data": {
            "text/plain": [
              "False"
            ]
          },
          "metadata": {
            "tags": []
          },
          "execution_count": 118
        }
      ]
    },
    {
      "cell_type": "markdown",
      "metadata": {
        "id": "j7gZl5oMSb-Q",
        "colab_type": "text"
      },
      "source": [
        "#### Greater Than or Equal to"
      ]
    },
    {
      "cell_type": "code",
      "metadata": {
        "id": "9Uuxt1vzSb-R",
        "colab_type": "code",
        "colab": {
          "base_uri": "https://localhost:8080/",
          "height": 34
        },
        "outputId": "21380044-9bd7-40c5-d104-2180b3641944"
      },
      "source": [
        "2 >= 2"
      ],
      "execution_count": null,
      "outputs": [
        {
          "output_type": "execute_result",
          "data": {
            "text/plain": [
              "True"
            ]
          },
          "metadata": {
            "tags": []
          },
          "execution_count": 119
        }
      ]
    },
    {
      "cell_type": "code",
      "metadata": {
        "id": "1AmPBPB2Sb-T",
        "colab_type": "code",
        "colab": {
          "base_uri": "https://localhost:8080/",
          "height": 34
        },
        "outputId": "64a5d1d4-c95b-4575-f00c-2b0b6b0cd975"
      },
      "source": [
        "2 >= 1"
      ],
      "execution_count": null,
      "outputs": [
        {
          "output_type": "execute_result",
          "data": {
            "text/plain": [
              "True"
            ]
          },
          "metadata": {
            "tags": []
          },
          "execution_count": 120
        }
      ]
    },
    {
      "cell_type": "markdown",
      "metadata": {
        "id": "YT3gk1kwSb-W",
        "colab_type": "text"
      },
      "source": [
        "#### Less than or Equal to"
      ]
    },
    {
      "cell_type": "code",
      "metadata": {
        "id": "TgW8K4K4Sb-X",
        "colab_type": "code",
        "colab": {
          "base_uri": "https://localhost:8080/",
          "height": 34
        },
        "outputId": "e882b90f-f36f-4b24-a98c-1f1572544f00"
      },
      "source": [
        "2 <= 2"
      ],
      "execution_count": null,
      "outputs": [
        {
          "output_type": "execute_result",
          "data": {
            "text/plain": [
              "True"
            ]
          },
          "metadata": {
            "tags": []
          },
          "execution_count": 121
        }
      ]
    },
    {
      "cell_type": "code",
      "metadata": {
        "id": "60DY1FpuSb-Z",
        "colab_type": "code",
        "colab": {
          "base_uri": "https://localhost:8080/",
          "height": 34
        },
        "outputId": "a3b97cad-668b-4980-c216-6244fea0c76e"
      },
      "source": [
        "2 <= 4"
      ],
      "execution_count": null,
      "outputs": [
        {
          "output_type": "execute_result",
          "data": {
            "text/plain": [
              "True"
            ]
          },
          "metadata": {
            "tags": []
          },
          "execution_count": 122
        }
      ]
    },
    {
      "cell_type": "code",
      "metadata": {
        "id": "D7djPsAmQD2G",
        "colab_type": "code",
        "colab": {}
      },
      "source": [
        ""
      ],
      "execution_count": null,
      "outputs": []
    },
    {
      "cell_type": "markdown",
      "metadata": {
        "id": "rnYDR7-fZUVi",
        "colab_type": "text"
      },
      "source": [
        "#### Chained Comparison Operators\n",
        "\n",
        "An interesting feature of Python is the ability to *chain* multiple comparisons to perform a more complex test. You can use these chained comparisons as shorthand for larger Boolean Expressions.\n",
        "\n",
        "In this lecture we will learn how to chain comparison operators and we will also introduce two other important statements in Python: **and** and **or**.\n",
        "\n",
        "Let's look at a few examples of using chains:"
      ]
    },
    {
      "cell_type": "code",
      "metadata": {
        "id": "xkGxjXBWZUVk",
        "colab_type": "code",
        "colab": {
          "base_uri": "https://localhost:8080/",
          "height": 34
        },
        "outputId": "3b59936c-964a-4b15-a0ea-51f9b8ed98ac"
      },
      "source": [
        "1 < 2 < 3"
      ],
      "execution_count": null,
      "outputs": [
        {
          "output_type": "execute_result",
          "data": {
            "text/plain": [
              "True"
            ]
          },
          "metadata": {
            "tags": []
          },
          "execution_count": 123
        }
      ]
    },
    {
      "cell_type": "markdown",
      "metadata": {
        "id": "5NquwTgSZUVq",
        "colab_type": "text"
      },
      "source": [
        "The above statement checks if 1 was less than 2 **and** if 2 was less than 3. We could have written this using an **and** statement in Python:"
      ]
    },
    {
      "cell_type": "code",
      "metadata": {
        "id": "pRjOlVP8ZUVq",
        "colab_type": "code",
        "colab": {
          "base_uri": "https://localhost:8080/",
          "height": 34
        },
        "outputId": "73a9c9a0-4b8e-4e8a-b5c8-56dc60996687"
      },
      "source": [
        "1<2 and 2<3"
      ],
      "execution_count": null,
      "outputs": [
        {
          "output_type": "execute_result",
          "data": {
            "text/plain": [
              "True"
            ]
          },
          "metadata": {
            "tags": []
          },
          "execution_count": 124
        }
      ]
    },
    {
      "cell_type": "markdown",
      "metadata": {
        "id": "5eqBEEWNZUVt",
        "colab_type": "text"
      },
      "source": [
        "The **and** is used to make sure two checks have to be true in order for the total check to be true. Let's see another example:"
      ]
    },
    {
      "cell_type": "code",
      "metadata": {
        "id": "UfTxbJ8zZUVu",
        "colab_type": "code",
        "colab": {
          "base_uri": "https://localhost:8080/",
          "height": 34
        },
        "outputId": "5e4e0165-880e-4e73-ee0c-6632ef6d5848"
      },
      "source": [
        "1 < 3 > 2"
      ],
      "execution_count": null,
      "outputs": [
        {
          "output_type": "execute_result",
          "data": {
            "text/plain": [
              "True"
            ]
          },
          "metadata": {
            "tags": []
          },
          "execution_count": 125
        }
      ]
    },
    {
      "cell_type": "markdown",
      "metadata": {
        "id": "NigjU6boZUVx",
        "colab_type": "text"
      },
      "source": [
        "The above checks if 3 is larger than both of the other numbers, so you could use **and** to rewrite it as:"
      ]
    },
    {
      "cell_type": "code",
      "metadata": {
        "id": "yoaE1rClZUVx",
        "colab_type": "code",
        "colab": {
          "base_uri": "https://localhost:8080/",
          "height": 34
        },
        "outputId": "eafae928-3e70-489c-dd39-6f5808d3fd0b"
      },
      "source": [
        "1<3 and 3>2"
      ],
      "execution_count": null,
      "outputs": [
        {
          "output_type": "execute_result",
          "data": {
            "text/plain": [
              "True"
            ]
          },
          "metadata": {
            "tags": []
          },
          "execution_count": 126
        }
      ]
    },
    {
      "cell_type": "markdown",
      "metadata": {
        "id": "a-98IyL4ZUV0",
        "colab_type": "text"
      },
      "source": [
        "It's important to note that Python is checking both instances of the comparisons. We can also use **or** to write comparisons in Python. For example:"
      ]
    },
    {
      "cell_type": "code",
      "metadata": {
        "id": "5mYAU37uZUV1",
        "colab_type": "code",
        "colab": {
          "base_uri": "https://localhost:8080/",
          "height": 34
        },
        "outputId": "a55f7191-d9d1-4fcd-e477-9efb73af4c40"
      },
      "source": [
        "1==2 or 2<3"
      ],
      "execution_count": null,
      "outputs": [
        {
          "output_type": "execute_result",
          "data": {
            "text/plain": [
              "True"
            ]
          },
          "metadata": {
            "tags": []
          },
          "execution_count": 127
        }
      ]
    },
    {
      "cell_type": "markdown",
      "metadata": {
        "id": "GlswasBgZUV3",
        "colab_type": "text"
      },
      "source": [
        "Note how it was true; this is because with the **or** operator, we only need one *or* the other to be true. Let's see one more example to drive this home:"
      ]
    },
    {
      "cell_type": "code",
      "metadata": {
        "id": "DkQ4b_MCZUV4",
        "colab_type": "code",
        "colab": {
          "base_uri": "https://localhost:8080/",
          "height": 34
        },
        "outputId": "1a3bbf02-3e1c-47fe-9748-05bb2cafaf1a"
      },
      "source": [
        "1==1 or 100==1"
      ],
      "execution_count": null,
      "outputs": [
        {
          "output_type": "execute_result",
          "data": {
            "text/plain": [
              "True"
            ]
          },
          "metadata": {
            "tags": []
          },
          "execution_count": 128
        }
      ]
    },
    {
      "cell_type": "markdown",
      "metadata": {
        "id": "J3jb4uY7iv2C",
        "colab_type": "text"
      },
      "source": [
        "###Logical Operator\n",
        "Logical Operators are used to combine conditional statements\n",
        "\n",
        "| Operator | Description | Example\n",
        "|----|---|---|\n",
        "| and  | Returns True if both statements are true | x < 5 and  x < 10\t\n",
        "| or  | Returns True if one of the statements is true | x < 5 or  x < 10\t\n",
        "| not  | Reverse the result, returns False if the result is true and vice versa | not(x < 5 or  x < 10)"
      ]
    },
    {
      "cell_type": "markdown",
      "metadata": {
        "id": "cMjvDWu2VDs3",
        "colab_type": "text"
      },
      "source": [
        "###Bitwise Operators"
      ]
    },
    {
      "cell_type": "markdown",
      "metadata": {
        "id": "lOcFq61LVDs4",
        "colab_type": "text"
      },
      "source": [
        "| Symbol | Task Performed |\n",
        "|----|---|\n",
        "| &  | Logical And |\n",
        "| l  | Logical OR |\n",
        "| ^  | XOR |\n",
        "| ~  | Negate |\n",
        "| >>  | Right shift |\n",
        "| <<  | Left shift |"
      ]
    },
    {
      "cell_type": "code",
      "metadata": {
        "id": "uf4042pDVDs4",
        "colab_type": "code",
        "colab": {}
      },
      "source": [
        "a = 2 #10\n",
        "b = 3 #11"
      ],
      "execution_count": null,
      "outputs": []
    },
    {
      "cell_type": "code",
      "metadata": {
        "id": "hvRNOdAxVDs7",
        "colab_type": "code",
        "colab": {
          "base_uri": "https://localhost:8080/",
          "height": 51
        },
        "outputId": "32d8233f-6070-4f62-8c4e-2cebec7b1c61"
      },
      "source": [
        "print(a & b)\n",
        "print (bin(a&b))"
      ],
      "execution_count": null,
      "outputs": [
        {
          "output_type": "stream",
          "text": [
            "2\n",
            "0b10\n"
          ],
          "name": "stdout"
        }
      ]
    },
    {
      "cell_type": "code",
      "metadata": {
        "id": "ICIDVA_QVDs9",
        "colab_type": "code",
        "colab": {
          "base_uri": "https://localhost:8080/",
          "height": 34
        },
        "outputId": "c199c6d2-d037-4efe-b202-7c3ceb1b6b20"
      },
      "source": [
        "5 >> 1"
      ],
      "execution_count": null,
      "outputs": [
        {
          "output_type": "execute_result",
          "data": {
            "text/plain": [
              "2"
            ]
          },
          "metadata": {
            "tags": []
          },
          "execution_count": 134
        }
      ]
    },
    {
      "cell_type": "markdown",
      "metadata": {
        "id": "Qwo00pTuVDs_",
        "colab_type": "text"
      },
      "source": [
        "0000 0101 -> 5 \n",
        "\n",
        "Shifting the digits by 1 to the right and zero padding\n",
        "\n",
        "0000 0010 -> 2"
      ]
    },
    {
      "cell_type": "code",
      "metadata": {
        "id": "xjfE6cSCVDtA",
        "colab_type": "code",
        "colab": {
          "base_uri": "https://localhost:8080/",
          "height": 34
        },
        "outputId": "76e6e750-fe16-45ff-abc1-32dec31b8150"
      },
      "source": [
        "5 << 1"
      ],
      "execution_count": null,
      "outputs": [
        {
          "output_type": "execute_result",
          "data": {
            "text/plain": [
              "10"
            ]
          },
          "metadata": {
            "tags": []
          },
          "execution_count": 135
        }
      ]
    },
    {
      "cell_type": "markdown",
      "metadata": {
        "id": "7Ghj6cCzVDtC",
        "colab_type": "text"
      },
      "source": [
        "0000 0101 -> 5 \n",
        "\n",
        "Shifting the digits by 1 to the left and zero padding\n",
        "\n",
        "0000 1010 -> 10"
      ]
    },
    {
      "cell_type": "markdown",
      "metadata": {
        "id": "pjytSoZkoC9K",
        "colab_type": "text"
      },
      "source": [
        "###Identity Operator\n",
        "Identity operators are used to compare the objects, not if they are equal, but if they are actually the same object, with the same memory location.\n",
        "\n",
        "\n",
        "| Operator | Description | Example\n",
        "|----|---|---|\n",
        "| is  | Returns True if both variables are the same object| x is y\n",
        "| is not  | Returns True if both variables are not the same object| x is not y\t\n"
      ]
    },
    {
      "cell_type": "markdown",
      "metadata": {
        "id": "P43Nsv4Ioudl",
        "colab_type": "text"
      },
      "source": [
        "###Membership Operator\n",
        "Membership operators are used to test if a sequence is presented in an object\n",
        "\n",
        "| Operator | Description | Example\n",
        "|----|---|---|\n",
        "| in  | Returns True if a sequence with the specified value is present in the object| x in y\n",
        "| not in  | Returns True if a sequence with the specified value is not present in the object| x not in y\t\n"
      ]
    },
    {
      "cell_type": "markdown",
      "metadata": {
        "id": "HMbEICc96pzM",
        "colab_type": "text"
      },
      "source": [
        "##Literals in Python"
      ]
    },
    {
      "cell_type": "markdown",
      "metadata": {
        "id": "gFnmys166xBs",
        "colab_type": "text"
      },
      "source": [
        "Literals are values used in **Python**.\n",
        "![](https://i.imgur.com/KvqspwV.png)\n"
      ]
    },
    {
      "cell_type": "code",
      "metadata": {
        "id": "v66ugq1K7aEY",
        "colab_type": "code",
        "colab": {
          "base_uri": "https://localhost:8080/",
          "height": 119
        },
        "outputId": "d7298ff1-a2d4-4a82-e3e2-1d4792f2b698"
      },
      "source": [
        "#String Literal --> A string literal is a sequence of zero or more characters enclosed within single, double or triple quotation marks. \n",
        "\n",
        "text1 = 'edureka'\n",
        "text2 = \"today's\"  #Note the difference between single quotes and double quotes\n",
        "text3 = '123'\n",
        "text4 = 'How ya \\ \n",
        "doing' #Adding black slash at the end of each line\n",
        "text5 = '''hello everyone! \n",
        "how are you?''' #Note how multiple statements are written\n",
        "print(text1)\n",
        "print(text2)\n",
        "print(text3)\n",
        "print(text4)\n",
        "print(text5)"
      ],
      "execution_count": null,
      "outputs": [
        {
          "output_type": "stream",
          "text": [
            "edureka\n",
            "today's\n",
            "123\n",
            "How ya doing\n",
            "hello everyone! \n",
            "how are you?\n"
          ],
          "name": "stdout"
        }
      ]
    },
    {
      "cell_type": "markdown",
      "metadata": {
        "id": "RhYYRHWmAUMs",
        "colab_type": "text"
      },
      "source": [
        "**Important Escape Sequence in Python**\n",
        "\n",
        "![](https://i.imgur.com/IUvhv5i.jpg)"
      ]
    },
    {
      "cell_type": "code",
      "metadata": {
        "id": "C84nOvsH8x9m",
        "colab_type": "code",
        "colab": {
          "base_uri": "https://localhost:8080/",
          "height": 68
        },
        "outputId": "57b5a56a-acb9-4524-ae95-f2a4e5e5f3a1"
      },
      "source": [
        "# Numeric Literal --> There are four types of numeric literals: integers, floating point numbers, and imaginary numbers.\n",
        "# NOTE: Integers in Python 3 are of unlimited size. Python 2 had two integer types - int and long. There is no 'long integer' in Python 3 anymore.\n",
        "\n",
        "b = 0b11100 #Binary Literals  \n",
        "d = 110 #Decimal Literal   \n",
        "o = 0o100 #Octal Literal  \n",
        "u = 0x14d #Hexadecimal Literal  \n",
        "  \n",
        "#Float Literal  \n",
        "float_1 = 3.14   \n",
        "float_2 = 1.5e4  \n",
        "  \n",
        "#Complex Literal   \n",
        "c = 5+3.14j  \n",
        "  \n",
        "print(b, d, o, u)  \n",
        "print(float_1, float_2)  \n",
        "print(c, c.imag, c.real)  \n",
        "\n",
        "#NOTE: Note that numeric literals do not include a sign; a phrase like -1 is actually an expression composed of the unary operator `-' and the literal 1.\n"
      ],
      "execution_count": null,
      "outputs": [
        {
          "output_type": "stream",
          "text": [
            "28 110 64 333\n",
            "3.14 15000.0\n",
            "(5+3.14j) 3.14 5.0\n"
          ],
          "name": "stdout"
        }
      ]
    },
    {
      "cell_type": "code",
      "metadata": {
        "id": "jmSW4gia_oTk",
        "colab_type": "code",
        "colab": {
          "base_uri": "https://localhost:8080/",
          "height": 102
        },
        "outputId": "098648a5-cfd2-4864-c0aa-6fd060f95097"
      },
      "source": [
        "#Boolean Literal --> Python literal Boolean has two values. One is True, and another one is False.\n",
        "# Additionally, 1 and 0 represent True and False, respectively.\n",
        "a = (10 == True)  \n",
        "b = (20 == False)  \n",
        "c = (30 == True)  \n",
        "x = True + 10  \n",
        "y = False + 10  \n",
        "  \n",
        "print(\"a is\", a)  \n",
        "print(\"b is\", b)  \n",
        "print(\"c is\", c)  \n",
        "print(\"x:\", x)  \n",
        "print(\"y:\", y)  "
      ],
      "execution_count": null,
      "outputs": [
        {
          "output_type": "stream",
          "text": [
            "a is False\n",
            "b is False\n",
            "c is False\n",
            "x: 11\n",
            "y: 10\n"
          ],
          "name": "stdout"
        }
      ]
    },
    {
      "cell_type": "code",
      "metadata": {
        "id": "DQJL-sxPGrSK",
        "colab_type": "code",
        "colab": {
          "base_uri": "https://localhost:8080/",
          "height": 51
        },
        "outputId": "62ba0f4b-efd8-4df2-c3d7-75cb361a56be"
      },
      "source": [
        "# Special Literal --> The None keyword is used to define a null value, or no value at all. \n",
        "#None is not the same as 0, False, or an empty string. None is a datatype of its own (NoneType) and only None can be None.\n",
        "x = None\n",
        "print(x)\n",
        "type(x) #Used to check the data type of the variable"
      ],
      "execution_count": null,
      "outputs": [
        {
          "output_type": "stream",
          "text": [
            "None\n"
          ],
          "name": "stdout"
        },
        {
          "output_type": "execute_result",
          "data": {
            "text/plain": [
              "NoneType"
            ]
          },
          "metadata": {
            "tags": []
          },
          "execution_count": 16
        }
      ]
    },
    {
      "cell_type": "code",
      "metadata": {
        "id": "aIwwNvfVICe8",
        "colab_type": "code",
        "colab": {
          "base_uri": "https://localhost:8080/",
          "height": 51
        },
        "outputId": "84e7b2fc-f5b2-420c-fb62-f4b1c0deb044"
      },
      "source": [
        "# Collection Literal --> Python provides the four types of literal collection such as List literals, Tuple literals, Dict literals, and Set literals.\n",
        "# List:\n",
        "\n",
        "# List contains items of different data types. Lists are mutable i.e., modifiable.\n",
        "# The values stored in List are separated by comma(,) and enclosed within square brackets([]). We can store different types of data in a List.\n",
        "list=['James',455,24,\"Pan's\"]    \n",
        "list1=[354,'Andrew']    \n",
        "print(list)    \n",
        "print(list + list1)  "
      ],
      "execution_count": null,
      "outputs": [
        {
          "output_type": "stream",
          "text": [
            "['James', 455, 24, \"Pan's\"]\n",
            "['James', 455, 24, \"Pan's\", 354, 'Andrew']\n"
          ],
          "name": "stdout"
        }
      ]
    },
    {
      "cell_type": "code",
      "metadata": {
        "id": "UV6GQLgWIwHy",
        "colab_type": "code",
        "colab": {
          "base_uri": "https://localhost:8080/",
          "height": 34
        },
        "outputId": "07b474b6-7c94-46ef-c056-2cf670bc7a45"
      },
      "source": [
        "# Dictionary:\n",
        "\n",
        "# Python dictionary stores the data in the key-value pair.\n",
        "# It is enclosed by curly-braces {} and each pair is separated by the commas(,).\n",
        "dict = {'name': 'Peter', 'Age':22,'Roll_nu':139105212}\n",
        "print(dict)  "
      ],
      "execution_count": null,
      "outputs": [
        {
          "output_type": "stream",
          "text": [
            "{'name': 'Peter', 'Age': 22, 'Roll_nu': 139105212}\n"
          ],
          "name": "stdout"
        }
      ]
    },
    {
      "cell_type": "code",
      "metadata": {
        "id": "EF0yFIGpJCL-",
        "colab_type": "code",
        "colab": {
          "base_uri": "https://localhost:8080/",
          "height": 34
        },
        "outputId": "cb84c674-6fb7-49b3-9e66-78d47e6cb32a"
      },
      "source": [
        "# Tuple:\n",
        "\n",
        "# Python tuple is a collection of different data-type. It is immutable which means it cannot be modified after creation.\n",
        "# It is enclosed by the parentheses () and each element is separated by the comma(,).\n",
        "tup = (10,20,\"Dave\",[1,2,3,4])  \n",
        "print(tup)  "
      ],
      "execution_count": null,
      "outputs": [
        {
          "output_type": "stream",
          "text": [
            "(10, 20, 'Dave', [1, 2, 3, 4])\n"
          ],
          "name": "stdout"
        }
      ]
    },
    {
      "cell_type": "code",
      "metadata": {
        "id": "zQoRJJNzJLKB",
        "colab_type": "code",
        "colab": {
          "base_uri": "https://localhost:8080/",
          "height": 34
        },
        "outputId": "17b53d4d-62e7-40e8-a104-08871b04977c"
      },
      "source": [
        "# Set:\n",
        "\n",
        "# Python set is the collection of the unordered dataset.\n",
        "# It is enclosed by the {} and each element is separated by the comma(,).\n",
        "set = {'apple','banana','mango','grapes'}  \n",
        "print(set)  "
      ],
      "execution_count": null,
      "outputs": [
        {
          "output_type": "stream",
          "text": [
            "{'mango', 'banana', 'apple', 'grapes'}\n"
          ],
          "name": "stdout"
        }
      ]
    },
    {
      "cell_type": "markdown",
      "metadata": {
        "id": "XQQN4OCR1jhN",
        "colab_type": "text"
      },
      "source": [
        "##Data Types in Python"
      ]
    },
    {
      "cell_type": "markdown",
      "metadata": {
        "id": "VQSZkSVwS_ln",
        "colab_type": "text"
      },
      "source": [
        "### Strings"
      ]
    },
    {
      "cell_type": "markdown",
      "metadata": {
        "id": "OmgHbDwaS_lo",
        "colab_type": "text"
      },
      "source": [
        "Besides numbers, Python can also manipulate strings. Strings can enclosed in single quotes (`'...'`) or double quotes (`\"...\"`) with the same result. Use `\\` to escape quotes, that is, to use a quote within the string itself:"
      ]
    },
    {
      "cell_type": "code",
      "metadata": {
        "trusted": true,
        "id": "S7WzuXP0S_lp",
        "colab_type": "code",
        "colab": {}
      },
      "source": [
        "'spam eggs'  # Single quotes."
      ],
      "execution_count": null,
      "outputs": []
    },
    {
      "cell_type": "code",
      "metadata": {
        "trusted": true,
        "id": "FzJRH3H9S_lq",
        "colab_type": "code",
        "colab": {}
      },
      "source": [
        "'doesn\\'t'  # Use \\' to escape the single quote..."
      ],
      "execution_count": null,
      "outputs": []
    },
    {
      "cell_type": "code",
      "metadata": {
        "trusted": true,
        "id": "FDEl5GRDS_lu",
        "colab_type": "code",
        "colab": {}
      },
      "source": [
        "\"doesn't\"  # ...or use double quotes instead."
      ],
      "execution_count": null,
      "outputs": []
    },
    {
      "cell_type": "code",
      "metadata": {
        "trusted": true,
        "id": "4au8vsahS_lw",
        "colab_type": "code",
        "colab": {}
      },
      "source": [
        "'\"Yes,\" he said.'"
      ],
      "execution_count": null,
      "outputs": []
    },
    {
      "cell_type": "code",
      "metadata": {
        "trusted": true,
        "id": "WD-D_A4QS_ly",
        "colab_type": "code",
        "colab": {}
      },
      "source": [
        "\"\\\"Yes,\\\" he said.\""
      ],
      "execution_count": null,
      "outputs": []
    },
    {
      "cell_type": "code",
      "metadata": {
        "trusted": true,
        "id": "2iXsbD8nS_lz",
        "colab_type": "code",
        "colab": {}
      },
      "source": [
        "'\"Isn\\'t,\" she said.'"
      ],
      "execution_count": null,
      "outputs": []
    },
    {
      "cell_type": "markdown",
      "metadata": {
        "id": "KHycghMBS_l1",
        "colab_type": "text"
      },
      "source": [
        "In the interactive interpreter and Jupyter notebooks, the output string is enclosed in quotes and special characters are escaped with backslashes. Although this output sometimes looks different from the input (the enclosing quotes could change), the two strings are equivalent. The string is enclosed in double quotes if the string contains a single quote and no double quotes, otherwise its enclosed in single quotes. The [`print()`](https://docs.python.org/3.6/library/functions.html#print) function produces a more readable output by omitting the enclosing quotes and by printing escaped and special characters:"
      ]
    },
    {
      "cell_type": "code",
      "metadata": {
        "trusted": true,
        "id": "g7IJdkXLS_l1",
        "colab_type": "code",
        "colab": {}
      },
      "source": [
        "'\"Isn\\'t,\" she said.'"
      ],
      "execution_count": null,
      "outputs": []
    },
    {
      "cell_type": "code",
      "metadata": {
        "trusted": true,
        "id": "8PXC1r-vS_l2",
        "colab_type": "code",
        "colab": {}
      },
      "source": [
        "print('\"Isn\\'t,\" she said.')"
      ],
      "execution_count": null,
      "outputs": []
    },
    {
      "cell_type": "code",
      "metadata": {
        "trusted": true,
        "id": "aFTympE2S_l3",
        "colab_type": "code",
        "colab": {}
      },
      "source": [
        "s = 'First line.\\nSecond line.'  # \\n means newline.\n",
        "s  # Without print(), \\n is included in the output."
      ],
      "execution_count": null,
      "outputs": []
    },
    {
      "cell_type": "code",
      "metadata": {
        "trusted": true,
        "id": "WfymncsiS_l5",
        "colab_type": "code",
        "colab": {}
      },
      "source": [
        "print(s)  # With print(), \\n produces a new line."
      ],
      "execution_count": null,
      "outputs": []
    },
    {
      "cell_type": "markdown",
      "metadata": {
        "id": "hgKk5iuwS_l6",
        "colab_type": "text"
      },
      "source": [
        "If you don't want escaped characters (prefaced by `\\`) to be interpreted as special characters, use *raw strings* by adding an `r` before the first quote:"
      ]
    },
    {
      "cell_type": "code",
      "metadata": {
        "trusted": true,
        "id": "UyMmv79kS_l8",
        "colab_type": "code",
        "colab": {}
      },
      "source": [
        "print('C:\\some\\name')  # Here \\n means newline!"
      ],
      "execution_count": null,
      "outputs": []
    },
    {
      "cell_type": "code",
      "metadata": {
        "trusted": true,
        "id": "Nh23_Xw-S_l9",
        "colab_type": "code",
        "colab": {}
      },
      "source": [
        "print(r'C:\\some\\name')  # Note the r before the quote."
      ],
      "execution_count": null,
      "outputs": []
    },
    {
      "cell_type": "markdown",
      "metadata": {
        "id": "UPbxgoCsS_l-",
        "colab_type": "text"
      },
      "source": [
        "String literals can span multiple lines and are delineated by triple-quotes: `\"\"\"...\"\"\"` or `'''...'''`. End of lines are automatically included in the string, but it's possible to prevent this by adding a `\\` at the end of the line. For example, without a `\\`, the following example includes an extra line at the beginning of the output:"
      ]
    },
    {
      "cell_type": "code",
      "metadata": {
        "trusted": true,
        "id": "5LNXRTdKS_l_",
        "colab_type": "code",
        "colab": {}
      },
      "source": [
        "print(\"\"\"\n",
        "Usage: thingy [OPTIONS]\n",
        "     -h                        Display this usage message\n",
        "     -H hostname               Hostname to connect to\n",
        "\"\"\")"
      ],
      "execution_count": null,
      "outputs": []
    },
    {
      "cell_type": "markdown",
      "metadata": {
        "id": "w2i871_6S_mA",
        "colab_type": "text"
      },
      "source": [
        "Adding a `\\` removes that extra line:"
      ]
    },
    {
      "cell_type": "code",
      "metadata": {
        "trusted": true,
        "id": "M947f-nMS_mA",
        "colab_type": "code",
        "colab": {}
      },
      "source": [
        "print(\"\"\"\\\n",
        "Usage: thingy [OPTIONS]\n",
        "     -h                        Display this usage message\n",
        "     -H hostname               Hostname to connect to\n",
        "\"\"\")"
      ],
      "execution_count": null,
      "outputs": []
    },
    {
      "cell_type": "markdown",
      "metadata": {
        "id": "YlETWuXiS_mC",
        "colab_type": "text"
      },
      "source": [
        "Because Python doesn't provide a means for creating multi-line comments, developers often just use triple quotes for this purpose. In a Jupyter notebook, however, such quotes define a string literal which appears as the output of a code cell:"
      ]
    },
    {
      "cell_type": "code",
      "metadata": {
        "trusted": true,
        "id": "JBPG173LS_mC",
        "colab_type": "code",
        "colab": {}
      },
      "source": [
        "\"\"\"\n",
        "Everything between the first three quotes, including new lines,\n",
        "is part of the multi-line comment. Technically, the Python interpreter\n",
        "simply sees the comment as a string, and because it's not otherwise\n",
        "used in code, the string is ignored. Convenient, eh?\n",
        "\"\"\""
      ],
      "execution_count": null,
      "outputs": []
    },
    {
      "cell_type": "markdown",
      "metadata": {
        "id": "fINzM6AOS_mD",
        "colab_type": "text"
      },
      "source": [
        "For this reason, it's best in notebooks to use the `#` comment character at the beginning of each line, or better still, just use a Markdown cell!"
      ]
    },
    {
      "cell_type": "markdown",
      "metadata": {
        "id": "iGHFyM-CS_mD",
        "colab_type": "text"
      },
      "source": [
        "Strings can be *concatenated* (glued together) with the `+` operator, and repeated with `*`:"
      ]
    },
    {
      "cell_type": "code",
      "metadata": {
        "trusted": true,
        "id": "wB0dU8WlS_mE",
        "colab_type": "code",
        "colab": {}
      },
      "source": [
        "# 3 times 'un', followed by 'ium'\n",
        "3 * 'un' + 'ium'"
      ],
      "execution_count": null,
      "outputs": []
    },
    {
      "cell_type": "markdown",
      "metadata": {
        "id": "XqrQND2JS_mF",
        "colab_type": "text"
      },
      "source": [
        "Two or more *string literals* (that is, the values enclosed in quotes) placed next to each other are automatically concatenated:"
      ]
    },
    {
      "cell_type": "code",
      "metadata": {
        "trusted": true,
        "id": "ur5Cp2D2S_mF",
        "colab_type": "code",
        "colab": {}
      },
      "source": [
        "'Py' 'thon'"
      ],
      "execution_count": null,
      "outputs": []
    },
    {
      "cell_type": "markdown",
      "metadata": {
        "id": "k5QmKtZmS_mG",
        "colab_type": "text"
      },
      "source": [
        "Automatic concatenation works only with two literals; it does not work with variables or expressions, so the following cell produces an error:"
      ]
    },
    {
      "cell_type": "code",
      "metadata": {
        "trusted": true,
        "id": "Hw3jcgLqS_mH",
        "colab_type": "code",
        "colab": {}
      },
      "source": [
        "prefix = 'Py'\n",
        "prefix 'thon'  # Can't concatenate a variable and a string literal."
      ],
      "execution_count": null,
      "outputs": []
    },
    {
      "cell_type": "markdown",
      "metadata": {
        "id": "tOEyViOdS_mI",
        "colab_type": "text"
      },
      "source": [
        "The following cell likewise produces an error:"
      ]
    },
    {
      "cell_type": "code",
      "metadata": {
        "trusted": true,
        "id": "r-4WqfmES_mI",
        "colab_type": "code",
        "colab": {}
      },
      "source": [
        "('un' * 3) 'ium'"
      ],
      "execution_count": null,
      "outputs": []
    },
    {
      "cell_type": "markdown",
      "metadata": {
        "id": "doeE8G3QS_mJ",
        "colab_type": "text"
      },
      "source": [
        "To concatenate variables, or a variable and a literal, use `+`:"
      ]
    },
    {
      "cell_type": "code",
      "metadata": {
        "trusted": true,
        "id": "WT5gOe-4S_mJ",
        "colab_type": "code",
        "colab": {}
      },
      "source": [
        "prefix = 'Py'\n",
        "prefix + 'thon'"
      ],
      "execution_count": null,
      "outputs": []
    },
    {
      "cell_type": "markdown",
      "metadata": {
        "id": "mG3qrSiDS_mL",
        "colab_type": "text"
      },
      "source": [
        "Automatic concatenation is particularly useful when you want to break up long strings:"
      ]
    },
    {
      "cell_type": "code",
      "metadata": {
        "trusted": true,
        "id": "o_bbHVaxS_mM",
        "colab_type": "code",
        "colab": {}
      },
      "source": [
        "text = ('Put several strings within parentheses '\n",
        "            'to have them joined together.')\n",
        "text"
      ],
      "execution_count": null,
      "outputs": []
    },
    {
      "cell_type": "markdown",
      "metadata": {
        "id": "au80-JlwS_mM",
        "colab_type": "text"
      },
      "source": [
        "Strings can be *indexed* (subscripted), with the first character having index 0. There is no separate character type; a character is simply a string of size one:"
      ]
    },
    {
      "cell_type": "code",
      "metadata": {
        "trusted": true,
        "id": "d2gZ4UbGS_mN",
        "colab_type": "code",
        "colab": {}
      },
      "source": [
        "word = 'Python'\n",
        "word[0]  # Character in position 0."
      ],
      "execution_count": null,
      "outputs": []
    },
    {
      "cell_type": "code",
      "metadata": {
        "trusted": true,
        "id": "N37gmbYSS_mO",
        "colab_type": "code",
        "colab": {}
      },
      "source": [
        "word[5]  # Character in position 5."
      ],
      "execution_count": null,
      "outputs": []
    },
    {
      "cell_type": "markdown",
      "metadata": {
        "id": "FyW_27SCS_mP",
        "colab_type": "text"
      },
      "source": [
        "Indices may also be negative numbers, which means to start counting from the end of the string. Note that because -0 is the same as 0, negative indices start from -1:"
      ]
    },
    {
      "cell_type": "code",
      "metadata": {
        "trusted": true,
        "id": "Ks-53v18S_mP",
        "colab_type": "code",
        "colab": {}
      },
      "source": [
        "word[-1]  # Last character."
      ],
      "execution_count": null,
      "outputs": []
    },
    {
      "cell_type": "code",
      "metadata": {
        "trusted": true,
        "id": "SK5SqqxkS_mQ",
        "colab_type": "code",
        "colab": {}
      },
      "source": [
        "word[-2]  # Second-last character."
      ],
      "execution_count": null,
      "outputs": []
    },
    {
      "cell_type": "code",
      "metadata": {
        "trusted": true,
        "id": "GlnguB3QS_mR",
        "colab_type": "code",
        "colab": {}
      },
      "source": [
        "word[-6]"
      ],
      "execution_count": null,
      "outputs": []
    },
    {
      "cell_type": "markdown",
      "metadata": {
        "id": "JTAQqIdYS_mU",
        "colab_type": "text"
      },
      "source": [
        "In addition to indexing, which extracts individual characters, Python also supports *slicing*, which extracts a substring. To slide, you indicate a *range* in the format `start:end`, where the start position is included but the end position is excluded:"
      ]
    },
    {
      "cell_type": "code",
      "metadata": {
        "trusted": true,
        "id": "ys8uuv-0S_mU",
        "colab_type": "code",
        "colab": {}
      },
      "source": [
        "word[0:2]  # Characters from position 0 (included) to 2 (excluded)."
      ],
      "execution_count": null,
      "outputs": []
    },
    {
      "cell_type": "code",
      "metadata": {
        "trusted": true,
        "id": "O3gXqpuPS_mV",
        "colab_type": "code",
        "colab": {}
      },
      "source": [
        "word[2:5]  # Characters from position 2 (included) to 5 (excluded)."
      ],
      "execution_count": null,
      "outputs": []
    },
    {
      "cell_type": "markdown",
      "metadata": {
        "id": "WyJggKxwS_mW",
        "colab_type": "text"
      },
      "source": [
        "If you omit either position, the default start position is 0 and the default end is the length of the string:"
      ]
    },
    {
      "cell_type": "code",
      "metadata": {
        "trusted": true,
        "id": "am6uyJATS_mW",
        "colab_type": "code",
        "colab": {}
      },
      "source": [
        "word[:2]   # Character from the beginning to position 2 (excluded)."
      ],
      "execution_count": null,
      "outputs": []
    },
    {
      "cell_type": "code",
      "metadata": {
        "trusted": true,
        "id": "WVTZFKNCS_mX",
        "colab_type": "code",
        "colab": {}
      },
      "source": [
        "word[4:]  # Characters from position 4 (included) to the end."
      ],
      "execution_count": null,
      "outputs": []
    },
    {
      "cell_type": "code",
      "metadata": {
        "trusted": true,
        "id": "4URHDyXiS_mY",
        "colab_type": "code",
        "colab": {}
      },
      "source": [
        "word[-2:] # Characters from the second-last (included) to the end."
      ],
      "execution_count": null,
      "outputs": []
    },
    {
      "cell_type": "markdown",
      "metadata": {
        "id": "2NWWwnnFS_mZ",
        "colab_type": "text"
      },
      "source": [
        "This characteristic means that `s[:i] + s[i:]` is always equal to `s`:"
      ]
    },
    {
      "cell_type": "code",
      "metadata": {
        "trusted": true,
        "id": "5W_dnCKUS_ma",
        "colab_type": "code",
        "colab": {}
      },
      "source": [
        "word[:2] + word[2:]"
      ],
      "execution_count": null,
      "outputs": []
    },
    {
      "cell_type": "code",
      "metadata": {
        "trusted": true,
        "id": "pNrnlAMXS_mb",
        "colab_type": "code",
        "colab": {}
      },
      "source": [
        "word[:4] + word[4:]"
      ],
      "execution_count": null,
      "outputs": []
    },
    {
      "cell_type": "markdown",
      "metadata": {
        "id": "qd1KiPgeS_me",
        "colab_type": "text"
      },
      "source": [
        "One way to remember how slices work is to think of the indices as pointing between characters, with the left edge of the first character numbered 0. Then the right edge of the last character of a string of *n* characters has index *n*. For example:"
      ]
    },
    {
      "cell_type": "markdown",
      "metadata": {
        "id": "fD5qIup5S_me",
        "colab_type": "raw"
      },
      "source": [
        " +---+---+---+---+---+---+\n",
        " | P | y | t | h | o | n |\n",
        " +---+---+---+---+---+---+\n",
        " 0   1   2   3   4   5   6\n",
        "-6  -5  -4  -3  -2  -1"
      ]
    },
    {
      "cell_type": "markdown",
      "metadata": {
        "id": "dlpLslq5S_me",
        "colab_type": "text"
      },
      "source": [
        "The first row of numbers gives the position of the indices 0...6 in the string; the second row gives the corresponding negative indices. The slice from *i* to *j* consists of all characters between the edges labeled *i* and *j*, respectively.\n",
        "\n",
        "For non-negative indices, the length of a slice is the difference of the indices, if both are within bounds. For example, the length of `word[1:3]` is 2.\n",
        "\n",
        "Attempting to use an index that is too large results in an error:"
      ]
    },
    {
      "cell_type": "code",
      "metadata": {
        "trusted": true,
        "id": "A27ZUB4mS_me",
        "colab_type": "code",
        "colab": {}
      },
      "source": [
        "word[42]  # The word only has 6 characters."
      ],
      "execution_count": null,
      "outputs": []
    },
    {
      "cell_type": "markdown",
      "metadata": {
        "id": "eRffX76AS_mg",
        "colab_type": "text"
      },
      "source": [
        "However, when used in a range, an index that's too large defaults to the size of the string and does not give an error. This characteristic is useful when you always want to slice at a particular index regardless of the length of a string:"
      ]
    },
    {
      "cell_type": "code",
      "metadata": {
        "trusted": true,
        "id": "__7rIzHlS_mg",
        "colab_type": "code",
        "colab": {}
      },
      "source": [
        "word[4:42]"
      ],
      "execution_count": null,
      "outputs": []
    },
    {
      "cell_type": "code",
      "metadata": {
        "trusted": true,
        "id": "TxY_JhFeS_mh",
        "colab_type": "code",
        "colab": {}
      },
      "source": [
        "word[42:]"
      ],
      "execution_count": null,
      "outputs": []
    },
    {
      "cell_type": "markdown",
      "metadata": {
        "id": "8rpSCGLhS_mj",
        "colab_type": "text"
      },
      "source": [
        "Python strings are [immutable](https://docs.python.org/3.5/glossary.html#term-immutable), which means they cannot be changed. Therefore, assigning a value to an indexed position in a string results in an error:"
      ]
    },
    {
      "cell_type": "code",
      "metadata": {
        "trusted": true,
        "id": "9KtIvMHtS_mj",
        "colab_type": "code",
        "colab": {}
      },
      "source": [
        "word[0] = 'J'"
      ],
      "execution_count": null,
      "outputs": []
    },
    {
      "cell_type": "markdown",
      "metadata": {
        "id": "C0A7_fXFS_mk",
        "colab_type": "text"
      },
      "source": [
        "The following cell also produces an error:"
      ]
    },
    {
      "cell_type": "code",
      "metadata": {
        "trusted": true,
        "id": "H_Ay1BoPS_mk",
        "colab_type": "code",
        "colab": {}
      },
      "source": [
        "word[2:] = 'py'"
      ],
      "execution_count": null,
      "outputs": []
    },
    {
      "cell_type": "markdown",
      "metadata": {
        "id": "s7zPh0WvS_ml",
        "colab_type": "text"
      },
      "source": [
        "A slice it itself a value that you can concatenate with other values using `+`:"
      ]
    },
    {
      "cell_type": "code",
      "metadata": {
        "trusted": true,
        "id": "WarhrTpsS_ml",
        "colab_type": "code",
        "colab": {}
      },
      "source": [
        "'J' + word[1:]"
      ],
      "execution_count": null,
      "outputs": []
    },
    {
      "cell_type": "code",
      "metadata": {
        "trusted": true,
        "id": "3xyMR0t9S_m5",
        "colab_type": "code",
        "colab": {}
      },
      "source": [
        "word[:2] + 'Py'"
      ],
      "execution_count": null,
      "outputs": []
    },
    {
      "cell_type": "markdown",
      "metadata": {
        "id": "VB4ybDWhS_m6",
        "colab_type": "text"
      },
      "source": [
        "A slice, however, is not a string literal and cannot be used with automatic concatenation. The following code produces an error:"
      ]
    },
    {
      "cell_type": "code",
      "metadata": {
        "trusted": true,
        "id": "RGrQEDy9S_m7",
        "colab_type": "code",
        "colab": {}
      },
      "source": [
        "word[:2] 'Py'    # Slice is not a literal; produces an error"
      ],
      "execution_count": null,
      "outputs": []
    },
    {
      "cell_type": "markdown",
      "metadata": {
        "id": "Tn7W5AAZS_m8",
        "colab_type": "text"
      },
      "source": [
        "The built-in function [`len()`](https://docs.python.org/3.5/library/functions.html#len) returns the length of a string:"
      ]
    },
    {
      "cell_type": "code",
      "metadata": {
        "trusted": true,
        "id": "xZYBw6OiS_m8",
        "colab_type": "code",
        "colab": {}
      },
      "source": [
        "s = 'supercalifragilisticexpialidocious'\n",
        "len(s)"
      ],
      "execution_count": null,
      "outputs": []
    },
    {
      "cell_type": "markdown",
      "metadata": {
        "id": "tvoseJU0S_m9",
        "colab_type": "text"
      },
      "source": [
        "### Lists"
      ]
    },
    {
      "cell_type": "markdown",
      "metadata": {
        "id": "GO-UbVV2S_m9",
        "colab_type": "text"
      },
      "source": [
        "Python knows a number of _compound_ data types, which are used to group together other values. The most versatile is the [*list*](https://docs.python.org/3.5/library/stdtypes.html#typesseq-list), which can be written as a sequence of comma-separated values (items) between square brackets. Lists might contain items of different types, but usually the items all have the same type."
      ]
    },
    {
      "cell_type": "code",
      "metadata": {
        "trusted": true,
        "id": "JQGPCZbcS_m9",
        "colab_type": "code",
        "colab": {}
      },
      "source": [
        "squares = [1, 4, 9, 16, 25]\n",
        "squares"
      ],
      "execution_count": null,
      "outputs": []
    },
    {
      "cell_type": "markdown",
      "metadata": {
        "id": "THDVMuRLS_m-",
        "colab_type": "text"
      },
      "source": [
        "Like strings (and all other built-in [sequence](https://docs.python.org/3.5/glossary.html#term-sequence) types), lists can be indexed and sliced:"
      ]
    },
    {
      "cell_type": "code",
      "metadata": {
        "trusted": true,
        "id": "7MMMsv9tS_m-",
        "colab_type": "code",
        "colab": {}
      },
      "source": [
        "squares[0]  # Indexing returns the item."
      ],
      "execution_count": null,
      "outputs": []
    },
    {
      "cell_type": "code",
      "metadata": {
        "trusted": true,
        "id": "gLSGx2rSS_m_",
        "colab_type": "code",
        "colab": {}
      },
      "source": [
        "squares[-1]"
      ],
      "execution_count": null,
      "outputs": []
    },
    {
      "cell_type": "code",
      "metadata": {
        "trusted": true,
        "id": "dt3j7UhaS_nA",
        "colab_type": "code",
        "colab": {}
      },
      "source": [
        "squares[-3:]  # Slicing returns a new list."
      ],
      "execution_count": null,
      "outputs": []
    },
    {
      "cell_type": "markdown",
      "metadata": {
        "id": "sSmqoVDzS_nB",
        "colab_type": "text"
      },
      "source": [
        "All slice operations return a new list containing the requested elements. This means that the following slice returns a new (shallow) copy of the list:"
      ]
    },
    {
      "cell_type": "code",
      "metadata": {
        "trusted": true,
        "id": "b_WFwjRpS_nB",
        "colab_type": "code",
        "colab": {}
      },
      "source": [
        "squares[:]"
      ],
      "execution_count": null,
      "outputs": []
    },
    {
      "cell_type": "markdown",
      "metadata": {
        "id": "LIj4X0NtS_nC",
        "colab_type": "text"
      },
      "source": [
        "Lists also support concatenation with the `+` operator:"
      ]
    },
    {
      "cell_type": "code",
      "metadata": {
        "trusted": true,
        "id": "j2N91LzbS_nC",
        "colab_type": "code",
        "colab": {}
      },
      "source": [
        "squares + [36, 49, 64, 81, 100]"
      ],
      "execution_count": null,
      "outputs": []
    },
    {
      "cell_type": "markdown",
      "metadata": {
        "id": "vq6BbyAqS_nD",
        "colab_type": "text"
      },
      "source": [
        "Unlike strings, which are [immutable](https://docs.python.org/3.5/glossary.html#term-immutable), lists are a [mutable](https://docs.python.org/3.5/glossary.html#term-mutable) type, which means you can change any value in the list:"
      ]
    },
    {
      "cell_type": "code",
      "metadata": {
        "trusted": true,
        "id": "xZ1Zo_-GS_nD",
        "colab_type": "code",
        "colab": {}
      },
      "source": [
        "cubes = [1, 8, 27, 65, 125]  # Something's wrong here ...\n",
        "4 ** 3  # the cube of 4 is 64, not 65!"
      ],
      "execution_count": null,
      "outputs": []
    },
    {
      "cell_type": "code",
      "metadata": {
        "trusted": true,
        "id": "0tde-gz8S_nE",
        "colab_type": "code",
        "colab": {}
      },
      "source": [
        "cubes[3] = 64  # Replace the wrong value.\n",
        "cubes"
      ],
      "execution_count": null,
      "outputs": []
    },
    {
      "cell_type": "markdown",
      "metadata": {
        "id": "ejDA3coES_nF",
        "colab_type": "text"
      },
      "source": [
        "Use the list's `append()` method to add new items to the end of the list:"
      ]
    },
    {
      "cell_type": "code",
      "metadata": {
        "trusted": true,
        "id": "k8jD9bLSS_nF",
        "colab_type": "code",
        "colab": {}
      },
      "source": [
        "# Append\n",
        "cubes.append('append me!')\n",
        "cubes.append(216)  # Add the cube of 6 ...\n",
        "cubes.append(7 ** 3)  # and the cube of 7.\n",
        "cubes"
      ],
      "execution_count": null,
      "outputs": []
    },
    {
      "cell_type": "markdown",
      "metadata": {
        "colab_type": "text",
        "id": "WZcjhx3bPVfV"
      },
      "source": [
        "Use **pop** to \"pop off\" an item from the list. By default pop takes off the last index, but you can also specify which index to pop off. Let's see an example:"
      ]
    },
    {
      "cell_type": "code",
      "metadata": {
        "colab_type": "code",
        "id": "zx2uTMDJPVfa",
        "colab": {},
        "outputId": "66e87fa6-76ac-4955-d143-26436bff4dd9"
      },
      "source": [
        "# Pop off the 0 indexed item\n",
        "cubes.pop(0)"
      ],
      "execution_count": null,
      "outputs": [
        {
          "output_type": "execute_result",
          "data": {
            "text/plain": [
              "1"
            ]
          },
          "metadata": {
            "tags": []
          },
          "execution_count": 17
        }
      ]
    },
    {
      "cell_type": "code",
      "metadata": {
        "id": "bI8e-TIxPhLy",
        "colab_type": "code",
        "colab": {}
      },
      "source": [
        "# Assign the popped element, remember default popped index is -1\n",
        "popped_item = cubes.pop()"
      ],
      "execution_count": null,
      "outputs": []
    },
    {
      "cell_type": "code",
      "metadata": {
        "id": "mOuvbl09PuY0",
        "colab_type": "code",
        "colab": {}
      },
      "source": [
        "cubes[100] # This will throw an error because of list index out of range"
      ],
      "execution_count": null,
      "outputs": []
    },
    {
      "cell_type": "markdown",
      "metadata": {
        "id": "MYQyVLnFS_nG",
        "colab_type": "text"
      },
      "source": [
        "You can even assign to slices, which can change the size of the list or clear it entirely:"
      ]
    },
    {
      "cell_type": "code",
      "metadata": {
        "trusted": true,
        "id": "97-K0A9BS_nH",
        "colab_type": "code",
        "colab": {}
      },
      "source": [
        "letters = ['a', 'b', 'c', 'd', 'e', 'f', 'g']\n",
        "letters"
      ],
      "execution_count": null,
      "outputs": []
    },
    {
      "cell_type": "code",
      "metadata": {
        "trusted": true,
        "id": "5zOvLLOSS_nH",
        "colab_type": "code",
        "colab": {}
      },
      "source": [
        "# Replace some values.\n",
        "letters[2:5] = ['C', 'D', 'E']\n",
        "letters"
      ],
      "execution_count": null,
      "outputs": []
    },
    {
      "cell_type": "code",
      "metadata": {
        "trusted": true,
        "id": "EFdJEVhXS_nI",
        "colab_type": "code",
        "colab": {}
      },
      "source": [
        "# Now remove them.\n",
        "letters[2:5] = []\n",
        "letters"
      ],
      "execution_count": null,
      "outputs": []
    },
    {
      "cell_type": "code",
      "metadata": {
        "trusted": true,
        "id": "p0rXHdl0S_nJ",
        "colab_type": "code",
        "colab": {}
      },
      "source": [
        "# Clear the list by replacing all the elements with an empty list.\n",
        "letters[:] = []\n",
        "letters"
      ],
      "execution_count": null,
      "outputs": []
    },
    {
      "cell_type": "markdown",
      "metadata": {
        "id": "WCqvpLCDS_nK",
        "colab_type": "text"
      },
      "source": [
        "The built-in [`len()`](https://docs.python.org/3.5/library/functions.html#len) function also applies to lists:"
      ]
    },
    {
      "cell_type": "code",
      "metadata": {
        "trusted": true,
        "id": "G0k_aKdDS_nK",
        "colab_type": "code",
        "colab": {}
      },
      "source": [
        "letters = ['a', 'b', 'c', 'd']\n",
        "len(letters)"
      ],
      "execution_count": null,
      "outputs": []
    },
    {
      "cell_type": "markdown",
      "metadata": {
        "id": "LNpGWsNvS_nL",
        "colab_type": "text"
      },
      "source": [
        "You can nest lists, which means to create lists that contain other lists. For example:"
      ]
    },
    {
      "cell_type": "code",
      "metadata": {
        "trusted": true,
        "id": "nnWw5HUaS_nL",
        "colab_type": "code",
        "colab": {}
      },
      "source": [
        "a = ['a', 'b', 'c']\n",
        "n = [1, 2, 3]\n",
        "x = [a, n]\n",
        "x"
      ],
      "execution_count": null,
      "outputs": []
    },
    {
      "cell_type": "code",
      "metadata": {
        "trusted": true,
        "id": "-fMYgGlxS_nM",
        "colab_type": "code",
        "colab": {}
      },
      "source": [
        "x[0]"
      ],
      "execution_count": null,
      "outputs": []
    },
    {
      "cell_type": "code",
      "metadata": {
        "trusted": true,
        "id": "Cz1OzLIaS_nM",
        "colab_type": "code",
        "colab": {}
      },
      "source": [
        "x[0][1]"
      ],
      "execution_count": null,
      "outputs": []
    },
    {
      "cell_type": "markdown",
      "metadata": {
        "id": "BRBc_CUAydwF",
        "colab_type": "text"
      },
      "source": [
        "## Basic List Methods\n",
        "\n",
        "If you are familiar with another programming language, you might start to draw parallels between arrays in another language and lists in Python. Lists in Python however, tend to be more flexible than arrays in other languages for a two good reasons: they have no fixed size (meaning we don't have to specify how big a list will be), and they have no fixed type constraint (like we've seen above).\n",
        "\n",
        "Let's go ahead and explore some more special methods for lists:"
      ]
    },
    {
      "cell_type": "markdown",
      "metadata": {
        "id": "pwVOWS5Iydwf",
        "colab_type": "text"
      },
      "source": [
        "It should also be noted that lists indexing will return an error if there is no element at that index. For example:"
      ]
    },
    {
      "cell_type": "markdown",
      "metadata": {
        "id": "e3fWU6Uiydwi",
        "colab_type": "text"
      },
      "source": [
        "We can use the **sort** method and the **reverse** methods to also effect your lists:"
      ]
    },
    {
      "cell_type": "code",
      "metadata": {
        "id": "eBHq6-nuydwi",
        "colab_type": "code",
        "colab": {}
      },
      "source": [
        "new_list = ['a','e','x','b','c']"
      ],
      "execution_count": null,
      "outputs": []
    },
    {
      "cell_type": "code",
      "metadata": {
        "id": "f8ralE2qydwl",
        "colab_type": "code",
        "colab": {},
        "outputId": "bd110067-a427-4875-8be9-871f9797ccb5"
      },
      "source": [
        "#Show\n",
        "new_list"
      ],
      "execution_count": null,
      "outputs": [
        {
          "output_type": "execute_result",
          "data": {
            "text/plain": [
              "['a', 'e', 'x', 'b', 'c']"
            ]
          },
          "metadata": {
            "tags": []
          },
          "execution_count": 24
        }
      ]
    },
    {
      "cell_type": "code",
      "metadata": {
        "id": "uYbiwQbsydwn",
        "colab_type": "code",
        "colab": {}
      },
      "source": [
        "# Use reverse to reverse order (this is permanent!)\n",
        "new_list.reverse()"
      ],
      "execution_count": null,
      "outputs": []
    },
    {
      "cell_type": "code",
      "metadata": {
        "id": "cIYSsif1ydwq",
        "colab_type": "code",
        "colab": {},
        "outputId": "05618673-8dfa-4c66-959c-44391f3c8571"
      },
      "source": [
        "new_list"
      ],
      "execution_count": null,
      "outputs": [
        {
          "output_type": "execute_result",
          "data": {
            "text/plain": [
              "['c', 'b', 'x', 'e', 'a']"
            ]
          },
          "metadata": {
            "tags": []
          },
          "execution_count": 26
        }
      ]
    },
    {
      "cell_type": "code",
      "metadata": {
        "id": "cHOmz4TBydws",
        "colab_type": "code",
        "colab": {}
      },
      "source": [
        "# Use sort to sort the list (in this case alphabetical order, but for numbers it will go ascending)\n",
        "new_list.sort()"
      ],
      "execution_count": null,
      "outputs": []
    },
    {
      "cell_type": "code",
      "metadata": {
        "id": "FCTgeJAWydwu",
        "colab_type": "code",
        "colab": {},
        "outputId": "43315f3d-ea97-40cd-a81f-0c1e63fe6365"
      },
      "source": [
        "new_list"
      ],
      "execution_count": null,
      "outputs": [
        {
          "output_type": "execute_result",
          "data": {
            "text/plain": [
              "['a', 'b', 'c', 'e', 'x']"
            ]
          },
          "metadata": {
            "tags": []
          },
          "execution_count": 28
        }
      ]
    },
    {
      "cell_type": "markdown",
      "metadata": {
        "id": "ab7DE9Huydwx",
        "colab_type": "text"
      },
      "source": [
        "## Nesting Lists\n",
        "A great feature of of Python data structures is that they support *nesting*. This means we can have data structures within data structures. For example: A list inside a list.\n",
        "\n",
        "Let's see how this works!"
      ]
    },
    {
      "cell_type": "code",
      "metadata": {
        "id": "R4lSShDwydwx",
        "colab_type": "code",
        "colab": {}
      },
      "source": [
        "# Let's make three lists\n",
        "lst_1=[1,2,3]\n",
        "lst_2=[4,5,6]\n",
        "lst_3=[7,8,9]\n",
        "\n",
        "# Make a list of lists to form a matrix\n",
        "matrix = [lst_1,lst_2,lst_3]"
      ],
      "execution_count": null,
      "outputs": []
    },
    {
      "cell_type": "code",
      "metadata": {
        "id": "Gb7VsABAydw0",
        "colab_type": "code",
        "colab": {},
        "outputId": "6d65dfbe-92d4-4528-964b-6b8a4182144c"
      },
      "source": [
        "# Show\n",
        "matrix"
      ],
      "execution_count": null,
      "outputs": [
        {
          "output_type": "execute_result",
          "data": {
            "text/plain": [
              "[[1, 2, 3], [4, 5, 6], [7, 8, 9]]"
            ]
          },
          "metadata": {
            "tags": []
          },
          "execution_count": 30
        }
      ]
    },
    {
      "cell_type": "markdown",
      "metadata": {
        "id": "KlxLuvJDydw2",
        "colab_type": "text"
      },
      "source": [
        "We can again use indexing to grab elements, but now there are two levels for the index. The items in the matrix object, and then the items inside that list!"
      ]
    },
    {
      "cell_type": "code",
      "metadata": {
        "id": "e0aBvoUOydw2",
        "colab_type": "code",
        "colab": {},
        "outputId": "586ca356-e885-4dcd-9192-bd265fc458ef"
      },
      "source": [
        "# Grab first item in matrix object\n",
        "matrix[0]"
      ],
      "execution_count": null,
      "outputs": [
        {
          "output_type": "execute_result",
          "data": {
            "text/plain": [
              "[1, 2, 3]"
            ]
          },
          "metadata": {
            "tags": []
          },
          "execution_count": 31
        }
      ]
    },
    {
      "cell_type": "code",
      "metadata": {
        "id": "e7dVwdYCydw5",
        "colab_type": "code",
        "colab": {},
        "outputId": "eb1b0367-02cf-40c9-c196-cca4ad37e1c3"
      },
      "source": [
        "# Grab first item of the first item in the matrix object\n",
        "matrix[0][0]"
      ],
      "execution_count": null,
      "outputs": [
        {
          "output_type": "execute_result",
          "data": {
            "text/plain": [
              "1"
            ]
          },
          "metadata": {
            "tags": []
          },
          "execution_count": 32
        }
      ]
    },
    {
      "cell_type": "markdown",
      "metadata": {
        "id": "hCwTsUSM7pJH",
        "colab_type": "text"
      },
      "source": [
        "### Dictionaries\n",
        "\n",
        "We've been learning about *sequences* in Python but now we're going to switch gears and learn about *mappings* in Python. If you're familiar with other languages you can think of these Dictionaries as hash tables. \n",
        "\n",
        "This section will serve as a brief introduction to dictionaries and consist of:\n",
        "\n",
        "    1.) Constructing a Dictionary\n",
        "    2.) Accessing objects from a dictionary\n",
        "    3.) Nesting Dictionaries\n",
        "    4.) Basic Dictionary Methods\n",
        "\n",
        "So what are mappings? Mappings are a collection of objects that are stored by a *key*, unlike a sequence that stored objects by their relative position. This is an important distinction, since mappings won't retain order since they have objects defined by a key.\n",
        "\n",
        "A Python dictionary consists of a key and then an associated value. That value can be almost any Python object.\n",
        "\n",
        "\n",
        "## Constructing a Dictionary\n",
        "Let's see how we can construct dictionaries to get a better understanding of how they work!"
      ]
    },
    {
      "cell_type": "code",
      "metadata": {
        "id": "VyGszYeu7pJI",
        "colab_type": "code",
        "colab": {}
      },
      "source": [
        "# Make a dictionary with {} and : to signify a key and a value\n",
        "my_dict = {'key1':'value1','key2':'value2'}"
      ],
      "execution_count": null,
      "outputs": []
    },
    {
      "cell_type": "code",
      "metadata": {
        "id": "KeYJ5k_Q7pJL",
        "colab_type": "code",
        "colab": {},
        "outputId": "9f2e3e13-b356-40af-c35c-0ee8edb2bb5e"
      },
      "source": [
        "# Call values by their key\n",
        "my_dict['key2']"
      ],
      "execution_count": null,
      "outputs": [
        {
          "output_type": "execute_result",
          "data": {
            "text/plain": [
              "'value2'"
            ]
          },
          "metadata": {
            "tags": []
          },
          "execution_count": 2
        }
      ]
    },
    {
      "cell_type": "markdown",
      "metadata": {
        "id": "C_pal7y57pJO",
        "colab_type": "text"
      },
      "source": [
        "Its important to note that dictionaries are very flexible in the data types they can hold. For example:"
      ]
    },
    {
      "cell_type": "code",
      "metadata": {
        "id": "q37vEMyJ7pJP",
        "colab_type": "code",
        "colab": {}
      },
      "source": [
        "my_dict = {'key1':123,'key2':[12,23,33],'key3':['item0','item1','item2']}"
      ],
      "execution_count": null,
      "outputs": []
    },
    {
      "cell_type": "code",
      "metadata": {
        "id": "TbkVgp5-7pJS",
        "colab_type": "code",
        "colab": {},
        "outputId": "f3afb8c7-5336-442a-8cf5-a17db70f0d35"
      },
      "source": [
        "# Let's call items from the dictionary\n",
        "my_dict['key3']"
      ],
      "execution_count": null,
      "outputs": [
        {
          "output_type": "execute_result",
          "data": {
            "text/plain": [
              "['item0', 'item1', 'item2']"
            ]
          },
          "metadata": {
            "tags": []
          },
          "execution_count": 4
        }
      ]
    },
    {
      "cell_type": "code",
      "metadata": {
        "id": "ZasU5MpB7pJV",
        "colab_type": "code",
        "colab": {},
        "outputId": "18e52ec3-63e6-45c7-846c-ea98d55a785c"
      },
      "source": [
        "# Can call an index on that value\n",
        "my_dict['key3'][0]"
      ],
      "execution_count": null,
      "outputs": [
        {
          "output_type": "execute_result",
          "data": {
            "text/plain": [
              "'item0'"
            ]
          },
          "metadata": {
            "tags": []
          },
          "execution_count": 5
        }
      ]
    },
    {
      "cell_type": "code",
      "metadata": {
        "id": "y7TsHWV47pJX",
        "colab_type": "code",
        "colab": {},
        "outputId": "a3f3f116-7368-4d1a-ae4f-179424880047"
      },
      "source": [
        "# Can then even call methods on that value\n",
        "my_dict['key3'][0].upper()"
      ],
      "execution_count": null,
      "outputs": [
        {
          "output_type": "execute_result",
          "data": {
            "text/plain": [
              "'ITEM0'"
            ]
          },
          "metadata": {
            "tags": []
          },
          "execution_count": 6
        }
      ]
    },
    {
      "cell_type": "markdown",
      "metadata": {
        "id": "Ba1M-6Yi7pJb",
        "colab_type": "text"
      },
      "source": [
        "We can affect the values of a key as well. For instance:"
      ]
    },
    {
      "cell_type": "code",
      "metadata": {
        "id": "TS6aI32M7pJb",
        "colab_type": "code",
        "colab": {},
        "outputId": "c837cd87-e663-4f3d-fb05-a5999eb39ed3"
      },
      "source": [
        "my_dict['key1']"
      ],
      "execution_count": null,
      "outputs": [
        {
          "output_type": "execute_result",
          "data": {
            "text/plain": [
              "123"
            ]
          },
          "metadata": {
            "tags": []
          },
          "execution_count": 7
        }
      ]
    },
    {
      "cell_type": "code",
      "metadata": {
        "id": "aWpHZcwG7pJe",
        "colab_type": "code",
        "colab": {}
      },
      "source": [
        "# Subtract 123 from the value\n",
        "my_dict['key1'] = my_dict['key1'] - 123"
      ],
      "execution_count": null,
      "outputs": []
    },
    {
      "cell_type": "code",
      "metadata": {
        "id": "xG5yEsMC7pJh",
        "colab_type": "code",
        "colab": {},
        "outputId": "348afebf-2fc6-4b36-bc8e-c33f49b3ae25"
      },
      "source": [
        "#Check\n",
        "my_dict['key1']"
      ],
      "execution_count": null,
      "outputs": [
        {
          "output_type": "execute_result",
          "data": {
            "text/plain": [
              "0"
            ]
          },
          "metadata": {
            "tags": []
          },
          "execution_count": 9
        }
      ]
    },
    {
      "cell_type": "markdown",
      "metadata": {
        "id": "iqLy9B_37pJj",
        "colab_type": "text"
      },
      "source": [
        "A quick note, Python has a built-in method of doing a self subtraction or addition (or multiplication or division). We could have also used += or -= for the above statement. For example:"
      ]
    },
    {
      "cell_type": "code",
      "metadata": {
        "id": "XjW_-45p7pJk",
        "colab_type": "code",
        "colab": {},
        "outputId": "521177c6-f9d9-4904-e073-15f03af3e14c"
      },
      "source": [
        "# Set the object equal to itself minus 123 \n",
        "my_dict['key1'] -= 123\n",
        "my_dict['key1']"
      ],
      "execution_count": null,
      "outputs": [
        {
          "output_type": "execute_result",
          "data": {
            "text/plain": [
              "-123"
            ]
          },
          "metadata": {
            "tags": []
          },
          "execution_count": 10
        }
      ]
    },
    {
      "cell_type": "markdown",
      "metadata": {
        "id": "YWSZyICP7pJm",
        "colab_type": "text"
      },
      "source": [
        "We can also create keys by assignment. For instance if we started off with an empty dictionary, we could continually add to it:"
      ]
    },
    {
      "cell_type": "code",
      "metadata": {
        "id": "iCv5EgmJ7pJo",
        "colab_type": "code",
        "colab": {}
      },
      "source": [
        "# Create a new dictionary\n",
        "d = {}"
      ],
      "execution_count": null,
      "outputs": []
    },
    {
      "cell_type": "code",
      "metadata": {
        "id": "iA2kF8p97pJr",
        "colab_type": "code",
        "colab": {}
      },
      "source": [
        "# Create a new key through assignment\n",
        "d['animal'] = 'Dog'"
      ],
      "execution_count": null,
      "outputs": []
    },
    {
      "cell_type": "code",
      "metadata": {
        "id": "mFzx97IG7pJu",
        "colab_type": "code",
        "colab": {}
      },
      "source": [
        "# Can do this with any object\n",
        "d['answer'] = 42"
      ],
      "execution_count": null,
      "outputs": []
    },
    {
      "cell_type": "code",
      "metadata": {
        "id": "dAbBtBhO7pJx",
        "colab_type": "code",
        "colab": {},
        "outputId": "de952a7e-234a-46c8-c469-96eea1e31941"
      },
      "source": [
        "#Show\n",
        "d"
      ],
      "execution_count": null,
      "outputs": [
        {
          "output_type": "execute_result",
          "data": {
            "text/plain": [
              "{'animal': 'Dog', 'answer': 42}"
            ]
          },
          "metadata": {
            "tags": []
          },
          "execution_count": 14
        }
      ]
    },
    {
      "cell_type": "markdown",
      "metadata": {
        "id": "QC0bduJU7pJ1",
        "colab_type": "text"
      },
      "source": [
        "### Nesting with Dictionaries\n",
        "\n",
        "Hopefully you're starting to see how powerful Python is with its flexibility of nesting objects and calling methods on them. Let's see a dictionary nested inside a dictionary:"
      ]
    },
    {
      "cell_type": "code",
      "metadata": {
        "id": "nlnyFtRQ7pJ1",
        "colab_type": "code",
        "colab": {}
      },
      "source": [
        "# Dictionary nested inside a dictionary nested inside a dictionary\n",
        "d = {'key1':{'nestkey':{'subnestkey':'value'}}}"
      ],
      "execution_count": null,
      "outputs": []
    },
    {
      "cell_type": "markdown",
      "metadata": {
        "id": "O1fUFfwM7pJ4",
        "colab_type": "text"
      },
      "source": [
        "Wow! That's a quite the inception of dictionaries! Let's see how we can grab that value:"
      ]
    },
    {
      "cell_type": "code",
      "metadata": {
        "id": "Q9Xz_-Rh7pJ5",
        "colab_type": "code",
        "colab": {},
        "outputId": "41810e57-51e1-4102-9ff6-830fa1999e83"
      },
      "source": [
        "# Keep calling the keys\n",
        "d['key1']['nestkey']['subnestkey']"
      ],
      "execution_count": null,
      "outputs": [
        {
          "output_type": "execute_result",
          "data": {
            "text/plain": [
              "'value'"
            ]
          },
          "metadata": {
            "tags": []
          },
          "execution_count": 16
        }
      ]
    },
    {
      "cell_type": "markdown",
      "metadata": {
        "id": "Dj8lMPUT7pKB",
        "colab_type": "text"
      },
      "source": [
        "### A few Dictionary Methods\n",
        "\n",
        "There are a few methods we can call on a dictionary. Let's get a quick introduction to a few of them:"
      ]
    },
    {
      "cell_type": "code",
      "metadata": {
        "id": "isBr7JzN7pKB",
        "colab_type": "code",
        "colab": {}
      },
      "source": [
        "# Create a typical dictionary\n",
        "d = {'key1':1,'key2':2,'key3':3}"
      ],
      "execution_count": null,
      "outputs": []
    },
    {
      "cell_type": "code",
      "metadata": {
        "id": "Ct4hD3vm7pKD",
        "colab_type": "code",
        "colab": {},
        "outputId": "5bbe0014-d58e-400f-ba5d-3138aa7cfa70"
      },
      "source": [
        "# Method to return a list of all keys \n",
        "d.keys()"
      ],
      "execution_count": null,
      "outputs": [
        {
          "output_type": "execute_result",
          "data": {
            "text/plain": [
              "dict_keys(['key1', 'key2', 'key3'])"
            ]
          },
          "metadata": {
            "tags": []
          },
          "execution_count": 18
        }
      ]
    },
    {
      "cell_type": "code",
      "metadata": {
        "id": "ptCaoQYH7pKG",
        "colab_type": "code",
        "colab": {},
        "outputId": "e9e4350c-3ebb-460e-8b51-4b784aae8ecb"
      },
      "source": [
        "# Method to grab all values\n",
        "d.values()"
      ],
      "execution_count": null,
      "outputs": [
        {
          "output_type": "execute_result",
          "data": {
            "text/plain": [
              "dict_values([1, 2, 3])"
            ]
          },
          "metadata": {
            "tags": []
          },
          "execution_count": 19
        }
      ]
    },
    {
      "cell_type": "code",
      "metadata": {
        "id": "ZpvOP-zq7pKI",
        "colab_type": "code",
        "colab": {},
        "outputId": "3ff9add3-ce1e-4d5d-c29f-5aebba0d1a99"
      },
      "source": [
        "# Method to return tuples of all items  (we'll learn about tuples soon)\n",
        "d.items()"
      ],
      "execution_count": null,
      "outputs": [
        {
          "output_type": "execute_result",
          "data": {
            "text/plain": [
              "dict_items([('key1', 1), ('key2', 2), ('key3', 3)])"
            ]
          },
          "metadata": {
            "tags": []
          },
          "execution_count": 20
        }
      ]
    },
    {
      "cell_type": "markdown",
      "metadata": {
        "id": "jtEmI2Hy7pKK",
        "colab_type": "text"
      },
      "source": [
        "Hopefully you now have a good basic understanding how to construct dictionaries. There's a lot more to go into here, but we will revisit dictionaries at later time. After this section all you need to know is how to create a dictionary and how to retrieve values from it."
      ]
    },
    {
      "cell_type": "markdown",
      "metadata": {
        "id": "kzdpNFic2xlU",
        "colab_type": "text"
      },
      "source": [
        "##Popular Question Answered on Quora\n",
        "<span class='quora-content-embed' data-name='How-should-I-start-learning-Python-1/answer/Neha-Ahuja-178'>Read <a class='quora-content-link' data-width='560' data-height='260' href='https://www.quora.com/How-should-I-start-learning-Python-1/answer/Neha-Ahuja-178' data-type='answer' data-id='122319626' data-key='f8a735498f074d34d32023d61c740361' load-full-answer='False' data-embed='dmvmtdw'><a href='https://www.quora.com/Neha-Ahuja-178'>Neha Ahuja</a>&#039;s <a href='/How-should-I-start-learning-Python-1?top_ans=122319626'>answer</a> to <a href='/How-should-I-start-learning-Python-1' ref='canonical'><span class=\"rendered_qtext\">How should I start learning Python?</span></a></a> on <a href='https://www.quora.com'>Quora</a><script type=\"text/javascript\" src=\"https://www.quora.com/widgets/content\"></script></span>\n",
        "\n",
        "<span class='quora-content-embed' data-name='What-is-the-use-of-learning-the-Python-language/answers/170367059'>Read <a class='quora-content-link' data-width='560' data-height='260' href='https://www.quora.com/What-is-the-use-of-learning-the-Python-language/answers/170367059' data-type='answer' data-id='170367059' data-key='064f54675b4d9e2f23ae166cd062388f' load-full-answer='False' data-embed='dmvmtdw'><a href='https://www.quora.com/Mohammad-Waseem-95'>Mohammad Waseem</a>&#039;s <a href='/What-is-the-use-of-learning-the-Python-language?top_ans=170367059'>answer</a> to <a href='/What-is-the-use-of-learning-the-Python-language' ref='canonical'><span class=\"rendered_qtext\">What is the use of learning the Python language?</span></a></a> on <a href='https://www.quora.com'>Quora</a><script type=\"text/javascript\" src=\"https://www.quora.com/widgets/content\"></script></span>\n",
        "\n",
        "<span class='quora-content-embed' data-name='Why-would-you-recommend-learning-Python-What-makes-it-useful/answer/Janarthanan-Soundararajan'>Read <a class='quora-content-link' data-width='560' data-height='260' href='https://www.quora.com/Why-would-you-recommend-learning-Python-What-makes-it-useful/answer/Janarthanan-Soundararajan' data-type='answer' data-id='25331268' data-key='5b02e3049ad8b5590dd59bbc845224e4' load-full-answer='False' data-embed='dmvmtdw'><a href='https://www.quora.com/Janarthanan-Soundararajan'>Janarthanan Soundararajan</a>&#039;s <a href='/Why-would-you-recommend-learning-Python-What-makes-it-useful?top_ans=25331268'>answer</a> to <a href='/Why-would-you-recommend-learning-Python-What-makes-it-useful' ref='canonical'><span class=\"rendered_qtext\">Why would you recommend learning Python? What makes it useful?</span></a></a> on <a href='https://www.quora.com'>Quora</a><script type=\"text/javascript\" src=\"https://www.quora.com/widgets/content\"></script></span>"
      ]
    },
    {
      "cell_type": "markdown",
      "metadata": {
        "id": "glpgq5vIJC8_",
        "colab_type": "text"
      },
      "source": [
        "##Building a Basic Calculator"
      ]
    },
    {
      "cell_type": "code",
      "metadata": {
        "id": "BSnD6mjVJHYU",
        "colab_type": "code",
        "colab": {
          "base_uri": "https://localhost:8080/",
          "height": 136
        },
        "outputId": "ac5fff55-fb63-4949-a040-45bd9613ff5a"
      },
      "source": [
        "num1 = int(input(\"Enter the first number \"))\n",
        "num2 = int(input(\"Enter another number \"))\n",
        "sum = num1 + num2\n",
        "diff = num1 - num2\n",
        "mult = num1 * num2\n",
        "div = num1 / num2\n",
        "mean = (num1+num2)/2\n",
        "print(\"Sum of {0} and {1} is {2}\".format(num1, num2,sum))\n",
        "print(\"Diff of {0} and {1} is {2}\".format(num1, num2,diff))\n",
        "print(\"Prod of {0} and {1} is {2}\".format(num1, num2,mult))\n",
        "print(\"Div of {0} and {1} is {2}\".format(num1, num2,div))\n",
        "print(\"Mean of {0} and {1} is {2}\".format(num1, num2,mean))"
      ],
      "execution_count": null,
      "outputs": [
        {
          "output_type": "stream",
          "text": [
            "Enter the first number 10\n",
            "Enter another number 20\n",
            "Sum of 10 and 20 is 30\n",
            "Diff of 10 and 20 is -10\n",
            "Prod of 10 and 20 is 200\n",
            "Div of 10 and 20 is 0.5\n",
            "Mean of 10 and 20 is 15.0\n"
          ],
          "name": "stdout"
        }
      ]
    },
    {
      "cell_type": "markdown",
      "metadata": {
        "id": "11Mmo_WlPRNT",
        "colab_type": "text"
      },
      "source": [
        "##In Class Practise Question 1"
      ]
    },
    {
      "cell_type": "code",
      "metadata": {
        "id": "qRwEwoZh2dWR",
        "colab_type": "code",
        "colab": {
          "base_uri": "https://localhost:8080/",
          "height": 204
        },
        "outputId": "c40b8490-f063-4a7f-90ef-4f23312b9aa1"
      },
      "source": [
        "#Multiplication Table\n",
        "n = int(input(\"Enter a number \"))\n",
        "for i in range(1, 11):\n",
        "  print(n,\"X\",i,\"=\",n*i)\n"
      ],
      "execution_count": null,
      "outputs": [
        {
          "output_type": "stream",
          "text": [
            "Enter a number 5\n",
            "5 X 1 = 5\n",
            "5 X 2 = 10\n",
            "5 X 3 = 15\n",
            "5 X 4 = 20\n",
            "5 X 5 = 25\n",
            "5 X 6 = 30\n",
            "5 X 7 = 35\n",
            "5 X 8 = 40\n",
            "5 X 9 = 45\n",
            "5 X 10 = 50\n"
          ],
          "name": "stdout"
        }
      ]
    },
    {
      "cell_type": "code",
      "metadata": {
        "id": "wtp3jBW_3PUp",
        "colab_type": "code",
        "colab": {
          "base_uri": "https://localhost:8080/",
          "height": 34
        },
        "outputId": "31065afe-fe20-48cb-d2d1-835f96e470b5"
      },
      "source": [
        "#Swapping using 3 variables\n",
        "a = 10\n",
        "b = 20\n",
        "temp = a\n",
        "a = b\n",
        "b = temp\n",
        "print(a,b) "
      ],
      "execution_count": null,
      "outputs": [
        {
          "output_type": "stream",
          "text": [
            "20 10\n"
          ],
          "name": "stdout"
        }
      ]
    },
    {
      "cell_type": "code",
      "metadata": {
        "id": "JzCZ5V914QAk",
        "colab_type": "code",
        "colab": {
          "base_uri": "https://localhost:8080/",
          "height": 51
        },
        "outputId": "3db27444-41a1-427f-fff7-84c8cfb2c613"
      },
      "source": [
        "#Swapping using multiplication\n",
        "a = 10\n",
        "b = 20\n",
        "print(a,b)\n",
        "a = a+b\n",
        "b = a-b\n",
        "a = a-b\n",
        "print(a,b)"
      ],
      "execution_count": null,
      "outputs": [
        {
          "output_type": "stream",
          "text": [
            "10 20\n",
            "20 10\n"
          ],
          "name": "stdout"
        }
      ]
    },
    {
      "cell_type": "code",
      "metadata": {
        "id": "t8PpRK3K4lGp",
        "colab_type": "code",
        "colab": {
          "base_uri": "https://localhost:8080/",
          "height": 51
        },
        "outputId": "27b022fd-3eab-49cd-8c28-e2340380dc74"
      },
      "source": [
        "# Swapping using Using XOR\n",
        "a = 10\n",
        "b = 20\n",
        "print(a,b)\n",
        "a = a^b\n",
        "b = b^a\n",
        "# a = a^b\n",
        "print(a,b)"
      ],
      "execution_count": null,
      "outputs": [
        {
          "output_type": "stream",
          "text": [
            "10 20\n",
            "30 10\n"
          ],
          "name": "stdout"
        }
      ]
    },
    {
      "cell_type": "code",
      "metadata": {
        "id": "Hx0a1yw74w2k",
        "colab_type": "code",
        "colab": {}
      },
      "source": [
        ""
      ],
      "execution_count": null,
      "outputs": []
    }
  ]
}