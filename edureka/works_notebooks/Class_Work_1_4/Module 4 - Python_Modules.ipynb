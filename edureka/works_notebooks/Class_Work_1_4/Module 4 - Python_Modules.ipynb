{
 "cells": [
  {
   "cell_type": "code",
   "execution_count": null,
   "id": "172003fe",
   "metadata": {},
   "outputs": [],
   "source": [
    "'''\n",
    "Module : A module is a Python file where functions, constants and variables are defined. Extension of Python module is .py\n",
    "\n",
    "Advantages of Modules in Python\n",
    "It makes the code reusable, means we can use the same code in different programs.\n",
    "It makes our code easier to understand.\n",
    "It help us to organize or manage our code in Python.\n",
    "\n",
    "There are three ways to import a module in Python.\n",
    "1. Using import statement : This is one of the most common way to use module in Python. \n",
    "This method allow us to access all the functions/objects defined in the module. \n",
    "for example : to use math module, we can write —\n",
    "\n",
    "syntax: import <name of module>\n",
    "import math\n",
    "To use more than one module like math and random in our code, we can write :\n",
    "import math, random\n",
    "After importing module in our code, we can access a specific function by writing:\n",
    "<module name>.<function name> like math.sqrt\n",
    "import mymath\n",
    "mymath.add(10,13)\n",
    "'''"
   ]
  },
  {
   "cell_type": "code",
   "execution_count": null,
   "id": "33bc4cd3",
   "metadata": {},
   "outputs": [],
   "source": [
    "a = 10        #  here a is in Global Namespace\n",
    "print(id(a))\n",
    "\n",
    "def addfunc(a,b):     # here a and b are in local namespace\n",
    "    print(id(a), id(b))\n",
    "    return a + b\n",
    "\n",
    "c = addfunc(1,2)\n",
    "print(c)\n",
    "print(id(a))"
   ]
  },
  {
   "cell_type": "code",
   "execution_count": null,
   "id": "386c76b1",
   "metadata": {
    "scrolled": false
   },
   "outputs": [],
   "source": [
    "dir(__builtins__)"
   ]
  },
  {
   "cell_type": "code",
   "execution_count": null,
   "id": "e54e6a13",
   "metadata": {
    "scrolled": true
   },
   "outputs": [],
   "source": [
    "# importing math module\n",
    "import math\n",
    "print(dir(math))"
   ]
  },
  {
   "cell_type": "code",
   "execution_count": null,
   "id": "be5d306f",
   "metadata": {
    "scrolled": false
   },
   "outputs": [],
   "source": [
    "import math\n",
    "help(math)"
   ]
  },
  {
   "cell_type": "code",
   "execution_count": null,
   "id": "c62ff3c6",
   "metadata": {},
   "outputs": [],
   "source": [
    "'''\n",
    "When you start a Python interpreter, one of the things it creates automatically is a list that contains \n",
    "all of directories it will use to search for modules when importing. This list is available in a variable named sys.path. \n",
    "Here is an example of printing out sys.path. Note that the empty '' entry means the current directory.\n",
    "'''\n",
    "import sys\n",
    "sys.path"
   ]
  },
  {
   "cell_type": "code",
   "execution_count": null,
   "id": "28b485a0",
   "metadata": {},
   "outputs": [],
   "source": [
    "'''\n",
    "2. Using ‘from’ statement : This method allow us to import specific function of a module. for example\n",
    "from math import ceil\n",
    "To import more than one function of a module, we can write\n",
    "from math import sqrt, fabs\n",
    "'''"
   ]
  },
  {
   "cell_type": "code",
   "execution_count": null,
   "id": "d0cfc46a",
   "metadata": {},
   "outputs": [],
   "source": [
    "'''\n",
    "3. Using import* statement : This statement can be used to import all functions of a specific module like\n",
    "from math import*\n",
    "'''"
   ]
  },
  {
   "cell_type": "markdown",
   "id": "6fa7282b",
   "metadata": {},
   "source": [
    "### Sys Module"
   ]
  },
  {
   "cell_type": "code",
   "execution_count": null,
   "id": "4412d479",
   "metadata": {},
   "outputs": [],
   "source": [
    "import sys\n",
    "print(dir(sys)) # list of all the methods associated with this module\n",
    "print()\n",
    "print(sys.argv) # The list of command line arguments passed to a Python script.\n",
    "print()\n",
    "print(sys.exit) # Raise a SystemExit exception, signaling an intention to exit the interpreter.\n",
    "print()\n",
    "print(sys.winver) # The version number used to form registry keys on Windows platforms. Ex: C:\\Users\\knsab\\Python310\n",
    "print()\n",
    "print(sys.prefix) # A string giving the site-specific directory prefix where the platform independent Python files are installed"
   ]
  },
  {
   "cell_type": "markdown",
   "id": "3d7dda41",
   "metadata": {},
   "source": [
    "### OS Module"
   ]
  },
  {
   "cell_type": "code",
   "execution_count": null,
   "id": "589cab78",
   "metadata": {},
   "outputs": [],
   "source": [
    "import os\n",
    "# current working directory\n",
    "print(os.getcwd())"
   ]
  },
  {
   "cell_type": "code",
   "execution_count": null,
   "id": "b07f1062",
   "metadata": {},
   "outputs": [],
   "source": [
    "# changing the directory\n",
    "os.chdir('C:/Users/knsab/01 - PP Jupyter Code/')"
   ]
  },
  {
   "cell_type": "code",
   "execution_count": null,
   "id": "30c21922",
   "metadata": {},
   "outputs": [],
   "source": [
    "print(os.getcwd())"
   ]
  },
  {
   "cell_type": "code",
   "execution_count": null,
   "id": "772c4ae0",
   "metadata": {},
   "outputs": [],
   "source": [
    "# make directory\n",
    "os.mkdir('C:/Users/knsab/01 - PP Jupyter Code/test')"
   ]
  },
  {
   "cell_type": "code",
   "execution_count": null,
   "id": "7952505f",
   "metadata": {},
   "outputs": [],
   "source": [
    "print(os.getcwd())"
   ]
  },
  {
   "cell_type": "code",
   "execution_count": null,
   "id": "74c3da38",
   "metadata": {},
   "outputs": [],
   "source": [
    "# list the directories present\n",
    "os.listdir('.')"
   ]
  },
  {
   "cell_type": "code",
   "execution_count": null,
   "id": "d5059484",
   "metadata": {},
   "outputs": [],
   "source": [
    "os.name"
   ]
  },
  {
   "cell_type": "code",
   "execution_count": null,
   "id": "10d668e3",
   "metadata": {},
   "outputs": [],
   "source": [
    "os.getlogin()"
   ]
  },
  {
   "cell_type": "code",
   "execution_count": null,
   "id": "dac3b42c",
   "metadata": {},
   "outputs": [],
   "source": [
    "os.getppid()"
   ]
  },
  {
   "cell_type": "code",
   "execution_count": null,
   "id": "7a506a37",
   "metadata": {},
   "outputs": [],
   "source": [
    "os.path.join('C:\\\\Users','knsab')"
   ]
  },
  {
   "cell_type": "code",
   "execution_count": null,
   "id": "1c6bc124",
   "metadata": {},
   "outputs": [],
   "source": [
    "os.path.join('C:\\\\Users','knsab','test.txt')"
   ]
  },
  {
   "cell_type": "code",
   "execution_count": null,
   "id": "5b037f6e",
   "metadata": {},
   "outputs": [],
   "source": [
    "os.path.abspath('C:/Users/knsab/test.txt')"
   ]
  },
  {
   "cell_type": "code",
   "execution_count": null,
   "id": "5ca4075b",
   "metadata": {},
   "outputs": [],
   "source": [
    "os.path.normpath('C:\\\\Users\\\\knsab//test.txt')"
   ]
  },
  {
   "cell_type": "code",
   "execution_count": null,
   "id": "c8711c8c",
   "metadata": {},
   "outputs": [],
   "source": [
    "os.path.exists('C:/Users/knsab/test.txt')"
   ]
  },
  {
   "cell_type": "code",
   "execution_count": null,
   "id": "beaa0bb8",
   "metadata": {},
   "outputs": [],
   "source": [
    "os.path.isdir('C:/Users/knsab/')"
   ]
  },
  {
   "cell_type": "markdown",
   "id": "b626af28",
   "metadata": {},
   "source": [
    "### Example"
   ]
  },
  {
   "cell_type": "code",
   "execution_count": null,
   "id": "2481a65b",
   "metadata": {},
   "outputs": [],
   "source": [
    "import os\n",
    "dir_name = input(\"Enter directory name where file needs to be created:\")\n",
    "dir_path = os.path.join('C:\\\\Users','knsab',dir_name)\n",
    "print(dir_path)"
   ]
  },
  {
   "cell_type": "code",
   "execution_count": null,
   "id": "0a72df02",
   "metadata": {},
   "outputs": [],
   "source": [
    "if os.path.exists(dir_path) == True:    # chk if directory exists\n",
    "    os.chdir(dir_path)\n",
    "    print(os.getcwd())\n",
    "    file_path = os.path.join(dir_path,'File_new.txt')\n",
    "    print(file_path)\n",
    "    if os.path.exists(file_path) == True:\n",
    "        myfile = open('File_new.txt', mode='r')\n",
    "        contents = myfile.read()\n",
    "        myfile.close()\n",
    "        print(contents)\n",
    "    else:\n",
    "        myfile = open('File_new.txt', mode='w')\n",
    "        for i in range(1,5):\n",
    "            myfile.write(\"The file is opened in write mode !!\")\n",
    "        myfile.close()\n",
    "else:\n",
    "    print(\"Directory does not exists\")\n",
    "    os.mkdir(dir_path)\n",
    "    print(\"Directory created\")"
   ]
  },
  {
   "cell_type": "code",
   "execution_count": null,
   "id": "c1517372",
   "metadata": {},
   "outputs": [],
   "source": [
    "### create a python script and show !!"
   ]
  },
  {
   "cell_type": "markdown",
   "id": "2c76c79b",
   "metadata": {},
   "source": [
    "### Math Module"
   ]
  },
  {
   "cell_type": "code",
   "execution_count": null,
   "id": "06e57a9f",
   "metadata": {},
   "outputs": [],
   "source": [
    "import math\n",
    "print(math.ceil(11.005)) # Return the ceiling of x\n",
    "print(math.floor(11.99)) # Returns the floor of x\n",
    "print(math.copysign(15,-1)) # Return a float with the magnitude (absolute value) of x but the sign of y\n",
    "print(math.fabs(-19.7)) # Return the absolute value of x"
   ]
  },
  {
   "cell_type": "code",
   "execution_count": null,
   "id": "55848691",
   "metadata": {},
   "outputs": [],
   "source": [
    "# Power and Log functions\n",
    "print(math.exp(5)) # Return e raised to the power x, where e = 2.718281\n",
    "print(math.expm1(5)) # Return e raised to the power x, minus 1\n",
    "print(math.log(10)) # With one argument, return the natural logarithm of x (to base e)\n",
    "print(math.log(100,10)) # With two arguments, return the logarithm of x to the given base, calculated as log(x)/log(base)"
   ]
  },
  {
   "cell_type": "code",
   "execution_count": null,
   "id": "cbafdc2d",
   "metadata": {},
   "outputs": [],
   "source": [
    "# Trignometric functions\n",
    "# value passed is in radians and not degrees\n",
    "# 1.5708 rad = 90.0002105 deg\n",
    "# 0.5236 rad = 30.0000702 deg\n",
    "print(math.sin(1.5708))\n",
    "print(math.cos(0))\n",
    "print(math.sin(0.5236))\n",
    "\n",
    "# c^2 = a^2 + b^2\n",
    "perpendicular = 10\n",
    "base = 5\n",
    "print(math.hypot(perpendicular, base))"
   ]
  },
  {
   "cell_type": "code",
   "execution_count": null,
   "id": "34f328c4",
   "metadata": {},
   "outputs": [],
   "source": [
    "# Radians to degrees. deg = Rad × 180/π. So call degrees functions and pass radians\n",
    "print(math.degrees(1.5708))\n",
    "# Degrees to radians. deg x π/180 = Rad. So call radians functions and pass degrees\n",
    "print(math.radians(90))\n",
    "print(math.pi) # Pi = 3.14\n",
    "print(math.e) # The math.e constant returns the Eular's number: 2.718281828459045"
   ]
  },
  {
   "cell_type": "markdown",
   "id": "68bd2eda",
   "metadata": {},
   "source": [
    "#### Random Module - If we need to make a game where we have to use a dice then random module can be used !! or for generating passwords. Now-a-days OTPs are generated using this module !!"
   ]
  },
  {
   "cell_type": "code",
   "execution_count": null,
   "id": "039c9c88",
   "metadata": {},
   "outputs": [],
   "source": [
    "import random\n",
    "# generates a random integer given within the range\n",
    "num = random.randrange(10)\n",
    "print(num)\n",
    "print()\n",
    "\n",
    "# returns a randomly selected element from range(start,stop,step)\n",
    "num = random.randrange(0,100,20)\n",
    "print(num)\n",
    "print()\n",
    "\n",
    "# returns a random integer N such that a<=N<=b\n",
    "num = random.randint(0,30)\n",
    "print(num)\n",
    "print()\n",
    "\n",
    "# Returns a uniform floating point number M such that x<=M<=y for x<=y and y<=M<=x for y<x\n",
    "print(random.uniform(6,2))"
   ]
  },
  {
   "cell_type": "markdown",
   "id": "735ea237",
   "metadata": {},
   "source": [
    "#### datetime Module - used while designing login screen and also while logging in it is used to save the time stamp of the user"
   ]
  },
  {
   "cell_type": "code",
   "execution_count": null,
   "id": "87da4256",
   "metadata": {},
   "outputs": [],
   "source": [
    "import datetime\n",
    "\n",
    "now = datetime.datetime.today()\n",
    "print(\"now = \", now)\n",
    "print(now.strftime(\"%Z\"))\n",
    "\n",
    "past_date = datetime.datetime(2022,1,1)\n",
    "print(\"past date = \", past_date)\n",
    "print(now - past_date)\n",
    "print()\n",
    "\n",
    "# Present date and time\n",
    "present_date = datetime.datetime.now()\n",
    "print(type(present_date))\n",
    "print(\"Current date and time is : \", str(present_date))"
   ]
  },
  {
   "cell_type": "code",
   "execution_count": null,
   "id": "93f88635",
   "metadata": {},
   "outputs": [],
   "source": [
    "from datetime import datetime, timedelta\n",
    "# Future date after 3 months or 90 days\n",
    "present_date = datetime.now()\n",
    "future_date = present_date + timedelta(days=90)\n",
    "print(\"Future date and time after 90 days is : \", str(future_date))"
   ]
  },
  {
   "cell_type": "code",
   "execution_count": null,
   "id": "98a9b4f4",
   "metadata": {},
   "outputs": [],
   "source": [
    "import datetime\n",
    "\n",
    "print(datetime.MAXYEAR)\n",
    "print()\n",
    "\n",
    "print(datetime.MINYEAR)\n",
    "print()\n",
    "\n",
    "print(datetime.time())\n",
    "print()\n",
    "\n",
    "print(datetime.timezone)\n",
    "print()"
   ]
  },
  {
   "cell_type": "code",
   "execution_count": null,
   "id": "dab618a0",
   "metadata": {},
   "outputs": [],
   "source": [
    "now = datetime.datetime.now() # current date and time\n",
    "print(now)\n",
    "print(type(now))\n",
    "print()\n",
    "\n",
    "year = now.strftime(\"%Y\")\n",
    "print(\"year:\", year)\n",
    "print()\n",
    "\n",
    "month = now.strftime(\"%m\")\n",
    "print(\"month:\", month)\n",
    "print()\n",
    "\n",
    "day = now.strftime(\"%d\")\n",
    "print(\"day:\", day)\n",
    "print()\n",
    "\n",
    "time = now.strftime(\"%H:%M:%S\")\n",
    "print(\"time:\", time)\n",
    "print()\n",
    "\n",
    "date_time = now.strftime(\"%m/%d/%Y, %H:%M:%S\")\n",
    "print(\"date and time:\",date_time)\n",
    "print()\n",
    "\n",
    "formatted_date = now.strftime(\"%a/%B/%Y/%w\")\n",
    "print(formatted_date)\n",
    "print()"
   ]
  },
  {
   "cell_type": "markdown",
   "id": "4f309094",
   "metadata": {},
   "source": [
    "#### json (JavaScript Object Notation) Module - JavaScript Object Notation (JSON) is a standard text-based format for representing structured data based on JavaScript object syntax. It is commonly used for transmitting data in web applications (e.g., sending some data from the server to the client, so it can be displayed on a web page, or vice versa)."
   ]
  },
  {
   "cell_type": "code",
   "execution_count": null,
   "id": "aa6a8b38",
   "metadata": {},
   "outputs": [],
   "source": [
    "import json\n",
    "  \n",
    "# create a JSON file\n",
    "dict1 = {\n",
    "   \"emp1\": {\n",
    "      \"name\": \"Lisa\",\n",
    "      \"designation\": \"programmer\",\n",
    "      \"age\": \"34\",\n",
    "      \"salary\": \"54000\"\n",
    "   },\n",
    "   \"emp2\": {\n",
    "      \"name\": \"Elis\",\n",
    "      \"designation\": \"Trainee\",\n",
    "      \"age\": \"24\",\n",
    "      \"salary\": \"40000\"\n",
    "   }\n",
    "}# the json file where the output must be stored\n",
    "out_file = open(\"empfile.json\", \"w\")\n",
    "  \n",
    "json.dump(dict1, out_file, indent = 3)\n",
    "  \n",
    "out_file.close()"
   ]
  },
  {
   "cell_type": "code",
   "execution_count": null,
   "id": "690968bb",
   "metadata": {},
   "outputs": [],
   "source": [
    "# Program to read json file to process in Python\n",
    "import json\n",
    "\n",
    "# Opening JSON file\n",
    "f_obj = open('empfile.json', 'r')\n",
    "\n",
    "# returns JSON object as a dictionary\n",
    "data = json.load(f_obj)\n",
    "print(\"Data:\", data)\n",
    "print(type(data))\n",
    "print()\n",
    "\n",
    "# Iterating through the json list\n",
    "print(data['emp1'])\n",
    "print(data['emp1']['name'])\n",
    "\n",
    "print(data['emp2'])\n",
    "print(data['emp2']['designation'])\n",
    "\n",
    "# Closing file\n",
    "f_obj.close()"
   ]
  },
  {
   "cell_type": "code",
   "execution_count": null,
   "id": "9ef44758",
   "metadata": {},
   "outputs": [],
   "source": [
    "import json\n",
    "  \n",
    "# create a JSON file\n",
    "data = {\n",
    "        \"emp_details\": [\n",
    "                {\n",
    "                    \"emp_name\": \"Shubham\",\n",
    "                    \"email\": \"ksingh.subh@gmail.com\",\n",
    "                    \"job_profile\": \"Intern\"\n",
    "                },\n",
    "                {\n",
    "                    \"emp_name\": \"Gaurav\",\n",
    "                    \"email\": \"gaurav.singh@gmail.com\",\n",
    "                    \"job_profile\": \"Developer\"\n",
    "                },\n",
    "            ]\n",
    "    }\n",
    "# the json file where the output must be stored\n",
    "out_file = open(\"empfile_1.json\", \"w\")\n",
    "  \n",
    "json.dump(data, out_file, indent = 3)\n",
    "  \n",
    "out_file.close()"
   ]
  },
  {
   "cell_type": "code",
   "execution_count": null,
   "id": "30a5ef93",
   "metadata": {},
   "outputs": [],
   "source": [
    "# Program to read json file\n",
    "import json\n",
    "\n",
    "# Opening JSON file\n",
    "f_obj = open('empfile_1.json', 'r')\n",
    "\n",
    "# returns JSON object as a dictionary\n",
    "data = json.load(f_obj)\n",
    "print(\"Data:\", data)\n",
    "print(type(data))\n",
    "print()\n",
    "\n",
    "# Iterating through the json list\n",
    "for i in data['emp_details']:\n",
    "    print(i)\n",
    "    print(i['email'])\n",
    "    print()\n",
    "\n",
    "# Closing file\n",
    "f_obj.close()"
   ]
  },
  {
   "cell_type": "markdown",
   "id": "2e0efa92",
   "metadata": {},
   "source": [
    "#### Regular Expressions"
   ]
  },
  {
   "cell_type": "code",
   "execution_count": null,
   "id": "18345da3",
   "metadata": {},
   "outputs": [],
   "source": [
    "# to check if expression is there in the string\n",
    "import re\n",
    "if re.search(\"very\",\"python is awesome\"):\n",
    "    print(\"string is found\")\n",
    "else:\n",
    "    print(\"String not found\")"
   ]
  },
  {
   "cell_type": "code",
   "execution_count": null,
   "id": "0f132bfe",
   "metadata": {},
   "outputs": [],
   "source": [
    "# print the number of times the char or string present in the search string\n",
    "# findall() function returns a list containing all matches.\n",
    "import re\n",
    "allpython = re.findall(\"python\", \"python is awesome and python is a dynamically typed language\")\n",
    "print(allpython)\n",
    "print(type(allpython))"
   ]
  },
  {
   "cell_type": "code",
   "execution_count": null,
   "id": "3d0a1c19",
   "metadata": {},
   "outputs": [],
   "source": [
    "# Generating an iterator is the simple process to find out and report the starting and ending index of the given string\n",
    "Str = \"we need to inform him with the latest information\"\n",
    "for i in re.finditer(\"inform\", Str):\n",
    "    print(i)\n",
    "    # span() method returns a tuple containing starting and ending index of the matched string.\n",
    "    locTuple = i.span()\n",
    "\n",
    "print()\n",
    "Str = \"kuldeep@gmail.com,suvitt@gmail.com\"\n",
    "for i in re.finditer(\".com\", Str):\n",
    "    print(i)\n",
    "    # span() method returns a tuple containing starting and ending index of the matched string.\n",
    "    locTuple = i.span()"
   ]
  },
  {
   "cell_type": "code",
   "execution_count": null,
   "id": "f5a78fd5",
   "metadata": {},
   "outputs": [],
   "source": [
    "# Matching words with patterns\n",
    "# [] = A set of characters\n",
    "import re\n",
    "Str = \"Sat, hat, mat, pat, rat\"\n",
    "allStr = re.findall(\"[shmp]at\", Str)\n",
    "# search for sat, hat, mat, pat\n",
    "for i in allStr:\n",
    "    print(i)"
   ]
  },
  {
   "cell_type": "code",
   "execution_count": null,
   "id": "969f16eb",
   "metadata": {},
   "outputs": [],
   "source": [
    "# Matching words with patterns. will search in the range 'h-m' concatenated with 'at'\n",
    "import re\n",
    "Str = \"Sat, hat, mat, pat\"\n",
    "allStr = re.findall(\"[h-m]at\", Str)\n",
    "# match for hat iat jat kat lat mat \n",
    "for i in allStr:\n",
    "    print(i)"
   ]
  },
  {
   "cell_type": "code",
   "execution_count": null,
   "id": "7a1fe365",
   "metadata": {},
   "outputs": [],
   "source": [
    "# Matching words with patterns. will search in the range APART from 'h-m' concatenated with 'at'\n",
    "# [] = A set of characters\n",
    "# findall() function returns a list containing all matches.\n",
    "import re\n",
    "Str = \"Sat, hat, mat, pat\"\n",
    "allStr = re.findall(\"[^h-m]at\", Str)\n",
    "for i in allStr:\n",
    "    print(i)"
   ]
  },
  {
   "cell_type": "code",
   "execution_count": null,
   "id": "9b38e278",
   "metadata": {},
   "outputs": [],
   "source": [
    "# Replacing a string\n",
    "# [] = A set of characters\n",
    "import re\n",
    "Food = \"hat rat aat mat pat qat\"\n",
    "regex = re.compile(\"[m-p]at\")\n",
    "# mat nat oat pat qat rat\n",
    "Food = regex.sub(\"food\", Food)\n",
    "print(Food)"
   ]
  },
  {
   "cell_type": "code",
   "execution_count": null,
   "id": "e5de327d",
   "metadata": {},
   "outputs": [],
   "source": [
    "'''\n",
    "You may notice that the pattern variable is a string prefixed with r, which indicates that the string is a raw string\n",
    "literal.\n",
    "A raw string literal has a slightly different syntax than a string literal, namely a backslash \\ in a raw string literal\n",
    "means \"just a backslash\" and there's no need for doubling up backlashes to escape \"escape sequences\" such as\n",
    "newlines (\\n), tabs (\\t), backspaces (\\), form-feeds (\\r), and so on. In normal string literals, each backslash must be\n",
    "doubled up to avoid being taken as the start of an escape sequence.\n",
    "'''"
   ]
  },
  {
   "cell_type": "code",
   "execution_count": null,
   "id": "b54ce0c6",
   "metadata": {},
   "outputs": [],
   "source": [
    "# Replace a1, b2, c3 combinations with *\n",
    "# [] = A set of characters\n",
    "print(re.sub(r'[a-c][1-4]','*','a3+b1+d4+e5+c2'))"
   ]
  },
  {
   "cell_type": "code",
   "execution_count": null,
   "id": "4d66eb21",
   "metadata": {},
   "outputs": [],
   "source": [
    "# . = Any character (.. means 2 charaters between A & B)\n",
    "print(re.sub(r'A..B','*','A22B AxB AxxB A!B'))"
   ]
  },
  {
   "cell_type": "code",
   "execution_count": null,
   "id": "c5bdda3e",
   "metadata": {},
   "outputs": [],
   "source": [
    "# + = One or more occurrences\n",
    "print(re.sub(r'AB+','*','ABC ABBBBBBC AC'))"
   ]
  },
  {
   "cell_type": "code",
   "execution_count": null,
   "id": "bc603ca9",
   "metadata": {},
   "outputs": [],
   "source": [
    "# {n,m} matches atleast n or at most m occurences of expression\n",
    "# If 3 B's, 4 B's, 5 B's or 6 B's followed by A are present in string then replace it with *\n",
    "print(re.sub(r'AB{3,6}','*','ABB ABBB ABBBB ABBBBBBBBB'))"
   ]
  },
  {
   "cell_type": "code",
   "execution_count": null,
   "id": "2f558880",
   "metadata": {},
   "outputs": [],
   "source": [
    "# ^ = matches begining of line\n",
    "print(re.sub(r'^abc','*','abcdefgabc'))"
   ]
  },
  {
   "cell_type": "code",
   "execution_count": null,
   "id": "2f87c275",
   "metadata": {},
   "outputs": [],
   "source": [
    "# $ = matches end of line\n",
    "print(re.sub(r'abc$','*','abcdefgabc'))"
   ]
  },
  {
   "cell_type": "code",
   "execution_count": null,
   "id": "f8abd21d",
   "metadata": {},
   "outputs": [],
   "source": [
    "# \\ = Signals a special sequence\n",
    "print(re.sub(r'AB\\+','*','AB+C'))"
   ]
  },
  {
   "cell_type": "code",
   "execution_count": null,
   "id": "9745261a",
   "metadata": {},
   "outputs": [],
   "source": [
    "# \\d = Returns a match where the string contains digits (numbers from 0-9)\n",
    "print(re.sub(r'\\d','*','3 + 14 = 17'))\n",
    "print(re.sub(r'\\d','*','3b + 14 = 17a'))"
   ]
  },
  {
   "cell_type": "code",
   "execution_count": null,
   "id": "ceb8d4c3",
   "metadata": {},
   "outputs": [],
   "source": [
    "# \\D = Returns a match where the string DOES NOT contain digits\n",
    "print(re.sub(r'\\D','*','3 + 14 = 17'))\n",
    "print(re.sub(r'\\D','*','3b + 14 = 17a'))"
   ]
  },
  {
   "cell_type": "code",
   "execution_count": null,
   "id": "945a20a1",
   "metadata": {},
   "outputs": [],
   "source": [
    "# {n,m} matches atleast n or at most m occurences of expression\n",
    "# [] = A set of characters\n",
    "phn = \"412-555-1212\"\n",
    "if re.search(\"[0-9]{3}-[0-9]{3}-[0-9]{4}\",phn):\n",
    "    print(\"Valid phone number\")\n",
    "else:\n",
    "    print(\"Invalid phone number\")"
   ]
  },
  {
   "cell_type": "code",
   "execution_count": null,
   "id": "a8c6267a",
   "metadata": {},
   "outputs": [],
   "source": [
    "# \\w matches for alphanumeric characters\n",
    "import re\n",
    "email = \"knsabhnani@google.com\"\n",
    "if re.search(\"[A-Za-z]{2,6}@[A-Za-z]{3,6}.[A-Za-z]{2,3}\",email):\n",
    "    print(\"Valid Email Ids\")\n",
    "else:\n",
    "    print(\"Invalid Email Ids\")"
   ]
  },
  {
   "cell_type": "code",
   "execution_count": null,
   "id": "c2d68a41",
   "metadata": {},
   "outputs": [],
   "source": [
    "! pip install nltk"
   ]
  },
  {
   "cell_type": "code",
   "execution_count": null,
   "id": "ab53a633",
   "metadata": {},
   "outputs": [],
   "source": [
    "# NLP Chunking Process\n",
    "\n",
    "# NLP requires knowledge of Parts of Speech (POS)\n",
    "'''\n",
    "PRP - Personal pronoun\n",
    "VBZ - Verb, 3rd person singular present\n",
    "VBG - Verb, gerund or present participle\n",
    "DT - Determiner\n",
    "NN - Noun, singular or mass\n",
    "'''"
   ]
  },
  {
   "cell_type": "code",
   "execution_count": null,
   "id": "fa710ae8",
   "metadata": {},
   "outputs": [],
   "source": [
    "import nltk"
   ]
  },
  {
   "cell_type": "code",
   "execution_count": null,
   "id": "5e37d1a4",
   "metadata": {},
   "outputs": [],
   "source": [
    "from nltk.tokenize import word_tokenize"
   ]
  },
  {
   "cell_type": "code",
   "execution_count": null,
   "id": "8d37ac6f",
   "metadata": {},
   "outputs": [],
   "source": [
    "from nltk.tokenize import RegexpTokenizer"
   ]
  },
  {
   "cell_type": "code",
   "execution_count": null,
   "id": "48f02f90",
   "metadata": {},
   "outputs": [],
   "source": [
    "sent2 = \"She is wearing a beautiful dress\""
   ]
  },
  {
   "cell_type": "code",
   "execution_count": null,
   "id": "160c9c8e",
   "metadata": {},
   "outputs": [],
   "source": [
    "sent2_tokens = word_tokenize(sent2)\n",
    "for token in sent2_tokens:\n",
    "    print(nltk.pos_tag([token]))"
   ]
  },
  {
   "cell_type": "code",
   "execution_count": null,
   "id": "59b6385e",
   "metadata": {},
   "outputs": [],
   "source": [
    "sent2_token=[('She', 'PRP'),('is', 'VBZ'),('wearing', 'VBG'),('a', 'DT'),('beautiful', 'NN'),('dress', 'NN')]\n",
    "grammar_np=\"NP:{<VBZ>*<VBG>*}\"\n",
    "chunk_parser=nltk.RegexpParser(grammar_np)\n",
    "chunk1_result=chunk_parser.parse(sent2_token)\n",
    "print(chunk1_result)"
   ]
  },
  {
   "cell_type": "markdown",
   "id": "5634df86",
   "metadata": {},
   "source": [
    "### Packages"
   ]
  },
  {
   "cell_type": "code",
   "execution_count": null,
   "id": "c7bfe1d9",
   "metadata": {},
   "outputs": [],
   "source": [
    "# import package simple_package\n",
    "# This directory needs to contain a file with the name __init__.py. This file can be empty, \n",
    "# or it can contain valid Python code. This code will be executed when a package is imported, \n",
    "# so it can be used to initialize a package, e.g. to make sure that some other modules are imported or some values set.\n",
    "\n",
    "'''\n",
    "Blank __init__.py\n",
    "'''\n",
    "\n",
    "'''\n",
    "def bar():\n",
    "    print(\"Hello, function 'bar' from module 'a' calling\")\n",
    "'''\n",
    "\n",
    "'''\n",
    "def foo():\n",
    "    print(\"Hello, function 'foo' from module 'b' calling\")\n",
    "'''"
   ]
  },
  {
   "cell_type": "code",
   "execution_count": null,
   "id": "2b3059af",
   "metadata": {},
   "outputs": [],
   "source": [
    "from simple_package import a, b\n",
    "a.bar()\n",
    "b.foo()"
   ]
  },
  {
   "cell_type": "code",
   "execution_count": 8,
   "id": "f4d24c5c",
   "metadata": {},
   "outputs": [
    {
     "data": {
      "text/plain": [
       "-10"
      ]
     },
     "execution_count": 8,
     "metadata": {},
     "output_type": "execute_result"
    }
   ],
   "source": [
    "from mycalculator import mult_mod, add_mod, sub_mod\n",
    "mult_mod.mult(2,2)\n",
    "add_mod.add(2,12)\n",
    "sub_mod.sub(2,12)"
   ]
  },
  {
   "cell_type": "code",
   "execution_count": null,
   "id": "91b6c62c",
   "metadata": {},
   "outputs": [],
   "source": []
  }
 ],
 "metadata": {
  "kernelspec": {
   "display_name": "Python 3 (ipykernel)",
   "language": "python",
   "name": "python3"
  },
  "language_info": {
   "codemirror_mode": {
    "name": "ipython",
    "version": 3
   },
   "file_extension": ".py",
   "mimetype": "text/x-python",
   "name": "python",
   "nbconvert_exporter": "python",
   "pygments_lexer": "ipython3",
   "version": "3.10.6"
  }
 },
 "nbformat": 4,
 "nbformat_minor": 5
}
