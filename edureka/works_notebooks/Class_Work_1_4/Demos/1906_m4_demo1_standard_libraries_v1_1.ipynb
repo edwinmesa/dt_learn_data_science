{
  "cells": [
    {
      "cell_type": "markdown",
      "metadata": {
        "id": "4qS8PWC3kBiP"
      },
      "source": [
        "## Standard Libraries, Import Statement and Important Modules Used in Python"
      ]
    },
    {
      "cell_type": "code",
      "execution_count": null,
      "metadata": {
        "id": "DTggsb0JkBiW",
        "outputId": "37ce1b2a-a32d-4990-fd20-baa5ff95bca8"
      },
      "outputs": [
        {
          "name": "stdout",
          "output_type": "stream",
          "text": [
            "['__doc__', '__loader__', '__name__', '__package__', '__spec__', 'acos', 'acosh', 'asin', 'asinh', 'atan', 'atan2', 'atanh', 'ceil', 'comb', 'copysign', 'cos', 'cosh', 'degrees', 'dist', 'e', 'erf', 'erfc', 'exp', 'expm1', 'fabs', 'factorial', 'floor', 'fmod', 'frexp', 'fsum', 'gamma', 'gcd', 'hypot', 'inf', 'isclose', 'isfinite', 'isinf', 'isnan', 'isqrt', 'ldexp', 'lgamma', 'log', 'log10', 'log1p', 'log2', 'modf', 'nan', 'perm', 'pi', 'pow', 'prod', 'radians', 'remainder', 'sin', 'sinh', 'sqrt', 'tan', 'tanh', 'tau', 'trunc']\n"
          ]
        }
      ],
      "source": [
        "# Example 1 \n",
        "# Import Statement and Dir Function Revisit\n",
        "\n",
        "import math   # Math Module has been imported to perform various mathematical operations\n",
        "print(dir(math)) # It gives the list of variables and functions used in this module"
      ]
    },
    {
      "cell_type": "code",
      "execution_count": null,
      "metadata": {
        "id": "l064OV8LkBiZ",
        "outputId": "ca3b7984-7943-4c8d-8b38-fe365e4107a6"
      },
      "outputs": [
        {
          "name": "stdout",
          "output_type": "stream",
          "text": [
            "__doc__\n",
            "__loader__\n",
            "__name__\n",
            "__package__\n",
            "__spec__\n",
            "acos\n",
            "acosh\n",
            "asin\n",
            "asinh\n",
            "atan\n",
            "atan2\n",
            "atanh\n",
            "ceil\n",
            "comb\n",
            "copysign\n",
            "cos\n",
            "cosh\n",
            "degrees\n",
            "dist\n",
            "e\n",
            "erf\n",
            "erfc\n",
            "exp\n",
            "expm1\n",
            "fabs\n",
            "factorial\n",
            "floor\n",
            "fmod\n",
            "frexp\n",
            "fsum\n",
            "gamma\n",
            "gcd\n",
            "hypot\n",
            "inf\n",
            "isclose\n",
            "isfinite\n",
            "isinf\n",
            "isnan\n",
            "isqrt\n",
            "ldexp\n",
            "lgamma\n",
            "log\n",
            "log10\n",
            "log1p\n",
            "log2\n",
            "modf\n",
            "nan\n",
            "perm\n",
            "pi\n",
            "pow\n",
            "prod\n",
            "radians\n",
            "remainder\n",
            "sin\n",
            "sinh\n",
            "sqrt\n",
            "tan\n",
            "tanh\n",
            "tau\n",
            "trunc\n",
            "['__doc__', '__loader__', '__name__', '__package__', '__spec__', 'acos', 'acosh', 'asin', 'asinh', 'atan', 'atan2', 'atanh', 'ceil', 'comb', 'copysign', 'cos', 'cosh', 'degrees', 'dist', 'e', 'erf', 'erfc', 'exp', 'expm1', 'fabs', 'factorial', 'floor', 'fmod', 'frexp', 'fsum', 'gamma', 'gcd', 'hypot', 'inf', 'isclose', 'isfinite', 'isinf', 'isnan', 'isqrt', 'ldexp', 'lgamma', 'log', 'log10', 'log1p', 'log2', 'modf', 'nan', 'perm', 'pi', 'pow', 'prod', 'radians', 'remainder', 'sin', 'sinh', 'sqrt', 'tan', 'tanh', 'tau', 'trunc']\n"
          ]
        }
      ],
      "source": [
        "# Example 2\n",
        "# Using loop over dir function\n",
        "\n",
        "import math\n",
        "for i in dir(math):\n",
        "    print(i)\n",
        "print(list(dir(math)))"
      ]
    },
    {
      "cell_type": "code",
      "execution_count": null,
      "metadata": {
        "id": "qhLP69kXkBia",
        "outputId": "4563fd9e-65d8-45fa-f826-8b190076eb15"
      },
      "outputs": [
        {
          "name": "stdout",
          "output_type": "stream",
          "text": [
            "5.0\n"
          ]
        }
      ],
      "source": [
        "# Example 3\n",
        "# From Import Statement\n",
        "\n",
        "from math import sqrt\n",
        "x=25\n",
        "print(sqrt(x))"
      ]
    },
    {
      "cell_type": "code",
      "execution_count": null,
      "metadata": {
        "id": "ZMgSHrbAkBia",
        "outputId": "8d93b953-5b3f-47e1-e172-7d0e471436cd"
      },
      "outputs": [
        {
          "name": "stdout",
          "output_type": "stream",
          "text": [
            "6.0\n"
          ]
        }
      ],
      "source": [
        "# Example 4\n",
        "\n",
        "from math import sqrt as sq   ## Now in the remaining program we can use sq instead of writing sqrt\n",
        "x=36\n",
        "print(sq(x))"
      ]
    },
    {
      "cell_type": "code",
      "execution_count": null,
      "metadata": {
        "id": "MW2bpyptkBib",
        "outputId": "27f1fdaf-306a-46e5-d85a-859ea24d0f46"
      },
      "outputs": [
        {
          "name": "stdout",
          "output_type": "stream",
          "text": [
            "1.0\n",
            "3628800\n"
          ]
        }
      ],
      "source": [
        "# Example 5\n",
        "from math import *  ## All attributes and functions have been imported\n",
        "x=10\n",
        "print(log10(x))\n",
        "print(factorial(x))"
      ]
    },
    {
      "cell_type": "code",
      "execution_count": null,
      "metadata": {
        "id": "z3qWg_0SkBic"
      },
      "outputs": [],
      "source": [
        "# Please note that we need to import the modules and its functions to use in the program or else will end up in getting error"
      ]
    },
    {
      "cell_type": "markdown",
      "metadata": {
        "id": "rGSFsQEJkBid"
      },
      "source": [
        "## Sys Module"
      ]
    },
    {
      "cell_type": "code",
      "execution_count": null,
      "metadata": {
        "id": "Lh0JbPXukBie",
        "outputId": "df1d98cf-6289-4a08-af63-06232372a8a0"
      },
      "outputs": [
        {
          "name": "stdout",
          "output_type": "stream",
          "text": [
            "['C:\\\\ProgramData\\\\Anaconda3\\\\lib\\\\site-packages\\\\ipykernel_launcher.py', '-f', 'C:\\\\Users\\\\Sarvagya\\\\AppData\\\\Roaming\\\\jupyter\\\\runtime\\\\kernel-b99c8b49-e0ff-47f9-b0af-f69cc2fb8bda.json']\n"
          ]
        },
        {
          "ename": "SystemExit",
          "evalue": "",
          "output_type": "error",
          "traceback": [
            "An exception has occurred, use %tb to see the full traceback.\n",
            "\u001b[1;31mSystemExit\u001b[0m\n"
          ]
        },
        {
          "name": "stderr",
          "output_type": "stream",
          "text": [
            "C:\\ProgramData\\Anaconda3\\lib\\site-packages\\IPython\\core\\interactiveshell.py:3426: UserWarning: To exit: use 'exit', 'quit', or Ctrl-D.\n",
            "  warn(\"To exit: use 'exit', 'quit', or Ctrl-D.\", stacklevel=1)\n"
          ]
        }
      ],
      "source": [
        "# Exampe 6\n",
        "import sys\n",
        "print(sys.argv)\n",
        "print(sys.exit())    #It will terminate the program execution"
      ]
    },
    {
      "cell_type": "code",
      "execution_count": null,
      "metadata": {
        "id": "RpUDDDoHkBif",
        "outputId": "2e93d8be-6a97-4680-f2bf-ff64b3e5e168"
      },
      "outputs": [
        {
          "name": "stdout",
          "output_type": "stream",
          "text": [
            "False\n",
            "sys.flags(debug=0, inspect=0, interactive=0, optimize=0, dont_write_bytecode=0, no_user_site=0, no_site=0, ignore_environment=0, verbose=0, bytes_warning=0, quiet=0, hash_randomization=1, isolated=0, dev_mode=False, utf8_mode=0)\n",
            "C:\\ProgramData\\Anaconda3\n"
          ]
        }
      ],
      "source": [
        "# Example 7\n",
        "print(not sys)     # Returns False if module is imported, else True\n",
        "print(sys.flags)   # Returns the struct sequence flags and exposes the status of command line flags\n",
        "print(sys.prefix)  # Returns a string giving the site-specific directory prefix where the platform independent Python files are installed\n",
        "#print(sys.winver)  # Returns the version number used to form registry keys on Windows OS platforms\n"
      ]
    },
    {
      "cell_type": "code",
      "execution_count": null,
      "metadata": {
        "id": "m2-0yJIFkBif",
        "outputId": "bf814953-26af-4c33-ea82-a6c233b26201"
      },
      "outputs": [
        {
          "name": "stdout",
          "output_type": "stream",
          "text": [
            "C:\\Users\\Sarvagya\\Downloads\\983_Demo1 - Standard Libraries\\983_Demo1 - Standard Libraries\\983_Demo1 - Standard Libraries\\Demo 1 - Standard Libraries\n",
            "C:\\ProgramData\\Anaconda3\\python38.zip\n",
            "C:\\ProgramData\\Anaconda3\\DLLs\n",
            "C:\\ProgramData\\Anaconda3\\lib\n",
            "C:\\ProgramData\\Anaconda3\n",
            "\n",
            "C:\\Users\\Sarvagya\\AppData\\Roaming\\Python\\Python38\\site-packages\n",
            "C:\\ProgramData\\Anaconda3\\lib\\site-packages\n",
            "C:\\ProgramData\\Anaconda3\\lib\\site-packages\\win32\n",
            "C:\\ProgramData\\Anaconda3\\lib\\site-packages\\win32\\lib\n",
            "C:\\ProgramData\\Anaconda3\\lib\\site-packages\\Pythonwin\n",
            "C:\\ProgramData\\Anaconda3\\lib\\site-packages\\IPython\\extensions\n",
            "C:\\Users\\Sarvagya\\.ipython\n"
          ]
        }
      ],
      "source": [
        "# Example 8\n",
        "\n",
        "for elem in sys.path:\n",
        "    print(elem)  # This will print the paths where python searches the modules"
      ]
    },
    {
      "cell_type": "code",
      "execution_count": null,
      "metadata": {
        "id": "EaTSY-GCkBig",
        "outputId": "249e1913-dc14-4b06-f5fc-400069a33d1a"
      },
      "outputs": [
        {
          "name": "stdout",
          "output_type": "stream",
          "text": [
            "['C:\\\\Users\\\\Sarvagya\\\\Downloads\\\\983_Demo1 - Standard Libraries\\\\983_Demo1 - Standard Libraries\\\\983_Demo1 - Standard Libraries\\\\Demo 1 - Standard Libraries', 'C:\\\\ProgramData\\\\Anaconda3\\\\python38.zip', 'C:\\\\ProgramData\\\\Anaconda3\\\\DLLs', 'C:\\\\ProgramData\\\\Anaconda3\\\\lib', 'C:\\\\ProgramData\\\\Anaconda3', '', 'C:\\\\Users\\\\Sarvagya\\\\AppData\\\\Roaming\\\\Python\\\\Python38\\\\site-packages', 'C:\\\\ProgramData\\\\Anaconda3\\\\lib\\\\site-packages', 'C:\\\\ProgramData\\\\Anaconda3\\\\lib\\\\site-packages\\\\win32', 'C:\\\\ProgramData\\\\Anaconda3\\\\lib\\\\site-packages\\\\win32\\\\lib', 'C:\\\\ProgramData\\\\Anaconda3\\\\lib\\\\site-packages\\\\Pythonwin', 'C:\\\\ProgramData\\\\Anaconda3\\\\lib\\\\site-packages\\\\IPython\\\\extensions', 'C:\\\\Users\\\\Sarvagya\\\\.ipython', 'x']\n"
          ]
        }
      ],
      "source": [
        "# Example 9\n",
        "# In case if you want to add any path to this list, you can use append function\n",
        "sys.path.append(\"x\")\n",
        "print(list(sys.path))"
      ]
    },
    {
      "cell_type": "markdown",
      "metadata": {
        "id": "p9r2hhBekBih"
      },
      "source": [
        "## Os Module"
      ]
    },
    {
      "cell_type": "code",
      "execution_count": null,
      "metadata": {
        "id": "z1xVh86EkBih",
        "outputId": "07d0f71f-c78a-4251-cfd0-72668d8ed84f"
      },
      "outputs": [
        {
          "name": "stdout",
          "output_type": "stream",
          "text": [
            "C:\\Users\\Sarvagya\\Downloads\\983_Demo1 - Standard Libraries\\983_Demo1 - Standard Libraries\\983_Demo1 - Standard Libraries\\Demo 1 - Standard Libraries\n",
            "None\n",
            "C:\\Users\\Sarvagya\\Downloads\n"
          ]
        }
      ],
      "source": [
        "# Example 10\n",
        "\n",
        "import os\n",
        "print(os.getcwd())    # It prints the current working directory\n",
        "print(os.chdir('C:/Users/Sarvagya/Downloads/')) # It changes the current working directory\n",
        "#print(os.mkdir('/home/New_Directory1'))  # It creates a new working directory\n",
        "print(os.getcwd())  # It prints the working directory after changing the current working directory\n",
        "#print(os.rmdir('/home/New_Directory1')) # It removes a directory"
      ]
    },
    {
      "cell_type": "code",
      "execution_count": null,
      "metadata": {
        "id": "5unGkhXqkBii",
        "outputId": "f70d4637-88cf-4d84-df94-f8b17ce1259e"
      },
      "outputs": [
        {
          "name": "stdout",
          "output_type": "stream",
          "text": [
            "nt\n",
            "environ({'ALLUSERSPROFILE': 'C:\\\\ProgramData', 'APPDATA': 'C:\\\\Users\\\\Sarvagya\\\\AppData\\\\Roaming', 'COMMONPROGRAMFILES': 'C:\\\\Program Files\\\\Common Files', 'COMMONPROGRAMFILES(X86)': 'C:\\\\Program Files (x86)\\\\Common Files', 'COMMONPROGRAMW6432': 'C:\\\\Program Files\\\\Common Files', 'COMPUTERNAME': 'LAPTOP-I9IIOL1O', 'COMSPEC': 'C:\\\\WINDOWS\\\\system32\\\\cmd.exe', 'DRIVERDATA': 'C:\\\\Windows\\\\System32\\\\Drivers\\\\DriverData', 'FPS_BROWSER_APP_PROFILE_STRING': 'Internet Explorer', 'FPS_BROWSER_USER_PROFILE_STRING': 'Default', 'HADOOP_HOME': 'C:\\\\Program Files\\\\winutils', 'HOMEDRIVE': 'C:', 'HOMEPATH': '\\\\Users\\\\Sarvagya', 'LOCALAPPDATA': 'C:\\\\Users\\\\Sarvagya\\\\AppData\\\\Local', 'LOGONSERVER': '\\\\\\\\LAPTOP-I9IIOL1O', 'NUMBER_OF_PROCESSORS': '8', 'ONEDRIVE': 'C:\\\\Users\\\\Sarvagya\\\\OneDrive', 'ONEDRIVECONSUMER': 'C:\\\\Users\\\\Sarvagya\\\\OneDrive', 'OS': 'Windows_NT', 'PATH': 'C:\\\\ProgramData\\\\Anaconda3;C:\\\\ProgramData\\\\Anaconda3\\\\Library\\\\mingw-w64\\\\bin;C:\\\\ProgramData\\\\Anaconda3\\\\Library\\\\usr\\\\bin;C:\\\\ProgramData\\\\Anaconda3\\\\Library\\\\bin;C:\\\\ProgramData\\\\Anaconda3\\\\Scripts;C:\\\\Program Files (x86)\\\\Common Files\\\\Oracle\\\\Java\\\\javapath;C:\\\\Windows\\\\system32;C:\\\\Windows;C:\\\\Windows\\\\System32\\\\Wbem;C:\\\\Windows\\\\System32\\\\WindowsPowerShell\\\\v1.0\\\\;C:\\\\Windows\\\\System32\\\\OpenSSH\\\\;C:\\\\Program Files (x86)\\\\NVIDIA Corporation\\\\PhysX\\\\Common;C:\\\\Program Files\\\\NVIDIA Corporation\\\\NVIDIA NvDLISR;C:\\\\Program Files\\\\winutils;C:\\\\Users\\\\Sarvagya\\\\Downloads\\\\spark\\\\spark-3.0.1-bin-hadoop2.7;C:\\\\WINDOWS\\\\system32;C:\\\\WINDOWS;C:\\\\WINDOWS\\\\System32\\\\Wbem;C:\\\\WINDOWS\\\\System32\\\\WindowsPowerShell\\\\v1.0\\\\;C:\\\\WINDOWS\\\\System32\\\\OpenSSH\\\\;C:\\\\Users\\\\Sarvagya\\\\AppData\\\\Local\\\\Programs\\\\Git\\\\cmd;C:\\\\Program Files\\\\TortoiseGit\\\\bin;C:\\\\Program Files\\\\Java\\\\jdk1.8.0_261\\\\bin;C:\\\\Program Files\\\\Java\\\\jre1.8.0_261\\\\bin;C:\\\\Users\\\\Sarvagya\\\\AppData\\\\Local\\\\Programs\\\\Python\\\\Python310\\\\Scripts\\\\;C:\\\\Users\\\\Sarvagya\\\\AppData\\\\Local\\\\Programs\\\\Python\\\\Python310\\\\;C:\\\\Program Files\\\\MySQL\\\\MySQL Shell 8.0\\\\bin\\\\;C:\\\\Users\\\\Sarvagya\\\\AppData\\\\Local\\\\Programs\\\\Python\\\\Python39\\\\Scripts\\\\;C:\\\\Users\\\\Sarvagya\\\\AppData\\\\Local\\\\Programs\\\\Python\\\\Python39\\\\;C:\\\\Users\\\\Sarvagya\\\\AppData\\\\Local\\\\Microsoft\\\\WindowsApps;C:\\\\Program Files\\\\Java\\\\jdk1.8.0_261\\\\bin;C:\\\\Users\\\\Sarvagya\\\\AppData\\\\Local\\\\Programs\\\\Microsoft VS Code\\\\bin;C:\\\\src\\\\flutter\\\\bin;', 'PATHEXT': '.COM;.EXE;.BAT;.CMD;.VBS;.VBE;.JS;.JSE;.WSF;.WSH;.MSC', 'PROCESSOR_ARCHITECTURE': 'AMD64', 'PROCESSOR_IDENTIFIER': 'Intel64 Family 6 Model 165 Stepping 2, GenuineIntel', 'PROCESSOR_LEVEL': '6', 'PROCESSOR_REVISION': 'a502', 'PROGRAMDATA': 'C:\\\\ProgramData', 'PROGRAMFILES': 'C:\\\\Program Files', 'PROGRAMFILES(X86)': 'C:\\\\Program Files (x86)', 'PROGRAMW6432': 'C:\\\\Program Files', 'PSMODULEPATH': 'C:\\\\Program Files\\\\WindowsPowerShell\\\\Modules;C:\\\\WINDOWS\\\\system32\\\\WindowsPowerShell\\\\v1.0\\\\Modules', 'PUBLIC': 'C:\\\\Users\\\\Public', 'SESSIONNAME': 'Console', 'SPARK_HOME': 'C:\\\\Users\\\\Sarvagya\\\\Downloads\\\\spark\\\\spark-3.0.1-bin-hadoop2.7', 'SYSTEMDRIVE': 'C:', 'SYSTEMROOT': 'C:\\\\WINDOWS', 'TEMP': 'C:\\\\Users\\\\Sarvagya\\\\AppData\\\\Local\\\\Temp', 'TMP': 'C:\\\\Users\\\\Sarvagya\\\\AppData\\\\Local\\\\Temp', 'USERDOMAIN': 'LAPTOP-I9IIOL1O', 'USERDOMAIN_ROAMINGPROFILE': 'LAPTOP-I9IIOL1O', 'USERNAME': 'Sarvagya', 'USERPROFILE': 'C:\\\\Users\\\\Sarvagya', 'VBOX_MSI_INSTALL_PATH': 'C:\\\\Program Files\\\\Oracle\\\\VirtualBox\\\\', 'WINDIR': 'C:\\\\WINDOWS', 'CONDA_PREFIX': 'C:\\\\ProgramData\\\\Anaconda3', 'JPY_INTERRUPT_EVENT': '2176', 'IPY_INTERRUPT_EVENT': '2176', 'JPY_PARENT_PID': '2144', 'TERM': 'xterm-color', 'CLICOLOR': '1', 'PAGER': 'cat', 'GIT_PAGER': 'cat', 'MPLBACKEND': 'module://ipykernel.pylab.backend_inline'})\n",
            "17660\n"
          ]
        }
      ],
      "source": [
        "# Example 11\n",
        "\n",
        "import os\n",
        "\n",
        "print(os.name)        # Returns the name of the operating system dependent module imported\n",
        "print(os.environ)     # Returns a mapping object representing the string environment\n",
        "#print(os.getlogin())  # Return the name of the user logged in on the controlling terminal of the process\n",
        "print(os.getppid())   # Return the parent’s process id\n"
      ]
    },
    {
      "cell_type": "markdown",
      "metadata": {
        "id": "MmOImBbwkBii"
      },
      "source": [
        "## os.path Module"
      ]
    },
    {
      "cell_type": "code",
      "execution_count": null,
      "metadata": {
        "id": "9yRdRkEdkBij"
      },
      "outputs": [],
      "source": [
        "import os.path"
      ]
    },
    {
      "cell_type": "code",
      "execution_count": null,
      "metadata": {
        "id": "kLTttKWVkBij",
        "outputId": "48b30cb1-36f7-4f7e-fd49-7ed370098fe1"
      },
      "outputs": [
        {
          "name": "stdout",
          "output_type": "stream",
          "text": [
            "/New_Directory\n"
          ]
        }
      ],
      "source": [
        "# Example 12 -- os.path.join\n",
        "\n",
        "# It Takes one or more paths and joins them by using the current operating system's path separator\n",
        "\n",
        "print(os.path.join('/New_Directory'))  "
      ]
    },
    {
      "cell_type": "code",
      "execution_count": null,
      "metadata": {
        "id": "QFIVLzBZkBij",
        "outputId": "11e95d1f-cded-4f9c-be21-1fa97689c597"
      },
      "outputs": [
        {
          "name": "stdout",
          "output_type": "stream",
          "text": [
            "C:\\home\\New_Directory\n"
          ]
        }
      ],
      "source": [
        "# Example 13  -- os.path.abspath\n",
        "\n",
        "# It Takes a relative pathname and returns the corresponding absolute pathname\n",
        "\n",
        "print(os.path.abspath('/home/New_Directory'))\n"
      ]
    },
    {
      "cell_type": "code",
      "execution_count": null,
      "metadata": {
        "id": "sJFu6R89kBik",
        "outputId": "9070242a-8f4b-4a10-99c0-25383092be25"
      },
      "outputs": [
        {
          "name": "stdout",
          "output_type": "stream",
          "text": [
            "\\home\\New_Directory\n"
          ]
        }
      ],
      "source": [
        "# Example 14 -- os.path.normpath\n",
        "\n",
        "# It Converts path names from nonstandard format to standard format\n",
        "\n",
        "print(os.path.normpath('/home/New_Directory'))\n"
      ]
    },
    {
      "cell_type": "code",
      "execution_count": null,
      "metadata": {
        "id": "YAQsQp8_kBik",
        "outputId": "76993b81-9ec9-4db2-8c0e-58602fcde1bd"
      },
      "outputs": [
        {
          "name": "stdout",
          "output_type": "stream",
          "text": [
            "('/home', 'New_Directory')\n"
          ]
        }
      ],
      "source": [
        " # Example 15 --- os.path.split \n",
        " # It Takes a pathname and returns it in two parts: the directory part and the filename\n",
        "\n",
        "print(os.path.split('/home/New_Directory'))\n"
      ]
    },
    {
      "cell_type": "code",
      "execution_count": null,
      "metadata": {
        "id": "S1omYeqckBil",
        "outputId": "f14f855c-de82-4e9e-db71-a042b058f85b"
      },
      "outputs": [
        {
          "name": "stdout",
          "output_type": "stream",
          "text": [
            "False\n"
          ]
        }
      ],
      "source": [
        " # Example 16 --- os.path.exists\n",
        " # It takes a pathname and returns true if it exists\n",
        "\n",
        "print(os.path.exists('/home/New_Directory_10'))\n"
      ]
    },
    {
      "cell_type": "code",
      "execution_count": null,
      "metadata": {
        "id": "J4TanLWtkBil",
        "outputId": "252b4c84-6935-484b-a69b-79294aa847a7"
      },
      "outputs": [
        {
          "name": "stdout",
          "output_type": "stream",
          "text": [
            "False\n"
          ]
        }
      ],
      "source": [
        "# Example 17 --- os.path.isdir\n",
        "# It takes a pathname and returns true if it points to a directory\n",
        "\n",
        "print(os.path.isdir('/home/New_Dir_3'))\n"
      ]
    },
    {
      "cell_type": "code",
      "execution_count": null,
      "metadata": {
        "id": "BVgIW1CRkBim",
        "outputId": "e37a5332-0b9c-4574-bc35-dcf11f17d4e4"
      },
      "outputs": [
        {
          "name": "stdout",
          "output_type": "stream",
          "text": [
            "<generator object walk at 0x000001F90ABD8C80>\n"
          ]
        }
      ],
      "source": [
        "# Example 18 --- os.walk\n",
        "# os.walk() will generate tuple of path, folders, files present in given path and will keep on traversing the subfolders\n",
        "import os\n",
        "\n",
        "print(os.walk('/home'))\n"
      ]
    },
    {
      "cell_type": "markdown",
      "metadata": {
        "id": "0k6Y7FCQkBim"
      },
      "source": [
        "## Math Module"
      ]
    },
    {
      "cell_type": "code",
      "execution_count": null,
      "metadata": {
        "id": "A-12YInAkBim",
        "outputId": "9335808a-a833-4698-cb01-2b6fb00fa417"
      },
      "outputs": [
        {
          "name": "stdout",
          "output_type": "stream",
          "text": [
            "12\n",
            "-15.0\n",
            "19.7\n"
          ]
        }
      ],
      "source": [
        "# Example 19\n",
        "# Ceil, Copysign, fabs\n",
        "\n",
        "import math\n",
        "# Return the ceiling of x as a integer\n",
        "print(math.ceil(11.056))         \n",
        " # Return x with the sign of y. On a platform that supports signed zeros, copysign(1.0, -0.0) returns -1.0\n",
        "print(math.copysign(15,-1))     \n",
        "#Return positive integer of entered negative value\n",
        "print(math.fabs(-19.7))"
      ]
    },
    {
      "cell_type": "code",
      "execution_count": null,
      "metadata": {
        "id": "h1-6oB6jkBin",
        "outputId": "8f66a8c5-ce68-46be-a846-14ddca2fbdcc"
      },
      "outputs": [
        {
          "name": "stdout",
          "output_type": "stream",
          "text": [
            "148.4131591025766\n",
            "147.4131591025766\n",
            "2.302585092994046\n",
            "2.0\n"
          ]
        }
      ],
      "source": [
        "# Example 20\n",
        "# Math - Power And Logarithmic Function\n",
        "\n",
        "# Returns e**x\n",
        "print (math.exp(5))   \n",
        "# Returns e**x-1\n",
        "print(math.expm1(5))\n",
        "# With one argument, returns the logarithm of x (to the base 10)\n",
        "print(math.log(10))\n",
        "# With two arguments, it considers the given base for calculating log value\n",
        "print(math.log(100,10))\n"
      ]
    },
    {
      "cell_type": "code",
      "execution_count": null,
      "metadata": {
        "id": "1JvaX2RwkBiq",
        "outputId": "bc734777-b762-4236-9a17-09b60da162a7"
      },
      "outputs": [
        {
          "name": "stdout",
          "output_type": "stream",
          "text": [
            "1.0471975511965979\n",
            "0.5235987755982989\n",
            "1.373400766945016\n",
            "-0.9899924966004454\n"
          ]
        }
      ],
      "source": [
        "# Example 21\n",
        "# Math - Trigonometric Function\n",
        "\n",
        "# Returns the arc cosine of x, in radians\n",
        "print(math.acos(0.5))\n",
        "# Returns the arc Sine of x, in radians\n",
        "print(math.asin(0.5))\n",
        "# Returns the arc tangent of x, in radians\n",
        "print(math.atan(5))\n",
        "# Returns the cosine of x radians\n",
        "print(math.cos(3))\n"
      ]
    },
    {
      "cell_type": "code",
      "execution_count": null,
      "metadata": {
        "id": "HVFByvltkBir",
        "outputId": "cf4ceaa1-4b6e-4bec-a32c-5656b59711ed"
      },
      "outputs": [
        {
          "name": "stdout",
          "output_type": "stream",
          "text": [
            "5.729577951308233\n",
            "0.11753047182929816\n",
            "3.141592653589793\n",
            "2.718281828459045\n"
          ]
        }
      ],
      "source": [
        "# Example 22\n",
        "# Math - Angular, Hyperbolic Function\n",
        "\n",
        "# Converts angle x from radians to degrees\n",
        "print(math.degrees(0.1)) \n",
        "\n",
        "# Converts angle x from degrees to radians\n",
        "print(math.radians(6.734))\n",
        "\n",
        "# Returns the value of constant pi\n",
        "print(math.pi)\n",
        "\n",
        "# Returns the value of constant e\n",
        "print(math.e)"
      ]
    },
    {
      "cell_type": "markdown",
      "metadata": {
        "id": "v-1vK1S3kBir"
      },
      "source": [
        "## Random Module"
      ]
    },
    {
      "cell_type": "code",
      "execution_count": null,
      "metadata": {
        "id": "44taxsO-kBir",
        "outputId": "f18d1e4b-603b-49f9-a27a-0ae69c27d999"
      },
      "outputs": [
        {
          "name": "stdout",
          "output_type": "stream",
          "text": [
            "99\n",
            "80\n",
            "7\n"
          ]
        }
      ],
      "source": [
        "# Example 23\n",
        "# Random Module Implementations\n",
        "\n",
        "import random\n",
        "\n",
        "num = random.randrange(100)  # Generates a random integer within the given range\n",
        "print(num)\n",
        "\n",
        "ran=random.randrange(0,100,20)  # Return a randomly selected element from range(start, stop, step)\n",
        "print(ran)\n",
        "\n",
        "inte=random.randint(0,30)   # Return a random integer N such that a <= N <= b\n",
        "print(inte)\n"
      ]
    },
    {
      "cell_type": "code",
      "execution_count": null,
      "metadata": {
        "id": "gDFCdYsbkBis",
        "outputId": "07b3f8a6-797a-4ec3-df4f-dd8da14da956"
      },
      "outputs": [
        {
          "name": "stdout",
          "output_type": "stream",
          "text": [
            "<bound method Random.getstate of <random.Random object at 0x000001F904F91DA0>>\n",
            "4.748519404467997\n"
          ]
        }
      ],
      "source": [
        "# Example 24\n",
        "\n",
        "print(random.getstate)  # Returns an object which captures the current internal state of the generator\n",
        "\n",
        "print(random.uniform(6,2)) # Returns a random floating point number N such that a<=N<=b for a<=b and b<=N<=a for b<a\n"
      ]
    },
    {
      "cell_type": "markdown",
      "metadata": {
        "id": "kWmSs02WkBis"
      },
      "source": [
        "## DateTime Module"
      ]
    },
    {
      "cell_type": "code",
      "execution_count": null,
      "metadata": {
        "id": "xEL3f5hjkBis",
        "outputId": "f004cc8c-42c1-471b-aea9-fd06cd563105"
      },
      "outputs": [
        {
          "name": "stdout",
          "output_type": "stream",
          "text": [
            "2022-08-10 11:29:56.126083\n",
            "1995-03-12 22:10:00\n",
            "10012 days, 13:19:56.126083\n",
            "<class 'datetime.datetime'>\n",
            "present_date 2022-08-10 11:29:56.126082\n",
            "<class 'datetime.datetime'>\n",
            "future_date_3years: 2025-08-09 11:29:56.126082\n",
            "1095 days, 0:00:00\n"
          ]
        }
      ],
      "source": [
        "# Example 25\n",
        "#Date Time and Time Delta Implementation\n",
        "\n",
        "import datetime\n",
        "from  datetime import timedelta\n",
        "print(datetime.datetime.today())\n",
        "\n",
        "now=datetime.datetime.today()\n",
        "other=datetime.datetime(1995,3,12,22,10)\n",
        "print(other)\n",
        "print(now-other)\n",
        "\n",
        "# present Date and Time \n",
        "present_date = datetime.datetime.now() \n",
        "  \n",
        "print(type(present_date)) # Type will be datetime.datetime\n",
        "\n",
        "print (\"present_date\", str(present_date)) \n",
        "  \n",
        "# Future Date After 3 years\n",
        "future_date = present_date + timedelta(days = 1095) \n",
        "print(type(future_date))\n",
        "print('future_date_3years:', str(future_date)) \n",
        "print(future_date-present_date)\n"
      ]
    },
    {
      "cell_type": "code",
      "execution_count": null,
      "metadata": {
        "id": "MMUFvg5IkBis",
        "outputId": "22c67888-204b-4d4c-85ca-6fb1929fa567"
      },
      "outputs": [
        {
          "name": "stdout",
          "output_type": "stream",
          "text": [
            "9999\n",
            "1\n",
            "<class 'datetime.time'>\n",
            "<class 'datetime.timezone'>\n"
          ]
        }
      ],
      "source": [
        "# Example 26\n",
        "\n",
        "import datetime\n",
        "\n",
        "print(datetime.MAXYEAR)  # Returns the largest year number allowed in a date or datetime object. MAXYEAR is 9999\n",
        "\n",
        "print(datetime.MINYEAR)  # Returns the smallest year number allowed in a date or datetime object. MINYEAR is1\n",
        "\n",
        "print(datetime.time)    # Returns a time object with hour, minute, second and microsecond\n",
        "\n",
        "print(datetime.timezone)  # Returns a timezone object\n"
      ]
    },
    {
      "cell_type": "code",
      "execution_count": null,
      "metadata": {
        "id": "JrG5-se5kBit",
        "outputId": "c2379d1d-7205-4520-8e7b-f60ff7098ea4"
      },
      "outputs": [
        {
          "name": "stdout",
          "output_type": "stream",
          "text": [
            "2022-08-10 11:29:56.712473\n",
            "<class 'datetime.datetime'>\n",
            "Wednesday/August/2022\n",
            "<class 'str'>\n"
          ]
        }
      ],
      "source": [
        "# Examle 27\n",
        "\n",
        "# Date Time Formatting\n",
        "\n",
        "current_date=datetime.datetime.now()\n",
        "print(current_date)\n",
        "print(type(current_date))  #Type will be datetime.datetime\n",
        "\n",
        "formatted_date=current_date.strftime(\"%A/%B/%Y\")  # The date will be printed in this format\n",
        "print(formatted_date)\n",
        "print(type(formatted_date)) # Type will be str\n",
        "\n",
        "\n",
        "# Please note that, we can format date and time in various formats\n",
        "# For Your Reference, you can explore more from https://docs.python.org/2/library/datetime.html\n",
        "\n"
      ]
    },
    {
      "cell_type": "markdown",
      "metadata": {
        "id": "QEZMYUJIkBit"
      },
      "source": [
        "## JSON Module"
      ]
    },
    {
      "cell_type": "code",
      "execution_count": null,
      "metadata": {
        "id": "NNA37ElHkBit",
        "outputId": "36a3797a-e44e-4869-9d67-3648c89f17be"
      },
      "outputs": [
        {
          "name": "stdout",
          "output_type": "stream",
          "text": [
            "<class 'dict'>\n",
            "{\"name\": \"Smith\", \"age\": 35}\n",
            "<class 'str'>\n",
            "{'name': 'Smith', 'age': 35}\n",
            "<class 'dict'>\n"
          ]
        }
      ],
      "source": [
        "# Example 28\n",
        "import json\n",
        "\n",
        "data={'name':'Smith','age':35}\n",
        "print(type(data))\n",
        "\n",
        "json_str=json.dumps(data)   # The original data gets transformed into Json format and type will be String\n",
        "\n",
        "print(json_str)\n",
        "print(type(json_str))\n",
        "\n",
        "original=json.loads(json_str)  # The Json format data gets decoded and the receiver gets the data in original form and type will be again dictionary\n",
        "\n",
        "print(original)\n",
        "print(type(original))"
      ]
    },
    {
      "cell_type": "code",
      "execution_count": null,
      "metadata": {
        "id": "_kMUrcPXkBit"
      },
      "outputs": [],
      "source": []
    },
    {
      "cell_type": "code",
      "execution_count": null,
      "metadata": {
        "id": "rINDKaj5kBiu"
      },
      "outputs": [],
      "source": []
    }
  ],
  "metadata": {
    "colab": {
      "collapsed_sections": [
        "v-1vK1S3kBir",
        "kWmSs02WkBis",
        "QEZMYUJIkBit"
      ],
      "name": "1906_m4_demo1_standard_libraries_v1.0.ipynb",
      "provenance": []
    },
    "kernelspec": {
      "display_name": "tensf",
      "language": "python",
      "name": "python3"
    },
    "language_info": {
      "codemirror_mode": {
        "name": "ipython",
        "version": 3
      },
      "file_extension": ".py",
      "mimetype": "text/x-python",
      "name": "python",
      "nbconvert_exporter": "python",
      "pygments_lexer": "ipython3",
      "version": "3.10.8"
    },
    "vscode": {
      "interpreter": {
        "hash": "3e313d1f24da57a081eee6b594756086e5e54161d7342791616a06970af18016"
      }
    }
  },
  "nbformat": 4,
  "nbformat_minor": 0
}
