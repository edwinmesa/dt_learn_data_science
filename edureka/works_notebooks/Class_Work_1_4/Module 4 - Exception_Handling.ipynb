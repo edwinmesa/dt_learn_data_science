{
 "cells": [
  {
   "cell_type": "markdown",
   "metadata": {},
   "source": [
    "## Exception Handling"
   ]
  },
  {
   "cell_type": "markdown",
   "metadata": {},
   "source": [
    "# Exception Handling Real time Examples\n",
    "'''1) You provide a web form for users to fill in and submit. but incase there are a lot of \n",
    "conditions to be handled and the conditions keeps changing periodically, you use exception \n",
    "handling to simplify the process\n",
    "2) database connectivity uses exception handling(why???) this is because the reason for database \n",
    "connectivity failure cannot be predicted and handled as it can be caused by many variables such \n",
    "as power failure, unreachable server,failure at client front/back end and so on.\n",
    "3) internet communication\n",
    "4) arithmetic exceptions such as division by zero and so on.\n",
    "5) operating systems use exception handling to resolve deadlocks,recover from crash and so forth\n",
    "\n",
    "try:\n",
    "\n",
    "except DivdebyZero:\n",
    "print(\"divide by zero not possible\")\n",
    "\n",
    "except IndexError:\n",
    "print(\"Out of index\")\n",
    "\n",
    "except:\n",
    "print(\"Some other error occured\")\n",
    "\n",
    "else:\n",
    "\n",
    "finally:\n",
    "\n",
    "'''"
   ]
  },
  {
   "cell_type": "code",
   "execution_count": 1,
   "metadata": {},
   "outputs": [
    {
     "name": "stdout",
     "output_type": "stream",
     "text": [
      "0\n",
      "end\n"
     ]
    }
   ],
   "source": [
    "# Example 1 - the first error we are triggering\n",
    "try:\n",
    "# write the code that you want to execute !!!\n",
    "    var1=10\n",
    "    var2=eval(input())\n",
    "    result=var1/var2   # We can't divide any number by Zero. In case it is done, it will throw ZeroDivisionError which is predefined exception\n",
    "    print(result)\n",
    "except ZeroDivisionError:                       :\n",
    "# In anticipation of an error !!! do some error handling\n",
    "    var2 = 1\n",
    "    result=var1/var2   # We can't divide any number by Zero. In case it is done, it will throw ZeroDivisionError which is predefined exception\n",
    "    print(result)\n",
    "    print('end')\n",
    "except:\n",
    "    print(\"Generic end\")"
   ]
  },
  {
   "cell_type": "code",
   "execution_count": 3,
   "metadata": {},
   "outputs": [
    {
     "name": "stdout",
     "output_type": "stream",
     "text": [
      "0\n"
     ]
    },
    {
     "ename": "ZeroDivisionError",
     "evalue": "division by zero",
     "output_type": "error",
     "traceback": [
      "\u001b[1;31m---------------------------------------------------------------------------\u001b[0m",
      "\u001b[1;31mZeroDivisionError\u001b[0m                         Traceback (most recent call last)",
      "Input \u001b[1;32mIn [3]\u001b[0m, in \u001b[0;36m<cell line: 3>\u001b[1;34m()\u001b[0m\n\u001b[0;32m      1\u001b[0m var1\u001b[38;5;241m=\u001b[39m\u001b[38;5;241m10\u001b[39m\n\u001b[0;32m      2\u001b[0m var2\u001b[38;5;241m=\u001b[39m\u001b[38;5;28meval\u001b[39m(\u001b[38;5;28minput\u001b[39m())\n\u001b[1;32m----> 3\u001b[0m result\u001b[38;5;241m=\u001b[39m\u001b[43mvar1\u001b[49m\u001b[38;5;241;43m/\u001b[39;49m\u001b[43mvar2\u001b[49m   \u001b[38;5;66;03m# We can't divide any number by Zero. In case it is done, it will throw ZeroDivisionError which is predefined exception\u001b[39;00m\n\u001b[0;32m      4\u001b[0m \u001b[38;5;28mprint\u001b[39m(result)\n",
      "\u001b[1;31mZeroDivisionError\u001b[0m: division by zero"
     ]
    }
   ],
   "source": [
    "var1=10\n",
    "var2=eval(input())\n",
    "result=var1/var2   # We can't divide any number by Zero. In case it is done, it will throw ZeroDivisionError which is predefined exception\n",
    "print(result)"
   ]
  },
  {
   "cell_type": "code",
   "execution_count": 11,
   "metadata": {},
   "outputs": [
    {
     "name": "stdout",
     "output_type": "stream",
     "text": [
      "Some error occured !!\n"
     ]
    }
   ],
   "source": [
    "# Example 2 - the second error we are triggering\n",
    "try:\n",
    "    var1 = 10\n",
    "    var2 = 0\n",
    "    list1=[1,2,3]\n",
    "#    list1[3] = var1/var2\n",
    "    print(list1[4])\n",
    "except ZeroDivisionError :\n",
    "    print(\"Number cannot be divided by zero\")\n",
    "except IndexError:\n",
    "    print(\"Index out of range\")\n",
    "except:\n",
    "    print(\"Some error occured !!\")"
   ]
  },
  {
   "cell_type": "code",
   "execution_count": 12,
   "metadata": {},
   "outputs": [
    {
     "name": "stdout",
     "output_type": "stream",
     "text": [
      "0.5\n"
     ]
    }
   ],
   "source": [
    "# Example 3  -- Exception Handling\n",
    "\n",
    "try:\n",
    "    var1=10\n",
    "    var2=20\n",
    "    result=var1/var2 # This line will raise Zero Division Error Exception and then Python will search for exception handler block i.e. except block\n",
    "    print(result)\n",
    "except :              # The except block will handle the exception and prints the messages\n",
    "    print('Some exception Occured')\n",
    "    print('End')  \n"
   ]
  },
  {
   "cell_type": "code",
   "execution_count": null,
   "metadata": {},
   "outputs": [],
   "source": [
    "# Important Point :- Once the program flow comes out of try block and enters except block, it never goes back to try block"
   ]
  },
  {
   "cell_type": "code",
   "execution_count": 15,
   "metadata": {},
   "outputs": [
    {
     "name": "stdout",
     "output_type": "stream",
     "text": [
      "Numbers cant be divided by zero\n",
      "Program Ends\n"
     ]
    }
   ],
   "source": [
    "# Example 5  -- Only try block - except - else - fianlly\n",
    "try:\n",
    "    var1=10\n",
    "    var2=0\n",
    "    result=var1/var2 # This line will raise Zero Division Error Exception and then Python will search for exception handler block i.e. except block\n",
    "    print(result)\n",
    "except ZeroDivisionError:\n",
    "    print('Numbers cant be divided by zero')\n",
    "else: # only when try block code successful without any errors\n",
    "    print('The code execute successfully')\n",
    "finally:\n",
    "    print(\"Program Ends\")"
   ]
  },
  {
   "cell_type": "markdown",
   "metadata": {},
   "source": [
    "## Try- Except-Else-Finally"
   ]
  },
  {
   "cell_type": "markdown",
   "metadata": {},
   "source": [
    "#### try block - Write the code in this block which you anticipate can throw error\n",
    "#### except block - Write the respetive exception handler which can handle your exception\n",
    "#### else block - The code which executes when there is no error in the try block\n",
    "#### finally block - The code which always executes irrespective of there is an error in try block or successful execution. "
   ]
  },
  {
   "cell_type": "code",
   "execution_count": 11,
   "metadata": {},
   "outputs": [
    {
     "name": "stdout",
     "output_type": "stream",
     "text": [
      "Enter the divisor5\n",
      "2.0\n",
      "End\n",
      "There was no exception\n"
     ]
    }
   ],
   "source": [
    "# Example 6\n",
    "import sys\n",
    "\n",
    "try:\n",
    "    var1=10\n",
    "    var2=eval(input('Enter the divisor'))\n",
    "    result=var1/var2\n",
    "    print(result)\n",
    "except:\n",
    "    print('Some Exception Happened')\n",
    "    print(sys.exc_info())\n",
    "finally:\n",
    "    print('End')\n",
    "\n",
    "print('There was no exception')\n",
    "\n"
   ]
  },
  {
   "cell_type": "code",
   "execution_count": 20,
   "metadata": {},
   "outputs": [
    {
     "name": "stdout",
     "output_type": "stream",
     "text": [
      "[1, 1.0, 3]\n",
      "The index is out of range\n",
      "I always execute\n",
      "END\n",
      "program completed\n"
     ]
    }
   ],
   "source": [
    "# Example 8 -- Multiple Except Blocks \n",
    "# One single try block can have multiple except blocks but the reverse is not true\n",
    "\n",
    "try:\n",
    "    var1=10\n",
    "    var2=10\n",
    "    list1=[1,2,3]\n",
    "    list1[1]=var1/var2\n",
    "    print(list1)\n",
    "    print(list1[1000])\n",
    "\n",
    "except ZeroDivisionError:\n",
    "    print('Numbers cant be divided by zero')\n",
    "except ValueError:\n",
    "    print('It is a value error')\n",
    "except IndexError:\n",
    "    print('The index is out of range')\n",
    "# default except must be last. If we try to put before all specific exceptions it will throw syntax error. \n",
    "except Exception: \n",
    "    print('Some Exception Occured')\n",
    "    raise e\n",
    "else: # only when try block code successful without any errors\n",
    "    print('The code execute successfully')\n",
    "finally: # always execute irrespective of successful or failed code\n",
    "    print('I always execute')\n",
    "    \n",
    "print('END')\n",
    "print('program completed')"
   ]
  },
  {
   "cell_type": "code",
   "execution_count": null,
   "metadata": {},
   "outputs": [],
   "source": [
    "#In the above code, there are problems with ‘Index out of range’ and ‘Zero Division Error’. \n",
    "#But, at a time only one exception is raised and here the expression for division executes first and Zero Division Error \n",
    "#Exception is raised. Then the program flow enters the proper exception handler and prints the message. \n",
    "#In case that is absent, the interpreter will print the exception message as it does without any except block\n"
   ]
  },
  {
   "cell_type": "code",
   "execution_count": 2,
   "metadata": {},
   "outputs": [
    {
     "name": "stdout",
     "output_type": "stream",
     "text": [
      "Some error\n"
     ]
    }
   ],
   "source": [
    "# Example 10 -- Multiple exception using tuple\n",
    "\n",
    "try:\n",
    "    var1=10\n",
    "    var2=2\n",
    "    list1=[1,2,3]\n",
    "    list1[3]=var1/var2\n",
    "    print(list1[3])\n",
    "except (ZeroDivisionError, IndexError):\n",
    "    print('Some error')\n",
    "except:\n",
    "    print('Some Exception Occured')\n",
    "    print(sys.exc_info())\n",
    "    "
   ]
  },
  {
   "cell_type": "markdown",
   "metadata": {},
   "source": [
    "## Exception Propagation"
   ]
  },
  {
   "cell_type": "code",
   "execution_count": 20,
   "metadata": {},
   "outputs": [
    {
     "name": "stdout",
     "output_type": "stream",
     "text": [
      "Welcome to init method\n",
      "some exception occured\n",
      "I will always execute\n",
      "welcome to method2\n",
      "Exception handled\n"
     ]
    }
   ],
   "source": [
    "# Example 12 -- Exception propagation 1st Example\n",
    "# In this case, Key Error Exception has been raised in method2. As there is no handler present in method2, the exception has been propagated to calling method i.e. method1 and gets handled there\n",
    "\n",
    "class Test:\n",
    "    def __init__(self):\n",
    "        try:\n",
    "            print(\"Welcome to init method\")\n",
    "            raise ZeroDivisionError\n",
    "        except: # except Exception\n",
    "            print(\"some exception occured\")\n",
    "        finally:\n",
    "            print(\"I will always execute\")\n",
    "    \n",
    "    def method2(self):\n",
    "        print(\"welcome to method2\")\n",
    "        raise KeyError\n",
    "        \n",
    "    def method1(self):\n",
    "        try:\n",
    "            self.method2()\n",
    "        except:\n",
    "            print(\"Exception handled\")\n",
    "    \n",
    "        \n",
    "Test().method1()\n"
   ]
  },
  {
   "cell_type": "code",
   "execution_count": 19,
   "metadata": {},
   "outputs": [
    {
     "ename": "IndexError",
     "evalue": "",
     "output_type": "error",
     "traceback": [
      "\u001b[0;31m---------------------------------------------------------------------------\u001b[0m",
      "\u001b[0;31mIndexError\u001b[0m                                Traceback (most recent call last)",
      "\u001b[0;32m<ipython-input-19-9e26148b5dc7>\u001b[0m in \u001b[0;36m<module>\u001b[0;34m\u001b[0m\n\u001b[0;32m----> 1\u001b[0;31m \u001b[0;32mraise\u001b[0m \u001b[0mIndexError\u001b[0m \u001b[0;31m# a statement to raise any error\u001b[0m\u001b[0;34m\u001b[0m\u001b[0;34m\u001b[0m\u001b[0m\n\u001b[0m",
      "\u001b[0;31mIndexError\u001b[0m: "
     ]
    }
   ],
   "source": [
    "raise IndexError # a statement to raise any error"
   ]
  },
  {
   "cell_type": "code",
   "execution_count": 5,
   "metadata": {},
   "outputs": [
    {
     "name": "stdout",
     "output_type": "stream",
     "text": [
      "Welcome to init method\n",
      "some exception occured\n",
      "I will always execute\n",
      "welcome to method2\n",
      "Exception handled\n",
      "handled outside\n",
      "it executes finally\n"
     ]
    }
   ],
   "source": [
    "# Example 13 -- Exception Proapagation 2nd Example\n",
    "\n",
    "class Test:\n",
    "    def __init__(self):\n",
    "        try:\n",
    "            print(\"Welcome to init method\")\n",
    "            raise ZeroDivisionError\n",
    "        except:\n",
    "            print(\"some exception occured\")\n",
    "        finally:\n",
    "            print(\"I will always execute\")\n",
    "    def method1(self):\n",
    "        try:\n",
    "            self.method2()\n",
    "        except:\n",
    "            print(\"Exception handled\")\n",
    "            raise ZeroDivisionError\n",
    "    \n",
    "    def method2(self):\n",
    "        print(\"welcome to method2\")\n",
    "        raise KeyError\n",
    "\n",
    "try:\n",
    "    Test().method1()\n",
    "except:\n",
    "    print(\"handled outside\")\n",
    "finally:\n",
    "    print(\"it executes finally\")"
   ]
  },
  {
   "cell_type": "markdown",
   "metadata": {},
   "source": [
    "## User Defined Exception"
   ]
  },
  {
   "cell_type": "code",
   "execution_count": 23,
   "metadata": {},
   "outputs": [
    {
     "name": "stdout",
     "output_type": "stream",
     "text": [
      "Enter a number: 4\n",
      "This value is too small, try again!\n",
      "\n",
      "END\n",
      "Enter a number: 11\n",
      "This value is too large, try again!\n",
      "\n",
      "END\n",
      "Enter a number: 10\n",
      "END\n",
      "END\n"
     ]
    },
    {
     "ename": "KeyboardInterrupt",
     "evalue": "Interrupted by user",
     "output_type": "error",
     "traceback": [
      "\u001b[1;31m---------------------------------------------------------------------------\u001b[0m",
      "\u001b[1;31mKeyboardInterrupt\u001b[0m                         Traceback (most recent call last)",
      "Input \u001b[1;32mIn [23]\u001b[0m, in \u001b[0;36m<cell line: 15>\u001b[1;34m()\u001b[0m\n\u001b[0;32m     15\u001b[0m \u001b[38;5;28;01mwhile\u001b[39;00m \u001b[38;5;28;01mTrue\u001b[39;00m:\n\u001b[0;32m     16\u001b[0m     \u001b[38;5;28;01mtry\u001b[39;00m:\n\u001b[1;32m---> 17\u001b[0m         in_num \u001b[38;5;241m=\u001b[39m \u001b[38;5;28mint\u001b[39m(\u001b[38;5;28;43minput\u001b[39;49m\u001b[43m(\u001b[49m\u001b[38;5;124;43m\"\u001b[39;49m\u001b[38;5;124;43mEnter a number: \u001b[39;49m\u001b[38;5;124;43m\"\u001b[39;49m\u001b[43m)\u001b[49m)\n\u001b[0;32m     18\u001b[0m         \u001b[38;5;28;01mif\u001b[39;00m in_num \u001b[38;5;241m<\u001b[39m number:\n\u001b[0;32m     19\u001b[0m             \u001b[38;5;28;01mraise\u001b[39;00m ValueSmallError\n",
      "File \u001b[1;32m~\\AppData\\Local\\Programs\\Python\\Python310\\lib\\site-packages\\ipykernel\\kernelbase.py:1177\u001b[0m, in \u001b[0;36mKernel.raw_input\u001b[1;34m(self, prompt)\u001b[0m\n\u001b[0;32m   1173\u001b[0m \u001b[38;5;28;01mif\u001b[39;00m \u001b[38;5;129;01mnot\u001b[39;00m \u001b[38;5;28mself\u001b[39m\u001b[38;5;241m.\u001b[39m_allow_stdin:\n\u001b[0;32m   1174\u001b[0m     \u001b[38;5;28;01mraise\u001b[39;00m StdinNotImplementedError(\n\u001b[0;32m   1175\u001b[0m         \u001b[38;5;124m\"\u001b[39m\u001b[38;5;124mraw_input was called, but this frontend does not support input requests.\u001b[39m\u001b[38;5;124m\"\u001b[39m\n\u001b[0;32m   1176\u001b[0m     )\n\u001b[1;32m-> 1177\u001b[0m \u001b[38;5;28;01mreturn\u001b[39;00m \u001b[38;5;28;43mself\u001b[39;49m\u001b[38;5;241;43m.\u001b[39;49m\u001b[43m_input_request\u001b[49m\u001b[43m(\u001b[49m\n\u001b[0;32m   1178\u001b[0m \u001b[43m    \u001b[49m\u001b[38;5;28;43mstr\u001b[39;49m\u001b[43m(\u001b[49m\u001b[43mprompt\u001b[49m\u001b[43m)\u001b[49m\u001b[43m,\u001b[49m\n\u001b[0;32m   1179\u001b[0m \u001b[43m    \u001b[49m\u001b[38;5;28;43mself\u001b[39;49m\u001b[38;5;241;43m.\u001b[39;49m\u001b[43m_parent_ident\u001b[49m\u001b[43m[\u001b[49m\u001b[38;5;124;43m\"\u001b[39;49m\u001b[38;5;124;43mshell\u001b[39;49m\u001b[38;5;124;43m\"\u001b[39;49m\u001b[43m]\u001b[49m\u001b[43m,\u001b[49m\n\u001b[0;32m   1180\u001b[0m \u001b[43m    \u001b[49m\u001b[38;5;28;43mself\u001b[39;49m\u001b[38;5;241;43m.\u001b[39;49m\u001b[43mget_parent\u001b[49m\u001b[43m(\u001b[49m\u001b[38;5;124;43m\"\u001b[39;49m\u001b[38;5;124;43mshell\u001b[39;49m\u001b[38;5;124;43m\"\u001b[39;49m\u001b[43m)\u001b[49m\u001b[43m,\u001b[49m\n\u001b[0;32m   1181\u001b[0m \u001b[43m    \u001b[49m\u001b[43mpassword\u001b[49m\u001b[38;5;241;43m=\u001b[39;49m\u001b[38;5;28;43;01mFalse\u001b[39;49;00m\u001b[43m,\u001b[49m\n\u001b[0;32m   1182\u001b[0m \u001b[43m\u001b[49m\u001b[43m)\u001b[49m\n",
      "File \u001b[1;32m~\\AppData\\Local\\Programs\\Python\\Python310\\lib\\site-packages\\ipykernel\\kernelbase.py:1219\u001b[0m, in \u001b[0;36mKernel._input_request\u001b[1;34m(self, prompt, ident, parent, password)\u001b[0m\n\u001b[0;32m   1216\u001b[0m             \u001b[38;5;28;01mbreak\u001b[39;00m\n\u001b[0;32m   1217\u001b[0m \u001b[38;5;28;01mexcept\u001b[39;00m \u001b[38;5;167;01mKeyboardInterrupt\u001b[39;00m:\n\u001b[0;32m   1218\u001b[0m     \u001b[38;5;66;03m# re-raise KeyboardInterrupt, to truncate traceback\u001b[39;00m\n\u001b[1;32m-> 1219\u001b[0m     \u001b[38;5;28;01mraise\u001b[39;00m \u001b[38;5;167;01mKeyboardInterrupt\u001b[39;00m(\u001b[38;5;124m\"\u001b[39m\u001b[38;5;124mInterrupted by user\u001b[39m\u001b[38;5;124m\"\u001b[39m) \u001b[38;5;28;01mfrom\u001b[39;00m \u001b[38;5;28mNone\u001b[39m\n\u001b[0;32m   1220\u001b[0m \u001b[38;5;28;01mexcept\u001b[39;00m \u001b[38;5;167;01mException\u001b[39;00m:\n\u001b[0;32m   1221\u001b[0m     \u001b[38;5;28mself\u001b[39m\u001b[38;5;241m.\u001b[39mlog\u001b[38;5;241m.\u001b[39mwarning(\u001b[38;5;124m\"\u001b[39m\u001b[38;5;124mInvalid Message:\u001b[39m\u001b[38;5;124m\"\u001b[39m, exc_info\u001b[38;5;241m=\u001b[39m\u001b[38;5;28;01mTrue\u001b[39;00m)\n",
      "\u001b[1;31mKeyboardInterrupt\u001b[0m: Interrupted by user"
     ]
    }
   ],
   "source": [
    "# Example 14 -- User Defined Exception\n",
    "import sys\n",
    "# define Python user-defined exceptions . For defining user-defined exceptions we need to take base as existing error class.\n",
    "class Error(Exception):  \n",
    "    \"\"\"Base class for other exceptions\"\"\"\n",
    "    pass\n",
    "class ValueSmallError(Error): \n",
    "    \"\"\"Raised when the input value is too small\"\"\"\n",
    "    pass\n",
    "class ValueLargeError(Error):\n",
    "    \"\"\"Raised when the input value is too large\"\"\"\n",
    "    pass\n",
    "\n",
    "number = 10\n",
    "while True:\n",
    "    try:\n",
    "        in_num = int(input(\"Enter a number: \"))\n",
    "        if in_num < number:\n",
    "            raise ValueSmallError\n",
    "        elif in_num > number:\n",
    "            raise ValueLargeError\n",
    "            break\n",
    "    except ValueSmallError:\n",
    "        print(\"This value is too small, try again!\")\n",
    "        print()\n",
    "    except ValueLargeError:\n",
    "        print(\"This value is too large, try again!\")\n",
    "        print()\n",
    "    finally:\n",
    "        print('END')"
   ]
  },
  {
   "cell_type": "code",
   "execution_count": 31,
   "metadata": {},
   "outputs": [
    {
     "name": "stdout",
     "output_type": "stream",
     "text": [
      "b'hello world'\n",
      "hello world\n"
     ]
    }
   ],
   "source": [
    "str = 'hello world'\n",
    "\n",
    "enc = str.encode('utf-8')\n",
    "print(enc)\n",
    "dec = enc.decode('utf-8')\n",
    "print(dec)"
   ]
  },
  {
   "cell_type": "code",
   "execution_count": 2,
   "metadata": {},
   "outputs": [
    {
     "name": "stdout",
     "output_type": "stream",
     "text": [
      "Enter a number? \n",
      "-9\n",
      "the project accepts only positive numbers, so please retry\n"
     ]
    }
   ],
   "source": [
    "class NoNegativeNumber(Exception):\n",
    "    pass\n",
    "\n",
    "def main():\n",
    "    print('Enter a number? ')\n",
    "    n = int(input())\n",
    "    try:\n",
    "        if n < 0:\n",
    "            raise NoNegativeNumber\n",
    "    except NoNegativeNumber:\n",
    "        print('the project accepts only positive numbers, so please retry')\n",
    "    else:\n",
    "        print('User have given a positive number: %d'%n)\n",
    "\n",
    "        \n",
    "        \n",
    "main()"
   ]
  },
  {
   "cell_type": "code",
   "execution_count": 22,
   "metadata": {},
   "outputs": [
    {
     "name": "stdout",
     "output_type": "stream",
     "text": [
      "Help on class Exception in module builtins:\n",
      "\n",
      "class Exception(BaseException)\n",
      " |  Common base class for all non-exit exceptions.\n",
      " |  \n",
      " |  Method resolution order:\n",
      " |      Exception\n",
      " |      BaseException\n",
      " |      object\n",
      " |  \n",
      " |  Built-in subclasses:\n",
      " |      ArithmeticError\n",
      " |      AssertionError\n",
      " |      AttributeError\n",
      " |      BufferError\n",
      " |      ... and 15 other subclasses\n",
      " |  \n",
      " |  Methods defined here:\n",
      " |  \n",
      " |  __init__(self, /, *args, **kwargs)\n",
      " |      Initialize self.  See help(type(self)) for accurate signature.\n",
      " |  \n",
      " |  ----------------------------------------------------------------------\n",
      " |  Static methods defined here:\n",
      " |  \n",
      " |  __new__(*args, **kwargs) from builtins.type\n",
      " |      Create and return a new object.  See help(type) for accurate signature.\n",
      " |  \n",
      " |  ----------------------------------------------------------------------\n",
      " |  Methods inherited from BaseException:\n",
      " |  \n",
      " |  __delattr__(self, name, /)\n",
      " |      Implement delattr(self, name).\n",
      " |  \n",
      " |  __getattribute__(self, name, /)\n",
      " |      Return getattr(self, name).\n",
      " |  \n",
      " |  __reduce__(...)\n",
      " |      Helper for pickle.\n",
      " |  \n",
      " |  __repr__(self, /)\n",
      " |      Return repr(self).\n",
      " |  \n",
      " |  __setattr__(self, name, value, /)\n",
      " |      Implement setattr(self, name, value).\n",
      " |  \n",
      " |  __setstate__(...)\n",
      " |  \n",
      " |  __str__(self, /)\n",
      " |      Return str(self).\n",
      " |  \n",
      " |  with_traceback(...)\n",
      " |      Exception.with_traceback(tb) --\n",
      " |      set self.__traceback__ to tb and return self.\n",
      " |  \n",
      " |  ----------------------------------------------------------------------\n",
      " |  Data descriptors inherited from BaseException:\n",
      " |  \n",
      " |  __cause__\n",
      " |      exception cause\n",
      " |  \n",
      " |  __context__\n",
      " |      exception context\n",
      " |  \n",
      " |  __dict__\n",
      " |  \n",
      " |  __suppress_context__\n",
      " |  \n",
      " |  __traceback__\n",
      " |  \n",
      " |  args\n",
      "\n"
     ]
    }
   ],
   "source": [
    "help(Exception)"
   ]
  },
  {
   "cell_type": "code",
   "execution_count": null,
   "metadata": {},
   "outputs": [],
   "source": []
  }
 ],
 "metadata": {
  "kernelspec": {
   "display_name": "tensf",
   "language": "python",
   "name": "python3"
  },
  "language_info": {
   "codemirror_mode": {
    "name": "ipython",
    "version": 3
   },
   "file_extension": ".py",
   "mimetype": "text/x-python",
   "name": "python",
   "nbconvert_exporter": "python",
   "pygments_lexer": "ipython3",
   "version": "3.10.8"
  },
  "vscode": {
   "interpreter": {
    "hash": "3e313d1f24da57a081eee6b594756086e5e54161d7342791616a06970af18016"
   }
  }
 },
 "nbformat": 4,
 "nbformat_minor": 2
}
