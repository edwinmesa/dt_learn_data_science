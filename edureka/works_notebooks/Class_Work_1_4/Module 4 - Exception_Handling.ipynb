{
 "cells": [
  {
   "cell_type": "markdown",
   "metadata": {},
   "source": [
    "## Exception Handling"
   ]
  },
  {
   "cell_type": "markdown",
   "metadata": {},
   "source": [
    "# Exception Handling Real time Examples\n",
    "'''1) You provide a web form for users to fill in and submit. but incase there are a lot of \n",
    "conditions to be handled and the conditions keeps changing periodically, you use exception \n",
    "handling to simplify the process\n",
    "2) database connectivity uses exception handling(why???) this is because the reason for database \n",
    "connectivity failure cannot be predicted and handled as it can be caused by many variables such \n",
    "as power failure, unreachable server,failure at client front/back end and so on.\n",
    "3) internet communication\n",
    "4) arithmetic exceptions such as division by zero and so on.\n",
    "5) operating systems use exception handling to resolve deadlocks,recover from crash and so forth\n",
    "\n",
    "try:\n",
    "\n",
    "except DivdebyZero:\n",
    "print(\"divide by zero not possible\")\n",
    "\n",
    "except IndexError:\n",
    "print(\"Out of index\")\n",
    "\n",
    "except:\n",
    "print(\"Some other error occured\")\n",
    "\n",
    "else:\n",
    "\n",
    "finally:\n",
    "\n",
    "'''"
   ]
  },
  {
   "cell_type": "code",
   "execution_count": 22,
   "metadata": {},
   "outputs": [
    {
     "ename": "SyntaxError",
     "evalue": "invalid syntax (2191687701.py, line 8)",
     "output_type": "error",
     "traceback": [
      "\u001b[1;36m  Cell \u001b[1;32mIn[22], line 8\u001b[1;36m\u001b[0m\n\u001b[1;33m    except ZeroDivisionError:                       :\u001b[0m\n\u001b[1;37m                                                    ^\u001b[0m\n\u001b[1;31mSyntaxError\u001b[0m\u001b[1;31m:\u001b[0m invalid syntax\n"
     ]
    }
   ],
   "source": [
    "# Example 1 - the first error we are triggering\n",
    "try:\n",
    "# write the code that you want to execute !!!\n",
    "    var1=10\n",
    "    var2=eval(input())\n",
    "    result=var1/var2   # We can't divide any number by Zero. In case it is done, it will throw ZeroDivisionError which is predefined exception\n",
    "    print(result)\n",
    "except ZeroDivisionError:                       :\n",
    "# In anticipation of an error !!! do some error handling\n",
    "    var2 = 1\n",
    "    result=var1/var2   # We can't divide any number by Zero. In case it is done, it will throw ZeroDivisionError which is predefined exception\n",
    "    print(result)\n",
    "    print('end')\n",
    "except:\n",
    "    print(\"Generic end\")"
   ]
  },
  {
   "cell_type": "code",
   "execution_count": 3,
   "metadata": {},
   "outputs": [
    {
     "name": "stdout",
     "output_type": "stream",
     "text": [
      "2.0\n"
     ]
    }
   ],
   "source": [
    "var1=10\n",
    "var2=eval(input())\n",
    "result=var1/var2   # We can't divide any number by Zero. In case it is done, it will throw ZeroDivisionError which is predefined exception\n",
    "print(result)"
   ]
  },
  {
   "cell_type": "code",
   "execution_count": 10,
   "metadata": {},
   "outputs": [
    {
     "name": "stdout",
     "output_type": "stream",
     "text": [
      "3\n"
     ]
    }
   ],
   "source": [
    "# Example 2 - the second error we are triggering\n",
    "try:\n",
    "    var1 = 10\n",
    "    var2 = 0\n",
    "    list1=[1,2,3]\n",
    "\n",
    "    # list1[3] = var1/var2\n",
    "    print(list1[2])\n",
    "    # print(list1[5])\n",
    "except ZeroDivisionError :\n",
    "    print(\"Number cannot be divided by zero\")\n",
    "except IndexError:\n",
    "    print(\"Index out of range\")\n",
    "except:\n",
    "    print(\"Some error occured !!\")"
   ]
  },
  {
   "cell_type": "code",
   "execution_count": 21,
   "metadata": {},
   "outputs": [
    {
     "name": "stdout",
     "output_type": "stream",
     "text": [
      "0.5\n"
     ]
    }
   ],
   "source": [
    "# Example 3  -- Exception Handling\n",
    "\n",
    "try:\n",
    "    var1=10\n",
    "    var2=20\n",
    "    result=var1/var2 # This line will raise Zero Division Error Exception and then Python will search for exception handler block i.e. except block\n",
    "    print(result)\n",
    "except :              # The except block will handle the exception and prints the messages\n",
    "    print('Some exception Occured')\n",
    "    print('End')  \n"
   ]
  },
  {
   "cell_type": "code",
   "execution_count": null,
   "metadata": {},
   "outputs": [],
   "source": [
    "# Important Point :- Once the program flow comes out of try block and enters except block, it never goes back to try block"
   ]
  },
  {
   "cell_type": "code",
   "execution_count": 12,
   "metadata": {},
   "outputs": [
    {
     "name": "stdout",
     "output_type": "stream",
     "text": [
      "Numbers cant be divided by zero\n",
      "Program Ends\n"
     ]
    }
   ],
   "source": [
    "# Example 5  -- Only try block - except - else - fianlly\n",
    "try:\n",
    "    var1=10\n",
    "    var2=0\n",
    "    result=var1/var2 # This line will raise Zero Division Error Exception and then Python will search for exception handler block i.e. except block\n",
    "    print(result)\n",
    "except ZeroDivisionError:\n",
    "    print('Numbers cant be divided by zero')\n",
    "else: # only when try block code successful without any errors\n",
    "    print('The code execute successfully')\n",
    "finally:\n",
    "    print(\"Program Ends\")"
   ]
  },
  {
   "cell_type": "markdown",
   "metadata": {},
   "source": [
    "## Try- Except-Else-Finally"
   ]
  },
  {
   "cell_type": "markdown",
   "metadata": {},
   "source": [
    "#### try block - Write the code in this block which you anticipate can throw error\n",
    "#### except block - Write the respetive exception handler which can handle your exception\n",
    "#### else block - The code which executes when there is no error in the try block\n",
    "#### finally block - The code which always executes irrespective of there is an error in try block or successful execution. "
   ]
  },
  {
   "cell_type": "code",
   "execution_count": 14,
   "metadata": {},
   "outputs": [
    {
     "name": "stdout",
     "output_type": "stream",
     "text": [
      "2.0\n",
      "End\n",
      "There was no exception\n"
     ]
    }
   ],
   "source": [
    "# Example 6\n",
    "import sys\n",
    "\n",
    "try:\n",
    "    var1=10\n",
    "    var2=eval(input('Enter the divisor'))\n",
    "    result=var1/var2\n",
    "    print(result)\n",
    "except:\n",
    "    print('Some Exception Happened')\n",
    "    print(sys.exc_info())\n",
    "finally:\n",
    "    print('End')\n",
    "\n",
    "print('There was no exception')\n",
    "\n"
   ]
  },
  {
   "cell_type": "code",
   "execution_count": 15,
   "metadata": {},
   "outputs": [
    {
     "name": "stdout",
     "output_type": "stream",
     "text": [
      "[1, 1.0, 3]\n",
      "The index is out of range\n",
      "I always execute\n",
      "END\n",
      "program completed\n"
     ]
    }
   ],
   "source": [
    "# Example 8 -- Multiple Except Blocks \n",
    "# One single try block can have multiple except blocks but the reverse is not true\n",
    "\n",
    "try:\n",
    "    var1=10\n",
    "    var2=10\n",
    "    list1=[1,2,3]\n",
    "    list1[1]=var1/var2\n",
    "    print(list1)\n",
    "    print(list1[1000])\n",
    "\n",
    "except ZeroDivisionError:\n",
    "    print('Numbers cant be divided by zero')\n",
    "except ValueError:\n",
    "    print('It is a value error')\n",
    "except IndexError:\n",
    "    print('The index is out of range')\n",
    "# default except must be last. If we try to put before all specific exceptions it will throw syntax error. \n",
    "except Exception: \n",
    "    print('Some Exception Occured')\n",
    "    raise e\n",
    "else: # only when try block code successful without any errors\n",
    "    print('The code execute successfully')\n",
    "finally: # always execute irrespective of successful or failed code\n",
    "    print('I always execute')\n",
    "    \n",
    "print('END')\n",
    "print('program completed')"
   ]
  },
  {
   "cell_type": "code",
   "execution_count": null,
   "metadata": {},
   "outputs": [],
   "source": [
    "#In the above code, there are problems with ‘Index out of range’ and ‘Zero Division Error’. \n",
    "#But, at a time only one exception is raised and here the expression for division executes first and Zero Division Error \n",
    "#Exception is raised. Then the program flow enters the proper exception handler and prints the message. \n",
    "#In case that is absent, the interpreter will print the exception message as it does without any except block\n"
   ]
  },
  {
   "cell_type": "code",
   "execution_count": 16,
   "metadata": {},
   "outputs": [
    {
     "name": "stdout",
     "output_type": "stream",
     "text": [
      "Some error\n"
     ]
    }
   ],
   "source": [
    "# Example 10 -- Multiple exception using tuple\n",
    "\n",
    "try:\n",
    "    var1=10\n",
    "    var2=2\n",
    "    list1=[1,2,3]\n",
    "    list1[3]=var1/var2\n",
    "    print(list1[3])\n",
    "except (ZeroDivisionError, IndexError):\n",
    "    print('Some error')\n",
    "except:\n",
    "    print('Some Exception Occured')\n",
    "    print(sys.exc_info())\n",
    "    "
   ]
  },
  {
   "cell_type": "markdown",
   "metadata": {},
   "source": [
    "## Exception Propagation"
   ]
  },
  {
   "cell_type": "code",
   "execution_count": 17,
   "metadata": {},
   "outputs": [
    {
     "name": "stdout",
     "output_type": "stream",
     "text": [
      "Welcome to init method\n",
      "some exception occured\n",
      "I will always execute\n",
      "welcome to method2\n",
      "Exception handled\n"
     ]
    }
   ],
   "source": [
    "# Example 12 -- Exception propagation 1st Example\n",
    "# In this case, Key Error Exception has been raised in method2. As there is no handler present in method2, the exception has been propagated to calling method i.e. method1 and gets handled there\n",
    "\n",
    "class Test:\n",
    "    def __init__(self):\n",
    "        try:\n",
    "            print(\"Welcome to init method\")\n",
    "            raise ZeroDivisionError\n",
    "        except: # except Exception\n",
    "            print(\"some exception occured\")\n",
    "        finally:\n",
    "            print(\"I will always execute\")\n",
    "    \n",
    "    def method2(self):\n",
    "        print(\"welcome to method2\")\n",
    "        raise KeyError\n",
    "        \n",
    "    def method1(self):\n",
    "        try:\n",
    "            self.method2()\n",
    "        except:\n",
    "            print(\"Exception handled\")\n",
    "    \n",
    "        \n",
    "Test().method1()\n"
   ]
  },
  {
   "cell_type": "code",
   "execution_count": 18,
   "metadata": {},
   "outputs": [
    {
     "ename": "IndexError",
     "evalue": "",
     "output_type": "error",
     "traceback": [
      "\u001b[1;31m---------------------------------------------------------------------------\u001b[0m",
      "\u001b[1;31mIndexError\u001b[0m                                Traceback (most recent call last)",
      "Cell \u001b[1;32mIn[18], line 1\u001b[0m\n\u001b[1;32m----> 1\u001b[0m \u001b[39mraise\u001b[39;00m \u001b[39mIndexError\u001b[39;00m \u001b[39m# a statement to raise any error\u001b[39;00m\n",
      "\u001b[1;31mIndexError\u001b[0m: "
     ]
    }
   ],
   "source": [
    "raise IndexError # a statement to raise any error"
   ]
  },
  {
   "cell_type": "code",
   "execution_count": 5,
   "metadata": {},
   "outputs": [
    {
     "name": "stdout",
     "output_type": "stream",
     "text": [
      "Welcome to init method\n",
      "some exception occured\n",
      "I will always execute\n",
      "welcome to method2\n",
      "Exception handled\n",
      "handled outside\n",
      "it executes finally\n"
     ]
    }
   ],
   "source": [
    "# Example 13 -- Exception Proapagation 2nd Example\n",
    "\n",
    "class Test:\n",
    "    def __init__(self):\n",
    "        try:\n",
    "            print(\"Welcome to init method\")\n",
    "            raise ZeroDivisionError\n",
    "        except:\n",
    "            print(\"some exception occured\")\n",
    "        finally:\n",
    "            print(\"I will always execute\")\n",
    "    def method1(self):\n",
    "        try:\n",
    "            self.method2()\n",
    "        except:\n",
    "            print(\"Exception handled\")\n",
    "            raise ZeroDivisionError\n",
    "    \n",
    "    def method2(self):\n",
    "        print(\"welcome to method2\")\n",
    "        raise KeyError\n",
    "\n",
    "try:\n",
    "    Test().method1()\n",
    "except:\n",
    "    print(\"handled outside\")\n",
    "finally:\n",
    "    print(\"it executes finally\")"
   ]
  },
  {
   "cell_type": "markdown",
   "metadata": {},
   "source": [
    "## User Defined Exception"
   ]
  },
  {
   "cell_type": "code",
   "execution_count": 19,
   "metadata": {},
   "outputs": [
    {
     "name": "stdout",
     "output_type": "stream",
     "text": [
      "This value is too small, try again!\n",
      "\n",
      "END\n",
      "This value is too large, try again!\n",
      "\n",
      "END\n",
      "This value is too small, try again!\n",
      "\n",
      "END\n",
      "END\n"
     ]
    },
    {
     "ename": "ValueError",
     "evalue": "invalid literal for int() with base 10: ''",
     "output_type": "error",
     "traceback": [
      "\u001b[1;31m---------------------------------------------------------------------------\u001b[0m",
      "\u001b[1;31mValueError\u001b[0m                                Traceback (most recent call last)",
      "Cell \u001b[1;32mIn[19], line 17\u001b[0m\n\u001b[0;32m     15\u001b[0m \u001b[39mwhile\u001b[39;00m \u001b[39mTrue\u001b[39;00m:\n\u001b[0;32m     16\u001b[0m     \u001b[39mtry\u001b[39;00m:\n\u001b[1;32m---> 17\u001b[0m         in_num \u001b[39m=\u001b[39m \u001b[39mint\u001b[39;49m(\u001b[39minput\u001b[39;49m(\u001b[39m\"\u001b[39;49m\u001b[39mEnter a number: \u001b[39;49m\u001b[39m\"\u001b[39;49m))\n\u001b[0;32m     18\u001b[0m         \u001b[39mif\u001b[39;00m in_num \u001b[39m<\u001b[39m number:\n\u001b[0;32m     19\u001b[0m             \u001b[39mraise\u001b[39;00m ValueSmallError\n",
      "\u001b[1;31mValueError\u001b[0m: invalid literal for int() with base 10: ''"
     ]
    }
   ],
   "source": [
    "# Example 14 -- User Defined Exception\n",
    "import sys\n",
    "# define Python user-defined exceptions . For defining user-defined exceptions we need to take base as existing error class.\n",
    "class Error(Exception):  \n",
    "    \"\"\"Base class for other exceptions\"\"\"\n",
    "    pass\n",
    "class ValueSmallError(Error): \n",
    "    \"\"\"Raised when the input value is too small\"\"\"\n",
    "    pass\n",
    "class ValueLargeError(Error):\n",
    "    \"\"\"Raised when the input value is too large\"\"\"\n",
    "    pass\n",
    "\n",
    "number = 10\n",
    "while True:\n",
    "    try:\n",
    "        in_num = int(input(\"Enter a number: \"))\n",
    "        if in_num < number:\n",
    "            raise ValueSmallError\n",
    "        elif in_num > number:\n",
    "            raise ValueLargeError\n",
    "            break\n",
    "    except ValueSmallError:\n",
    "        print(\"This value is too small, try again!\")\n",
    "        print()\n",
    "    except ValueLargeError:\n",
    "        print(\"This value is too large, try again!\")\n",
    "        print()\n",
    "    finally:\n",
    "        print('END')"
   ]
  },
  {
   "cell_type": "code",
   "execution_count": 20,
   "metadata": {},
   "outputs": [
    {
     "name": "stdout",
     "output_type": "stream",
     "text": [
      "b'hello world'\n",
      "hello world\n"
     ]
    }
   ],
   "source": [
    "str = 'hello world'\n",
    "\n",
    "enc = str.encode('utf-8')\n",
    "print(enc)\n",
    "dec = enc.decode('utf-8')\n",
    "print(dec)"
   ]
  },
  {
   "cell_type": "code",
   "execution_count": 2,
   "metadata": {},
   "outputs": [
    {
     "name": "stdout",
     "output_type": "stream",
     "text": [
      "Enter a number? \n",
      "-9\n",
      "the project accepts only positive numbers, so please retry\n"
     ]
    }
   ],
   "source": [
    "class NoNegativeNumber(Exception):\n",
    "    pass\n",
    "\n",
    "def main():\n",
    "    print('Enter a number? ')\n",
    "    n = int(input())\n",
    "    try:\n",
    "        if n < 0:\n",
    "            raise NoNegativeNumber\n",
    "    except NoNegativeNumber:\n",
    "        print('the project accepts only positive numbers, so please retry')\n",
    "    else:\n",
    "        print('User have given a positive number: %d'%n)\n",
    "\n",
    "        \n",
    "        \n",
    "main()"
   ]
  },
  {
   "cell_type": "code",
   "execution_count": 22,
   "metadata": {},
   "outputs": [
    {
     "name": "stdout",
     "output_type": "stream",
     "text": [
      "Help on class Exception in module builtins:\n",
      "\n",
      "class Exception(BaseException)\n",
      " |  Common base class for all non-exit exceptions.\n",
      " |  \n",
      " |  Method resolution order:\n",
      " |      Exception\n",
      " |      BaseException\n",
      " |      object\n",
      " |  \n",
      " |  Built-in subclasses:\n",
      " |      ArithmeticError\n",
      " |      AssertionError\n",
      " |      AttributeError\n",
      " |      BufferError\n",
      " |      ... and 15 other subclasses\n",
      " |  \n",
      " |  Methods defined here:\n",
      " |  \n",
      " |  __init__(self, /, *args, **kwargs)\n",
      " |      Initialize self.  See help(type(self)) for accurate signature.\n",
      " |  \n",
      " |  ----------------------------------------------------------------------\n",
      " |  Static methods defined here:\n",
      " |  \n",
      " |  __new__(*args, **kwargs) from builtins.type\n",
      " |      Create and return a new object.  See help(type) for accurate signature.\n",
      " |  \n",
      " |  ----------------------------------------------------------------------\n",
      " |  Methods inherited from BaseException:\n",
      " |  \n",
      " |  __delattr__(self, name, /)\n",
      " |      Implement delattr(self, name).\n",
      " |  \n",
      " |  __getattribute__(self, name, /)\n",
      " |      Return getattr(self, name).\n",
      " |  \n",
      " |  __reduce__(...)\n",
      " |      Helper for pickle.\n",
      " |  \n",
      " |  __repr__(self, /)\n",
      " |      Return repr(self).\n",
      " |  \n",
      " |  __setattr__(self, name, value, /)\n",
      " |      Implement setattr(self, name, value).\n",
      " |  \n",
      " |  __setstate__(...)\n",
      " |  \n",
      " |  __str__(self, /)\n",
      " |      Return str(self).\n",
      " |  \n",
      " |  with_traceback(...)\n",
      " |      Exception.with_traceback(tb) --\n",
      " |      set self.__traceback__ to tb and return self.\n",
      " |  \n",
      " |  ----------------------------------------------------------------------\n",
      " |  Data descriptors inherited from BaseException:\n",
      " |  \n",
      " |  __cause__\n",
      " |      exception cause\n",
      " |  \n",
      " |  __context__\n",
      " |      exception context\n",
      " |  \n",
      " |  __dict__\n",
      " |  \n",
      " |  __suppress_context__\n",
      " |  \n",
      " |  __traceback__\n",
      " |  \n",
      " |  args\n",
      "\n"
     ]
    }
   ],
   "source": [
    "help(Exception)"
   ]
  },
  {
   "cell_type": "code",
   "execution_count": null,
   "metadata": {},
   "outputs": [],
   "source": []
  }
 ],
 "metadata": {
  "kernelspec": {
   "display_name": "tensf",
   "language": "python",
   "name": "python3"
  },
  "language_info": {
   "codemirror_mode": {
    "name": "ipython",
    "version": 3
   },
   "file_extension": ".py",
   "mimetype": "text/x-python",
   "name": "python",
   "nbconvert_exporter": "python",
   "pygments_lexer": "ipython3",
   "version": "3.10.8"
  },
  "vscode": {
   "interpreter": {
    "hash": "3e313d1f24da57a081eee6b594756086e5e54161d7342791616a06970af18016"
   }
  }
 },
 "nbformat": 4,
 "nbformat_minor": 2
}
