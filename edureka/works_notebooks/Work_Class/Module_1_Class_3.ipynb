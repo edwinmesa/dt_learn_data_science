{
 "cells": [
  {
   "cell_type": "code",
   "execution_count": 11,
   "metadata": {},
   "outputs": [
    {
     "name": "stdout",
     "output_type": "stream",
     "text": [
      "b'Welcome to Edureka'\n",
      "bytearray(b'Python')\n"
     ]
    }
   ],
   "source": [
    "text_bytes = bytes('Welcome to Edureka', 'ascii')\n",
    "text_bytesArray = bytearray('Python','ascii')\n",
    "\n",
    "print(text_bytes)\n",
    "print(text_bytesArray)"
   ]
  },
  {
   "cell_type": "code",
   "execution_count": 12,
   "metadata": {},
   "outputs": [
    {
     "name": "stdout",
     "output_type": "stream",
     "text": [
      "Byte Coonversion: b'Python pr\\xc3\\xb3gram is easy t\\xc3\\xb3 learn'\n",
      "ArraybiteConversion: bytearray(b'Python pr\\xc3\\xb3gram is easy t\\xc3\\xb3 learn')\n"
     ]
    }
   ],
   "source": [
    "# UTF-8 encodedn errors are ignored\n",
    "\n",
    "string = 'Python prógram is easy tó learn'\n",
    "\n",
    "result_bytes = bytes(string, 'utf-8', errors='ignore')\n",
    "result_bytesArray = bytearray(string, 'utf-8', errors='ignore')\n",
    "\n",
    "print('Byte Coonversion:', result_bytes)\n",
    "print('ArraybiteConversion:', result_bytesArray)"
   ]
  },
  {
   "cell_type": "code",
   "execution_count": 13,
   "metadata": {},
   "outputs": [
    {
     "name": "stdout",
     "output_type": "stream",
     "text": [
      "Byte Coonversion: b'Python prgram is easy t learn'\n",
      "ArraybiteConversion: bytearray(b'Python prgram is easy t learn')\n"
     ]
    }
   ],
   "source": [
    "# ASCII encoded string errors are ignored\n",
    "string = 'Python prógram is easy tó learn'\n",
    "\n",
    "result_bytes = bytes(string, 'ascii', errors='ignore')\n",
    "result_bytesArray = bytearray(string, 'ascii', errors='ignore')\n",
    "\n",
    "print('Byte Coonversion:', result_bytes)\n",
    "print('ArraybiteConversion:', result_bytesArray)"
   ]
  },
  {
   "cell_type": "code",
   "execution_count": 14,
   "metadata": {},
   "outputs": [
    {
     "name": "stdout",
     "output_type": "stream",
     "text": [
      "Byte Coonversion: b'Python pr?gram is easy t? learn'\n",
      "ArraybiteConversion: bytearray(b'Python pr?gram is easy t? learn')\n"
     ]
    }
   ],
   "source": [
    "# ASCII encoded string errors are replaced\n",
    "\n",
    "result_bytes = bytes(string, 'ascii', errors='replace')\n",
    "result_bytesArray = bytearray(string, 'ascii', errors='replace')\n",
    "\n",
    "print('Byte Coonversion:', result_bytes)\n",
    "print('ArraybiteConversion:', result_bytesArray)"
   ]
  },
  {
   "cell_type": "code",
   "execution_count": 16,
   "metadata": {},
   "outputs": [
    {
     "ename": "TypeError",
     "evalue": "'str' object does not support item assignment",
     "output_type": "error",
     "traceback": [
      "\u001b[1;31m---------------------------------------------------------------------------\u001b[0m",
      "\u001b[1;31mTypeError\u001b[0m                                 Traceback (most recent call last)",
      "Cell \u001b[1;32mIn[16], line 2\u001b[0m\n\u001b[0;32m      1\u001b[0m x \u001b[39m=\u001b[39m \u001b[39m\"\u001b[39m\u001b[39mStay gold Ponyoy\u001b[39m\u001b[39m\"\u001b[39m\n\u001b[1;32m----> 2\u001b[0m x[\u001b[39m5\u001b[39;49m:\u001b[39m9\u001b[39;49m] \u001b[39m=\u001b[39m \u001b[39m\"\u001b[39m\u001b[39mSilver\u001b[39m\u001b[39m\"\u001b[39m\n",
      "\u001b[1;31mTypeError\u001b[0m: 'str' object does not support item assignment"
     ]
    }
   ],
   "source": [
    "x = \"Stay Gold Ponyoy\"\n",
    "x[5:9] = \"Silver\""
   ]
  },
  {
   "cell_type": "code",
   "execution_count": 18,
   "metadata": {},
   "outputs": [
    {
     "data": {
      "text/plain": [
       "bytearray(b'Stay Silver Ponyboy')"
      ]
     },
     "execution_count": 18,
     "metadata": {},
     "output_type": "execute_result"
    }
   ],
   "source": [
    "x = \"Stay Gold Ponyoy\"\n",
    "\n",
    "y = bytearray(x, encoding='ascii')\n",
    "y[5:] = bytearray('Silver Ponyboy', encoding='ascii')\n",
    "y"
   ]
  },
  {
   "attachments": {},
   "cell_type": "markdown",
   "metadata": {},
   "source": [
    "Functions"
   ]
  },
  {
   "cell_type": "code",
   "execution_count": null,
   "metadata": {},
   "outputs": [],
   "source": []
  }
 ],
 "metadata": {
  "kernelspec": {
   "display_name": "venvimg",
   "language": "python",
   "name": "python3"
  },
  "language_info": {
   "codemirror_mode": {
    "name": "ipython",
    "version": 3
   },
   "file_extension": ".py",
   "mimetype": "text/x-python",
   "name": "python",
   "nbconvert_exporter": "python",
   "pygments_lexer": "ipython3",
   "version": "3.10.8"
  },
  "orig_nbformat": 4,
  "vscode": {
   "interpreter": {
    "hash": "9af664887e86d7f0d817e36ed0f8bd177f6d406f89cac0874c283298ac904e95"
   }
  }
 },
 "nbformat": 4,
 "nbformat_minor": 2
}
