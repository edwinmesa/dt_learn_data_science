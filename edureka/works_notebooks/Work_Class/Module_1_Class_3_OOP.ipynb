{
 "cells": [
  {
   "cell_type": "code",
   "execution_count": 2,
   "metadata": {},
   "outputs": [
    {
     "name": "stdout",
     "output_type": "stream",
     "text": [
      "<class 'int'>\n",
      "<class 'str'>\n"
     ]
    }
   ],
   "source": [
    "x = 1\n",
    "print(type(x))\n",
    "print(type(\"Hello, world!\"))\n"
   ]
  },
  {
   "cell_type": "code",
   "execution_count": 3,
   "metadata": {},
   "outputs": [
    {
     "name": "stdout",
     "output_type": "stream",
     "text": [
      "hello world\n"
     ]
    }
   ],
   "source": [
    "def hello():\n",
    "    print(\"hello world\")\n",
    "\n",
    "\n",
    "hello()\n"
   ]
  },
  {
   "cell_type": "code",
   "execution_count": 23,
   "metadata": {},
   "outputs": [
    {
     "name": "stdout",
     "output_type": "stream",
     "text": [
      "Fido 6\n",
      "Tim 14\n"
     ]
    }
   ],
   "source": [
    "class Dog:\n",
    "    def __init__(self, name, age):\n",
    "        self.name = name\n",
    "        self.age = age\n",
    "\n",
    "    def get_name(self):\n",
    "        return self.name\n",
    "\n",
    "    def get_age(self):\n",
    "        return self.age\n",
    "\n",
    "    def set_age(self, age):\n",
    "        self.age = age\n",
    "\n",
    "\n",
    "# d = Dog(\"Fido\", 5)\n",
    "# d.set_age(6)\n",
    "# print(d.get_name(), d.get_age())\n",
    "# d2 = Dog(\"Tim\",14)\n",
    "# print(d2.get_name(), d2.get_age())\n",
    "# d = Dog()\n",
    "# d.bark()\n",
    "# print(d.add_one(5))\n",
    "# print(type(d))\n"
   ]
  },
  {
   "cell_type": "code",
   "execution_count": 24,
   "metadata": {},
   "outputs": [
    {
     "name": "stdout",
     "output_type": "stream",
     "text": [
      "<__main__.Edureka object at 0x000001EDCF3FC9A0>\n",
      "2120895941024\n",
      "2120895941024\n"
     ]
    }
   ],
   "source": [
    "class Edureka:\n",
    "    def method2(self,):\n",
    "        print(self)\n",
    "        print(id(self))\n",
    "\n",
    "\n",
    "object2 = Edureka()\n",
    "object2.method2()\n",
    "print(id(object2))\n"
   ]
  },
  {
   "cell_type": "code",
   "execution_count": 25,
   "metadata": {},
   "outputs": [
    {
     "name": "stdout",
     "output_type": "stream",
     "text": [
      "Hello Programing\n"
     ]
    }
   ],
   "source": [
    "class python:\n",
    "    def method3(Edureka, a):\n",
    "        print(\"Hello\", a)\n",
    "\n",
    "\n",
    "object3 = python()\n",
    "object3.method3(\"Programing\")\n"
   ]
  },
  {
   "cell_type": "code",
   "execution_count": 30,
   "metadata": {},
   "outputs": [
    {
     "name": "stdout",
     "output_type": "stream",
     "text": [
      "Welcome to Animal Class\n",
      "21\n",
      "10\n",
      "20\n",
      "21\n",
      "**********\n",
      "21\n",
      "25\n"
     ]
    }
   ],
   "source": [
    "global_var = 10\n",
    "\n",
    "\n",
    "class Animal:\n",
    "    local_var = 20\n",
    "\n",
    "    def method4(self,):\n",
    "        print(\"Welcome to Animal Class\")\n",
    "        self.local_var += 1\n",
    "        print(self.local_var)\n",
    "\n",
    "\n",
    "Tiger = Animal()\n",
    "Tiger.method4()\n",
    "print(global_var)\n",
    "print(Animal.local_var)\n",
    "print(Tiger.local_var)\n",
    "print('*' * 10)\n",
    "\n",
    "Animal.local_var = 25\n",
    "print(Tiger.local_var)\n",
    "print(Animal.local_var)\n"
   ]
  },
  {
   "cell_type": "code",
   "execution_count": 42,
   "metadata": {},
   "outputs": [
    {
     "name": "stdout",
     "output_type": "stream",
     "text": [
      "20\n",
      "10\n",
      "2120793916240\n",
      "2120793915920\n",
      "******************************\n",
      "10\n",
      "10\n",
      "******************************\n",
      "25\n",
      "10\n",
      "******************************\n",
      "2120793916400\n",
      "2120793915920\n"
     ]
    }
   ],
   "source": [
    "class Edureka:\n",
    "    x = 10\n",
    "\n",
    "    def method_1(self, x):\n",
    "        x = 20\n",
    "        print(x)\n",
    "        print(self.x)\n",
    "        print(id(x))\n",
    "        print(id(self.x))\n",
    "        x += 1\n",
    "\n",
    "\n",
    "object1 = Edureka()\n",
    "object1.method_1(5)\n",
    "print('*'*30)\n",
    "print(object1.x)\n",
    "print(Edureka.x)\n",
    "print('*'*30)\n",
    "object1.x = 25\n",
    "print(object1.x)\n",
    "print(Edureka.x)\n",
    "print('*'*30)\n",
    "print(id(object1.x))\n",
    "print(id(Edureka.x))\n"
   ]
  },
  {
   "cell_type": "code",
   "execution_count": 43,
   "metadata": {},
   "outputs": [
    {
     "name": "stdout",
     "output_type": "stream",
     "text": [
      "Edureka.__dict__: {'__module__': '__main__', 'x': 10, 'method_1': <function Edureka.method_1 at 0x000001EDCF4FDFC0>, '__dict__': <attribute '__dict__' of 'Edureka' objects>, '__weakref__': <attribute '__weakref__' of 'Edureka' objects>, '__doc__': None}\n",
      "Edureka.__doc__: None\n",
      "Edureka.__name__: Edureka\n",
      "Edureka.__module__: __main__\n",
      "Edureka.__bases__: (<class 'object'>,)\n"
     ]
    }
   ],
   "source": [
    "class Edureka:\n",
    "    empcount = 0\n",
    "    print(\"Edureka.__dict__:\", Edureka.__dict__)\n",
    "    print(\"Edureka.__doc__:\", Edureka.__doc__)\n",
    "    print(\"Edureka.__name__:\", Edureka.__name__)\n",
    "    print(\"Edureka.__module__:\", Edureka.__module__)\n",
    "    print(\"Edureka.__bases__:\", Edureka.__bases__)\n"
   ]
  },
  {
   "cell_type": "code",
   "execution_count": 45,
   "metadata": {},
   "outputs": [
    {
     "name": "stdout",
     "output_type": "stream",
     "text": [
      "i am public\n",
      "I am protected\n"
     ]
    },
    {
     "ename": "AttributeError",
     "evalue": "'Edureka' object has no attribute '__priv'",
     "output_type": "error",
     "traceback": [
      "\u001b[1;31m---------------------------------------------------------------------------\u001b[0m",
      "\u001b[1;31mAttributeError\u001b[0m                            Traceback (most recent call last)",
      "Cell \u001b[1;32mIn[45], line 9\u001b[0m\n\u001b[0;32m      7\u001b[0m \u001b[39mprint\u001b[39m(obj\u001b[39m.\u001b[39mpub)\n\u001b[0;32m      8\u001b[0m \u001b[39mprint\u001b[39m(obj\u001b[39m.\u001b[39m_pro)\n\u001b[1;32m----> 9\u001b[0m \u001b[39mprint\u001b[39m(obj\u001b[39m.\u001b[39;49m__priv)\n",
      "\u001b[1;31mAttributeError\u001b[0m: 'Edureka' object has no attribute '__priv'"
     ]
    }
   ],
   "source": [
    "class Edureka:\n",
    "    def __init__(self):\n",
    "        self.__priv = (\"I am private\")\n",
    "        self._pro = (\"I am protected\")\n",
    "        self.pub = (\"i am public\")\n",
    "\n",
    "\n",
    "obj = Edureka()\n",
    "print(obj.pub)\n",
    "print(obj._pro)\n",
    "print(obj.__priv)\n"
   ]
  },
  {
   "cell_type": "code",
   "execution_count": 46,
   "metadata": {},
   "outputs": [
    {
     "name": "stdout",
     "output_type": "stream",
     "text": [
      "i am public\n",
      "I am protected\n",
      "I am private\n"
     ]
    }
   ],
   "source": [
    "class Edureka:\n",
    "    def __init__(self):\n",
    "        self.__priv = (\"I am private\")\n",
    "        self._pro = (\"I am protected\")\n",
    "        self.pub = (\"i am public\")\n",
    "\n",
    "\n",
    "obj = Edureka()\n",
    "print(obj.pub)\n",
    "print(obj._pro)\n",
    "print(obj._Edureka__priv)\n"
   ]
  },
  {
   "cell_type": "code",
   "execution_count": 59,
   "metadata": {},
   "outputs": [
    {
     "name": "stdout",
     "output_type": "stream",
     "text": [
      "This is a public method\n",
      "This is a protect method\n",
      "This is a private method\n"
     ]
    }
   ],
   "source": [
    "class Employee:\n",
    "    def __init__(self):\n",
    "        self.__empId = 101\n",
    "        self._empName = 'Edwin'\n",
    "        self.salary = 25000\n",
    "\n",
    "    def public_method(self):\n",
    "        print(\"This is a public method\")\n",
    "\n",
    "    def _protect_method(self):\n",
    "        print(\"This is a protect method\")\n",
    "\n",
    "    def __private_method(self):\n",
    "        print(\"This is a private method\")\n",
    "\n",
    "\n",
    "emp1 = Employee()\n",
    "\n",
    "emp1.public_method()\n",
    "emp1._protect_method()\n",
    "emp1._Employee__private_method()\n"
   ]
  },
  {
   "cell_type": "code",
   "execution_count": 64,
   "metadata": {},
   "outputs": [
    {
     "name": "stdout",
     "output_type": "stream",
     "text": [
      "Big\n",
      "200\n",
      "********************\n",
      "Small\n",
      "100\n",
      "Big\n",
      "200\n",
      "********************\n",
      "{'empId': 200, 'domain': 'Big'}\n",
      "{'empId': 100}\n"
     ]
    }
   ],
   "source": [
    "class Employee:\n",
    "    domain = \"Data\"\n",
    "\n",
    "    def __init__(self):\n",
    "        self.empId = 100\n",
    "\n",
    "\n",
    "emp2 = Employee()\n",
    "emp2.domain = \"Big\"\n",
    "emp2.empId = 200\n",
    "emp3 = Employee()\n",
    "print(emp2.domain)\n",
    "print(emp2.empId)\n",
    "print('*' * 20)\n",
    "Employee.domain = \"Small\"\n",
    "print(emp3.domain)\n",
    "print(emp3.empId)\n",
    "print(emp2.domain)\n",
    "print(emp2.empId)\n",
    "print('*' * 20)\n",
    "print(emp2.__dict__)\n",
    "print(emp3.__dict__)\n"
   ]
  },
  {
   "cell_type": "code",
   "execution_count": 65,
   "metadata": {},
   "outputs": [
    {
     "name": "stdout",
     "output_type": "stream",
     "text": [
      "constructor\n",
      "destructor\n"
     ]
    }
   ],
   "source": [
    "class TestClass:\n",
    "    def __init__(self):\n",
    "        print(\"constructor\")\n",
    "\n",
    "    def __del__(self):\n",
    "        print(\"destructor\")\n",
    "\n",
    "\n",
    "if __name__ == '__main__':\n",
    "    obj = TestClass()\n",
    "    del obj\n"
   ]
  },
  {
   "cell_type": "code",
   "execution_count": 67,
   "metadata": {},
   "outputs": [
    {
     "name": "stdout",
     "output_type": "stream",
     "text": [
      "2016\n",
      "2015\n",
      "2014\n"
     ]
    }
   ],
   "source": [
    "class Date:\n",
    "    def __init__(self, year, month, day):\n",
    "        self.year = year\n",
    "        self.month = month\n",
    "        self.day = day\n",
    "\n",
    "    @classmethod\n",
    "    def dmy(cls, day, month, year):\n",
    "        cls.year = year\n",
    "        cls.month = month\n",
    "        cls.day = day\n",
    "        return cls(cls.year, cls.month, cls.day)\n",
    "\n",
    "    @classmethod\n",
    "    def mdy(cls, month, day, year):\n",
    "        cls.year = year\n",
    "        cls.month = month\n",
    "        cls.day = day\n",
    "        return cls(cls.year, cls.month, cls.day)\n",
    "\n",
    "\n",
    "a = Date(2016, 12, 11)\n",
    "print(a.year)\n",
    "b = Date.dmy(9, 10, 2015)\n",
    "print(b.year)\n",
    "a = Date.mdy(10, 11, 2014)\n",
    "print(a.year)\n"
   ]
  },
  {
   "cell_type": "code",
   "execution_count": 69,
   "metadata": {},
   "outputs": [
    {
     "name": "stdout",
     "output_type": "stream",
     "text": [
      "Welcome to edureka!\n",
      "Hello Python!\n",
      "Excute is Done!\n"
     ]
    }
   ],
   "source": [
    "def method1(arg_func):\n",
    "    def inner_method():\n",
    "        print(\"Welcome to edureka!\")\n",
    "        arg_func()\n",
    "        print(\"Excute is Done!\")\n",
    "    return inner_method\n",
    "\n",
    "\n",
    "def method3():\n",
    "    print(\"Hello Python!\")\n",
    "\n",
    "\n",
    "arg = method1(method3)\n",
    "arg()\n"
   ]
  },
  {
   "cell_type": "code",
   "execution_count": 70,
   "metadata": {},
   "outputs": [
    {
     "name": "stdout",
     "output_type": "stream",
     "text": [
      "Welcome to 1\n",
      "Welcome to 3\n",
      "Welcome to 2\n",
      "6\n"
     ]
    }
   ],
   "source": [
    "def func_1(arg_func):\n",
    "    def func_2(*args, **kwargs):\n",
    "        print(\"Welcome to 1\")\n",
    "        returned_argument = arg_func(*args, **kwargs)\n",
    "        print(\"Welcome to 2\")\n",
    "        return returned_argument\n",
    "    return func_2\n",
    "\n",
    "\n",
    "@func_1\n",
    "def func_3(x, y):\n",
    "    print(\"Welcome to 3\")\n",
    "    return x * y\n",
    "\n",
    "\n",
    "print(func_3(2, 3))\n"
   ]
  },
  {
   "cell_type": "code",
   "execution_count": 80,
   "metadata": {},
   "outputs": [
    {
     "name": "stdout",
     "output_type": "stream",
     "text": [
      "This a parent Constructor\n",
      "This a child Constructor\n",
      "This a parent Method\n",
      "********************\n",
      "This a child Method\n",
      "This a parent Method\n"
     ]
    }
   ],
   "source": [
    "# Single Inheritance\n",
    "# Example 1 shows a single inheritance\n",
    "\n",
    "class Parent:\n",
    "    def __init__(self,):\n",
    "        print(\"This a parent Constructor\")\n",
    "\n",
    "    def parent_method(self):\n",
    "        print(\"This a parent Method\")\n",
    "\n",
    "\n",
    "class Child(Parent):\n",
    "    def __init__(self):\n",
    "        print(\"This a child Constructor\")\n",
    "\n",
    "    def child_method(self):\n",
    "        print(\"This a child Method\")\n",
    "\n",
    "\n",
    "parentObj = Parent()\n",
    "childObj = Child()\n",
    "\n",
    "parentObj.parent_method()\n",
    "print('*' * 20)\n",
    "childObj.child_method()\n",
    "childObj.parent_method()\n"
   ]
  },
  {
   "cell_type": "code",
   "execution_count": 82,
   "metadata": {},
   "outputs": [
    {
     "name": "stdout",
     "output_type": "stream",
     "text": [
      "This is child constructor\n",
      "This is child method\n",
      "This is 1st parent method\n",
      "This is 2nd parent method\n"
     ]
    }
   ],
   "source": [
    "class Parent_1:\n",
    "    def __init__(self,):\n",
    "        print('This is 1st parent class constructor')\n",
    "\n",
    "    def parent_method_1(self):\n",
    "        print('This is 1st parent method')\n",
    "\n",
    "\n",
    "class Parent_2:\n",
    "    def __init__(self,):\n",
    "        print('This is 2nd parent class constructor')\n",
    "\n",
    "    def parent_method_2(self):\n",
    "        print('This is 2nd parent method')\n",
    "\n",
    "\n",
    "class Child_1(Parent_1, Parent_2):\n",
    "    def __init__(self):\n",
    "        print('This is child constructor')\n",
    "\n",
    "    def child_method(self):\n",
    "        print('This is child method')\n",
    "\n",
    "\n",
    "childObj = Child_1()\n",
    "childObj.child_method()\n",
    "childObj.parent_method_1()\n",
    "childObj.parent_method_2()\n"
   ]
  },
  {
   "cell_type": "code",
   "execution_count": 83,
   "metadata": {},
   "outputs": [
    {
     "name": "stdout",
     "output_type": "stream",
     "text": [
      "This is a child class constructor\n",
      "Abstract Method is impmented in child class\n"
     ]
    }
   ],
   "source": [
    "# Abstract Class and implementation\n",
    "# Example 8\n",
    "\n",
    "class Abstract_Parent:\n",
    "    def __init__(self):\n",
    "        print(\"This is a parent class constructor\")\n",
    "\n",
    "    def abstract_method(self):\n",
    "        pass\n",
    "\n",
    "\n",
    "class Child(Abstract_Parent):\n",
    "    def __init__(self):\n",
    "        print(\"This is a child class constructor\")\n",
    "\n",
    "    def abstract_method(self):\n",
    "        print(\"Abstract Method is impmented in child class\")\n",
    "\n",
    "\n",
    "child_Object = Child()\n",
    "child_Object.abstract_method()\n"
   ]
  },
  {
   "cell_type": "code",
   "execution_count": 91,
   "metadata": {},
   "outputs": [
    {
     "name": "stdout",
     "output_type": "stream",
     "text": [
      "This is Child constructor\n",
      "This is Parent constructor\n",
      "This is Parent method\n",
      "This is Child method\n"
     ]
    }
   ],
   "source": [
    "class Parent:\n",
    "    def __init__(self):\n",
    "        print(\"This is Parent constructor\")\n",
    "\n",
    "    def parent_method(self):\n",
    "        print(\"This is Parent method\")\n",
    "\n",
    "\n",
    "class Child(Parent):\n",
    "    def __init__(self):\n",
    "        print(\"This is Child constructor\")\n",
    "        super().__init__()\n",
    "\n",
    "    def child_method(self):\n",
    "        super().parent_method()\n",
    "        print(\"This is Child method\")\n",
    "\n",
    "\n",
    "child_Object1 = Child()\n",
    "child_Object1.child_method()\n"
   ]
  },
  {
   "cell_type": "code",
   "execution_count": 92,
   "metadata": {},
   "outputs": [
    {
     "name": "stdout",
     "output_type": "stream",
     "text": [
      "25  is the area of square\n",
      "15  is the area of rectangle\n"
     ]
    }
   ],
   "source": [
    "class Rectangle():\n",
    "    def __init__(self, width, breadth):\n",
    "        self.width = width\n",
    "        self.breadth = breadth\n",
    "\n",
    "    def getArea(self):\n",
    "        print(self.width * self.breadth, \" is the area of rectangle\")\n",
    "\n",
    "\n",
    "class Square(Rectangle):\n",
    "    def __init__(self, side):\n",
    "        self.side = side\n",
    "        Rectangle.__init__(self, side, side)\n",
    "\n",
    "    def getArea(self):\n",
    "        print(self.side * self.side, \" is the area of square\")\n",
    "\n",
    "\n",
    "s = Square(5)\n",
    "r = Rectangle(3, 5)\n",
    "\n",
    "s.getArea()\n",
    "r.getArea()\n"
   ]
  },
  {
   "cell_type": "code",
   "execution_count": 93,
   "metadata": {},
   "outputs": [
    {
     "name": "stdout",
     "output_type": "stream",
     "text": [
      "Hello Pyth\n",
      "Hello Pyth\n"
     ]
    },
    {
     "data": {
      "text/plain": [
       "1"
      ]
     },
     "execution_count": 93,
     "metadata": {},
     "output_type": "execute_result"
    }
   ],
   "source": [
    "class Student():\n",
    "    def __init__(self, studentId, marks):\n",
    "        self.studentId = studentId\n",
    "        self.marks = marks\n",
    "\n",
    "    def method(self):\n",
    "        print(\"Welcome to Edureka\")\n",
    "\n",
    "    def method(self):\n",
    "        print(\"Hello Python\")\n",
    "\n",
    "    def method(self):\n",
    "        print(\"Hello Pyth\")\n",
    "\n",
    "\n",
    "student = Student(1, 5)\n",
    "student.method()\n",
    "student.method()\n",
    "student.studentId\n"
   ]
  },
  {
   "cell_type": "code",
   "execution_count": 94,
   "metadata": {},
   "outputs": [
    {
     "name": "stdout",
     "output_type": "stream",
     "text": [
      "Python\n",
      "Java\n"
     ]
    }
   ],
   "source": [
    "class Edureka:\n",
    "    def __init__(self, courseName):\n",
    "        self.courseName = courseName\n",
    "\n",
    "    def setCourseName(self, courseName):\n",
    "        self.courseName = courseName\n",
    "\n",
    "    def getCourseName(self):\n",
    "        return self.courseName\n",
    "\n",
    "obf = Edureka(\"Python\")\n",
    "print(obf.getCourseName())\n",
    "obf.setCourseName(\"Java\")\n",
    "print(obf.getCourseName())"
   ]
  },
  {
   "cell_type": "code",
   "execution_count": 111,
   "metadata": {},
   "outputs": [
    {
     "name": "stdout",
     "output_type": "stream",
     "text": [
      "10199800.0\n",
      "16367600.0\n",
      "**************************************************\n",
      "102\n",
      "Caro\n",
      "None\n"
     ]
    }
   ],
   "source": [
    "# Create the Customer class with the constructor and two other methods. \n",
    "# Display_details() method will be used to display the custId and custName. \n",
    "# The CalculateAmount() method will be abstract in nature\n",
    "\n",
    "class Customer:\n",
    "    def __init__(self, custId, custName):\n",
    "        self.custId = custId\n",
    "        self.custName = custName\n",
    "    def display_details(self):\n",
    "        print(self.custId)\n",
    "        print(self.custName)\n",
    "\n",
    "    def calculate_Amount(self, interest, year):\n",
    "        pass\n",
    "\n",
    "class Regular_Customer(Customer):\n",
    "    def __init__(self, custId, custName, amount, custType):\n",
    "        self.custId = custId\n",
    "        self.custName = custName\n",
    "        self.amount = amount\n",
    "        self.custType = custType\n",
    "    \n",
    "    def calculate_Amount(self, interest, year):\n",
    "        final_amount = self.amount +(self.amount*interest*year)/100.0\n",
    "        final_amount = final_amount - 200\n",
    "        if(self.custType == \"Regular\"):\n",
    "            return final_amount\n",
    "        if(self.custType == \"Privilage\"):\n",
    "            return final_amount -200\n",
    "\n",
    "customerR = Regular_Customer(101, \"Edwin\", 100000, \"Regular\")\n",
    "customerP = Regular_Customer(102, \"Caro\",  200000, \"Privilage\")\n",
    "\n",
    "# print(customerR.display_details())\n",
    "print(customerR.calculate_Amount(5, 2020))\n",
    "print(customerP.calculate_Amount(4, 2021))\n",
    "\n",
    "print('*' * 50)\n",
    "print(customerP.display_details())\n",
    "\n",
    "    "
   ]
  }
 ],
 "metadata": {
  "kernelspec": {
   "display_name": "tensf",
   "language": "python",
   "name": "python3"
  },
  "language_info": {
   "codemirror_mode": {
    "name": "ipython",
    "version": 3
   },
   "file_extension": ".py",
   "mimetype": "text/x-python",
   "name": "python",
   "nbconvert_exporter": "python",
   "pygments_lexer": "ipython3",
   "version": "3.10.8"
  },
  "orig_nbformat": 4,
  "vscode": {
   "interpreter": {
    "hash": "3e313d1f24da57a081eee6b594756086e5e54161d7342791616a06970af18016"
   }
  }
 },
 "nbformat": 4,
 "nbformat_minor": 2
}
