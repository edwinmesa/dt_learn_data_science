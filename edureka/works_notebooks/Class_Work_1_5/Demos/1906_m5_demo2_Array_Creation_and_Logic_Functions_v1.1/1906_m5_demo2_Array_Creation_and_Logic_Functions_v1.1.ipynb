{
  "cells": [
    {
      "cell_type": "markdown",
      "metadata": {
        "id": "PL_-5-eNUwBR"
      },
      "source": [
        "## Demo 2 - Array Creation and Logic Functions"
      ]
    },
    {
      "cell_type": "markdown",
      "metadata": {
        "id": "q7qfwfcqUwBa"
      },
      "source": [
        "In this demo, you will be shown how to create arrays and perform logic functions on them."
      ]
    },
    {
      "cell_type": "markdown",
      "metadata": {
        "id": "DFE9FFRsUwBb"
      },
      "source": [
        "### Question1:Create the ndarray and swap first two rows of the array."
      ]
    },
    {
      "cell_type": "code",
      "execution_count": null,
      "metadata": {
        "id": "tHwb5xGsUwBb"
      },
      "outputs": [],
      "source": [
        "#Import libraries\n",
        "import numpy as np"
      ]
    },
    {
      "cell_type": "code",
      "execution_count": null,
      "metadata": {
        "colab": {
          "base_uri": "https://localhost:8080/"
        },
        "id": "uPeysVZqUwBd",
        "outputId": "c66be4f4-b357-44fd-a041-02225bb4cf53"
      },
      "outputs": [
        {
          "output_type": "stream",
          "name": "stdout",
          "text": [
            "Before Swapping [[ 0  1  2  3  4]\n",
            " [ 5  6  7  8  9]\n",
            " [10 11 12 13 14]\n",
            " [15 16 17 18 19]\n",
            " [20 21 22 23 24]]\n",
            "After Swapping [[ 5  6  7  8  9]\n",
            " [ 0  1  2  3  4]\n",
            " [10 11 12 13 14]\n",
            " [15 16 17 18 19]\n",
            " [20 21 22 23 24]]\n"
          ]
        }
      ],
      "source": [
        "#Creation of an array using arange() and rehsape()\n",
        "A = np.arange(25).reshape(5,5)\n",
        "print('Before Swapping',A)\n",
        "\n",
        "#Swap first two column of an array\n",
        "A[[0,1]] = A[[1,0]]\n",
        "print('After Swapping',A)"
      ]
    },
    {
      "cell_type": "markdown",
      "metadata": {
        "id": "bj2BI6TgUwBg"
      },
      "source": [
        "### Question 2: Create 1-D array of 20 evenly spaced element between 1 and 100."
      ]
    },
    {
      "cell_type": "code",
      "execution_count": null,
      "metadata": {
        "colab": {
          "base_uri": "https://localhost:8080/"
        },
        "id": "h1KI6gEIUwBh",
        "outputId": "7aa25355-7017-4285-8c8b-2592b848347e"
      },
      "outputs": [
        {
          "output_type": "stream",
          "name": "stdout",
          "text": [
            "[  1.           6.21052632  11.42105263  16.63157895  21.84210526\n",
            "  27.05263158  32.26315789  37.47368421  42.68421053  47.89473684\n",
            "  53.10526316  58.31578947  63.52631579  68.73684211  73.94736842\n",
            "  79.15789474  84.36842105  89.57894737  94.78947368 100.        ]\n"
          ]
        }
      ],
      "source": [
        "#Create an array using linspace()\n",
        "x = np.linspace(1, 100, 20)\n",
        "\n",
        "#Print an array \n",
        "print(x)"
      ]
    },
    {
      "cell_type": "markdown",
      "metadata": {
        "id": "UNNQ16qjUwBi"
      },
      "source": [
        "### Question 3:Create two random array A and B.\n",
        "a] Check whether both the arrays are equal\n",
        "b] Test the type of array element-wise\n",
        "c] Compare two arrays element-wise\n",
        "   So here random array is generated using numpy.random.randint(low, high, size)\n",
        "   It is one of the function for generating random elements in array\n",
        "   It returns an array of specified shape and fills it with random integers from low to high (exclusive), that is in the interval of (low, high) "
      ]
    },
    {
      "cell_type": "code",
      "execution_count": null,
      "metadata": {
        "id": "cnScxHALUwBk"
      },
      "outputs": [],
      "source": [
        "#Create two random array between 0 to 100 with 5 elements each\n",
        "A = np.random.randint(0,100,5)\n",
        "B = np.random.randint(0,100,5)"
      ]
    },
    {
      "cell_type": "code",
      "execution_count": null,
      "metadata": {
        "colab": {
          "base_uri": "https://localhost:8080/"
        },
        "id": "NiBWWpYkUwBl",
        "outputId": "99d3546d-e90e-4b2c-dd45-18cc7d05f4d7"
      },
      "outputs": [
        {
          "output_type": "stream",
          "name": "stdout",
          "text": [
            "[False False False False False]\n"
          ]
        }
      ],
      "source": [
        "#Check whether both the elements are equal\n",
        "x = np.equal(A,B)\n",
        "print(x)"
      ]
    },
    {
      "cell_type": "code",
      "execution_count": null,
      "metadata": {
        "colab": {
          "base_uri": "https://localhost:8080/"
        },
        "id": "Ay2bnUM8UwBm",
        "outputId": "871d6f4f-0c11-4b83-ec6b-2142f0a4cf7e"
      },
      "outputs": [
        {
          "output_type": "execute_result",
          "data": {
            "text/plain": [
              "array([ True,  True,  True,  True,  True])"
            ]
          },
          "metadata": {},
          "execution_count": 6
        }
      ],
      "source": [
        "#Test the type of array element-wise for real number\n",
        "np.isreal(A)"
      ]
    },
    {
      "cell_type": "code",
      "execution_count": null,
      "metadata": {
        "colab": {
          "base_uri": "https://localhost:8080/"
        },
        "id": "QzFFAMgIUwBn",
        "outputId": "9463ac1a-a36b-4fac-fa1c-1200e61504b7"
      },
      "outputs": [
        {
          "output_type": "execute_result",
          "data": {
            "text/plain": [
              "array([False, False, False, False, False])"
            ]
          },
          "metadata": {},
          "execution_count": 7
        }
      ],
      "source": [
        "#Test the type of array element-wise for complex number\n",
        "np.iscomplex(B)"
      ]
    },
    {
      "cell_type": "code",
      "execution_count": null,
      "metadata": {
        "colab": {
          "base_uri": "https://localhost:8080/"
        },
        "id": "CI1D8fbwUwBo",
        "outputId": "8babceac-e34e-4fde-f586-1940e0e2bfc2"
      },
      "outputs": [
        {
          "output_type": "execute_result",
          "data": {
            "text/plain": [
              "array([ True, False,  True,  True,  True])"
            ]
          },
          "metadata": {},
          "execution_count": 8
        }
      ],
      "source": [
        "#Compare if A is greater than B element-wise\n",
        "np.greater(A,B)"
      ]
    },
    {
      "cell_type": "code",
      "execution_count": null,
      "metadata": {
        "colab": {
          "base_uri": "https://localhost:8080/"
        },
        "id": "M9NcLNxRUwBp",
        "outputId": "9446d830-06ff-4744-8cb4-91b9dccbbf4a"
      },
      "outputs": [
        {
          "output_type": "execute_result",
          "data": {
            "text/plain": [
              "array([False,  True, False, False, False])"
            ]
          },
          "metadata": {},
          "execution_count": 9
        }
      ],
      "source": [
        "#Compare if A is lesser than B element-wise\n",
        "np.less(A,B)"
      ]
    },
    {
      "cell_type": "markdown",
      "metadata": {
        "id": "o1P5mOoMUwBp"
      },
      "source": [
        "#### Conclusion: This code demonstrates how to create arrays in numpy and to use different logic functions."
      ]
    }
  ],
  "metadata": {
    "kernelspec": {
      "display_name": "Python 3",
      "language": "python",
      "name": "python3"
    },
    "language_info": {
      "codemirror_mode": {
        "name": "ipython",
        "version": 3
      },
      "file_extension": ".py",
      "mimetype": "text/x-python",
      "name": "python",
      "nbconvert_exporter": "python",
      "pygments_lexer": "ipython3",
      "version": "3.7.3"
    },
    "colab": {
      "name": "1906_m5_demo2_Array Creation and Logic Functions_v1_1.ipynb",
      "provenance": []
    }
  },
  "nbformat": 4,
  "nbformat_minor": 0
}