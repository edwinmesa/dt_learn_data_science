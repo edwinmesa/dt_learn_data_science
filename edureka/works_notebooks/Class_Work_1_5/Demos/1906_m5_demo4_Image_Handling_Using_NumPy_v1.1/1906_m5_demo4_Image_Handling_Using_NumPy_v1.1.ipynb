{
  "nbformat": 4,
  "nbformat_minor": 0,
  "metadata": {
    "colab": {
      "name": "1906_m5_demo4_Image Handling Using NumPy_v1_1.ipynb",
      "provenance": [],
      "collapsed_sections": []
    },
    "kernelspec": {
      "name": "python3",
      "display_name": "Python 3"
    },
    "language_info": {
      "name": "python"
    }
  },
  "cells": [
    {
      "cell_type": "markdown",
      "source": [
        "##Demo 4 - Image Handling Using NumPy\n",
        "\n",
        "In this demo, you will learn about image handling using numpy"
      ],
      "metadata": {
        "id": "hX5BWs6wyJ51"
      }
    },
    {
      "cell_type": "markdown",
      "source": [
        "######Install the necessary package for Image Handling.\n",
        "######Note: In collab, numpy and Pillow will be installed implicitly."
      ],
      "metadata": {
        "id": "GYdm2oydLVj9"
      }
    },
    {
      "cell_type": "code",
      "execution_count": null,
      "metadata": {
        "colab": {
          "base_uri": "https://localhost:8080/"
        },
        "id": "CeVWlETMkXwH",
        "outputId": "559ac40e-1e59-4193-b4e6-e8cf4b6d1fd4"
      },
      "outputs": [
        {
          "output_type": "stream",
          "name": "stdout",
          "text": [
            "Looking in indexes: https://pypi.org/simple, https://us-python.pkg.dev/colab-wheels/public/simple/\n",
            "Requirement already satisfied: numpy in /usr/local/lib/python3.7/dist-packages (1.21.6)\n"
          ]
        }
      ],
      "source": [
        "pip install numpy"
      ]
    },
    {
      "cell_type": "code",
      "source": [
        "pip install Pillow"
      ],
      "metadata": {
        "colab": {
          "base_uri": "https://localhost:8080/"
        },
        "id": "bTQF9Noymbev",
        "outputId": "1ffbf464-5df4-409c-cacc-dab19c963503"
      },
      "execution_count": null,
      "outputs": [
        {
          "output_type": "stream",
          "name": "stdout",
          "text": [
            "Looking in indexes: https://pypi.org/simple, https://us-python.pkg.dev/colab-wheels/public/simple/\n",
            "Requirement already satisfied: Pillow in /usr/local/lib/python3.7/dist-packages (7.1.2)\n"
          ]
        }
      ]
    },
    {
      "cell_type": "code",
      "source": [
        "# Import the necessary libraries\n",
        "import PIL \n",
        "\n",
        "#Check the version of Pillow installed\n",
        "print('Installed Pillow Version:', PIL.__version__)\n",
        "\n",
        "from PIL import Image\n",
        "from numpy import asarray"
      ],
      "metadata": {
        "colab": {
          "base_uri": "https://localhost:8080/"
        },
        "id": "9Q7vf3_gmiw0",
        "outputId": "4fcc7ebd-6ea0-4784-b5b9-16ad5891126f"
      },
      "execution_count": null,
      "outputs": [
        {
          "output_type": "stream",
          "name": "stdout",
          "text": [
            "Installed Pillow Version: 7.1.2\n"
          ]
        }
      ]
    },
    {
      "cell_type": "markdown",
      "source": [
        "Open the image file that you need to handling "
      ],
      "metadata": {
        "id": "8sRBi6YfNSas"
      }
    },
    {
      "cell_type": "code",
      "source": [
        "image = Image.open('AI.png')\n",
        "  \n",
        "# getting thedetails about the image\n",
        "print(image.format)\n",
        "print(image.size)\n",
        "print(image.mode)"
      ],
      "metadata": {
        "colab": {
          "base_uri": "https://localhost:8080/"
        },
        "id": "LWwj-g8empg8",
        "outputId": "86777ec8-d61a-4677-b4af-facdbe331781"
      },
      "execution_count": null,
      "outputs": [
        {
          "output_type": "stream",
          "name": "stdout",
          "text": [
            "PNG\n",
            "(670, 448)\n",
            "RGBA\n"
          ]
        }
      ]
    },
    {
      "cell_type": "code",
      "source": [
        "# load the image and convert into\n",
        "# numpy array\n",
        "img = Image.open('AI.png')\n",
        "\n",
        "# asarray() class is used to convert\n",
        "# PIL images into NumPy arrays\n",
        "numpydata = asarray(img)\n",
        "\n",
        "# <class 'numpy.ndarray'>\n",
        "print(type(numpydata))\n",
        "\n",
        "# shape\n",
        "print(numpydata.shape)\n"
      ],
      "metadata": {
        "colab": {
          "base_uri": "https://localhost:8080/"
        },
        "id": "7OcKV526m1fE",
        "outputId": "8d1cf461-1adc-4b2b-f7fa-488a2691c535"
      },
      "execution_count": null,
      "outputs": [
        {
          "output_type": "stream",
          "name": "stdout",
          "text": [
            "<class 'numpy.ndarray'>\n",
            "(448, 670, 4)\n"
          ]
        }
      ]
    },
    {
      "cell_type": "code",
      "source": [
        "from PIL import Image\n",
        "import numpy\n",
        "\n",
        "\n",
        "img= Image.open(\"AI.png\")\n",
        "np_img = numpy.array(img)\n",
        "\n",
        "print(np_img.shape)"
      ],
      "metadata": {
        "colab": {
          "base_uri": "https://localhost:8080/"
        },
        "id": "ft9nlS_am5h7",
        "outputId": "962bb880-3c96-45bc-c871-c72a7921882f"
      },
      "execution_count": null,
      "outputs": [
        {
          "output_type": "stream",
          "name": "stdout",
          "text": [
            "(448, 670, 4)\n"
          ]
        }
      ]
    },
    {
      "cell_type": "code",
      "source": [
        "# load the image and convert into\n",
        "# numpy array\n",
        "img = Image.open('AI.png')\n",
        "numpydata = asarray(img)\n",
        "\n",
        "# data\n",
        "print(numpydata)"
      ],
      "metadata": {
        "colab": {
          "base_uri": "https://localhost:8080/"
        },
        "id": "34LeVHRpm_Jk",
        "outputId": "730ba42f-536a-40e9-841c-d79dd142988b"
      },
      "execution_count": null,
      "outputs": [
        {
          "output_type": "stream",
          "name": "stdout",
          "text": [
            "[[[ 78  97  38 165]\n",
            "  [ 79  97  39 255]\n",
            "  [ 79  97  39 255]\n",
            "  ...\n",
            "  [ 79  97  39 255]\n",
            "  [ 79  97  39 255]\n",
            "  [ 78  97  38 165]]\n",
            "\n",
            " [[ 79  97  39 255]\n",
            "  [ 79  97  39 255]\n",
            "  [ 79  97  39 255]\n",
            "  ...\n",
            "  [ 79  97  39 255]\n",
            "  [ 79  97  39 255]\n",
            "  [ 79  97  39 255]]\n",
            "\n",
            " [[ 79  97  39 255]\n",
            "  [ 79  97  39 255]\n",
            "  [255 255 255 255]\n",
            "  ...\n",
            "  [255 255 255 255]\n",
            "  [ 79  97  39 255]\n",
            "  [ 79  97  39 255]]\n",
            "\n",
            " ...\n",
            "\n",
            " [[ 79  97  39 255]\n",
            "  [ 79  97  39 255]\n",
            "  [255 255 255 255]\n",
            "  ...\n",
            "  [255 255 255 255]\n",
            "  [ 79  97  39 255]\n",
            "  [ 79  97  39 255]]\n",
            "\n",
            " [[ 79  97  39 255]\n",
            "  [ 79  97  39 255]\n",
            "  [ 79  97  39 255]\n",
            "  ...\n",
            "  [ 79  97  39 255]\n",
            "  [ 79  97  39 255]\n",
            "  [ 79  97  39 255]]\n",
            "\n",
            " [[ 78  97  38 165]\n",
            "  [ 79  97  39 255]\n",
            "  [ 79  97  39 255]\n",
            "  ...\n",
            "  [ 79  97  39 255]\n",
            "  [ 79  97  39 255]\n",
            "  [ 78  97  38 165]]]\n"
          ]
        }
      ]
    },
    {
      "cell_type": "code",
      "source": [
        "# Import the necessary libraries\n",
        "from PIL import Image\n",
        "from numpy import asarray\n",
        "\n",
        "\n",
        "# load the image and convert into\n",
        "# numpy array\n",
        "img = Image.open('AI.png')\n",
        "numpydata = asarray(img)\n",
        "\n",
        "print(type(numpydata))\n",
        "\n",
        "# shape\n",
        "print(numpydata.shape)\n",
        "\n",
        "# Below is the way of creating Pillow\n",
        "# image from our numpyarray\n",
        "pilImage = Image.fromarray(numpydata)\n",
        "print(type(pilImage))\n",
        "\n",
        "# Let us check image details\n",
        "print(pilImage.mode)\n",
        "print(pilImage.size)\n"
      ],
      "metadata": {
        "colab": {
          "base_uri": "https://localhost:8080/"
        },
        "id": "wKtxWd8YnDyL",
        "outputId": "8a54dbb4-11b7-4506-a7c4-747ff4eeddcb"
      },
      "execution_count": null,
      "outputs": [
        {
          "output_type": "stream",
          "name": "stdout",
          "text": [
            "<class 'numpy.ndarray'>\n",
            "(448, 670, 4)\n",
            "<class 'PIL.Image.Image'>\n",
            "RGBA\n",
            "(670, 448)\n"
          ]
        }
      ]
    },
    {
      "cell_type": "markdown",
      "source": [
        "#### Conclusion: This code demonstrates how to perform image handling in numpy."
      ],
      "metadata": {
        "id": "coBAQ1WWQW79"
      }
    }
  ]
}