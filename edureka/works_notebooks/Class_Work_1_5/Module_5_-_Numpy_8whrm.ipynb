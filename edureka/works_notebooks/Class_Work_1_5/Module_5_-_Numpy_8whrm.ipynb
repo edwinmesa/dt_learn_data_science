{
 "cells": [
  {
   "cell_type": "markdown",
   "metadata": {},
   "source": [
    "# Numpy Real world applications"
   ]
  },
  {
   "cell_type": "code",
   "execution_count": 1,
   "metadata": {},
   "outputs": [
    {
     "data": {
      "text/plain": [
       "'\\nWhy NumPy?\\nWhy Use NumPy?\\nIn Python we have lists that serve the purpose of arrays, but they are slow to process.\\nNumPy aims to provide an array object that is up to 50x faster than traditional Python lists.\\nThe array object in NumPy is called ndarray, it provides a lot of supporting functions that make \\nworking with ndarray very easy.\\n\\nApplications -\\n1. Financial functions\\n2. Linear Algebra\\n3. Statistics\\n4. Polynomials\\n5. Sorting, searching etc.\\n\\nMainly used by institutions like - NASA and in Oceanography\\nhttp://ui.adsabs.harvard.edu/abs/2020Natur.585..357H/abstract\\n\\nFor example, in astronomy, NumPy was an important part of the software stack used in the discovery of \\ngravitational waves1 and in the first imaging of a black hole2.\\n'"
      ]
     },
     "execution_count": 1,
     "metadata": {},
     "output_type": "execute_result"
    }
   ],
   "source": [
    "'''\n",
    "Why NumPy?\n",
    "Why Use NumPy?\n",
    "In Python we have lists that serve the purpose of arrays, but they are slow to process.\n",
    "NumPy aims to provide an array object that is up to 50x faster than traditional Python lists.\n",
    "The array object in NumPy is called ndarray, it provides a lot of supporting functions that make \n",
    "working with ndarray very easy.\n",
    "\n",
    "Applications -\n",
    "1. Financial functions\n",
    "2. Linear Algebra\n",
    "3. Statistics\n",
    "4. Polynomials\n",
    "5. Sorting, searching etc.\n",
    "\n",
    "Mainly used by institutions like - NASA and in Oceanography\n",
    "http://ui.adsabs.harvard.edu/abs/2020Natur.585..357H/abstract\n",
    "\n",
    "For example, in astronomy, NumPy was an important part of the software stack used in the discovery of \n",
    "gravitational waves1 and in the first imaging of a black hole2.\n",
    "'''"
   ]
  },
  {
   "cell_type": "markdown",
   "metadata": {},
   "source": [
    "### installing numpy as it is an external library\n",
    "### when using command prompt --> pip install numpy\n",
    "### when installing from jupyter notebook --> ! pip install numpy"
   ]
  },
  {
   "cell_type": "code",
   "execution_count": 2,
   "metadata": {},
   "outputs": [
    {
     "name": "stdout",
     "output_type": "stream",
     "text": [
      "<class 'list'>\n",
      "899 µs ± 12.7 µs per loop (mean ± std. dev. of 7 runs, 1,000 loops each)\n"
     ]
    }
   ],
   "source": [
    "# list vs numpy comparision with respect to speed\n",
    "# ms is millisecond\n",
    "L = list(range(100000))\n",
    "print(type(L))\n",
    "%timeit sum_val = sum(L)"
   ]
  },
  {
   "cell_type": "code",
   "execution_count": 3,
   "metadata": {},
   "outputs": [
    {
     "data": {
      "text/plain": [
       "'\\n%timeit - Time execution of a Python statement or expression\\n'"
      ]
     },
     "execution_count": 3,
     "metadata": {},
     "output_type": "execute_result"
    }
   ],
   "source": [
    "'''\n",
    "%timeit - Time execution of a Python statement or expression\n",
    "'''"
   ]
  },
  {
   "cell_type": "code",
   "execution_count": 4,
   "metadata": {},
   "outputs": [
    {
     "name": "stdout",
     "output_type": "stream",
     "text": [
      "23.4 µs ± 377 ns per loop (mean ± std. dev. of 7 runs, 10,000 loops each)\n"
     ]
    }
   ],
   "source": [
    "# Reason why it is fast is because of homogeneity (the quality or state of being all the same or all of the same kind)\n",
    "# Optimization is easy as all data types are same.\n",
    "# µs is microsecond\n",
    "import numpy as np\n",
    "numpy_L = np.arange(100000)\n",
    "%timeit sum_val = np.sum(numpy_L)"
   ]
  },
  {
   "cell_type": "markdown",
   "metadata": {},
   "source": [
    "# Numpy code examples"
   ]
  },
  {
   "cell_type": "code",
   "execution_count": 59,
   "metadata": {},
   "outputs": [
    {
     "name": "stdout",
     "output_type": "stream",
     "text": [
      "1-D array\n",
      "<class 'numpy.ndarray'>\n",
      "[100 200 300]\n",
      "300\n"
     ]
    }
   ],
   "source": [
    "# Creating numpy arrays of 1-D, 2-D and 3-D dimensions\n",
    "# Syntax : numpy.array([list of numbers])\n",
    "\n",
    "import numpy as np\n",
    "x = np.array([100,200,300])\n",
    "print(\"1-D array\")\n",
    "print(type(x))\n",
    "print(x)\n",
    "print(x[2])"
   ]
  },
  {
   "cell_type": "code",
   "execution_count": 6,
   "metadata": {},
   "outputs": [
    {
     "name": "stdout",
     "output_type": "stream",
     "text": [
      "Number of axes in the array (x.ndim): 1\n"
     ]
    }
   ],
   "source": [
    "print(\"Number of axes in the array (x.ndim):\", x.ndim) # provides the number of axes in the array"
   ]
  },
  {
   "cell_type": "code",
   "execution_count": 7,
   "metadata": {},
   "outputs": [
    {
     "name": "stdout",
     "output_type": "stream",
     "text": [
      "Results into a tuple of integers indicating the size of the array (x.shape): (3,)\n"
     ]
    }
   ],
   "source": [
    "# results into a tuple of integers indicating the size of the array in each dimension\n",
    "print(\"Results into a tuple of integers indicating the size of the array (x.shape):\", x.shape)"
   ]
  },
  {
   "cell_type": "code",
   "execution_count": 8,
   "metadata": {},
   "outputs": [
    {
     "name": "stdout",
     "output_type": "stream",
     "text": [
      "Gives the type of the elements in the array (x.dtype): int32\n"
     ]
    }
   ],
   "source": [
    "# Gives the type of the elements in the array\n",
    "print(\"Gives the type of the elements in the array (x.dtype):\", x.dtype) "
   ]
  },
  {
   "cell_type": "code",
   "execution_count": 9,
   "metadata": {},
   "outputs": [
    {
     "name": "stdout",
     "output_type": "stream",
     "text": [
      "Provides the total number of elements in the array (x.size): 3\n"
     ]
    }
   ],
   "source": [
    "# provides the total number of elements in the array\n",
    "print(\"Provides the total number of elements in the array (x.size):\", x.size) "
   ]
  },
  {
   "cell_type": "code",
   "execution_count": 10,
   "metadata": {},
   "outputs": [
    {
     "name": "stdout",
     "output_type": "stream",
     "text": [
      "Provides the size in bytes of each element of the array (x.itemsize): 4\n"
     ]
    }
   ],
   "source": [
    "# provides the size in bytes of each element of the array\n",
    "print(\"Provides the size in bytes of each element of the array (x.itemsize):\", x.itemsize) "
   ]
  },
  {
   "cell_type": "markdown",
   "metadata": {},
   "source": [
    "### 2-D Array"
   ]
  },
  {
   "cell_type": "code",
   "execution_count": 61,
   "metadata": {},
   "outputs": [
    {
     "name": "stdout",
     "output_type": "stream",
     "text": [
      "Array creating using a list or existing data\n",
      "[[1 2 3]\n",
      " [4 5 6]]\n",
      "Number of axes in the array: 2\n",
      "Shape of the array: (2, 3)\n",
      "Size of the array: 6\n"
     ]
    }
   ],
   "source": [
    "# Creating a 2D array using collection of arrays\n",
    "\n",
    "L = [[1,2,3], [4,5,6]]\n",
    "arr = np.array(L)\n",
    "print('Array creating using a list or existing data')\n",
    "print(arr)\n",
    "print(\"Number of axes in the array:\", arr.ndim) # provides the number of axes in the array\n",
    "print(\"Shape of the array:\", arr.shape)\n",
    "print(\"Size of the array:\", arr.size)"
   ]
  },
  {
   "cell_type": "code",
   "execution_count": 62,
   "metadata": {},
   "outputs": [
    {
     "name": "stdout",
     "output_type": "stream",
     "text": [
      "[[0 0]\n",
      " [0 0]]\n"
     ]
    }
   ],
   "source": [
    "L = [[0,0], [0,0]]\n",
    "arr = np.array(L)\n",
    "print(arr)"
   ]
  },
  {
   "cell_type": "code",
   "execution_count": 63,
   "metadata": {},
   "outputs": [
    {
     "name": "stdout",
     "output_type": "stream",
     "text": [
      "[[1 1]\n",
      " [1 1]]\n"
     ]
    }
   ],
   "source": [
    "L = [[1,1], [1,1]]\n",
    "arr = np.array(L)\n",
    "print(arr)"
   ]
  },
  {
   "cell_type": "code",
   "execution_count": 12,
   "metadata": {},
   "outputs": [
    {
     "name": "stdout",
     "output_type": "stream",
     "text": [
      "Array created using zeros function\n",
      "[[0. 0.]\n",
      " [0. 0.]]\n",
      "Array created using ones function\n",
      "[[1. 1. 1.]\n",
      " [1. 1. 1.]\n",
      " [1. 1. 1.]]\n"
     ]
    }
   ],
   "source": [
    "# Different ways of creating numpy array\n",
    "# In programs we use to initalize a counter to zero, here we use these fns for initialization of the array\n",
    "# using zeros function\n",
    "import numpy as np\n",
    "arr = np.zeros([2,2])\n",
    "print('Array created using zeros function')\n",
    "print(arr)\n",
    "\n",
    "# using ones function\n",
    "arr = np.ones([3,3])\n",
    "print('Array created using ones function')\n",
    "print(arr)"
   ]
  },
  {
   "cell_type": "markdown",
   "metadata": {},
   "source": [
    "### using copy function"
   ]
  },
  {
   "cell_type": "code",
   "execution_count": 65,
   "metadata": {},
   "outputs": [
    {
     "name": "stdout",
     "output_type": "stream",
     "text": [
      "Array created using copy function\n",
      "arr1:\n",
      "[[1 2 3]\n",
      " [4 5 6]]\n",
      "\n",
      "arr2:\n",
      "[[1 2 3]\n",
      " [4 5 6]]\n"
     ]
    }
   ],
   "source": [
    "arr1 = np.array([[1,2,3],[4,5,6]])\n",
    "\n",
    "arr2 = arr1.copy()\n",
    "\n",
    "print('Array created using copy function')\n",
    "print(\"arr1:\")\n",
    "print(arr1)\n",
    "print()\n",
    "\n",
    "print(\"arr2:\")\n",
    "print(arr2)"
   ]
  },
  {
   "cell_type": "code",
   "execution_count": 66,
   "metadata": {},
   "outputs": [
    {
     "name": "stdout",
     "output_type": "stream",
     "text": [
      "4\n",
      "arr1: [[1 2 3]\n",
      " [4 5 6]]\n",
      "\n",
      "arr2: [[   1    2 2900]\n",
      " [1900    5    6]]\n"
     ]
    }
   ],
   "source": [
    "# ARRAYNAME[ROWINDEX][COLUMNINDEX]\n",
    "print(arr2[1][0])\n",
    "\n",
    "arr2[1][0] = 1900\n",
    "arr2[0][2] = 2900\n",
    "\n",
    "print(\"arr1:\", arr1)\n",
    "print()\n",
    "print(\"arr2:\", arr2)"
   ]
  },
  {
   "cell_type": "markdown",
   "metadata": {},
   "source": [
    "### using arange function"
   ]
  },
  {
   "cell_type": "code",
   "execution_count": 67,
   "metadata": {},
   "outputs": [
    {
     "name": "stdout",
     "output_type": "stream",
     "text": [
      "Array created using arange function\n",
      "[ 0  2  4  6  8 10 12 14 16 18]\n",
      "Array created using linspace function\n",
      "[ 0.  5. 10.]\n"
     ]
    }
   ],
   "source": [
    "# syntax: range(start, end+1, steps)\n",
    "# by detault steps = 1\n",
    "import numpy as np\n",
    "arr = np.arange(0, 20, 2)\n",
    "print('Array created using arange function')\n",
    "print(arr)\n",
    "\n",
    "# using linspace function . Break 0 - 10 in (3-1) equal parts\n",
    "arr = np.linspace(0, 10, 3)\n",
    "print('Array created using linspace function')\n",
    "print(arr)"
   ]
  },
  {
   "cell_type": "markdown",
   "metadata": {},
   "source": [
    "### Arithmetic operations on numpy arrays"
   ]
  },
  {
   "cell_type": "code",
   "execution_count": 68,
   "metadata": {},
   "outputs": [
    {
     "name": "stdout",
     "output_type": "stream",
     "text": [
      "Array:\n",
      "[0 1 2 3 4 5 6 7 8 9]\n",
      "Element wise arithmetic operations\n",
      "Add 2 to each element of the array: [ 2  3  4  5  6  7  8  9 10 11]\n",
      "Sub 2 from each element of the array: [-2 -1  0  1  2  3  4  5  6  7]\n",
      "Mult 2 to each element of the array: [ 0  2  4  6  8 10 12 14 16 18]\n",
      "Div by 2 each element of the array: [0.  0.5 1.  1.5 2.  2.5 3.  3.5 4.  4.5]\n",
      "Div 2 to each element of the array to get the quotient: [0 0 1 1 2 2 3 3 4 4]\n",
      "Square each element of the array: [ 0  1  4  9 16 25 36 49 64 81]\n"
     ]
    }
   ],
   "source": [
    "arr = np.arange(10)\n",
    "print(\"Array:\")\n",
    "print(arr)\n",
    "\n",
    "print(\"Element wise arithmetic operations\")\n",
    "print(\"Add 2 to each element of the array:\", arr+2)\n",
    "print(\"Sub 2 from each element of the array:\", arr-2)\n",
    "print(\"Mult 2 to each element of the array:\", arr*2)\n",
    "print(\"Div by 2 each element of the array:\", arr/2)\n",
    "print(\"Div 2 to each element of the array to get the quotient:\", arr//2)\n",
    "print(\"Square each element of the array:\", arr**2)"
   ]
  },
  {
   "cell_type": "code",
   "execution_count": 17,
   "metadata": {},
   "outputs": [
    {
     "name": "stdout",
     "output_type": "stream",
     "text": [
      "[0 1 2 3 4 5 6 7 8 9]\n",
      "[ 2  3  4  5  6  7  8  9 10 11]\n",
      "[ 2  3  4  5  6  7  8  9 10  8]\n"
     ]
    }
   ],
   "source": [
    "arr = np.arange(10)\n",
    "print(arr)\n",
    "arr2 = arr + 2\n",
    "print(arr2)\n",
    "arr2[9] = arr2[3] + 3\n",
    "print(arr2)"
   ]
  },
  {
   "cell_type": "code",
   "execution_count": 18,
   "metadata": {},
   "outputs": [
    {
     "name": "stdout",
     "output_type": "stream",
     "text": [
      "array1:\n",
      "[0 1 2 3 4]\n",
      "array2:\n",
      "[ 6  7  8  9 10]\n",
      "Arithmetic operations\n",
      "Add [ 6  8 10 12 14]\n",
      "Sub [-6 -6 -6 -6 -6]\n",
      "Multiply [ 0  7 16 27 40]\n",
      "Divide [0.         0.14285714 0.25       0.33333333 0.4       ]\n",
      "Raised to [      0       1     256   19683 1048576]\n"
     ]
    }
   ],
   "source": [
    "# Arithmetic operations on two 1-D arrays\n",
    "\n",
    "arr1 = np.arange(5)\n",
    "arr2 = np.arange(6,11)\n",
    "\n",
    "print(\"array1:\")\n",
    "print(arr1)\n",
    "print(\"array2:\")\n",
    "print(arr2)\n",
    "print(\"Arithmetic operations\")\n",
    "print(\"Add\", arr1+arr2)\n",
    "print(\"Sub\", arr1-arr2)\n",
    "print(\"Multiply\", arr1*arr2)\n",
    "print(\"Divide\", arr1/arr2)\n",
    "print(\"Power\", arr1**arr2)"
   ]
  },
  {
   "cell_type": "markdown",
   "metadata": {},
   "source": [
    "### Reshape Function"
   ]
  },
  {
   "cell_type": "code",
   "execution_count": 19,
   "metadata": {},
   "outputs": [
    {
     "name": "stdout",
     "output_type": "stream",
     "text": [
      "[ 0  1  2  3  4  5  6  7  8  9 10 11 12 13 14]\n"
     ]
    }
   ],
   "source": [
    "arr1 = np.arange(15)\n",
    "print(arr1)"
   ]
  },
  {
   "cell_type": "code",
   "execution_count": 69,
   "metadata": {},
   "outputs": [
    {
     "name": "stdout",
     "output_type": "stream",
     "text": [
      "[[ 0  1  2  3  4]\n",
      " [ 5  6  7  8  9]\n",
      " [10 11 12 13 14]]\n"
     ]
    }
   ],
   "source": [
    "arr1 = np.arange(15).reshape(3,5)\n",
    "print(arr1)"
   ]
  },
  {
   "cell_type": "code",
   "execution_count": 70,
   "metadata": {},
   "outputs": [
    {
     "data": {
      "text/plain": [
       "8"
      ]
     },
     "execution_count": 70,
     "metadata": {},
     "output_type": "execute_result"
    }
   ],
   "source": [
    "arr1[1][3]"
   ]
  },
  {
   "cell_type": "code",
   "execution_count": 21,
   "metadata": {},
   "outputs": [
    {
     "name": "stdout",
     "output_type": "stream",
     "text": [
      "array1\n",
      "[[0 1 2]\n",
      " [3 4 5]\n",
      " [6 7 8]]\n",
      "array2\n",
      "[[1. 1. 1.]\n",
      " [1. 1. 1.]\n",
      " [1. 1. 1.]]\n",
      "Arithmetic operations\n",
      "Add [[1. 2. 3.]\n",
      " [4. 5. 6.]\n",
      " [7. 8. 9.]]\n",
      "Sub [[-1.  0.  1.]\n",
      " [ 2.  3.  4.]\n",
      " [ 5.  6.  7.]]\n",
      "Multiply [[0. 1. 2.]\n",
      " [3. 4. 5.]\n",
      " [6. 7. 8.]]\n"
     ]
    }
   ],
   "source": [
    "# Arithmetic operations on two 2-D arrays\n",
    "# reshape function\n",
    "arr1 = np.arange(9).reshape(3,3)\n",
    "arr2 = np.ones([3,3])\n",
    "\n",
    "print(\"array1\")\n",
    "print(arr1)\n",
    "print(\"array2\")\n",
    "print(arr2)\n",
    "print(\"Arithmetic operations\")\n",
    "print(\"Add\", arr1+arr2)\n",
    "print(\"Sub\", arr1-arr2)\n",
    "print(\"Multiply\", arr1*arr2)"
   ]
  },
  {
   "cell_type": "code",
   "execution_count": 71,
   "metadata": {},
   "outputs": [
    {
     "name": "stdout",
     "output_type": "stream",
     "text": [
      "array1\n",
      "[[0 1]\n",
      " [2 3]]\n",
      "array2\n",
      "[[2. 2.]\n",
      " [2. 2.]]\n",
      "matrix multiplication element wise operation\n",
      "[[2. 3.]\n",
      " [4. 5.]]\n"
     ]
    }
   ],
   "source": [
    "# Matric multiplication or dot product\n",
    "# Matrix multiplication rule: the number of columns in first matrix must be equal to number of rows in the second matrix\n",
    "\n",
    "arr1 = np.arange(4).reshape(2,2)\n",
    "arr2 = np.ones([2,2])\n",
    "arr2 = arr2 * 2\n",
    "\n",
    "print(\"array1\")\n",
    "print(arr1)\n",
    "print(\"array2\")\n",
    "print(arr2)\n",
    "\n",
    "print(\"matrix multiplication element wise operation\")\n",
    "print(arr1+arr2)\n",
    "print(arr1*arr2)"
   ]
  },
  {
   "cell_type": "code",
   "execution_count": 23,
   "metadata": {},
   "outputs": [
    {
     "name": "stdout",
     "output_type": "stream",
     "text": [
      "A = \n",
      " [[0 1]\n",
      " [2 3]]\n",
      "B = \n",
      " [[11 12]\n",
      " [13 14]]\n"
     ]
    },
    {
     "data": {
      "text/plain": [
       "array([[13, 14],\n",
       "       [61, 66]])"
      ]
     },
     "execution_count": 23,
     "metadata": {},
     "output_type": "execute_result"
    }
   ],
   "source": [
    "# Matrix Product: the dot method (show in excel)\n",
    "\n",
    "a = np.arange(4).reshape(2,2)\n",
    "print(\"A = \\n\", a)\n",
    "b = np.array([[11,12],[13,14]]) \n",
    "print(\"B = \\n\", b)\n",
    "np.dot(a,b)"
   ]
  },
  {
   "cell_type": "code",
   "execution_count": 24,
   "metadata": {},
   "outputs": [
    {
     "name": "stdout",
     "output_type": "stream",
     "text": [
      "Array1\n",
      "[[0 1]\n",
      " [2 3]]\n",
      "Array2\n",
      "[[1 2]\n",
      " [3 4]]\n",
      "Universal Math functions\n",
      "Add :  [[1 3]\n",
      " [5 7]]\n",
      "Sub :  [[-1 -1]\n",
      " [-1 -1]]\n",
      "Divide :  [[       inf 2.        ]\n",
      " [1.5        1.33333333]]\n",
      "Multiply :  [[ 0  2]\n",
      " [ 6 12]]\n",
      "Power :  [[ 0  1]\n",
      " [ 8 81]]\n",
      "Sq Root of arr1: \n",
      " [[0.         1.        ]\n",
      " [1.41421356 1.73205081]]\n",
      "Log :  [[0.         0.69314718]\n",
      " [1.09861229 1.38629436]]\n",
      "Array3\n",
      "[[16 25]\n",
      " [ 9  4]]\n",
      "Sq Root of arr3: \n",
      " [[4. 5.]\n",
      " [3. 2.]]\n"
     ]
    },
    {
     "name": "stderr",
     "output_type": "stream",
     "text": [
      "C:\\Users\\knsab\\AppData\\Local\\Temp\\ipykernel_9840\\521639821.py:14: RuntimeWarning: divide by zero encountered in divide\n",
      "  print(\"Divide : \", np.divide(arr2, arr1)) # arr2 / arr1\n"
     ]
    }
   ],
   "source": [
    "# Universal functions - https://docs.scipy.org/doc/numpy/reference/ufuncs.html#math-operations\n",
    "# Universal functions - Arithmetic or Math functions\n",
    "\n",
    "arr1 = np.arange(4).reshape(2,2)\n",
    "arr2 = np.array([[1,2],[3,4]])\n",
    "\n",
    "print(\"Array1\")\n",
    "print(arr1)\n",
    "print(\"Array2\")\n",
    "print(arr2)\n",
    "print(\"Universal Math functions\")\n",
    "print(\"Add : \", np.add(arr1, arr2)) # arr1+arr2\n",
    "print(\"Sub : \", np.subtract(arr1, arr2)) # arr1 - arr2\n",
    "print(\"Divide : \", np.divide(arr2, arr1)) # arr2 / arr1\n",
    "print(\"Multiply : \", np.multiply(arr1, arr2)) # arr1 * arr2\n",
    "print(\"Power : \", np.power(arr1, arr2)) # arr1 ** arr2\n",
    "\n",
    "print(\"Sq Root of arr1: \\n\", np.sqrt(arr1))\n",
    "print(\"Log : \", np.log(arr2))\n",
    "\n",
    "arr3 = np.array([[16, 25],[9, 4]])\n",
    "print(\"Array3\")\n",
    "print(arr3)\n",
    "print(\"Sq Root of arr3: \\n\", np.sqrt(arr3))"
   ]
  },
  {
   "cell_type": "code",
   "execution_count": 25,
   "metadata": {},
   "outputs": [
    {
     "name": "stdout",
     "output_type": "stream",
     "text": [
      "Array1\n",
      "[[0 1]\n",
      " [2 3]]\n",
      "Universal Trigonometric functions\n",
      "[[0.         0.84147098]\n",
      " [0.90929743 0.14112001]]\n",
      "[[ 1.          0.54030231]\n",
      " [-0.41614684 -0.9899925 ]]\n",
      "[[ 0.          1.55740772]\n",
      " [-2.18503986 -0.14254654]]\n"
     ]
    }
   ],
   "source": [
    "# Universal functions - Trigonometric functions\n",
    "\n",
    "arr1 = np.arange(4).reshape(2,2)\n",
    "\n",
    "print(\"Array1\")\n",
    "print(arr1)\n",
    "print(\"Universal Trigonometric functions\")\n",
    "print(np.sin(arr1))\n",
    "print(np.cos(arr1))\n",
    "print(np.tan(arr1))"
   ]
  },
  {
   "cell_type": "code",
   "execution_count": 74,
   "metadata": {},
   "outputs": [
    {
     "name": "stdout",
     "output_type": "stream",
     "text": [
      "Array1 [1 4 3]\n",
      "Array2 [3 4 5]\n",
      "Universal Comparison functions\n",
      "[False False False]\n",
      "[False  True False]\n",
      "[ True False  True]\n",
      "[ True  True  True]\n",
      "[False  True False]\n",
      "[ True False  True]\n"
     ]
    }
   ],
   "source": [
    "# Universal functions - Comparision functions\n",
    "# comparision functions always result with True or False values. \n",
    "\n",
    "arr1 = np.array([1, 4, 3])\n",
    "arr2 = np.array([3, 4, 5])\n",
    "\n",
    "print(\"Array1\", arr1)\n",
    "print(\"Array2\", arr2)\n",
    "print(\"Universal Comparison functions\")\n",
    "print(np.greater(arr1, arr2)) # >\n",
    "print(np.greater_equal(arr1, arr2)) # >=\n",
    "print(np.less(arr1, arr2)) # <\n",
    "print(np.less_equal(arr1, arr2)) # <= \n",
    "print(np.equal(arr1, arr2)) # ==\n",
    "print(np.not_equal(arr1, arr2)) # !="
   ]
  },
  {
   "cell_type": "code",
   "execution_count": 27,
   "metadata": {},
   "outputs": [
    {
     "name": "stdout",
     "output_type": "stream",
     "text": [
      "2\n",
      "[0 1 2 3 4 0 1]\n"
     ]
    }
   ],
   "source": [
    "# Universal functions - mod()\n",
    "# Explaination - It returns element-wise remainder of division between two array arr1 and arr2 \n",
    "# i.e. arr1 % arr2 .It returns 0 when arr2 is 0 and both arr1 and arr2 are (arrays of) integers.\n",
    "\n",
    "import numpy as np\n",
    "x = np.mod(6,4) # 6/4 = Q = 1 R = 2\n",
    "print(x)\n",
    "\n",
    "x = np.mod(np.arange(7),5) # = (0/5, 1/5, 2/5, 3/5, 4/5, 5/5, 6/5)\n",
    "print(x)"
   ]
  },
  {
   "cell_type": "code",
   "execution_count": 28,
   "metadata": {},
   "outputs": [
    {
     "name": "stdout",
     "output_type": "stream",
     "text": [
      "[  0.   1. -inf]\n"
     ]
    },
    {
     "name": "stderr",
     "output_type": "stream",
     "text": [
      "C:\\Users\\knsab\\AppData\\Local\\Temp\\ipykernel_9840\\1907883935.py:5: RuntimeWarning: divide by zero encountered in log\n",
      "  x = np.log([1,np.e,0])\n"
     ]
    }
   ],
   "source": [
    "# Universal functions - log()\n",
    "# Explaination\n",
    "\n",
    "import numpy as np\n",
    "x = np.log([1,np.e,0])\n",
    "print(x)"
   ]
  },
  {
   "cell_type": "code",
   "execution_count": 29,
   "metadata": {},
   "outputs": [
    {
     "name": "stdout",
     "output_type": "stream",
     "text": [
      "5.0\n"
     ]
    }
   ],
   "source": [
    "import numpy as np\n",
    "Base = 3\n",
    "Height = 4\n",
    "Hypotenuse = np.hypot(Base, Height)\n",
    "print(Hypotenuse)"
   ]
  },
  {
   "cell_type": "code",
   "execution_count": 30,
   "metadata": {},
   "outputs": [
    {
     "name": "stdout",
     "output_type": "stream",
     "text": [
      "Array: [1 2 3 4 5 6 7 8 9]\n",
      "Aggregate functions\n",
      "Sum: 45\n",
      "Mean: 5.0\n",
      "Min: 1\n",
      "Max: 9\n"
     ]
    }
   ],
   "source": [
    "# Aggregate functions - https://docs.scipy.org/doc/numpy-1.13.0/reference/routines.statistics.html\n",
    "import numpy as np\n",
    "\n",
    "arr = np.arange(1,10)\n",
    "print(\"Array:\", arr)\n",
    "\n",
    "print(\"Aggregate functions\")\n",
    "print(\"Sum:\",arr.sum())\n",
    "print(\"Mean:\",arr.mean()) # sum divide by number of values = 45/9\n",
    "print(\"Min:\",arr.min())\n",
    "print(\"Max:\",arr.max())"
   ]
  },
  {
   "cell_type": "code",
   "execution_count": 76,
   "metadata": {},
   "outputs": [
    {
     "name": "stdout",
     "output_type": "stream",
     "text": [
      "All function examples\n",
      "2d-Array: [[False  True]\n",
      " [ True  True]]\n",
      "\n",
      "Result:\n"
     ]
    },
    {
     "data": {
      "text/plain": [
       "False"
      ]
     },
     "execution_count": 76,
     "metadata": {},
     "output_type": "execute_result"
    }
   ],
   "source": [
    "# Logic functions - Testing Truth value\n",
    "# all => if all the elements are true then the resultant will be true\n",
    "# any => if any of the elements are true then the resultant will be true\n",
    "# numpy.all(array, axis = None, out = None, keepdims = <NoValue>)\n",
    "\n",
    "import numpy as np\n",
    "\n",
    "print(\"All function examples\")\n",
    "x = [[False,True],[True,True]]\n",
    "\n",
    "print(\"2d-Array:\", np.array(x))\n",
    "print()\n",
    "print(\"Result:\")\n",
    "np.all((x))"
   ]
  },
  {
   "cell_type": "code",
   "execution_count": 32,
   "metadata": {},
   "outputs": [
    {
     "name": "stdout",
     "output_type": "stream",
     "text": [
      "[ True  True]\n"
     ]
    }
   ],
   "source": [
    "# Any Logic fucntion - show explaination in excel\n",
    "# axis 0 checks columnswise where as axis =1 checks rowwise \n",
    "\n",
    "print(np.any([[False,False],[True,True]], axis=0))"
   ]
  },
  {
   "cell_type": "code",
   "execution_count": 33,
   "metadata": {},
   "outputs": [
    {
     "name": "stdout",
     "output_type": "stream",
     "text": [
      "[ True  True  True False False False]\n",
      "[ True  True  True False]\n"
     ]
    }
   ],
   "source": [
    "# Logic functions - Testing Array Type\n",
    "\n",
    "# complex number: a + ij\n",
    "print(np.iscomplex([2+1j, 3+5j, 4+8j, 4, 5 + 0j, 6.5]))\n",
    "print(np.isreal([1,2,3.5,2+1j])) # by default numbers stored are float => 1 -> 1.0"
   ]
  },
  {
   "cell_type": "code",
   "execution_count": 77,
   "metadata": {},
   "outputs": [
    {
     "name": "stdout",
     "output_type": "stream",
     "text": [
      "1-D array\n",
      "----------\n",
      "arr : [11 12 13 14 15]\n",
      "Index 2: 13\n",
      "Index -5: 11\n",
      "Index 4: 15\n"
     ]
    }
   ],
   "source": [
    "# Indexing on 1-d, 2-d\n",
    "\n",
    "import numpy as np\n",
    "\n",
    "# indexing on 1 dimensional array\n",
    "arr = np.array([11,12,13,14,15])\n",
    "# index =        0  1  2  3  4\n",
    "\n",
    "print(\"1-D array\")\n",
    "print(\"-\"*10)\n",
    "print(\"arr :\", arr)\n",
    "print(\"Index 2:\", arr[2])\n",
    "print(\"Index -5:\", arr[-5])\n",
    "print(\"Index 4:\", arr[len(arr)-1]) # same as above statement"
   ]
  },
  {
   "cell_type": "code",
   "execution_count": 78,
   "metadata": {},
   "outputs": [
    {
     "name": "stdout",
     "output_type": "stream",
     "text": [
      "2-D array\n",
      "----------\n",
      "[[0 1 2]\n",
      " [3 4 5]\n",
      " [6 7 8]]\n",
      "4\n",
      "8\n"
     ]
    }
   ],
   "source": [
    "# indexing on 2 dimensional array\n",
    "arr = np.arange(9).reshape(3,3)\n",
    "print(\"2-D array\")\n",
    "print(\"-\"*10)\n",
    "print(arr)\n",
    "# Syntax arrayname[row index][column index]\n",
    "print(arr[1,1])\n",
    "print(arr[2][2]) # same as above statement"
   ]
  },
  {
   "cell_type": "code",
   "execution_count": 81,
   "metadata": {},
   "outputs": [
    {
     "name": "stdout",
     "output_type": "stream",
     "text": [
      "[[12 10]\n",
      " [23 90]]\n"
     ]
    }
   ],
   "source": [
    "# Fancy Indexing - Slide 52\n",
    "# Values:  3,78,23,12,90,10,45,56\n",
    "# Indexes: 0, 1, 2, 3, 4, 5, 6, 7\n",
    "\n",
    "import numpy as np\n",
    "a = np.array([3,78,23,12,90,10,45,56])\n",
    "ind = np.array([[3,5],[2,4]])\n",
    "print(a[ind])\n",
    "b = a[ind]"
   ]
  },
  {
   "cell_type": "code",
   "execution_count": 82,
   "metadata": {},
   "outputs": [
    {
     "data": {
      "text/plain": [
       "12"
      ]
     },
     "execution_count": 82,
     "metadata": {},
     "output_type": "execute_result"
    }
   ],
   "source": [
    "b[0][0]"
   ]
  },
  {
   "cell_type": "code",
   "execution_count": 89,
   "metadata": {},
   "outputs": [
    {
     "name": "stdout",
     "output_type": "stream",
     "text": [
      "Original array:  [21 22 23 24 25 26 27 28 29 30]\n",
      "1-D Slicing operations\n",
      "[26 28]\n",
      "\n"
     ]
    }
   ],
   "source": [
    "# Slicing 1-D array\n",
    "\n",
    "import numpy as np \n",
    "\n",
    "arr = np.arange(21,31)\n",
    "print('Original array: ', arr)\n",
    "\n",
    "print('1-D Slicing operations')\n",
    "print(arr[5:9:2]) # same as above statement\n",
    "print()"
   ]
  },
  {
   "cell_type": "code",
   "execution_count": 92,
   "metadata": {},
   "outputs": [
    {
     "name": "stdout",
     "output_type": "stream",
     "text": [
      "Original 2d array:\n",
      "[[ 0  1  2  3  4]\n",
      " [ 6  7  8  9 10]]\n",
      "Multi-Dimensional Slicing operations\n",
      "[[0 1]]\n"
     ]
    }
   ],
   "source": [
    "import numpy as np \n",
    "\n",
    "# slicing on 2-d array\n",
    "arr = np.array([np.arange(5), np.arange(6,11)])\n",
    "print('Original 2d array:')\n",
    "print(arr)\n",
    "print('Multi-Dimensional Slicing operations')\n",
    "print(arr[0:1, 0:2]) # arr[row, columns] => get me array of 0 and 1 rows with their column as 2 and 3\n",
    "# Row 0 & 1 (0:2) , Col 0 , 1 , 2 (0:3)"
   ]
  },
  {
   "cell_type": "code",
   "execution_count": 93,
   "metadata": {},
   "outputs": [
    {
     "name": "stdout",
     "output_type": "stream",
     "text": [
      "[2 3]\n"
     ]
    }
   ],
   "source": [
    "print(arr[0,2:4]) # slice first row , columns 2 & 3"
   ]
  },
  {
   "cell_type": "code",
   "execution_count": 39,
   "metadata": {},
   "outputs": [
    {
     "name": "stdout",
     "output_type": "stream",
     "text": [
      "Original array\n",
      "==========\n",
      "[[0 1 2]\n",
      " [3 4 5]\n",
      " [6 7 8]]\n",
      "Array elements are\n",
      "==========\n",
      "0\n",
      "1\n",
      "2\n",
      "3\n",
      "4\n",
      "5\n",
      "6\n",
      "7\n",
      "8\n"
     ]
    }
   ],
   "source": [
    "# Iterating on numpy array\n",
    "# for counter_variable in np.nditer(array):\n",
    "#               print(counter_variable) \n",
    "\n",
    "import numpy as np\n",
    "\n",
    "arr = np.arange(9).reshape(3,3)\n",
    "print('Original array')\n",
    "print('='*10)\n",
    "print(arr)\n",
    "\n",
    "print('Array elements are')\n",
    "print('='*10)\n",
    "# accessing each element of the array\n",
    "for i in np.nditer(arr):\n",
    "    print(i)"
   ]
  },
  {
   "cell_type": "markdown",
   "metadata": {},
   "source": [
    "### Array Manipulation"
   ]
  },
  {
   "cell_type": "code",
   "execution_count": 2,
   "metadata": {},
   "outputs": [
    {
     "name": "stdout",
     "output_type": "stream",
     "text": [
      "[[1 2 3]\n",
      " [4 5 6]]\n",
      "After converting using ravel function\n",
      "==========\n",
      "[1 2 3 4 5 6]\n"
     ]
    }
   ],
   "source": [
    "# Ravel example - converts 2D/3D array to 1D array\n",
    "import numpy as np\n",
    "arr1 = np.array([[1,2,3],[4,5,6]])\n",
    "print(arr1)\n",
    "\n",
    "arr1 = arr1.ravel() # to convert a n-D array to 1-D array\n",
    "print('After converting using ravel function')\n",
    "print('='*10)\n",
    "print(arr1)"
   ]
  },
  {
   "cell_type": "code",
   "execution_count": 42,
   "metadata": {},
   "outputs": [
    {
     "name": "stdout",
     "output_type": "stream",
     "text": [
      "\n",
      "Original array\n",
      "==========\n",
      "[[1 2 3]\n",
      " [4 5 6]]\n",
      "After converting using transpose function\n",
      "==========\n",
      "[[1 4]\n",
      " [2 5]\n",
      " [3 6]]\n"
     ]
    }
   ],
   "source": [
    "# Transpose Example - inverts columns to rows\n",
    "\n",
    "arr1 = np.array([[1,2,3],[4,5,6]])\n",
    "print('\\nOriginal array')\n",
    "print('='*10)\n",
    "print(arr1)\n",
    "arr2 = np.transpose(arr1)\n",
    "\n",
    "print('After converting using transpose function')\n",
    "print('='*10)\n",
    "print(arr2)"
   ]
  },
  {
   "cell_type": "code",
   "execution_count": 3,
   "metadata": {},
   "outputs": [
    {
     "name": "stdout",
     "output_type": "stream",
     "text": [
      "arr1:  [[1 2]\n",
      " [3 4]]\n",
      "\n",
      "\n",
      "arr2:  [[ 8 10]]\n",
      "row wise addition with another array - rowwise cat\n",
      "[[ 1  2]\n",
      " [ 3  4]\n",
      " [ 8 10]]\n",
      "********************\n",
      "[[ 1  2  8]\n",
      " [ 3  4 10]]\n"
     ]
    }
   ],
   "source": [
    "# Joining arrays\n",
    "\n",
    "# Using Concatenate function - Both arrays want to concatenate must be of the same dimensions\n",
    "\n",
    "import numpy as np\n",
    "\n",
    "arr1 = np.array([[1,2],[3,4]])\n",
    "arr2 = np.array([[8, 10]])\n",
    "\n",
    "print(\"arr1: \", arr1)\n",
    "print(\"\\n\")\n",
    "print(\"arr2: \", arr2)\n",
    "\n",
    "\n",
    "print(\"row wise addition with another array - rowwise cat\")\n",
    "print(np.concatenate((arr1, arr2))) # by default axis = 0 is considered\n",
    "print('*'*20)\n",
    "print(np.concatenate((arr1, arr2.T), axis = 1)) # same as above statement"
   ]
  },
  {
   "cell_type": "code",
   "execution_count": 44,
   "metadata": {},
   "outputs": [
    {
     "name": "stdout",
     "output_type": "stream",
     "text": [
      "column wise addition with another array - columnwise cat\n",
      "[[ 1  3  8]\n",
      " [ 2  4 10]]\n"
     ]
    }
   ],
   "source": [
    "print(\"column wise addition with another array - columnwise cat\")\n",
    "print(np.concatenate((arr1.T, arr2.T), axis = 1))"
   ]
  },
  {
   "cell_type": "code",
   "execution_count": 45,
   "metadata": {},
   "outputs": [
    {
     "name": "stdout",
     "output_type": "stream",
     "text": [
      "None returns the multi-dimensional array in 1D array:\n",
      "[ 1  2  3  4  8 10]\n"
     ]
    }
   ],
   "source": [
    "print(\"None returns the multi-dimensional array in 1D array:\")\n",
    "print(np.concatenate((arr1, arr2), axis = None))"
   ]
  },
  {
   "cell_type": "code",
   "execution_count": 46,
   "metadata": {},
   "outputs": [],
   "source": [
    "# Joining arrays using stack, column_stack, hstack and vstack\n",
    "# Self Explainatory on Slide...62, 63"
   ]
  },
  {
   "cell_type": "markdown",
   "metadata": {},
   "source": [
    "### splitting arrays - split(), hsplit() and vsplit()"
   ]
  },
  {
   "cell_type": "code",
   "execution_count": 4,
   "metadata": {},
   "outputs": [
    {
     "name": "stdout",
     "output_type": "stream",
     "text": [
      "\n",
      "Original array\n",
      "[10 20 30 40 50 60 70 80]\n",
      "Array split\n",
      "[array([10, 20]), array([30, 40]), array([50, 60]), array([70, 80])]\n"
     ]
    }
   ],
   "source": [
    "arr = np.array([10,20,30,40,50,60,70,80])\n",
    "# indexes        0  1  2  3  4  5  6  7\n",
    "\n",
    "print('\\nOriginal array')\n",
    "print(arr)\n",
    "print('Array split')\n",
    "print(np.split(arr, 4)) # splits the array into four subarrays of equal dimensions"
   ]
  },
  {
   "cell_type": "code",
   "execution_count": 5,
   "metadata": {},
   "outputs": [
    {
     "data": {
      "text/plain": [
       "20"
      ]
     },
     "execution_count": 5,
     "metadata": {},
     "output_type": "execute_result"
    }
   ],
   "source": [
    "arr1,arr2,arr3,arr4 = np.split(arr, 4)\n",
    "arr1[1]"
   ]
  },
  {
   "cell_type": "code",
   "execution_count": 8,
   "metadata": {},
   "outputs": [
    {
     "data": {
      "text/plain": [
       "numpy.ndarray"
      ]
     },
     "execution_count": 8,
     "metadata": {},
     "output_type": "execute_result"
    }
   ],
   "source": [
    "type(arr2)"
   ]
  },
  {
   "cell_type": "code",
   "execution_count": 9,
   "metadata": {},
   "outputs": [
    {
     "data": {
      "text/plain": [
       "30"
      ]
     },
     "execution_count": 9,
     "metadata": {},
     "output_type": "execute_result"
    }
   ],
   "source": [
    "arr2[0]"
   ]
  },
  {
   "cell_type": "code",
   "execution_count": 50,
   "metadata": {},
   "outputs": [
    {
     "data": {
      "text/plain": [
       "array([50, 60])"
      ]
     },
     "execution_count": 50,
     "metadata": {},
     "output_type": "execute_result"
    }
   ],
   "source": [
    "arr3"
   ]
  },
  {
   "cell_type": "code",
   "execution_count": 51,
   "metadata": {},
   "outputs": [
    {
     "data": {
      "text/plain": [
       "array([70, 80])"
      ]
     },
     "execution_count": 51,
     "metadata": {},
     "output_type": "execute_result"
    }
   ],
   "source": [
    "arr4"
   ]
  },
  {
   "cell_type": "code",
   "execution_count": 11,
   "metadata": {},
   "outputs": [
    {
     "data": {
      "text/plain": [
       "array([10, 20, 30, 40])"
      ]
     },
     "execution_count": 11,
     "metadata": {},
     "output_type": "execute_result"
    }
   ],
   "source": [
    "# splits the array based on list of indices provided\n",
    "b,c = np.split(arr, 2)\n",
    "b"
   ]
  },
  {
   "cell_type": "code",
   "execution_count": 13,
   "metadata": {},
   "outputs": [
    {
     "data": {
      "text/plain": [
       "array([50, 60, 70, 80])"
      ]
     },
     "execution_count": 13,
     "metadata": {},
     "output_type": "execute_result"
    }
   ],
   "source": [
    "c"
   ]
  },
  {
   "cell_type": "code",
   "execution_count": 12,
   "metadata": {},
   "outputs": [
    {
     "data": {
      "text/plain": [
       "70"
      ]
     },
     "execution_count": 12,
     "metadata": {},
     "output_type": "execute_result"
    }
   ],
   "source": [
    "c[2]"
   ]
  },
  {
   "cell_type": "code",
   "execution_count": 54,
   "metadata": {},
   "outputs": [
    {
     "name": "stdout",
     "output_type": "stream",
     "text": [
      "\n",
      "Original array\n",
      "[[ 0  1  2  3]\n",
      " [ 4  5  6  7]\n",
      " [ 8  9 10 11]\n",
      " [12 13 14 15]]\n",
      "Array split using hsplit\n",
      "[array([[ 0],\n",
      "       [ 4],\n",
      "       [ 8],\n",
      "       [12]]), array([[ 1],\n",
      "       [ 5],\n",
      "       [ 9],\n",
      "       [13]]), array([[ 2],\n",
      "       [ 6],\n",
      "       [10],\n",
      "       [14]]), array([[ 3],\n",
      "       [ 7],\n",
      "       [11],\n",
      "       [15]])]\n"
     ]
    }
   ],
   "source": [
    "# splitting arrays - split(), hsplit() and vsplit()\n",
    "\n",
    "arr = np.arange(16).reshape(4,4)\n",
    "print('\\nOriginal array')\n",
    "print(arr)\n",
    "print('Array split using hsplit')\n",
    "print(np.hsplit(arr, 4)) # splits the array into multiple sub-arrays horizontally (column wise)"
   ]
  },
  {
   "cell_type": "code",
   "execution_count": 14,
   "metadata": {},
   "outputs": [
    {
     "name": "stdout",
     "output_type": "stream",
     "text": [
      "\n",
      "Original array\n",
      "[[ 0  1  2  3]\n",
      " [ 4  5  6  7]\n",
      " [ 8  9 10 11]\n",
      " [12 13 14 15]]\n",
      "\n",
      "\n",
      "Array split using vsplit\n",
      "[array([[0, 1, 2, 3],\n",
      "       [4, 5, 6, 7]]), array([[ 8,  9, 10, 11],\n",
      "       [12, 13, 14, 15]])]\n",
      "\n",
      "\n",
      "[array([[0, 1, 2, 3],\n",
      "       [4, 5, 6, 7]]), array([[ 8,  9, 10, 11],\n",
      "       [12, 13, 14, 15]])]\n"
     ]
    }
   ],
   "source": [
    "# splitting arrays - split(), hsplit() and vsplit()\n",
    "arr = np.arange(16).reshape(4,4)\n",
    "print('\\nOriginal array')\n",
    "print(arr)\n",
    "print(\"\\n\")\n",
    "print('Array split using vsplit') \n",
    "print(np.vsplit(arr,2)) # splits the array into multiple sub-arrays vertically (row wise)\n",
    "print(\"\\n\")\n",
    "arr_out = np.vsplit(arr,2)\n",
    "print(arr_out)"
   ]
  },
  {
   "cell_type": "markdown",
   "metadata": {},
   "source": [
    "### File operations in numpy"
   ]
  },
  {
   "cell_type": "code",
   "execution_count": 15,
   "metadata": {},
   "outputs": [
    {
     "name": "stdout",
     "output_type": "stream",
     "text": [
      "[0 1 2 3 4 5 6 7 8 9]\n"
     ]
    }
   ],
   "source": [
    "import numpy as np\n",
    "\n",
    "arr = np.arange(10)\n",
    "print(arr)\n",
    "\n",
    "fp = open('file_bin.npy', 'wb+')\n",
    "np.save(fp, arr) # save the numpy array into file_bin.npy file "
   ]
  },
  {
   "cell_type": "code",
   "execution_count": 16,
   "metadata": {},
   "outputs": [
    {
     "name": "stdout",
     "output_type": "stream",
     "text": [
      "[0 1 2 3 4 5 6 7 8 9]\n"
     ]
    }
   ],
   "source": [
    "fp = open('file_bin.npy', 'rb+')\n",
    "fp.seek(0)\n",
    "arr = np.load(fp) # loads the file\n",
    "print(arr)"
   ]
  },
  {
   "cell_type": "code",
   "execution_count": 17,
   "metadata": {},
   "outputs": [
    {
     "data": {
      "text/plain": [
       "0"
      ]
     },
     "execution_count": 17,
     "metadata": {},
     "output_type": "execute_result"
    }
   ],
   "source": [
    "arr[0]"
   ]
  },
  {
   "cell_type": "code",
   "execution_count": 21,
   "metadata": {},
   "outputs": [
    {
     "name": "stdout",
     "output_type": "stream",
     "text": [
      "[[ 0  1  2  3]\n",
      " [ 4  5  6  7]\n",
      " [ 8  9 10 11]\n",
      " [12 13 14 15]]\n",
      "\n",
      "\n"
     ]
    }
   ],
   "source": [
    "# File operations in numpy\n",
    "\n",
    "import numpy as np\n",
    "\n",
    "arr = np.arange(16).reshape(4,4)\n",
    "print(arr)\n",
    "print(\"\\n\")\n",
    "np.savetxt('file_2.txt', arr, delimiter = ':', fmt='%0.1f') # save the numpy array into file_2.txt file \n",
    "# %d is used so that only decimal part is written to the file.\n"
   ]
  },
  {
   "cell_type": "code",
   "execution_count": 22,
   "metadata": {},
   "outputs": [
    {
     "name": "stdout",
     "output_type": "stream",
     "text": [
      "the file contains:\n",
      "0:1:2:3\n",
      "4:5:6:7\n",
      "8:9:10:11\n",
      "12:13:14:15\n",
      "\n"
     ]
    }
   ],
   "source": [
    "fp = open(\"file_2.txt\", 'r')# open file in read mode\n",
    "  \n",
    "print(\"the file contains:\")\n",
    "print(fp.read())"
   ]
  },
  {
   "cell_type": "code",
   "execution_count": null,
   "metadata": {},
   "outputs": [],
   "source": []
  }
 ],
 "metadata": {
  "kernelspec": {
   "display_name": "tensf",
   "language": "python",
   "name": "python3"
  },
  "language_info": {
   "codemirror_mode": {
    "name": "ipython",
    "version": 3
   },
   "file_extension": ".py",
   "mimetype": "text/x-python",
   "name": "python",
   "nbconvert_exporter": "python",
   "pygments_lexer": "ipython3",
   "version": "3.10.8"
  },
  "vscode": {
   "interpreter": {
    "hash": "3e313d1f24da57a081eee6b594756086e5e54161d7342791616a06970af18016"
   }
  }
 },
 "nbformat": 4,
 "nbformat_minor": 4
}
