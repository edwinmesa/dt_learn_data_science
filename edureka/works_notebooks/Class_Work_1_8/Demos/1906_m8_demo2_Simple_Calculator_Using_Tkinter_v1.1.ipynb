{
  "cells": [
    {
      "cell_type": "markdown",
      "metadata": {
        "id": "T1uMcy07PN_Q"
      },
      "source": [
        "##Demo 2: Simple Calculator Using Tkinter\n",
        "\n",
        "In this demo, you will learn to develop the simple calculator application using Tkinter."
      ]
    },
    {
      "cell_type": "markdown",
      "metadata": {
        "id": "LYKEHF2JT9EE"
      },
      "source": [
        "Importing the required libraries"
      ]
    },
    {
      "cell_type": "code",
      "execution_count": null,
      "metadata": {
        "id": "HVaKVWzuT8dN"
      },
      "outputs": [],
      "source": [
        "import tkinter as tk\n",
        "from tkinter import *\n",
        "\n",
        "#Creating GUI window\n",
        "root = tk.Tk()"
      ]
    },
    {
      "cell_type": "markdown",
      "metadata": {
        "id": "UHhxdpUvIGfF"
      },
      "source": [
        "Initializing dimension and providing a title name"
      ]
    },
    {
      "cell_type": "code",
      "execution_count": null,
      "metadata": {
        "id": "mWvm83lQIHC5"
      },
      "outputs": [],
      "source": [
        "root.geometry(\"300x300\")\n",
        "root.title(\"Calculator\")\n",
        "root.maxsize(170,230)\n",
        "root.minsize(170,230)"
      ]
    },
    {
      "cell_type": "markdown",
      "metadata": {
        "id": "bdZj00SRI6dx"
      },
      "source": [
        " Using the Entry widget creates an input box for our calculator which is invariable “ent” and Entry takes arguments as parent container which id “root” here.\n",
        " The output will be displayed here."
      ]
    },
    {
      "cell_type": "code",
      "execution_count": null,
      "metadata": {
        "id": "qXxOnSNQIaL5"
      },
      "outputs": [],
      "source": [
        "ent = Entry(root, width=16, borderwidth=3, relief=RIDGE)\n",
        "\n",
        "#Creating 2-d table on the window using grid geometry \n",
        "ent.grid(pady=10,row=0,sticky=\"w\",padx=15)"
      ]
    },
    {
      "cell_type": "markdown",
      "metadata": {
        "id": "7Gwaua_zJsXR"
      },
      "source": [
        "1.   Defining delete() function is used to delete the inserted input character by character.\n",
        "2.   Defining fresult() function  is the final result and which will be called when the user asks for it and in the next line we have used is get method to get the value of what is in the “ent” input box.\n",
        "3.   Defining clearf() function is used when a user calls a clear function to clean the input box and in the next line is to delete all the characters from start to end in the input box as ent.delete(0,”end”)\n",
        "\n",
        " "
      ]
    },
    {
      "cell_type": "code",
      "execution_count": null,
      "metadata": {
        "id": "p7A8_Zr0Js5y"
      },
      "outputs": [],
      "source": [
        "def delete():\n",
        "        a = ent.get()\n",
        "        ent.delete(first=len(a)-1,last=\"end\")\n",
        "def fresult():\n",
        "        if ent.get() == \"\":\n",
        "                pass\n",
        "        elif ent.get()[0] == \"0\":\n",
        "                ent.delete(0,\"end\")\n",
        "        else:\n",
        "                c_res = ent.get()\n",
        "                c_res = eval(c_res)\n",
        "                clearf()\n",
        "                ent.insert(\"end\",c_res)\n",
        "def clearf():\n",
        "  ent.delete(0,\"end\")"
      ]
    },
    {
      "cell_type": "markdown",
      "metadata": {
        "id": "0kO1QFdnRvE7"
      },
      "source": [
        "Adding numbers and operators in a calculator"
      ]
    },
    {
      "cell_type": "code",
      "execution_count": null,
      "metadata": {
        "id": "uaE-UQ6FMCV4"
      },
      "outputs": [],
      "source": [
        "#Row 1 elements\n",
        "\n",
        "clean = Button(root,text=\"C\",width=2,command=clearf,bg=\"green\",fg=\"white\",relief=RIDGE)\n",
        "clean.grid(row=0,sticky=\"w\",padx=125)\n",
        "Char_nine = Button(text=\"9\",width=2,command=lambda : ent.insert(\"end\",\"9\"),borderwidth=3,relief=RIDGE)\n",
        "Char_nine.grid(row=1,sticky=\"w\",padx=15)\n",
        "Char_eight = Button(text=\"8\",width=2,command=lambda : ent.insert(\"end\",\"8\"),borderwidth=3,relief=RIDGE)\n",
        "Char_eight.grid(row=1,sticky=\"w\",padx=45)\n",
        "Char_seven = Button(root,text=\"7\",width=2,command=lambda : ent.insert(\"end\",\"7\"),borderwidth=3,relief=RIDGE)\n",
        "Char_seven.grid(row=1,sticky=\"w\",padx=75)\n",
        "Char_plus = Button(root,text=\"+\",width=2,command=lambda : ent.insert(\"end\",\"+\"),borderwidth=3,relief=RIDGE)\n",
        "Char_plus.grid(row=1,sticky=\"e\",padx=125)\n",
        "Char_six = Button(text=\"6\",width=2,command=lambda : ent.insert(\"end\",\"6\"),borderwidth=3,relief=RIDGE)"
      ]
    },
    {
      "cell_type": "code",
      "execution_count": null,
      "metadata": {
        "id": "shmEbqmKS-Ka"
      },
      "outputs": [],
      "source": [
        "#Row 2 elements\n",
        "\n",
        "Char_six.grid(row=2,sticky=\"w\",padx=15,pady=5)\n",
        "Char_five = Button(text=\"5\",width=2,command=lambda : ent.insert(\"end\",\"5\"),borderwidth=3,relief=RIDGE)\n",
        "Char_five.grid(row=2,sticky=\"w\",padx=45,pady=5)\n",
        "Char_four = Button(root,text=\"4\",width=2,command=lambda : ent.insert(\"end\",\"4\"),borderwidth=3,relief=RIDGE)\n",
        "Char_four.grid(row=2,sticky=\"w\",padx=75,pady=5)\n",
        "Char_minus = Button(root,text=\"-\",width=2,command=lambda : ent.insert(\"end\",\"-\"),borderwidth=3,relief=RIDGE)\n",
        "Char_minus.grid(row=2,sticky=\"e\",padx=125,pady=5)\n",
        "Char_three = Button(text=\"3\",width=2,command=lambda : ent.insert(\"end\",\"3\"),borderwidth=3,relief=RIDGE)"
      ]
    },
    {
      "cell_type": "code",
      "execution_count": null,
      "metadata": {
        "id": "MlS0gJfRTEwq"
      },
      "outputs": [],
      "source": [
        "#Row 3 elements\n",
        "\n",
        "Char_three.grid(row=3,sticky=\"w\",padx=15,pady=5)\n",
        "Char_two = Button(text=\"2\",width=2,command=lambda : ent.insert(\"end\",\"2\"),borderwidth=3,relief=RIDGE)\n",
        "Char_two.grid(row=3,sticky=\"w\",padx=45,pady=5)\n",
        "Char_one = Button(root,text=\"1\",width=2,command=lambda : ent.insert(\"end\",\"1\"),borderwidth=3,relief=RIDGE)\n",
        "Char_one.grid(row=3,sticky=\"w\",padx=75,pady=5)\n",
        "Char_multiply = Button(root,text=\"*\",width=2,command=lambda : ent.insert(\"end\",\"*\"),borderwidth=3,relief=RIDGE)\n",
        "Char_multiply.grid(row=3,sticky=\"e\",padx=125,pady=5)\n",
        "Char_zero = Button(text=\"0\",width=2,command=lambda : ent.insert(\"end\",\"0\"),borderwidth=3,relief=RIDGE)"
      ]
    },
    {
      "cell_type": "code",
      "execution_count": null,
      "metadata": {
        "id": "vTO1eb4QTKJw"
      },
      "outputs": [],
      "source": [
        "#Row 4 elements\n",
        "\n",
        "Char_zero.grid(row=4,sticky=\"w\",padx=15,pady=5)\n",
        "Char_double_zero = Button(text=\"00\",width=2,command=lambda : ent.insert(\"end\",\"00\"),borderwidth=3,relief=RIDGE)\n",
        "Char_double_zero.grid(row=4,sticky=\"w\",padx=45,pady=5)\n",
        "Char_dot = Button(root,text=\".\",width=2,command=lambda : ent.insert(\"end\",\".\"),borderwidth=3,relief=RIDGE)\n",
        "Char_dot.grid(row=4,sticky=\"w\",padx=75,pady=5)\n",
        "Char_divide = Button(root,text=\"/\",width=2,command=lambda : ent.insert(\"end\",\"/\"),borderwidth=3,relief=RIDGE)\n",
        "Char_divide.grid(row=4,sticky=\"e\",padx=125,pady=5)"
      ]
    },
    {
      "cell_type": "code",
      "execution_count": null,
      "metadata": {
        "id": "O8_7hgNSTS8p"
      },
      "outputs": [],
      "source": [
        "#Row 5 elements\n",
        "\n",
        "result = Button(root,text=\"=\",width=10,command=fresult,bg=\"green\",fg=\"white\",borderwidth=3,relief=RIDGE)\n",
        "result.grid(row=5,sticky=\"w\",padx=15,pady=5)\n",
        "Char_modulus = Button(root,text=\"%\",width=2,command=lambda : ent.insert(\"end\",\"%\"),borderwidth=3,relief=RIDGE)\n",
        "Char_modulus.grid(row=5,sticky=\"e\",padx=125,pady=5)\n",
        "delete = Button(root,text=\"del\",width=2,command=delete,borderwidth=3,relief=RIDGE)\n",
        "delete.grid(row=5,sticky=\"w\",padx=80,pady=5)"
      ]
    },
    {
      "cell_type": "code",
      "execution_count": null,
      "metadata": {
        "id": "87fIKrJvUSWq"
      },
      "outputs": [],
      "source": [
        "root.mainloop()"
      ]
    },
    {
      "cell_type": "markdown",
      "source": [
        "## Conclusion: This code demonstrates how to develop a simple calculator using Tkinter GUI."
      ],
      "metadata": {
        "id": "9O588eoV8rE6"
      }
    }
  ],
  "metadata": {
    "colab": {
      "name": "1906_m8_demo2_Simple_Calculator_Using_Tkinter_v1.0.ipynb",
      "provenance": []
    },
    "kernelspec": {
      "display_name": "Python 3 (ipykernel)",
      "language": "python",
      "name": "python3"
    },
    "language_info": {
      "codemirror_mode": {
        "name": "ipython",
        "version": 3
      },
      "file_extension": ".py",
      "mimetype": "text/x-python",
      "name": "python",
      "nbconvert_exporter": "python",
      "pygments_lexer": "ipython3",
      "version": "3.9.12"
    }
  },
  "nbformat": 4,
  "nbformat_minor": 0
}