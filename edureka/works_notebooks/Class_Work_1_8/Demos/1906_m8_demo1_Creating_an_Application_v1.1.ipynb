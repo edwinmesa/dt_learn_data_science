{
  "cells": [
    {
      "cell_type": "markdown",
      "source": [
        "##Demo 1: Creating an Application\n",
        "\n",
        "In this demo, you will learn to develop an application using ipywidgets"
      ],
      "metadata": {
        "id": "eVqTTw10MAak"
      }
    },
    {
      "cell_type": "code",
      "execution_count": null,
      "metadata": {
        "id": "Kie9I62qL_1X"
      },
      "outputs": [],
      "source": [
        "import ipywidgets as widgets\n",
        "from ipywidgets import HBox, VBox\n",
        "import numpy as np\n",
        "import matplotlib.pyplot as plt\n",
        "from IPython.display import display\n",
        "%matplotlib inline"
      ]
    },
    {
      "cell_type": "code",
      "execution_count": null,
      "metadata": {
        "colab": {
          "referenced_widgets": [
            "c8a48d59a474473d8f292e5c96db29ea"
          ]
        },
        "id": "mZnpZssDL_1f",
        "outputId": "00e3b2c3-1720-4eb2-9eba-c82bec329314"
      },
      "outputs": [
        {
          "data": {
            "application/vnd.jupyter.widget-view+json": {
              "model_id": "c8a48d59a474473d8f292e5c96db29ea",
              "version_major": 2,
              "version_minor": 0
            },
            "text/plain": [
              "FloatSlider(value=2.0, description='Frequency:', max=10.0, min=1.0, readout_format='.1f')"
            ]
          },
          "metadata": {},
          "output_type": "display_data"
        }
      ],
      "source": [
        "freq_slider = widgets.FloatSlider(\n",
        "    value=2.,\n",
        "    min=1.,\n",
        "    max=10.0,\n",
        "    step=0.1,\n",
        "    description='Frequency:',\n",
        "    readout_format='.1f',\n",
        ")\n",
        "freq_slider"
      ]
    },
    {
      "cell_type": "code",
      "execution_count": null,
      "metadata": {
        "colab": {
          "referenced_widgets": [
            "08ec8825325e42b88acc8fc1cf885b6e"
          ]
        },
        "id": "jO5TvfSML_1h",
        "outputId": "f8ab377f-a7d3-4054-aadf-bc1e8e7d6b9c"
      },
      "outputs": [
        {
          "data": {
            "application/vnd.jupyter.widget-view+json": {
              "model_id": "08ec8825325e42b88acc8fc1cf885b6e",
              "version_major": 2,
              "version_minor": 0
            },
            "text/plain": [
              "FloatRangeSlider(value=(-1.0, 1.0), description='xlimit:', max=5.0, min=-5.0, readout_format='.1f')"
            ]
          },
          "metadata": {},
          "output_type": "display_data"
        }
      ],
      "source": [
        "range_slider = widgets.FloatRangeSlider(\n",
        "    value=[-1., +1.],\n",
        "    min=-5., max=+5., step=0.1,\n",
        "    description='xlimit:',\n",
        "    readout_format='.1f',\n",
        ")\n",
        "range_slider"
      ]
    },
    {
      "cell_type": "code",
      "execution_count": null,
      "metadata": {
        "colab": {
          "referenced_widgets": [
            "ae22e809dcad40ef9d2188a30262d39f"
          ]
        },
        "id": "3Iw92CbBL_1i",
        "outputId": "9dce0171-23ee-4049-84dd-661c0e08dd07"
      },
      "outputs": [
        {
          "data": {
            "application/vnd.jupyter.widget-view+json": {
              "model_id": "ae22e809dcad40ef9d2188a30262d39f",
              "version_major": 2,
              "version_minor": 0
            },
            "text/plain": [
              "ToggleButton(value=False, description='Grid', icon='check')"
            ]
          },
          "metadata": {},
          "output_type": "display_data"
        }
      ],
      "source": [
        "grid_button = widgets.ToggleButton(\n",
        "    value=False,\n",
        "    description='Grid',\n",
        "    icon='check'\n",
        ")\n",
        "grid_button"
      ]
    },
    {
      "cell_type": "code",
      "execution_count": null,
      "metadata": {
        "colab": {
          "referenced_widgets": [
            "c1f17feb2d5649819a4083cc48bcb801"
          ]
        },
        "id": "o-fkWKSML_1j",
        "outputId": "9e156815-5bda-474b-a3f5-d15179aef954"
      },
      "outputs": [
        {
          "data": {
            "application/vnd.jupyter.widget-view+json": {
              "model_id": "c1f17feb2d5649819a4083cc48bcb801",
              "version_major": 2,
              "version_minor": 0
            },
            "text/plain": [
              "ToggleButtons(description='Color:', options=('blue', 'red', 'green'), value='blue')"
            ]
          },
          "metadata": {},
          "output_type": "display_data"
        }
      ],
      "source": [
        "color_buttons = widgets.ToggleButtons(\n",
        "    options=['blue', 'red', 'green'],\n",
        "    description='Color:',\n",
        ")\n",
        "color_buttons"
      ]
    },
    {
      "cell_type": "code",
      "execution_count": null,
      "metadata": {
        "colab": {
          "referenced_widgets": [
            "49ffd765e50c43fcad4fd1cdead88dc9"
          ]
        },
        "id": "6-QrG0HKL_1k",
        "outputId": "8956e459-812b-4190-b9e5-8c5db02546cc"
      },
      "outputs": [
        {
          "data": {
            "application/vnd.jupyter.widget-view+json": {
              "model_id": "49ffd765e50c43fcad4fd1cdead88dc9",
              "version_major": 2,
              "version_minor": 0
            },
            "text/plain": [
              "Text(value='Hello World', description='Title:')"
            ]
          },
          "metadata": {},
          "output_type": "display_data"
        }
      ],
      "source": [
        "title_textbox = widgets.Text(\n",
        "    value='Hello World',\n",
        "    description='Title:',\n",
        ")\n",
        "title_textbox"
      ]
    },
    {
      "cell_type": "code",
      "execution_count": null,
      "metadata": {
        "colab": {
          "referenced_widgets": [
            "81afad1eb3ec4f0ba03e478dbca837db"
          ]
        },
        "id": "7mbWuojIL_1l",
        "outputId": "3400712d-21e8-461b-ff76-2aa74b2e600d"
      },
      "outputs": [
        {
          "data": {
            "application/vnd.jupyter.widget-view+json": {
              "model_id": "81afad1eb3ec4f0ba03e478dbca837db",
              "version_major": 2,
              "version_minor": 0
            },
            "text/plain": [
              "ColorPicker(value='#efefef', concise=True, description='Background color:')"
            ]
          },
          "metadata": {},
          "output_type": "display_data"
        }
      ],
      "source": [
        "color_picker = widgets.ColorPicker(\n",
        "    concise=True,\n",
        "    description='Background color:',\n",
        "    value='#efefef',\n",
        ")\n",
        "color_picker"
      ]
    },
    {
      "cell_type": "code",
      "execution_count": null,
      "metadata": {
        "colab": {
          "referenced_widgets": [
            "98e4b8d23430467690ee9c16adabe703"
          ]
        },
        "id": "q18OkPQJL_1n",
        "outputId": "6be136a1-2538-4c87-9120-bd7ee1d46814"
      },
      "outputs": [
        {
          "data": {
            "application/vnd.jupyter.widget-view+json": {
              "model_id": "98e4b8d23430467690ee9c16adabe703",
              "version_major": 2,
              "version_minor": 0
            },
            "text/plain": [
              "Button(description='Plot', style=ButtonStyle())"
            ]
          },
          "metadata": {},
          "output_type": "display_data"
        }
      ],
      "source": [
        "button = widgets.Button(\n",
        "    description='Plot',\n",
        ")\n",
        "button"
      ]
    },
    {
      "cell_type": "code",
      "execution_count": null,
      "metadata": {
        "id": "pYuhYbBYL_1p"
      },
      "outputs": [],
      "source": [
        "def plot2(b=None):\n",
        "    xlim = range_slider.value\n",
        "    freq = freq_slider.value\n",
        "    grid = grid_button.value\n",
        "    color = color_buttons.value\n",
        "    title = title_textbox.value\n",
        "    bgcolor = color_picker.value\n",
        "\n",
        "    t = np.linspace(xlim[0], xlim[1], 1000)\n",
        "    f, ax = plt.subplots(1, 1, figsize=(8, 6))\n",
        "    ax.plot(t, np.sin(2 * np.pi * freq * t),\n",
        "            color=color)\n",
        "    ax.grid(grid)"
      ]
    },
    {
      "cell_type": "code",
      "execution_count": null,
      "metadata": {
        "id": "_LYvS3eVL_1s"
      },
      "outputs": [],
      "source": [
        "@button.on_click\n",
        "def plot_on_click(b):\n",
        "    plot2()"
      ]
    },
    {
      "cell_type": "code",
      "execution_count": null,
      "metadata": {
        "id": "msgP1efSL_1t"
      },
      "outputs": [],
      "source": [
        "tab1 = VBox(children=[freq_slider,\n",
        "                      range_slider,\n",
        "                      ])\n",
        "tab2 = VBox(children=[color_buttons,\n",
        "                      HBox(children=[title_textbox,\n",
        "                                     color_picker,\n",
        "                                     grid_button]),\n",
        "                                     ])"
      ]
    },
    {
      "cell_type": "code",
      "execution_count": null,
      "metadata": {
        "colab": {
          "referenced_widgets": [
            "17c98d948efd470b8c22933ed9f9d31f"
          ]
        },
        "id": "KZWE3DSoL_1u",
        "outputId": "818df13e-5082-4feb-97d0-db43515322fc"
      },
      "outputs": [
        {
          "data": {
            "application/vnd.jupyter.widget-view+json": {
              "model_id": "17c98d948efd470b8c22933ed9f9d31f",
              "version_major": 2,
              "version_minor": 0
            },
            "text/plain": [
              "VBox(children=(Tab(children=(VBox(children=(FloatSlider(value=2.0, description='Frequency:', max=10.0, min=1.0…"
            ]
          },
          "metadata": {},
          "output_type": "display_data"
        }
      ],
      "source": [
        "tab = widgets.Tab(children=[tab1, tab2])\n",
        "tab.set_title(0, 'plot')\n",
        "tab.set_title(1, 'styling')\n",
        "VBox(children=[tab, button])"
      ]
    },
    {
      "cell_type": "markdown",
      "source": [
        "## Conclusion: This code demonstrates how to develop an application using ipywidegts GUI."
      ],
      "metadata": {
        "id": "xPR64XXN7k7L"
      }
    }
  ],
  "metadata": {
    "kernelspec": {
      "display_name": "Python 3",
      "language": "python",
      "name": "python3"
    },
    "language_info": {
      "codemirror_mode": {
        "name": "ipython",
        "version": 3
      },
      "file_extension": ".py",
      "mimetype": "text/x-python",
      "name": "python",
      "nbconvert_exporter": "python",
      "pygments_lexer": "ipython3",
      "version": "3.7.3"
    },
    "colab": {
      "name": "1906_m8_demo1_Creating_an_Application_v1.0.ipynb",
      "provenance": [],
      "collapsed_sections": []
    }
  },
  "nbformat": 4,
  "nbformat_minor": 0
}