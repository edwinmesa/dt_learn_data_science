{
 "cells": [
  {
   "cell_type": "code",
   "execution_count": null,
   "id": "b9797fdd",
   "metadata": {},
   "outputs": [],
   "source": [
    "### Example 1"
   ]
  },
  {
   "cell_type": "code",
   "execution_count": 1,
   "id": "f02fa267",
   "metadata": {},
   "outputs": [
    {
     "name": "stdout",
     "output_type": "stream",
     "text": [
      "The name entered by you is root password1234\n",
      "('Tom', 'Manager', '40', '10000')\n",
      "('Harry', 'Leader', '35', '8000')\n",
      "Query Executed successfully\n"
     ]
    }
   ],
   "source": [
    "import tkinter as tk\n",
    "import mysql.connector\n",
    "from tkinter import *\n",
    "  \n",
    " \n",
    "def submitact():\n",
    "     \n",
    "    user = Username.get()\n",
    "    passw = password.get()\n",
    "  \n",
    "    print(f\"The name entered by you is {user} {passw}\")\n",
    "  \n",
    "    logintodb(user, passw)\n",
    "  \n",
    " \n",
    "def logintodb(user, passw):\n",
    "     \n",
    "    # If password is enetered by the\n",
    "    # user\n",
    "    if passw:\n",
    "        db = mysql.connector.connect(host =\"localhost\",\n",
    "                                     user = 'root',\n",
    "                                     password = 'password1234',\n",
    "                                     db =\"employees\")\n",
    "        cursor = db.cursor()\n",
    "         \n",
    "    # If no password is enetered by the\n",
    "    # user\n",
    "    else:\n",
    "        db = mysql.connector.connect(host =\"localhost\",\n",
    "                                     user = 'root',\n",
    "                                     db =\"employees\")\n",
    "        cursor = db.cursor()\n",
    "         \n",
    "    # A Table in the database\n",
    "    savequery = \"select * from employee;\"\n",
    "     \n",
    "    try:\n",
    "        cursor.execute(savequery)\n",
    "        myresult = cursor.fetchall()\n",
    "         \n",
    "        # Printing the result of the\n",
    "        # query\n",
    "        for x in myresult:\n",
    "            print(x)\n",
    "        print(\"Query Executed successfully\")\n",
    "         \n",
    "    except:\n",
    "        db.rollback()\n",
    "        print(\"Error occured\")\n",
    "  \n",
    " \n",
    "root = tk.Tk()\n",
    "root.geometry(\"300x300\")\n",
    "root.title(\"DBMS Login Page\")\n",
    "  \n",
    " \n",
    "# Defining the first row\n",
    "lblfrstrow = tk.Label(root, text =\"Username -\", )\n",
    "lblfrstrow.place(x = 50, y = 20)\n",
    " \n",
    "Username = tk.Entry(root, width = 35)\n",
    "Username.place(x = 150, y = 20, width = 100)\n",
    "  \n",
    "lblsecrow = tk.Label(root, text =\"Password -\")\n",
    "lblsecrow.place(x = 50, y = 50)\n",
    " \n",
    "password = tk.Entry(root, width = 35)\n",
    "password.place(x = 150, y = 50, width = 100)\n",
    " \n",
    "submitbtn = tk.Button(root, text =\"Login\",\n",
    "                      bg ='blue', command = submitact)\n",
    "submitbtn.place(x = 150, y = 135, width = 55)\n",
    " \n",
    "root.mainloop()"
   ]
  },
  {
   "cell_type": "code",
   "execution_count": null,
   "id": "735e9a3e",
   "metadata": {},
   "outputs": [],
   "source": [
    "### Example 2"
   ]
  },
  {
   "cell_type": "code",
   "execution_count": 2,
   "id": "1e0f2941",
   "metadata": {},
   "outputs": [],
   "source": [
    "import mysql.connector\n",
    "import tkinter  as tk \n",
    "from tkinter import * \n",
    "my_w = tk.Tk()\n",
    "my_w.geometry(\"400x250\") \n",
    "my_connect = mysql.connector.connect(\n",
    "  host=\"localhost\",\n",
    "  user=\"root\", \n",
    "  passwd=\"password1234\",\n",
    "  database=\"employees\"\n",
    ")\n",
    "my_conn = my_connect.cursor()\n",
    "####### end of connection ####\n",
    "my_conn.execute(\"SELECT * FROM employee\")\n",
    "i=0 \n",
    "for student in my_conn: \n",
    "    for j in range(len(student)):\n",
    "        e = Entry(my_w, width=10, fg='blue') \n",
    "        e.grid(row=i, column=j) \n",
    "        e.insert(END, student[j])\n",
    "    i=i+1\n",
    "my_w.mainloop()"
   ]
  },
  {
   "cell_type": "code",
   "execution_count": null,
   "id": "f346e118",
   "metadata": {},
   "outputs": [],
   "source": []
  }
 ],
 "metadata": {
  "kernelspec": {
   "display_name": "Python 3 (ipykernel)",
   "language": "python",
   "name": "python3"
  },
  "language_info": {
   "codemirror_mode": {
    "name": "ipython",
    "version": 3
   },
   "file_extension": ".py",
   "mimetype": "text/x-python",
   "name": "python",
   "nbconvert_exporter": "python",
   "pygments_lexer": "ipython3",
   "version": "3.10.6"
  }
 },
 "nbformat": 4,
 "nbformat_minor": 5
}
