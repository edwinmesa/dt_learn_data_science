{
 "cells": [
  {
   "cell_type": "code",
   "execution_count": null,
   "id": "ee70d862",
   "metadata": {},
   "outputs": [],
   "source": [
    "# ! pip install tk"
   ]
  },
  {
   "cell_type": "code",
   "execution_count": 3,
   "id": "442dd60d",
   "metadata": {},
   "outputs": [],
   "source": [
    "import tkinter\n",
    "window = tkinter.Tk()\n",
    "# Code to add widgets will go here...\n",
    "window.mainloop()"
   ]
  },
  {
   "cell_type": "code",
   "execution_count": null,
   "id": "935783f3",
   "metadata": {},
   "outputs": [],
   "source": [
    "# Button Example"
   ]
  },
  {
   "cell_type": "code",
   "execution_count": 4,
   "id": "a585d32a",
   "metadata": {},
   "outputs": [],
   "source": [
    "import tkinter\n",
    "\n",
    "window = tkinter.Tk()\n",
    "window.title(\"Button Example\")\n",
    "\n",
    "def helloCallBack():\n",
    "    tkinter.Label(window, text=\"Hello World!\").pack()\n",
    "\n",
    "B = tkinter.Button(window, text =\"Hello\", command = helloCallBack)\n",
    "\n",
    "# pack function is responsible for placing the widget on the window\n",
    "B.pack()\n",
    "window.mainloop()"
   ]
  },
  {
   "cell_type": "code",
   "execution_count": 24,
   "id": "438a4e8e",
   "metadata": {},
   "outputs": [],
   "source": [
    "import tkinter\n",
    "\n",
    "def clicked():\n",
    "    myfile = open('File_GUI.txt', mode='w')\n",
    "    for i in range(1,5):\n",
    "        myfile.write(\"This file is created using Tkinter Button !!\\n\")\n",
    "    myfile.close()\n",
    "\n",
    "window = tkinter.Tk()\n",
    "window.title(\"File Example\")\n",
    "window.geometry('200x100')\n",
    "\n",
    "# The Frame widget is very important for the process of grouping and organizing other widgets in a somehow friendly way. \n",
    "# It works like a container, which is responsible for arranging the position of other widgets.\n",
    "\n",
    "frame = tkinter.Frame(window).pack()\n",
    "bt1 = tkinter.Button(frame, text=\"Create File..\", command = clicked).pack(side=\"left\")\n",
    "bt2 = tkinter.Button(frame, text=\"Quit\", command=window.destroy).pack(side=\"right\")\n",
    "window.mainloop()"
   ]
  },
  {
   "cell_type": "code",
   "execution_count": null,
   "id": "eade7a84",
   "metadata": {},
   "outputs": [],
   "source": [
    "# Check Button"
   ]
  },
  {
   "cell_type": "code",
   "execution_count": 5,
   "id": "9c5244f5",
   "metadata": {},
   "outputs": [],
   "source": [
    "import tkinter as tk\n",
    "\n",
    "window = tkinter.Tk()\n",
    "cb1 = tk.IntVar()\n",
    "cb2 = tk.IntVar()\n",
    "def isChecked():\n",
    "    if cb1.get() == 1:\n",
    "        tkinter.Label(window, text=\"Music is Selected\").pack()\n",
    "    elif cb2.get() == 1:\n",
    "        tkinter.Label(window, text=\"Video is Selected\").pack()\n",
    "    elif cb1.get() == 0:\n",
    "        tkinter.Label(window, text=\"Music is Un-Selected\").pack()\n",
    "    elif cb2.get() == 0:\n",
    "        tkinter.Label(window, text=\"Video is Un-Selected\").pack()\n",
    "    \n",
    "C1 = tk.Checkbutton(window, text = \"Music\", variable = cb1, onvalue = 1, offvalue = 0, height=5, width = 20, command=isChecked)\n",
    "C2 = tk.Checkbutton(window, text = \"Video\", variable = cb2, onvalue = 1, offvalue = 0, height=5, width = 20, command=isChecked)\n",
    "C1.pack()\n",
    "C2.pack()\n",
    "window.mainloop()"
   ]
  },
  {
   "cell_type": "code",
   "execution_count": 16,
   "id": "f415b52c",
   "metadata": {},
   "outputs": [
    {
     "name": "stderr",
     "output_type": "stream",
     "text": [
      "Exception in Tkinter callback\n",
      "Traceback (most recent call last):\n",
      "  File \"C:\\Users\\knsab\\AppData\\Local\\Programs\\Python\\Python310\\lib\\tkinter\\__init__.py\", line 1921, in __call__\n",
      "    return self.func(*args)\n",
      "  File \"C:\\Users\\knsab\\AppData\\Local\\Temp\\ipykernel_6120\\1922539195.py\", line 22, in CalcTotal\n",
      "    tkinter.Label(window, text=\"Your Total cost is \" + str(tot)).pack()\n",
      "NameError: name 'tot' is not defined\n"
     ]
    }
   ],
   "source": [
    "import tkinter as tk\n",
    "\n",
    "window = tkinter.Tk()\n",
    "window.title(\"Amusement Park Ride Cost:\")\n",
    "window.geometry('300x500')\n",
    "\n",
    "cb1 = tk.IntVar()\n",
    "cb2 = tk.IntVar()\n",
    "\n",
    "def isChecked():\n",
    "    global tot\n",
    "    if cb1.get() == 1:\n",
    "        tkinter.Label(window, text=\"Bumper Cars is Selected\").pack()\n",
    "        tot = tot + 100\n",
    "        tkinter.Label(window, text=\"Your Current Total cost is \" + str(tot)).pack()\n",
    "    elif cb2.get() == 1:\n",
    "        tkinter.Label(window, text=\"Ferris Wheel is Selected\").pack()\n",
    "        tot = tot + 150\n",
    "        tkinter.Label(window, text=\"Your Current Total cost is \" + str(tot)).pack()\n",
    "\n",
    "def CalcTotal():\n",
    "    tkinter.Label(window, text=\"Your Total cost is \" + str(tot)).pack()\n",
    "    \n",
    "C1 = tk.Checkbutton(window, text = \"Bumper Cars\", variable = cb1, onvalue = 1, offvalue = 0, height=5, width = 20, command=isChecked)\n",
    "C2 = tk.Checkbutton(window, text = \"Ferris Wheel\", variable = cb2, onvalue = 1, offvalue = 0, height=5, width = 20, command=isChecked)\n",
    "C1.pack()\n",
    "C2.pack()\n",
    "\n",
    "B = tkinter.Button(window, text =\"Total\", command = CalcTotal)\n",
    "B.pack()\n",
    "\n",
    "window.mainloop()"
   ]
  },
  {
   "cell_type": "code",
   "execution_count": null,
   "id": "f16f4b7c",
   "metadata": {},
   "outputs": [],
   "source": [
    "# Canvas"
   ]
  },
  {
   "cell_type": "code",
   "execution_count": 10,
   "id": "8cb53ada",
   "metadata": {},
   "outputs": [],
   "source": [
    "import tkinter as tk\n",
    "\n",
    "root = tkinter.Tk()\n",
    "#setting background as white color\n",
    "C = tk.Canvas(root, bg = \"White\", height=250, width= 300)\n",
    "#Creating line\n",
    "# (x1,y1,x2,y2)\n",
    "line = C.create_line(108,120,320,40, fill=\"green\")\n",
    "\n",
    "#Creating arc\n",
    "arc = C.create_arc(200,150,80,210, start=0, extent=220, fill=\"red\")\n",
    "\n",
    "#Creating oval\n",
    "oval = C.create_oval(80,30,140,150, fill=\"blue\")\n",
    "C.pack()\n",
    "root.mainloop()"
   ]
  },
  {
   "cell_type": "code",
   "execution_count": null,
   "id": "83bfc7ed",
   "metadata": {},
   "outputs": [],
   "source": [
    "# Text Widget"
   ]
  },
  {
   "cell_type": "code",
   "execution_count": 11,
   "id": "450a9cb7",
   "metadata": {},
   "outputs": [],
   "source": [
    "import tkinter as tk\n",
    "# specify the size of the window.\n",
    "window = tkinter.Tk()\n",
    "window.geometry(\"300x175\")\n",
    "# Create label\n",
    "l = tk.Label(window, text = \"Fact of the Day\")\n",
    "l.config(font =(\"Courier\", 14))\n",
    "\n",
    "# Create a text widget and specify the size.\n",
    "T =tk.Text(window, height = 5, width = 52)\n",
    "Fact = \"An apple a day keeps the doctor away\"\n",
    "l.pack()\n",
    "T.pack()\n",
    "#Instert the fact\n",
    "T.insert(tk.END, Fact)\n",
    "window.mainloop()"
   ]
  },
  {
   "cell_type": "code",
   "execution_count": null,
   "id": "72ad7797",
   "metadata": {},
   "outputs": [],
   "source": [
    "# Menu Widget"
   ]
  },
  {
   "cell_type": "code",
   "execution_count": 14,
   "id": "a79df5e3",
   "metadata": {},
   "outputs": [],
   "source": [
    "# importing only those functions which are needed\n",
    "from tkinter import *\n",
    "from tkinter.ttk import *\n",
    "from time import strftime\n",
    "window = tkinter.Tk()\n",
    "window.title('Menu Demonstration')\n",
    "window.geometry(\"350x150\")\n",
    "\n",
    "# Creating Menubar\n",
    "menubar = Menu(window)\n",
    "\n",
    "def New_File():\n",
    "    tkinter.Label(window, text=\"New File is Created !!\").pack()\n",
    "\n",
    "# Adding File Menu and commands\n",
    "file = Menu(menubar, tearoff=0)\n",
    "menubar.add_cascade(label ='File', menu = file)\n",
    "file.add_command(label ='New File', command = New_File)\n",
    "file.add_command(label ='Open...', command = None)\n",
    "file.add_command(label ='Save', command = None)\n",
    "file.add_separator()\n",
    "file.add_command(label ='Exit', command = window.destroy)\n",
    "\n",
    "# display Menu\n",
    "window.config(menu = menubar)\n",
    "mainloop()"
   ]
  },
  {
   "cell_type": "code",
   "execution_count": null,
   "id": "4e2f1315",
   "metadata": {},
   "outputs": [],
   "source": []
  },
  {
   "cell_type": "code",
   "execution_count": null,
   "id": "344947c3",
   "metadata": {},
   "outputs": [],
   "source": []
  },
  {
   "cell_type": "code",
   "execution_count": null,
   "id": "ef72c6d2",
   "metadata": {},
   "outputs": [],
   "source": []
  },
  {
   "cell_type": "code",
   "execution_count": null,
   "id": "8a2261e2",
   "metadata": {},
   "outputs": [],
   "source": []
  },
  {
   "cell_type": "code",
   "execution_count": null,
   "id": "e113739c",
   "metadata": {},
   "outputs": [],
   "source": []
  },
  {
   "cell_type": "code",
   "execution_count": null,
   "id": "89165072",
   "metadata": {},
   "outputs": [],
   "source": []
  },
  {
   "cell_type": "code",
   "execution_count": null,
   "id": "d233a091",
   "metadata": {},
   "outputs": [],
   "source": []
  },
  {
   "cell_type": "code",
   "execution_count": null,
   "id": "ef26e547",
   "metadata": {},
   "outputs": [],
   "source": []
  },
  {
   "cell_type": "code",
   "execution_count": null,
   "id": "7b7cc532",
   "metadata": {},
   "outputs": [],
   "source": []
  },
  {
   "cell_type": "code",
   "execution_count": null,
   "id": "e8b77100",
   "metadata": {},
   "outputs": [],
   "source": []
  },
  {
   "cell_type": "code",
   "execution_count": null,
   "id": "45f05caa",
   "metadata": {},
   "outputs": [],
   "source": []
  },
  {
   "cell_type": "code",
   "execution_count": null,
   "id": "3ce25465",
   "metadata": {},
   "outputs": [],
   "source": []
  },
  {
   "cell_type": "code",
   "execution_count": null,
   "id": "9cc20a21",
   "metadata": {},
   "outputs": [],
   "source": []
  },
  {
   "cell_type": "code",
   "execution_count": null,
   "id": "eff01323",
   "metadata": {},
   "outputs": [],
   "source": []
  },
  {
   "cell_type": "code",
   "execution_count": null,
   "id": "c41fb61e",
   "metadata": {},
   "outputs": [],
   "source": []
  },
  {
   "cell_type": "code",
   "execution_count": null,
   "id": "566a4435",
   "metadata": {},
   "outputs": [],
   "source": []
  },
  {
   "cell_type": "code",
   "execution_count": null,
   "id": "6ac6592d",
   "metadata": {},
   "outputs": [],
   "source": []
  },
  {
   "cell_type": "code",
   "execution_count": null,
   "id": "d9acf2a8",
   "metadata": {},
   "outputs": [],
   "source": []
  }
 ],
 "metadata": {
  "kernelspec": {
   "display_name": "Python 3 (ipykernel)",
   "language": "python",
   "name": "python3"
  },
  "language_info": {
   "codemirror_mode": {
    "name": "ipython",
    "version": 3
   },
   "file_extension": ".py",
   "mimetype": "text/x-python",
   "name": "python",
   "nbconvert_exporter": "python",
   "pygments_lexer": "ipython3",
   "version": "3.10.6"
  }
 },
 "nbformat": 4,
 "nbformat_minor": 5
}
