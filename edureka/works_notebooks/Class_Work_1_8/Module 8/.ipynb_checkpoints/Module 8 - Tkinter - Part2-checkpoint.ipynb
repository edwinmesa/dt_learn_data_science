{
 "cells": [
  {
   "cell_type": "code",
   "execution_count": 3,
   "id": "8edecf11",
   "metadata": {},
   "outputs": [
    {
     "name": "stdout",
     "output_type": "stream",
     "text": [
      "Requirement already satisfied: tk in c:\\users\\knsab\\appdata\\local\\programs\\python\\python310\\lib\\site-packages (0.1.0)\n"
     ]
    }
   ],
   "source": [
    "! pip install tk"
   ]
  },
  {
   "cell_type": "code",
   "execution_count": null,
   "id": "720ab056",
   "metadata": {},
   "outputs": [],
   "source": [
    "'''\n",
    "Steps:\n",
    "Import tkinter module\n",
    "Create the GUI application main window\n",
    "Enter the mail event loop\n",
    "'''"
   ]
  },
  {
   "cell_type": "code",
   "execution_count": 13,
   "id": "103be72d",
   "metadata": {},
   "outputs": [],
   "source": [
    "import tkinter\n",
    "window = tkinter.Tk()\n",
    "window.title(\"GUI\")\n",
    "label = tkinter.Label(window, text=\"Hello World!\").pack()\n",
    "window.mainloop()"
   ]
  },
  {
   "cell_type": "code",
   "execution_count": null,
   "id": "dbc840a8",
   "metadata": {},
   "outputs": [],
   "source": [
    "### Add widgets"
   ]
  },
  {
   "cell_type": "code",
   "execution_count": null,
   "id": "e74eec24",
   "metadata": {},
   "outputs": [],
   "source": [
    "### Label"
   ]
  },
  {
   "cell_type": "code",
   "execution_count": 14,
   "id": "970e324b",
   "metadata": {},
   "outputs": [],
   "source": [
    "import tkinter\n",
    "window = tkinter.Tk()\n",
    "window.title(\"GUI\")\n",
    "label = tkinter.Label(window, text=\"Hello World!\", font=(\"Arial\",50)).pack()\n",
    "window.mainloop()"
   ]
  },
  {
   "cell_type": "code",
   "execution_count": 18,
   "id": "7d30001d",
   "metadata": {},
   "outputs": [],
   "source": [
    "import tkinter\n",
    "window = tkinter.Tk()\n",
    "window.title(\"GUI\")\n",
    "label = tkinter.Label(window, text=\"Hello World!\", font=(\"Arial\",50)).pack()\n",
    "# set the size of the window\n",
    "window.geometry('350x200')\n",
    "window.mainloop()"
   ]
  },
  {
   "cell_type": "code",
   "execution_count": null,
   "id": "d9806d3c",
   "metadata": {},
   "outputs": [],
   "source": [
    "### Button"
   ]
  },
  {
   "cell_type": "code",
   "execution_count": 29,
   "id": "6ea79611",
   "metadata": {},
   "outputs": [],
   "source": [
    "import tkinter\n",
    "window = tkinter.Tk()\n",
    "window.title(\"GUI\")\n",
    "bt = tkinter.Button(window, text=\"Enter\")\n",
    "bt.grid(column=1,row=0)\n",
    "window.mainloop()"
   ]
  },
  {
   "cell_type": "code",
   "execution_count": 30,
   "id": "41b5144e",
   "metadata": {},
   "outputs": [],
   "source": [
    "### Foreground property\n",
    "import tkinter\n",
    "window = tkinter.Tk()\n",
    "window.title(\"GUI\")\n",
    "bt = tkinter.Button(window, text=\"Enter\", bg=\"orange\", fg=\"red\")\n",
    "bt.grid(column=1,row=0)\n",
    "window.mainloop()"
   ]
  },
  {
   "cell_type": "code",
   "execution_count": null,
   "id": "292befe0",
   "metadata": {},
   "outputs": [],
   "source": [
    "### Example 1"
   ]
  },
  {
   "cell_type": "code",
   "execution_count": 40,
   "id": "1c7387d0",
   "metadata": {},
   "outputs": [],
   "source": [
    "import tkinter\n",
    "window = tkinter.Tk()\n",
    "window.title(\"Edureka\")\n",
    "window.geometry(\"500x200\")\n",
    "# creating 2 frames - TOP and Bottom\n",
    "top_frame = tkinter.Frame(window).pack()\n",
    "bottom_frame = tkinter.Frame(window).pack(side = \"bottom\")"
   ]
  },
  {
   "cell_type": "code",
   "execution_count": 41,
   "id": "0aa8907d",
   "metadata": {},
   "outputs": [],
   "source": [
    "# now create some widgets in the top frame and bottom frame\n",
    "btn1 = tkinter.Button(top_frame, text=\"Button1\", fg=\"red\").pack()\n",
    "btn2 = tkinter.Button(top_frame, text=\"Button2\", fg=\"green\").pack()\n",
    "btn3 = tkinter.Button(bottom_frame, text=\"Button3\", fg=\"purple\").pack(side=\"left\")\n",
    "btn4 = tkinter.Button(bottom_frame, text=\"Button4\", fg=\"orange\").pack(side=\"right\")\n",
    "window.mainloop()"
   ]
  },
  {
   "cell_type": "code",
   "execution_count": null,
   "id": "45160881",
   "metadata": {},
   "outputs": [],
   "source": [
    "### Example 2"
   ]
  },
  {
   "cell_type": "code",
   "execution_count": 9,
   "id": "5fe25ebb",
   "metadata": {},
   "outputs": [],
   "source": [
    "import tkinter\n",
    "\n",
    "def clicked():\n",
    "    myfile = open('File_GUI.txt', mode='w')\n",
    "    for i in range(1,5):\n",
    "        myfile.write(\"This file is created using Tkinter Button !!\\n\")\n",
    "    myfile.close()\n",
    "\n",
    "window = tkinter.Tk()\n",
    "window.title(\"File Example\")\n",
    "window.geometry('100x100')\n",
    "frame = tkinter.Frame(window).pack()\n",
    "bt1 = tkinter.Button(frame, text=\"Create File..\", command = clicked).pack(side=\"left\")\n",
    "bt2 = tkinter.Button(frame, text=\"Quit\", command=window.destroy).pack(side=\"right\")\n",
    "window.mainloop()"
   ]
  },
  {
   "cell_type": "code",
   "execution_count": null,
   "id": "a8809460",
   "metadata": {},
   "outputs": [],
   "source": [
    "### Example 3"
   ]
  },
  {
   "cell_type": "code",
   "execution_count": 4,
   "id": "2b1ef2c2",
   "metadata": {},
   "outputs": [],
   "source": [
    "import tkinter\n",
    "\n",
    "window = tkinter.Tk()\n",
    "window.title(\"File Example\")\n",
    "window.geometry('100x100')\n",
    "\n",
    "def clicked(event):\n",
    "    tkinter.Label(window, text=\"Hi\").pack()\n",
    "\n",
    "btn = tkinter.Button(window, text=\"Click Me!\")\n",
    "btn.bind(\"<Button-1>\", clicked)\n",
    "btn.pack()\n",
    "\n",
    "window.mainloop()"
   ]
  },
  {
   "cell_type": "code",
   "execution_count": null,
   "id": "a2271a7b",
   "metadata": {},
   "outputs": [],
   "source": []
  },
  {
   "cell_type": "code",
   "execution_count": null,
   "id": "76398836",
   "metadata": {},
   "outputs": [],
   "source": []
  },
  {
   "cell_type": "code",
   "execution_count": null,
   "id": "5f4e2c51",
   "metadata": {},
   "outputs": [],
   "source": []
  }
 ],
 "metadata": {
  "kernelspec": {
   "display_name": "Python 3 (ipykernel)",
   "language": "python",
   "name": "python3"
  },
  "language_info": {
   "codemirror_mode": {
    "name": "ipython",
    "version": 3
   },
   "file_extension": ".py",
   "mimetype": "text/x-python",
   "name": "python",
   "nbconvert_exporter": "python",
   "pygments_lexer": "ipython3",
   "version": "3.10.6"
  }
 },
 "nbformat": 4,
 "nbformat_minor": 5
}
