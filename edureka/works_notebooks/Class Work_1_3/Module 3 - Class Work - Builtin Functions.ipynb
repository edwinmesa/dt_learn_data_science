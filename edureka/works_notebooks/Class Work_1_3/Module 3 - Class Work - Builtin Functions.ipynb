{
 "cells": [
  {
   "cell_type": "markdown",
   "metadata": {},
   "source": [
    "## Built-In-Functions\n"
   ]
  },
  {
   "cell_type": "code",
   "execution_count": 10,
   "metadata": {},
   "outputs": [
    {
     "name": "stdout",
     "output_type": "stream",
     "text": [
      "[5, 1, 3, 10, 4]\n",
      "[1, 3, 4, 5, 10]\n"
     ]
    }
   ],
   "source": [
    "# Example 1 --- sorted()\n",
    "## sorted() will sort a sequence like list, tuple in ascending order but the original sequence remains unchanged\n",
    "\n",
    "list1=[5,1,3,10,4]\n",
    "print(list1)\n",
    "print(sorted(list1, reverse=False))"
   ]
  },
  {
   "cell_type": "code",
   "execution_count": 6,
   "metadata": {},
   "outputs": [
    {
     "name": "stdout",
     "output_type": "stream",
     "text": [
      "(55, 11, 33, 100, 44)\n",
      "2272106315696\n",
      "<class 'tuple'>\n",
      "********************\n",
      "[11, 33, 44, 55, 100]\n",
      "2272106835968\n",
      "<class 'list'>\n"
     ]
    }
   ],
   "source": [
    "tuple1=(55,11,33,100,44)\n",
    "srt_tup = sorted(tuple1)\n",
    "\n",
    "print(tuple1)\n",
    "print(id(tuple1))\n",
    "print(type(tuple1))\n",
    "\n",
    "print(\"*\"*20)\n",
    "print(srt_tup)\n",
    "print(id(srt_tup))\n",
    "print(type(srt_tup))"
   ]
  },
  {
   "cell_type": "code",
   "execution_count": 2,
   "metadata": {},
   "outputs": [
    {
     "name": "stdout",
     "output_type": "stream",
     "text": [
      "10.5\n"
     ]
    }
   ],
   "source": [
    "# Example 2 --- abs()\n",
    "# If we apply abs() on any variable, it gives the absolute value or modulus of that variable.\n",
    "\n",
    "x = -10.5\n",
    "print(abs(x))"
   ]
  },
  {
   "cell_type": "code",
   "execution_count": 13,
   "metadata": {},
   "outputs": [
    {
     "name": "stdout",
     "output_type": "stream",
     "text": [
      "0b1001\n"
     ]
    }
   ],
   "source": [
    "# Example 3 --- bin()\n",
    "# bin() is used to convert decimal values to binary values\n",
    "var1=9\n",
    "print(bin(var1))"
   ]
  },
  {
   "cell_type": "code",
   "execution_count": 12,
   "metadata": {},
   "outputs": [
    {
     "name": "stdout",
     "output_type": "stream",
     "text": [
      "A\n",
      "97\n"
     ]
    }
   ],
   "source": [
    "# Example 4 --- ord()  vs chr()\n",
    "# ord() is used to convert character to ASCII value and chr() does the opposite\n",
    "x=65\n",
    "print(chr(x))\n",
    "y='a'\n",
    "print(ord(y))"
   ]
  },
  {
   "cell_type": "code",
   "execution_count": 14,
   "metadata": {},
   "outputs": [
    {
     "name": "stdout",
     "output_type": "stream",
     "text": [
      "36\n"
     ]
    }
   ],
   "source": [
    "# Exaple 5 --- sum()\n",
    "# It sums up all the items in an iterable. But all the values have to be of same data type\n",
    "list2=[1,2,3,4,5,6,7,8]\n",
    "print(sum(list2))"
   ]
  },
  {
   "cell_type": "code",
   "execution_count": 16,
   "metadata": {},
   "outputs": [
    {
     "name": "stdout",
     "output_type": "stream",
     "text": [
      "4\n",
      "10\n",
      "3\n",
      "1\n",
      "5\n",
      "[5, 1, 3, 10, 4]\n"
     ]
    }
   ],
   "source": [
    "# Example 6 --- reversed()\n",
    "## reversed() will reverse a sequence like list, tuple, but the original sequence remains unchanged\n",
    "\n",
    "list1=[5,1,3,10,4]\n",
    "for i in reversed(list1):\n",
    "    print(i)\n",
    "\n",
    "print(list1)"
   ]
  },
  {
   "cell_type": "code",
   "execution_count": 17,
   "metadata": {},
   "outputs": [
    {
     "name": "stdout",
     "output_type": "stream",
     "text": [
      "True\n",
      "False\n",
      "True\n"
     ]
    }
   ],
   "source": [
    "# Example 7 --- all()\n",
    "# If all the elements of a sequence are true, then it returns true.\n",
    "#  Q> What is True In Python?\n",
    "# Ans:- Any non-zero, non-empty value in python is true. e.g. None is not true. \n",
    "\n",
    "list1=[True,10,1]\n",
    "print(all(list1))  # It will return false because 0 is not True\n",
    "\n",
    "list2=[True,10,1,0.5,None]\n",
    "print(all(list2))   # It will also return false as None is not True\n",
    "\n",
    "list3=[True,10,1,0.5,'None']\n",
    "print(all(list3))  # It will return True because all elements are True. Please note here 'None' is a String"
   ]
  },
  {
   "cell_type": "code",
   "execution_count": 20,
   "metadata": {},
   "outputs": [
    {
     "name": "stdout",
     "output_type": "stream",
     "text": [
      "True\n",
      "False\n"
     ]
    }
   ],
   "source": [
    "# Example 8 --- any()\n",
    "# If any of the element of a sequence is True, it will return True\n",
    "list4=[True,0,None,False]  # Here, one element is True\n",
    "print(any(list4))\n",
    "list5=[0,0,None,False]\n",
    "print(any(list5))   # Here, all the elements are False\n",
    "\n",
    "# in the list if any of these 4 values are present ... its a FALSE ---> [0,0,None,False]"
   ]
  },
  {
   "cell_type": "code",
   "execution_count": 15,
   "metadata": {},
   "outputs": [
    {
     "name": "stdout",
     "output_type": "stream",
     "text": [
      "<class 'enumerate'>\n",
      "[(0, 'tiger'), (1, 'lion'), (2, 'deer')]\n",
      "[(10, 'tiger'), (11, 'lion'), (12, 'deer')]\n"
     ]
    }
   ],
   "source": [
    "# Example 10 ---- enumerate()\n",
    "# Return an enumerate object. The Iterable must be a sequence, an iterator, or some other object which supports iteration\n",
    "# Enumerate returns the list of tuples. Tuples consists index values and items from the list\n",
    "\n",
    "animals = ['tiger', 'lion', 'deer']\n",
    "enumerateAnimals = enumerate(animals)\n",
    "print(type(enumerateAnimals))\n",
    "# converting to list\n",
    "print(list(enumerateAnimals))\n",
    "# changing the default counter\n",
    "enumerateAnimals = enumerate(animals, 10)\n",
    "print(list(enumerateAnimals))\n"
   ]
  },
  {
   "cell_type": "code",
   "execution_count": null,
   "metadata": {},
   "outputs": [],
   "source": []
  }
 ],
 "metadata": {
  "kernelspec": {
   "display_name": "Python 3 (ipykernel)",
   "language": "python",
   "name": "python3"
  },
  "language_info": {
   "codemirror_mode": {
    "name": "ipython",
    "version": 3
   },
   "file_extension": ".py",
   "mimetype": "text/x-python",
   "name": "python",
   "nbconvert_exporter": "python",
   "pygments_lexer": "ipython3",
   "version": "3.10.6"
  }
 },
 "nbformat": 4,
 "nbformat_minor": 2
}
