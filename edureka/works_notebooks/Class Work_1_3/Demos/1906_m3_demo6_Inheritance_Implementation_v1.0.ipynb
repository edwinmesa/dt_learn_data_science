{
 "cells": [
  {
   "cell_type": "markdown",
   "metadata": {
    "id": "TMdX7dnqvBpv"
   },
   "source": [
    "#Demo 6 - Inheritance Implementation\n",
    "\n",
    "###The below codes demonstrates the usage of inheritance in Banking Domain to differentiate between regular customers and privileged customers and provide a discount of Rs.200 to the privileged customers and thereafter display the final amount."
   ]
  },
  {
   "cell_type": "markdown",
   "metadata": {
    "id": "FK9jYbZvvn_z"
   },
   "source": [
    "Create the Customer class with the constructor and two other methods. Display_details() method will be used to display the custId and custName. The CalculateAmount() method will be abstract in nature"
   ]
  },
  {
   "cell_type": "code",
   "execution_count": 4,
   "metadata": {
    "id": "PU6a7DpMv1IH"
   },
   "outputs": [],
   "source": [
    "# Customer Class\n",
    "\n",
    "class Customer:\n",
    "    def __init__(self,custId,custName):\n",
    "        self.custId=custId\n",
    "        self.custName=custName\n",
    "    def display_details(self):\n",
    "        print(self.custId)\n",
    "        print(self.custName)\n",
    "    def calculate_Amount(self,interest,year):\n",
    "        pass\n"
   ]
  },
  {
   "cell_type": "markdown",
   "metadata": {
    "id": "z0i0avbVv-8s"
   },
   "source": [
    "Create the child class Regular_Customer and build the constructor and CalculateAmount() method inside that.  Repeat the same for Privilege_Customer as well."
   ]
  },
  {
   "cell_type": "code",
   "execution_count": 5,
   "metadata": {
    "id": "W5ItQXs7v96m"
   },
   "outputs": [],
   "source": [
    "# Regular Customer Class\n",
    "\n",
    "class Regular_Customer(Customer):\n",
    "    def __init__(self,custId,custName,amount,custType):\n",
    "        self.custId=custId\n",
    "        self.custName=custName\n",
    "        self.amount=amount\n",
    "        self.custType=custType\n",
    "    def calculate_Amount(self,interest,year):\n",
    "        final_amount=self.amount+(self.amount*interest*year)/100.0\n",
    "        if (self.custType=='Regular'):\n",
    "            return final_amount\n",
    "        elif(self.custType=='Privilege'):\n",
    "            return final_amount-200"
   ]
  },
  {
   "cell_type": "markdown",
   "metadata": {
    "id": "jXnCCTENwWSy"
   },
   "source": [
    "In the CalculateAmount() method, calculate the final amount using simple interest formula. If the customer is a regular customer, no discount will be applied, or else the discount amount will be ₹ 200 for the privileged customer."
   ]
  },
  {
   "cell_type": "code",
   "execution_count": 6,
   "metadata": {
    "id": "DdxI0y8Wwon9"
   },
   "outputs": [],
   "source": [
    "# Priviledged Customer Class\n",
    "\n",
    "class Privilege_Customer(Customer):\n",
    "    def __init__(self,custId,custName,amount,custType):\n",
    "        self.custId=custId\n",
    "        self.custName=custName\n",
    "        self.amount=amount\n",
    "        self.custType=custType\n",
    "    def calculate_Amount(self,interest,year):\n",
    "        final_amount=self.amount+(self.amount*interest*year)/100.0\n",
    "        final_amount=final_amount-200  # Due to being priviledged customer\n",
    "        if (self.custType=='Regular'):\n",
    "            return final_amount\n",
    "        elif(self.custType=='Privilege'):\n",
    "            return final_amount-200"
   ]
  },
  {
   "cell_type": "markdown",
   "metadata": {
    "id": "6TBWFpdawzqs"
   },
   "source": [
    "Create one object for each child class and call the CalculateAmount() method to display the final amount."
   ]
  },
  {
   "cell_type": "code",
   "execution_count": 7,
   "metadata": {
    "colab": {
     "base_uri": "https://localhost:8080/"
    },
    "id": "hSKLSXzfxCIc",
    "outputId": "3238224a-9f0a-4f2a-c2db-9f2901644c27"
   },
   "outputs": [
    {
     "name": "stdout",
     "output_type": "stream",
     "text": [
      "6000.0\n",
      "5600.0\n"
     ]
    }
   ],
   "source": [
    "# Object Creation and Method Calling\n",
    "Regular_1=Regular_Customer(101,'Smith',5000,'Regular')\n",
    "Privilege_1=Privilege_Customer(102,'Alan',5000,'Privilege')\n",
    "print(Regular_1.calculate_Amount(10,2))\n",
    "print(Privilege_1.calculate_Amount(10,2))"
   ]
  },
  {
   "cell_type": "markdown",
   "metadata": {
    "id": "ztWiv2MW0SUS"
   },
   "source": []
  },
  {
   "cell_type": "markdown",
   "metadata": {
    "id": "7zzPOS2P1El9"
   },
   "source": [
    "Conclusion: There are two customers- Smith and Alan who has taken a loan amount of Rs.6000 for a period of 2 years.Since Alan is a priveleged customer so a total of Rs.200 is deducted every year from his total amount. Hence he has to pay Rs.5600 at the end of 2 years. However, Smith has to pay Rs.6000 as he is a regular customer."
   ]
  }
 ],
 "metadata": {
  "colab": {
   "collapsed_sections": [],
   "name": "1906_m3_Inheritance_Implementation_v1.0.ipynb",
   "provenance": []
  },
  "kernelspec": {
   "display_name": "Python 3 (ipykernel)",
   "language": "python",
   "name": "python3"
  },
  "language_info": {
   "codemirror_mode": {
    "name": "ipython",
    "version": 3
   },
   "file_extension": ".py",
   "mimetype": "text/x-python",
   "name": "python",
   "nbconvert_exporter": "python",
   "pygments_lexer": "ipython3",
   "version": "3.10.8"
  }
 },
 "nbformat": 4,
 "nbformat_minor": 4
}
