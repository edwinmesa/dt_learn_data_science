{
 "cells": [
  {
   "cell_type": "markdown",
   "id": "5c487f26",
   "metadata": {},
   "source": [
    "### Input & Eval Function"
   ]
  },
  {
   "cell_type": "code",
   "execution_count": 1,
   "id": "2a34e846",
   "metadata": {},
   "outputs": [
    {
     "ename": "SyntaxError",
     "evalue": "invalid syntax (<string>, line 0)",
     "output_type": "error",
     "traceback": [
      "Traceback \u001b[1;36m(most recent call last)\u001b[0m:\n",
      "\u001b[0m  File \u001b[0;32mc:\\pyenv\\tensf\\lib\\site-packages\\IPython\\core\\interactiveshell.py:3442\u001b[0m in \u001b[0;35mrun_code\u001b[0m\n    exec(code_obj, self.user_global_ns, self.user_ns)\u001b[0m\n",
      "\u001b[1;36m  Cell \u001b[1;32mIn[1], line 1\u001b[1;36m\n\u001b[1;33m    inp = eval(input(\"Enter your name:\"))\u001b[1;36m\n",
      "\u001b[1;36m  File \u001b[1;32m<string>\u001b[1;36m\u001b[0m\n\u001b[1;33m    \u001b[0m\n\u001b[1;37m    ^\u001b[0m\n\u001b[1;31mSyntaxError\u001b[0m\u001b[1;31m:\u001b[0m invalid syntax\n"
     ]
    }
   ],
   "source": [
    "inp = eval(input(\"Enter your name:\"))\n",
    "print(type(inp))\n",
    "ty = type(inp)\n",
    "print(ty)\n",
    "if (inp == 'Kuldeep') & (type(inp) == str):\n",
    "    print(\"I am Kuldeep\")\n",
    "else:\n",
    "    print(\"Bye\")"
   ]
  },
  {
   "cell_type": "markdown",
   "id": "01579351",
   "metadata": {},
   "source": [
    "### File Operations"
   ]
  },
  {
   "cell_type": "code",
   "execution_count": null,
   "id": "5dbdfc43",
   "metadata": {},
   "outputs": [],
   "source": [
    "'''\n",
    "r = to read the contents of a file\n",
    "w = write to a file\n",
    "a = append to a file\n",
    "'''"
   ]
  },
  {
   "cell_type": "code",
   "execution_count": null,
   "id": "505a7c1b",
   "metadata": {},
   "outputs": [],
   "source": [
    "import os\n",
    "\n",
    "# myfile is a pointer object\n",
    "# write will create a new file or overwrite the existing file\n",
    "myfile = open('File_new.txt', mode='w')\n",
    "for i in range(1,5):\n",
    "    myfile.write(\"The file is opened in write mode !!\")\n",
    "\n",
    "myfile.close()"
   ]
  },
  {
   "cell_type": "code",
   "execution_count": null,
   "id": "2150eade",
   "metadata": {},
   "outputs": [],
   "source": [
    "import os\n",
    "\n",
    "# myfile is a pointer object\n",
    "# reading will read from the file\n",
    "myfile = open('File_new.txt', mode='r')\n",
    "contents = myfile.read()\n",
    "myfile.close()\n",
    "\n",
    "print(contents)"
   ]
  },
  {
   "cell_type": "code",
   "execution_count": null,
   "id": "cfe74d0c",
   "metadata": {},
   "outputs": [],
   "source": [
    "import os\n",
    "\n",
    "# myfile is a pointer object\n",
    "# appending will write at the end of the file\n",
    "myfile = open('File_new.txt', mode='a')\n",
    "myfile.write(\"The file is been appended !!\")\n",
    "myfile.close()"
   ]
  },
  {
   "cell_type": "code",
   "execution_count": null,
   "id": "06083e87",
   "metadata": {},
   "outputs": [],
   "source": [
    "import os\n",
    "\n",
    "# myfile is a pointer object\n",
    "# reading will read from the file\n",
    "myfile = open('File_new.txt', mode='r')\n",
    "myfile.seek(20)\n",
    "tell_value = myfile.tell()\n",
    "contents = myfile.read(20)\n",
    "\n",
    "myfile.close()\n",
    "\n",
    "print(contents)\n",
    "print(tell_value)"
   ]
  },
  {
   "cell_type": "code",
   "execution_count": null,
   "id": "9eaae651",
   "metadata": {},
   "outputs": [],
   "source": [
    "os.rename('File_new.txt','File_new_1.txt')"
   ]
  },
  {
   "cell_type": "code",
   "execution_count": null,
   "id": "305bc7a0",
   "metadata": {},
   "outputs": [],
   "source": [
    "os.remove('File_new_1.txt')"
   ]
  },
  {
   "cell_type": "markdown",
   "id": "32969886",
   "metadata": {},
   "source": [
    "### Sequences"
   ]
  },
  {
   "cell_type": "markdown",
   "id": "2633d047",
   "metadata": {},
   "source": [
    "### Lists"
   ]
  },
  {
   "cell_type": "code",
   "execution_count": null,
   "id": "a59dc577",
   "metadata": {},
   "outputs": [],
   "source": [
    "# ind = 0  1  2. 3. 4. 5. 6. 7. 8\n",
    "lst = [10,20,30,40,50,60,70,80,90]\n",
    "lst1 = [100,110,120]\n",
    "lst2 = lst + lst1\n",
    "lst2"
   ]
  },
  {
   "cell_type": "code",
   "execution_count": null,
   "id": "7222a5db",
   "metadata": {},
   "outputs": [],
   "source": [
    "lst2 = lst1 *3\n",
    "lst2"
   ]
  },
  {
   "cell_type": "code",
   "execution_count": null,
   "id": "55378a5c",
   "metadata": {},
   "outputs": [],
   "source": [
    "lst[8]"
   ]
  },
  {
   "cell_type": "code",
   "execution_count": null,
   "id": "e5cceade",
   "metadata": {},
   "outputs": [],
   "source": [
    "lst.append(200)"
   ]
  },
  {
   "cell_type": "code",
   "execution_count": null,
   "id": "328c4922",
   "metadata": {},
   "outputs": [],
   "source": [
    "lst"
   ]
  },
  {
   "cell_type": "code",
   "execution_count": null,
   "id": "80de7df4",
   "metadata": {},
   "outputs": [],
   "source": [
    "lst1"
   ]
  },
  {
   "cell_type": "code",
   "execution_count": null,
   "id": "896fd351",
   "metadata": {},
   "outputs": [],
   "source": [
    "lst_3 = lst + lst1\n",
    "lst_3"
   ]
  },
  {
   "cell_type": "code",
   "execution_count": null,
   "id": "cc30f8a3",
   "metadata": {},
   "outputs": [],
   "source": [
    "lst_3[1:5]"
   ]
  },
  {
   "cell_type": "code",
   "execution_count": null,
   "id": "960a20a6",
   "metadata": {},
   "outputs": [],
   "source": [
    "lst_3.remove(200)"
   ]
  },
  {
   "cell_type": "code",
   "execution_count": null,
   "id": "914c7d7b",
   "metadata": {},
   "outputs": [],
   "source": [
    "lst_3"
   ]
  },
  {
   "cell_type": "code",
   "execution_count": null,
   "id": "fb06b9f4",
   "metadata": {},
   "outputs": [],
   "source": [
    "lst_3[0] = 100\n",
    "lst_3"
   ]
  },
  {
   "cell_type": "code",
   "execution_count": null,
   "id": "a542d2b3",
   "metadata": {},
   "outputs": [],
   "source": [
    "pop_item = lst_3.pop(0)\n",
    "print(pop_item)\n",
    "print(lst_3)"
   ]
  },
  {
   "cell_type": "markdown",
   "id": "e596aac5",
   "metadata": {},
   "source": [
    "### Strings"
   ]
  },
  {
   "cell_type": "code",
   "execution_count": null,
   "id": "092b3fa6",
   "metadata": {},
   "outputs": [],
   "source": [
    "str = 'abcdefg'\n",
    "print(str[-5])"
   ]
  },
  {
   "cell_type": "code",
   "execution_count": null,
   "id": "9eb44650",
   "metadata": {},
   "outputs": [],
   "source": [
    "str[1:5]"
   ]
  },
  {
   "cell_type": "code",
   "execution_count": null,
   "id": "e1f2cd3b",
   "metadata": {},
   "outputs": [],
   "source": [
    "str[-5:-2]"
   ]
  },
  {
   "cell_type": "code",
   "execution_count": null,
   "id": "6ba964f6",
   "metadata": {},
   "outputs": [],
   "source": [
    "len(str)"
   ]
  },
  {
   "cell_type": "code",
   "execution_count": null,
   "id": "4db76cf2",
   "metadata": {},
   "outputs": [],
   "source": [
    "str1 = str * 2\n",
    "str1"
   ]
  },
  {
   "cell_type": "code",
   "execution_count": null,
   "id": "054f8926",
   "metadata": {},
   "outputs": [],
   "source": [
    "str2 = '1234'\n",
    "str3 = str + str2\n",
    "str3"
   ]
  },
  {
   "cell_type": "code",
   "execution_count": null,
   "id": "cbd9227e",
   "metadata": {},
   "outputs": [],
   "source": [
    "len(str3)"
   ]
  },
  {
   "cell_type": "code",
   "execution_count": null,
   "id": "5e30cd8e",
   "metadata": {},
   "outputs": [],
   "source": [
    "str3[3] = 'x'"
   ]
  },
  {
   "cell_type": "markdown",
   "id": "9feccff7",
   "metadata": {},
   "source": [
    "### Tuples"
   ]
  },
  {
   "cell_type": "code",
   "execution_count": null,
   "id": "b4593585",
   "metadata": {},
   "outputs": [],
   "source": [
    "coach = ('Rahul', 'Vikram', 'Arun')"
   ]
  },
  {
   "cell_type": "code",
   "execution_count": null,
   "id": "6962329f",
   "metadata": {},
   "outputs": [],
   "source": [
    "len(coach)"
   ]
  },
  {
   "cell_type": "code",
   "execution_count": null,
   "id": "2eb95532",
   "metadata": {},
   "outputs": [],
   "source": [
    "tup_1 = (\"apple\", \"banana\")\n",
    "tup_2 = (\"cherry\",\"pineapple\")\n",
    "tup_3 = tup_1 + tup_2\n",
    "tup_3"
   ]
  },
  {
   "cell_type": "code",
   "execution_count": null,
   "id": "4d669387",
   "metadata": {},
   "outputs": [],
   "source": [
    "type(tup_1)"
   ]
  },
  {
   "cell_type": "code",
   "execution_count": null,
   "id": "64546f97",
   "metadata": {},
   "outputs": [],
   "source": [
    "type(tup_2)"
   ]
  },
  {
   "cell_type": "code",
   "execution_count": null,
   "id": "96b73138",
   "metadata": {},
   "outputs": [],
   "source": [
    "tup = tup_3 *2\n",
    "tup"
   ]
  },
  {
   "cell_type": "code",
   "execution_count": null,
   "id": "7501cdc6",
   "metadata": {},
   "outputs": [],
   "source": [
    "tup_3"
   ]
  },
  {
   "cell_type": "code",
   "execution_count": null,
   "id": "7043e905",
   "metadata": {},
   "outputs": [],
   "source": [
    "tup_3[1]"
   ]
  },
  {
   "cell_type": "code",
   "execution_count": null,
   "id": "eeb18323",
   "metadata": {},
   "outputs": [],
   "source": [
    "tup_3[1:3]"
   ]
  },
  {
   "cell_type": "code",
   "execution_count": null,
   "id": "f8c13361",
   "metadata": {},
   "outputs": [],
   "source": [
    "print('jackfruit' in tup_3)"
   ]
  },
  {
   "cell_type": "code",
   "execution_count": null,
   "id": "70128d77",
   "metadata": {},
   "outputs": [],
   "source": [
    "tup_3[0] = 'jackfruit'"
   ]
  },
  {
   "cell_type": "code",
   "execution_count": null,
   "id": "eb0e1c34",
   "metadata": {},
   "outputs": [],
   "source": [
    "lst = [10,20,30]\n",
    "print(type(lst))\n",
    "tup = tuple(lst)\n",
    "print(tup)\n",
    "print(type(tup))"
   ]
  },
  {
   "cell_type": "code",
   "execution_count": null,
   "id": "abf6d489",
   "metadata": {},
   "outputs": [],
   "source": [
    "tup"
   ]
  },
  {
   "cell_type": "code",
   "execution_count": null,
   "id": "030c0a99",
   "metadata": {},
   "outputs": [],
   "source": [
    "tup[0] = 100"
   ]
  },
  {
   "cell_type": "code",
   "execution_count": null,
   "id": "cbd50e44",
   "metadata": {},
   "outputs": [],
   "source": [
    "tup = (10,20,30)\n",
    "print(type(tup))\n",
    "lst = list(tup)\n",
    "print(lst)\n",
    "print(type(lst))"
   ]
  },
  {
   "cell_type": "markdown",
   "id": "aa76207a",
   "metadata": {},
   "source": [
    "### Dictionary"
   ]
  },
  {
   "cell_type": "code",
   "execution_count": null,
   "id": "dd3740ac",
   "metadata": {},
   "outputs": [],
   "source": [
    "emp = {'mike':3700, 'john':6500}\n",
    "type(emp)"
   ]
  },
  {
   "cell_type": "code",
   "execution_count": null,
   "id": "5d08d595",
   "metadata": {},
   "outputs": [],
   "source": [
    "id(emp)"
   ]
  },
  {
   "cell_type": "code",
   "execution_count": null,
   "id": "da516601",
   "metadata": {},
   "outputs": [],
   "source": [
    "len(emp)"
   ]
  },
  {
   "cell_type": "code",
   "execution_count": null,
   "id": "2640409a",
   "metadata": {},
   "outputs": [],
   "source": [
    "emp_dup = emp.copy()\n",
    "emp_dup"
   ]
  },
  {
   "cell_type": "code",
   "execution_count": null,
   "id": "a0579fb1",
   "metadata": {},
   "outputs": [],
   "source": [
    "for key in emp.keys():\n",
    "    print(key)"
   ]
  },
  {
   "cell_type": "code",
   "execution_count": null,
   "id": "903be12d",
   "metadata": {},
   "outputs": [],
   "source": [
    "for val in emp.values():\n",
    "    print(val)"
   ]
  },
  {
   "cell_type": "code",
   "execution_count": null,
   "id": "9531d0ed",
   "metadata": {},
   "outputs": [],
   "source": [
    "for entry in emp.items():\n",
    "    print(entry)\n",
    "    print(type(entry))"
   ]
  },
  {
   "cell_type": "code",
   "execution_count": null,
   "id": "8f87f1bc",
   "metadata": {},
   "outputs": [],
   "source": [
    "for (key,value) in emp.items():\n",
    "    print(key, value)\n",
    "    print(type(key), type(value))"
   ]
  },
  {
   "cell_type": "code",
   "execution_count": null,
   "id": "3cb5d6fa",
   "metadata": {},
   "outputs": [],
   "source": [
    "emp.get('mike')"
   ]
  },
  {
   "cell_type": "code",
   "execution_count": null,
   "id": "51c5d733",
   "metadata": {},
   "outputs": [],
   "source": [
    "emp['mike'] = 4700\n",
    "emp"
   ]
  },
  {
   "cell_type": "code",
   "execution_count": null,
   "id": "5323f602",
   "metadata": {},
   "outputs": [],
   "source": [
    "x = emp.pop('john')\n",
    "x"
   ]
  },
  {
   "cell_type": "code",
   "execution_count": null,
   "id": "69ce3526",
   "metadata": {},
   "outputs": [],
   "source": [
    "emp"
   ]
  },
  {
   "cell_type": "code",
   "execution_count": null,
   "id": "ee417076",
   "metadata": {},
   "outputs": [],
   "source": [
    "new_emp = {'kuldeep':5500}\n",
    "emp.update(new_emp)\n",
    "emp"
   ]
  },
  {
   "cell_type": "code",
   "execution_count": null,
   "id": "d0618ffd",
   "metadata": {},
   "outputs": [],
   "source": [
    "id(emp)"
   ]
  },
  {
   "cell_type": "code",
   "execution_count": null,
   "id": "ded9cbcd",
   "metadata": {},
   "outputs": [],
   "source": [
    "emp['mike'] = 3700\n",
    "emp"
   ]
  },
  {
   "cell_type": "code",
   "execution_count": null,
   "id": "4789ccbd",
   "metadata": {},
   "outputs": [],
   "source": [
    "emp_1 = {'mike': 3700, 'kuldeep': 5500}\n",
    "emp_2 = {'john': 4700, 'harry': 6500}\n",
    "emp_full = emp_1 + emp_2\n",
    "emp_full"
   ]
  },
  {
   "cell_type": "markdown",
   "id": "0300785c",
   "metadata": {},
   "source": [
    "### Sets"
   ]
  },
  {
   "cell_type": "code",
   "execution_count": null,
   "id": "e1578fd9",
   "metadata": {},
   "outputs": [],
   "source": [
    "### Sets are like lists, with an exception that they do not contain duplicate entries."
   ]
  },
  {
   "cell_type": "code",
   "execution_count": null,
   "id": "d0e6f896",
   "metadata": {},
   "outputs": [
    {
     "name": "stdout",
     "output_type": "stream",
     "text": [
      "{'Harry Potter', 'Ron Weasley', 'Hermoine Granger'}\n"
     ]
    }
   ],
   "source": [
    "friends = {'Harry Potter','Ron Weasley','Hermoine Granger','Harry Potter'}\n",
    "print(friends)"
   ]
  },
  {
   "cell_type": "code",
   "execution_count": null,
   "id": "627b4ccf",
   "metadata": {},
   "outputs": [],
   "source": [
    "friends = {'Harry Potter','Ron Weasley','Hermoine Granger'} # A\n",
    "orphan = {'Harry Potter','Tom Riddle','Sirus Black'}        # B"
   ]
  },
  {
   "cell_type": "code",
   "execution_count": null,
   "id": "bf9e4d90",
   "metadata": {},
   "outputs": [],
   "source": [
    "# Union i.e. addition of all items & and removing the duplicates\n",
    "print(friends | orphan)"
   ]
  },
  {
   "cell_type": "code",
   "execution_count": null,
   "id": "872e093c",
   "metadata": {},
   "outputs": [],
   "source": [
    "# Intersection - Common item(s) only\n",
    "print(friends & orphan)"
   ]
  },
  {
   "cell_type": "code",
   "execution_count": null,
   "id": "f7aad8fa",
   "metadata": {},
   "outputs": [],
   "source": [
    "# Items present in orphan should be removed from friends and the rest of the list\n",
    "print(friends.difference(orphan)) "
   ]
  },
  {
   "cell_type": "code",
   "execution_count": null,
   "id": "57047e96",
   "metadata": {},
   "outputs": [],
   "source": [
    "# All the items other than the common item\n",
    "print(friends.symmetric_difference(orphan)) "
   ]
  },
  {
   "cell_type": "code",
   "execution_count": null,
   "id": "7e0db0ab",
   "metadata": {},
   "outputs": [],
   "source": [
    "# Membership\n",
    "print(\"Harry Potter\" in friends)\n",
    "print(\"Sirus Black\" in friends)"
   ]
  },
  {
   "cell_type": "code",
   "execution_count": null,
   "id": "9d919869",
   "metadata": {},
   "outputs": [],
   "source": [
    "### Use of Sets to get unique values"
   ]
  },
  {
   "cell_type": "code",
   "execution_count": null,
   "id": "fb00847f",
   "metadata": {},
   "outputs": [],
   "source": [
    "myfile = open('sets1.csv', mode='r')\n",
    "contents1 = myfile.read()\n",
    "myfile.close()\n",
    "\n",
    "print(contents1)\n",
    "print(type(contents1))"
   ]
  },
  {
   "cell_type": "code",
   "execution_count": null,
   "id": "1eff3ea3",
   "metadata": {},
   "outputs": [],
   "source": [
    "# create a blank set\n",
    "st1 = set()\n",
    "for s in contents1:\n",
    "    if s != '\\n':\n",
    "        st.add(s)\n",
    "\n",
    "print(st)\n",
    "print(type(st))"
   ]
  },
  {
   "cell_type": "code",
   "execution_count": null,
   "id": "9c8069aa",
   "metadata": {},
   "outputs": [],
   "source": [
    "### List Comprehension"
   ]
  },
  {
   "cell_type": "code",
   "execution_count": null,
   "id": "eb32d7fd",
   "metadata": {},
   "outputs": [],
   "source": [
    "# generate squares of numbers..\n",
    "squares = []\n",
    "for i in range(1,11):\n",
    "    squares.append(i**2)\n",
    "\n",
    "print(squares)"
   ]
  },
  {
   "cell_type": "code",
   "execution_count": null,
   "id": "b95dd7f3",
   "metadata": {},
   "outputs": [],
   "source": [
    "## List Comprehension\n",
    "b=[i**2 for i in range(1,11)]\n",
    "print(b)"
   ]
  },
  {
   "cell_type": "code",
   "execution_count": null,
   "id": "30a0694f",
   "metadata": {},
   "outputs": [],
   "source": [
    "# print the list after removing the 0th,4th,5th numbers in [12,24,35,70,88,120,155].\n",
    "\n",
    "list1=[12,24,35,24,88,120,155]\n",
    "list2=[list1[i] for i in range(0,len(list1)) if i not in [0,4,5]]\n",
    "print(list2)"
   ]
  },
  {
   "cell_type": "markdown",
   "id": "3fe73b07",
   "metadata": {},
   "source": [
    "### Bytes and ByteArray Function"
   ]
  },
  {
   "cell_type": "code",
   "execution_count": null,
   "id": "53147055",
   "metadata": {},
   "outputs": [],
   "source": [
    "'''\n",
    "The Python bytearray() function converts strings or collections of integers into a mutable sequence of bytes.\n",
    "Python’s bytearray() built-in allows for high-efficiency manipulation of data in several common situations.\n",
    "'''"
   ]
  },
  {
   "cell_type": "code",
   "execution_count": null,
   "id": "4c2d75f4",
   "metadata": {},
   "outputs": [],
   "source": [
    "'''\n",
    "Syntax\n",
    "byte(src,enc, err)\n",
    "Where,src is the source object which must be converted.\n",
    "enc is the encoding required in case the object is a string.\n",
    "err is the way to handle errors in case the string conversion fails.\n",
    "'''"
   ]
  },
  {
   "cell_type": "code",
   "execution_count": null,
   "id": "691252b8",
   "metadata": {},
   "outputs": [],
   "source": [
    "# Why TypeError? When source is a string, then it is necessary to pass the other 2 parameters. \n",
    "# If not, then the Python interpreter will return TypeError"
   ]
  },
  {
   "cell_type": "code",
   "execution_count": null,
   "id": "ae8acbd0",
   "metadata": {},
   "outputs": [
    {
     "ename": "TypeError",
     "evalue": "string argument without an encoding",
     "output_type": "error",
     "traceback": [
      "\u001b[1;31m---------------------------------------------------------------------------\u001b[0m",
      "\u001b[1;31mTypeError\u001b[0m                                 Traceback (most recent call last)",
      "Input \u001b[1;32mIn [2]\u001b[0m, in \u001b[0;36m<cell line: 1>\u001b[1;34m()\u001b[0m\n\u001b[1;32m----> 1\u001b[0m text_bytes \u001b[38;5;241m=\u001b[39m \u001b[38;5;28;43mbytes\u001b[39;49m\u001b[43m(\u001b[49m\u001b[38;5;124;43m'\u001b[39;49m\u001b[38;5;124;43mWelcome to Edureka!\u001b[39;49m\u001b[38;5;124;43m'\u001b[39;49m\u001b[43m)\u001b[49m\n\u001b[0;32m      2\u001b[0m text_byteArray \u001b[38;5;241m=\u001b[39m \u001b[38;5;28mbytearray\u001b[39m(\u001b[38;5;124m'\u001b[39m\u001b[38;5;124mPython\u001b[39m\u001b[38;5;124m'\u001b[39m) \n\u001b[0;32m      3\u001b[0m \u001b[38;5;28mprint\u001b[39m(text_bytes,text_byteArray)\n",
      "\u001b[1;31mTypeError\u001b[0m: string argument without an encoding"
     ]
    }
   ],
   "source": [
    "text_bytes = bytes('Welcome to Edureka!')\n",
    "text_byteArray = bytearray('Python') \n",
    "print(text_bytes,text_byteArray)"
   ]
  },
  {
   "cell_type": "code",
   "execution_count": null,
   "id": "d2b88933",
   "metadata": {},
   "outputs": [
    {
     "name": "stdout",
     "output_type": "stream",
     "text": [
      "b'Welcome to Edureka'\n",
      "bytearray(b'Python')\n"
     ]
    }
   ],
   "source": [
    "text_bytes = bytes('Welcome to Edureka','utf-8')\n",
    "text_byteArray = bytearray('Python','utf-8')\n",
    "\n",
    "print(text_bytes)\n",
    "print(text_byteArray)"
   ]
  },
  {
   "cell_type": "code",
   "execution_count": null,
   "id": "38499a87",
   "metadata": {},
   "outputs": [
    {
     "name": "stdout",
     "output_type": "stream",
     "text": [
      "b'Welcome to Edureka'\n",
      "bytearray(b'Python')\n"
     ]
    }
   ],
   "source": [
    "text_bytes = bytes('Welcome to Edureka','ascii')\n",
    "text_byteArray = bytearray('Python','ascii')\n",
    "\n",
    "print(text_bytes)\n",
    "print(text_byteArray)"
   ]
  },
  {
   "cell_type": "code",
   "execution_count": null,
   "id": "846d5e0a",
   "metadata": {},
   "outputs": [
    {
     "name": "stdout",
     "output_type": "stream",
     "text": [
      "Byte conversion: b'Python pr\\xc3\\xb3gram is easy t\\xc3\\xb3 learn'\n",
      "ByteArray conversion: bytearray(b'Python pr\\xc3\\xb3gram is easy t\\xc3\\xb3 learn')\n"
     ]
    }
   ],
   "source": [
    "string = 'Python prógram is easy tó learn'\n",
    "\n",
    "# encoding = ascii, errors are ignored\n",
    "result_bytes = bytes(string, 'utf-8', errors = 'ignore')\n",
    "result_bytearray = bytearray(string, 'utf-8', errors = 'ignore')\n",
    "print('Byte conversion:', result_bytes)\n",
    "print('ByteArray conversion:', result_bytearray)"
   ]
  },
  {
   "cell_type": "code",
   "execution_count": null,
   "id": "4eb74a4c",
   "metadata": {},
   "outputs": [
    {
     "name": "stdout",
     "output_type": "stream",
     "text": [
      "Byte conversion: b'Python prgram is easy t learn'\n",
      "ByteArray conversion: bytearray(b'Python prgram is easy t learn')\n"
     ]
    }
   ],
   "source": [
    "string = 'Python prógram is easy tó learn'\n",
    "\n",
    "# encoding = ascii, errors are ignored\n",
    "result_bytes = bytes(string, 'ascii', errors = 'ignore')\n",
    "result_bytearray = bytearray(string, 'ascii', errors = 'ignore')\n",
    "print('Byte conversion:', result_bytes)\n",
    "print('ByteArray conversion:', result_bytearray)"
   ]
  },
  {
   "cell_type": "code",
   "execution_count": null,
   "id": "04ba4df8",
   "metadata": {},
   "outputs": [
    {
     "name": "stdout",
     "output_type": "stream",
     "text": [
      "Byte conversion: b'Python pr?gram is easy t? learn'\n",
      "ByteArray conversion: bytearray(b'Python pr?gram is easy t? learn')\n"
     ]
    }
   ],
   "source": [
    "# encoding = ascii, errors are replaced\n",
    "result_bytes = bytes(string, 'ascii', errors = 'replace')\n",
    "result_bytearray = bytearray(string, 'ascii', errors = 'replace')\n",
    "print('Byte conversion:', result_bytes)\n",
    "print('ByteArray conversion:', result_bytearray)"
   ]
  },
  {
   "cell_type": "code",
   "execution_count": null,
   "id": "15728e05",
   "metadata": {},
   "outputs": [
    {
     "ename": "TypeError",
     "evalue": "'str' object does not support item assignment",
     "output_type": "error",
     "traceback": [
      "\u001b[1;31m---------------------------------------------------------------------------\u001b[0m",
      "\u001b[1;31mTypeError\u001b[0m                                 Traceback (most recent call last)",
      "Input \u001b[1;32mIn [8]\u001b[0m, in \u001b[0;36m<cell line: 4>\u001b[1;34m()\u001b[0m\n\u001b[0;32m      2\u001b[0m x \u001b[38;5;241m=\u001b[39m \u001b[38;5;124m\"\u001b[39m\u001b[38;5;124mStay gold Ponyboy.\u001b[39m\u001b[38;5;124m\"\u001b[39m\n\u001b[0;32m      3\u001b[0m \u001b[38;5;66;03m# Try to mutate it\u001b[39;00m\n\u001b[1;32m----> 4\u001b[0m \u001b[43mx\u001b[49m\u001b[43m[\u001b[49m\u001b[38;5;241;43m5\u001b[39;49m\u001b[43m:\u001b[49m\u001b[38;5;241;43m9\u001b[39;49m\u001b[43m]\u001b[49m \u001b[38;5;241m=\u001b[39m \u001b[38;5;124m'\u001b[39m\u001b[38;5;124msilver\u001b[39m\u001b[38;5;124m'\u001b[39m\n",
      "\u001b[1;31mTypeError\u001b[0m: 'str' object does not support item assignment"
     ]
    }
   ],
   "source": [
    "# Define a string\n",
    "x = \"Stay gold Ponyboy.\"\n",
    "# Try to mutate it\n",
    "x[5:9] = 'silver'"
   ]
  },
  {
   "cell_type": "code",
   "execution_count": null,
   "id": "6e4d9892",
   "metadata": {},
   "outputs": [
    {
     "data": {
      "text/plain": [
       "bytearray(b'Stay silver Ponyboy.')"
      ]
     },
     "execution_count": 9,
     "metadata": {},
     "output_type": "execute_result"
    }
   ],
   "source": [
    "x = \"Stay gold Ponyboy.\"\n",
    "y = bytearray(x, encoding='ascii')\n",
    "# Try to mutate it\n",
    "y[5:] = bytearray('silver Ponyboy.', encoding='ascii')\n",
    "y"
   ]
  },
  {
   "cell_type": "code",
   "execution_count": null,
   "id": "6f36a0e2",
   "metadata": {},
   "outputs": [],
   "source": []
  },
  {
   "cell_type": "code",
   "execution_count": null,
   "id": "227982ef",
   "metadata": {},
   "outputs": [],
   "source": []
  }
 ],
 "metadata": {
  "kernelspec": {
   "display_name": "tensf",
   "language": "python",
   "name": "python3"
  },
  "language_info": {
   "codemirror_mode": {
    "name": "ipython",
    "version": 3
   },
   "file_extension": ".py",
   "mimetype": "text/x-python",
   "name": "python",
   "nbconvert_exporter": "python",
   "pygments_lexer": "ipython3",
   "version": "3.10.8"
  },
  "vscode": {
   "interpreter": {
    "hash": "3e313d1f24da57a081eee6b594756086e5e54161d7342791616a06970af18016"
   }
  }
 },
 "nbformat": 4,
 "nbformat_minor": 5
}
