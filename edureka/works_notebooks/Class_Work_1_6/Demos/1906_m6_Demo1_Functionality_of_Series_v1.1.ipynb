{
  "cells": [
    {
      "cell_type": "markdown",
      "metadata": {
        "id": "QYPKpW5N2UF5"
      },
      "source": [
        "\n",
        "\n",
        "# Module 6 - Data Manipulation Using Pandas\n",
        "\n",
        "<h2>Demo 1 - Functionality of Series</h2>\n",
        "\n",
        "In this demo, you will be shown how to create Series in Python and use various attributes and functionality of Series using pandas."
      ]
    },
    {
      "cell_type": "markdown",
      "metadata": {
        "id": "qND81uR82UF9"
      },
      "source": [
        "##### Question 1:\n",
        "\n",
        "    1) Create a pandas Series from a list  x = [13, -5, 7, 19]\n",
        "    2) Create a series using a numpy array having values \"23, 3.0, 7, 11\" and specifying index values as \"a, b, c, d\"\n",
        "    3) Get the values and index of the series of the above series\n",
        "    4) Access individual elements of the string\n",
        "    5) Assign new values to the elements"
      ]
    },
    {
      "cell_type": "code",
      "execution_count": null,
      "metadata": {
        "id": "dJUOPcsM2UF_",
        "outputId": "e477f96e-60f2-4301-c9b4-00b574f93d26"
      },
      "outputs": [
        {
          "name": "stdout",
          "output_type": "stream",
          "text": [
            "0    13\n",
            "1    -5\n",
            "2     7\n",
            "3    19\n",
            "dtype: int64\n"
          ]
        }
      ],
      "source": [
        "# Import the required libraries\n",
        "\n",
        "import pandas as pd\n",
        "import numpy as np\n",
        "\n",
        "# 1.1 Create a pandas Series from a list  x = [13, -5, 7, 19]\n",
        "x = [13, -5, 7, 19]\n",
        "s1 = pd.Series(x)\n",
        "\n",
        "# Print the series and observe the default indices created\n",
        "print(s1)"
      ]
    },
    {
      "cell_type": "code",
      "execution_count": null,
      "metadata": {
        "id": "anSWCpjJ2UGD"
      },
      "outputs": [],
      "source": [
        "# Notice that the data type is automatically set for the series as 'int64'"
      ]
    },
    {
      "cell_type": "code",
      "execution_count": null,
      "metadata": {
        "id": "uAa5mP8I2UGE",
        "outputId": "da2d0e00-62b3-4306-9215-272d8611040d"
      },
      "outputs": [
        {
          "name": "stdout",
          "output_type": "stream",
          "text": [
            "a    23.0\n",
            "b     3.0\n",
            "c     7.0\n",
            "d    11.0\n",
            "dtype: float64\n"
          ]
        }
      ],
      "source": [
        "# 1.2 Create a series using a numpy array\n",
        "\n",
        "y = np.array([23, 3., 7, 11])\n",
        "s2 = pd.Series(y, index=['a', 'b', 'c', 'd'])\n",
        "\n",
        "print(s2)"
      ]
    },
    {
      "cell_type": "code",
      "execution_count": null,
      "metadata": {
        "id": "s5UIESnE2UGF",
        "outputId": "5ee5d23e-07fd-4f16-b974-2a62b12b439b"
      },
      "outputs": [
        {
          "data": {
            "text/plain": [
              "dtype('float64')"
            ]
          },
          "execution_count": 4,
          "metadata": {},
          "output_type": "execute_result"
        }
      ],
      "source": [
        "# Note that indices are specifies at the time of creation.\n",
        "\n",
        "# Check the data type of the series\n",
        "s2.dtype"
      ]
    },
    {
      "cell_type": "code",
      "execution_count": null,
      "metadata": {
        "id": "aWrbSC8e2UGG"
      },
      "outputs": [],
      "source": [
        "# The data type is set as float since one of the values is a float"
      ]
    },
    {
      "cell_type": "code",
      "execution_count": null,
      "metadata": {
        "id": "jsEI7IGS2UGH",
        "outputId": "f20746bc-9080-444c-9af8-ff9bfe827856"
      },
      "outputs": [
        {
          "name": "stdout",
          "output_type": "stream",
          "text": [
            "Values: [23.  3.  7. 11.]\n",
            "Index: Index(['a', 'b', 'c', 'd'], dtype='object')\n"
          ]
        }
      ],
      "source": [
        "# 1.3 Get the values and index of the series\n",
        "\n",
        "print(\"Values:\", s2.values)\n",
        "\n",
        "print(\"Index:\", s2.index)"
      ]
    },
    {
      "cell_type": "code",
      "execution_count": null,
      "metadata": {
        "id": "S_EPErzd2UGI",
        "outputId": "d14c579e-2d50-4446-ffa0-ced679a826e1"
      },
      "outputs": [
        {
          "name": "stdout",
          "output_type": "stream",
          "text": [
            "Third element:  7.0\n",
            "First two elements:\n",
            "\n",
            "a    23.0\n",
            "b     3.0\n",
            "dtype: float64\n",
            "Element having index 'd':\n",
            "11.0\n"
          ]
        }
      ],
      "source": [
        "# 1.4 Access the elements of Series\n",
        "\n",
        "print(\"Third element: \", s2[2])\n",
        "\n",
        "print(\"First two elements:\\n\")\n",
        "print(s2[0:2])\n",
        "\n",
        "print(\"Element having index 'd':\")\n",
        "print(s2['d'])\n"
      ]
    },
    {
      "cell_type": "code",
      "execution_count": null,
      "metadata": {
        "id": "fnAMbqIS2UGJ",
        "outputId": "710b880a-aae1-4421-bf68-aae3cc20dec8"
      },
      "outputs": [
        {
          "name": "stdout",
          "output_type": "stream",
          "text": [
            "a    10.0\n",
            "b    11.0\n",
            "c     7.0\n",
            "d    11.0\n",
            "dtype: float64\n"
          ]
        }
      ],
      "source": [
        "# 1.5 Assign new values to the elements\n",
        "\n",
        "s2['a'] = 10\n",
        "\n",
        "s2[1] = 11\n",
        "print(s2)"
      ]
    },
    {
      "cell_type": "markdown",
      "metadata": {
        "id": "015lvV4b2UGK"
      },
      "source": [
        "##### Question 2:\n",
        "\n",
        "From the raw data below create a Pandas Series\n",
        "\n",
        "'Amit', 'Bob', 'Kate', 'A', 'b', np.nan, 'Car', 'dog', 'cat'\n",
        "\n",
        "    1) Print all elements in lower case\n",
        "    2) Print all the elements in upper case\t\n",
        "    3) Print the length of all the elements\n"
      ]
    },
    {
      "cell_type": "code",
      "execution_count": null,
      "metadata": {
        "id": "0AEAaD322UGK",
        "outputId": "81aaf6ef-e56e-44b1-d412-244eaffac39f"
      },
      "outputs": [
        {
          "name": "stdout",
          "output_type": "stream",
          "text": [
            "0    amit\n",
            "1     bob\n",
            "2    kate\n",
            "3       a\n",
            "4       b\n",
            "5     NaN\n",
            "6     car\n",
            "7     dog\n",
            "8     cat\n",
            "dtype: object\n"
          ]
        }
      ],
      "source": [
        "# 2.1\n",
        "s = pd.Series(['Amit', 'Bob', 'Kate', 'A', 'b', np.nan, 'Car', 'dog', 'cat'])\n",
        "print(s.str.lower())"
      ]
    },
    {
      "cell_type": "code",
      "execution_count": null,
      "metadata": {
        "id": "n3924vee2UGL",
        "outputId": "d7d1a33d-468c-4e03-cb3e-4b750d46458c"
      },
      "outputs": [
        {
          "name": "stdout",
          "output_type": "stream",
          "text": [
            "0    AMIT\n",
            "1     BOB\n",
            "2    KATE\n",
            "3       A\n",
            "4       B\n",
            "5     NaN\n",
            "6     CAR\n",
            "7     DOG\n",
            "8     CAT\n",
            "dtype: object\n"
          ]
        }
      ],
      "source": [
        "# 2.2\n",
        "\n",
        "print(s.str.upper()) "
      ]
    },
    {
      "cell_type": "code",
      "execution_count": null,
      "metadata": {
        "id": "v-2nURWi2UGM",
        "outputId": "a3589d42-03c5-4d4e-e072-3c56b305ea86"
      },
      "outputs": [
        {
          "name": "stdout",
          "output_type": "stream",
          "text": [
            "0    4.0\n",
            "1    3.0\n",
            "2    4.0\n",
            "3    1.0\n",
            "4    1.0\n",
            "5    NaN\n",
            "6    3.0\n",
            "7    3.0\n",
            "8    3.0\n",
            "dtype: float64\n"
          ]
        }
      ],
      "source": [
        "# 2.3\n",
        "\n",
        "print(s.str.len())"
      ]
    },
    {
      "cell_type": "markdown",
      "metadata": {
        "id": "pbt4NmXM2UGM"
      },
      "source": [
        "##### Question 3:\n",
        "\n",
        "From the raw data below create a Pandas Series\n",
        "\n",
        "' Arya', 'John ', ' jack ', 'Sam'\n",
        "\n",
        "    1) Print all elements after stripping spaces from the left and right\n",
        "    2) Print all the elements after removing spaces from the left only\n",
        "    3) Print all the elements after removing spaces from the right only\n"
      ]
    },
    {
      "cell_type": "code",
      "execution_count": null,
      "metadata": {
        "id": "1Dc_CkMU2UGN",
        "outputId": "4dff7586-01a7-4d30-d4f9-315e8388c58a"
      },
      "outputs": [
        {
          "name": "stdout",
          "output_type": "stream",
          "text": [
            "Index([' Arya', 'John ', ' jack ', 'Sam'], dtype='object')\n",
            "Index(['Arya', 'John', 'jack', 'Sam'], dtype='object')\n"
          ]
        }
      ],
      "source": [
        "# 3.1\n",
        "s = pd.Index([' Arya', 'John ', ' jack ', 'Sam'])\n",
        "\n",
        "print(s)\n",
        "print(s.str.strip())"
      ]
    },
    {
      "cell_type": "code",
      "execution_count": null,
      "metadata": {
        "id": "6tNoZfud2UGN",
        "outputId": "a3fa9df8-257a-43ff-9fc1-114013174e15"
      },
      "outputs": [
        {
          "name": "stdout",
          "output_type": "stream",
          "text": [
            "Index(['Arya', 'John ', 'jack ', 'Sam'], dtype='object')\n"
          ]
        }
      ],
      "source": [
        "# 3.2\n",
        "\n",
        "print(s.str.lstrip())"
      ]
    },
    {
      "cell_type": "code",
      "execution_count": null,
      "metadata": {
        "id": "3vHWGaFn2UGN",
        "outputId": "e411a7f1-4b3e-4f99-9ffb-395249d80f86"
      },
      "outputs": [
        {
          "name": "stdout",
          "output_type": "stream",
          "text": [
            "Index([' Arya', 'John', ' jack', 'Sam'], dtype='object')\n"
          ]
        }
      ],
      "source": [
        "# 3.3\n",
        "\n",
        "print(s.str.rstrip())"
      ]
    },
    {
      "cell_type": "markdown",
      "metadata": {
        "id": "zXLkjzdD2UGO"
      },
      "source": [
        "##### Conclusion: This code demonstrates to create Series in pandas and use various functionality of series."
      ]
    }
  ],
  "metadata": {
    "colab": {
      "name": "1906_Demo1_Functionality of Series_v1.0.ipynb",
      "provenance": []
    },
    "kernelspec": {
      "display_name": "venvimg",
      "language": "python",
      "name": "python3"
    },
    "language_info": {
      "codemirror_mode": {
        "name": "ipython",
        "version": 3
      },
      "file_extension": ".py",
      "mimetype": "text/x-python",
      "name": "python",
      "nbconvert_exporter": "python",
      "pygments_lexer": "ipython3",
      "version": "3.10.8"
    },
    "vscode": {
      "interpreter": {
        "hash": "9af664887e86d7f0d817e36ed0f8bd177f6d406f89cac0874c283298ac904e95"
      }
    }
  },
  "nbformat": 4,
  "nbformat_minor": 0
}
