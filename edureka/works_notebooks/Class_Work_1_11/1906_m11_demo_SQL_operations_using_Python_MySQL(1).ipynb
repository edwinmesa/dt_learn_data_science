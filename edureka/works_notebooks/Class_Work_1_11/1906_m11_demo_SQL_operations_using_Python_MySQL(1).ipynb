{
 "cells": [
  {
   "cell_type": "markdown",
   "metadata": {},
   "source": [
    "## Demo - SQL operations using Python MySQL"
   ]
  },
  {
   "cell_type": "markdown",
   "metadata": {},
   "source": [
    "The first step in interacting with a MySQL server is to establish a connection. To do this, you need connect() from the mysql.connector module. This function takes in parameters like host, user, and password and returns a MySQLConnection object. You can receive these credentials as input from the user and pass them to connect():"
   ]
  },
  {
   "cell_type": "code",
   "execution_count": 4,
   "metadata": {},
   "outputs": [
    {
     "name": "stdout",
     "output_type": "stream",
     "text": [
      "<mysql.connector.connection_cext.CMySQLConnection object at 0x0000019B21362560>\n"
     ]
    }
   ],
   "source": [
    "import mysql.connector\n",
    "from mysql.connector import connect, Error\n",
    "\n",
    "try:\n",
    "    with connect(\n",
    "        host=\"localhost\",\n",
    "        user=\"root\",\n",
    "        password=\"\",\n",
    "    ) as connection:\n",
    "        print(connection)\n",
    "except Error as e:\n",
    "    print(e)"
   ]
  },
  {
   "cell_type": "markdown",
   "metadata": {},
   "source": [
    "Now we will create a new database called online_movie_rating"
   ]
  },
  {
   "cell_type": "code",
   "execution_count": 7,
   "metadata": {},
   "outputs": [
    {
     "name": "stdout",
     "output_type": "stream",
     "text": [
      "1007 (HY000): Can't create database 'online_movie_rating'; database exists\n"
     ]
    }
   ],
   "source": [
    "from mysql.connector import connect, Error\n",
    "\n",
    "try:\n",
    "    with connect(\n",
    "        host=\"localhost\",\n",
    "        user=\"root\",\n",
    "        password=\"\",\n",
    "    ) as connection:\n",
    "        create_db_query = \"CREATE DATABASE online_movie_rating\"\n",
    "        with connection.cursor() as cursor:\n",
    "            cursor.execute(create_db_query)\n",
    "except Error as e:\n",
    "    print(e)\n"
   ]
  },
  {
   "cell_type": "markdown",
   "metadata": {},
   "source": [
    "Run the following script to check if your database is created. In the output section, we can see the newly created DB."
   ]
  },
  {
   "cell_type": "code",
   "execution_count": 8,
   "metadata": {},
   "outputs": [
    {
     "name": "stdout",
     "output_type": "stream",
     "text": [
      "[('applog',), ('information_schema',), ('mysql',), ('online_movie_rating',), ('performance_schema',), ('phpmyadmin',), ('test',)]\n"
     ]
    }
   ],
   "source": [
    "show_db_query = \"SHOW DATABASES\"\n",
    "db = mysql.connector.connect(\n",
    "    host = \"localhost\",\n",
    "    user = \"root\",\n",
    "    password=\"\"\n",
    ")\n",
    "cursor = db.cursor()\n",
    "cursor.execute(show_db_query)\n",
    "\n",
    "databases = cursor.fetchall()\n",
    "print(databases)"
   ]
  },
  {
   "cell_type": "markdown",
   "metadata": {},
   "source": [
    "Now we will create three tables: movies, reviewers, and ratings."
   ]
  },
  {
   "cell_type": "code",
   "execution_count": 10,
   "metadata": {},
   "outputs": [],
   "source": [
    "create_movies_table_query = \"\"\"\n",
    "CREATE TABLE movies(\n",
    "    id INT AUTO_INCREMENT PRIMARY KEY,\n",
    "    title VARCHAR(100),\n",
    "    release_year YEAR(4),\n",
    "    genre VARCHAR(100),\n",
    "    collection_in_mil INT\n",
    ")\n",
    "\"\"\"\n",
    "db = mysql.connector.connect(\n",
    "    host = \"localhost\",\n",
    "    user = \"root\",\n",
    "    password=\"\",\n",
    "    database=\"online_movie_rating\"\n",
    ")\n",
    "cursor = db.cursor()\n",
    "cursor.execute(create_movies_table_query)"
   ]
  },
  {
   "cell_type": "code",
   "execution_count": 11,
   "metadata": {},
   "outputs": [],
   "source": [
    "create_reviewers_table_query = \"\"\"\n",
    "CREATE TABLE reviewers (\n",
    "    id INT AUTO_INCREMENT PRIMARY KEY,\n",
    "    first_name VARCHAR(100),\n",
    "    last_name VARCHAR(100)\n",
    ")\n",
    "\"\"\"\n",
    "db = mysql.connector.connect(\n",
    "    host = \"localhost\",\n",
    "    user = \"root\",\n",
    "    password=\"\",\n",
    "    database=\"online_movie_rating\"\n",
    ")\n",
    "cursor = db.cursor()\n",
    "cursor.execute(create_reviewers_table_query)"
   ]
  },
  {
   "cell_type": "code",
   "execution_count": 12,
   "metadata": {},
   "outputs": [],
   "source": [
    "create_ratings_table_query = \"\"\"\n",
    "CREATE TABLE ratings (\n",
    "    movie_id INT,\n",
    "    reviewer_id INT,\n",
    "    rating DECIMAL(2,1),\n",
    "    FOREIGN KEY(movie_id) REFERENCES movies(id),\n",
    "    FOREIGN KEY(reviewer_id) REFERENCES reviewers(id),\n",
    "    PRIMARY KEY(movie_id, reviewer_id)\n",
    ")\n",
    "\"\"\"\n",
    "db = mysql.connector.connect(\n",
    "    host = \"localhost\",\n",
    "    user = \"root\",\n",
    "    password=\"\",\n",
    "    database=\"online_movie_rating\"\n",
    ")\n",
    "cursor = db.cursor()\n",
    "cursor.execute(create_ratings_table_query)"
   ]
  },
  {
   "cell_type": "markdown",
   "metadata": {},
   "source": [
    "To check the schema of movies table, run the below script."
   ]
  },
  {
   "cell_type": "code",
   "execution_count": 13,
   "metadata": {},
   "outputs": [
    {
     "name": "stdout",
     "output_type": "stream",
     "text": [
      "[('id', 'int(11)', 'NO', 'PRI', None, 'auto_increment'), ('title', 'varchar(100)', 'YES', '', None, ''), ('release_year', 'year(4)', 'YES', '', None, ''), ('genre', 'varchar(100)', 'YES', '', None, ''), ('collection_in_mil', 'int(11)', 'YES', '', None, '')]\n"
     ]
    }
   ],
   "source": [
    "show_table_query = \"DESCRIBE movies\"\n",
    "\n",
    "cursor = db.cursor()\n",
    "cursor.execute(show_table_query)\n",
    "print(cursor.fetchall())\n"
   ]
  },
  {
   "cell_type": "markdown",
   "metadata": {},
   "source": [
    "Now we want to modify the collection_in_mil column and change its type from int to decimal."
   ]
  },
  {
   "cell_type": "code",
   "execution_count": 14,
   "metadata": {},
   "outputs": [
    {
     "name": "stdout",
     "output_type": "stream",
     "text": [
      "('id', 'int(11)', 'NO', 'PRI', None, 'auto_increment')\n",
      "('title', 'varchar(100)', 'YES', '', None, '')\n",
      "('release_year', 'year(4)', 'YES', '', None, '')\n",
      "('genre', 'varchar(100)', 'YES', '', None, '')\n",
      "('collection_in_mil', 'decimal(4,1)', 'YES', '', None, '')\n"
     ]
    }
   ],
   "source": [
    "alter_table_query = \"\"\"\n",
    "ALTER TABLE movies\n",
    "MODIFY COLUMN collection_in_mil DECIMAL(4,1)\n",
    "\"\"\"\n",
    "cursor.execute(alter_table_query)\n",
    "cursor.execute(\"DESCRIBE movies\")\n",
    "\n",
    "result = cursor.fetchall()\n",
    "for row in result:\n",
    "    print(row)"
   ]
  },
  {
   "cell_type": "markdown",
   "metadata": {},
   "source": [
    "Now let's see how to drop a table. First we will see the names of existing tables:"
   ]
  },
  {
   "cell_type": "code",
   "execution_count": 15,
   "metadata": {},
   "outputs": [
    {
     "name": "stdout",
     "output_type": "stream",
     "text": [
      "('movies',)\n",
      "('ratings',)\n",
      "('reviewers',)\n"
     ]
    }
   ],
   "source": [
    "cursor.execute(\"SHOW TABLES\")\n",
    "tables = cursor.fetchall()\n",
    "for table in tables:\n",
    "    print(table)"
   ]
  },
  {
   "cell_type": "markdown",
   "metadata": {},
   "source": [
    "Run the below command to drop table 'ratings'. You can see in the output section that ratings table has been removed."
   ]
  },
  {
   "cell_type": "code",
   "execution_count": 16,
   "metadata": {},
   "outputs": [
    {
     "name": "stdout",
     "output_type": "stream",
     "text": [
      "('movies',)\n",
      "('reviewers',)\n"
     ]
    }
   ],
   "source": [
    "drop_table_query = \"DROP TABLE ratings\"\n",
    "cursor.execute(drop_table_query)\n",
    "cursor.execute(\"SHOW TABLES\")\n",
    "tables = cursor.fetchall()\n",
    "for table in tables:\n",
    "    print(table)"
   ]
  },
  {
   "cell_type": "markdown",
   "metadata": {},
   "source": [
    "Inserting values in the movies table. Here we have data for 30 movies."
   ]
  },
  {
   "cell_type": "code",
   "execution_count": 17,
   "metadata": {},
   "outputs": [
    {
     "name": "stdout",
     "output_type": "stream",
     "text": [
      "(1, 'Forrest Gump', 1994, 'Drama', Decimal('330.2'))\n",
      "(2, '3 Idiots', 2009, 'Drama', Decimal('2.4'))\n",
      "(3, 'Eternal Sunshine of the Spotless Mind', 2004, 'Drama', Decimal('34.5'))\n",
      "(4, 'Good Will Hunting', 1997, 'Drama', Decimal('138.1'))\n",
      "(5, 'Skyfall', 2012, 'Action', Decimal('304.6'))\n",
      "(6, 'Gladiator', 2000, 'Action', Decimal('188.7'))\n",
      "(7, 'Black', 2005, 'Drama', Decimal('3.0'))\n",
      "(8, 'Titanic', 1997, 'Romance', Decimal('659.2'))\n",
      "(9, 'The Shawshank Redemption', 1994, 'Drama', Decimal('28.4'))\n",
      "(10, 'Udaan', 2010, 'Drama', Decimal('1.5'))\n",
      "(11, 'Home Alone', 1990, 'Comedy', Decimal('286.9'))\n",
      "(12, 'Casablanca', 1942, 'Romance', Decimal('1.0'))\n",
      "(13, 'Avengers: Endgame', 2019, 'Action', Decimal('858.8'))\n",
      "(14, 'Night of the Living Dead', 1968, 'Horror', Decimal('2.5'))\n",
      "(15, 'The Godfather', 1972, 'Crime', Decimal('135.6'))\n",
      "(16, 'Haider', 2014, 'Action', Decimal('4.2'))\n",
      "(17, 'Inception', 2010, 'Adventure', Decimal('293.7'))\n",
      "(18, 'Evil', 2003, 'Horror', Decimal('1.3'))\n",
      "(19, 'Toy Story 4', 2019, 'Animation', Decimal('434.9'))\n",
      "(20, 'Air Force One', 1997, 'Drama', Decimal('138.1'))\n",
      "(21, 'The Dark Knight', 2008, 'Action', Decimal('535.4'))\n",
      "(22, 'Bhaag Milkha Bhaag', 2013, 'Sport', Decimal('4.1'))\n",
      "(23, 'The Lion King', 1994, 'Animation', Decimal('423.6'))\n",
      "(24, 'Pulp Fiction', 1994, 'Crime', Decimal('108.8'))\n",
      "(25, 'Kai Po Che', 2013, 'Sport', Decimal('6.0'))\n",
      "(26, 'Beasts of No Nation', 2015, 'War', Decimal('1.4'))\n",
      "(27, 'Andadhun', 2018, 'Thriller', Decimal('2.9'))\n",
      "(28, 'The Silence of the Lambs', 1991, 'Crime', Decimal('68.2'))\n",
      "(29, 'Deadpool', 2016, 'Action', Decimal('363.6'))\n",
      "(30, 'Drishyam', 2015, 'Mystery', Decimal('3.0'))\n"
     ]
    }
   ],
   "source": [
    "insert_movies_query = \"\"\"\n",
    "INSERT INTO movies (title, release_year, genre, collection_in_mil)\n",
    "VALUES\n",
    "    (\"Forrest Gump\", 1994, \"Drama\", 330.2),\n",
    "    (\"3 Idiots\", 2009, \"Drama\", 2.4),\n",
    "    (\"Eternal Sunshine of the Spotless Mind\", 2004, \"Drama\", 34.5),\n",
    "    (\"Good Will Hunting\", 1997, \"Drama\", 138.1),\n",
    "    (\"Skyfall\", 2012, \"Action\", 304.6),\n",
    "    (\"Gladiator\", 2000, \"Action\", 188.7),\n",
    "    (\"Black\", 2005, \"Drama\", 3.0),\n",
    "    (\"Titanic\", 1997, \"Romance\", 659.2),\n",
    "    (\"The Shawshank Redemption\", 1994, \"Drama\",28.4),\n",
    "    (\"Udaan\", 2010, \"Drama\", 1.5),\n",
    "    (\"Home Alone\", 1990, \"Comedy\", 286.9),\n",
    "    (\"Casablanca\", 1942, \"Romance\", 1.0),\n",
    "    (\"Avengers: Endgame\", 2019, \"Action\", 858.8),\n",
    "    (\"Night of the Living Dead\", 1968, \"Horror\", 2.5),\n",
    "    (\"The Godfather\", 1972, \"Crime\", 135.6),\n",
    "    (\"Haider\", 2014, \"Action\", 4.2),\n",
    "    (\"Inception\", 2010, \"Adventure\", 293.7),\n",
    "    (\"Evil\", 2003, \"Horror\", 1.3),\n",
    "    (\"Toy Story 4\", 2019, \"Animation\", 434.9),\n",
    "    (\"Air Force One\", 1997, \"Drama\", 138.1),\n",
    "    (\"The Dark Knight\", 2008, \"Action\",535.4),\n",
    "    (\"Bhaag Milkha Bhaag\", 2013, \"Sport\", 4.1),\n",
    "    (\"The Lion King\", 1994, \"Animation\", 423.6),\n",
    "    (\"Pulp Fiction\", 1994, \"Crime\", 108.8),\n",
    "    (\"Kai Po Che\", 2013, \"Sport\", 6.0),\n",
    "    (\"Beasts of No Nation\", 2015, \"War\", 1.4),\n",
    "    (\"Andadhun\", 2018, \"Thriller\", 2.9),\n",
    "    (\"The Silence of the Lambs\", 1991, \"Crime\", 68.2),\n",
    "    (\"Deadpool\", 2016, \"Action\", 363.6),\n",
    "    (\"Drishyam\", 2015, \"Mystery\", 3.0)\n",
    "\"\"\"\n",
    "cursor.execute(insert_movies_query)\n",
    "cursor.execute(\"SELECT * FROM movies\")\n",
    "#print(cursor.fetchall())\n",
    "\n",
    "records = cursor.fetchall()\n",
    "for record in records:\n",
    "    print(record)"
   ]
  },
  {
   "cell_type": "markdown",
   "metadata": {},
   "source": [
    "Now we will populate the reviewers table similarly"
   ]
  },
  {
   "cell_type": "code",
   "execution_count": 18,
   "metadata": {},
   "outputs": [
    {
     "name": "stdout",
     "output_type": "stream",
     "text": [
      "(1, 'Chaitanya', 'Baweja')\n",
      "(2, 'Mary', 'Cooper')\n",
      "(3, 'John', 'Wayne')\n",
      "(4, 'Thomas', 'Stoneman')\n",
      "(5, 'Penny', 'Hofstadter')\n",
      "(6, 'Mitchell', 'Marsh')\n",
      "(7, 'Wyatt', 'Skaggs')\n",
      "(8, 'Andre', 'Veiga')\n",
      "(9, 'Sheldon', 'Cooper')\n",
      "(10, 'Kimbra', 'Masters')\n",
      "(11, 'Kat', 'Dennings')\n",
      "(12, 'Bruce', 'Wayne')\n",
      "(13, 'Domingo', 'Cortes')\n",
      "(14, 'Rajesh', 'Koothrappali')\n",
      "(15, 'Ben', 'Glocker')\n",
      "(16, 'Mahinder', 'Dhoni')\n",
      "(17, 'Akbar', 'Khan')\n",
      "(18, 'Howard', 'Wolowitz')\n",
      "(19, 'Pinkie', 'Petit')\n",
      "(20, 'Gurkaran', 'Singh')\n",
      "(21, 'Amy', 'Farah Fowler')\n",
      "(22, 'Marlon', 'Crafford')\n"
     ]
    }
   ],
   "source": [
    "insert_reviewers_query = \"\"\"\n",
    "INSERT INTO reviewers\n",
    "(first_name, last_name)\n",
    "VALUES ( %s, %s )\n",
    "\"\"\"\n",
    "reviewers_records = [\n",
    "    (\"Chaitanya\", \"Baweja\"),\n",
    "    (\"Mary\", \"Cooper\"),\n",
    "    (\"John\", \"Wayne\"),\n",
    "    (\"Thomas\", \"Stoneman\"),\n",
    "    (\"Penny\", \"Hofstadter\"),\n",
    "    (\"Mitchell\", \"Marsh\"),\n",
    "    (\"Wyatt\", \"Skaggs\"),\n",
    "    (\"Andre\", \"Veiga\"),\n",
    "    (\"Sheldon\", \"Cooper\"),\n",
    "    (\"Kimbra\", \"Masters\"),\n",
    "    (\"Kat\", \"Dennings\"),\n",
    "    (\"Bruce\", \"Wayne\"),\n",
    "    (\"Domingo\", \"Cortes\"),\n",
    "    (\"Rajesh\", \"Koothrappali\"),\n",
    "    (\"Ben\", \"Glocker\"),\n",
    "    (\"Mahinder\", \"Dhoni\"),\n",
    "    (\"Akbar\", \"Khan\"),\n",
    "    (\"Howard\", \"Wolowitz\"),\n",
    "    (\"Pinkie\", \"Petit\"),\n",
    "    (\"Gurkaran\", \"Singh\"),\n",
    "    (\"Amy\", \"Farah Fowler\"),\n",
    "    (\"Marlon\", \"Crafford\"),\n",
    "]\n",
    "\n",
    "cursor.executemany(insert_reviewers_query, reviewers_records)\n",
    "cursor.execute(\"SELECT * FROM reviewers\")\n",
    "#print(cursor.fetchall())\n",
    "\n",
    "records = cursor.fetchall()\n",
    "for record in records:\n",
    "    print(record)"
   ]
  },
  {
   "cell_type": "markdown",
   "metadata": {},
   "source": [
    "Filter out movies that have genre as 'Drama'."
   ]
  },
  {
   "cell_type": "code",
   "execution_count": 19,
   "metadata": {},
   "outputs": [
    {
     "name": "stdout",
     "output_type": "stream",
     "text": [
      "(1, 'Forrest Gump', 1994, 'Drama', Decimal('330.2'))\n",
      "(2, '3 Idiots', 2009, 'Drama', Decimal('2.4'))\n",
      "(3, 'Eternal Sunshine of the Spotless Mind', 2004, 'Drama', Decimal('34.5'))\n",
      "(4, 'Good Will Hunting', 1997, 'Drama', Decimal('138.1'))\n",
      "(7, 'Black', 2005, 'Drama', Decimal('3.0'))\n",
      "(9, 'The Shawshank Redemption', 1994, 'Drama', Decimal('28.4'))\n",
      "(10, 'Udaan', 2010, 'Drama', Decimal('1.5'))\n",
      "(20, 'Air Force One', 1997, 'Drama', Decimal('138.1'))\n"
     ]
    }
   ],
   "source": [
    "select_movies_query = \"\"\"\n",
    "SELECT *\n",
    "FROM movies\n",
    "WHERE genre = 'Drama'\n",
    "\"\"\"\n",
    "cursor.execute(select_movies_query)\n",
    "for movie in cursor.fetchall():\n",
    "    print(movie)\n"
   ]
  },
  {
   "cell_type": "markdown",
   "metadata": {},
   "source": [
    "Selecting movies based on funds raised in descending order and then displaying the movie name with the release year in brackets."
   ]
  },
  {
   "cell_type": "code",
   "execution_count": 20,
   "metadata": {},
   "outputs": [
    {
     "name": "stdout",
     "output_type": "stream",
     "text": [
      "('Avengers: Endgame (2019)', Decimal('858.8'))\n",
      "('Titanic (1997)', Decimal('659.2'))\n",
      "('The Dark Knight (2008)', Decimal('535.4'))\n",
      "('Toy Story 4 (2019)', Decimal('434.9'))\n",
      "('The Lion King (1994)', Decimal('423.6'))\n"
     ]
    }
   ],
   "source": [
    "select_movies_query = \"\"\"\n",
    "SELECT CONCAT(title, \" (\", release_year, \")\"),collection_in_mil\n",
    "FROM movies\n",
    "ORDER BY collection_in_mil DESC\n",
    "LIMIT 5\n",
    "\"\"\"\n",
    "cursor.execute(select_movies_query)\n",
    "for movie in cursor.fetchall():\n",
    "    print(movie)"
   ]
  },
  {
   "cell_type": "markdown",
   "metadata": {},
   "source": [
    "One of the reviewers named Amy Farah Fowler is now married to Sheldon Cooper. Her last name has changed and it has to be updated in the table. "
   ]
  },
  {
   "cell_type": "code",
   "execution_count": 21,
   "metadata": {},
   "outputs": [
    {
     "name": "stdout",
     "output_type": "stream",
     "text": [
      "[(21, 'Amy', 'Farah Fowler')]\n"
     ]
    }
   ],
   "source": [
    "cursor.execute(\"Select * from reviewers WHERE first_name = 'Amy'\")\n",
    "print(cursor.fetchall())"
   ]
  },
  {
   "cell_type": "code",
   "execution_count": 22,
   "metadata": {},
   "outputs": [
    {
     "name": "stdout",
     "output_type": "stream",
     "text": [
      "[(21, 'Amy', 'Cooper')]\n"
     ]
    }
   ],
   "source": [
    "update_query = \"\"\"\n",
    "UPDATE\n",
    "    reviewers\n",
    "SET\n",
    "    last_name = \"Cooper\"\n",
    "WHERE\n",
    "    first_name = \"Amy\"\n",
    "\"\"\"\n",
    "cursor.execute(update_query)\n",
    "cursor.execute(\"Select * from reviewers WHERE first_name = 'Amy'\")\n",
    "print(cursor.fetchall())\n"
   ]
  },
  {
   "cell_type": "markdown",
   "metadata": {},
   "source": [
    "### Let us now see how to parse JSON data into a file."
   ]
  },
  {
   "cell_type": "code",
   "execution_count": null,
   "metadata": {},
   "outputs": [],
   "source": [
    "import mysql.connector\n",
    "from mysql.connector import Error\n",
    "\n",
    "connection = mysql.connector.connect(host='localhost',\n",
    "                                         database='employees',\n",
    "                                         user='root',\n",
    "                                         password='')\n",
    "\n",
    "if connection.is_connected():\n",
    "        db_Info = connection.get_server_info()\n",
    "        print(\"Connected to MySQL Server version \", db_Info)\n",
    "        cursor = connection.cursor()\n",
    "        cursor.execute(\"select database();\")\n",
    "        record = cursor.fetchone()\n",
    "        print(\"You're connected to database: \", record)"
   ]
  },
  {
   "cell_type": "code",
   "execution_count": 24,
   "metadata": {},
   "outputs": [
    {
     "name": "stdout",
     "output_type": "stream",
     "text": [
      "Total number of rows in table:  2\n",
      "Query created successfully \n",
      "[('Tom', 'Manager', '40', '10000'), ('Harry', 'Leader', '35', '8000')]\n",
      "<class 'list'>\n"
     ]
    }
   ],
   "source": [
    "mySql_Select_Table_Query = \"select * from employee;\"\n",
    "cursor = connection.cursor()\n",
    "cursor.execute(mySql_Select_Table_Query)\n",
    "records = cursor.fetchall()\n",
    "print(\"Total number of rows in table: \", cursor.rowcount)\n",
    "print(\"Query created successfully \")\n",
    "print(records)\n",
    "print(type(records))"
   ]
  },
  {
   "cell_type": "code",
   "execution_count": 25,
   "metadata": {},
   "outputs": [
    {
     "name": "stdout",
     "output_type": "stream",
     "text": [
      "{'Tom': {'designation': 'Manager', 'age': '40', 'salary': '10000'}, 'Harry': {'designation': 'Leader', 'age': '35', 'salary': '8000'}}\n"
     ]
    }
   ],
   "source": [
    "class create_dict(dict): \n",
    "  \n",
    "    # __init__ function \n",
    "    def __init__(self): \n",
    "        self = dict() \n",
    "          \n",
    "    # Function to add key:value \n",
    "    def add(self, key, value): \n",
    "        self[key] = value\n",
    "\n",
    "mydict = create_dict()\n",
    "for row in records:\n",
    "    mydict.add(row[0],({\"designation\":row[1],\"age\":row[2],\"salary\":row[3]}))\n",
    "\n",
    "print(mydict)"
   ]
  },
  {
   "cell_type": "code",
   "execution_count": 26,
   "metadata": {},
   "outputs": [],
   "source": [
    "import json\n",
    "  \n",
    "# create a JSON file\n",
    "\n",
    "out_file = open(\"sql_json_file.json1\", \"w\")\n",
    "  \n",
    "json.dump(mydict, out_file, indent = 3)\n",
    "  \n",
    "out_file.close()"
   ]
  },
  {
   "cell_type": "markdown",
   "metadata": {},
   "source": [
    "### Conclusion:\n",
    "This demonstration teaches how to-\n",
    "1. Connect your Python App with a MySQL Database.\n",
    "2. Bring data from MySQL database into Python for further analysis.\n",
    "3. Execute SQL queries from your Python application.\n",
    "4. Handle exceptions while accessing the database."
   ]
  }
 ],
 "metadata": {
  "kernelspec": {
   "display_name": "tensf",
   "language": "python",
   "name": "python3"
  },
  "language_info": {
   "codemirror_mode": {
    "name": "ipython",
    "version": 3
   },
   "file_extension": ".py",
   "mimetype": "text/x-python",
   "name": "python",
   "nbconvert_exporter": "python",
   "pygments_lexer": "ipython3",
   "version": "3.10.8"
  },
  "vscode": {
   "interpreter": {
    "hash": "3e313d1f24da57a081eee6b594756086e5e54161d7342791616a06970af18016"
   }
  }
 },
 "nbformat": 4,
 "nbformat_minor": 4
}
