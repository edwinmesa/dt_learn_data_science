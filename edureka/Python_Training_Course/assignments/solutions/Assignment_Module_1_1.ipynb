{
 "cells": [
  {
   "attachments": {},
   "cell_type": "markdown",
   "metadata": {},
   "source": [
    "1.Write a program to find the factors of agiven number and check whether the factor is even or odd.Hint: Use Loop with if-else statements"
   ]
  },
  {
   "cell_type": "code",
   "execution_count": 2,
   "metadata": {},
   "outputs": [
    {
     "name": "stdout",
     "output_type": "stream",
     "text": [
      "The number 10.0 is even \n"
     ]
    }
   ],
   "source": [
    "num = float(input('Enter a number: '))\n",
    "\n",
    "if(num % 2) == 0:\n",
    "    print(f\"The number {num} is even \")\n",
    "else:\n",
    "    print(f\"The number {num} is odd \")"
   ]
  },
  {
   "attachments": {},
   "cell_type": "markdown",
   "metadata": {},
   "source": [
    "2. Write a code that accepts a sequence of words as input and prints the words in a sequence after sorting them alphabetically"
   ]
  },
  {
   "cell_type": "code",
   "execution_count": 14,
   "metadata": {},
   "outputs": [
    {
     "name": "stdout",
     "output_type": "stream",
     "text": [
      "The sorted words are:\n",
      "a\n",
      "assigment\n",
      "code\n",
      "for\n",
      "test\n"
     ]
    }
   ],
   "source": [
    "# Program to sort alphabetically the words form a string provided by the user\n",
    "my_str   = input('Write something... : ')\n",
    "# breakdown the string into a list of words\n",
    "words = [word.lower() for word in my_str.split()]\n",
    "\n",
    "# sort the lisT\n",
    "words.sort()\n",
    "# display the sorted words\n",
    "\n",
    "print(\"The sorted words are:\")\n",
    "for word in words:\n",
    "   print(word)\n",
    " "
   ]
  },
  {
   "attachments": {},
   "cell_type": "markdown",
   "metadata": {},
   "source": [
    "3.Write a program that will find all the numbers between 1000 and 3000 (both excluded) such that each digit of a number is an odd number. Print the number of such elements"
   ]
  },
  {
   "cell_type": "code",
   "execution_count": 28,
   "metadata": {},
   "outputs": [
    {
     "data": {
      "text/plain": [
       "1001"
      ]
     },
     "execution_count": 28,
     "metadata": {},
     "output_type": "execute_result"
    }
   ],
   "source": [
    "def countOddNumber(a, b):\n",
    "    n = (b-a) // 2\n",
    "    if(b % 2 !=0 or a != 0):\n",
    "         n += 1\n",
    "    # print(\"Count of odd numbers is\", n) \n",
    "    return n\n",
    "\n",
    "countOddNumber(1000,3000)"
   ]
  },
  {
   "attachments": {},
   "cell_type": "markdown",
   "metadata": {},
   "source": [
    "4.Write a program that accepts a string and calculates the number of letters and digits.Suppose if the entered string is: Edureka123Then the output will be:LETTERS: -7DIGITS: -3"
   ]
  },
  {
   "cell_type": "code",
   "execution_count": 19,
   "metadata": {},
   "outputs": [
    {
     "name": "stdout",
     "output_type": "stream",
     "text": [
      "letters 25\n",
      "digits 2\n"
     ]
    }
   ],
   "source": [
    "str_letters = \"This is a example 4 of 5 exercises\"\n",
    "d=l=0\n",
    "for i in str_letters:\n",
    "    if i.isalpha():\n",
    "        l+=1\n",
    "    elif i.isdigit():\n",
    "        d+=1\n",
    "    else:\n",
    "        pass\n",
    "print(\"letters\",l)\n",
    "print(\"digits\",d)    "
   ]
  },
  {
   "attachments": {},
   "cell_type": "markdown",
   "metadata": {},
   "source": [
    "5.Design a code which will find whether the given number is Palindrome number or not.\n"
   ]
  },
  {
   "cell_type": "code",
   "execution_count": 16,
   "metadata": {},
   "outputs": [
    {
     "name": "stdout",
     "output_type": "stream",
     "text": [
      "Yes\n"
     ]
    }
   ],
   "source": [
    "def checkPalindrome(s):\n",
    "    check = s == s[::1]\n",
    "    if check:\n",
    "        print(f\"Yes\")\n",
    "    else:\n",
    "        print(f\"No\")\n",
    "\n",
    "checkPalindrome(\"radar\")"
   ]
  }
 ],
 "metadata": {
  "kernelspec": {
   "display_name": "tensf",
   "language": "python",
   "name": "python3"
  },
  "language_info": {
   "codemirror_mode": {
    "name": "ipython",
    "version": 3
   },
   "file_extension": ".py",
   "mimetype": "text/x-python",
   "name": "python",
   "nbconvert_exporter": "python",
   "pygments_lexer": "ipython3",
   "version": "3.10.8"
  },
  "orig_nbformat": 4,
  "vscode": {
   "interpreter": {
    "hash": "3e313d1f24da57a081eee6b594756086e5e54161d7342791616a06970af18016"
   }
  }
 },
 "nbformat": 4,
 "nbformat_minor": 2
}
