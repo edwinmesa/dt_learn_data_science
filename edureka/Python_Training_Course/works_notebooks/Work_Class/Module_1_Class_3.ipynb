{
 "cells": [
  {
   "cell_type": "code",
   "execution_count": 11,
   "metadata": {},
   "outputs": [
    {
     "name": "stdout",
     "output_type": "stream",
     "text": [
      "b'Welcome to Edureka'\n",
      "bytearray(b'Python')\n"
     ]
    }
   ],
   "source": [
    "text_bytes = bytes('Welcome to Edureka', 'ascii')\n",
    "text_bytesArray = bytearray('Python','ascii')\n",
    "\n",
    "print(text_bytes)\n",
    "print(text_bytesArray)"
   ]
  },
  {
   "cell_type": "code",
   "execution_count": 12,
   "metadata": {},
   "outputs": [
    {
     "name": "stdout",
     "output_type": "stream",
     "text": [
      "Byte Coonversion: b'Python pr\\xc3\\xb3gram is easy t\\xc3\\xb3 learn'\n",
      "ArraybiteConversion: bytearray(b'Python pr\\xc3\\xb3gram is easy t\\xc3\\xb3 learn')\n"
     ]
    }
   ],
   "source": [
    "# UTF-8 encodedn errors are ignored\n",
    "\n",
    "string = 'Python prógram is easy tó learn'\n",
    "\n",
    "result_bytes = bytes(string, 'utf-8', errors='ignore')\n",
    "result_bytesArray = bytearray(string, 'utf-8', errors='ignore')\n",
    "\n",
    "print('Byte Coonversion:', result_bytes)\n",
    "print('ArraybiteConversion:', result_bytesArray)"
   ]
  },
  {
   "cell_type": "code",
   "execution_count": 13,
   "metadata": {},
   "outputs": [
    {
     "name": "stdout",
     "output_type": "stream",
     "text": [
      "Byte Coonversion: b'Python prgram is easy t learn'\n",
      "ArraybiteConversion: bytearray(b'Python prgram is easy t learn')\n"
     ]
    }
   ],
   "source": [
    "# ASCII encoded string errors are ignored\n",
    "string = 'Python prógram is easy tó learn'\n",
    "\n",
    "result_bytes = bytes(string, 'ascii', errors='ignore')\n",
    "result_bytesArray = bytearray(string, 'ascii', errors='ignore')\n",
    "\n",
    "print('Byte Coonversion:', result_bytes)\n",
    "print('ArraybiteConversion:', result_bytesArray)"
   ]
  },
  {
   "cell_type": "code",
   "execution_count": 14,
   "metadata": {},
   "outputs": [
    {
     "name": "stdout",
     "output_type": "stream",
     "text": [
      "Byte Coonversion: b'Python pr?gram is easy t? learn'\n",
      "ArraybiteConversion: bytearray(b'Python pr?gram is easy t? learn')\n"
     ]
    }
   ],
   "source": [
    "# ASCII encoded string errors are replaced\n",
    "\n",
    "result_bytes = bytes(string, 'ascii', errors='replace')\n",
    "result_bytesArray = bytearray(string, 'ascii', errors='replace')\n",
    "\n",
    "print('Byte Coonversion:', result_bytes)\n",
    "print('ArraybiteConversion:', result_bytesArray)"
   ]
  },
  {
   "cell_type": "code",
   "execution_count": 16,
   "metadata": {},
   "outputs": [
    {
     "ename": "TypeError",
     "evalue": "'str' object does not support item assignment",
     "output_type": "error",
     "traceback": [
      "\u001b[1;31m---------------------------------------------------------------------------\u001b[0m",
      "\u001b[1;31mTypeError\u001b[0m                                 Traceback (most recent call last)",
      "Cell \u001b[1;32mIn[16], line 2\u001b[0m\n\u001b[0;32m      1\u001b[0m x \u001b[39m=\u001b[39m \u001b[39m\"\u001b[39m\u001b[39mStay gold Ponyoy\u001b[39m\u001b[39m\"\u001b[39m\n\u001b[1;32m----> 2\u001b[0m x[\u001b[39m5\u001b[39;49m:\u001b[39m9\u001b[39;49m] \u001b[39m=\u001b[39m \u001b[39m\"\u001b[39m\u001b[39mSilver\u001b[39m\u001b[39m\"\u001b[39m\n",
      "\u001b[1;31mTypeError\u001b[0m: 'str' object does not support item assignment"
     ]
    }
   ],
   "source": [
    "x = \"Stay Gold Ponyoy\"\n",
    "x[5:9] = \"Silver\""
   ]
  },
  {
   "cell_type": "code",
   "execution_count": 18,
   "metadata": {},
   "outputs": [
    {
     "data": {
      "text/plain": [
       "bytearray(b'Stay Silver Ponyboy')"
      ]
     },
     "execution_count": 18,
     "metadata": {},
     "output_type": "execute_result"
    }
   ],
   "source": [
    "x = \"Stay Gold Ponyoy\"\n",
    "\n",
    "y = bytearray(x, encoding='ascii')\n",
    "y[5:] = bytearray('Silver Ponyboy', encoding='ascii')\n",
    "y"
   ]
  },
  {
   "cell_type": "markdown",
   "metadata": {},
   "source": [
    "Functions"
   ]
  },
  {
   "cell_type": "code",
   "execution_count": 1,
   "metadata": {},
   "outputs": [
    {
     "name": "stdout",
     "output_type": "stream",
     "text": [
      "hello everyone\n",
      "welcome to python\n",
      "hello everyone\n",
      "welcome to python\n"
     ]
    }
   ],
   "source": [
    "def fun():\n",
    "    print(\"hello everyone\")\n",
    "    print(\"welcome to python\")\n",
    "\n",
    "fun()\n",
    "fun()"
   ]
  },
  {
   "cell_type": "code",
   "execution_count": 3,
   "metadata": {},
   "outputs": [
    {
     "name": "stdout",
     "output_type": "stream",
     "text": [
      "300\n",
      "good number\n"
     ]
    }
   ],
   "source": [
    "# return statment function\n",
    "\n",
    "def funcSum():\n",
    "    num1 = 100\n",
    "    num2 = 200\n",
    "\n",
    "    return num1 + num2\n",
    "\n",
    "sum1 = funcSum()\n",
    "print(sum1)   \n",
    "\n",
    "if sum1 >= 300:\n",
    "    print(\"good number\")\n",
    "else:\n",
    "    print(\"bad number\")"
   ]
  },
  {
   "cell_type": "code",
   "execution_count": 8,
   "metadata": {},
   "outputs": [
    {
     "name": "stdout",
     "output_type": "stream",
     "text": [
      "(15, 5, 50, 2)\n"
     ]
    }
   ],
   "source": [
    "def calculator(a, b):\n",
    "    add     = a + b\n",
    "    sub     = a - b\n",
    "    mul     = a * b\n",
    "    divmod  = a // b\n",
    "    return add, sub, mul, divmod\n",
    "\n",
    "x = calculator(10, 5)\n",
    "print(x)"
   ]
  },
  {
   "cell_type": "code",
   "execution_count": 6,
   "metadata": {},
   "outputs": [
    {
     "data": {
      "text/plain": [
       "tuple"
      ]
     },
     "execution_count": 6,
     "metadata": {},
     "output_type": "execute_result"
    }
   ],
   "source": [
    "type(x)"
   ]
  },
  {
   "cell_type": "code",
   "execution_count": 9,
   "metadata": {},
   "outputs": [
    {
     "name": "stdout",
     "output_type": "stream",
     "text": [
      "hello edureka\n"
     ]
    }
   ],
   "source": [
    "def hello(str=\"hello edureka\"):\n",
    "    print(str)\n",
    "hello()    "
   ]
  },
  {
   "cell_type": "code",
   "execution_count": 10,
   "metadata": {},
   "outputs": [
    {
     "name": "stdout",
     "output_type": "stream",
     "text": [
      "Animal name: harry\n",
      "Animal type is dog\n",
      "Animal name: Tom\n",
      "Animal type is Cat\n"
     ]
    }
   ],
   "source": [
    "def describe_pet(pet_name, animal_type='dog'):\n",
    "    print(\"Animal name: %s\" % pet_name)\n",
    "    print(\"Animal type is {}\".format(animal_type))\n",
    "\n",
    "describe_pet(\"harry\")\n",
    "describe_pet(\"tom\",\"cat\")"
   ]
  },
  {
   "cell_type": "code",
   "execution_count": 13,
   "metadata": {},
   "outputs": [
    {
     "name": "stdout",
     "output_type": "stream",
     "text": [
      "Value of a is:  10\n",
      "Value of b is:  20\n",
      "30\n",
      "********************\n"
     ]
    },
    {
     "ename": "TypeError",
     "evalue": "add() got an unexpected keyword argument 'x'",
     "output_type": "error",
     "traceback": [
      "\u001b[1;31m---------------------------------------------------------------------------\u001b[0m",
      "\u001b[1;31mTypeError\u001b[0m                                 Traceback (most recent call last)",
      "Cell \u001b[1;32mIn[13], line 12\u001b[0m\n\u001b[0;32m      8\u001b[0m \u001b[39mprint\u001b[39m(ans)\n\u001b[0;32m     10\u001b[0m \u001b[39mprint\u001b[39m(\u001b[39m'\u001b[39m\u001b[39m*\u001b[39m\u001b[39m'\u001b[39m \u001b[39m*\u001b[39m\u001b[39m20\u001b[39m)\n\u001b[1;32m---> 12\u001b[0m ans2 \u001b[39m=\u001b[39m add(x\u001b[39m=\u001b[39;49m\u001b[39m10\u001b[39;49m,y\u001b[39m=\u001b[39;49m\u001b[39m20\u001b[39;49m)\n\u001b[0;32m     13\u001b[0m \u001b[39mprint\u001b[39m(ans2)\n",
      "\u001b[1;31mTypeError\u001b[0m: add() got an unexpected keyword argument 'x'"
     ]
    }
   ],
   "source": [
    "def add(a,b):\n",
    "    print(\"Value of a is: \",a)\n",
    "    print(\"Value of b is: \",b)\n",
    "    sum = a + b\n",
    "    return sum\n",
    "\n",
    "ans = add(a=10,b=20)\n",
    "print(ans)\n",
    "\n",
    "print('*' *20)\n",
    "\n",
    "ans2 = add(x=10,y=20)\n",
    "print(ans2)"
   ]
  },
  {
   "cell_type": "code",
   "execution_count": 17,
   "metadata": {},
   "outputs": [
    {
     "name": "stdout",
     "output_type": "stream",
     "text": [
      "1st normal argument: 1\n",
      "2nd normal argument: 2\n",
      "3rd normal argument: 3\n",
      "*args argument: (4, 5, 6, 7, 8, 88)\n",
      "**kwargs argument: {'name': 'Medellin', 'country': 'France', 'age': '25'}\n",
      "name=Medellin\n",
      "country=France\n",
      "age=25\n"
     ]
    }
   ],
   "source": [
    "def functionKwarg(arg1, arg2, arg3, *args, **kwargs):\n",
    "    print(\"1st normal argument:\", str(arg1))\n",
    "    print(\"2nd normal argument:\", str(arg2))\n",
    "    print(\"3rd normal argument:\", str(arg3))\n",
    "    print(\"*args argument:\", str(args))\n",
    "    print(\"**kwargs argument:\", str(kwargs))\n",
    "    # print(args[1])\n",
    "    for (key, value) in kwargs.items():\n",
    "        print(key+ \"=\" +value)\n",
    "        \n",
    "functionKwarg(1,2,3,4,5,6,7,8,88,name=\"Medellin\", country=\"France\", age=\"25\")\n",
    "\n"
   ]
  },
  {
   "cell_type": "code",
   "execution_count": 1,
   "metadata": {},
   "outputs": [
    {
     "name": "stdout",
     "output_type": "stream",
     "text": [
      "('pepperoni',)\n",
      "('pepperoni', 'sausage')\n"
     ]
    }
   ],
   "source": [
    "def make_pizza(*toppings):\n",
    "    print(toppings)\n",
    "\n",
    "make_pizza('pepperoni')\n",
    "make_pizza('pepperoni', 'sausage')\n"
   ]
  },
  {
   "cell_type": "code",
   "execution_count": 5,
   "metadata": {},
   "outputs": [
    {
     "name": "stdout",
     "output_type": "stream",
     "text": [
      "{'name': 'Medellin', 'country': 'France'}\n",
      "name: Medellin\n",
      "country: France\n"
     ]
    }
   ],
   "source": [
    "def nameCountry(**nm_cy):\n",
    "    print(nm_cy)\n",
    "    for key, value in nm_cy.items():\n",
    "        print(f\"{key}: {value}\")\n",
    "nameCountry(name=\"Medellin\", country=\"France\")"
   ]
  },
  {
   "cell_type": "code",
   "execution_count": 4,
   "metadata": {},
   "outputs": [
    {
     "data": {
      "text/plain": [
       "function"
      ]
     },
     "execution_count": 4,
     "metadata": {},
     "output_type": "execute_result"
    }
   ],
   "source": [
    "type(nameCountry)"
   ]
  },
  {
   "cell_type": "code",
   "execution_count": 6,
   "metadata": {},
   "outputs": [
    {
     "name": "stdout",
     "output_type": "stream",
     "text": [
      "Local var: fantastic\n",
      "python is: awesome\n",
      "********************\n",
      "local var: hello\n",
      "python is: awesome\n"
     ]
    }
   ],
   "source": [
    "# local variables and global variables\n",
    "\n",
    "x = \"awesome\"\n",
    "\n",
    "def myfunc():\n",
    "    x = \"fantastic\"\n",
    "    print(\"Local var:\", x)\n",
    "\n",
    "def myfunc2():\n",
    "    x = \"hello\"\n",
    "    print(\"local var:\", x)\n",
    "    \n",
    "myfunc()\n",
    "print(\"python is:\", x)\n",
    "print('*' * 20)\n",
    "myfunc2()\n",
    "print(\"python is:\", x)"
   ]
  },
  {
   "cell_type": "code",
   "execution_count": 9,
   "metadata": {},
   "outputs": [
    {
     "name": "stdout",
     "output_type": "stream",
     "text": [
      "Local var: great\n",
      "python is: great\n",
      "********************\n",
      "local var: great\n",
      "python is: great\n",
      "********************\n",
      "Local var: great\n",
      "Pythos is: great\n"
     ]
    }
   ],
   "source": [
    "# local variables and global variables\n",
    "\n",
    "x = \"awesome\"\n",
    "\n",
    "def myfunc():\n",
    "    global x\n",
    "    x = \"great\"\n",
    "    print(\"Local var:\", x)\n",
    "\n",
    "def myfunc2():\n",
    "    print(\"local var:\", x)\n",
    "    \n",
    "myfunc()\n",
    "print(\"python is:\", x)\n",
    "print('*' * 20)\n",
    "myfunc2()\n",
    "print(\"python is:\", x)\n",
    "print('*' * 20)\n",
    "x = \"to awsome\"\n",
    "myfunc()\n",
    "print(\"Pythos is:\", x)"
   ]
  },
  {
   "cell_type": "code",
   "execution_count": 10,
   "metadata": {},
   "outputs": [
    {
     "name": "stdout",
     "output_type": "stream",
     "text": [
      "6\n"
     ]
    }
   ],
   "source": [
    "# lambda functions\n",
    "\n",
    "x = lambda a,b : a * b\n",
    "print(x(2,3))\n"
   ]
  },
  {
   "cell_type": "code",
   "execution_count": 11,
   "metadata": {},
   "outputs": [
    {
     "name": "stdout",
     "output_type": "stream",
     "text": [
      "[1, 4, 9, 16, 25, 36, 49, 64]\n"
     ]
    }
   ],
   "source": [
    "items = [1,2,3,4,5,6,7,8]\n",
    "squared = list(map(lambda x: x**2, items))\n",
    "\n",
    "print(squared)"
   ]
  },
  {
   "cell_type": "code",
   "execution_count": 22,
   "metadata": {},
   "outputs": [
    {
     "name": "stdout",
     "output_type": "stream",
     "text": [
      "[-4, -2, 0, 2, 4]\n"
     ]
    }
   ],
   "source": [
    "number_list = range(-5,5)\n",
    "# print(number_list)\n",
    "# for i in range(-5,5):\n",
    "#     print(i)\n",
    "\n",
    "less_than_zero = list(filter(lambda x: x % 2==0, number_list))\n",
    "print(less_than_zero)"
   ]
  },
  {
   "cell_type": "code",
   "execution_count": 26,
   "metadata": {},
   "outputs": [
    {
     "name": "stdout",
     "output_type": "stream",
     "text": [
      "120\n",
      "15\n",
      "-13\n"
     ]
    }
   ],
   "source": [
    "from functools import reduce\n",
    "\n",
    "product = reduce((lambda x,y:x*y), [1,2,3,4,5])\n",
    "print(product)\n",
    "sum = reduce((lambda x,y:x+y), [1,2,3,4,5])\n",
    "print(sum)\n",
    "dif = reduce((lambda x,y:x-y), [1,2,3,4,5])\n",
    "print(dif)\n"
   ]
  },
  {
   "cell_type": "code",
   "execution_count": null,
   "metadata": {},
   "outputs": [],
   "source": [
    "\n",
    "\n"
   ]
  },
  {
   "cell_type": "code",
   "execution_count": null,
   "metadata": {},
   "outputs": [],
   "source": []
  }
 ],
 "metadata": {
  "kernelspec": {
   "display_name": "Python 3 (ipykernel)",
   "language": "python",
   "name": "python3"
  },
  "language_info": {
   "codemirror_mode": {
    "name": "ipython",
    "version": 3
   },
   "file_extension": ".py",
   "mimetype": "text/x-python",
   "name": "python",
   "nbconvert_exporter": "python",
   "pygments_lexer": "ipython3",
   "version": "3.10.8"
  },
  "vscode": {
   "interpreter": {
    "hash": "3e313d1f24da57a081eee6b594756086e5e54161d7342791616a06970af18016"
   }
  }
 },
 "nbformat": 4,
 "nbformat_minor": 4
}
