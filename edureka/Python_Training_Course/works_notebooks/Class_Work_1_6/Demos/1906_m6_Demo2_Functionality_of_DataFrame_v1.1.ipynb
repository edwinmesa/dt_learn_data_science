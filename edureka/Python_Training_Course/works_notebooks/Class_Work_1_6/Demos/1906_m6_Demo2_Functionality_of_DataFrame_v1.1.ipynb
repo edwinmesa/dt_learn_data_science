{
  "cells": [
    {
      "cell_type": "markdown",
      "metadata": {
        "id": "DdR-7LId2vVO"
      },
      "source": [
        "\n",
        "\n",
        "# Module 6 - Data Manipulation Using Pandas\n",
        "\n",
        "<h2>Demo 2 - Functionality of DataFrame</h2>\n",
        "\n",
        "In this demo, you will be shown how to use dataFrames to represent data using Python."
      ]
    },
    {
      "cell_type": "markdown",
      "metadata": {
        "id": "8-AcFLxI2vVX"
      },
      "source": [
        "##### Question 1:\n",
        "\n",
        "Perform the following pandas operations\n",
        "\n",
        "    1) From the raw data below create a data frame\n",
        "    \n",
        "    'first_name': ['Jason', 'Molly', 'Tina', 'Jake', 'Amy'], \n",
        "    'last_name': ['Miller', 'Jacobson', \".\", 'Milner', 'Cooze'], \n",
        "    'age': [42, 52, 36, 24, 73], \n",
        "    'preTestScore': [4, 24, 31, \".\", \".\"],\n",
        "    'postTestScore': [\"25,000\", \"94,000\", 57, 62, 70]\n",
        "\n",
        "    2) Save the dataframe into a csv file as example.csv\n",
        "    3) Read the example.csv and print the data frame\n",
        "    4) Read the example.csv without column heading\n",
        "    5) Read the example.csv and make the index columns as 'First Name’ and 'Last   Name'\n",
        "    6) Read the first 3 rows of the dataFrame and print the dataFrame\n",
        "    7) The column 'postTestScore' has \",\" in their values around numbers to represent thousands. Load example.csv file which ignores the default behaviour of comma while reading the 'postTestScore' column \n"
      ]
    },
    {
      "cell_type": "code",
      "execution_count": null,
      "metadata": {
        "id": "qmDEm5pq2vVm",
        "outputId": "3f8b41ae-579e-4af3-af1e-3f8a6c904a52"
      },
      "outputs": [
        {
          "name": "stdout",
          "output_type": "stream",
          "text": [
            "  first_name last_name  age preTestScore postTestScore\n",
            "0      Jason    Miller   42            4        25,000\n",
            "1      Molly  Jacobson   52           24        94,000\n",
            "2       Tina         .   36           31            57\n",
            "3       Jake    Milner   24            .            62\n",
            "4        Amy     Cooze   73            .            70\n"
          ]
        }
      ],
      "source": [
        "# Import the required libraries\n",
        "\n",
        "import pandas as pd\n",
        "import numpy as np\n",
        "\n",
        "# 1.1\n",
        "\n",
        "raw_data = {'first_name': ['Jason', 'Molly', 'Tina', 'Jake', 'Amy'],\n",
        "        'last_name': ['Miller', 'Jacobson', \".\", 'Milner', 'Cooze'],\n",
        "        'age': [42, 52, 36, 24, 73],\n",
        "        'preTestScore': [4, 24, 31, \".\", \".\"],\n",
        "        'postTestScore': [\"25,000\", \"94,000\", 57, 62, 70]}\n",
        "df = pd.DataFrame(raw_data, columns = ['first_name', 'last_name', 'age', 'preTestScore', 'postTestScore'])\n",
        "print(df)\n"
      ]
    },
    {
      "cell_type": "code",
      "execution_count": null,
      "metadata": {
        "id": "9e-4Bn3d2vVo"
      },
      "outputs": [],
      "source": [
        "# 1.2 Save the dataFrame into a CSV file\n",
        "\n",
        "df.to_csv('example.csv')"
      ]
    },
    {
      "cell_type": "code",
      "execution_count": null,
      "metadata": {
        "id": "9kG9cwfF2vVp",
        "outputId": "0d48148b-68a3-4342-d24a-b7a0ca18d9b4"
      },
      "outputs": [
        {
          "name": "stdout",
          "output_type": "stream",
          "text": [
            "   Unnamed: 0 first_name last_name  age preTestScore postTestScore\n",
            "0           0      Jason    Miller   42            4        25,000\n",
            "1           1      Molly  Jacobson   52           24        94,000\n",
            "2           2       Tina         .   36           31            57\n",
            "3           3       Jake    Milner   24            .            62\n",
            "4           4        Amy     Cooze   73            .            70\n"
          ]
        }
      ],
      "source": [
        "# 1.3 Read data from CSV and print the dataFrame\n",
        "\n",
        "df = pd.read_csv('example.csv', header=0)\n",
        "print(df)"
      ]
    },
    {
      "cell_type": "code",
      "execution_count": null,
      "metadata": {
        "id": "wOD3m7YJ2vVq",
        "outputId": "3fd5ffa7-c895-477d-87ad-6b61a606c94c"
      },
      "outputs": [
        {
          "name": "stdout",
          "output_type": "stream",
          "text": [
            "     0           1          2    3             4              5\n",
            "0  NaN  first_name  last_name  age  preTestScore  postTestScore\n",
            "1  0.0       Jason     Miller   42             4         25,000\n",
            "2  1.0       Molly   Jacobson   52            24         94,000\n",
            "3  2.0        Tina          .   36            31             57\n",
            "4  3.0        Jake     Milner   24             .             62\n",
            "5  4.0         Amy      Cooze   73             .             70\n"
          ]
        }
      ],
      "source": [
        "# 1.4 Read data from CSV without headers\n",
        "\n",
        "df = pd.read_csv('example.csv', header=None)\n",
        "print(df)"
      ]
    },
    {
      "cell_type": "code",
      "execution_count": null,
      "metadata": {
        "id": "vwth_41_2vVr",
        "outputId": "8ad2aadd-0b24-490b-b7d3-d6bca0c98abd"
      },
      "outputs": [
        {
          "name": "stdout",
          "output_type": "stream",
          "text": [
            "                      UID  Age Pre-Test Score Post-Test Score\n",
            "First Name Last Name                                         \n",
            "Jason      Miller       0   42              4          25,000\n",
            "Molly      Jacobson     1   52             24          94,000\n",
            "Tina       .            2   36             31              57\n",
            "Jake       Milner       3   24              .              62\n",
            "Amy        Cooze        4   73              .              70\n"
          ]
        }
      ],
      "source": [
        "# 1.5 Read the data again with headers and make the index columns as 'First Name’ and 'Last Name'\n",
        "\n",
        "df = pd.read_csv('example.csv', header=0, index_col=['First Name', 'Last Name'], \n",
        "                 names=['UID', 'First Name', 'Last Name', 'Age', 'Pre-Test Score', 'Post-Test Score'])\n",
        "print(df)"
      ]
    },
    {
      "cell_type": "code",
      "execution_count": null,
      "metadata": {
        "id": "TmgtaRCx2vVs",
        "outputId": "38306c28-4cc5-4f43-cc4c-6602a278232d"
      },
      "outputs": [
        {
          "name": "stdout",
          "output_type": "stream",
          "text": [
            "   Unnamed: 0 first_name last_name  age  preTestScore postTestScore\n",
            "0           0      Jason    Miller   42             4        25,000\n",
            "1           1      Molly  Jacobson   52            24        94,000\n",
            "2           2       Tina         .   36            31            57\n"
          ]
        }
      ],
      "source": [
        "# 1.6 Read the first 3 rows of the dataFrame and print the dataFrame\n",
        "\n",
        "df = pd.read_csv('example.csv', nrows=3)\n",
        "print(df)"
      ]
    },
    {
      "cell_type": "code",
      "execution_count": null,
      "metadata": {
        "id": "DVWefc7c2vVt",
        "outputId": "8a22edd3-5d91-4079-f51b-4e5fbb991ce6"
      },
      "outputs": [
        {
          "name": "stdout",
          "output_type": "stream",
          "text": [
            "   Unnamed: 0 first_name last_name  age preTestScore  postTestScore\n",
            "0           0      Jason    Miller   42            4          25000\n",
            "1           1      Molly  Jacobson   52           24          94000\n",
            "2           2       Tina         .   36           31             57\n",
            "3           3       Jake    Milner   24            .             62\n",
            "4           4        Amy     Cooze   73            .             70\n"
          ]
        }
      ],
      "source": [
        "# 1.7\n",
        "df = pd.read_csv('example.csv',  thousands=',')\n",
        "print(df)"
      ]
    },
    {
      "cell_type": "markdown",
      "metadata": {
        "id": "rgDos6Hj2vVu"
      },
      "source": [
        "##### Question 2:\n",
        "\n",
        "    1) Read diabetes data from a CSV file\n",
        "    2) Print the first 10 rows and last 5 of the dataFrame\n",
        "    3) Display the summary of data in dataFrame\n",
        "    4) Display only the summary of Glucose column\n",
        "    5) Take a sample of the data using the first 15 rows\n",
        "    6) Add a new column \"New_Age\" in the dataframe by adding 1 to values in the existing \"Age\" column\n",
        "    7) Drop the column \"SkinThickness\" as it is not relevant to our analysis\n",
        "    8) Filter rows where the patient's age is greater than or equal to 50 since such patients have high possibility of having diabetes. Use column New_Age. Incorporate another condition for filtering rows as Outcome = 1.\n",
        "    9) Sort values in the dataFrame df4 by \"Glucose\" in descending order"
      ]
    },
    {
      "cell_type": "code",
      "execution_count": null,
      "metadata": {
        "id": "om1g7bsp2vVv",
        "outputId": "ab216a23-04bc-4bec-a643-527b5854e854"
      },
      "outputs": [
        {
          "name": "stdout",
          "output_type": "stream",
          "text": [
            "   Pregnancies  Glucose  BloodPressure  SkinThickness  Insulin   BMI  \\\n",
            "0            6      148             72             35    250.0  33.6   \n",
            "1            1       85             66             29    300.0  26.6   \n",
            "2            8      183             64              0      NaN  23.3   \n",
            "3            1       89             66             23     94.0  28.1   \n",
            "4            0      137             40             35    168.0  43.1   \n",
            "5            5      116             74              0      NaN  25.6   \n",
            "6            3       78             50             32     88.0  31.0   \n",
            "7           10      115              0              0    400.0  35.3   \n",
            "8            2      197             70             45    543.0  30.5   \n",
            "9            8      125             96              0      0.0   0.0   \n",
            "\n",
            "   DiabetesPedigreeFunction  Age  Outcome  \n",
            "0                     0.627   50        1  \n",
            "1                     0.351   31        0  \n",
            "2                     0.672   32        1  \n",
            "3                     0.167   21        0  \n",
            "4                     2.288   33        1  \n",
            "5                     0.201   30        0  \n",
            "6                     0.248   26        1  \n",
            "7                     0.134   29        0  \n",
            "8                     0.158   53        1  \n",
            "9                     0.232   54        1  \n"
          ]
        }
      ],
      "source": [
        "# Read diabetes data from a CSV file\n",
        "\n",
        "df = pd.read_csv('diabetes.csv')\n",
        "\n",
        "\n",
        "# Print the first 10 rows of the dataFrame\n",
        "print(df.head(10))"
      ]
    },
    {
      "cell_type": "code",
      "execution_count": null,
      "metadata": {
        "id": "H29ocJxR2vVv",
        "outputId": "2af98b10-fb0d-4f66-a1d4-390f87420540"
      },
      "outputs": [
        {
          "name": "stdout",
          "output_type": "stream",
          "text": [
            "     Pregnancies  Glucose  BloodPressure  SkinThickness  Insulin   BMI  \\\n",
            "763           10      101             76             48    180.0  32.9   \n",
            "764            2      122             70             27      0.0  36.8   \n",
            "765            5      121             72             23    112.0  26.2   \n",
            "766            1      126             60              0      0.0  30.1   \n",
            "767            1       93             70             31      0.0  30.4   \n",
            "\n",
            "     DiabetesPedigreeFunction  Age  Outcome  \n",
            "763                     0.171   63        0  \n",
            "764                     0.340   27        0  \n",
            "765                     0.245   30        0  \n",
            "766                     0.349   47        1  \n",
            "767                     0.315   23        0  \n"
          ]
        }
      ],
      "source": [
        "# Print the last 5 rows of the dataFrame\n",
        "print(df.tail())"
      ]
    },
    {
      "cell_type": "code",
      "execution_count": null,
      "metadata": {
        "id": "OpspIeXl2vVw",
        "outputId": "69061920-c0e0-41d6-d8fa-9197a33eff06"
      },
      "outputs": [
        {
          "name": "stdout",
          "output_type": "stream",
          "text": [
            "       Pregnancies     Glucose  BloodPressure  SkinThickness     Insulin  \\\n",
            "count   768.000000  768.000000     768.000000     768.000000  766.000000   \n",
            "mean      3.845052  120.894531      69.105469      20.536458   81.248042   \n",
            "std       3.369578   31.972618      19.355807      15.952218  116.221576   \n",
            "min       0.000000    0.000000       0.000000       0.000000    0.000000   \n",
            "25%       1.000000   99.000000      62.000000       0.000000    0.000000   \n",
            "50%       3.000000  117.000000      72.000000      23.000000   36.500000   \n",
            "75%       6.000000  140.250000      80.000000      32.000000  130.000000   \n",
            "max      17.000000  199.000000     122.000000      99.000000  846.000000   \n",
            "\n",
            "              BMI  DiabetesPedigreeFunction         Age     Outcome  \n",
            "count  768.000000                768.000000  768.000000  768.000000  \n",
            "mean    31.992578                  0.471876   33.240885    0.348958  \n",
            "std      7.884160                  0.331329   11.760232    0.476951  \n",
            "min      0.000000                  0.078000   21.000000    0.000000  \n",
            "25%     27.300000                  0.243750   24.000000    0.000000  \n",
            "50%     32.000000                  0.372500   29.000000    0.000000  \n",
            "75%     36.600000                  0.626250   41.000000    1.000000  \n",
            "max     67.100000                  2.420000   81.000000    1.000000  \n"
          ]
        }
      ],
      "source": [
        "# Display a summary of the data in dataFrame\n",
        "print(df.describe())"
      ]
    },
    {
      "cell_type": "code",
      "execution_count": null,
      "metadata": {
        "id": "wbCZV7Uf2vVx",
        "outputId": "918650a0-1e65-4563-dec7-7ec353453194"
      },
      "outputs": [
        {
          "name": "stdout",
          "output_type": "stream",
          "text": [
            "count    768.000000\n",
            "mean     120.894531\n",
            "std       31.972618\n",
            "min        0.000000\n",
            "25%       99.000000\n",
            "50%      117.000000\n",
            "75%      140.250000\n",
            "max      199.000000\n",
            "Name: Glucose, dtype: float64\n"
          ]
        }
      ],
      "source": [
        "# Display summary of only Glucose column\n",
        "print(df.Glucose.describe())"
      ]
    },
    {
      "cell_type": "code",
      "execution_count": null,
      "metadata": {
        "id": "-GwwgLYQ2vVx",
        "outputId": "84fe8fa2-9bce-405d-a40a-8180f8bb389b"
      },
      "outputs": [
        {
          "name": "stdout",
          "output_type": "stream",
          "text": [
            "    Pregnancies  Glucose  BloodPressure  SkinThickness  Insulin   BMI  \\\n",
            "0             6      148             72             35    250.0  33.6   \n",
            "1             1       85             66             29    300.0  26.6   \n",
            "2             8      183             64              0      NaN  23.3   \n",
            "3             1       89             66             23     94.0  28.1   \n",
            "4             0      137             40             35    168.0  43.1   \n",
            "5             5      116             74              0      NaN  25.6   \n",
            "6             3       78             50             32     88.0  31.0   \n",
            "7            10      115              0              0    400.0  35.3   \n",
            "8             2      197             70             45    543.0  30.5   \n",
            "9             8      125             96              0      0.0   0.0   \n",
            "10            4      110             92              0      0.0  37.6   \n",
            "11           10      168             74              0      0.0  38.0   \n",
            "12           10      139             80              0      0.0  27.1   \n",
            "13            1      189             60             23    846.0  30.1   \n",
            "14            5      166             72             19    175.0  25.8   \n",
            "\n",
            "    DiabetesPedigreeFunction  Age  Outcome  \n",
            "0                      0.627   50        1  \n",
            "1                      0.351   31        0  \n",
            "2                      0.672   32        1  \n",
            "3                      0.167   21        0  \n",
            "4                      2.288   33        1  \n",
            "5                      0.201   30        0  \n",
            "6                      0.248   26        1  \n",
            "7                      0.134   29        0  \n",
            "8                      0.158   53        1  \n",
            "9                      0.232   54        1  \n",
            "10                     0.191   30        0  \n",
            "11                     0.537   34        1  \n",
            "12                     1.441   57        0  \n",
            "13                     0.398   59        1  \n",
            "14                     0.587   51        1  \n"
          ]
        }
      ],
      "source": [
        "# Take a sample of the data using first 15 rows\n",
        "df2 = df.iloc[:15]\n",
        "print(df2)"
      ]
    },
    {
      "cell_type": "code",
      "execution_count": null,
      "metadata": {
        "id": "X80vqHgz2vVy",
        "outputId": "c9a4d1ba-577e-4d2a-b6f9-116a36442942"
      },
      "outputs": [
        {
          "name": "stdout",
          "output_type": "stream",
          "text": [
            "    Pregnancies  Glucose  BloodPressure  SkinThickness  Insulin   BMI  \\\n",
            "0             6      148             72             35    250.0  33.6   \n",
            "1             1       85             66             29    300.0  26.6   \n",
            "2             8      183             64              0      NaN  23.3   \n",
            "3             1       89             66             23     94.0  28.1   \n",
            "4             0      137             40             35    168.0  43.1   \n",
            "5             5      116             74              0      NaN  25.6   \n",
            "6             3       78             50             32     88.0  31.0   \n",
            "7            10      115              0              0    400.0  35.3   \n",
            "8             2      197             70             45    543.0  30.5   \n",
            "9             8      125             96              0      0.0   0.0   \n",
            "10            4      110             92              0      0.0  37.6   \n",
            "11           10      168             74              0      0.0  38.0   \n",
            "12           10      139             80              0      0.0  27.1   \n",
            "13            1      189             60             23    846.0  30.1   \n",
            "14            5      166             72             19    175.0  25.8   \n",
            "\n",
            "    DiabetesPedigreeFunction  Age  Outcome  New_Age  \n",
            "0                      0.627   50        1       51  \n",
            "1                      0.351   31        0       32  \n",
            "2                      0.672   32        1       33  \n",
            "3                      0.167   21        0       22  \n",
            "4                      2.288   33        1       34  \n",
            "5                      0.201   30        0       31  \n",
            "6                      0.248   26        1       27  \n",
            "7                      0.134   29        0       30  \n",
            "8                      0.158   53        1       54  \n",
            "9                      0.232   54        1       55  \n",
            "10                     0.191   30        0       31  \n",
            "11                     0.537   34        1       35  \n",
            "12                     1.441   57        0       58  \n",
            "13                     0.398   59        1       60  \n",
            "14                     0.587   51        1       52  \n"
          ]
        },
        {
          "name": "stderr",
          "output_type": "stream",
          "text": [
            "/opt/conda/lib/python3.7/site-packages/ipykernel_launcher.py:2: SettingWithCopyWarning: \n",
            "A value is trying to be set on a copy of a slice from a DataFrame.\n",
            "Try using .loc[row_indexer,col_indexer] = value instead\n",
            "\n",
            "See the caveats in the documentation: http://pandas.pydata.org/pandas-docs/stable/indexing.html#indexing-view-versus-copy\n",
            "  \n"
          ]
        }
      ],
      "source": [
        "# Add a new column \"New_Age\" in the dataframe by adding 1 to values in existing \"Age\" column\n",
        "df2['New_Age']=df['Age'] + 1\n",
        "print(df2)"
      ]
    },
    {
      "cell_type": "code",
      "execution_count": null,
      "metadata": {
        "id": "qwiEGlvE2vVy",
        "outputId": "da5f926e-4cff-4a50-f9fa-54302103f445"
      },
      "outputs": [
        {
          "name": "stdout",
          "output_type": "stream",
          "text": [
            "   Pregnancies  Glucose  BloodPressure  Insulin   BMI  \\\n",
            "0            6      148             72    250.0  33.6   \n",
            "1            1       85             66    300.0  26.6   \n",
            "2            8      183             64      NaN  23.3   \n",
            "3            1       89             66     94.0  28.1   \n",
            "4            0      137             40    168.0  43.1   \n",
            "\n",
            "   DiabetesPedigreeFunction  Age  Outcome  New_Age  \n",
            "0                     0.627   50        1       51  \n",
            "1                     0.351   31        0       32  \n",
            "2                     0.672   32        1       33  \n",
            "3                     0.167   21        0       22  \n",
            "4                     2.288   33        1       34  \n"
          ]
        }
      ],
      "source": [
        "# Drop the column \"SkinThickness\" as it is not relevant to our analysis\n",
        "\n",
        "df3 = df2.drop(['SkinThickness'], axis=1)\n",
        "print(df3.head())"
      ]
    },
    {
      "cell_type": "code",
      "execution_count": null,
      "metadata": {
        "id": "2LZ9ljr62vVy",
        "outputId": "c75c1a36-a9c6-46d7-ffa1-5f9125c59bad"
      },
      "outputs": [
        {
          "data": {
            "text/html": [
              "<div>\n",
              "<style scoped>\n",
              "    .dataframe tbody tr th:only-of-type {\n",
              "        vertical-align: middle;\n",
              "    }\n",
              "\n",
              "    .dataframe tbody tr th {\n",
              "        vertical-align: top;\n",
              "    }\n",
              "\n",
              "    .dataframe thead th {\n",
              "        text-align: right;\n",
              "    }\n",
              "</style>\n",
              "<table border=\"1\" class=\"dataframe\">\n",
              "  <thead>\n",
              "    <tr style=\"text-align: right;\">\n",
              "      <th></th>\n",
              "      <th>Pregnancies</th>\n",
              "      <th>Glucose</th>\n",
              "      <th>BloodPressure</th>\n",
              "      <th>Insulin</th>\n",
              "      <th>BMI</th>\n",
              "      <th>DiabetesPedigreeFunction</th>\n",
              "      <th>Age</th>\n",
              "      <th>Outcome</th>\n",
              "      <th>New_Age</th>\n",
              "    </tr>\n",
              "  </thead>\n",
              "  <tbody>\n",
              "    <tr>\n",
              "      <th>0</th>\n",
              "      <td>6</td>\n",
              "      <td>148</td>\n",
              "      <td>72</td>\n",
              "      <td>250.0</td>\n",
              "      <td>33.6</td>\n",
              "      <td>0.627</td>\n",
              "      <td>50</td>\n",
              "      <td>1</td>\n",
              "      <td>51</td>\n",
              "    </tr>\n",
              "    <tr>\n",
              "      <th>8</th>\n",
              "      <td>2</td>\n",
              "      <td>197</td>\n",
              "      <td>70</td>\n",
              "      <td>543.0</td>\n",
              "      <td>30.5</td>\n",
              "      <td>0.158</td>\n",
              "      <td>53</td>\n",
              "      <td>1</td>\n",
              "      <td>54</td>\n",
              "    </tr>\n",
              "    <tr>\n",
              "      <th>9</th>\n",
              "      <td>8</td>\n",
              "      <td>125</td>\n",
              "      <td>96</td>\n",
              "      <td>0.0</td>\n",
              "      <td>0.0</td>\n",
              "      <td>0.232</td>\n",
              "      <td>54</td>\n",
              "      <td>1</td>\n",
              "      <td>55</td>\n",
              "    </tr>\n",
              "    <tr>\n",
              "      <th>12</th>\n",
              "      <td>10</td>\n",
              "      <td>139</td>\n",
              "      <td>80</td>\n",
              "      <td>0.0</td>\n",
              "      <td>27.1</td>\n",
              "      <td>1.441</td>\n",
              "      <td>57</td>\n",
              "      <td>0</td>\n",
              "      <td>58</td>\n",
              "    </tr>\n",
              "    <tr>\n",
              "      <th>13</th>\n",
              "      <td>1</td>\n",
              "      <td>189</td>\n",
              "      <td>60</td>\n",
              "      <td>846.0</td>\n",
              "      <td>30.1</td>\n",
              "      <td>0.398</td>\n",
              "      <td>59</td>\n",
              "      <td>1</td>\n",
              "      <td>60</td>\n",
              "    </tr>\n",
              "    <tr>\n",
              "      <th>14</th>\n",
              "      <td>5</td>\n",
              "      <td>166</td>\n",
              "      <td>72</td>\n",
              "      <td>175.0</td>\n",
              "      <td>25.8</td>\n",
              "      <td>0.587</td>\n",
              "      <td>51</td>\n",
              "      <td>1</td>\n",
              "      <td>52</td>\n",
              "    </tr>\n",
              "  </tbody>\n",
              "</table>\n",
              "</div>"
            ],
            "text/plain": [
              "    Pregnancies  Glucose  BloodPressure  Insulin   BMI  \\\n",
              "0             6      148             72    250.0  33.6   \n",
              "8             2      197             70    543.0  30.5   \n",
              "9             8      125             96      0.0   0.0   \n",
              "12           10      139             80      0.0  27.1   \n",
              "13            1      189             60    846.0  30.1   \n",
              "14            5      166             72    175.0  25.8   \n",
              "\n",
              "    DiabetesPedigreeFunction  Age  Outcome  New_Age  \n",
              "0                      0.627   50        1       51  \n",
              "8                      0.158   53        1       54  \n",
              "9                      0.232   54        1       55  \n",
              "12                     1.441   57        0       58  \n",
              "13                     0.398   59        1       60  \n",
              "14                     0.587   51        1       52  "
            ]
          },
          "execution_count": 32,
          "metadata": {},
          "output_type": "execute_result"
        }
      ],
      "source": [
        "# Filter rows where patient's age is greater than or equal to 50 since such patients have high possibility of having diabetes. \n",
        "# Use column New_Age\n",
        "\n",
        "df3[df3['New_Age']>= 50]"
      ]
    },
    {
      "cell_type": "code",
      "execution_count": null,
      "metadata": {
        "id": "VnDRtFe62vVz",
        "outputId": "c1338057-72a7-468f-9588-81441cf2b4c6"
      },
      "outputs": [
        {
          "data": {
            "text/html": [
              "<div>\n",
              "<style scoped>\n",
              "    .dataframe tbody tr th:only-of-type {\n",
              "        vertical-align: middle;\n",
              "    }\n",
              "\n",
              "    .dataframe tbody tr th {\n",
              "        vertical-align: top;\n",
              "    }\n",
              "\n",
              "    .dataframe thead th {\n",
              "        text-align: right;\n",
              "    }\n",
              "</style>\n",
              "<table border=\"1\" class=\"dataframe\">\n",
              "  <thead>\n",
              "    <tr style=\"text-align: right;\">\n",
              "      <th></th>\n",
              "      <th>Pregnancies</th>\n",
              "      <th>Glucose</th>\n",
              "      <th>BloodPressure</th>\n",
              "      <th>Insulin</th>\n",
              "      <th>BMI</th>\n",
              "      <th>DiabetesPedigreeFunction</th>\n",
              "      <th>Age</th>\n",
              "      <th>Outcome</th>\n",
              "      <th>New_Age</th>\n",
              "    </tr>\n",
              "  </thead>\n",
              "  <tbody>\n",
              "    <tr>\n",
              "      <th>0</th>\n",
              "      <td>6</td>\n",
              "      <td>148</td>\n",
              "      <td>72</td>\n",
              "      <td>250.0</td>\n",
              "      <td>33.6</td>\n",
              "      <td>0.627</td>\n",
              "      <td>50</td>\n",
              "      <td>1</td>\n",
              "      <td>51</td>\n",
              "    </tr>\n",
              "    <tr>\n",
              "      <th>8</th>\n",
              "      <td>2</td>\n",
              "      <td>197</td>\n",
              "      <td>70</td>\n",
              "      <td>543.0</td>\n",
              "      <td>30.5</td>\n",
              "      <td>0.158</td>\n",
              "      <td>53</td>\n",
              "      <td>1</td>\n",
              "      <td>54</td>\n",
              "    </tr>\n",
              "    <tr>\n",
              "      <th>9</th>\n",
              "      <td>8</td>\n",
              "      <td>125</td>\n",
              "      <td>96</td>\n",
              "      <td>0.0</td>\n",
              "      <td>0.0</td>\n",
              "      <td>0.232</td>\n",
              "      <td>54</td>\n",
              "      <td>1</td>\n",
              "      <td>55</td>\n",
              "    </tr>\n",
              "    <tr>\n",
              "      <th>13</th>\n",
              "      <td>1</td>\n",
              "      <td>189</td>\n",
              "      <td>60</td>\n",
              "      <td>846.0</td>\n",
              "      <td>30.1</td>\n",
              "      <td>0.398</td>\n",
              "      <td>59</td>\n",
              "      <td>1</td>\n",
              "      <td>60</td>\n",
              "    </tr>\n",
              "    <tr>\n",
              "      <th>14</th>\n",
              "      <td>5</td>\n",
              "      <td>166</td>\n",
              "      <td>72</td>\n",
              "      <td>175.0</td>\n",
              "      <td>25.8</td>\n",
              "      <td>0.587</td>\n",
              "      <td>51</td>\n",
              "      <td>1</td>\n",
              "      <td>52</td>\n",
              "    </tr>\n",
              "  </tbody>\n",
              "</table>\n",
              "</div>"
            ],
            "text/plain": [
              "    Pregnancies  Glucose  BloodPressure  Insulin   BMI  \\\n",
              "0             6      148             72    250.0  33.6   \n",
              "8             2      197             70    543.0  30.5   \n",
              "9             8      125             96      0.0   0.0   \n",
              "13            1      189             60    846.0  30.1   \n",
              "14            5      166             72    175.0  25.8   \n",
              "\n",
              "    DiabetesPedigreeFunction  Age  Outcome  New_Age  \n",
              "0                      0.627   50        1       51  \n",
              "8                      0.158   53        1       54  \n",
              "9                      0.232   54        1       55  \n",
              "13                     0.398   59        1       60  \n",
              "14                     0.587   51        1       52  "
            ]
          },
          "execution_count": 33,
          "metadata": {},
          "output_type": "execute_result"
        }
      ],
      "source": [
        "# Incorporate another condition for filtering rows as Outcome is '1'\n",
        "\n",
        "df4 = df3[(df3['New_Age']>= 50) & (df3['Outcome'] == 1)]\n",
        "df4"
      ]
    },
    {
      "cell_type": "code",
      "execution_count": null,
      "metadata": {
        "id": "SFcLMmfc2vV0",
        "outputId": "6c294f39-b2f5-41f9-d338-741b3f6d4fc7"
      },
      "outputs": [
        {
          "data": {
            "text/html": [
              "<div>\n",
              "<style scoped>\n",
              "    .dataframe tbody tr th:only-of-type {\n",
              "        vertical-align: middle;\n",
              "    }\n",
              "\n",
              "    .dataframe tbody tr th {\n",
              "        vertical-align: top;\n",
              "    }\n",
              "\n",
              "    .dataframe thead th {\n",
              "        text-align: right;\n",
              "    }\n",
              "</style>\n",
              "<table border=\"1\" class=\"dataframe\">\n",
              "  <thead>\n",
              "    <tr style=\"text-align: right;\">\n",
              "      <th></th>\n",
              "      <th>Pregnancies</th>\n",
              "      <th>Glucose</th>\n",
              "      <th>BloodPressure</th>\n",
              "      <th>Insulin</th>\n",
              "      <th>BMI</th>\n",
              "      <th>DiabetesPedigreeFunction</th>\n",
              "      <th>Age</th>\n",
              "      <th>Outcome</th>\n",
              "      <th>New_Age</th>\n",
              "    </tr>\n",
              "  </thead>\n",
              "  <tbody>\n",
              "    <tr>\n",
              "      <th>8</th>\n",
              "      <td>2</td>\n",
              "      <td>197</td>\n",
              "      <td>70</td>\n",
              "      <td>543.0</td>\n",
              "      <td>30.5</td>\n",
              "      <td>0.158</td>\n",
              "      <td>53</td>\n",
              "      <td>1</td>\n",
              "      <td>54</td>\n",
              "    </tr>\n",
              "    <tr>\n",
              "      <th>13</th>\n",
              "      <td>1</td>\n",
              "      <td>189</td>\n",
              "      <td>60</td>\n",
              "      <td>846.0</td>\n",
              "      <td>30.1</td>\n",
              "      <td>0.398</td>\n",
              "      <td>59</td>\n",
              "      <td>1</td>\n",
              "      <td>60</td>\n",
              "    </tr>\n",
              "    <tr>\n",
              "      <th>14</th>\n",
              "      <td>5</td>\n",
              "      <td>166</td>\n",
              "      <td>72</td>\n",
              "      <td>175.0</td>\n",
              "      <td>25.8</td>\n",
              "      <td>0.587</td>\n",
              "      <td>51</td>\n",
              "      <td>1</td>\n",
              "      <td>52</td>\n",
              "    </tr>\n",
              "    <tr>\n",
              "      <th>0</th>\n",
              "      <td>6</td>\n",
              "      <td>148</td>\n",
              "      <td>72</td>\n",
              "      <td>250.0</td>\n",
              "      <td>33.6</td>\n",
              "      <td>0.627</td>\n",
              "      <td>50</td>\n",
              "      <td>1</td>\n",
              "      <td>51</td>\n",
              "    </tr>\n",
              "    <tr>\n",
              "      <th>9</th>\n",
              "      <td>8</td>\n",
              "      <td>125</td>\n",
              "      <td>96</td>\n",
              "      <td>0.0</td>\n",
              "      <td>0.0</td>\n",
              "      <td>0.232</td>\n",
              "      <td>54</td>\n",
              "      <td>1</td>\n",
              "      <td>55</td>\n",
              "    </tr>\n",
              "  </tbody>\n",
              "</table>\n",
              "</div>"
            ],
            "text/plain": [
              "    Pregnancies  Glucose  BloodPressure  Insulin   BMI  \\\n",
              "8             2      197             70    543.0  30.5   \n",
              "13            1      189             60    846.0  30.1   \n",
              "14            5      166             72    175.0  25.8   \n",
              "0             6      148             72    250.0  33.6   \n",
              "9             8      125             96      0.0   0.0   \n",
              "\n",
              "    DiabetesPedigreeFunction  Age  Outcome  New_Age  \n",
              "8                      0.158   53        1       54  \n",
              "13                     0.398   59        1       60  \n",
              "14                     0.587   51        1       52  \n",
              "0                      0.627   50        1       51  \n",
              "9                      0.232   54        1       55  "
            ]
          },
          "execution_count": 34,
          "metadata": {},
          "output_type": "execute_result"
        }
      ],
      "source": [
        "# Sort values in the dataFrame df4 by \"Glucose\" in descending order\n",
        "\n",
        "df4.sort_values(by=['Glucose'], ascending = False)"
      ]
    },
    {
      "cell_type": "markdown",
      "metadata": {
        "id": "ulmmlXkt2vV1"
      },
      "source": [
        "##### Conclusion: This code demonstrates how to create dataFrames in pandas and use various functionalities of dataFrames.\n",
        "\n",
        "> Indented block\n",
        "\n"
      ]
    }
  ],
  "metadata": {
    "kernelspec": {
      "display_name": "Python 3",
      "language": "python",
      "name": "python3"
    },
    "language_info": {
      "codemirror_mode": {
        "name": "ipython",
        "version": 3
      },
      "file_extension": ".py",
      "mimetype": "text/x-python",
      "name": "python",
      "nbconvert_exporter": "python",
      "pygments_lexer": "ipython3",
      "version": "3.7.3"
    },
    "colab": {
      "name": "1906_Demo2_Functionality of DataFrame_v1.0.ipynb",
      "provenance": []
    }
  },
  "nbformat": 4,
  "nbformat_minor": 0
}