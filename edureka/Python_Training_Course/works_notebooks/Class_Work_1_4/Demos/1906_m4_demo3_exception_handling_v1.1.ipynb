{
 "cells": [
  {
   "cell_type": "markdown",
   "metadata": {},
   "source": [
    "## Exception Handling"
   ]
  },
  {
   "cell_type": "code",
   "execution_count": 1,
   "metadata": {},
   "outputs": [
    {
     "ename": "ZeroDivisionError",
     "evalue": "division by zero",
     "output_type": "error",
     "traceback": [
      "\u001b[1;31m---------------------------------------------------------------------------\u001b[0m",
      "\u001b[1;31mZeroDivisionError\u001b[0m                         Traceback (most recent call last)",
      "\u001b[1;32m<ipython-input-1-aa63a48c93eb>\u001b[0m in \u001b[0;36m<module>\u001b[1;34m\u001b[0m\n\u001b[0;32m      2\u001b[0m \u001b[0mvar1\u001b[0m\u001b[1;33m=\u001b[0m\u001b[1;36m10\u001b[0m\u001b[1;33m\u001b[0m\u001b[1;33m\u001b[0m\u001b[0m\n\u001b[0;32m      3\u001b[0m \u001b[0mvar2\u001b[0m\u001b[1;33m=\u001b[0m\u001b[1;36m0\u001b[0m\u001b[1;33m\u001b[0m\u001b[1;33m\u001b[0m\u001b[0m\n\u001b[1;32m----> 4\u001b[1;33m \u001b[0mresult\u001b[0m\u001b[1;33m=\u001b[0m\u001b[0mvar1\u001b[0m\u001b[1;33m/\u001b[0m\u001b[0mvar2\u001b[0m   \u001b[1;31m# We can't divide any number by Zero. In case it is done, it will throw ZeroDivisionError which is predefined exception\u001b[0m\u001b[1;33m\u001b[0m\u001b[1;33m\u001b[0m\u001b[0m\n\u001b[0m\u001b[0;32m      5\u001b[0m \u001b[0mprint\u001b[0m\u001b[1;33m(\u001b[0m\u001b[0mresult\u001b[0m\u001b[1;33m)\u001b[0m\u001b[1;33m\u001b[0m\u001b[1;33m\u001b[0m\u001b[0m\n\u001b[0;32m      6\u001b[0m \u001b[0mprint\u001b[0m\u001b[1;33m(\u001b[0m\u001b[1;34m'end'\u001b[0m\u001b[1;33m)\u001b[0m\u001b[1;33m\u001b[0m\u001b[1;33m\u001b[0m\u001b[0m\n",
      "\u001b[1;31mZeroDivisionError\u001b[0m: division by zero"
     ]
    }
   ],
   "source": [
    "# Example 1\n",
    "var1=10\n",
    "var2=0\n",
    "result=var1/var2   # We can't divide any number by Zero. In case it is done, it will throw ZeroDivisionError which is predefined exception\n",
    "print(result)\n",
    "print('end')"
   ]
  },
  {
   "cell_type": "code",
   "execution_count": 2,
   "metadata": {},
   "outputs": [
    {
     "ename": "IndexError",
     "evalue": "list index out of range",
     "output_type": "error",
     "traceback": [
      "\u001b[1;31m---------------------------------------------------------------------------\u001b[0m",
      "\u001b[1;31mIndexError\u001b[0m                                Traceback (most recent call last)",
      "\u001b[1;32m<ipython-input-2-76897246fea9>\u001b[0m in \u001b[0;36m<module>\u001b[1;34m\u001b[0m\n\u001b[0;32m      1\u001b[0m \u001b[1;31m# Example 2\u001b[0m\u001b[1;33m\u001b[0m\u001b[1;33m\u001b[0m\u001b[1;33m\u001b[0m\u001b[0m\n\u001b[0;32m      2\u001b[0m \u001b[0mlist1\u001b[0m\u001b[1;33m=\u001b[0m\u001b[1;33m[\u001b[0m\u001b[1;36m1\u001b[0m\u001b[1;33m,\u001b[0m\u001b[1;36m2\u001b[0m\u001b[1;33m,\u001b[0m\u001b[1;36m3\u001b[0m\u001b[1;33m,\u001b[0m\u001b[1;36m4\u001b[0m\u001b[1;33m]\u001b[0m\u001b[1;33m\u001b[0m\u001b[1;33m\u001b[0m\u001b[0m\n\u001b[1;32m----> 3\u001b[1;33m \u001b[0mprint\u001b[0m\u001b[1;33m(\u001b[0m\u001b[0mlist1\u001b[0m\u001b[1;33m[\u001b[0m\u001b[0mlen\u001b[0m\u001b[1;33m(\u001b[0m\u001b[0mlist1\u001b[0m\u001b[1;33m)\u001b[0m\u001b[1;33m]\u001b[0m\u001b[1;33m)\u001b[0m   \u001b[1;31m# This will give IndexError as we have tried to access an index which is beyond the range\u001b[0m\u001b[1;33m\u001b[0m\u001b[1;33m\u001b[0m\u001b[0m\n\u001b[0m\u001b[0;32m      4\u001b[0m \u001b[0mprint\u001b[0m\u001b[1;33m(\u001b[0m\u001b[0mlist1\u001b[0m\u001b[1;33m[\u001b[0m\u001b[1;33m-\u001b[0m\u001b[1;36m6\u001b[0m\u001b[1;33m]\u001b[0m\u001b[1;33m)\u001b[0m           \u001b[1;31m# This will also give IndexError as we have tried to access an index which is beyond the range\u001b[0m\u001b[1;33m\u001b[0m\u001b[1;33m\u001b[0m\u001b[0m\n",
      "\u001b[1;31mIndexError\u001b[0m: list index out of range"
     ]
    }
   ],
   "source": [
    "# Example 2\n",
    "list1=[1,2,3,4]\n",
    "print(list1[len(list1)])   # This will give IndexError as we have tried to access an index which is beyond the range\n",
    "print(list1[-6])           # This will also give IndexError as we have tried to access an index which is beyond the range"
   ]
  },
  {
   "cell_type": "code",
   "execution_count": 3,
   "metadata": {},
   "outputs": [
    {
     "name": "stdout",
     "output_type": "stream",
     "text": [
      "Some exception Occured\n",
      "End\n"
     ]
    }
   ],
   "source": [
    "# Example 3  -- Exception Handling\n",
    "\n",
    "try:\n",
    "    var1=10\n",
    "    var2=0\n",
    "    result=var1/var2 # This line will raise Zero Division Error Exception and then Python will search for exception handler block i.e. except block\n",
    "    print(result)\n",
    "except:              # The except block will handle the exception and prints the messages\n",
    "    print('Some exception Occured')\n",
    "    print('End')  \n"
   ]
  },
  {
   "cell_type": "code",
   "execution_count": 4,
   "metadata": {},
   "outputs": [],
   "source": [
    "# Important Point :- Once the program flow comes out of try block and enters except block, it never goes back to try block\n"
   ]
  },
  {
   "cell_type": "code",
   "execution_count": 5,
   "metadata": {},
   "outputs": [
    {
     "name": "stdout",
     "output_type": "stream",
     "text": [
      "The entry is a\n",
      "Oops! <class 'ValueError'> occured\n",
      "Next Entry\n",
      "\n"
     ]
    },
    {
     "ename": "NameError",
     "evalue": "name 'r' is not defined",
     "output_type": "error",
     "traceback": [
      "\u001b[1;31m---------------------------------------------------------------------------\u001b[0m",
      "\u001b[1;31mValueError\u001b[0m                                Traceback (most recent call last)",
      "\u001b[1;32m<ipython-input-5-4ea01393d79e>\u001b[0m in \u001b[0;36m<module>\u001b[1;34m\u001b[0m\n\u001b[0;32m      7\u001b[0m         \u001b[0mprint\u001b[0m\u001b[1;33m(\u001b[0m\u001b[1;34m\"The entry is\"\u001b[0m\u001b[1;33m,\u001b[0m\u001b[0mentry\u001b[0m\u001b[1;33m)\u001b[0m\u001b[1;33m\u001b[0m\u001b[1;33m\u001b[0m\u001b[0m\n\u001b[1;32m----> 8\u001b[1;33m         \u001b[0mr\u001b[0m\u001b[1;33m=\u001b[0m\u001b[1;36m1\u001b[0m\u001b[1;33m/\u001b[0m\u001b[0mint\u001b[0m\u001b[1;33m(\u001b[0m\u001b[0mentry\u001b[0m\u001b[1;33m)\u001b[0m\u001b[1;33m\u001b[0m\u001b[1;33m\u001b[0m\u001b[0m\n\u001b[0m\u001b[0;32m      9\u001b[0m         \u001b[1;32mbreak\u001b[0m\u001b[1;33m\u001b[0m\u001b[1;33m\u001b[0m\u001b[0m\n",
      "\u001b[1;31mValueError\u001b[0m: invalid literal for int() with base 10: 'a'",
      "\nDuring handling of the above exception, another exception occurred:\n",
      "\u001b[1;31mNameError\u001b[0m                                 Traceback (most recent call last)",
      "\u001b[1;32m<ipython-input-5-4ea01393d79e>\u001b[0m in \u001b[0;36m<module>\u001b[1;34m\u001b[0m\n\u001b[0;32m     12\u001b[0m         \u001b[0mprint\u001b[0m\u001b[1;33m(\u001b[0m\u001b[1;34m\"Next Entry\"\u001b[0m\u001b[1;33m)\u001b[0m\u001b[1;33m\u001b[0m\u001b[1;33m\u001b[0m\u001b[0m\n\u001b[0;32m     13\u001b[0m         \u001b[0mprint\u001b[0m\u001b[1;33m(\u001b[0m\u001b[1;33m)\u001b[0m\u001b[1;33m\u001b[0m\u001b[1;33m\u001b[0m\u001b[0m\n\u001b[1;32m---> 14\u001b[1;33m         \u001b[0mprint\u001b[0m\u001b[1;33m(\u001b[0m\u001b[1;34m\"The reciprocal of\"\u001b[0m\u001b[1;33m,\u001b[0m\u001b[0mentry\u001b[0m\u001b[1;33m,\u001b[0m\u001b[1;34m\"is\"\u001b[0m\u001b[1;33m,\u001b[0m\u001b[0mr\u001b[0m\u001b[1;33m)\u001b[0m\u001b[1;33m\u001b[0m\u001b[1;33m\u001b[0m\u001b[0m\n\u001b[0m",
      "\u001b[1;31mNameError\u001b[0m: name 'r' is not defined"
     ]
    }
   ],
   "source": [
    "# Example 4  -- Value Error Exception Example\n",
    "\n",
    "import sys\n",
    "randomlist=['a',0,2]\n",
    "for entry in randomlist:\n",
    "    try:\n",
    "        print(\"The entry is\",entry)\n",
    "        r=1/int(entry)\n",
    "        break\n",
    "    except:\n",
    "        print(\"Oops!\",sys.exc_info()[0],\"occured\")\n",
    "        print(\"Next Entry\")\n",
    "        print()\n",
    "        print(\"The reciprocal of\",entry,\"is\",r)\n"
   ]
  },
  {
   "cell_type": "code",
   "execution_count": 6,
   "metadata": {},
   "outputs": [
    {
     "ename": "SyntaxError",
     "evalue": "unexpected EOF while parsing (<ipython-input-6-4315e7b42691>, line 6)",
     "output_type": "error",
     "traceback": [
      "\u001b[1;36m  File \u001b[1;32m\"<ipython-input-6-4315e7b42691>\"\u001b[1;36m, line \u001b[1;32m6\u001b[0m\n\u001b[1;33m    print(result)\u001b[0m\n\u001b[1;37m                 ^\u001b[0m\n\u001b[1;31mSyntaxError\u001b[0m\u001b[1;31m:\u001b[0m unexpected EOF while parsing\n"
     ]
    }
   ],
   "source": [
    "# Example 5  -- Only try block is not possible\n",
    "try:\n",
    "    var1=10\n",
    "    var2=0\n",
    "    result=var1/var2 # This line will raise Zero Division Error Exception and then Python will search for exception handler block i.e. except block\n",
    "    print(result)\n"
   ]
  },
  {
   "cell_type": "markdown",
   "metadata": {},
   "source": [
    "## Try- Except-Else"
   ]
  },
  {
   "cell_type": "code",
   "execution_count": 8,
   "metadata": {},
   "outputs": [
    {
     "name": "stdout",
     "output_type": "stream",
     "text": [
      "Enter the divisor1\n",
      "There was no exception\n",
      "End\n"
     ]
    }
   ],
   "source": [
    "# Example 6\n",
    "try:\n",
    "    var1=10\n",
    "    var2=eval(input('Enter the divisor'))\n",
    "    result=var1/var2\n",
    "except:\n",
    "    print('Some Exception Happened')\n",
    "    print(sys.exc_info())\n",
    "else:\n",
    "    print('There was no exception')\n",
    "\n",
    "finally:\n",
    "    print('End')\n"
   ]
  },
  {
   "cell_type": "code",
   "execution_count": 9,
   "metadata": {},
   "outputs": [
    {
     "name": "stdout",
     "output_type": "stream",
     "text": [
      "Enter the divisor0\n",
      "Some Exception Happened\n",
      "(<class 'ZeroDivisionError'>, ZeroDivisionError('division by zero'), <traceback object at 0x0000021377E9FFC0>)\n",
      "End\n"
     ]
    }
   ],
   "source": [
    "# Example 7\n",
    "try:\n",
    "    var1=10\n",
    "    var2=eval(input('Enter the divisor'))\n",
    "    result=var1/var2\n",
    "except:\n",
    "    print('Some Exception Happened')\n",
    "    print(sys.exc_info())\n",
    "else:\n",
    "    print('There was no exception')\n",
    "\n",
    "finally:\n",
    "    print('End')"
   ]
  },
  {
   "cell_type": "code",
   "execution_count": 10,
   "metadata": {},
   "outputs": [
    {
     "name": "stdout",
     "output_type": "stream",
     "text": [
      "Numbers cant be divided by zero\n"
     ]
    }
   ],
   "source": [
    "# Example 8 -- Multiple Except Blocks \n",
    "try:\n",
    "    var1=10\n",
    "    var2=0\n",
    "    list1=[1,2,3]\n",
    "    list1[3]=var1/var2\n",
    "    print(list1[3])\n",
    "except ZeroDivisionError:\n",
    "    print('Numbers cant be divided by zero')\n",
    "except ValueError:\n",
    "    print('It is a value error')\n",
    "except IndexError:\n",
    "    print('The index is out of range')\n",
    "    "
   ]
  },
  {
   "cell_type": "code",
   "execution_count": 11,
   "metadata": {},
   "outputs": [],
   "source": [
    "#In the above code, there are problems with ‘Index out of range’ and ‘Zero Division Error’. \n",
    "#But, at a time only one exception is raised and here the expression for division executes first and Zero Division Error \n",
    "#Exception is raised. Then the program flow enters the proper exception handler and prints the message. \n",
    "#In case that is absent, the interpreter will print the exception message as it does without any except block\n"
   ]
  },
  {
   "cell_type": "code",
   "execution_count": 12,
   "metadata": {},
   "outputs": [
    {
     "ename": "SyntaxError",
     "evalue": "default 'except:' must be last (<ipython-input-12-934abfeeb2ed>, line 8)",
     "output_type": "error",
     "traceback": [
      "\u001b[1;36m  File \u001b[1;32m\"<ipython-input-12-934abfeeb2ed>\"\u001b[1;36m, line \u001b[1;32m8\u001b[0m\n\u001b[1;33m    print(list1[3])\u001b[0m\n\u001b[1;37m    ^\u001b[0m\n\u001b[1;31mSyntaxError\u001b[0m\u001b[1;31m:\u001b[0m default 'except:' must be last\n"
     ]
    }
   ],
   "source": [
    "# Example 9 --  Multiple Except Blocks (Error Scenario)\n",
    "# This program will throw error because except block must be written at last after writing all specific exception based except blocks. Except block can handle any exception\n",
    "try:\n",
    "    var1=10\n",
    "    var2=0\n",
    "    list1=[1,2,3]\n",
    "    list1[3]=var1/var2\n",
    "    print(list1[3])\n",
    "except:\n",
    "    print('Some Exception Occured')\n",
    "    print(sys.exc_info())\n",
    "except ZeroDivisionError:\n",
    "    print('Numbers cant be divided by zero')\n",
    "except ValueError:\n",
    "    print('It is a value error')\n",
    "except IndexError:\n",
    "    print('The index is out of range')"
   ]
  },
  {
   "cell_type": "code",
   "execution_count": 13,
   "metadata": {},
   "outputs": [
    {
     "name": "stdout",
     "output_type": "stream",
     "text": [
      "Some Exception Occured\n",
      "(<class 'ZeroDivisionError'>, ZeroDivisionError('division by zero'), <traceback object at 0x0000021377E9D040>)\n"
     ]
    }
   ],
   "source": [
    "# Example 10 -- Multiple exception using tuple\n",
    "\n",
    "try:\n",
    "    var1=10\n",
    "    var2=0\n",
    "    list1=[1,2,3]\n",
    "    list1[3]=var1/var2\n",
    "    print(list1[3])\n",
    "\n",
    "except (ValueError, IndexError):\n",
    "    print('It is a value error')\n",
    "except:\n",
    "    print('Some Exception Occured')\n",
    "    print(sys.exc_info())\n",
    "    "
   ]
  },
  {
   "cell_type": "code",
   "execution_count": 14,
   "metadata": {},
   "outputs": [],
   "source": [
    "# Except block acts as a default handler and it can handle any exception. In case if we want to know the details of the handled exception, we can use this statement\n"
   ]
  },
  {
   "cell_type": "markdown",
   "metadata": {},
   "source": [
    "## Finally Block"
   ]
  },
  {
   "cell_type": "code",
   "execution_count": 15,
   "metadata": {},
   "outputs": [],
   "source": [
    "# Example 11 -- try-except-finally block\n",
    "\n",
    "try:\n",
    "    file_obj=open('test_file.txt','w')\n",
    "    \n",
    "    file_obj.write('Python is Awesome')\n",
    "    \n",
    "except:\n",
    "    print('Some Exception Occured')\n",
    "    print(sys.exc_info())\n",
    "    \n",
    "finally:\n",
    "    file_obj.close()"
   ]
  },
  {
   "cell_type": "code",
   "execution_count": 16,
   "metadata": {},
   "outputs": [],
   "source": [
    "# This finally clause will execute no matter what and in this case closing the file is required. \n",
    "#Due to this, the closing statement is written in finally clause. \n",
    "#The Finally block is not a mandatory block to be written. \n",
    "#There is only one finally bock possible unlike multiple except blocks.\n"
   ]
  },
  {
   "cell_type": "markdown",
   "metadata": {},
   "source": [
    "## Exception Propagation"
   ]
  },
  {
   "cell_type": "code",
   "execution_count": 17,
   "metadata": {},
   "outputs": [
    {
     "name": "stdout",
     "output_type": "stream",
     "text": [
      "Welcome to init method\n",
      "some exception occured\n",
      "I will always execute\n",
      "welcome to method2\n",
      "Exception handled\n"
     ]
    }
   ],
   "source": [
    "# Example 12 -- Exception propagation 1st Example\n",
    "# In this case, Key Error Exception has been raised in method2. As there is no handler present in method2, the exception has been propagated to calling method i.e. method1 and gets handled there\n",
    "\n",
    "class Test:\n",
    "    def __init__(self):\n",
    "        try:\n",
    "            print(\"Welcome to init method\")\n",
    "            raise ZeroDivisionError\n",
    "        except:\n",
    "            print(\"some exception occured\")\n",
    "        finally:\n",
    "            print(\"I will always execute\")\n",
    "    def method1(self):\n",
    "        try:\n",
    "            self.method2()\n",
    "        except:\n",
    "            print(\"Exception handled\")\n",
    "    \n",
    "    def method2(self,):\n",
    "        print(\"welcome to method2\")\n",
    "        raise KeyError\n",
    "Test().method1()\n"
   ]
  },
  {
   "cell_type": "code",
   "execution_count": 18,
   "metadata": {},
   "outputs": [
    {
     "name": "stdout",
     "output_type": "stream",
     "text": [
      "Welcome to init method\n",
      "some exception occured\n",
      "I will always execute\n",
      "welcome to method2\n",
      "Exception handled\n",
      "handled outside\n",
      "it executes finally\n"
     ]
    }
   ],
   "source": [
    "# Example 13 -- Exception Proapagation 2nd Example\n",
    "\n",
    "class Test:\n",
    "    def __init__(self):\n",
    "        try:\n",
    "            print(\"Welcome to init method\")\n",
    "            raise ZeroDivisionError\n",
    "        except:\n",
    "            print(\"some exception occured\")\n",
    "        finally:\n",
    "            print(\"I will always execute\")\n",
    "    def method1(self):\n",
    "        try:\n",
    "            self.method2()\n",
    "        except:\n",
    "            print(\"Exception handled\")\n",
    "            raise ZeroDivisionError\n",
    "    \n",
    "    def method2(self,):\n",
    "        print(\"welcome to method2\")\n",
    "        raise KeyError\n",
    "try:\n",
    "    Test().method1()\n",
    "except:\n",
    "    print(\"handled outside\")\n",
    "finally:\n",
    "    print(\"it executes finally\")"
   ]
  },
  {
   "cell_type": "markdown",
   "metadata": {},
   "source": [
    "## User Defined Exception"
   ]
  },
  {
   "cell_type": "code",
   "execution_count": 19,
   "metadata": {},
   "outputs": [
    {
     "name": "stdout",
     "output_type": "stream",
     "text": [
      "Enter a number: 5\n",
      "This value is too small, try again!\n",
      "\n"
     ]
    },
    {
     "ename": "SystemExit",
     "evalue": "",
     "output_type": "error",
     "traceback": [
      "An exception has occurred, use %tb to see the full traceback.\n",
      "\u001b[1;31mSystemExit\u001b[0m\n"
     ]
    },
    {
     "name": "stderr",
     "output_type": "stream",
     "text": [
      "C:\\ProgramData\\Anaconda3\\lib\\site-packages\\IPython\\core\\interactiveshell.py:3426: UserWarning: To exit: use 'exit', 'quit', or Ctrl-D.\n",
      "  warn(\"To exit: use 'exit', 'quit', or Ctrl-D.\", stacklevel=1)\n"
     ]
    }
   ],
   "source": [
    "# Example 14 -- User Defined Exception\n",
    "import sys\n",
    "# define Python user-defined exceptions\n",
    "class Error(Exception):  \n",
    "    \"\"\"Base class for other exceptions\"\"\"\n",
    "    pass\n",
    "class ValueSmallError(Error): \n",
    "    \"\"\"Raised when the input value is too small\"\"\"\n",
    "    pass\n",
    "class ValueLargeError(Error):\n",
    "    \"\"\"Raised when the input value is too large\"\"\"\n",
    "    pass\n",
    "number = 10\n",
    "while True:\n",
    "    try:\n",
    "        in_num = int(input(\"Enter a number: \"))\n",
    "        if in_num < number:\n",
    "            raise ValueSmallError\n",
    "        elif in_num > number:\n",
    "            raise ValueLargeError\n",
    "            break\n",
    "    except ValueSmallError:\n",
    "        print(\"This value is too small, try again!\")\n",
    "        print()\n",
    "    except ValueLargeError:\n",
    "        print(\"This value is too large, try again!\")\n",
    "        print()\n",
    "        print(\"Congratulations! You guessed it correctly.\")\n",
    "    finally:\n",
    "        sys.exit()"
   ]
  },
  {
   "cell_type": "code",
   "execution_count": null,
   "metadata": {},
   "outputs": [],
   "source": []
  }
 ],
 "metadata": {
  "kernelspec": {
   "display_name": "tensf",
   "language": "python",
   "name": "python3"
  },
  "language_info": {
   "codemirror_mode": {
    "name": "ipython",
    "version": 3
   },
   "file_extension": ".py",
   "mimetype": "text/x-python",
   "name": "python",
   "nbconvert_exporter": "python",
   "pygments_lexer": "ipython3",
   "version": "3.10.8"
  },
  "vscode": {
   "interpreter": {
    "hash": "3e313d1f24da57a081eee6b594756086e5e54161d7342791616a06970af18016"
   }
  }
 },
 "nbformat": 4,
 "nbformat_minor": 2
}
