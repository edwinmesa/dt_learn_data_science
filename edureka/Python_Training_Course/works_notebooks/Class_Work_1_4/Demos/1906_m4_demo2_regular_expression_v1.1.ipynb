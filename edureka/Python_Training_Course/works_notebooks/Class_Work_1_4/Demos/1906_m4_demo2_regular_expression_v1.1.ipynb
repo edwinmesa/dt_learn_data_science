{
 "cells": [
  {
   "cell_type": "markdown",
   "metadata": {},
   "source": [
    "## Regular Expression"
   ]
  },
  {
   "cell_type": "code",
   "execution_count": 1,
   "metadata": {},
   "outputs": [
    {
     "name": "stdout",
     "output_type": "stream",
     "text": [
      "python is there\n"
     ]
    }
   ],
   "source": [
    "# Example 1 --  Finding a word in a String\n",
    "\n",
    "import re\n",
    "if re.search(\"python\",\"python is awesome\"):\n",
    "    print('python is there')"
   ]
  },
  {
   "cell_type": "code",
   "execution_count": 2,
   "metadata": {},
   "outputs": [
    {
     "name": "stdout",
     "output_type": "stream",
     "text": [
      "python\n",
      "python\n"
     ]
    }
   ],
   "source": [
    "# Example 2 -- findall\n",
    "# In findall(), it checks the entire string and prints the searched character as many times as the word is present in the string\n",
    "import re\n",
    "allpython=re.findall(\"python\",\"python is awesome and python is dynamically typed language\")\n",
    "for i in allpython:\n",
    "    print(i)"
   ]
  },
  {
   "cell_type": "code",
   "execution_count": 3,
   "metadata": {},
   "outputs": [
    {
     "name": "stdout",
     "output_type": "stream",
     "text": [
      "(11, 18)\n",
      "(38, 45)\n"
     ]
    }
   ],
   "source": [
    "# Example 3 -- Generating an iterator\n",
    "\n",
    "# Generating an iterator is the simple process of finding out and reporting the starting and the ending index of the string.\n",
    "# \n",
    "\n",
    "import re\n",
    " \n",
    "Str = \"we need to inform him with the latest information\"\n",
    " \n",
    "for i in re.finditer(\"inform.\", Str):\n",
    "    locTuple = i.span()\n",
    "    print(locTuple)"
   ]
  },
  {
   "cell_type": "code",
   "execution_count": 4,
   "metadata": {},
   "outputs": [
    {
     "name": "stdout",
     "output_type": "stream",
     "text": [
      "hat\n",
      "mat\n",
      "pat\n"
     ]
    }
   ],
   "source": [
    "# Example 4 -- Matching words with pattern\n",
    "\n",
    "# What is common in the string? You can see that the letters ‘a’ and ‘t’ are common among all of the input strings.\n",
    "#[shmp] in the code denotes the starting letter of the words to be found.\n",
    "#So any substring starting with the letters s, h, m or p will be considered for matching. \n",
    "#Any among that and compulsorily followed by ‘at’ at the end.\n",
    "#Do note that they are all case sensitive.\n",
    "\n",
    "import re\n",
    " \n",
    "Str = \"Sat, hat, mat, pat\"\n",
    " \n",
    "allStr = re.findall(\"[shmp]at\", Str)\n",
    " \n",
    "for i in allStr:\n",
    "    print(i)"
   ]
  },
  {
   "cell_type": "code",
   "execution_count": 5,
   "metadata": {},
   "outputs": [
    {
     "name": "stdout",
     "output_type": "stream",
     "text": [
      "hat\n",
      "mat\n"
     ]
    }
   ],
   "source": [
    "# Example 5  -- Matching Series of Range of characters\n",
    "\n",
    "#We wish to output all the words whose first letter should start in between h and m and compulsorily followed by at.\n",
    "\n",
    "import re\n",
    " \n",
    "Str = \"sat, hat, mat, pat\"\n",
    " \n",
    "someStr = re.findall(\"[h-m]at\", Str)\n",
    " \n",
    "for i in someStr:\n",
    "    print(i)"
   ]
  },
  {
   "cell_type": "code",
   "execution_count": 6,
   "metadata": {},
   "outputs": [
    {
     "name": "stdout",
     "output_type": "stream",
     "text": [
      "sat\n",
      "pat\n"
     ]
    }
   ],
   "source": [
    "# Example 6 -- Matching Series of Range of characters\n",
    "# We have added a caret symbol(^) in the Regular Expression. \n",
    "#What this does it negates the effect of whatever it follows. \n",
    "# Instead of giving us the output of everything starting with h to m, we will be presented with the output of everything apart from that.\n",
    "\n",
    "import re\n",
    " \n",
    "Str = \"sat, hat, mat, pat\"\n",
    " \n",
    "someStr = re.findall(\"[^h-m]at\", Str)\n",
    " \n",
    "for i in someStr:\n",
    "    print(i)"
   ]
  },
  {
   "cell_type": "code",
   "execution_count": 7,
   "metadata": {},
   "outputs": [
    {
     "name": "stdout",
     "output_type": "stream",
     "text": [
      "hat food mat pat\n"
     ]
    }
   ],
   "source": [
    "# Example 7 -- Replacing a String\n",
    "\n",
    "import re\n",
    " \n",
    "Food = \"hat rat mat pat\"\n",
    " \n",
    "regex = re.compile(\"[r]at\")\n",
    " \n",
    "Food = regex.sub(\"food\", Food)\n",
    " \n",
    "print(Food)"
   ]
  },
  {
   "cell_type": "code",
   "execution_count": 8,
   "metadata": {},
   "outputs": [
    {
     "name": "stdout",
     "output_type": "stream",
     "text": [
      "*+*+d4+e5\n",
      "* * AxxB *\n",
      "*C *C AC\n",
      "ABB * * *BBB\n",
      "*defgabc\n",
      "abcdefg*\n",
      "*C\n",
      "* + ** = **\n",
      "3***14***17\n"
     ]
    }
   ],
   "source": [
    "# Example 8\n",
    "\n",
    "print(re.sub(r'[abc][123]','*','a1+b2+d4+e5'))\n",
    "print(re.sub(r'A.B', '*', 'A2B AxB AxxB A$B'))\n",
    "print(re.sub(r'AB+', '*', 'ABC ABBBBBBC AC'))\n",
    "print(re.sub(r'AB{3,6}', '*', 'ABB ABBB ABBBB ABBBBBBBBB'))\n",
    "print(re.sub('^abc', '*', 'abcdefgabc'))\n",
    "print(re.sub('abc$', '*', 'abcdefgabc'))\n",
    "print(re.sub(r'AB\\+', '*', 'AB+C'))\n",
    "print(re.sub(r'\\d', '*', '3 + 14 = 17'))\n",
    "print(re.sub(r'\\D', '*', '3 + 14 = 17'))\n"
   ]
  },
  {
   "cell_type": "code",
   "execution_count": 9,
   "metadata": {},
   "outputs": [
    {
     "name": "stdout",
     "output_type": "stream",
     "text": [
      "Valid phone number\n"
     ]
    }
   ],
   "source": [
    "# Example 9 -- Phone Number Verification use case\n",
    "\n",
    "import re\n",
    " \n",
    "phn = \"412-555-1212\"\n",
    " \n",
    "if re.search(\"[0-9]{3}-[0-9]{3}-[0-9]{4}\", phn):\n",
    "    print(\"Valid phone number\")\n",
    "    "
   ]
  },
  {
   "cell_type": "code",
   "execution_count": 10,
   "metadata": {},
   "outputs": [
    {
     "name": "stdout",
     "output_type": "stream",
     "text": [
      "Email Matches:  0\n"
     ]
    }
   ],
   "source": [
    "# Example 10 --- Email Id Verification use case\n",
    "\n",
    "import re\n",
    "email = \"ac@aol.com md@.com @seo.com dc@.com\"\n",
    "print(\"Email Matches: \", len(re.findall(\"[w._%+-]{1,20}@[w.-]{2,20}.[A-Za-z]{2,3}\", email)))\n"
   ]
  },
  {
   "cell_type": "code",
   "execution_count": null,
   "metadata": {},
   "outputs": [],
   "source": []
  },
  {
   "cell_type": "code",
   "execution_count": null,
   "metadata": {},
   "outputs": [],
   "source": []
  }
 ],
 "metadata": {
  "kernelspec": {
   "display_name": "tensf",
   "language": "python",
   "name": "python3"
  },
  "language_info": {
   "codemirror_mode": {
    "name": "ipython",
    "version": 3
   },
   "file_extension": ".py",
   "mimetype": "text/x-python",
   "name": "python",
   "nbconvert_exporter": "python",
   "pygments_lexer": "ipython3",
   "version": "3.10.8"
  },
  "vscode": {
   "interpreter": {
    "hash": "3e313d1f24da57a081eee6b594756086e5e54161d7342791616a06970af18016"
   }
  }
 },
 "nbformat": 4,
 "nbformat_minor": 2
}
