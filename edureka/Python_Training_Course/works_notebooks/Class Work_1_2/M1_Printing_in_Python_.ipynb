{
  "nbformat": 4,
  "nbformat_minor": 0,
  "metadata": {
    "kernelspec": {
      "display_name": "Python 3",
      "language": "python",
      "name": "python3"
    },
    "language_info": {
      "codemirror_mode": {
        "name": "ipython",
        "version": 3
      },
      "file_extension": ".py",
      "mimetype": "text/x-python",
      "name": "python",
      "nbconvert_exporter": "python",
      "pygments_lexer": "ipython3",
      "version": "3.6.6"
    },
    "colab": {
      "name": "M1: Printing in Python .ipynb",
      "provenance": []
    }
  },
  "cells": [
    {
      "cell_type": "markdown",
      "metadata": {
        "id": "TKh9qjByRB3S",
        "colab_type": "text"
      },
      "source": [
        "# String Formatting\n",
        "\n",
        "String formatting lets you inject items into a string rather than trying to chain items together using commas or string concatenation. As a quick comparison, consider:\n",
        "\n",
        "    player = 'Thomas'\n",
        "    points = 33\n",
        "    \n",
        "    'Last night, '+player+' scored '+str(points)+' points.'  # concatenation\n",
        "    \n",
        "    f'Last night, {player} scored {points} points.'          # string formatting\n",
        "\n",
        "\n",
        "There are three ways to perform string formatting.\n",
        "* The oldest method involves placeholders using the modulo `%` character.\n",
        "* An improved technique uses the `.format()` string method.\n",
        "* The newest method, introduced with Python 3.6, uses formatted string literals, called *f-strings*.\n",
        "\n",
        "Since you will likely encounter all three versions in someone else's code, we describe each of them here."
      ]
    },
    {
      "cell_type": "markdown",
      "metadata": {
        "id": "XT-w4qpWRB3V",
        "colab_type": "text"
      },
      "source": [
        "## Formatting with placeholders\n",
        "You can use <code>%s</code> to inject strings into your print statements. The modulo `%` is referred to as a \"string formatting operator\"."
      ]
    },
    {
      "cell_type": "code",
      "metadata": {
        "id": "5zurTgzGRB3W",
        "colab_type": "code",
        "colab": {
          "base_uri": "https://localhost:8080/",
          "height": 34
        },
        "outputId": "af07ccf9-b981-4980-9a51-11c3d1def4d4"
      },
      "source": [
        "print(\"I'm going to inject %s here.\" %'something')"
      ],
      "execution_count": 1,
      "outputs": [
        {
          "output_type": "stream",
          "text": [
            "I'm going to inject something here.\n"
          ],
          "name": "stdout"
        }
      ]
    },
    {
      "cell_type": "markdown",
      "metadata": {
        "id": "Xo9C5wOLRB3a",
        "colab_type": "text"
      },
      "source": [
        "You can pass multiple items by placing them inside a tuple after the `%` operator."
      ]
    },
    {
      "cell_type": "code",
      "metadata": {
        "id": "HYOnyzpMRB3b",
        "colab_type": "code",
        "colab": {
          "base_uri": "https://localhost:8080/",
          "height": 34
        },
        "outputId": "aaa2a543-32c3-4f42-ae1f-db2da4db0bd8"
      },
      "source": [
        "print(\"I'm going to inject %s text here, and %s text here.\" %('some','more'))"
      ],
      "execution_count": 2,
      "outputs": [
        {
          "output_type": "stream",
          "text": [
            "I'm going to inject some text here, and more text here.\n"
          ],
          "name": "stdout"
        }
      ]
    },
    {
      "cell_type": "markdown",
      "metadata": {
        "id": "RGCk7_kcRB3e",
        "colab_type": "text"
      },
      "source": [
        "You can also pass variable names:"
      ]
    },
    {
      "cell_type": "code",
      "metadata": {
        "id": "uhiEVB4BRB3f",
        "colab_type": "code",
        "colab": {
          "base_uri": "https://localhost:8080/",
          "height": 34
        },
        "outputId": "47120fe5-d63c-4132-93f8-2ffb63eaceb7"
      },
      "source": [
        "x, y = 'some', 'more'\n",
        "print(\"I'm going to inject %s text here, and %s text here.\"%(x,y))"
      ],
      "execution_count": 3,
      "outputs": [
        {
          "output_type": "stream",
          "text": [
            "I'm going to inject some text here, and more text here.\n"
          ],
          "name": "stdout"
        }
      ]
    },
    {
      "cell_type": "markdown",
      "metadata": {
        "id": "_APMhMJrRB3i",
        "colab_type": "text"
      },
      "source": [
        "### Format conversion methods.\n",
        "It should be noted that two methods <code>%s</code> and <code>%r</code> convert any python object to a string using two separate methods: `str()` and `repr()`. We will learn more about these functions later on in the course, but you should note that `%r` and `repr()` deliver the *string representation* of the object, including quotation marks and any escape characters."
      ]
    },
    {
      "cell_type": "code",
      "metadata": {
        "id": "d-dH38maRB3j",
        "colab_type": "code",
        "colab": {
          "base_uri": "https://localhost:8080/",
          "height": 51
        },
        "outputId": "a3e0a5a0-919f-4432-c02a-ede3b87a5797"
      },
      "source": [
        "print('He said his name was %s.' %'Fred')\n",
        "print('He said his name was %r.' %'Fred')"
      ],
      "execution_count": 4,
      "outputs": [
        {
          "output_type": "stream",
          "text": [
            "He said his name was Fred.\n",
            "He said his name was 'Fred'.\n"
          ],
          "name": "stdout"
        }
      ]
    },
    {
      "cell_type": "markdown",
      "metadata": {
        "id": "YOb2qgSdRB3l",
        "colab_type": "text"
      },
      "source": [
        "As another example, `\\t` inserts a tab into a string."
      ]
    },
    {
      "cell_type": "code",
      "metadata": {
        "id": "A1Z9fXWgRB3m",
        "colab_type": "code",
        "colab": {
          "base_uri": "https://localhost:8080/",
          "height": 51
        },
        "outputId": "ea77c168-37e4-40e1-cb1d-c13a8f377d0e"
      },
      "source": [
        "print('I once caught a fish %s.' %'this \\tbig')\n",
        "print('I once caught a fish %r.' %'this \\tbig')"
      ],
      "execution_count": 5,
      "outputs": [
        {
          "output_type": "stream",
          "text": [
            "I once caught a fish this \tbig.\n",
            "I once caught a fish 'this \\tbig'.\n"
          ],
          "name": "stdout"
        }
      ]
    },
    {
      "cell_type": "markdown",
      "metadata": {
        "id": "TQAWPPH7RB3p",
        "colab_type": "text"
      },
      "source": [
        "The `%s` operator converts whatever it sees into a string, including integers and floats. The `%d` operator converts numbers to integers first, without rounding. Note the difference below:"
      ]
    },
    {
      "cell_type": "code",
      "metadata": {
        "id": "FDcXuv2BRB3p",
        "colab_type": "code",
        "colab": {
          "base_uri": "https://localhost:8080/",
          "height": 51
        },
        "outputId": "201c216c-38be-4d7a-d044-2ac3c63e619d"
      },
      "source": [
        "print('I wrote %s programs today.' %3.75)\n",
        "print('I wrote %d programs today.' %3.75)   "
      ],
      "execution_count": 6,
      "outputs": [
        {
          "output_type": "stream",
          "text": [
            "I wrote 3.75 programs today.\n",
            "I wrote 3 programs today.\n"
          ],
          "name": "stdout"
        }
      ]
    },
    {
      "cell_type": "markdown",
      "metadata": {
        "id": "RjWBPLBFRB3s",
        "colab_type": "text"
      },
      "source": [
        "### Padding and Precision of Floating Point Numbers\n",
        "Floating point numbers use the format <code>%5.2f</code>. Here, <code>5</code> would be the minimum number of characters the string should contain; these may be padded with whitespace if the entire number does not have this many digits. Next to this, <code>.2f</code> stands for how many numbers to show past the decimal point. Let's see some examples:"
      ]
    },
    {
      "cell_type": "code",
      "metadata": {
        "id": "Xplrv_y-RB3t",
        "colab_type": "code",
        "colab": {
          "base_uri": "https://localhost:8080/",
          "height": 34
        },
        "outputId": "05e19eab-5d7c-4cdb-f34d-ed9ab61d2f44"
      },
      "source": [
        "print('Floating point numbers: %5.2f' %(13.144))"
      ],
      "execution_count": 7,
      "outputs": [
        {
          "output_type": "stream",
          "text": [
            "Floating point numbers: 13.14\n"
          ],
          "name": "stdout"
        }
      ]
    },
    {
      "cell_type": "code",
      "metadata": {
        "id": "lX27DWyRRB3w",
        "colab_type": "code",
        "colab": {
          "base_uri": "https://localhost:8080/",
          "height": 34
        },
        "outputId": "e5940e99-f214-4a73-8223-2e261d12c6e4"
      },
      "source": [
        "print('Floating point numbers: %1.0f' %(13.144))"
      ],
      "execution_count": 8,
      "outputs": [
        {
          "output_type": "stream",
          "text": [
            "Floating point numbers: 13\n"
          ],
          "name": "stdout"
        }
      ]
    },
    {
      "cell_type": "code",
      "metadata": {
        "id": "vQ9-5kJZRB3y",
        "colab_type": "code",
        "colab": {
          "base_uri": "https://localhost:8080/",
          "height": 34
        },
        "outputId": "87c76a5a-271c-455e-c906-1ad01169bb22"
      },
      "source": [
        "print('Floating point numbers: %1.5f' %(13.144))"
      ],
      "execution_count": 9,
      "outputs": [
        {
          "output_type": "stream",
          "text": [
            "Floating point numbers: 13.14400\n"
          ],
          "name": "stdout"
        }
      ]
    },
    {
      "cell_type": "code",
      "metadata": {
        "id": "wSkAZz1yRB32",
        "colab_type": "code",
        "colab": {
          "base_uri": "https://localhost:8080/",
          "height": 34
        },
        "outputId": "4745b9dd-6547-4f05-feaa-3b011bfb5f56"
      },
      "source": [
        "print('Floating point numbers: %10.2f' %(13.144))"
      ],
      "execution_count": 10,
      "outputs": [
        {
          "output_type": "stream",
          "text": [
            "Floating point numbers:      13.14\n"
          ],
          "name": "stdout"
        }
      ]
    },
    {
      "cell_type": "code",
      "metadata": {
        "id": "HgTYkZPIRB35",
        "colab_type": "code",
        "colab": {
          "base_uri": "https://localhost:8080/",
          "height": 34
        },
        "outputId": "64572fd1-1bca-4434-fd0c-f1a476cce358"
      },
      "source": [
        "print('Floating point numbers: %25.2f' %(13.144))"
      ],
      "execution_count": 11,
      "outputs": [
        {
          "output_type": "stream",
          "text": [
            "Floating point numbers:                     13.14\n"
          ],
          "name": "stdout"
        }
      ]
    },
    {
      "cell_type": "markdown",
      "metadata": {
        "id": "LWBeD1fERB37",
        "colab_type": "text"
      },
      "source": [
        "For more information on string formatting with placeholders visit https://docs.python.org/3/library/stdtypes.html#old-string-formatting"
      ]
    },
    {
      "cell_type": "markdown",
      "metadata": {
        "id": "yXhwLVIbRB38",
        "colab_type": "text"
      },
      "source": [
        "### Multiple Formatting\n",
        "Nothing prohibits using more than one conversion tool in the same print statement:"
      ]
    },
    {
      "cell_type": "code",
      "metadata": {
        "id": "x5-dL8QsRB38",
        "colab_type": "code",
        "colab": {
          "base_uri": "https://localhost:8080/",
          "height": 34
        },
        "outputId": "a49ea555-ab04-4dc6-a30e-a063da91c33f"
      },
      "source": [
        "print('First: %s, Second: %5.2f, Third: %r' %('hi!',3.1415,'bye!'))"
      ],
      "execution_count": 12,
      "outputs": [
        {
          "output_type": "stream",
          "text": [
            "First: hi!, Second:  3.14, Third: 'bye!'\n"
          ],
          "name": "stdout"
        }
      ]
    },
    {
      "cell_type": "markdown",
      "metadata": {
        "id": "EqCApUsxRB3_",
        "colab_type": "text"
      },
      "source": [
        "## Formatting with the `.format()` method\n",
        "A better way to format objects into your strings for print statements is with the string `.format()` method. The syntax is:\n",
        "\n",
        "    'String here {} then also {}'.format('something1','something2')\n",
        "    \n",
        "For example:"
      ]
    },
    {
      "cell_type": "code",
      "metadata": {
        "id": "jxtjOdqkRB3_",
        "colab_type": "code",
        "colab": {
          "base_uri": "https://localhost:8080/",
          "height": 34
        },
        "outputId": "41a4a68f-c692-4b24-af12-e80b8d2130cb"
      },
      "source": [
        "print('This is a string with an {}'.format('insert'))"
      ],
      "execution_count": 13,
      "outputs": [
        {
          "output_type": "stream",
          "text": [
            "This is a string with an insert\n"
          ],
          "name": "stdout"
        }
      ]
    },
    {
      "cell_type": "markdown",
      "metadata": {
        "id": "3VC-hRwTRB4C",
        "colab_type": "text"
      },
      "source": [
        "### The .format() method has several advantages over the %s placeholder method:"
      ]
    },
    {
      "cell_type": "markdown",
      "metadata": {
        "id": "Pq02ETcdRB4C",
        "colab_type": "text"
      },
      "source": [
        "#### 1. Inserted objects can be called by index position:"
      ]
    },
    {
      "cell_type": "code",
      "metadata": {
        "id": "SwDJGspPRB4D",
        "colab_type": "code",
        "colab": {
          "base_uri": "https://localhost:8080/",
          "height": 34
        },
        "outputId": "4105002f-bc88-4af8-a3bb-d85d170e6af6"
      },
      "source": [
        "print('The {2} {1} {0}'.format('fox','brown','quick'))"
      ],
      "execution_count": 14,
      "outputs": [
        {
          "output_type": "stream",
          "text": [
            "The quick brown fox\n"
          ],
          "name": "stdout"
        }
      ]
    },
    {
      "cell_type": "markdown",
      "metadata": {
        "id": "-kKVRgpQRB4F",
        "colab_type": "text"
      },
      "source": [
        "#### 2. Inserted objects can be assigned keywords:"
      ]
    },
    {
      "cell_type": "code",
      "metadata": {
        "id": "fRMELI92RB4G",
        "colab_type": "code",
        "colab": {
          "base_uri": "https://localhost:8080/",
          "height": 34
        },
        "outputId": "efb52dd6-ed6c-402b-e4dd-ba156a96b0c4"
      },
      "source": [
        "print('First Object: {a}, Second Object: {b}, Third Object: {c}'.format(a=1,b='Two',c=12.3))"
      ],
      "execution_count": 15,
      "outputs": [
        {
          "output_type": "stream",
          "text": [
            "First Object: 1, Second Object: Two, Third Object: 12.3\n"
          ],
          "name": "stdout"
        }
      ]
    },
    {
      "cell_type": "markdown",
      "metadata": {
        "id": "nFnkoEpFRB4J",
        "colab_type": "text"
      },
      "source": [
        "#### 3. Inserted objects can be reused, avoiding duplication:"
      ]
    },
    {
      "cell_type": "code",
      "metadata": {
        "id": "HhWc8kCnRB4J",
        "colab_type": "code",
        "colab": {
          "base_uri": "https://localhost:8080/",
          "height": 51
        },
        "outputId": "0f606768-6171-455b-d466-f9e85b50959f"
      },
      "source": [
        "print('A %s saved is a %s earned.' %('penny','penny'))\n",
        "# vs.\n",
        "print('A {p} saved is a {p} earned.'.format(p='penny'))"
      ],
      "execution_count": 16,
      "outputs": [
        {
          "output_type": "stream",
          "text": [
            "A penny saved is a penny earned.\n",
            "A penny saved is a penny earned.\n"
          ],
          "name": "stdout"
        }
      ]
    },
    {
      "cell_type": "markdown",
      "metadata": {
        "id": "ojrVKLoWRB4M",
        "colab_type": "text"
      },
      "source": [
        "### Alignment, padding and precision with `.format()`\n",
        "Within the curly braces you can assign field lengths, left/right alignments, rounding parameters and more"
      ]
    },
    {
      "cell_type": "code",
      "metadata": {
        "id": "PBfwPoxKRB4M",
        "colab_type": "code",
        "colab": {
          "base_uri": "https://localhost:8080/",
          "height": 68
        },
        "outputId": "ac8107f0-900c-4b84-df6c-fc03289b5fdd"
      },
      "source": [
        "print('{0:8} | {1:9}'.format('Fruit', 'Quantity'))\n",
        "print('{0:8} | {1:9}'.format('Apples', 3.))\n",
        "print('{0:8} | {1:9}'.format('Oranges', 10))"
      ],
      "execution_count": 17,
      "outputs": [
        {
          "output_type": "stream",
          "text": [
            "Fruit    | Quantity \n",
            "Apples   |       3.0\n",
            "Oranges  |        10\n"
          ],
          "name": "stdout"
        }
      ]
    },
    {
      "cell_type": "markdown",
      "metadata": {
        "id": "Tw-fniE4RB4P",
        "colab_type": "text"
      },
      "source": [
        "By default, `.format()` aligns text to the left, numbers to the right. You can pass an optional `<`,`^`, or `>` to set a left, center or right alignment:"
      ]
    },
    {
      "cell_type": "code",
      "metadata": {
        "id": "ZD-iFzo4RB4Q",
        "colab_type": "code",
        "colab": {
          "base_uri": "https://localhost:8080/",
          "height": 51
        },
        "outputId": "7f48ded8-92b2-4b44-fb2a-8ddbec69761c"
      },
      "source": [
        "print('{0:<8} | {1:^8} | {2:>8}'.format('Left','Center','Right'))\n",
        "print('{0:<8} | {1:^8} | {2:>8}'.format(11,22,33))"
      ],
      "execution_count": 18,
      "outputs": [
        {
          "output_type": "stream",
          "text": [
            "Left     |  Center  |    Right\n",
            "11       |    22    |       33\n"
          ],
          "name": "stdout"
        }
      ]
    },
    {
      "cell_type": "markdown",
      "metadata": {
        "id": "TdkR5VdtRB4S",
        "colab_type": "text"
      },
      "source": [
        "You can precede the aligment operator with a padding character"
      ]
    },
    {
      "cell_type": "code",
      "metadata": {
        "id": "Gm3zx9HGRB4T",
        "colab_type": "code",
        "colab": {
          "base_uri": "https://localhost:8080/",
          "height": 51
        },
        "outputId": "71eabc36-5e27-4d81-d3e2-508aebeee9ab"
      },
      "source": [
        "print('{0:=<8} | {1:-^8} | {2:.>8}'.format('Left','Center','Right'))\n",
        "print('{0:=<8} | {1:-^8} | {2:.>8}'.format(11,22,33))"
      ],
      "execution_count": 19,
      "outputs": [
        {
          "output_type": "stream",
          "text": [
            "Left==== | -Center- | ...Right\n",
            "11====== | ---22--- | ......33\n"
          ],
          "name": "stdout"
        }
      ]
    },
    {
      "cell_type": "markdown",
      "metadata": {
        "id": "7OeaJCm7RB4W",
        "colab_type": "text"
      },
      "source": [
        "Field widths and float precision are handled in a way similar to placeholders. The following two print statements are equivalent:"
      ]
    },
    {
      "cell_type": "code",
      "metadata": {
        "id": "GSt9qlYQRB4X",
        "colab_type": "code",
        "colab": {
          "base_uri": "https://localhost:8080/",
          "height": 51
        },
        "outputId": "823a27ac-1f66-432a-f883-18a177c4ab71"
      },
      "source": [
        "print('This is my ten-character, two-decimal number:%10.2f' %13.579)\n",
        "print('This is my ten-character, two-decimal number:{0:10.2f}'.format(13.579))"
      ],
      "execution_count": 20,
      "outputs": [
        {
          "output_type": "stream",
          "text": [
            "This is my ten-character, two-decimal number:     13.58\n",
            "This is my ten-character, two-decimal number:     13.58\n"
          ],
          "name": "stdout"
        }
      ]
    },
    {
      "cell_type": "markdown",
      "metadata": {
        "id": "q0uVZE7MRB4Z",
        "colab_type": "text"
      },
      "source": [
        "Note that there are 5 spaces following the colon, and 5 characters taken up by 13.58, for a total of ten characters.\n",
        "\n",
        "For more information on the string `.format()` method visit https://docs.python.org/3/library/string.html#formatstrings"
      ]
    },
    {
      "cell_type": "markdown",
      "metadata": {
        "id": "vuleUWMVRB4a",
        "colab_type": "text"
      },
      "source": [
        "## Formatted String Literals (f-strings)"
      ]
    },
    {
      "cell_type": "markdown",
      "metadata": {
        "id": "aBsUuQ-hRB4b",
        "colab_type": "text"
      },
      "source": [
        "Introduced in Python 3.6, f-strings offer several benefits over the older `.format()` string method described above. For one, you can bring outside variables immediately into to the string rather than pass them as arguments through `.format(var)`."
      ]
    },
    {
      "cell_type": "code",
      "metadata": {
        "id": "tMnQF-LZRB4b",
        "colab_type": "code",
        "colab": {
          "base_uri": "https://localhost:8080/",
          "height": 34
        },
        "outputId": "9ee6437e-f481-45aa-cd71-da310bf1498f"
      },
      "source": [
        "name = 'Fred'\n",
        "\n",
        "print(f\"He said his name is {name}.\")"
      ],
      "execution_count": 21,
      "outputs": [
        {
          "output_type": "stream",
          "text": [
            "He said his name is Fred.\n"
          ],
          "name": "stdout"
        }
      ]
    },
    {
      "cell_type": "markdown",
      "metadata": {
        "id": "HvLzgRjERB4f",
        "colab_type": "text"
      },
      "source": [
        "Pass `!r` to get the string representation:"
      ]
    },
    {
      "cell_type": "code",
      "metadata": {
        "id": "IHURsWvnRB4g",
        "colab_type": "code",
        "colab": {
          "base_uri": "https://localhost:8080/",
          "height": 34
        },
        "outputId": "da30ac98-929e-4f72-9c56-8b165064400b"
      },
      "source": [
        "print(f\"He said his name is {name!r}\")"
      ],
      "execution_count": 22,
      "outputs": [
        {
          "output_type": "stream",
          "text": [
            "He said his name is 'Fred'\n"
          ],
          "name": "stdout"
        }
      ]
    },
    {
      "cell_type": "markdown",
      "metadata": {
        "id": "0crr_VzyRB4j",
        "colab_type": "text"
      },
      "source": [
        "#### Float formatting follows `\"result: {value:{width}.{precision}}\"`"
      ]
    },
    {
      "cell_type": "markdown",
      "metadata": {
        "id": "HHkBi6qYRB4j",
        "colab_type": "text"
      },
      "source": [
        "Where with the `.format()` method you might see `{value:10.4f}`, with f-strings this can become `{value:{10}.{6}}`\n"
      ]
    },
    {
      "cell_type": "code",
      "metadata": {
        "id": "jTXn31cJRB4k",
        "colab_type": "code",
        "colab": {
          "base_uri": "https://localhost:8080/",
          "height": 51
        },
        "outputId": "d4d5f202-b08c-40ed-9601-1a5afb1b3cd1"
      },
      "source": [
        "num = 23.45678\n",
        "print(\"My 10 character, four decimal number is:{0:10.4f}\".format(num))\n",
        "print(f\"My 10 character, four decimal number is:{num:{10}.{6}}\")"
      ],
      "execution_count": 23,
      "outputs": [
        {
          "output_type": "stream",
          "text": [
            "My 10 character, four decimal number is:   23.4568\n",
            "My 10 character, four decimal number is:   23.4568\n"
          ],
          "name": "stdout"
        }
      ]
    },
    {
      "cell_type": "markdown",
      "metadata": {
        "id": "_rOI1QIuRB4n",
        "colab_type": "text"
      },
      "source": [
        "Note that with f-strings, *precision* refers to the total number of digits, not just those following the decimal. This fits more closely with scientific notation and statistical analysis. Unfortunately, f-strings do not pad to the right of the decimal, even if precision allows it:"
      ]
    },
    {
      "cell_type": "code",
      "metadata": {
        "id": "S5ppOqLdRB4o",
        "colab_type": "code",
        "colab": {
          "base_uri": "https://localhost:8080/",
          "height": 51
        },
        "outputId": "039b2e63-d690-4a38-cfde-0d703c2abca1"
      },
      "source": [
        "num = 23.45\n",
        "print(\"My 10 character, four decimal number is:{0:10.4f}\".format(num))\n",
        "print(f\"My 10 character, four decimal number is:{num:{10}.{6}}\")"
      ],
      "execution_count": 24,
      "outputs": [
        {
          "output_type": "stream",
          "text": [
            "My 10 character, four decimal number is:   23.4500\n",
            "My 10 character, four decimal number is:     23.45\n"
          ],
          "name": "stdout"
        }
      ]
    },
    {
      "cell_type": "markdown",
      "metadata": {
        "id": "QgyP3yh4RB4r",
        "colab_type": "text"
      },
      "source": [
        "If this becomes important, you can always use `.format()` method syntax inside an f-string:"
      ]
    },
    {
      "cell_type": "code",
      "metadata": {
        "id": "8_OTgfzJRB4s",
        "colab_type": "code",
        "colab": {
          "base_uri": "https://localhost:8080/",
          "height": 51
        },
        "outputId": "82729ba0-90c7-49c3-e4cf-f78f51ca16e0"
      },
      "source": [
        "num = 23.45\n",
        "print(\"My 10 character, four decimal number is:{0:10.4f}\".format(num))\n",
        "print(f\"My 10 character, four decimal number is:{num:10.4f}\")"
      ],
      "execution_count": 25,
      "outputs": [
        {
          "output_type": "stream",
          "text": [
            "My 10 character, four decimal number is:   23.4500\n",
            "My 10 character, four decimal number is:   23.4500\n"
          ],
          "name": "stdout"
        }
      ]
    },
    {
      "cell_type": "markdown",
      "metadata": {
        "id": "jv-yX7-ZRB4x",
        "colab_type": "text"
      },
      "source": [
        "For more info on formatted string literals visit https://docs.python.org/3/reference/lexical_analysis.html#f-strings"
      ]
    }
  ]
}