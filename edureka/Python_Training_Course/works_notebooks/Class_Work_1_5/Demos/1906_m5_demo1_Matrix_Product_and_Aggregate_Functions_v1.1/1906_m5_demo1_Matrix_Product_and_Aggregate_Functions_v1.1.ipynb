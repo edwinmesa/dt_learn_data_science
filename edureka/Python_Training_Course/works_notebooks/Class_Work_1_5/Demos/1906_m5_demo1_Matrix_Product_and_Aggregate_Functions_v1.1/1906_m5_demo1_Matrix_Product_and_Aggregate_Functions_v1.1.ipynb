{
  "cells": [
    {
      "cell_type": "markdown",
      "metadata": {
        "id": "2sOU7YEmUBEG"
      },
      "source": [
        "##Demo 1 - Matrix Product and Aggregate Functions\n",
        "\n",
        "In this demo, you will be shown how to implement Hill Cipher using matrix product and also implementation on some aggregate functions."
      ]
    },
    {
      "cell_type": "markdown",
      "metadata": {
        "id": "WXqvmQpZTkbV"
      },
      "source": [
        "## Question1: Perform Hill Cipher using matrix product"
      ]
    },
    {
      "cell_type": "markdown",
      "metadata": {
        "id": "5mfaz4eKTkbW"
      },
      "source": [
        "## Hill Cipher is a polygraphic substitution cipher based on linear algebra.\n",
        "Here, the plain text is converted into encrypted form.\n",
        "Each letter of plain text is represented by a number modulo 26.\n",
        "Often the simple scheme A=0, B=1,....Z=25 is used\n",
        "To encrypt a message, each block of n letters is multiplied by an invertible n × n matrix, against modulus 26\n",
        "The matrix used for encryption is the cipher key, and it should be chosen randomly\n",
        "Let's take plain text = edureka and cipher key = [11 9\n",
        "                                                 8 17]\n",
        "Plain text is converted into 2×1 matrix format, that is [e d] [u r] [e k]\n",
        "Again the plain text is converted into numbers, that is [4 3] [20 11] [4 10]\n",
        "So, encryption of hill cipher = (each column of plain text)*(key)*mod 26"
      ]
    },
    {
      "cell_type": "markdown",
      "metadata": {
        "id": "icsz9YVvTkbY"
      },
      "source": [
        "## Step 1: Import the libraries"
      ]
    },
    {
      "cell_type": "code",
      "execution_count": null,
      "metadata": {
        "id": "TBVCXCFhTkbZ"
      },
      "outputs": [],
      "source": [
        "import numpy as np"
      ]
    },
    {
      "cell_type": "markdown",
      "metadata": {
        "id": "jIdyFaRATkba"
      },
      "source": [
        "## Step 2: Create numpy array a as first column of plain text and array b as key"
      ]
    },
    {
      "cell_type": "code",
      "execution_count": null,
      "metadata": {
        "id": "pyhuxbjSTkbb"
      },
      "outputs": [],
      "source": [
        "a = np.array([4,3])\n",
        "b= np.array([[11,9],[8,17]])"
      ]
    },
    {
      "cell_type": "markdown",
      "metadata": {
        "id": "qPJPYv0OTkbc"
      },
      "source": [
        "## Step 3: Perform matrix product between array a and b"
      ]
    },
    {
      "cell_type": "code",
      "execution_count": null,
      "metadata": {
        "id": "HMxWF_z3Tkbd"
      },
      "outputs": [],
      "source": [
        "c=np.dot(a,b)"
      ]
    },
    {
      "cell_type": "markdown",
      "metadata": {
        "id": "Ur9KeFbMTkbe"
      },
      "source": [
        "## Step 4: Perform encryption of plain text using mod function"
      ]
    },
    {
      "cell_type": "code",
      "execution_count": null,
      "metadata": {
        "colab": {
          "base_uri": "https://localhost:8080/"
        },
        "id": "sXNKXI_gTkbf",
        "outputId": "96b4ff18-511e-4e47-9e77-efe70701d092"
      },
      "outputs": [
        {
          "name": "stdout",
          "output_type": "stream",
          "text": [
            "h= [16  9]\n"
          ]
        }
      ],
      "source": [
        "h = np.mod(c,26)\n",
        "print(\"h=\",h)"
      ]
    },
    {
      "cell_type": "markdown",
      "metadata": {
        "id": "50-XqCVaTkbg"
      },
      "source": [
        "## Step 5: Create numpy array d of second column of plain text and array b as key"
      ]
    },
    {
      "cell_type": "code",
      "execution_count": null,
      "metadata": {
        "id": "lqz16yT8Tkbh"
      },
      "outputs": [],
      "source": [
        "d = np.array([20,11])"
      ]
    },
    {
      "cell_type": "markdown",
      "metadata": {
        "id": "iIzquVPNTkbh"
      },
      "source": [
        "## Step 6: Perform matrix product between array d and b"
      ]
    },
    {
      "cell_type": "code",
      "execution_count": null,
      "metadata": {
        "id": "JLDntsF0Tkbi"
      },
      "outputs": [],
      "source": [
        "f = np.dot(d,b)"
      ]
    },
    {
      "cell_type": "markdown",
      "metadata": {
        "id": "zI73SHfSTkbi"
      },
      "source": [
        "## Step 7: Perform encyption of plain text using mod function"
      ]
    },
    {
      "cell_type": "code",
      "execution_count": null,
      "metadata": {
        "colab": {
          "base_uri": "https://localhost:8080/"
        },
        "id": "MPc32LxwTkbj",
        "outputId": "c1b8106c-8ba0-4a36-8df8-c096a0a345c4"
      },
      "outputs": [
        {
          "name": "stdout",
          "output_type": "stream",
          "text": [
            "h1= [22  3]\n"
          ]
        }
      ],
      "source": [
        "h1=np.mod(f,26)\n",
        "print(\"h1=\",h1)"
      ]
    },
    {
      "cell_type": "markdown",
      "metadata": {
        "id": "tNIzwcuBTkbj"
      },
      "source": [
        "## Step 8: Create a numpy array g of last column of plain text and array b as key"
      ]
    },
    {
      "cell_type": "code",
      "execution_count": null,
      "metadata": {
        "id": "-KxYGaqQTkbk"
      },
      "outputs": [],
      "source": [
        "g = np.array([4,10])"
      ]
    },
    {
      "cell_type": "markdown",
      "metadata": {
        "id": "Aza4L205Tkbk"
      },
      "source": [
        "## Step 9: Perform matrix product between array g and b"
      ]
    },
    {
      "cell_type": "code",
      "execution_count": null,
      "metadata": {
        "id": "BbHykJuwTkbl"
      },
      "outputs": [],
      "source": [
        "j =np.dot(g,b)"
      ]
    },
    {
      "cell_type": "markdown",
      "metadata": {
        "id": "CRaxG-ZDTkbl"
      },
      "source": [
        "## Step 10: Perform encyption of plain text using mod function"
      ]
    },
    {
      "cell_type": "code",
      "execution_count": null,
      "metadata": {
        "colab": {
          "base_uri": "https://localhost:8080/"
        },
        "id": "M99G1W6XTkbm",
        "outputId": "d3baf172-c238-4839-c82e-817950542452"
      },
      "outputs": [
        {
          "name": "stdout",
          "output_type": "stream",
          "text": [
            "h2 [20 24]\n"
          ]
        }
      ],
      "source": [
        "h2=np.mod(j,26) \n",
        "print(\"h2\",h2)"
      ]
    },
    {
      "cell_type": "markdown",
      "metadata": {
        "id": "J4jAwK0YTkbn"
      },
      "source": [
        "## Represent the matrix h, h1, h2 in alphabetic manner as explained above. So plain text in encypted format will be qjwduy\n",
        "\n",
        "Conclusion: This code demonstrates how to perform matrix product¶\n",
        "\n"
      ]
    },
    {
      "cell_type": "markdown",
      "metadata": {
        "id": "6R8jmFRLTkbo"
      },
      "source": [
        "## Question 2: Perform aggregate function on marks.csv file"
      ]
    },
    {
      "cell_type": "markdown",
      "metadata": {
        "id": "RVIFizj_Tkbo"
      },
      "source": [
        "## Step 1: Import the libraries"
      ]
    },
    {
      "cell_type": "code",
      "execution_count": null,
      "metadata": {
        "id": "FLpR_QJ7Tkbp"
      },
      "outputs": [],
      "source": [
        "import numpy as np"
      ]
    },
    {
      "cell_type": "markdown",
      "metadata": {
        "id": "82qYgGVSTkbp"
      },
      "source": [
        "## Step 2: Load marks.csv file"
      ]
    },
    {
      "cell_type": "code",
      "execution_count": null,
      "metadata": {
        "id": "zkq-ayhzTkbp"
      },
      "outputs": [],
      "source": [
        "data = np.loadtxt('marks.csv',delimiter=',',usecols=(5),skiprows=1)"
      ]
    },
    {
      "cell_type": "markdown",
      "metadata": {
        "id": "hXqfGoUITkbq"
      },
      "source": [
        "## Step 3: Display the column on which we are going to perform different aggregate functions"
      ]
    },
    {
      "cell_type": "code",
      "execution_count": null,
      "metadata": {
        "colab": {
          "base_uri": "https://localhost:8080/"
        },
        "id": "qNNdr_dyTkbq",
        "outputId": "a93370a2-8854-4246-def4-fa1226e35937"
      },
      "outputs": [
        {
          "name": "stdout",
          "output_type": "stream",
          "text": [
            "Data: [420. 280. 350. 269. 317. 470. 333. 365. 305. 350. 460. 474. 409. 377.\n",
            " 415. 382. 298. 462. 370. 313. 464. 302. 252. 259. 308. 392. 424. 403.\n",
            " 370. 328. 398. 434. 291. 472. 263. 439. 464. 449. 401. 364. 296. 292.\n",
            " 438. 357. 331. 317. 429. 407. 321. 274. 447. 274. 437. 411. 257. 310.\n",
            " 396. 270. 311. 459. 378. 316. 283. 266. 381. 409. 313. 306. 448. 348.\n",
            " 292. 400. 352. 441. 428. 309. 441. 439. 264. 281. 302. 432. 423. 336.\n",
            " 383. 321. 469. 270. 341. 281. 403. 333. 323. 348. 345. 397. 449. 261.\n",
            " 456. 370. 322. 379. 446. 404. 301. 254. 351. 444. 264. 286. 463. 273.\n",
            " 316. 324. 465. 398. 324. 340. 414. 346. 408. 332. 394. 474. 398. 262.\n",
            " 410. 391. 444. 461.]\n"
          ]
        }
      ],
      "source": [
        "print(\"Data:\", data)"
      ]
    },
    {
      "cell_type": "markdown",
      "metadata": {
        "id": "YDNkr9zHTkbq"
      },
      "source": [
        "## Step 4: Calculate different aggregate function on marks.csv file"
      ]
    },
    {
      "cell_type": "code",
      "execution_count": null,
      "metadata": {
        "colab": {
          "base_uri": "https://localhost:8080/"
        },
        "id": "GI9QWaJ7Tkbr",
        "outputId": "5bdb20a3-6857-475b-80ec-ee32efeadf65"
      },
      "outputs": [
        {
          "name": "stdout",
          "output_type": "stream",
          "text": [
            "Sum: 47356.0\n"
          ]
        }
      ],
      "source": [
        "#Calculating sum of the given data\n",
        "print(\"Sum:\",data.sum())"
      ]
    },
    {
      "cell_type": "code",
      "execution_count": null,
      "metadata": {
        "colab": {
          "base_uri": "https://localhost:8080/"
        },
        "id": "ANo9pUZXTkbr",
        "outputId": "323b4028-75ba-4c4a-cab1-29917521cb4f"
      },
      "outputs": [
        {
          "name": "stdout",
          "output_type": "stream",
          "text": [
            "Minimum: 252.0\n"
          ]
        }
      ],
      "source": [
        "#Calculating minimum from the given data\n",
        "print(\"Minimum:\",data.min())"
      ]
    },
    {
      "cell_type": "code",
      "execution_count": null,
      "metadata": {
        "colab": {
          "base_uri": "https://localhost:8080/"
        },
        "id": "-H_dNpM9Tkbr",
        "outputId": "ce568384-e14b-476e-80f3-67f5f89c847f"
      },
      "outputs": [
        {
          "name": "stdout",
          "output_type": "stream",
          "text": [
            "Maximum: 474.0\n"
          ]
        }
      ],
      "source": [
        "#Calculating maximum from the given data\n",
        "print(\"Maximum:\",data.max())"
      ]
    },
    {
      "cell_type": "code",
      "execution_count": null,
      "metadata": {
        "colab": {
          "base_uri": "https://localhost:8080/"
        },
        "id": "jW9ZSXuQTkbs",
        "outputId": "3f98b6af-8d1f-4161-b7b9-1a1a6d199042"
      },
      "outputs": [
        {
          "name": "stdout",
          "output_type": "stream",
          "text": [
            "Mean: 364.2769230769231\n"
          ]
        }
      ],
      "source": [
        "#Calculating mean of the given data\n",
        "print(\"Mean:\",data.mean())"
      ]
    },
    {
      "cell_type": "code",
      "execution_count": null,
      "metadata": {
        "colab": {
          "base_uri": "https://localhost:8080/"
        },
        "id": "cjne7r8wTkbt",
        "outputId": "d6df1252-ce27-4a65-fc08-44803ab6baa5"
      },
      "outputs": [
        {
          "name": "stdout",
          "output_type": "stream",
          "text": [
            "Standard Deviation: 66.17947803971762\n"
          ]
        }
      ],
      "source": [
        "#Calculating standard deviation of  the given data\n",
        "print(\"Standard Deviation:\",data.std())"
      ]
    },
    {
      "cell_type": "markdown",
      "metadata": {
        "id": "zvXVPN_fTkbu"
      },
      "source": [
        "## Conclusion: This code demonstrates how to calculate aggregate functions."
      ]
    }
  ],
  "metadata": {
    "colab": {
      "name": "1906_m5_demo1_Matrix Product and Aggregate Functions_v1.1.ipynb",
      "provenance": []
    },
    "kernelspec": {
      "display_name": "tensf",
      "language": "python",
      "name": "python3"
    },
    "language_info": {
      "codemirror_mode": {
        "name": "ipython",
        "version": 3
      },
      "file_extension": ".py",
      "mimetype": "text/x-python",
      "name": "python",
      "nbconvert_exporter": "python",
      "pygments_lexer": "ipython3",
      "version": "3.10.8"
    },
    "vscode": {
      "interpreter": {
        "hash": "3e313d1f24da57a081eee6b594756086e5e54161d7342791616a06970af18016"
      }
    }
  },
  "nbformat": 4,
  "nbformat_minor": 0
}
