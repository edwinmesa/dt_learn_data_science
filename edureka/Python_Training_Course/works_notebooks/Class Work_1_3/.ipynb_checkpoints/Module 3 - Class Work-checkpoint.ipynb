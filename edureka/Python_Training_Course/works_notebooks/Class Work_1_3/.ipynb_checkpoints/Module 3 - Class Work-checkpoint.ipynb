{
 "cells": [
  {
   "cell_type": "code",
   "execution_count": null,
   "id": "1c719bfe",
   "metadata": {},
   "outputs": [],
   "source": [
    "'''\n",
    "What are Functions?\n",
    "Python function is a block of code that performs a specific and well-defined task.\n",
    "Two main advantages of function are:\n",
    "(a)They help us divide our program into multiple tasks. For each task we can define a function.\n",
    "This makes the code modular.\n",
    "(b)Functions provide are use mechanism. The same function can be called any number of times.\n",
    "'''"
   ]
  },
  {
   "cell_type": "code",
   "execution_count": null,
   "id": "7f2f869e",
   "metadata": {},
   "outputs": [],
   "source": [
    "'''\n",
    "Syntax:\n",
    "def function-name(parameter1, parameter2,…, parameterN):\n",
    "    Statement1\n",
    "    Statement2\n",
    "    return [expression]\n",
    "'''"
   ]
  },
  {
   "cell_type": "code",
   "execution_count": null,
   "id": "4a1f32f2",
   "metadata": {},
   "outputs": [],
   "source": [
    "# function definition\n",
    "def fun():\n",
    "    print('Hello Everyone.')\n",
    "    print('Welcome to Edureka !')\n",
    "\n",
    "# A function can be called any number of times.\n",
    "fun() # first call\n",
    "fun() # second call"
   ]
  },
  {
   "cell_type": "code",
   "execution_count": null,
   "id": "fd982151",
   "metadata": {},
   "outputs": [],
   "source": [
    "# 1. Example of fn without return statement & w/o parameters "
   ]
  },
  {
   "cell_type": "code",
   "execution_count": null,
   "id": "008e9bbb",
   "metadata": {},
   "outputs": [],
   "source": [
    "def hello():\n",
    "    print(\"Hello World!!\")\n",
    "    print(\"Welcome to Edureka\")"
   ]
  },
  {
   "cell_type": "code",
   "execution_count": null,
   "id": "90a1d49f",
   "metadata": {},
   "outputs": [],
   "source": [
    "hello() # fn call\n",
    "hello()"
   ]
  },
  {
   "cell_type": "code",
   "execution_count": null,
   "id": "5e3cb98d",
   "metadata": {},
   "outputs": [],
   "source": [
    "# 2. Example of fn with return statement"
   ]
  },
  {
   "cell_type": "code",
   "execution_count": null,
   "id": "afee7843",
   "metadata": {},
   "outputs": [],
   "source": [
    "# fn defn with no parameters***\n",
    "def funcsum():\n",
    "    num1 = 100 # num1 & num2 are local variables to the fn funcsum()\n",
    "    num2 = 200\n",
    "    return(num1 + num2) ### where ????\n",
    "\n",
    "# program body\n",
    "sum1 = funcsum()\n",
    "print(sum1)\n",
    "if sum1 == 100:\n",
    "    print(\"good number\")\n",
    "else:\n",
    "    print(\"bad number\")\n",
    "    \n",
    "####\n",
    "sum2 = funcsum()\n",
    "print(sum2)\n",
    "if sum2 >= 300:\n",
    "    print(\"good number\")\n",
    "else:\n",
    "    print(\"bad number\")"
   ]
  },
  {
   "cell_type": "code",
   "execution_count": null,
   "id": "0e1a2805",
   "metadata": {},
   "outputs": [],
   "source": [
    "def calculator():\n",
    "    a = 10\n",
    "    b = 20\n",
    "    add_1 = a + b\n",
    "    sub_1 = a - b\n",
    "    return add_1, sub_1\n",
    "\n",
    "x = calculator()\n",
    "x"
   ]
  },
  {
   "cell_type": "code",
   "execution_count": null,
   "id": "73fc035c",
   "metadata": {},
   "outputs": [],
   "source": [
    "type(x)"
   ]
  },
  {
   "cell_type": "code",
   "execution_count": null,
   "id": "a3898d4b",
   "metadata": {},
   "outputs": [],
   "source": [
    "if x[0] > 0:\n",
    "    print(\"hi\")"
   ]
  },
  {
   "cell_type": "code",
   "execution_count": null,
   "id": "76187b75",
   "metadata": {},
   "outputs": [],
   "source": [
    "def calculator():\n",
    "    a = 10\n",
    "    b = 20\n",
    "    add_1 = a + b\n",
    "    sub_1 = a - b\n",
    "    return add_1, sub_1\n",
    "\n",
    "x,y = calculator()\n",
    "print(x)\n",
    "print(y)"
   ]
  },
  {
   "cell_type": "code",
   "execution_count": null,
   "id": "39ffb87a",
   "metadata": {},
   "outputs": [],
   "source": [
    "if y < 0:\n",
    "    print(\"bad calculation\")"
   ]
  },
  {
   "cell_type": "code",
   "execution_count": null,
   "id": "40811327",
   "metadata": {},
   "outputs": [],
   "source": [
    "# 3. Required Arguments"
   ]
  },
  {
   "cell_type": "code",
   "execution_count": null,
   "id": "e313fc55",
   "metadata": {},
   "outputs": [],
   "source": [
    "# def function-name(parameter1, parameter2,…, parameterN):\n",
    "def hello(str):\n",
    "    print(str)\n",
    "\n",
    "# prg main body\n",
    "str1 = \"Hello Everyone!!\"\n",
    "hello()\n",
    "\n",
    "str2 = \"Welcome to Edurekaaa!!\"\n",
    "hello(str2)"
   ]
  },
  {
   "cell_type": "code",
   "execution_count": null,
   "id": "c3769995",
   "metadata": {},
   "outputs": [],
   "source": [
    "# 4. Default Argument Values - We can assign default value for arguments to receive if the call passes too few values"
   ]
  },
  {
   "cell_type": "code",
   "execution_count": null,
   "id": "122c47b8",
   "metadata": {},
   "outputs": [],
   "source": [
    "def hello(str='Hello Edureka'):\n",
    "    print(str)\n",
    "\n",
    "# prg main body\n",
    "str1 = \"Hello Everyone!!\"\n",
    "hello(str1)\n",
    "\n",
    "hello()"
   ]
  },
  {
   "cell_type": "code",
   "execution_count": null,
   "id": "555fc064",
   "metadata": {},
   "outputs": [],
   "source": [
    "def describe_pet(pet_name, animal_type='dog'):\n",
    "    print(\"Animal name:\", pet_name)\n",
    "    print(\"Animal type:\", animal_type)\n",
    "\n",
    "describe_pet(\"Harry\")\n",
    "describe_pet(animal_type=\"Tom\",pet_name = \"cat\")\n",
    "describe_pet(, \"cat\")"
   ]
  },
  {
   "cell_type": "code",
   "execution_count": null,
   "id": "4d2e383b",
   "metadata": {},
   "outputs": [],
   "source": [
    "# 5. Keyword Arguments - We can call a function by specifying the keyword argument in the form argument name= value"
   ]
  },
  {
   "cell_type": "code",
   "execution_count": null,
   "id": "a6a98dd1",
   "metadata": {},
   "outputs": [],
   "source": [
    "def add(a,b):\n",
    "    print(\"value of a:\", a)\n",
    "    print(\"value of b:\", b)\n",
    "    sum = a + b\n",
    "    return sum\n",
    "\n",
    "# Main prg body\n",
    "ans = add(a=10, b=5)\n",
    "print(ans)\n",
    "\n",
    "print('*'*20)\n",
    "\n",
    "ans1 = add(b=5, a=10)\n",
    "print(ans1)\n",
    "\n",
    "ans2 = add(x=5, y=10)\n",
    "print(ans2)"
   ]
  },
  {
   "cell_type": "code",
   "execution_count": null,
   "id": "2fb9bc6a",
   "metadata": {},
   "outputs": [],
   "source": [
    "# 6. Variable length Arguments -> *args, **kwargs"
   ]
  },
  {
   "cell_type": "code",
   "execution_count": null,
   "id": "679a58f6",
   "metadata": {},
   "outputs": [],
   "source": [
    "# Variable length arguments \n",
    "# *args\n",
    "def myFunction(arg1, arg2, arg3, *args, **kwargs):\n",
    "    print(\"1st normal argument:\"+ str(arg1))\n",
    "    print(\"2nd normal argument:\"+ str(arg2))\n",
    "    print(\"3rd normal argument:\"+ str(arg3))\n",
    "    print(\"*args argument:\"+ str(args))\n",
    "    print(\"keyworded (**kwargs) argument:\"+str(kwargs))\n",
    "    \n",
    "# Main Prg Body\n",
    "myFunction(1,2,3,4,5,6,7,8,88,name='Mandar',country='India',age='25')"
   ]
  },
  {
   "cell_type": "code",
   "execution_count": null,
   "id": "154c580b",
   "metadata": {},
   "outputs": [],
   "source": [
    "def make_pizza(*toppings):\n",
    "    print(toppings)\n",
    "    print(toppings[1])\n",
    "\n",
    "# make_pizza('peperoni')\n",
    "make_pizza('peperoni', 'mushrooms', 'cheese')"
   ]
  },
  {
   "cell_type": "code",
   "execution_count": null,
   "id": "0bcbfaf0",
   "metadata": {},
   "outputs": [],
   "source": [
    "def name_country(**nm_cy):\n",
    "    print(nm_cy)\n",
    "    print(type(nm_cy))\n",
    "    for (key,value) in nm_cy.items():\n",
    "        print(key + \"=\" + value)\n",
    "\n",
    "name_country(name='Mandar',country='India')"
   ]
  },
  {
   "cell_type": "code",
   "execution_count": null,
   "id": "51c34956",
   "metadata": {},
   "outputs": [],
   "source": [
    "type(name_country)"
   ]
  },
  {
   "cell_type": "code",
   "execution_count": null,
   "id": "47b051c0",
   "metadata": {},
   "outputs": [],
   "source": [
    "def calculator():\n",
    "    a = 10\n",
    "    b = 20\n",
    "    add = a+b\n",
    "    sub = b-a\n",
    "    mul = a*b\n",
    "    div = a/b\n",
    "    return add,sub,mul,div\n",
    "\n",
    "a = calculator()\n",
    "print(a)"
   ]
  },
  {
   "cell_type": "code",
   "execution_count": null,
   "id": "c6e2bb22",
   "metadata": {},
   "outputs": [],
   "source": [
    "# 7. Local Variables & Global Variables"
   ]
  },
  {
   "cell_type": "code",
   "execution_count": null,
   "id": "16e90c13",
   "metadata": {},
   "outputs": [],
   "source": [
    "x = \"awesome\" # Global variable\n",
    "\n",
    "def myfunc():\n",
    "    x = 'fantastic'  # local variable\n",
    "    print(\"local variable\", x)\n",
    "\n",
    "def myfunc1():\n",
    "    x = 'hello'  # local variable\n",
    "    print(\"local variable\", x)\n",
    "    \n",
    "# Main prg body\n",
    "myfunc()\n",
    "print(\"Python is \", x)\n",
    "print('*'*20)\n",
    "myfunc1()\n",
    "print(\"Python is \", x)"
   ]
  },
  {
   "cell_type": "code",
   "execution_count": null,
   "id": "2cb5ac40",
   "metadata": {},
   "outputs": [],
   "source": [
    "# 8. Global Keyword"
   ]
  },
  {
   "cell_type": "code",
   "execution_count": null,
   "id": "65b066c8",
   "metadata": {},
   "outputs": [],
   "source": [
    "x = \"awesome\" # Global variable\n",
    "\n",
    "def myfunc():\n",
    "    global x \n",
    "    x = 'great'  # local variable\n",
    "    print(\"local variable\", x)\n",
    "\n",
    "def myfunc1():\n",
    "    print(\"local variable\", x)    \n",
    "    \n",
    "# Main prg body\n",
    "myfunc()\n",
    "print(\"Python is \", x)\n",
    "print(\"*\"*20)\n",
    "myfunc1()\n",
    "print(\"Python is \", x)\n",
    "\n",
    "\n",
    "x = \"too awesome\"\n",
    "myfunc()\n",
    "print(\"Python is \", x)\n",
    "\n"
   ]
  },
  {
   "cell_type": "code",
   "execution_count": null,
   "id": "5d9fbf17",
   "metadata": {},
   "outputs": [],
   "source": [
    "# 9. Lambda Functions"
   ]
  },
  {
   "cell_type": "code",
   "execution_count": null,
   "id": "c577ab6d",
   "metadata": {},
   "outputs": [],
   "source": [
    "# Add 10 to argument a, and return the result:\n",
    "x = lambda a,b : a * b\n",
    "print(x(5,6))"
   ]
  },
  {
   "cell_type": "code",
   "execution_count": null,
   "id": "6a1392c2",
   "metadata": {},
   "outputs": [],
   "source": [
    "# map applies a fn to all the items in an input list\n",
    "items = [1,2,3,4,5]\n",
    "squared = list(map(lambda x:x**2, items))\n",
    "print(squared)"
   ]
  },
  {
   "cell_type": "code",
   "execution_count": null,
   "id": "ec960811",
   "metadata": {},
   "outputs": [],
   "source": [
    "items = [1,2,3,4,5]\n",
    "lst = []\n",
    "for i in items:\n",
    "    x = i**2\n",
    "    lst.append(x)\n",
    "lst"
   ]
  },
  {
   "cell_type": "code",
   "execution_count": null,
   "id": "6f3f05d5",
   "metadata": {},
   "outputs": [],
   "source": [
    "# filter creates a list of elements for which a function returns true\n",
    "number_list = range(-5,5) # -5 -4 -3 -2 -1 0 1 2 3 4 5\n",
    "print(number_list)\n",
    "\n",
    "less_than_zero = list(filter(lambda x:x>=0, number_list))\n",
    "print(less_than_zero)"
   ]
  },
  {
   "cell_type": "code",
   "execution_count": null,
   "id": "90104932",
   "metadata": {},
   "outputs": [],
   "source": [
    "# reduce can perform a certain computation on a list and returns a list\n",
    "from functools import reduce\n",
    "\n",
    "product = reduce((lambda x,y:x*y),[1,2,3,4,5])\n",
    "print(product)\n",
    "sum = reduce((lambda x, y:x+y),[1,2,3,4,5])\n",
    "print(sum)\n",
    "diff = reduce((lambda x, y:x-y),[1,2,3,4,5])\n",
    "print(diff)"
   ]
  },
  {
   "cell_type": "code",
   "execution_count": null,
   "id": "4b3c4c43",
   "metadata": {},
   "outputs": [],
   "source": [
    "# 10. Concept of __name__ == \"__main__\" (Discuss this while Module 4)"
   ]
  },
  {
   "cell_type": "code",
   "execution_count": null,
   "id": "caa8b811",
   "metadata": {},
   "outputs": [],
   "source": [
    "# 11. Built-In Functions (other jupyter notebook)"
   ]
  },
  {
   "cell_type": "code",
   "execution_count": null,
   "id": "9699d86e",
   "metadata": {},
   "outputs": [],
   "source": [
    "# OOPs concepts - Abstraction, Encapsulation, Inheritance, Polymophism"
   ]
  },
  {
   "cell_type": "code",
   "execution_count": null,
   "id": "f34b5e14",
   "metadata": {},
   "outputs": [],
   "source": [
    "# 1. Creating a Class"
   ]
  },
  {
   "cell_type": "code",
   "execution_count": null,
   "id": "96706793",
   "metadata": {},
   "outputs": [],
   "source": [
    "'''\n",
    "What are Classes and Objects?\n",
    "1) World is object oriented. It is full of objects like Sparrow, Rose, Guitar, Keyboard, etc.\n",
    "2) Each object is a specific instance of a class.\n",
    "For example, Sparrow is a specific instance of a Bird class or Rose is a specific instance of a Flower class.\n",
    "3) More examples of classes and objects in real life:\n",
    "Bird is a class.\n",
    "Sparrow, Crow, Eagle are objects of Bird class.\n",
    "Player is a class. Sachin, Rahul, Kapil are objects of Player class.\n",
    "Flower is a class. Rose, Lily, Gerbera are objects of Flower class.\n",
    "Instrument is a class.Sitar, Flute are objects of Instrument class.\n",
    "4) A class describes two things — the form an object created from it will take and functionality it will have.\n",
    "For example, a Bird class may specify the form in terms of weight, color, number of feathers, etc. \n",
    "and functionality in terms off lying, hopping, chirping, eating,etc.\n",
    "5) The form is often termed as properties and thefunctionality is often termed as methods.\n",
    "A class lets us bundle data and functionality together.\n",
    "'''"
   ]
  },
  {
   "cell_type": "code",
   "execution_count": 1,
   "id": "a8dc7e7b",
   "metadata": {},
   "outputs": [
    {
     "name": "stdout",
     "output_type": "stream",
     "text": [
      "<__main__.fruit object at 0x000001E744FA7250>\n",
      "<__main__.fruit object at 0x000001E744FEFFA0>\n"
     ]
    }
   ],
   "source": [
    "class fruit:\n",
    "    pass\n",
    "\n",
    "apple = fruit()\n",
    "print(apple)\n",
    "mango = fruit()\n",
    "print(mango)"
   ]
  },
  {
   "cell_type": "code",
   "execution_count": 4,
   "id": "c8ecaebe",
   "metadata": {},
   "outputs": [
    {
     "name": "stdout",
     "output_type": "stream",
     "text": [
      "red\n",
      "**** in eat fn ****\n",
      "<__main__.fruit object at 0x000001E744FA60B0>\n",
      "the fruit is red in color and sweet\n",
      "red\n",
      "**** in eat fn ****\n",
      "<__main__.fruit object at 0x000001E744FEF8E0>\n",
      "the fruit is red in color and sweet\n"
     ]
    }
   ],
   "source": [
    "class fruit:\n",
    "    color = \"red\"\n",
    "    def eat(self):\n",
    "        print(\"**** in eat fn ****\")\n",
    "        print(self)\n",
    "        print(\"the fruit is red in color and sweet\")\n",
    "\n",
    "apple = fruit()\n",
    "print(apple.color)\n",
    "apple.eat()\n",
    "##########################\n",
    "mango = fruit()\n",
    "print(mango.color)\n",
    "mango.eat()"
   ]
  },
  {
   "cell_type": "code",
   "execution_count": null,
   "id": "d0aa2cd6",
   "metadata": {},
   "outputs": [],
   "source": [
    "# 2. Defining Attributes"
   ]
  },
  {
   "cell_type": "code",
   "execution_count": 5,
   "id": "74198c63",
   "metadata": {},
   "outputs": [
    {
     "name": "stdout",
     "output_type": "stream",
     "text": [
      "<__main__.Dog object at 0x000001E744FA75B0>\n",
      "grey black\n",
      "********************\n",
      "<__main__.Dog object at 0x000001E744FEE890>\n",
      "grey black\n"
     ]
    }
   ],
   "source": [
    "class Dog():\n",
    "    # Class attributes\n",
    "    body_color = \"grey\"\n",
    "    eye_color = \"black\"\n",
    "\n",
    "tommy = Dog()\n",
    "print(tommy)\n",
    "print(tommy.body_color, tommy.eye_color)\n",
    "print('*'*20)\n",
    "bobby = Dog()\n",
    "print(bobby)\n",
    "print(bobby.body_color, bobby.eye_color)"
   ]
  },
  {
   "cell_type": "code",
   "execution_count": null,
   "id": "9854e63c",
   "metadata": {},
   "outputs": [],
   "source": [
    "# 3. Defining Methods"
   ]
  },
  {
   "cell_type": "code",
   "execution_count": 6,
   "id": "d130678e",
   "metadata": {},
   "outputs": [
    {
     "name": "stdout",
     "output_type": "stream",
     "text": [
      "<__main__.Dog object at 0x000001E744FEFD90>\n",
      "grey black\n",
      "Dog is sitting\n",
      "self value <__main__.Dog object at 0x000001E744FEFD90>\n",
      "********************\n",
      "<__main__.Dog object at 0x000001E744FEEF50>\n",
      "grey black\n",
      "Dog is shaking\n",
      "self value <__main__.Dog object at 0x000001E744FEEF50>\n"
     ]
    }
   ],
   "source": [
    "class Dog():\n",
    "    # Class attributes/variables\n",
    "    body_color = \"grey\"\n",
    "    eye_color = \"black\"\n",
    "    \n",
    "    # defining method - self parameter tells from which object it is been invoked....\n",
    "    def shake(self):\n",
    "        print(\"Dog is shaking\")\n",
    "        print(\"self value\", self)\n",
    "        \n",
    "    def sit(self):\n",
    "        print(\"Dog is sitting\")\n",
    "        print(\"self value\", self)\n",
    "######################################\n",
    "# Main Prg Body        \n",
    "tommy = Dog()\n",
    "print(tommy)\n",
    "print(tommy.body_color, tommy.eye_color)\n",
    "tommy.sit()\n",
    "\n",
    "print('*'*20)\n",
    "\n",
    "bobby = Dog()\n",
    "print(bobby)\n",
    "print(bobby.body_color, bobby.eye_color)\n",
    "bobby.shake()"
   ]
  },
  {
   "cell_type": "code",
   "execution_count": null,
   "id": "be9743d3",
   "metadata": {},
   "outputs": [],
   "source": [
    "# 4. Class Variable and Instance Variable & # 5. Constructor and Destructor"
   ]
  },
  {
   "cell_type": "code",
   "execution_count": 14,
   "id": "f025c3f7",
   "metadata": {},
   "outputs": [
    {
     "name": "stdout",
     "output_type": "stream",
     "text": [
      "Constructor is called\n",
      "Memory add: <__main__.Shark object at 0x000001E744FA62C0>\n",
      "fish\n",
      "ocean\n",
      "Sammy\n",
      "5\n",
      "100\n"
     ]
    },
    {
     "ename": "NameError",
     "evalue": "name 'sammy' is not defined",
     "output_type": "error",
     "traceback": [
      "\u001b[1;31m---------------------------------------------------------------------------\u001b[0m",
      "\u001b[1;31mNameError\u001b[0m                                 Traceback (most recent call last)",
      "Input \u001b[1;32mIn [14]\u001b[0m, in \u001b[0;36m<cell line: 28>\u001b[1;34m()\u001b[0m\n\u001b[0;32m     25\u001b[0m \u001b[38;5;28mprint\u001b[39m(sammy\u001b[38;5;241m.\u001b[39msize)\n\u001b[0;32m     27\u001b[0m \u001b[38;5;28;01mdel\u001b[39;00m sammy\n\u001b[1;32m---> 28\u001b[0m \u001b[38;5;28mprint\u001b[39m(\u001b[43msammy\u001b[49m\u001b[38;5;241m.\u001b[39msize)\n",
      "\u001b[1;31mNameError\u001b[0m: name 'sammy' is not defined"
     ]
    }
   ],
   "source": [
    "# Class declaration\n",
    "class Shark():\n",
    "    # class attributes / variables\n",
    "    animal_type = \"fish\"\n",
    "    location = \"ocean\"\n",
    "    \n",
    "    # Contructor of an object - by default this function is called when we create an object\n",
    "    def __init__(self, name, age, size):\n",
    "        print(\"Constructor is called\")\n",
    "        self.name = name # instance variable\n",
    "        self.age = age\n",
    "        self.size = size\n",
    "        \n",
    "    # destructor function\n",
    "##    def __del__(self):\n",
    "##        print(\"Destructor is called\")\n",
    "##############################################\n",
    "# Prg Body\n",
    "sammy = Shark(\"Sammy\", 5, 100)\n",
    "print(\"Memory add:\",sammy)\n",
    "print(sammy.animal_type)\n",
    "print(sammy.location)\n",
    "print(sammy.name)\n",
    "print(sammy.age)\n",
    "print(sammy.size)\n",
    "\n",
    "del sammy\n",
    "print(sammy.size)"
   ]
  },
  {
   "cell_type": "code",
   "execution_count": null,
   "id": "7fdf7fdf",
   "metadata": {},
   "outputs": [],
   "source": [
    "# 6. Public and Priviate Attributes"
   ]
  },
  {
   "cell_type": "code",
   "execution_count": 25,
   "id": "03ac7d87",
   "metadata": {},
   "outputs": [
    {
     "name": "stdout",
     "output_type": "stream",
     "text": [
      "Constructor is called\n",
      "<__main__.Shark object at 0x000001E746F35F30>\n",
      "Sammy\n",
      "5\n",
      "Shark is big\n"
     ]
    }
   ],
   "source": [
    "# Class declaration\n",
    "class Shark():\n",
    " \n",
    "    # Contructor of an object - by default this function is called when we create an object\n",
    "    def __init__(self, name, age):\n",
    "        print(\"Constructor is called\")\n",
    "        self.name = name # public variable\n",
    "        self.__age = age   # private variable\n",
    "    \n",
    "    # Public Class Method\n",
    "    def dsp_age(self):\n",
    "        print(self.__age)\n",
    "        if self.__age >= 5:\n",
    "            print(\"Shark is big\")\n",
    "        else:\n",
    "            print(\"Shark is small\")\n",
    "##############################################\n",
    "\n",
    "# Prg Body\n",
    "sammy = Shark(\"Sammy\", 5)\n",
    "print(sammy)\n",
    "print(sammy.name)\n",
    "# print(sammy.__age)\n",
    "sammy.dsp_age()\n",
    "del sammy"
   ]
  },
  {
   "cell_type": "code",
   "execution_count": null,
   "id": "fe284284",
   "metadata": {},
   "outputs": [],
   "source": [
    "# 7. Public and Private Methods"
   ]
  },
  {
   "cell_type": "code",
   "execution_count": 28,
   "id": "84270074",
   "metadata": {},
   "outputs": [
    {
     "name": "stdout",
     "output_type": "stream",
     "text": [
      "Constructor is called\n",
      "<__main__.Shark object at 0x000001E74767F370>\n",
      "5\n"
     ]
    }
   ],
   "source": [
    "# Class declaration\n",
    "class Shark():\n",
    " \n",
    "    # Contructor of an object - by default this function is called when we create an object\n",
    "    def __init__(self, name, age):\n",
    "        print(\"Constructor is called\")\n",
    "        self.name = name # public variable\n",
    "        self.__age = age   # private variable\n",
    "    \n",
    "    # Private Class Method\n",
    "    def __dsp_age(self):\n",
    "        print(self.__age)\n",
    "    \n",
    "    # Public Method - To HR not to anyone else...\n",
    "    def age(self):\n",
    "        self.__dsp_age()\n",
    "        \n",
    "##############################################\n",
    "\n",
    "# Prg Body\n",
    "sammy = Shark(\"Sammy\", 5)\n",
    "print(sammy)\n",
    "sammy.age()"
   ]
  },
  {
   "cell_type": "code",
   "execution_count": null,
   "id": "772c2aca",
   "metadata": {},
   "outputs": [],
   "source": [
    "sammy._Shark__dsp_age()"
   ]
  },
  {
   "cell_type": "code",
   "execution_count": null,
   "id": "0ed8ef54",
   "metadata": {},
   "outputs": [],
   "source": [
    "sammy.age()"
   ]
  },
  {
   "cell_type": "code",
   "execution_count": null,
   "id": "bf15a74f",
   "metadata": {},
   "outputs": [],
   "source": [
    "# 8. Inheritance - Single Inheritance"
   ]
  },
  {
   "cell_type": "code",
   "execution_count": 29,
   "id": "827324db",
   "metadata": {},
   "outputs": [
    {
     "name": "stdout",
     "output_type": "stream",
     "text": [
      "500\n",
      "Parent method\n",
      "800\n",
      "Child method\n"
     ]
    }
   ],
   "source": [
    "class Parent:\n",
    "    a = 500\n",
    "    def parmet(self):\n",
    "        print(\"Parent method\")\n",
    "\n",
    "class Child(Parent):\n",
    "    b = 800\n",
    "    def chdmet(self):\n",
    "        print(\"Child method\")\n",
    "\n",
    "Child_Object = Child()\n",
    "# accessing the parent variable and methods\n",
    "print(Child_Object.a)\n",
    "Child_Object.parmet()\n",
    "# accessing its own variables and methods\n",
    "print(Child_Object.b)\n",
    "Child_Object.chdmet()"
   ]
  },
  {
   "cell_type": "code",
   "execution_count": 30,
   "id": "25d5bdc4",
   "metadata": {},
   "outputs": [
    {
     "name": "stdout",
     "output_type": "stream",
     "text": [
      "This is Parent constructor\n",
      "This is Child constructor\n",
      "This is parent method\n",
      "This is Child method\n",
      "This is parent method\n"
     ]
    }
   ],
   "source": [
    "class Parent:\n",
    "    def __init__(self):\n",
    "        print(\"This is Parent constructor\")\n",
    "    def parent_method(self):\n",
    "        print(\"This is parent method\")\n",
    "\n",
    "class Child(Parent):\n",
    "    def __init__(self):\n",
    "        print(\"This is Child constructor\")\n",
    "    def child_method(self):\n",
    "        print(\"This is Child method\")\n",
    "\n",
    "Parent_Object = Parent()\n",
    "Child_Object = Child()\n",
    "\n",
    "Parent_Object.parent_method()\n",
    "Child_Object.child_method()\n",
    "Child_Object.parent_method()"
   ]
  },
  {
   "cell_type": "code",
   "execution_count": 36,
   "id": "c29dd215",
   "metadata": {},
   "outputs": [
    {
     "name": "stdout",
     "output_type": "stream",
     "text": [
      "200\n",
      "100\n"
     ]
    }
   ],
   "source": [
    "# Parent Class\n",
    "class Rectangle():\n",
    "    def __init__(self, length, width):\n",
    "        self.length = length       # Instance variable\n",
    "        self.width = width         # Instance Variable\n",
    "\n",
    "    def area(self):\n",
    "        return self.length * self.width\n",
    "\n",
    "# Derived Class\n",
    "class Square(Rectangle):\n",
    "    def __init__(self, side):\n",
    "        Rectangle.__init__(self, side, side) # using the parent class constructor\n",
    "#       super().__init__(side, side) # using the parent class constructor\n",
    "        self.side = side\n",
    "\n",
    "# Main Prg Body\n",
    "\n",
    "x = Rectangle(10,20)\n",
    "print(x.area()) # Parent method accessed from Parent Class Object\n",
    "\n",
    "y = Square(10)\n",
    "print(y.area()) # Parent method accessed from CHILD Class Object"
   ]
  },
  {
   "cell_type": "code",
   "execution_count": null,
   "id": "da8f040b",
   "metadata": {},
   "outputs": [],
   "source": [
    "# 9. Inheritance - Multilevel Inheritance"
   ]
  },
  {
   "cell_type": "code",
   "execution_count": 37,
   "id": "3a1d7e61",
   "metadata": {},
   "outputs": [
    {
     "name": "stdout",
     "output_type": "stream",
     "text": [
      "500\n",
      "800\n",
      "1000\n"
     ]
    }
   ],
   "source": [
    "class GrandFather:\n",
    "    gf = 500\n",
    "\n",
    "class Father(GrandFather):\n",
    "    f = 800\n",
    "\n",
    "class Child(Father):\n",
    "    c = 1000\n",
    "\n",
    "Child_Object = Child()\n",
    "print(Child_Object.gf)\n",
    "print(Child_Object.f)\n",
    "print(Child_Object.c)"
   ]
  },
  {
   "cell_type": "code",
   "execution_count": 41,
   "id": "46e4c885",
   "metadata": {},
   "outputs": [
    {
     "name": "stdout",
     "output_type": "stream",
     "text": [
      "Dog is barking\n",
      "Animal is Speaking\n",
      "Eating bread...\n"
     ]
    }
   ],
   "source": [
    "class Animal:  \n",
    "    def speak(self):  \n",
    "        print(\"Animal is Speaking\")  \n",
    "\n",
    "#The child class Dog inherits the base class Animal  \n",
    "class Dog(Animal):  \n",
    "    def bark(self):  \n",
    "        print(\"Dog is barking\")  \n",
    "\n",
    "#The child class Dogchild inherits another child class Dog  \n",
    "class DogChild(Dog):  \n",
    "    def eat(self):  \n",
    "        print(\"Eating bread...\")  \n",
    "\n",
    "# Main Prg Body        \n",
    "d = DogChild()  \n",
    "d.bark()  \n",
    "d.speak()  \n",
    "d.eat()  "
   ]
  },
  {
   "cell_type": "code",
   "execution_count": null,
   "id": "c0e83018",
   "metadata": {},
   "outputs": [],
   "source": [
    "# 10. Inheritance - Multiple Inheritance"
   ]
  },
  {
   "cell_type": "code",
   "execution_count": 44,
   "id": "a384b057",
   "metadata": {},
   "outputs": [
    {
     "name": "stdout",
     "output_type": "stream",
     "text": [
      "1000\n",
      "500\n",
      "600\n"
     ]
    }
   ],
   "source": [
    "class Father:\n",
    "    f = 500\n",
    "\n",
    "class Mother:\n",
    "    m = 600\n",
    "\n",
    "class Child(Father, Mother):\n",
    "    c = 1000\n",
    "\n",
    "Child_Object = Child()\n",
    "print(Child_Object.c)\n",
    "print(Child_Object.f)\n",
    "print(Child_Object.m)"
   ]
  },
  {
   "cell_type": "code",
   "execution_count": 45,
   "id": "07452518",
   "metadata": {},
   "outputs": [
    {
     "name": "stdout",
     "output_type": "stream",
     "text": [
      "30\n",
      "200\n",
      "0.5\n"
     ]
    }
   ],
   "source": [
    "# Parent Class 1\n",
    "class Calculation1:  \n",
    "    def Summation(self,a,b):  \n",
    "        return a+b;  \n",
    "\n",
    "# Parent Class 2    \n",
    "class Calculation2:  \n",
    "    def Multiplication(self,a,b):  \n",
    "        return a*b;  \n",
    "\n",
    "# Devired class from Parent 1 & Parent 2    \n",
    "class Derived(Calculation1,Calculation2):  \n",
    "    def Divide(self,a,b):  \n",
    "        return a/b;  \n",
    "\n",
    "# Main Prg Body\n",
    "d = Derived()  \n",
    "print(d.Summation(10,20))  \n",
    "print(d.Multiplication(10,20))  \n",
    "print(d.Divide(10,20))  "
   ]
  },
  {
   "cell_type": "code",
   "execution_count": null,
   "id": "3b47b30b",
   "metadata": {},
   "outputs": [],
   "source": [
    "# 11. Method Resolution Order (MRO) - Hybrid Inheritance"
   ]
  },
  {
   "cell_type": "code",
   "execution_count": 50,
   "id": "ac9d8b07",
   "metadata": {},
   "outputs": [
    {
     "ename": "AttributeError",
     "evalue": "'D' object has no attribute 'rk'",
     "output_type": "error",
     "traceback": [
      "\u001b[1;31m---------------------------------------------------------------------------\u001b[0m",
      "\u001b[1;31mAttributeError\u001b[0m                            Traceback (most recent call last)",
      "Input \u001b[1;32mIn [50]\u001b[0m, in \u001b[0;36m<cell line: 26>\u001b[1;34m()\u001b[0m\n\u001b[0;32m     22\u001b[0m     \u001b[38;5;28;01mpass\u001b[39;00m\n\u001b[0;32m     25\u001b[0m r \u001b[38;5;241m=\u001b[39m D()\n\u001b[1;32m---> 26\u001b[0m \u001b[43mr\u001b[49m\u001b[38;5;241;43m.\u001b[39;49m\u001b[43mrk\u001b[49m()\n\u001b[0;32m     27\u001b[0m \u001b[38;5;28mprint\u001b[39m(D\u001b[38;5;241m.\u001b[39m\u001b[38;5;18m__mro__\u001b[39m)\n\u001b[0;32m     28\u001b[0m \u001b[38;5;28mprint\u001b[39m(D\u001b[38;5;241m.\u001b[39m\u001b[38;5;18m__bases__\u001b[39m)\n",
      "\u001b[1;31mAttributeError\u001b[0m: 'D' object has no attribute 'rk'"
     ]
    }
   ],
   "source": [
    "# Parent Class\n",
    "class A:\n",
    "    pass\n",
    "#    def rk(self):\n",
    "#        print(\" In class A\")\n",
    "\n",
    "# Derived from A\n",
    "class B(A):\n",
    "    pass\n",
    "#    def rk(self):\n",
    "#        print(\" In class B\")\n",
    "\n",
    "# Derived from A\n",
    "class C(A):\n",
    "    pass\n",
    "#    def rk(self):\n",
    "#        print(\"In class C\")\n",
    "\n",
    "# Derived from B & C\n",
    "# classes ordering & also example of Hybrid Inheritance\n",
    "class D(C, B): \n",
    "    pass\n",
    "\n",
    "\n",
    "r = D()\n",
    "r.rk()\n",
    "print(D.__mro__)\n",
    "print(D.__bases__)"
   ]
  },
  {
   "cell_type": "code",
   "execution_count": null,
   "id": "5aa2f9c0",
   "metadata": {},
   "outputs": [],
   "source": [
    "# 12. Hierarchical Inheritance showing Getter and Setter Methods"
   ]
  },
  {
   "cell_type": "code",
   "execution_count": null,
   "id": "5bad5a0e",
   "metadata": {},
   "outputs": [],
   "source": [
    "class Details:\n",
    "    def __init__(self):\n",
    "        self.__id=\"<No Id>\"\n",
    "        self.__name=\"<No Name>\"\n",
    "        self.__gender=\"<No Gender>\"\n",
    "\n",
    "    def setData(self,id,name,gender): # Setter Function. To set the values of id, name and gender we are using this fn\n",
    "        self.__id=id\n",
    "        self.__name=name\n",
    "        self.__gender=gender\n",
    "\n",
    "    def showData(self):               # Getter function\n",
    "        print(\"Id: \",self.__id)\n",
    "        print(\"Name: \", self.__name)\n",
    "        print(\"Gender: \", self.__gender)\n",
    "\n",
    "class Doctor(Details): #Inheritance\n",
    "    def __init__(self):\n",
    "        self.__hospital=\"<No Hospital>\"\n",
    "        self.__dept=\"<No Dept>\"\n",
    "        \n",
    "    def setEmployee(self,id,name,gender,hos,dept): # Setter Function.\n",
    "        self.setData(id,name,gender)   # Parent class fn is invoked to set parent variables\n",
    "        self.__hospital=hos\n",
    "        self.__dept=dept\n",
    "        \n",
    "    def showEmployee(self):                       # Getter function\n",
    "        self.showData()\n",
    "        print(\"Hospital: \", self.__hospital)\n",
    "        print(\"Department: \", self.__dept)\n",
    "\n",
    "# Main Prg Body\n",
    "print(\"Doctor Object\")\n",
    "d = Doctor()\n",
    "d.setEmployee(1, \"pankaj\", \"male\", \"aiims\", \"eyes\")\n",
    "d.showEmployee()"
   ]
  },
  {
   "cell_type": "code",
   "execution_count": null,
   "id": "09b11855",
   "metadata": {},
   "outputs": [],
   "source": [
    "# 13. Polymorphism - Method Overriding"
   ]
  },
  {
   "cell_type": "code",
   "execution_count": 51,
   "id": "04306039",
   "metadata": {},
   "outputs": [
    {
     "name": "stdout",
     "output_type": "stream",
     "text": [
      "Bank Rate of interest: 10\n",
      "SBI Rate of interest: 7\n",
      "ICICI Rate of interest: 8\n"
     ]
    }
   ],
   "source": [
    "class Bank:  \n",
    "    def getroi(self):  \n",
    "        return 10;  \n",
    "\n",
    "class SBI(Bank):  \n",
    "    def getroi(self):  \n",
    "        return 7;  \n",
    "\n",
    "class ICICI(Bank):    \n",
    "    def getroi(self):  \n",
    "        return 8;  \n",
    "\n",
    "# Main Prg Body\n",
    "b1 = Bank()  \n",
    "b2 = SBI()  \n",
    "b3 = ICICI()  \n",
    "print(\"Bank Rate of interest:\",b1.getroi());  \n",
    "print(\"SBI Rate of interest:\",b2.getroi());  \n",
    "print(\"ICICI Rate of interest:\",b3.getroi());"
   ]
  },
  {
   "cell_type": "code",
   "execution_count": null,
   "id": "e27a7f4c",
   "metadata": {},
   "outputs": [],
   "source": []
  },
  {
   "cell_type": "code",
   "execution_count": null,
   "id": "79569f44",
   "metadata": {},
   "outputs": [],
   "source": []
  }
 ],
 "metadata": {
  "kernelspec": {
   "display_name": "tensf",
   "language": "python",
   "name": "python3"
  },
  "language_info": {
   "codemirror_mode": {
    "name": "ipython",
    "version": 3
   },
   "file_extension": ".py",
   "mimetype": "text/x-python",
   "name": "python",
   "nbconvert_exporter": "python",
   "pygments_lexer": "ipython3",
   "version": "3.10.8"
  },
  "vscode": {
   "interpreter": {
    "hash": "3e313d1f24da57a081eee6b594756086e5e54161d7342791616a06970af18016"
   }
  }
 },
 "nbformat": 4,
 "nbformat_minor": 5
}
