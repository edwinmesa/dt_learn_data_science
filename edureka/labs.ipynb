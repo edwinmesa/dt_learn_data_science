{
 "cells": [
  {
   "cell_type": "code",
   "execution_count": 2,
   "metadata": {},
   "outputs": [
    {
     "ename": "TypeError",
     "evalue": "can't multiply sequence by non-int of type 'str'",
     "output_type": "error",
     "traceback": [
      "\u001b[1;31m---------------------------------------------------------------------------\u001b[0m",
      "\u001b[1;31mTypeError\u001b[0m                                 Traceback (most recent call last)",
      "Cell \u001b[1;32mIn[2], line 4\u001b[0m\n\u001b[0;32m      2\u001b[0m y\u001b[39m=\u001b[39m\u001b[39minput\u001b[39m(\u001b[39m'\u001b[39m\u001b[39mEnter another number\u001b[39m\u001b[39m'\u001b[39m)\n\u001b[0;32m      3\u001b[0m z\u001b[39m=\u001b[39m\u001b[39m10\u001b[39m\n\u001b[1;32m----> 4\u001b[0m value\u001b[39m=\u001b[39m (x\u001b[39m*\u001b[39;49my)\u001b[39m+\u001b[39mz\n\u001b[0;32m      5\u001b[0m \u001b[39mprint\u001b[39m(value, \u001b[39mtype\u001b[39m(value))\n",
      "\u001b[1;31mTypeError\u001b[0m: can't multiply sequence by non-int of type 'str'"
     ]
    }
   ],
   "source": [
    "x=input('Enter a number')\n",
    "y=input('Enter another number')\n",
    "z=10\n",
    "value= (x*y)+z\n",
    "print(value, type(value))"
   ]
  },
  {
   "cell_type": "code",
   "execution_count": 5,
   "metadata": {},
   "outputs": [
    {
     "name": "stdout",
     "output_type": "stream",
     "text": [
      "0\n",
      "7\n"
     ]
    }
   ],
   "source": [
    "file_obj=open('File2.txt','r')\n",
    "print(file_obj.tell())\n",
    "file_obj.read()  \n",
    "print(file_obj.tell())  \n",
    "output=file_obj.read()\n",
    "while True:\n",
    "    for i in output:\n",
    "        print(output)  \n",
    "    break"
   ]
  },
  {
   "cell_type": "code",
   "execution_count": 6,
   "metadata": {},
   "outputs": [],
   "source": [
    "list1=[1,2,1,3,4,5,5,6]\n",
    "list2=[7,5,3,10,2,2,3,4]\n",
    "list3=[]\n",
    "for i in range (0,len(list1)):\n",
    "    for j in range(0,len(list2)):\n",
    "        if(list2[j]==list1[i]):\n",
    "            if(list1[i] not in list3):\n",
    "                list3.append(list1[i])"
   ]
  },
  {
   "cell_type": "code",
   "execution_count": 7,
   "metadata": {},
   "outputs": [
    {
     "name": "stdout",
     "output_type": "stream",
     "text": [
      "[10, 20, 30, [40, 50, 60]]\n"
     ]
    }
   ],
   "source": [
    "list1=[10,20,30]\n",
    "list2=[40,50,60]\n",
    "list1.append(list2)\n",
    "list1[::-1]\n",
    "print(list1)"
   ]
  },
  {
   "cell_type": "code",
   "execution_count": 8,
   "metadata": {},
   "outputs": [
    {
     "data": {
      "text/plain": [
       "[(80, 90), 70, 60, [30, 100], [10, 20]]"
      ]
     },
     "execution_count": 8,
     "metadata": {},
     "output_type": "execute_result"
    }
   ],
   "source": [
    "tuple_1=([10,20],[30,40],60,70,(80,90)) # Line1\n",
    "tuple_1=list(tuple_1[::-1])\n",
    "tuple_1[3][1]=100  #Line 3\n",
    "tuple_1"
   ]
  },
  {
   "cell_type": "code",
   "execution_count": 9,
   "metadata": {},
   "outputs": [
    {
     "name": "stdout",
     "output_type": "stream",
     "text": [
      "['Edurek', '']\n"
     ]
    }
   ],
   "source": [
    "str1='Edureka'\n",
    "str1.upper()\n",
    "list1=str1.split('a')\n",
    "print(list1)"
   ]
  },
  {
   "cell_type": "code",
   "execution_count": 10,
   "metadata": {},
   "outputs": [
    {
     "name": "stdout",
     "output_type": "stream",
     "text": [
      "{400, 300}\n",
      "None\n"
     ]
    }
   ],
   "source": [
    "dict1={'A':[100,200],\"B\":(200,300),\"C\":{300,300,400}}\n",
    "del dict1['B']\n",
    "print(dict1.get('C',500))  \n",
    "print(dict1.get(\"B\"))"
   ]
  },
  {
   "cell_type": "code",
   "execution_count": 11,
   "metadata": {},
   "outputs": [
    {
     "name": "stdout",
     "output_type": "stream",
     "text": [
      "b'Hello World!!'\n"
     ]
    },
    {
     "ename": "TypeError",
     "evalue": "'bytes' object does not support item assignment",
     "output_type": "error",
     "traceback": [
      "\u001b[1;31m---------------------------------------------------------------------------\u001b[0m",
      "\u001b[1;31mTypeError\u001b[0m                                 Traceback (most recent call last)",
      "Cell \u001b[1;32mIn[11], line 5\u001b[0m\n\u001b[0;32m      2\u001b[0m array1 \u001b[39m=\u001b[39m \u001b[39mbytes\u001b[39m(\u001b[39mstr\u001b[39m, \u001b[39m'\u001b[39m\u001b[39mutf-8\u001b[39m\u001b[39m'\u001b[39m)\n\u001b[0;32m      3\u001b[0m \u001b[39mprint\u001b[39m(array1)\n\u001b[1;32m----> 5\u001b[0m array1[\u001b[39m5\u001b[39;49m] \u001b[39m=\u001b[39m \u001b[39m'\u001b[39m\u001b[39me\u001b[39m\u001b[39m'\u001b[39m\n\u001b[0;32m      6\u001b[0m \u001b[39mprint\u001b[39m(array1)\n",
      "\u001b[1;31mTypeError\u001b[0m: 'bytes' object does not support item assignment"
     ]
    }
   ],
   "source": [
    "str = \"Hello World!!\"\n",
    "array1 = bytes(str, 'utf-8')\n",
    "print(array1)\n",
    "\n",
    "array1[5] = 'e'\n",
    "print(array1)"
   ]
  }
 ],
 "metadata": {
  "kernelspec": {
   "display_name": "tensf",
   "language": "python",
   "name": "python3"
  },
  "language_info": {
   "codemirror_mode": {
    "name": "ipython",
    "version": 3
   },
   "file_extension": ".py",
   "mimetype": "text/x-python",
   "name": "python",
   "nbconvert_exporter": "python",
   "pygments_lexer": "ipython3",
   "version": "3.10.8"
  },
  "orig_nbformat": 4,
  "vscode": {
   "interpreter": {
    "hash": "3e313d1f24da57a081eee6b594756086e5e54161d7342791616a06970af18016"
   }
  }
 },
 "nbformat": 4,
 "nbformat_minor": 2
}
