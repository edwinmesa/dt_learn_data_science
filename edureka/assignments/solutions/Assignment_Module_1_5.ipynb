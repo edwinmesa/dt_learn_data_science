{
 "cells": [
  {
   "attachments": {},
   "cell_type": "markdown",
   "metadata": {},
   "source": [
    "Module 5: Introduction to NumPy\n"
   ]
  },
  {
   "attachments": {},
   "cell_type": "markdown",
   "metadata": {},
   "source": [
    "1. Convert the given list into a numpy array and replace the odd elements with -2.\n"
   ]
  },
  {
   "cell_type": "code",
   "execution_count": 34,
   "metadata": {},
   "outputs": [
    {
     "data": {
      "text/plain": [
       "array([[-2,  2, -2],\n",
       "       [ 4, -2,  6],\n",
       "       [-2,  8, -2]])"
      ]
     },
     "execution_count": 34,
     "metadata": {},
     "output_type": "execute_result"
    }
   ],
   "source": [
    "import numpy as np\n",
    "lst = [[1, 2, 3], [4, 5, 6], [7, 8, 9]]\n",
    "# type(lst)\n",
    "npLst = np.array(lst)  # to do more efficiently\n",
    "np.where(npLst % 2 != 0, -2, npLst)  # and apply the method where\n"
   ]
  },
  {
   "attachments": {},
   "cell_type": "markdown",
   "metadata": {},
   "source": [
    "2. In the numpy array given below print all the elements ranging from 8 to 15\n"
   ]
  },
  {
   "cell_type": "code",
   "execution_count": 46,
   "metadata": {},
   "outputs": [
    {
     "name": "stdout",
     "output_type": "stream",
     "text": [
      "[ 8  9 10 12]\n"
     ]
    }
   ],
   "source": [
    "arr = [1, 2, 3, 4, 5, 8, 9, 10, 12, 22, 32, 54, 99, 6, 7]\n",
    "npArr = np.array(arr)\n",
    "# Extract the indices where the value is between 8 and 15\n",
    "res = np.where((npArr >= 8) & (npArr <= 15))\n",
    "print(npArr[res])  # Print the indices where the value is between 8 and 15\n"
   ]
  },
  {
   "attachments": {},
   "cell_type": "markdown",
   "metadata": {},
   "source": [
    "3. Create a 3\\*3 narray that includes numbers from 1 to 9 and swap columns 1 and 2.\n"
   ]
  },
  {
   "cell_type": "code",
   "execution_count": 57,
   "metadata": {},
   "outputs": [
    {
     "name": "stdout",
     "output_type": "stream",
     "text": [
      "[[0 1 2]\n",
      " [3 4 5]\n",
      " [6 7 8]]\n",
      "********************\n",
      "[[1 0 2]\n",
      " [4 3 5]\n",
      " [7 6 8]]\n"
     ]
    }
   ],
   "source": [
    "arr = np.arange(9).reshape(3, 3)\n",
    "print(arr)\n",
    "print('*' * 20)\n",
    "arr[:, [1, 0]] = arr[:, [0, 1]]  # Interchange rows and columns\n",
    "print(arr)\n"
   ]
  },
  {
   "attachments": {},
   "cell_type": "markdown",
   "metadata": {},
   "source": [
    "4. In the given numpy array replace the NaN values with the average of columns\n"
   ]
  },
  {
   "cell_type": "code",
   "execution_count": 65,
   "metadata": {},
   "outputs": [
    {
     "name": "stdout",
     "output_type": "stream",
     "text": [
      "[[1.3 2.5 3.6 6. ]\n",
      " [2.6 3.3 4.5 5.5]\n",
      " [2.1 3.2 5.4 6.5]]\n"
     ]
    }
   ],
   "source": [
    "arr = np.array([[1.3, 2.5, 3.6, np.nan],\n",
    "                [2.6, 3.3, np.nan, 5.5],\n",
    "                [2.1, 3.2, 5.4, 6.5]])\n",
    "\n",
    "# Calculate the mean by column\n",
    "col_mean = np.nanmean(arr, axis=0)\n",
    "# Find the indices of the column with nan values\n",
    "indices = np.where(np.isnan(arr))\n",
    "# replace the nan values with the column mean\n",
    "arr[indices] = np.take(col_mean, indices[1])\n",
    "print(arr)\n"
   ]
  },
  {
   "attachments": {},
   "cell_type": "markdown",
   "metadata": {},
   "source": [
    "5. For the numpy array given below perform the following operation:\n"
   ]
  },
  {
   "cell_type": "code",
   "execution_count": 71,
   "metadata": {},
   "outputs": [
    {
     "name": "stdout",
     "output_type": "stream",
     "text": [
      "[[2 4 6]\n",
      " [1 3 5]]\n",
      "********************\n",
      "[[1 3 5]\n",
      " [2 4 6]]\n"
     ]
    }
   ],
   "source": [
    "arr = [[2, 4, 6],\n",
    "       [1, 3, 5]]\n",
    "\n",
    "# i.Convert the numpy array into a numpy matrix\n",
    "m = np.asmatrix(arr)\n",
    "print(m)\n",
    "print('*' * 20)\n",
    "# ii.Sort the values in a matrix\n",
    "m.sort(axis=0)\n",
    "print(m)\n"
   ]
  },
  {
   "cell_type": "code",
   "execution_count": null,
   "metadata": {},
   "outputs": [],
   "source": []
  }
 ],
 "metadata": {
  "kernelspec": {
   "display_name": "tensf",
   "language": "python",
   "name": "python3"
  },
  "language_info": {
   "codemirror_mode": {
    "name": "ipython",
    "version": 3
   },
   "file_extension": ".py",
   "mimetype": "text/x-python",
   "name": "python",
   "nbconvert_exporter": "python",
   "pygments_lexer": "ipython3",
   "version": "3.10.8"
  },
  "orig_nbformat": 4,
  "vscode": {
   "interpreter": {
    "hash": "3e313d1f24da57a081eee6b594756086e5e54161d7342791616a06970af18016"
   }
  }
 },
 "nbformat": 4,
 "nbformat_minor": 2
}
