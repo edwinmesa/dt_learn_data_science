{
 "cells": [
  {
   "attachments": {},
   "cell_type": "markdown",
   "metadata": {},
   "source": [
    "#### Module 2: Sequences and File Operations"
   ]
  },
  {
   "attachments": {},
   "cell_type": "markdown",
   "metadata": {},
   "source": [
    "1. Smith wishes to register on a ticket booking website for booking bus tickets. To authenticate the registration, he needs to provide a user-id and password. There are some built-in rules for checking the validity of the passwords entered by the users. Following are the rules for checking the validity of a password:"
   ]
  },
  {
   "cell_type": "code",
   "execution_count": 2,
   "metadata": {},
   "outputs": [
    {
     "ename": "TypeError",
     "evalue": "'int' object is not callable",
     "output_type": "error",
     "traceback": [
      "\u001b[1;31m---------------------------------------------------------------------------\u001b[0m",
      "\u001b[1;31mTypeError\u001b[0m                                 Traceback (most recent call last)",
      "Cell \u001b[1;32mIn[2], line 9\u001b[0m\n\u001b[0;32m      1\u001b[0m \u001b[39m# i.   At least 1 alphabet\u001b[39;00m\n\u001b[0;32m      2\u001b[0m \u001b[39m# ii.  At least 1 digit between [0–9]\u001b[39;00m\n\u001b[0;32m      3\u001b[0m \u001b[39m# iii. At least 1 character from [@&]\u001b[39;00m\n\u001b[0;32m      4\u001b[0m \u001b[39m# iv.  Minimum length of transaction password: 5\u001b[39;00m\n\u001b[0;32m      5\u001b[0m \u001b[39m# v.   Maximum length of transaction password: 10\u001b[39;00m\n\u001b[0;32m      7\u001b[0m \u001b[39mimport\u001b[39;00m \u001b[39mre\u001b[39;00m\n\u001b[1;32m----> 9\u001b[0m p\u001b[39m=\u001b[39m \u001b[39minput\u001b[39;49m(\u001b[39m\"\u001b[39;49m\u001b[39mInput transaction password: \u001b[39;49m\u001b[39m\"\u001b[39;49m)\n\u001b[0;32m     10\u001b[0m x\u001b[39m=\u001b[39m \u001b[39mTrue\u001b[39;00m\n\u001b[0;32m     12\u001b[0m \u001b[39mwhile\u001b[39;00m x:\n",
      "\u001b[1;31mTypeError\u001b[0m: 'int' object is not callable"
     ]
    }
   ],
   "source": [
    "# i.   At least 1 alphabet\n",
    "# ii.  At least 1 digit between [0–9]\n",
    "# iii. At least 1 character from [@&]\n",
    "# iv.  Minimum length of transaction password: 5\n",
    "# v.   Maximum length of transaction password: 10\n",
    "\n",
    "import re\n",
    "\n",
    "p= input(\"Input transaction password: \")\n",
    "x= True\n",
    "\n",
    "while x:\n",
    "    if(len(p) < 5 or len(p) > 10):\n",
    "        break\n",
    "    elif not re.search('[a-zA-Z]', p):\n",
    "        break\n",
    "    elif not re.search('[0-9]', p):\n",
    "        break\n",
    "    elif not re.search(\"[@&]\",p):\n",
    "        break\n",
    "    else:\n",
    "        print(\"Password is valid\")\n",
    "        x = False\n",
    "        break\n",
    "if x:\n",
    "    print(\"Password Invalid\")    \n",
    "\n",
    "# password example: psdW3r@1a \n",
    "    "
   ]
  },
  {
   "attachments": {},
   "cell_type": "markdown",
   "metadata": {},
   "source": [
    "2. Write a program for printing all elements of a list and their indexes in the list.\n",
    "Take the list as user input"
   ]
  },
  {
   "cell_type": "code",
   "execution_count": null,
   "metadata": {},
   "outputs": [
    {
     "name": "stdout",
     "output_type": "stream",
     "text": [
      "0 1\n",
      "1 2\n",
      "2 3\n",
      "3 4\n",
      "4 5\n",
      "5 6\n",
      "6 7\n"
     ]
    }
   ],
   "source": [
    "\n",
    "n = input(\"Enter the elements separate by comma: \")\n",
    "n_split = n.split(\",\")\n",
    "for n in range(len(n_split)):\n",
    "    print(n, end=\" \")\n",
    "    print(n_split[n])\n"
   ]
  },
  {
   "attachments": {},
   "cell_type": "markdown",
   "metadata": {},
   "source": [
    "3. Write a program that accepts a string from the console and prints the characters\n",
    "that have even indexes if the character is an alphabet. Concatenate the characters\n",
    "and print.\n"
   ]
  },
  {
   "cell_type": "code",
   "execution_count": null,
   "metadata": {},
   "outputs": [],
   "source": []
  },
  {
   "attachments": {},
   "cell_type": "markdown",
   "metadata": {},
   "source": [
    "4. Please write a program that accepts a string from the console and prints it in\n",
    "reverse order."
   ]
  },
  {
   "cell_type": "code",
   "execution_count": null,
   "metadata": {},
   "outputs": [
    {
     "name": "stdout",
     "output_type": "stream",
     "text": [
      "akerude ot emocleW\n"
     ]
    }
   ],
   "source": [
    "def reversedFunction(x):\n",
    "    return x[::-1]\n",
    "x = \"Welcome to edureka\"\n",
    "a = reversedFunction(x)\n",
    "print(a)\n"
   ]
  },
  {
   "attachments": {},
   "cell_type": "markdown",
   "metadata": {},
   "source": [
    "5. Please write a program that counts and prints the numbers of each character in a\n",
    "string input by the console."
   ]
  },
  {
   "cell_type": "code",
   "execution_count": null,
   "metadata": {},
   "outputs": [
    {
     "data": {
      "text/plain": [
       "{'T': 1,\n",
       " 'h': 1,\n",
       " 'i': 3,\n",
       " 's': 3,\n",
       " ' ': 4,\n",
       " 'a': 1,\n",
       " 't': 2,\n",
       " 'r': 1,\n",
       " 'n': 2,\n",
       " 'g': 1,\n",
       " 'c': 1,\n",
       " 'o': 1,\n",
       " 'u': 1}"
      ]
     },
     "execution_count": 4,
     "metadata": {},
     "output_type": "execute_result"
    }
   ],
   "source": [
    "str_count = \"This is a string count\"\n",
    "def countCharacter(str_count):\n",
    "    count_str = {}\n",
    "    for i in str_count:\n",
    "        if i in count_str:\n",
    "            count_str[i] += 1\n",
    "        else:\n",
    "            count_str[i] = 1\n",
    "    return count_str\n",
    "\n",
    "countCharacter(str_count)\n",
    "\n",
    "        "
   ]
  },
  {
   "attachments": {},
   "cell_type": "markdown",
   "metadata": {},
   "source": [
    "6. With two given lists [1,5,10,12,34,13] and [4,7,8,10,5,13,24], write a program to create a new list whose elements are the intersection of the above-given lists."
   ]
  },
  {
   "cell_type": "code",
   "execution_count": null,
   "metadata": {},
   "outputs": [
    {
     "name": "stdout",
     "output_type": "stream",
     "text": [
      "[10, 13, 5]\n"
     ]
    }
   ],
   "source": [
    "a = [1,5,10,12,34,13] \n",
    "b = [4,7,8,10,5,13,24]\n",
    "\n",
    "def intersection(a,b):\n",
    "    return list(set(a) & set(b))\n",
    "print(intersection(a,b))"
   ]
  },
  {
   "attachments": {},
   "cell_type": "markdown",
   "metadata": {},
   "source": [
    "7. By using list comprehension, please write a program to print the list after removing the values which are divisible by 6 in [12,24,35,24,88,120,155]."
   ]
  },
  {
   "cell_type": "code",
   "execution_count": null,
   "metadata": {},
   "outputs": [
    {
     "name": "stdout",
     "output_type": "stream",
     "text": [
      "35 88 155 "
     ]
    }
   ],
   "source": [
    "list = [12,24,35,24,88,120,155]\n",
    "\n",
    "def listComprension(list):\n",
    "    for i in list:\n",
    "        if i % 6 == 0:\n",
    "            pass\n",
    "        else:\n",
    "            print(i,end=\" \")\n",
    "\n",
    "listComprension(list)"
   ]
  },
  {
   "attachments": {},
   "cell_type": "markdown",
   "metadata": {},
   "source": [
    "8. By using list comprehension, please write a program to print the list after removing the 1st,3rd, and 5th numbers in [12,24,35,70,88,120,155]."
   ]
  },
  {
   "cell_type": "code",
   "execution_count": null,
   "metadata": {},
   "outputs": [
    {
     "name": "stdout",
     "output_type": "stream",
     "text": [
      "[24, 70, 120, 155]\n"
     ]
    }
   ],
   "source": [
    "num_list = [12,24,35,70,88,120,155]\n",
    "num_remove = [12,35,88]\n",
    "\n",
    "num = [i for i in num_list if i not in num_remove]\n",
    "print(num)\n"
   ]
  },
  {
   "attachments": {},
   "cell_type": "markdown",
   "metadata": {},
   "source": [
    "9. Please write a program to randomly generate a list with 6 numbers, which are divisible by 5 and 7, between 1 and 1500 inclusive"
   ]
  },
  {
   "cell_type": "code",
   "execution_count": null,
   "metadata": {},
   "outputs": [
    {
     "name": "stdout",
     "output_type": "stream",
     "text": [
      "5 7 10 14 15 20 "
     ]
    }
   ],
   "source": [
    "def numRandom(n):\n",
    "    for i in range(1, n+1):\n",
    "        if i % 5 == 0 or i % 7 == 0:\n",
    "            yield i\n",
    "\n",
    "for i in numRandom(20):\n",
    "    print(i, end=' ')"
   ]
  },
  {
   "attachments": {},
   "cell_type": "markdown",
   "metadata": {},
   "source": [
    "10. Write a program to compute 1/2+2/3+3/4+...+n/n+1 with a given n input by console (n>0)."
   ]
  },
  {
   "cell_type": "code",
   "execution_count": null,
   "metadata": {},
   "outputs": [
    {
     "name": "stdout",
     "output_type": "stream",
     "text": [
      "The sum of series is:  3.55\n"
     ]
    }
   ],
   "source": [
    "n = int(input(\"Enter the number of terms: \"))\n",
    "\n",
    "sum=0\n",
    "\n",
    "for i in range(1,n+1):\n",
    "    sum=sum+(i/(i+1))\n",
    "\n",
    "print(\"The sum of series is: \",round(sum,2))"
   ]
  },
  {
   "attachments": {},
   "cell_type": "markdown",
   "metadata": {},
   "source": [
    "11. Case Study"
   ]
  },
  {
   "cell_type": "code",
   "execution_count": null,
   "metadata": {},
   "outputs": [
    {
     "ename": "TypeError",
     "evalue": "object of type 'int' has no len()",
     "output_type": "error",
     "traceback": [
      "\u001b[1;31m---------------------------------------------------------------------------\u001b[0m",
      "\u001b[1;31mTypeError\u001b[0m                                 Traceback (most recent call last)",
      "Cell \u001b[1;32mIn[1], line 39\u001b[0m\n\u001b[0;32m     33\u001b[0m         \u001b[39mprint\u001b[39m(encript_id)\n\u001b[0;32m     37\u001b[0m \u001b[39minput\u001b[39m \u001b[39m=\u001b[39m \u001b[39m1234567891\u001b[39m\n\u001b[1;32m---> 39\u001b[0m encript_id(\u001b[39minput\u001b[39;49m)    \n\u001b[0;32m     44\u001b[0m \u001b[39m# generateKey()\u001b[39;00m\n\u001b[0;32m     45\u001b[0m \u001b[39m# loadKey()\u001b[39;00m\n",
      "Cell \u001b[1;32mIn[1], line 29\u001b[0m, in \u001b[0;36mencript_id\u001b[1;34m(id)\u001b[0m\n\u001b[0;32m     27\u001b[0m \u001b[39mdef\u001b[39;00m \u001b[39mencript_id\u001b[39m(\u001b[39mid\u001b[39m):\n\u001b[0;32m     28\u001b[0m     key   \u001b[39m=\u001b[39m loadKey()\n\u001b[1;32m---> 29\u001b[0m     \u001b[39mif\u001b[39;00m \u001b[39mlen\u001b[39;49m(\u001b[39minput\u001b[39;49m) \u001b[39m==\u001b[39m \u001b[39m10\u001b[39m:\n\u001b[0;32m     30\u001b[0m         encodeId \u001b[39m=\u001b[39m \u001b[39mid\u001b[39m\u001b[39m.\u001b[39mencode()\n\u001b[0;32m     31\u001b[0m         f \u001b[39m=\u001b[39m Fernet(key)\n",
      "\u001b[1;31mTypeError\u001b[0m: object of type 'int' has no len()"
     ]
    }
   ],
   "source": [
    "# Approach to solve\n",
    "# 1. Read the input from the command line – Unique ID.\n",
    "# 2. Check for validity of Unique ID – it should be 10 digits and must contain only numbers.\n",
    "# 3. Encrypt the Unique ID and print it.\n",
    "\n",
    "# Enhancements for code\n",
    "# You can try these enhancements in code.\n",
    "# 1. Allow alphabets and some special characters in Unique ID\n",
    "# 2. Provide the option for decryption to the user.\n",
    "\n",
    "# Install library\n",
    "# !pip install cryptography\n",
    "\n",
    "from cryptography.fernet import Fernet\n",
    "\n",
    "# Generate a Key\n",
    "\n",
    "def generateKey():\n",
    "    key = Fernet.generate_key()\n",
    "    with open('mykey.key', 'wb') as key_file:\n",
    "        key_file.write(key)\n",
    "# Load the Key\n",
    "def loadKey():\n",
    "    with open('mykey.key', 'rb') as key_file:\n",
    "        key = key_file.read()\n",
    "\n",
    "def encript_id(id):\n",
    "    key   = loadKey()\n",
    "    if len(input) == 10:\n",
    "        encodeId = id.encode()\n",
    "        f = Fernet(key)\n",
    "        encript_id = f.encrypt(encodeId)\n",
    "        print(encript_id)\n",
    "\n",
    "\n",
    "    \n",
    "input = 1234567891\n",
    "\n",
    "encript_id(input)    \n",
    "    \n",
    "    \n",
    "\n",
    "# generateKey()\n",
    "# loadKey()\n",
    "\n",
    "# https://devqa.io/encrypt-decrypt-data-python/\n",
    "        \n"
   ]
  }
 ],
 "metadata": {
  "kernelspec": {
   "display_name": "tensf",
   "language": "python",
   "name": "python3"
  },
  "language_info": {
   "codemirror_mode": {
    "name": "ipython",
    "version": 3
   },
   "file_extension": ".py",
   "mimetype": "text/x-python",
   "name": "python",
   "nbconvert_exporter": "python",
   "pygments_lexer": "ipython3",
   "version": "3.10.8"
  },
  "orig_nbformat": 4,
  "vscode": {
   "interpreter": {
    "hash": "3e313d1f24da57a081eee6b594756086e5e54161d7342791616a06970af18016"
   }
  }
 },
 "nbformat": 4,
 "nbformat_minor": 2
}
