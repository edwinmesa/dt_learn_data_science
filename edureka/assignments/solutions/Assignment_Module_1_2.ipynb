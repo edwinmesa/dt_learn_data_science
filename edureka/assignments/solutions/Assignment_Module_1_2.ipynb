{
 "cells": [
  {
   "attachments": {},
   "cell_type": "markdown",
   "metadata": {},
   "source": [
    "#### Module 2: Sequences and File Operations\n"
   ]
  },
  {
   "attachments": {},
   "cell_type": "markdown",
   "metadata": {},
   "source": [
    "1. Smith wishes to register on a ticket booking website for booking bus tickets. To authenticate the registration, he needs to provide a user-id and password. There are some built-in rules for checking the validity of the passwords entered by the users. Following are the rules for checking the validity of a password:\n"
   ]
  },
  {
   "cell_type": "code",
   "execution_count": 1,
   "metadata": {},
   "outputs": [
    {
     "name": "stdout",
     "output_type": "stream",
     "text": [
      "Password is valid\n"
     ]
    }
   ],
   "source": [
    "# i.   At least 1 alphabet\n",
    "# ii.  At least 1 digit between [0–9]\n",
    "# iii. At least 1 character from [@&]\n",
    "# iv.  Minimum length of transaction password: 5\n",
    "# v.   Maximum length of transaction password: 10\n",
    "\n",
    "import re\n",
    "\n",
    "p = input(\"Input transaction password: \")\n",
    "x = True\n",
    "\n",
    "while x:\n",
    "    if (len(p) < 5 or len(p) > 10):\n",
    "        break\n",
    "    elif not re.search('[a-zA-Z]', p):\n",
    "        break\n",
    "    elif not re.search('[0-9]', p):\n",
    "        break\n",
    "    elif not re.search(\"[@&]\", p):\n",
    "        break\n",
    "    else:\n",
    "        print(\"Password is valid\")\n",
    "        x = False\n",
    "        break\n",
    "if x:\n",
    "    print(\"Password Invalid\")\n",
    "\n",
    "# password example: psdW3r@1a\n"
   ]
  },
  {
   "attachments": {},
   "cell_type": "markdown",
   "metadata": {},
   "source": [
    "2. Write a program for printing all elements of a list and their indexes in the list.\n",
    "   Take the list as user input\n"
   ]
  },
  {
   "cell_type": "code",
   "execution_count": null,
   "metadata": {},
   "outputs": [
    {
     "name": "stdout",
     "output_type": "stream",
     "text": [
      "0 1\n",
      "1 2\n",
      "2 3\n",
      "3 4\n",
      "4 5\n",
      "5 6\n",
      "6 7\n"
     ]
    }
   ],
   "source": [
    "\n",
    "n = input(\"Enter the elements separate by comma: \")\n",
    "n_split = n.split(\",\")\n",
    "for n in range(len(n_split)):\n",
    "    print(n, end=\" \")\n",
    "    print(n_split[n])\n"
   ]
  },
  {
   "attachments": {},
   "cell_type": "markdown",
   "metadata": {},
   "source": [
    "3. Write a program that accepts a string from the console and prints the characters\n",
    "   that have even indexes if the character is an alphabet. Concatenate the characters\n",
    "   and print.\n"
   ]
  },
  {
   "cell_type": "code",
   "execution_count": 51,
   "metadata": {},
   "outputs": [
    {
     "name": "stdout",
     "output_type": "stream",
     "text": [
      "EuaPto\n"
     ]
    }
   ],
   "source": [
    "inputchars = input(\"Enter a text to extract even indexes: \")\n",
    "\n",
    "if inputchars:\n",
    "    string = \"\"\n",
    "    for i in inputchars:\n",
    "        if inputchars.index(i) % 2 == 0:\n",
    "           string += str(i)\n",
    "    new_string = ''.join((x for x in string if not x.isdigit()))\n",
    "    print(new_string)\n"
   ]
  },
  {
   "attachments": {},
   "cell_type": "markdown",
   "metadata": {},
   "source": [
    "4. Please write a program that accepts a string from the console and prints it in\n",
    "   reverse order.\n"
   ]
  },
  {
   "cell_type": "code",
   "execution_count": null,
   "metadata": {},
   "outputs": [
    {
     "name": "stdout",
     "output_type": "stream",
     "text": [
      "akerude ot emocleW\n"
     ]
    }
   ],
   "source": [
    "def reversedFunction(x):\n",
    "    return x[::-1]\n",
    "\n",
    "\n",
    "x = \"Welcome to edureka\"\n",
    "a = reversedFunction(x)\n",
    "print(a)\n"
   ]
  },
  {
   "attachments": {},
   "cell_type": "markdown",
   "metadata": {},
   "source": [
    "5. Please write a program that counts and prints the numbers of each character in a\n",
    "   string input by the console.\n"
   ]
  },
  {
   "cell_type": "code",
   "execution_count": null,
   "metadata": {},
   "outputs": [
    {
     "data": {
      "text/plain": [
       "{'T': 1,\n",
       " 'h': 1,\n",
       " 'i': 3,\n",
       " 's': 3,\n",
       " ' ': 4,\n",
       " 'a': 1,\n",
       " 't': 2,\n",
       " 'r': 1,\n",
       " 'n': 2,\n",
       " 'g': 1,\n",
       " 'c': 1,\n",
       " 'o': 1,\n",
       " 'u': 1}"
      ]
     },
     "execution_count": 4,
     "metadata": {},
     "output_type": "execute_result"
    }
   ],
   "source": [
    "str_count = \"This is a string count\"\n",
    "\n",
    "\n",
    "def countCharacter(str_count):\n",
    "    count_str = {}\n",
    "    for i in str_count:\n",
    "        if i in count_str:\n",
    "            count_str[i] += 1\n",
    "        else:\n",
    "            count_str[i] = 1\n",
    "    return count_str\n",
    "\n",
    "\n",
    "countCharacter(str_count)\n"
   ]
  },
  {
   "attachments": {},
   "cell_type": "markdown",
   "metadata": {},
   "source": [
    "6. With two given lists [1,5,10,12,34,13] and [4,7,8,10,5,13,24], write a program to create a new list whose elements are the intersection of the above-given lists.\n"
   ]
  },
  {
   "cell_type": "code",
   "execution_count": null,
   "metadata": {},
   "outputs": [
    {
     "name": "stdout",
     "output_type": "stream",
     "text": [
      "[10, 13, 5]\n"
     ]
    }
   ],
   "source": [
    "a = [1, 5, 10, 12, 34, 13]\n",
    "b = [4, 7, 8, 10, 5, 13, 24]\n",
    "\n",
    "\n",
    "def intersection(a, b):\n",
    "    return list(set(a) & set(b))\n",
    "\n",
    "\n",
    "print(intersection(a, b))\n"
   ]
  },
  {
   "attachments": {},
   "cell_type": "markdown",
   "metadata": {},
   "source": [
    "7. By using list comprehension, please write a program to print the list after removing the values which are divisible by 6 in [12,24,35,24,88,120,155].\n"
   ]
  },
  {
   "cell_type": "code",
   "execution_count": null,
   "metadata": {},
   "outputs": [
    {
     "name": "stdout",
     "output_type": "stream",
     "text": [
      "35 88 155 "
     ]
    }
   ],
   "source": [
    "list = [12, 24, 35, 24, 88, 120, 155]\n",
    "\n",
    "\n",
    "def listComprension(list):\n",
    "    for i in list:\n",
    "        if i % 6 == 0:\n",
    "            pass\n",
    "        else:\n",
    "            print(i, end=\" \")\n",
    "\n",
    "\n",
    "listComprension(list)\n"
   ]
  },
  {
   "attachments": {},
   "cell_type": "markdown",
   "metadata": {},
   "source": [
    "8. By using list comprehension, please write a program to print the list after removing the 1st,3rd, and 5th numbers in [12,24,35,70,88,120,155].\n"
   ]
  },
  {
   "cell_type": "code",
   "execution_count": null,
   "metadata": {},
   "outputs": [
    {
     "name": "stdout",
     "output_type": "stream",
     "text": [
      "[24, 70, 120, 155]\n"
     ]
    }
   ],
   "source": [
    "num_list = [12, 24, 35, 70, 88, 120, 155]\n",
    "num_remove = [12, 35, 88]\n",
    "\n",
    "num = [i for i in num_list if i not in num_remove]\n",
    "print(num)\n"
   ]
  },
  {
   "attachments": {},
   "cell_type": "markdown",
   "metadata": {},
   "source": [
    "9. Please write a program to randomly generate a list with 6 numbers, which are divisible by 5 and 7, between 1 and 1500 inclusive\n"
   ]
  },
  {
   "cell_type": "code",
   "execution_count": null,
   "metadata": {},
   "outputs": [
    {
     "name": "stdout",
     "output_type": "stream",
     "text": [
      "5 7 10 14 15 20 "
     ]
    }
   ],
   "source": [
    "def numRandom(n):\n",
    "    for i in range(1, n+1):\n",
    "        if i % 5 == 0 or i % 7 == 0:\n",
    "            yield i\n",
    "\n",
    "\n",
    "for i in numRandom(20):\n",
    "    print(i, end=' ')\n"
   ]
  },
  {
   "attachments": {},
   "cell_type": "markdown",
   "metadata": {},
   "source": [
    "10. Write a program to compute 1/2+2/3+3/4+...+n/n+1 with a given n input by console (n>0).\n"
   ]
  },
  {
   "cell_type": "code",
   "execution_count": null,
   "metadata": {},
   "outputs": [
    {
     "name": "stdout",
     "output_type": "stream",
     "text": [
      "The sum of series is:  3.55\n"
     ]
    }
   ],
   "source": [
    "n = int(input(\"Enter the number of terms: \"))\n",
    "\n",
    "sum = 0\n",
    "\n",
    "for i in range(1, n+1):\n",
    "    sum = sum+(i/(i+1))\n",
    "\n",
    "print(\"The sum of series is: \", round(sum, 2))\n"
   ]
  },
  {
   "attachments": {},
   "cell_type": "markdown",
   "metadata": {},
   "source": [
    "11. Case Study\n"
   ]
  },
  {
   "cell_type": "code",
   "execution_count": 34,
   "metadata": {},
   "outputs": [
    {
     "name": "stdout",
     "output_type": "stream",
     "text": [
      "The UniqueID encrypt:  b'gAAAAABj4RLiRjX0-kj7xZVDzHSZ51_-ufGtCIXDIRx24zOb2PYFeLOSNeywvdmCJNb7Z8d3Ty7ajTWK1-DYhi2eu_HCmYVsqA=='\n",
      "The UniqueID decrypt is : b'1a2s3d4f6e'\n"
     ]
    }
   ],
   "source": [
    "# Approach to solve\n",
    "# 1. Read the input from the command line – Unique ID.\n",
    "# 2. Check for validity of Unique ID – it should be 10 digits and must contain only\n",
    "# numbers.\n",
    "# 3. Encrypt the Unique ID and print it.\n",
    "# Enhancements for code\n",
    "# You can try these enhancements in code.\n",
    "# 1. Allow alphabets and some special characters in Unique ID\n",
    "# 2. Provide the option for decryption to the user\n",
    "\n",
    "# library to install\n",
    "# !pip install cryptography\n",
    "\n",
    "from cryptography.fernet import Fernet\n",
    "import sys\n",
    "\n",
    "\n",
    "def generate_key():\n",
    "    key = Fernet.generate_key()\n",
    "    with open(\"secret.key\", \"wb\") as key_file:\n",
    "        key_file.write(key)\n",
    "\n",
    "\n",
    "def load_key():\n",
    "    return open(\"secret.key\", \"rb\").read()\n",
    "\n",
    "\n",
    "def encrypt_message(message):\n",
    "    key = load_key()\n",
    "    if len(message) == 10:\n",
    "        encoded_message = message.encode()\n",
    "        f = Fernet(key)\n",
    "        encrypted_message = f.encrypt(encoded_message)\n",
    "        return encrypted_message\n",
    "    else:\n",
    "        print(\"Please enter a Unique ID valid. Remember that should be 10 Digits\")\n",
    "\n",
    "\n",
    "def decrypt_message(confirm, encrypted_message):\n",
    "    # print(type(encrypted_message))\n",
    "    # break\n",
    "    if confirm == \"Yes\":\n",
    "        key = load_key()\n",
    "        f = Fernet(key)\n",
    "        decrypted_message = f.decrypt(encrypted_message)\n",
    "        return decrypted_message\n",
    "    else:\n",
    "        \"OK\"\n",
    "\n",
    "\n",
    "if __name__ == \"__main__\":\n",
    "    try:\n",
    "        msg = input(\"Please enter your ID: \")\n",
    "        encrypt = encrypt_message(msg)\n",
    "        print(f\"The UniqueID encrypt:  {encrypt}\")\n",
    "        ask = input(\"Do you want to decrypt the UniqueID: \")\n",
    "        decrypt = decrypt_message(ask, encrypt)\n",
    "        print(f\"The UniqueID decrypt is : {decrypt}\")\n",
    "    except:\n",
    "        pass\n"
   ]
  }
 ],
 "metadata": {
  "kernelspec": {
   "display_name": "venvimg",
   "language": "python",
   "name": "python3"
  },
  "language_info": {
   "codemirror_mode": {
    "name": "ipython",
    "version": 3
   },
   "file_extension": ".py",
   "mimetype": "text/x-python",
   "name": "python",
   "nbconvert_exporter": "python",
   "pygments_lexer": "ipython3",
   "version": "3.10.8"
  },
  "orig_nbformat": 4,
  "vscode": {
   "interpreter": {
    "hash": "9af664887e86d7f0d817e36ed0f8bd177f6d406f89cac0874c283298ac904e95"
   }
  }
 },
 "nbformat": 4,
 "nbformat_minor": 2
}
