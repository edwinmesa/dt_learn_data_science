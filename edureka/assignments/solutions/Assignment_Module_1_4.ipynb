{
 "cells": [
  {
   "attachments": {},
   "cell_type": "markdown",
   "metadata": {},
   "source": [
    "#### Module 4: Working with Modules and Handling Exceptions\n"
   ]
  },
  {
   "attachments": {},
   "cell_type": "markdown",
   "metadata": {},
   "source": [
    "1. A Robot moves in a Plane starting from the origin point (0,0). The robot can move UP, DOWN, LEFT, and RIGHT. The trace of Robot movement is as given following:\n",
    "   UP 5\n",
    "   DOWN 3\n",
    "   LEFT 3\n",
    "   RIGHT 2\n",
    "   (The numbers after directions are steps)\n",
    "   Write a program to compute the current distance from the origin point after sequencing of movements.\n",
    "   Hint: Use the math module.\n"
   ]
  },
  {
   "cell_type": "code",
   "execution_count": 17,
   "metadata": {},
   "outputs": [
    {
     "name": "stdout",
     "output_type": "stream",
     "text": [
      "The Distance ofter movements is: 41.23105625617661\n"
     ]
    }
   ],
   "source": [
    "import math\n",
    "\n",
    "x, y = 0, 0 # Initial position\n",
    "\n",
    "while True:\n",
    "    step = input(\"Enter the steps: UP/DOWN/LEFT/RIGHT and POINT. Example: UP 12: \")\n",
    "    if step == \"\":\n",
    "        break\n",
    "    else: \n",
    "        step = step.split(\" \")\n",
    "        if step[0] == \"UP\":\n",
    "            y = y + int(step[1])\n",
    "        elif step[0] == \"DOWN\":\n",
    "            y = y - int(step[1])\n",
    "        elif step[0] == \"LEFT\":\n",
    "            x = x - int(step[1])\n",
    "        elif step[0] == \"RIGHT\":\n",
    "            x = x + int(step[1])\n",
    "\n",
    "c = math.sqrt(x**2 + y**2)\n",
    "\n",
    "print(\"The Distance ofter movements is:\", c)    \n",
    "\n",
    "# Example for movements\n",
    "\n",
    "# UP 20\n",
    "# RIGHT 70\n",
    "# UP 20\n",
    "# LEFT 60"
   ]
  },
  {
   "attachments": {},
   "cell_type": "markdown",
   "metadata": {},
   "source": [
    "2. Data of XYZ company is stored in a sorted list. Write a program to search for specific data from that list.\n",
    "Hint: Use if/elif to deal with conditions."
   ]
  },
  {
   "cell_type": "code",
   "execution_count": 18,
   "metadata": {},
   "outputs": [
    {
     "name": "stdout",
     "output_type": "stream",
     "text": [
      "kelly exists in the list.\n"
     ]
    }
   ],
   "source": [
    "inputList = input(\"Please enter a list of numbers separated by a comma: \").split(\",\")\n",
    "findEl    = input(\"What is the element you want to search for? \")\n",
    "\n",
    "lstEl = str(inputList)\n",
    "\n",
    "if not findEl:\n",
    "    print(\"You need to enter data. Please try again.\")\n",
    "elif findEl in lstEl:\n",
    "    print(f\"{findEl} exists in the list.\")\n",
    "else:\n",
    "    print(f\"{findEl} is not in the list\")\n",
    "\n",
    "# data: kelly,matias,richard,jhon\n"
   ]
  },
  {
   "attachments": {},
   "cell_type": "markdown",
   "metadata": {},
   "source": [
    "3. A weather forecasting organization wants to show whether it is day or night. Write a program to find whether is it dark outside or not based on the local system time.\n",
    "Hint: Use the time module."
   ]
  },
  {
   "cell_type": "code",
   "execution_count": 19,
   "metadata": {},
   "outputs": [
    {
     "name": "stdout",
     "output_type": "stream",
     "text": [
      "Great is day!\n"
     ]
    }
   ],
   "source": [
    "import time\n",
    "\n",
    "def getWhether(timeNow):\n",
    "    if timeNow >= \"06\" and timeNow <= \"17\":\n",
    "        print(\"Great is day!\")\n",
    "    else:\n",
    "        print(\"Wonderful is Nigth!\")\n",
    "\n",
    "currentTime = time.strftime(\"%H\")\n",
    "getWhether(currentTime)"
   ]
  },
  {
   "attachments": {},
   "cell_type": "markdown",
   "metadata": {},
   "source": [
    "4. Write a program to find the distance between two locations when their latitude and longitudes are given.\n",
    "Hint: Use the math module."
   ]
  },
  {
   "cell_type": "code",
   "execution_count": 20,
   "metadata": {},
   "outputs": [
    {
     "name": "stdout",
     "output_type": "stream",
     "text": [
      "The distance is 2902.093 km.\n"
     ]
    }
   ],
   "source": [
    "from math import radians, sin, cos, acos\n",
    "\n",
    "radiusEarth = 6378.01\n",
    "\n",
    "lat1  = radians(float(input(\"Enter Latitude  1: \")))\n",
    "long1 = radians(float(input(\"Enter Longitude 1: \")))\n",
    "\n",
    "lat2  = radians(float(input(\"Enter Latitude  2: \")))\n",
    "long2 = radians(float(input(\"Enter Longitude 2: \")))\n",
    "\n",
    "dist = radiusEarth * acos(sin(lat1)*sin(lat2) + cos(lat1)*cos(lat2)*cos(long1-long2))\n",
    "\n",
    "print(\"The distance is %.3f km.\" % dist)\n",
    "\n",
    "# data \n",
    "    # lat1  = 32.3\n",
    "    # long1 = 39.4\n",
    "    # lat2  = 54.6\n",
    "    # long2 = 58.5"
   ]
  },
  {
   "attachments": {},
   "cell_type": "markdown",
   "metadata": {},
   "source": [
    "5. Design a banking system software with options like cash withdrawal, cash\n",
    "credit, and change password. The software must display appropriate results\n",
    "based on user inputs.\n",
    "Hint: Use if else statements and functions."
   ]
  },
  {
   "cell_type": "code",
   "execution_count": 22,
   "metadata": {},
   "outputs": [
    {
     "name": "stdout",
     "output_type": "stream",
     "text": [
      "******************************\n",
      "Select the type of transaction: \n",
      "1. Withdraw Cash\n",
      "2. Cash Credit\n",
      "3. PIN Change\n",
      "4. Exit\n",
      "You lastest balance is: 1000\n",
      "Your new balance is: 400\n",
      "******************************\n",
      "Select the type of transaction: \n",
      "1. Withdraw Cash\n",
      "2. Cash Credit\n",
      "3. PIN Change\n",
      "4. Exit\n",
      "Your new balance is: 6600\n",
      "******************************\n",
      "Select the type of transaction: \n",
      "1. Withdraw Cash\n",
      "2. Cash Credit\n",
      "3. PIN Change\n",
      "4. Exit\n",
      "Thank you for using BANK AKT\n"
     ]
    }
   ],
   "source": [
    "\n",
    "def bankingSystem(DEFAULT_PIN, DEFAULT_CASH, getPin):\n",
    "    \n",
    "    while True:\n",
    "        if getPin != DEFAULT_PIN:\n",
    "            print(\"Invalid PIN. Please try again the PIN.\")     \n",
    "            getPin = input(\"Welcome to BANK AKT. Please Enter PIN: \")\n",
    "            continue\n",
    "        print('*' * 30)\n",
    "        print(\"Select the type of transaction: \")\n",
    "        print(\"1. Withdraw Cash\")\n",
    "        print(\"2. Cash Credit\")\n",
    "        print(\"3. PIN Change\")\n",
    "        print(\"4. Exit\")\n",
    "\n",
    "        getOpt = input(\"Select the option #: \")\n",
    "        \n",
    "        if getOpt == \"1\":\n",
    "            print(f\"You lastest balance is: {DEFAULT_CASH}\")\n",
    "            withDraw = int(input(\"Enter the value to withdraw: \"))\n",
    "\n",
    "            if withDraw > DEFAULT_CASH:\n",
    "                print(\"Insufficient balance. Please try again.\")\n",
    "                continue\n",
    "            else:\n",
    "                DEFAULT_CASH -= withDraw\n",
    "                print(f\"Your new balance is: {DEFAULT_CASH}\")\n",
    "            continue    \n",
    "\n",
    "        if getOpt == \"2\":\n",
    "            cashCredit = int(input(\"Enter the value to Cash Credit: \"))\n",
    "            if cashCredit < 50:\n",
    "                print(\"The value should be superior or equal at 50. Please try again.\")\n",
    "            else:\n",
    "                DEFAULT_CASH += cashCredit\n",
    "                print(f\"Your new balance is: {DEFAULT_CASH}\")\n",
    "            continue    \n",
    "\n",
    "        if getOpt == \"3\":\n",
    "            oldPin   = input(\"Please Enter your Old PIN: \")   \n",
    "            newPin   = input(\"Please Enter your New PIN: \")\n",
    "            reNewPin = input(\"Please Enter your New PIN again: \")\n",
    "\n",
    "            if oldPin == DEFAULT_PIN and newPin == reNewPin:\n",
    "                DEFAULT_PIN = newPin\n",
    "                print(\"Your new PIN was successfully changed. If you want to do another transaction, plase execute the program again.\")\n",
    "\n",
    "                break # when the user change the pin, the program will exit\n",
    "            else:\n",
    "                print(\"Invalid PIN. Please try again.\")\n",
    "            continue             \n",
    "        elif getOpt == \"4\":\n",
    "            print(\"Thank you for using BANK AKT\")\n",
    "            break\n",
    "        else:\n",
    "            print(\"OOpsss! Seems wrong option. Please reselect option or exit by pressing 4\")\n",
    "\n",
    "\n",
    "DEFAULT_PIN  = \"5647\"\n",
    "DEFAULT_CASH = 1000\n",
    "getPin = input(\"Welcome to BANK AKT. Please Enter PIN: \")\n",
    "bankingSystem(DEFAULT_PIN, DEFAULT_CASH, getPin)        \n"
   ]
  },
  {
   "attachments": {},
   "cell_type": "markdown",
   "metadata": {},
   "source": [
    "6. Write a prograthatch will find all numbers which are divisible by 7 but are not a\n",
    "multiple of 5, between 2,000 and 3,200 (both included). The numbers obtained\n",
    "should be printed in a comma-separated sequence on a single line.\n"
   ]
  },
  {
   "cell_type": "code",
   "execution_count": 30,
   "metadata": {},
   "outputs": [
    {
     "name": "stdout",
     "output_type": "stream",
     "text": [
      "2002,2009,2016,2023,2037,2044,2051,2058,2072,2079,2086,2093,2107,2114,2121,2128,2142,2149,2156,2163,2177,2184,2191,2198,2212,2219,2226,2233,2247,2254,2261,2268,2282,2289,2296,2303,2317,2324,2331,2338,2352,2359,2366,2373,2387,2394,2401,2408,2422,2429,2436,2443,2457,2464,2471,2478,2492,2499,2506,2513,2527,2534,2541,2548,2562,2569,2576,2583,2597,2604,2611,2618,2632,2639,2646,2653,2667,2674,2681,2688,2702,2709,2716,2723,2737,2744,2751,2758,2772,2779,2786,2793,2807,2814,2821,2828,2842,2849,2856,2863,2877,2884,2891,2898,2912,2919,2926,2933,2947,2954,2961,2968,2982,2989,2996,3003,3017,3024,3031,3038,3052,3059,3066,3073,3087,3094,3101,3108,3122,3129,3136,3143,3157,3164,3171,3178,3192,3199\n"
     ]
    }
   ],
   "source": [
    "res = [str(i) for i in range(2000,3201) if (not i % 7) and i % 5]\n",
    "print(\",\".join(res))"
   ]
  },
  {
   "attachments": {},
   "cell_type": "markdown",
   "metadata": {},
   "source": [
    "7. Write a prograthatch that can compute the factorial of given numbers. Use\n",
    "recursion to find it. "
   ]
  },
  {
   "cell_type": "code",
   "execution_count": 4,
   "metadata": {},
   "outputs": [
    {
     "name": "stdout",
     "output_type": "stream",
     "text": [
      "The factorial of 5 is: 120\n"
     ]
    }
   ],
   "source": [
    "def recurFact(n):\n",
    "    try:\n",
    "        if (n == 0 or n == 1):\n",
    "            return 1\n",
    "        else:\n",
    "            return (n * recurFact(n - 1))\n",
    "    except ValueError:\n",
    "        pass\n",
    "\n",
    "n = int(input(\"Enter the number to calculate the factorial: \"))\n",
    "\n",
    "print(f\"The factorial of {n} is: {(recurFact(n))}\")        "
   ]
  },
  {
   "attachments": {},
   "cell_type": "markdown",
   "metadata": {},
   "source": [
    "8. Write a program that calculates and prints the value according to the given\n",
    "formula:\n",
    "Q = Square root of [(2 * C * D)/H]"
   ]
  },
  {
   "cell_type": "code",
   "execution_count": 14,
   "metadata": {},
   "outputs": [
    {
     "name": "stdout",
     "output_type": "stream",
     "text": [
      "The Result of 100 is: 18\n",
      "The Result of 150 is: 22\n",
      "The Result of 180 is: 24\n"
     ]
    }
   ],
   "source": [
    "import math\n",
    "\n",
    "def getValue(D):\n",
    "    C = 50\n",
    "    H = 30\n",
    "    return int(math.sqrt(((2*C*D)/H)))\n",
    "\n",
    "list    = input(\"Enter the numbers to calculate by comma-separated: \")\n",
    "listNum = [int(i) for i in list.split(\",\")]\n",
    "\n",
    "for i in listNum:\n",
    "    print(f\"The Result of {i} is: {getValue(i)}\")"
   ]
  },
  {
   "attachments": {},
   "cell_type": "markdown",
   "metadata": {},
   "source": [
    "9. Write a program that takes 2 digits, X, Y as input and generates a 2-dimensional\n",
    "array. The element value in the ith row and jth column of the array should be i*j.\n"
   ]
  },
  {
   "cell_type": "code",
   "execution_count": 18,
   "metadata": {},
   "outputs": [
    {
     "name": "stdout",
     "output_type": "stream",
     "text": [
      "[[0, 0, 0, 0, 0], [0, 1, 2, 3, 4], [0, 2, 4, 6, 8]]\n"
     ]
    }
   ],
   "source": [
    "r        = 3\n",
    "c        = 5\n",
    "array_2d = []\n",
    "\n",
    "for x in range(r):\n",
    "    el = []\n",
    "    for y in range(c):\n",
    "        el.append(x * y)\n",
    "    array_2d.append(el)\n",
    "\n",
    "print(array_2d)    "
   ]
  },
  {
   "attachments": {},
   "cell_type": "markdown",
   "metadata": {},
   "source": [
    "10. Write a program that accepts a comma-separated sequence of words as input\n",
    "and prints the words in a comma-separated sequence after sorting them\n",
    "alphabetically"
   ]
  },
  {
   "cell_type": "code",
   "execution_count": 23,
   "metadata": {},
   "outputs": [
    {
     "name": "stdout",
     "output_type": "stream",
     "text": [
      "kil,lop,were\n"
     ]
    }
   ],
   "source": [
    "words     = input(\"Enter the numbers to calculate by comma-separated: \")\n",
    "listWords = [i for i in words.split(\",\")]\n",
    "sortWords = sorted(listWords, key=lambda x: x, reverse=False)\n",
    "print(\",\".join(sortWords))"
   ]
  },
  {
   "attachments": {},
   "cell_type": "markdown",
   "metadata": {},
   "source": [
    "11. Write a program that accepts a sequence of lines as input and prints the lines\n",
    "after making all characters in the sentence capitalized. "
   ]
  },
  {
   "cell_type": "code",
   "execution_count": 5,
   "metadata": {},
   "outputs": [
    {
     "name": "stdout",
     "output_type": "stream",
     "text": [
      "PYTHON\n",
      "EDUREKA\n",
      "MACHINE LEARNING\n",
      "STOP\n"
     ]
    }
   ],
   "source": [
    "while True:\n",
    "    sentences = input(\"Enter the sentences. If you want cancel please press 1: \")\n",
    "    if sentences == \"1\":\n",
    "        break\n",
    "    print(sentences.upper())\n",
    "    "
   ]
  },
  {
   "attachments": {},
   "cell_type": "markdown",
   "metadata": {},
   "source": [
    "12. Write a program that accepts a sequence of whitespace-separated words as\n",
    "input and prints the words after removing all duplicate words and sorting them\n",
    "alphanumerically"
   ]
  },
  {
   "cell_type": "code",
   "execution_count": 19,
   "metadata": {},
   "outputs": [
    {
     "name": "stdout",
     "output_type": "stream",
     "text": [
      " again and hello makes perfect practice world\n"
     ]
    }
   ],
   "source": [
    "sentence = input(\"Enter the sentence: \")\n",
    "sentence  = sentence.split(\" \")\n",
    "unique_words = list(set(sentence))\n",
    "unique_words.sort()\n",
    "print(\" \".join(unique_words))"
   ]
  },
  {
   "attachments": {},
   "cell_type": "markdown",
   "metadata": {},
   "source": [
    "13. Write a program that accepts a sequence of comma-separated 4-digit binary\n",
    "numbers as its input and then check whether they are divisible by 5 or not. The\n",
    "numbers that are divisible by 5 are to be printed in a comma-separated\n",
    "sequence."
   ]
  },
  {
   "cell_type": "code",
   "execution_count": 31,
   "metadata": {},
   "outputs": [
    {
     "name": "stdout",
     "output_type": "stream",
     "text": [
      "1010\n"
     ]
    }
   ],
   "source": [
    "def checkBinary(b_number):\n",
    "  bin_number    = b_number.split(\",\")\n",
    "  result_binary = [bnumber for bnumber in bin_number if int(bnumber, 2) % 5 ==  0]\n",
    "  print(\" \".join(result_binary))\n",
    "\n",
    "b_number = input(\"Enter the binary numbers sepatared by comma: \")\n",
    "checkBinary(b_number) "
   ]
  },
  {
   "attachments": {},
   "cell_type": "markdown",
   "metadata": {},
   "source": [
    "14. Write a program that accepts a sentence and calculate the number of upper-case\n",
    "letters and lower-case letters."
   ]
  },
  {
   "cell_type": "code",
   "execution_count": 43,
   "metadata": {},
   "outputs": [
    {
     "name": "stdout",
     "output_type": "stream",
     "text": [
      "There are: 1 uppercase letters and 9 lowercase letters.\n"
     ]
    }
   ],
   "source": [
    "sentence = input(\"Enter the sentence: \")\n",
    "\n",
    "def calUpperandLower(sentence):\n",
    "    cUpper = 0\n",
    "    cLower = 0\n",
    "    for i in sentence:\n",
    "        if (i.isupper()):\n",
    "            cUpper += 1\n",
    "        elif (i.islower()):\n",
    "            cLower += 1\n",
    "    print(f\"There are: {cUpper} uppercase letters and {cLower} lowercase letters.\")\n",
    "\n",
    "\n",
    "calUpperandLower(sentence)        "
   ]
  },
  {
   "attachments": {},
   "cell_type": "markdown",
   "metadata": {},
   "source": [
    "15. Give an example of fsum and sum function of math library."
   ]
  },
  {
   "cell_type": "code",
   "execution_count": 46,
   "metadata": {},
   "outputs": [
    {
     "name": "stdout",
     "output_type": "stream",
     "text": [
      "21.0\n",
      "21\n"
     ]
    }
   ],
   "source": [
    "import math\n",
    "\n",
    "list = [1, 2, 3, 4, 5, 6]\n",
    "print(math.fsum(list)) # math.fsum(x) function returns the sum of items in the iterable x.\n",
    "print(sum(list))       # sum"
   ]
  },
  {
   "attachments": {},
   "cell_type": "markdown",
   "metadata": {},
   "source": [
    "##### 16. Case Study: - Domain: Banking Marketing - Focus: Optimization\n"
   ]
  },
  {
   "cell_type": "code",
   "execution_count": 1,
   "metadata": {},
   "outputs": [
    {
     "name": "stdout",
     "output_type": "stream",
     "text": [
      "Unique Jobs: 12\n",
      "**************************************************\n",
      "The profession: professional.course is on the list\n",
      "**************************************************\n",
      "     age loan\n",
      "min   17  yes\n",
      "max   92  yes\n",
      "**************************************************\n"
     ]
    },
    {
     "data": {
      "text/plain": [
       "[{'age': 17, 'loan': 'yes'}, {'age': 92, 'loan': 'yes'}]"
      ]
     },
     "execution_count": 1,
     "metadata": {},
     "output_type": "execute_result"
    }
   ],
   "source": [
    "# Approach to Solve\n",
    "# You must use the fundamentals of Python taught in Module 3.\n",
    "# 1. Read file bank-data.csv\n",
    "# 2. Build a set of unique jobs\n",
    "# 3. Read the input from the command line – profession\n",
    "# 4. Check if the profession is on the list\n",
    "# 5. Print whether the client is eligible\n",
    "\n",
    "import pandas as pd\n",
    "# 1. Read file bank-data.csv\n",
    "df = pd.read_csv(\"bank-data.csv\")\n",
    "# 2. Build a set of unique jobs\n",
    "print(f\"Unique Jobs: {len(set(df['job']))}\")\n",
    "print('*' * 50)\n",
    "# 3. Read the input from the command line – profession\n",
    "input     = input(\"Enter the profession that you are looking for: \")  # professional.course\n",
    "# 4. Check if the profession is on the list\n",
    "df_professions = df.education.unique()\n",
    "if any(element in input for element in df_professions):\n",
    "    print(f\"The profession: {input} is on the list\")\n",
    "else:\n",
    "    print(f\"The profession: {input} is not on the list\")\n",
    "# 5. Print whether the client is eligible        \n",
    "print('*' * 50)  \n",
    "\n",
    "# Enhancements for code\n",
    "# You can try these enhancements in code\n",
    "# 1. Compute max and min age for loan eligibility based on data in csv file.\n",
    "df  = df[[\"age\", \"loan\"]]\n",
    "df  = df[df[\"loan\"] == \"yes\"]\n",
    "df = df[['age','loan']].agg(['min','max'])\n",
    "# df = df[['age','loan']].agg(['min','max']).reset_index(drop=True)\n",
    "print(df)\n",
    "print('*' * 50) \n",
    "# 2. Store max and min age in the dictionary.\n",
    "df = df.reset_index(drop=True)\n",
    "df.to_dict(orient='records')\n",
    "# 3. Make the professional check case insensitive.\n",
    "# Currently program ends after the check. Take the input in the while loop and end only\n",
    "# if the user types \"END\" for profession.\n"
   ]
  },
  {
   "attachments": {},
   "cell_type": "markdown",
   "metadata": {},
   "source": [
    "17. Case Study: - Domain: E-Commerce - Focus: Optimization"
   ]
  },
  {
   "cell_type": "code",
   "execution_count": null,
   "metadata": {},
   "outputs": [],
   "source": [
    "# 1. Read FairDealCustomerData.csv\n",
    "# 2. Name field contains full name – use a regular expression to separate title, first\n",
    "# name, and last name\n",
    "# 3. Store the data in Customer Class\n",
    "# 4. Create Custom Exception – CustomerNotAllowedException\n",
    "# 5. Pass a customer to function \"create order\" and throw\n",
    "# CustomerNotAllowedException in case of blacklisted value is 1\n",
    "\n",
    "\n",
    "df = pd.read_csv('FairDealCustomerData.csv',header=None)\n",
    "df[1] = df[1]+df[0]\n",
    "del df[0]\n",
    "#str.strip() is similar to trim\n",
    "fairCustList = list(df[df[2]==0][1].str.strip())\n",
    "blockcustlist= list(df[df[2]==1][1].str.strip())\n",
    "fairCustList\n",
    "\n",
    "class customer:\n",
    "    customers = []\n",
    "    def __init__(self,custlst):\n",
    "        self.customers = custlst\n",
    "    def __del__(self):\n",
    "        self.customers =[]\n",
    "    def IsFair(self,name):\n",
    "        if name in self.customers:\n",
    "            print('{0} is a fair customer'.format(name))\n",
    "        else:\n",
    "            raise Exception\n",
    "\n",
    "\n",
    "try:\n",
    "    fr = customer(fairCustList)\n",
    "    fr.IsFair(input('Enter Customer Name for an Order:'))\n",
    "#     print(fr.customers)\n",
    "\n",
    "except:\n",
    "    print('Sorry!!Input Customer is a blacklisted.')"
   ]
  }
 ],
 "metadata": {
  "kernelspec": {
   "display_name": "tensf",
   "language": "python",
   "name": "python3"
  },
  "language_info": {
   "codemirror_mode": {
    "name": "ipython",
    "version": 3
   },
   "file_extension": ".py",
   "mimetype": "text/x-python",
   "name": "python",
   "nbconvert_exporter": "python",
   "pygments_lexer": "ipython3",
   "version": "3.10.8"
  },
  "orig_nbformat": 4,
  "vscode": {
   "interpreter": {
    "hash": "3e313d1f24da57a081eee6b594756086e5e54161d7342791616a06970af18016"
   }
  }
 },
 "nbformat": 4,
 "nbformat_minor": 2
}
