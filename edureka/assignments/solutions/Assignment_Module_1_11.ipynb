{
 "cells": [
  {
   "attachments": {},
   "cell_type": "markdown",
   "metadata": {},
   "source": [
    "#### Module 11: Database Integration with Python"
   ]
  },
  {
   "attachments": {},
   "cell_type": "markdown",
   "metadata": {},
   "source": [
    "1. Create a database called retails."
   ]
  },
  {
   "cell_type": "code",
   "execution_count": 43,
   "metadata": {},
   "outputs": [],
   "source": [
    "import mysql.connector\n",
    "from mysql.connector import connect, Error"
   ]
  },
  {
   "cell_type": "code",
   "execution_count": 44,
   "metadata": {},
   "outputs": [
    {
     "name": "stdout",
     "output_type": "stream",
     "text": [
      "Database created\n"
     ]
    }
   ],
   "source": [
    "try:\n",
    "    with connect(host=\"localhost\", user=\"root\", password=\"\") as connector:\n",
    "        with connector.cursor() as cursor:\n",
    "            cursor.execute(\"CREATE DATABASE retails\")\n",
    "            print(\"Database created\")\n",
    "\n",
    "except Error as e:\n",
    "    print(e)            "
   ]
  },
  {
   "attachments": {},
   "cell_type": "markdown",
   "metadata": {},
   "source": [
    "2. Connect to the newly created database and create tables called customer and\n",
    "orders."
   ]
  },
  {
   "cell_type": "code",
   "execution_count": 45,
   "metadata": {},
   "outputs": [
    {
     "name": "stdout",
     "output_type": "stream",
     "text": [
      "Customers table created\n",
      "Orders table created\n"
     ]
    }
   ],
   "source": [
    "tableCustomers = \"\"\"\n",
    "CREATE TABLE IF NOT EXISTS customers(\n",
    "    id INTEGER PRIMARY KEY,\n",
    "    age INTEGER NOT NULL,\n",
    "    city VARCHAR(50) NOT NULL,\n",
    "    gender VARCHAR(5) NOT NULL\n",
    ")\n",
    "\"\"\"\n",
    "\n",
    "tableOrders = \"\"\"\n",
    "CREATE TABLE IF NOT EXISTS orders(\n",
    "    id INTEGER AUTO_INCREMENT PRIMARY KEY,\n",
    "    Date VARCHAR(50) NOT NULL,\n",
    "    price DECIMAL(10,2) NOT NULL,\n",
    "    quantity INTEGER NOT NULL\n",
    ")\n",
    "\"\"\"\n",
    "dbConnection = mysql.connector.connect(host=\"localhost\", user=\"root\", password=\"\", database=\"retails\")\n",
    "cursor = dbConnection.cursor()\n",
    "\n",
    "try:\n",
    "    cursor.execute(tableCustomers)\n",
    "    print(\"Customers table created\")\n",
    "except Error as e:\n",
    "    print(e)  \n",
    "\n",
    "try:\n",
    "    cursor.execute(tableOrders)\n",
    "    print(\"Orders table created\")\n",
    "except Error as e:\n",
    "    print(e)    "
   ]
  },
  {
   "attachments": {},
   "cell_type": "markdown",
   "metadata": {},
   "source": [
    "3. Add a new ‘is_sale’ column in ‘orders’ table."
   ]
  },
  {
   "cell_type": "code",
   "execution_count": 46,
   "metadata": {},
   "outputs": [
    {
     "name": "stdout",
     "output_type": "stream",
     "text": [
      "Column created\n"
     ]
    }
   ],
   "source": [
    "alterTableOrders = \"\"\" ALTER TABLE orders ADD COLUMN is_sale INT\"\"\"\n",
    "try:\n",
    "    cursor.execute(alterTableOrders)\n",
    "    print(\"Column created\")\n",
    "except Error as e:\n",
    "    print(e)    "
   ]
  },
  {
   "attachments": {},
   "cell_type": "markdown",
   "metadata": {},
   "source": [
    "4. Insert values into the customer table and display the contents."
   ]
  },
  {
   "cell_type": "code",
   "execution_count": 47,
   "metadata": {},
   "outputs": [
    {
     "name": "stdout",
     "output_type": "stream",
     "text": [
      "Data inserted successfully\n",
      "(1001, 34, 'Austin', 'male')\n",
      "(1002, 37, 'Houston', 'male')\n",
      "(1003, 25, 'Austin', 'femal')\n",
      "(1004, 28, 'Houston', 'femal')\n",
      "(1005, 22, 'Dallas', 'male')\n"
     ]
    }
   ],
   "source": [
    "insertCustomers = \"\"\" \n",
    "INSERT INTO customers (id, age, city, gender)\n",
    "VALUES (1001, 34, 'Austin', 'male'),\n",
    "       (1002, 37, 'Houston', 'male'),\n",
    "       (1003, 25, 'Austin','female'),\n",
    "       (1004, 28, 'Houston', 'female'),\n",
    "       (1005, 22, 'Dallas', 'male')\n",
    "\"\"\"\n",
    "\n",
    "try:\n",
    "    cursor.execute(insertCustomers)\n",
    "    print(\"Data inserted successfully\")\n",
    "except Error as e:\n",
    "    print(e)  \n",
    "\n",
    "cursor.execute(\"SELECT * FROM customers\")\n",
    "records = cursor.fetchall()\n",
    "for record in records:\n",
    "    print(record)\n"
   ]
  },
  {
   "attachments": {},
   "cell_type": "markdown",
   "metadata": {},
   "source": [
    "5. Show the details of customers who are located in Austin City."
   ]
  },
  {
   "cell_type": "code",
   "execution_count": 48,
   "metadata": {},
   "outputs": [
    {
     "name": "stdout",
     "output_type": "stream",
     "text": [
      "(1001, 34, 'Austin', 'male')\n",
      "(1003, 25, 'Austin', 'femal')\n"
     ]
    }
   ],
   "source": [
    "selectCustomersAustin = \"\"\"\n",
    "SELECT * FROM customers where city = 'Austin'\n",
    "\"\"\"\n",
    "try:\n",
    "    cursor.execute(selectCustomersAustin)\n",
    "    for row in cursor.fetchall():\n",
    "        print(row)\n",
    "except Error as e:\n",
    "    print(e)\n",
    "        "
   ]
  },
  {
   "attachments": {},
   "cell_type": "markdown",
   "metadata": {},
   "source": [
    "6. Group customers based on location and display the information."
   ]
  },
  {
   "cell_type": "code",
   "execution_count": 49,
   "metadata": {},
   "outputs": [
    {
     "name": "stdout",
     "output_type": "stream",
     "text": [
      "(2, 'Austin')\n",
      "(1, 'Dallas')\n",
      "(2, 'Houston')\n"
     ]
    }
   ],
   "source": [
    "selectandGroupByLocCustomers = \"\"\"\n",
    "SELECT count(id), city FROM customers group by city\n",
    "\"\"\"\n",
    "try:\n",
    "    cursor.execute(selectandGroupByLocCustomers)\n",
    "    for row in cursor.fetchall():\n",
    "        print(row)\n",
    "except Error as e:\n",
    "    print(e)"
   ]
  },
  {
   "attachments": {},
   "cell_type": "markdown",
   "metadata": {},
   "source": [
    "7. Group customers based on their gender and display the information.\n"
   ]
  },
  {
   "cell_type": "code",
   "execution_count": 50,
   "metadata": {},
   "outputs": [
    {
     "name": "stdout",
     "output_type": "stream",
     "text": [
      "(2, 'femal')\n",
      "(3, 'male')\n"
     ]
    }
   ],
   "source": [
    "selectandGroupByGenderCustomers = \"\"\"\n",
    "SELECT count(id), gender FROM customers group by gender\n",
    "\"\"\"\n",
    "try:\n",
    "    cursor.execute(selectandGroupByGenderCustomers)\n",
    "    for row in cursor.fetchall():\n",
    "        print(row)\n",
    "except Error as e:\n",
    "    print(e)"
   ]
  },
  {
   "attachments": {},
   "cell_type": "markdown",
   "metadata": {},
   "source": [
    "8. Insert values into the orders table and display the contents."
   ]
  },
  {
   "cell_type": "code",
   "execution_count": 51,
   "metadata": {},
   "outputs": [
    {
     "name": "stdout",
     "output_type": "stream",
     "text": [
      "Data inserted successfully\n",
      "(1, '2022-10-1', Decimal('100.25'), 1, None)\n",
      "(2, '2022-10-2', Decimal('200.75'), 2, None)\n",
      "(3, '2022-10-3', Decimal('500.00'), 3, None)\n",
      "(4, '2022-10-3', Decimal('600.00'), 4, None)\n",
      "(5, '2022-10-4', Decimal('600.00'), 5, None)\n"
     ]
    }
   ],
   "source": [
    "insertOrders = \"\"\" \n",
    "INSERT INTO orders (Date, price, quantity)\n",
    "VALUES ('2022-10-1', 100.25, 1),\n",
    "       ('2022-10-2',200.75, 2),\n",
    "       ('2022-10-3',500.00,3),\n",
    "       ('2022-10-3', 600.00,4),\n",
    "       ('2022-10-4', 600.00,5)\n",
    "\"\"\"\n",
    "\n",
    "try:\n",
    "    cursor.execute(insertOrders)\n",
    "    print(\"Data inserted successfully\")\n",
    "except Error as e:\n",
    "    print(e)  \n",
    "\n",
    "cursor.execute(\"SELECT * FROM orders\")\n",
    "records = cursor.fetchall()\n",
    "for record in records:\n",
    "    print(record)"
   ]
  },
  {
   "attachments": {},
   "cell_type": "markdown",
   "metadata": {},
   "source": [
    "9. Show order details that were purchased on 2022-10-03."
   ]
  },
  {
   "cell_type": "code",
   "execution_count": 55,
   "metadata": {},
   "outputs": [
    {
     "name": "stdout",
     "output_type": "stream",
     "text": [
      "(3, '2022-10-3', Decimal('500.00'), 3, None)\n",
      "(4, '2022-10-3', Decimal('600.00'), 4, None)\n"
     ]
    }
   ],
   "source": [
    "selectOrdersPurchase_2022_10_03 = \"\"\"\n",
    "SELECT * FROM orders WHERE Date = '2022-10-3'\n",
    "\"\"\"\n",
    "try:\n",
    "    cursor.execute(selectOrdersPurchase_2022_10_03)\n",
    "    for row in cursor.fetchall():\n",
    "        print(row)\n",
    "except Error as e:\n",
    "    print(e)"
   ]
  },
  {
   "attachments": {},
   "cell_type": "markdown",
   "metadata": {},
   "source": [
    "10.Show orders that have an order amount of more than 300."
   ]
  },
  {
   "cell_type": "code",
   "execution_count": 56,
   "metadata": {},
   "outputs": [
    {
     "name": "stdout",
     "output_type": "stream",
     "text": [
      "(3, '2022-10-3', Decimal('500.00'), 3, None)\n",
      "(4, '2022-10-3', Decimal('600.00'), 4, None)\n",
      "(5, '2022-10-4', Decimal('600.00'), 5, None)\n"
     ]
    }
   ],
   "source": [
    "selectOrdersAmount_300 = \"\"\"\n",
    "SELECT * FROM orders WHERE price > 300\n",
    "\"\"\"\n",
    "try:\n",
    "    cursor.execute(selectOrdersAmount_300)\n",
    "    for row in cursor.fetchall():\n",
    "        print(row)\n",
    "except Error as e:\n",
    "    print(e)"
   ]
  },
  {
   "attachments": {},
   "cell_type": "markdown",
   "metadata": {},
   "source": [
    "11.Show all orders placed on 2022-10-03 and represent it in sorted form with\n",
    "respect to the amount spent.\n"
   ]
  },
  {
   "cell_type": "code",
   "execution_count": 64,
   "metadata": {},
   "outputs": [
    {
     "name": "stdout",
     "output_type": "stream",
     "text": [
      "(3, '2022-10-3', Decimal('500.00'), 3, None)\n",
      "(4, '2022-10-3', Decimal('600.00'), 4, None)\n"
     ]
    }
   ],
   "source": [
    "selectOrdersPurchaseSorted_2022_10_03 = \"\"\"\n",
    "SELECT * FROM orders WHERE Date = '2022-10-3' order by price asc;\n",
    "\"\"\"\n",
    "try:\n",
    "    cursor.execute(selectOrdersPurchase_2022_10_03)\n",
    "    for row in cursor.fetchall():\n",
    "        print(row)\n",
    "except Error as e:\n",
    "    print(e)"
   ]
  },
  {
   "attachments": {},
   "cell_type": "markdown",
   "metadata": {},
   "source": [
    "12.Count the number of distinct days in the data."
   ]
  },
  {
   "cell_type": "code",
   "execution_count": 70,
   "metadata": {},
   "outputs": [
    {
     "name": "stdout",
     "output_type": "stream",
     "text": [
      "(4,)\n"
     ]
    }
   ],
   "source": [
    "selectOrderDistinctDays = \"\"\"\n",
    "SELECT count(distinct date) FROM orders;\n",
    "\"\"\"\n",
    "try:\n",
    "    cursor.execute(selectOrderDistinctDays)\n",
    "    for row in cursor.fetchall():\n",
    "        print(row)\n",
    "except Error as e:\n",
    "    print(e)"
   ]
  },
  {
   "attachments": {},
   "cell_type": "markdown",
   "metadata": {},
   "source": [
    "13.Count the orders grouped by date.\n"
   ]
  },
  {
   "cell_type": "code",
   "execution_count": 73,
   "metadata": {},
   "outputs": [
    {
     "name": "stdout",
     "output_type": "stream",
     "text": [
      "(1, '2022-10-1')\n",
      "(1, '2022-10-2')\n",
      "(2, '2022-10-3')\n",
      "(1, '2022-10-4')\n"
     ]
    }
   ],
   "source": [
    "selectOrderByDate = \"\"\"\n",
    "SELECT count(id), Date FROM orders group by Date\n",
    "\"\"\"\n",
    "try:\n",
    "    cursor.execute(selectOrderByDate)\n",
    "    for row in cursor.fetchall():\n",
    "        print(row)\n",
    "except Error as e:\n",
    "    print(e)"
   ]
  },
  {
   "attachments": {},
   "cell_type": "markdown",
   "metadata": {},
   "source": [
    "14.Calculate the average order amount for all days."
   ]
  },
  {
   "cell_type": "code",
   "execution_count": 76,
   "metadata": {},
   "outputs": [
    {
     "name": "stdout",
     "output_type": "stream",
     "text": [
      "(Decimal('100.250000'), '2022-10-1')\n",
      "(Decimal('200.750000'), '2022-10-2')\n",
      "(Decimal('550.000000'), '2022-10-3')\n",
      "(Decimal('600.000000'), '2022-10-4')\n"
     ]
    }
   ],
   "source": [
    "selectOrdersAverageByDay = \"\"\"\n",
    "SELECT avg(price), Date FROM orders group by Date\n",
    "\"\"\"\n",
    "try:\n",
    "    cursor.execute(selectOrdersAverageByDay)\n",
    "    for row in cursor.fetchall():\n",
    "        print(row)\n",
    "except Error as e:\n",
    "    print(e)"
   ]
  }
 ],
 "metadata": {
  "kernelspec": {
   "display_name": "tensf",
   "language": "python",
   "name": "python3"
  },
  "language_info": {
   "codemirror_mode": {
    "name": "ipython",
    "version": 3
   },
   "file_extension": ".py",
   "mimetype": "text/x-python",
   "name": "python",
   "nbconvert_exporter": "python",
   "pygments_lexer": "ipython3",
   "version": "3.10.8"
  },
  "orig_nbformat": 4,
  "vscode": {
   "interpreter": {
    "hash": "3e313d1f24da57a081eee6b594756086e5e54161d7342791616a06970af18016"
   }
  }
 },
 "nbformat": 4,
 "nbformat_minor": 2
}
