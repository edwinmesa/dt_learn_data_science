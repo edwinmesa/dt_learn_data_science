{
 "cells": [
  {
   "attachments": {},
   "cell_type": "markdown",
   "metadata": {},
   "source": [
    "#### Assignment\n"
   ]
  },
  {
   "attachments": {},
   "cell_type": "markdown",
   "metadata": {},
   "source": [
    "1. Create a dog object that will inherit all the variables and methods of the parent class Animal and display it.\n"
   ]
  },
  {
   "cell_type": "code",
   "execution_count": 17,
   "metadata": {},
   "outputs": [
    {
     "name": "stdout",
     "output_type": "stream",
     "text": [
      "The pet name is: Gosho and have : 2 years and his raze is: Hachiko\n"
     ]
    }
   ],
   "source": [
    "class Animal:\n",
    "    def __init__(self, name, age):\n",
    "        self.name = name\n",
    "        self.age = age\n",
    "\n",
    "    def getDescriptionAnimal(self):\n",
    "        pass\n",
    "\n",
    "\n",
    "class Dog(Animal):\n",
    "    def __init__(self, name, age, raze):\n",
    "        self.name = name\n",
    "        self.age = age\n",
    "        self.raze = raze\n",
    "\n",
    "    def getDescriptionAnimal(self):\n",
    "        print(\"The pet name is:\", self.name, \"and have :\",\n",
    "              self.age, \"years and his raze is:\", self.raze)\n",
    "\n",
    "\n",
    "dog = Dog(\"Gosho\", 2, \"Hachiko\")\n",
    "dog.getDescriptionAnimal()\n"
   ]
  },
  {
   "attachments": {},
   "cell_type": "markdown",
   "metadata": {},
   "source": [
    "2. Demonstrate the working of Polymorphism by creating two classes - Car and\n",
    "   Bike. Display the information like name, color, and number of wheels.\n"
   ]
  },
  {
   "cell_type": "code",
   "execution_count": 22,
   "metadata": {},
   "outputs": [
    {
     "name": "stdout",
     "output_type": "stream",
     "text": [
      "The Car BMW is Blue with 4 wheels.\n",
      "The Bike Bike GW is Red with 12 wheels.\n"
     ]
    }
   ],
   "source": [
    "class Car():\n",
    "    def __init__(self, name, color, wheels):\n",
    "        self.name = name\n",
    "        self.color = color\n",
    "        self.wheels = wheels\n",
    "\n",
    "    def getInformation(self):\n",
    "        print(\n",
    "            f\"The Car {self.name} is {self.color} with {self.wheels} wheels.\")\n",
    "\n",
    "\n",
    "class Bike(Car):\n",
    "    def __init__(self, name, color, wheels):\n",
    "        self.name = name\n",
    "        self.color = color\n",
    "        self.wheels = wheels\n",
    "        Car.__init__(self, name, color, wheels)\n",
    "        \n",
    "    def getInformation(self):\n",
    "        print(f\"The Bike {self.name} is {self.color} with {self.wheels} wheels.\")\n",
    "\n",
    "\n",
    "objCar = Car(\"BMW\", \"Blue\", 4)\n",
    "objectBike = Bike(\"Bike GW\", \"Red\", 12)\n",
    "\n",
    "for obj in (objCar, objectBike):\n",
    "    obj.getInformation()\n"
   ]
  },
  {
   "attachments": {},
   "cell_type": "markdown",
   "metadata": {},
   "source": [
    "3. Create a list of tuples containing the 5 planets of our solar system along with\n",
    "their moons as- earth having 1 moon, Jupiter having 79 moons, Saturn having\n",
    "82 moons, Uranus having 27 moons and Neptune having 14 moons. Sort the\n",
    "list according to the ascending number of moons along with the names of\n",
    "planet using Lambda function. Display both original and sorted list."
   ]
  },
  {
   "cell_type": "code",
   "execution_count": 42,
   "metadata": {},
   "outputs": [
    {
     "name": "stdout",
     "output_type": "stream",
     "text": [
      "<class 'tuple'>\n",
      "Sorted List:  [('Earth', 1), ('Neptune', 14), ('Uranus', 27), ('Jupyter', 79), ('Saturn', 82)]\n",
      "Original List:  (('Earth', 1), ('Jupyter', 79), ('Saturn', 82), ('Uranus', 27), ('Neptune', 14))\n"
     ]
    }
   ],
   "source": [
    "planets = ((\"Earth\", 1), (\"Jupyter\", 79), (\"Saturn\", 82), (\"Uranus\", 27), (\"Neptune\", 14))\n",
    "print(type(planets))\n",
    "sortAscendingPlanets = sorted(planets, key=lambda x: x[1], reverse=False)\n",
    "print(\"Sorted List: \",sortAscendingPlanets)\n",
    "print(\"Original List: \",planets)\n"
   ]
  },
  {
   "attachments": {},
   "cell_type": "markdown",
   "metadata": {},
   "source": [
    "4. Create two functions - fillup and use, which uses a global variable as tank. Use\n",
    "the global variable in both the functions to return the quantity of fuel present\n",
    "in the tank after filling up the tank and after using the fuel of the tank. Show\n",
    "the working of two functions only. It is not necessary to display the outputs."
   ]
  },
  {
   "cell_type": "code",
   "execution_count": 64,
   "metadata": {},
   "outputs": [
    {
     "name": "stdout",
     "output_type": "stream",
     "text": [
      "Liters of tank: 60 before filling it.\n",
      "The tank was filled with 95 liters.\n",
      "Liters of tank:  51 after used.\n"
     ]
    }
   ],
   "source": [
    "tank = 60 # liters of tank\n",
    "\n",
    "def fillingTank():\n",
    "    global tank\n",
    "    tank =  tank + 35 # fill tank by 35 liters\n",
    "    return tank\n",
    "\n",
    "def useTank():\n",
    "    return tank - 44 # 44 litters were used\n",
    "\n",
    "print(f\"Liters of tank: {tank} before filling it.\")\n",
    "print(f\"The tank was filled with {fillingTank()} liters.\")\n",
    "print(f\"Liters of tank:  {useTank()} after used.\")\n",
    "\n"
   ]
  },
  {
   "attachments": {},
   "cell_type": "markdown",
   "metadata": {},
   "source": [
    "5. Write a program to depict the use of multiple inheritance. The program should\n",
    "contain 4 classes - class 4 should inherit from class 2 and class 3. Similarly, class\n",
    "2 should inherit from class 1. Class 3 should inherit from class 1. Each class\n",
    "should have its own print statement."
   ]
  },
  {
   "cell_type": "code",
   "execution_count": 1,
   "metadata": {},
   "outputs": [
    {
     "name": "stdout",
     "output_type": "stream",
     "text": [
      "The sum of the elements 4 and 2 is: 6\n",
      "**************************************************\n",
      "The subtraction of the  elements 5 and 2 is: 3\n",
      "**************************************************\n",
      "The multiplication of the  elements 9 and 2 is: 18\n",
      "**************************************************\n",
      "The division of the  elements 9 and 2 is: 4.5\n"
     ]
    }
   ],
   "source": [
    "class Calculation1:\n",
    "    def __init__(self, a, b):\n",
    "        self.a = a\n",
    "        self.b = b\n",
    "    def Sum(self):\n",
    "        print(f\"The sum of the elements {self.a} and {self.b} is: {self.a+self.b}\")\n",
    "\n",
    "class Calculation2(Calculation1):\n",
    "    def __init__(self, a, b):\n",
    "        self.a = a\n",
    "        self.b = b\n",
    "    def Subtraction(self):\n",
    "        print(f\"The subtraction of the  elements {self.a} and {self.b} is: {self.a - self.b}\")\n",
    "\n",
    "class Calculation3(Calculation1):\n",
    "    def __init__(self, a, b):\n",
    "        self.a = a\n",
    "        self.b = b\n",
    "\n",
    "    def Multiplication(self):\n",
    "        print(f\"The multiplication of the  elements {self.a} and {self.b} is: {self.a * self.b}\")\n",
    "\n",
    "class Calculation4(Calculation2, Calculation3):\n",
    "    def __init__(self, a, b):\n",
    "        self.a = a\n",
    "        self.b = b\n",
    "    def Division(self):\n",
    "            print(f\"The division of the  elements {self.a} and {self.b} is: {self.a / self.b}\")\n",
    "\n",
    "# I used the class ObjCal and call the another class\n",
    "# With this implementation i used the multiple inheritance\n",
    "\n",
    "objCalc1 = Calculation1(4,2)\n",
    "objCalc1.Sum()\n",
    "print('*' * 50)\n",
    "objCalc2 = Calculation2(5,2)\n",
    "objCalc2.Subtraction()    \n",
    "print('*' * 50)\n",
    "objCalc3 = Calculation3(9,2)\n",
    "objCalc3.Multiplication()\n",
    "print('*' * 50)\n",
    "objCalc4 = Calculation4(9,2)\n",
    "objCalc4.Division()   "
   ]
  },
  {
   "attachments": {},
   "cell_type": "markdown",
   "metadata": {},
   "source": [
    "6. Use Getter and Setter method to set the name and age of a person. Moreover,\n",
    "get the name and age of the same person."
   ]
  },
  {
   "cell_type": "code",
   "execution_count": 3,
   "metadata": {},
   "outputs": [
    {
     "data": {
      "text/plain": [
       "('Elon', 30)"
      ]
     },
     "execution_count": 3,
     "metadata": {},
     "output_type": "execute_result"
    }
   ],
   "source": [
    "class Person:\n",
    "    def __init__(self, name, age):\n",
    "        self.name = name\n",
    "        self.age = age\n",
    "    def setDescription(self, name, age):\n",
    "        self.name = name\n",
    "        self.age = age\n",
    "    def getDescription(self):\n",
    "        return self.name, self.age\n",
    "\n",
    "p1 = Person(\"John\", 20)\n",
    "p1.getDescription()\n",
    "p1.setDescription(\"Elon\", 30)\n",
    "p1.getDescription()        "
   ]
  }
 ],
 "metadata": {
  "kernelspec": {
   "display_name": "tensf",
   "language": "python",
   "name": "python3"
  },
  "language_info": {
   "codemirror_mode": {
    "name": "ipython",
    "version": 3
   },
   "file_extension": ".py",
   "mimetype": "text/x-python",
   "name": "python",
   "nbconvert_exporter": "python",
   "pygments_lexer": "ipython3",
   "version": "3.10.8"
  },
  "orig_nbformat": 4,
  "vscode": {
   "interpreter": {
    "hash": "3e313d1f24da57a081eee6b594756086e5e54161d7342791616a06970af18016"
   }
  }
 },
 "nbformat": 4,
 "nbformat_minor": 2
}
