{
 "cells": [
  {
   "attachments": {},
   "cell_type": "markdown",
   "metadata": {},
   "source": [
    "#### Assignment "
   ]
  },
  {
   "attachments": {},
   "cell_type": "markdown",
   "metadata": {},
   "source": [
    "1. Create a dog object that will inherit all the variables and methods of the parent class Animal and display it."
   ]
  },
  {
   "cell_type": "code",
   "execution_count": 3,
   "metadata": {},
   "outputs": [
    {
     "name": "stdout",
     "output_type": "stream",
     "text": [
      "The pet name is: Gosho and have : 2 years and his raze is: Hachiko\n",
      "The pet name is:  Gosho\n",
      "The pet age is:   2\n"
     ]
    }
   ],
   "source": [
    "class Animal:\n",
    "    def __init__(self, name, age):\n",
    "        self.name = name\n",
    "        self.age = age\n",
    "    def getDescriptionAnimal(self):\n",
    "        print(\"The pet name is:  \" + self.name)\n",
    "        print(\"The pet age is:   \"  + str(self.age))\n",
    "\n",
    "\n",
    "class Dog(Animal):\n",
    "    def __init__(self, name, age, raze):\n",
    "        self.name = name\n",
    "        self.age = age\n",
    "        self.raze = raze   \n",
    "    def getDescriptionDog(self):\n",
    "        print(\"The pet name is:\", self.name, \"and have :\", self.age, \"years and his raze is:\", self.raze)\n",
    "\n",
    "dog = Dog(\"Gosho\", 2, \"Hachiko\")\n",
    "# dog.getDescriptionAnimal()\n",
    "dog.getDescriptionDog()\n",
    "\n",
    "\n",
    "\n",
    "         "
   ]
  }
 ],
 "metadata": {
  "kernelspec": {
   "display_name": "tensf",
   "language": "python",
   "name": "python3"
  },
  "language_info": {
   "codemirror_mode": {
    "name": "ipython",
    "version": 3
   },
   "file_extension": ".py",
   "mimetype": "text/x-python",
   "name": "python",
   "nbconvert_exporter": "python",
   "pygments_lexer": "ipython3",
   "version": "3.10.8"
  },
  "orig_nbformat": 4,
  "vscode": {
   "interpreter": {
    "hash": "3e313d1f24da57a081eee6b594756086e5e54161d7342791616a06970af18016"
   }
  }
 },
 "nbformat": 4,
 "nbformat_minor": 2
}
