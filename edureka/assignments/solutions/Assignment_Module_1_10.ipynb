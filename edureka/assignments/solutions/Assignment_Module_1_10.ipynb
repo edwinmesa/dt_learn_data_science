{
 "cells": [
  {
   "attachments": {},
   "cell_type": "markdown",
   "metadata": {},
   "source": [
    "#### Module 10: Computer Vision OpenCV and Visualization Using Bokeh\n"
   ]
  },
  {
   "attachments": {},
   "cell_type": "markdown",
   "metadata": {},
   "source": [
    "1. Write a program to fetch hyperlinks from any website entered by the user\n"
   ]
  },
  {
   "cell_type": "code",
   "execution_count": 19,
   "metadata": {},
   "outputs": [
    {
     "name": "stdout",
     "output_type": "stream",
     "text": [
      "https://www.iana.org/domains/example\n"
     ]
    }
   ],
   "source": [
    "import requests\n",
    "from bs4 import BeautifulSoup\n",
    "\n",
    "# urls = 'https://example.com/'\n",
    "\n",
    "\n",
    "def getHyperlinks(urls):\n",
    "    grab = requests.get(urls)\n",
    "    soup = BeautifulSoup(grab.text, 'html.parser')\n",
    "    for link in soup.find_all(\"a\"):\n",
    "        data = link.get('href')\n",
    "        print(data)\n",
    "\n",
    "\n",
    "urls = input('Please enter a URL to fecth the URL')\n",
    "getHyperlinks(urls)\n"
   ]
  },
  {
   "attachments": {},
   "cell_type": "markdown",
   "metadata": {},
   "source": [
    "2. Write a program to download all the videos from youtube.com for Django from the\n",
    "   hyperlink given below.\n"
   ]
  },
  {
   "cell_type": "code",
   "execution_count": null,
   "metadata": {},
   "outputs": [],
   "source": [
    "import pytube\n",
    "from pytube import YouTube\n",
    "\n",
    "\n",
    "def getVideosFromYouTube(link):\n",
    "\n",
    "    youtubeVideo = YouTube(link.strip())\n",
    "    youtubeVideo = youtubeVideo.streams.get_highest_resolution()\n",
    "    try:\n",
    "        youtubeVideo.download()\n",
    "    except:\n",
    "        print(\" An error occurred while downloading\")\n",
    "\n",
    "    print(\"Download is completed successfully\")\n",
    "\n",
    "\n",
    "link = 'https://www.youtube.com/playlist?list=PLxxA5z-8B2xk4szCgFmgonNcCboyNneMD'\n",
    "\n",
    "getVideosFromYouTube(link)\n"
   ]
  },
  {
   "attachments": {},
   "cell_type": "markdown",
   "metadata": {},
   "source": [
    "3. Perform Web Scrapping on the following page:\n"
   ]
  },
  {
   "cell_type": "code",
   "execution_count": 47,
   "metadata": {},
   "outputs": [
    {
     "name": "stdout",
     "output_type": "stream",
     "text": [
      "<html>\n",
      " <head>\n",
      "  <title>\n",
      "   Page title\n",
      "  </title>\n",
      " </head>\n",
      " <body>\n",
      "  <p align=\"center\" id=\"firstpara\">\n",
      "   This is paragraph\n",
      "   <b>\n",
      "    one\n",
      "   </b>\n",
      "  </p>\n",
      "  <p align=\"blah\" id=\"secondpara\">\n",
      "   This is paragraph\n",
      "   <b>\n",
      "    two\n",
      "   </b>\n",
      "  </p>\n",
      " </body>\n",
      "</html>\n",
      "\n",
      "**************************************************\n",
      "b\n",
      "**************************************************\n",
      "b\n",
      "b\n",
      "**************************************************\n",
      "['This is paragraph                                one', 'This is paragraph                                one', 'This is paragraph                                two']\n"
     ]
    }
   ],
   "source": [
    "html_doc = \"\"\"\n",
    "    <html>\n",
    "        <head>\n",
    "        <title>Page title</title>\n",
    "        </head>\n",
    "            <body>\n",
    "                <p id=\"firstpara\" align=\"center\">\n",
    "                This is paragraph\n",
    "                <b>\n",
    "                one\n",
    "                </b>\n",
    "                </p>\n",
    "                <p id=\"secondpara\" align=\"blah\">\n",
    "                This is paragraph\n",
    "                <b>\n",
    "                two\n",
    "                </b>\n",
    "                </p>\n",
    "            </body>\n",
    "    </html>\n",
    "\"\"\"\n",
    "from bs4 import BeautifulSoup\n",
    "soup = BeautifulSoup(html_doc, 'html.parser')\n",
    "import re\n",
    "# i)    Read the page using Beautiful Soup and show it in a well-formatted, indented manner\n",
    "print(soup.prettify())\n",
    "# ii)   Print the b tag from the page\n",
    "print('*' * 50)\n",
    "print(soup.b.name)\n",
    "# iii)  Print all the tags that start from b\n",
    "print('*' * 50)\n",
    "for b in soup.find_all('b'):\n",
    "    print(b.name)\n",
    "# iv)   Print text from the tags having title and p by using lists\n",
    "print('*' * 50)\n",
    "lists = []\n",
    "res = []\n",
    "for p in soup.find_all('p'):\n",
    "    lists.append(p.get_text().strip())\n",
    "    for sub in lists:\n",
    "        res.append(re.sub('\\n', '', sub))\n",
    "print(res)    \n",
    "   \n",
    "# v)    Print text from the tags having title and p by using dictionaries\n",
    "\n",
    "# vi)   Print all the tag names present in the page\n",
    "\n",
    "# vii)  Print the complete tag that has two, and only two, attributes\n",
    "\n",
    "# viii) Print the tags that have one-character names and no attributes\n",
    "\n",
    "# ix)   Print all the tags which have a value of center for align attribute\n",
    "\n",
    "# x)    From the XML content '<person name=\"Bob\"><parent rel=\"mother\" name=\"Alice\">' print the attributes having the name as Alice\n",
    "\n",
    "\n"
   ]
  }
 ],
 "metadata": {
  "kernelspec": {
   "display_name": "venvimg",
   "language": "python",
   "name": "python3"
  },
  "language_info": {
   "codemirror_mode": {
    "name": "ipython",
    "version": 3
   },
   "file_extension": ".py",
   "mimetype": "text/x-python",
   "name": "python",
   "nbconvert_exporter": "python",
   "pygments_lexer": "ipython3",
   "version": "3.10.8"
  },
  "orig_nbformat": 4,
  "vscode": {
   "interpreter": {
    "hash": "9af664887e86d7f0d817e36ed0f8bd177f6d406f89cac0874c283298ac904e95"
   }
  }
 },
 "nbformat": 4,
 "nbformat_minor": 2
}
