{
 "cells": [
  {
   "attachments": {},
   "cell_type": "markdown",
   "metadata": {},
   "source": [
    "#### Module 8: GUI Programming"
   ]
  },
  {
   "attachments": {},
   "cell_type": "markdown",
   "metadata": {},
   "source": [
    "1. Write a Python GUI program to add a button in your application using the\n",
    "Tkinter module.\n"
   ]
  },
  {
   "cell_type": "code",
   "execution_count": 21,
   "metadata": {},
   "outputs": [],
   "source": [
    "import tkinter as tk \n",
    "parent = tk.Tk() \n",
    "parent.title('Title - button') \n",
    "my_button = tk.Button(parent, text='Quit', height=1, width=35, command=parent.destroy) \n",
    "my_button.pack() \n",
    "parent.mainloop()\n"
   ]
  },
  {
   "attachments": {},
   "cell_type": "markdown",
   "metadata": {},
   "source": [
    "2. Write a Python GUI program to create a Spinbox widget using the\n",
    "Tkinter module."
   ]
  },
  {
   "cell_type": "code",
   "execution_count": 22,
   "metadata": {},
   "outputs": [],
   "source": [
    "root = tk.Tk()\n",
    "text_var = tk.DoubleVar()\n",
    "\n",
    "spin_box = tk.Spinbox(\n",
    "    root,\n",
    "    from_=0.1,\n",
    "    to=1.0,\n",
    "    increment=.01,\n",
    "    textvariable=text_var\n",
    ")\n",
    "spin_box.pack()\n",
    "root.mainloop()\n"
   ]
  },
  {
   "attachments": {},
   "cell_type": "markdown",
   "metadata": {},
   "source": [
    "3. Create a login page that will ask for input such as Name and Password"
   ]
  },
  {
   "cell_type": "code",
   "execution_count": 23,
   "metadata": {},
   "outputs": [],
   "source": [
    "from tkinter import *\n",
    "from functools import partial\n",
    "\n",
    "def validateLogin(username, password):\n",
    "\tprint(\"username entered :\", username.get())\n",
    "\tprint(\"password entered :\", password.get())\n",
    "\treturn\n",
    "\n",
    "#window\n",
    "tkWindow = Tk()  \n",
    "tkWindow.geometry('400x150')  \n",
    "tkWindow.title('Tkinter Login Form')\n",
    "\n",
    "#username label and text entry box\n",
    "usernameLabel = Label(tkWindow, text=\"User Name\").grid(row=0, column=0)\n",
    "username = StringVar()\n",
    "usernameEntry = Entry(tkWindow, textvariable=username).grid(row=0, column=1)  \n",
    "\n",
    "#password label and password entry box\n",
    "passwordLabel = Label(tkWindow,text=\"Password\").grid(row=1, column=0)  \n",
    "password = StringVar()\n",
    "passwordEntry = Entry(tkWindow, textvariable=password, show='*').grid(row=1, column=1)  \n",
    "\n",
    "validateLogin = partial(validateLogin, username, password)\n",
    "\n",
    "#login button\n",
    "loginButton = Button(tkWindow, text=\"Login\", command=validateLogin).grid(row=4, column=0)  \n",
    "\n",
    "tkWindow.mainloop()"
   ]
  },
  {
   "attachments": {},
   "cell_type": "markdown",
   "metadata": {},
   "source": [
    "4. Create three radio buttons that will include 3 fields: First, Second, and Third.\n"
   ]
  },
  {
   "cell_type": "code",
   "execution_count": 24,
   "metadata": {},
   "outputs": [],
   "source": [
    "import tkinter as tk2\n",
    "parent = tk2.Tk()\n",
    "parent.title(\"Radiobutton \")\n",
    "parent.geometry('350x200')\n",
    "radio1 = tk2.Radiobutton(parent, text='First', value=1)\n",
    "radio2 = tk2.Radiobutton(parent, text='Second', value=2)\n",
    "radio3 = tk2.Radiobutton(parent, text='Third', value=3)\n",
    "radio1.grid(column=0, row=0)\n",
    "radio2.grid(column=1, row=0)\n"
   ]
  },
  {
   "attachments": {},
   "cell_type": "markdown",
   "metadata": {},
   "source": [
    "Create a dropdown list of city names such as Bangalore, Mangalore, and Mysor\n",
    "e using ipywidgets"
   ]
  },
  {
   "cell_type": "code",
   "execution_count": 34,
   "metadata": {},
   "outputs": [
    {
     "data": {
      "application/vnd.jupyter.widget-view+json": {
       "model_id": "da3f0c23109f463e878feae7a74b4133",
       "version_major": 2,
       "version_minor": 0
      },
      "text/plain": [
       "interactive(children=(Dropdown(description='Cities:', options=('Bangalore', 'Mangalore', 'Mysor'), value='Bang…"
      ]
     },
     "metadata": {},
     "output_type": "display_data"
    },
    {
     "data": {
      "text/plain": [
       "<function __main__.run(b)>"
      ]
     },
     "execution_count": 34,
     "metadata": {},
     "output_type": "execute_result"
    }
   ],
   "source": [
    "import ipywidgets as widgets\n",
    "\n",
    "\n",
    "def run(b):\n",
    "    print(f\"City  : {b}\")\n",
    "\n",
    "widgets.interact(\n",
    "    run,\n",
    "    b=widgets.Dropdown(\n",
    "        options=[\"Bangalore\", \"Mangalore\", \"Mysor\"],\n",
    "        value=\"Bangalore\",\n",
    "        description=\"Cities:\",\n",
    "        disabled=False,\n",
    "    ),\n",
    ")"
   ]
  }
 ],
 "metadata": {
  "kernelspec": {
   "display_name": "tensf",
   "language": "python",
   "name": "python3"
  },
  "language_info": {
   "codemirror_mode": {
    "name": "ipython",
    "version": 3
   },
   "file_extension": ".py",
   "mimetype": "text/x-python",
   "name": "python",
   "nbconvert_exporter": "python",
   "pygments_lexer": "ipython3",
   "version": "3.10.8"
  },
  "orig_nbformat": 4,
  "vscode": {
   "interpreter": {
    "hash": "3e313d1f24da57a081eee6b594756086e5e54161d7342791616a06970af18016"
   }
  }
 },
 "nbformat": 4,
 "nbformat_minor": 2
}
