{
 "cells": [
  {
   "cell_type": "code",
   "execution_count": 17,
   "metadata": {},
   "outputs": [],
   "source": [
    "# Import Libraries Spark\n",
    "from pyspark.sql import SparkSession\n",
    "from pyspark.sql.functions import *\n",
    "from pyspark.sql import functions as sf, Window as w\n",
    "from pyspark.sql.functions import udf\n",
    "from collections import Counter\n",
    "from pyspark.sql.functions import concat, col, lit, concat_ws, row_number\n",
    "from pyspark.sql.functions import explode, explode_outer, split, length, trim, mean, min, max\n",
    "from pyspark.sql.types import StructField, DecimalType, StringType, IntegerType, DoubleType, FloatType, DateType, TimestampType\n",
    "from pyspark import StorageLevel"
   ]
  },
  {
   "cell_type": "code",
   "execution_count": 18,
   "metadata": {},
   "outputs": [],
   "source": [
    "# Create Spark Session\n",
    "spark = SparkSession.builder.master(\n",
    "    \"local[*]\").appName(\"CouncilDataExploration\").config('spark.sql.debug.maxToStringFields', 2000).getOrCreate()\n",
    "input_directory =  \"/home/pydev/workflow/dt_learn_data_science/spark/codility/data\"   "
   ]
  },
  {
   "cell_type": "code",
   "execution_count": 19,
   "metadata": {},
   "outputs": [],
   "source": [
    "# district_councils\n",
    "district_councilsdf = spark.read.option(\"header\", \"true\").option(\"inferSchema\", \"true\").option(\n",
    "        \"sep\", \",\").csv(f\"{input_directory}/england_councils/district_councils.csv\")\n",
    "df1 = district_councilsdf.withColumn(\"council_type\", lit('district councils')) \n",
    "\n",
    "# londonboroughs\n",
    "london_boroughsdf = spark.read.option(\"header\", \"true\").option(\"inferSchema\", \"true\").option(\n",
    "        \"sep\", \",\").csv(f\"{input_directory}/england_councils/london_boroughs.csv\")\n",
    "df2 = london_boroughsdf.withColumn(\"council_type\", lit('londonboroughs')) \n",
    "\n",
    "# metropolitandistricts\n",
    "metropolitan_districtsdf = spark.read.option(\"header\", \"true\").option(\"inferSchema\", \"true\").option(\n",
    "        \"sep\", \",\").csv(f\"{input_directory}/england_councils/metropolitan_districts.csv\")\n",
    "df3 = metropolitan_districtsdf.withColumn(\"council_type\", lit('metropolitandistricts')) \n",
    "\n",
    "\n",
    "# unitary_authorities\n",
    "unitary_authoritiesdf = spark.read.option(\"header\", \"true\").option(\"inferSchema\", \"true\").option(\n",
    "        \"sep\", \",\").csv(f\"{input_directory}/england_councils/unitary_authorities.csv\")\n",
    "df4 = unitary_authoritiesdf.withColumn(\"council_type\", lit('unitary authorities')) \n",
    "\n",
    "council_df = df1.unionAll(df2)\n",
    "council_df = council_df.unionAll(df3)\n",
    "council_df = council_df.unionAll(df4)\n"
   ]
  },
  {
   "cell_type": "code",
   "execution_count": 20,
   "metadata": {},
   "outputs": [],
   "source": [
    "# avg_price_nov_2019\n",
    "unitary_authoritiesdf = spark.read.option(\"header\", \"true\").option(\"inferSchema\", \"true\")\\\n",
    "        .option(\"sep\", \",\").csv(f\"{input_directory}/property_avg_price.csv\") \\\n",
    "        .select(col('local_authority').alias('council'), col('avg_price_nov_2019'))\n",
    "# sales_volume_sep_2019      \n",
    "property_sales_volumedf = spark.read.option(\"header\", \"true\").option(\"inferSchema\", \"true\")\\\n",
    "        .option(\"sep\", \",\").csv(f\"{input_directory}/property_sales_volume.csv\")\\\n",
    "        .select(col('local_authority').alias('council'), col('sales_volume_sep_2019'))        "
   ]
  },
  {
   "cell_type": "code",
   "execution_count": 24,
   "metadata": {},
   "outputs": [],
   "source": [
    "### Union Data\n",
    "final_df = council_df.join(unitary_authoritiesdf, council_df.council == unitary_authoritiesdf.council, \"left\")\\\n",
    "        .select(council_df.council, council_df.county, council_df.council_type, unitary_authoritiesdf.avg_price_nov_2019)\n",
    "# final_df.show()\n",
    "final_df = final_df.join(property_sales_volumedf,final_df.council == property_sales_volumedf.council,\"left\")\\\n",
    "        .select(final_df.council,final_df.county,final_df.council_type,final_df.avg_price_nov_2019,property_sales_volumedf.sales_volume_sep_2019)    \n"
   ]
  },
  {
   "cell_type": "code",
   "execution_count": 27,
   "metadata": {},
   "outputs": [
    {
     "name": "stdout",
     "output_type": "stream",
     "text": [
      "316\n"
     ]
    }
   ],
   "source": [
    "x = final_df.count()\n",
    "print(x)"
   ]
  },
  {
   "cell_type": "code",
   "execution_count": 28,
   "metadata": {},
   "outputs": [
    {
     "name": "stdout",
     "output_type": "stream",
     "text": [
      "+--------------------+---------------+-----------------+------------------+---------------------+\n",
      "|             council|         county|     council_type|avg_price_nov_2019|sales_volume_sep_2019|\n",
      "+--------------------+---------------+-----------------+------------------+---------------------+\n",
      "|                Adur|    West Sussex|district councils|          316482.0|                   82|\n",
      "|           Allerdale|        Cumbria|district councils|          148708.0|                  122|\n",
      "|        Amber Valley|     Derbyshire|district councils|          184204.0|                  156|\n",
      "|                Arun|    West Sussex|district councils|          290304.0|                  234|\n",
      "|            Ashfield|Nottinghamshire|district councils|          141916.0|                  156|\n",
      "|             Ashford|           Kent|district councils|          304770.0|                  137|\n",
      "|      Aylesbury Vale|Buckinghamshire|district councils|          321553.0|                  245|\n",
      "|             Babergh|        Suffolk|district councils|          292305.0|                   97|\n",
      "|   Barrow in Furness|        Cumbria|district councils|          126031.0|                   88|\n",
      "|            Basildon|          Essex|district councils|          307860.0|                  206|\n",
      "|Basingstoke and D...|      Hampshire|district councils|          308435.0|                  198|\n",
      "|           Bassetlaw|Nottinghamshire|district councils|          164012.0|                  154|\n",
      "|               Blaby| Leicestershire|district councils|          229255.0|                  123|\n",
      "|            Bolsover|     Derbyshire|district councils|          129002.0|                  107|\n",
      "|              Boston|   Lincolnshire|district councils|          152361.0|                   64|\n",
      "|           Braintree|          Essex|district councils|          276858.0|                  195|\n",
      "|           Breckland|        Norfolk|district councils|          226095.0|                  147|\n",
      "|           Brentwood|          Essex|district councils|          426038.0|                  101|\n",
      "|           Broadland|        Norfolk|district councils|          263254.0|                  198|\n",
      "|          Bromsgrove| Worcestershire|district councils|          296709.0|                  127|\n",
      "+--------------------+---------------+-----------------+------------------+---------------------+\n",
      "only showing top 20 rows\n",
      "\n"
     ]
    }
   ],
   "source": [
    "final_df.show()"
   ]
  }
 ],
 "metadata": {
  "kernelspec": {
   "display_name": "envSpark",
   "language": "python",
   "name": "python3"
  },
  "language_info": {
   "codemirror_mode": {
    "name": "ipython",
    "version": 3
   },
   "file_extension": ".py",
   "mimetype": "text/x-python",
   "name": "python",
   "nbconvert_exporter": "python",
   "pygments_lexer": "ipython3",
   "version": "3.8.10 (default, Nov 14 2022, 12:59:47) \n[GCC 9.4.0]"
  },
  "orig_nbformat": 4,
  "vscode": {
   "interpreter": {
    "hash": "7b084bd5d932fbe9640f9116fd74048650a204a045aa4757b00e4e8784d9ce36"
   }
  }
 },
 "nbformat": 4,
 "nbformat_minor": 2
}
