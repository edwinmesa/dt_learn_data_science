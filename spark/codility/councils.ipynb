{
 "cells": [
  {
   "cell_type": "code",
   "execution_count": 11,
   "metadata": {},
   "outputs": [],
   "source": [
    "from pyspark.sql import SparkSession\n",
    "from pyspark.sql.functions import lit\n",
    "from pyspark.sql.functions import col\n"
   ]
  },
  {
   "cell_type": "code",
   "execution_count": 12,
   "metadata": {},
   "outputs": [],
   "source": [
    "class CouncilsJob:\n",
    "    def __init__(self):\n",
    "        self.spark_session = (SparkSession.builder.master(\n",
    "            \"local[*]\").appName(\"EnglandCouncilsJob\").getOrCreate())\n",
    "        self.input_directory = '/home/pydev/workflow/dt_learn_data_science/spark/codility/data'"
   ]
  },
  {
   "cell_type": "code",
   "execution_count": 13,
   "metadata": {},
   "outputs": [],
   "source": [
    "def extract_councils(self):\n",
    "\n",
    "    self.district_councilsdf = self.spark_session.read.option(\"header\", \"true\").option(\"inferSchema\", \"true\").option(\n",
    "        \"sep\", \",\").csv(f\"{self.input_directory}/england_councils/district_councils.csv\")\n",
    "        \n",
    "    self.df1 = self.district_councilsdf.withColumn(\"council_type\", lit('district councils'))\n",
    "\n",
    "    self.london_boroughsdf = self.spark_session.read.option(\"header\", \"true\").option(\"inferSchema\", \"true\").option(\n",
    "        \"sep\", \",\").csv(f\"{self.input_directory}/england_councils/london_boroughs.csv\")\n",
    "    self.df2 = self.london_boroughsdf.withColumn(\"council_type\", lit('londonboroughs'))\n",
    "\n",
    "    self.metropolitan_districtsdf = self.spark_session.read.option(\"header\", \"true\").option(\"inferSchema\", \"true\").option(\n",
    "        \"sep\", \",\").csv(f\"{self.input_directory}/england_councils/metropolitan_districts.csv\")\n",
    "    self.df3 = self.metropolitan_districtsdf.withColumn(\"council_type\", lit('metropolitandistricts'))\n",
    "\n",
    "    self.unitary_authoritiesdf = self.spark_session.read.option(\"header\", \"true\").option(\"inferSchema\", \"true\").option(\n",
    "        \"sep\", \",\").csv(f\"{self.input_directory}/england_councils/unitary_authorities.csv\")\n",
    "    self.df4 = self.unitary_authoritiesdf.withColumn(\"council_type\", lit('unitary authorities'))\n",
    "\n",
    "    self.council_df = self.df1.unionAll(self.df2)\n",
    "    self.council_df = self.council_df.unionAll(self.df3)\n",
    "    self.council_df = self.council_df.unionAll(self.df4)\n"
   ]
  },
  {
   "cell_type": "code",
   "execution_count": 14,
   "metadata": {},
   "outputs": [],
   "source": [
    "def extract_avg_price(self):\n",
    "    self.unitary_authoritiesdf = self.spark_session.read.option(\"header\", \"true\").option(\"inferSchema\", \"true\")\\\n",
    "        .option(\"sep\", \",\").csv(f\"{self.input_directory}/property_avg_price.csv\") \\\n",
    "        .select(col('local_authority').alias('council'), col('avg_price_nov_2019'))\n"
   ]
  },
  {
   "cell_type": "code",
   "execution_count": 15,
   "metadata": {},
   "outputs": [],
   "source": [
    "def extract_sales_volume(self):\n",
    "    self.property_sales_volumedf = self.spark_session.read.option(\"header\", \"true\").option(\"inferSchema\", \"true\")\\\n",
    "        .option(\"sep\", \",\").csv(f\"{self.input_directory}/property_sales_volume.csv\")\\\n",
    "        .select(col('local_authority').alias('council'), col('sales_volume_sep_2019'))\n"
   ]
  },
  {
   "cell_type": "code",
   "execution_count": 16,
   "metadata": {},
   "outputs": [],
   "source": [
    "def transform(self, councils_df, avg_price_df, sales_volume_df):\n",
    "    self.final_df = self.council_df.join(self.unitary_authoritiesdf, self.council_df.council == self.unitary_authoritiesdf.council, \"left\")\\\n",
    "        .select(self.council_df.council, self.council_df.county, self.council_df.council_type, self.unitary_authoritiesdf.avg_price_nov_2019)\n",
    "\n",
    "    self.final_df = self.final_df.join(self.property_sales_volumedf,self.final_df.council == self.property_sales_volumedf.council,\"left\")\\\n",
    "        .select(self.final_df.council,self.final_df.county,self.final_df.council_type,self.final_df.avg_price_nov_2019,self.property_sales_volumedf.sales_volume_sep_2019)    \n",
    "    \n",
    "    print(self.final_df.show())\n",
    "    \n",
    "    x = self.final_df.count()\n",
    "    #self.final_df.write.saveAsTable(\"lti.english_county_df\")\n",
    "    return x"
   ]
  },
  {
   "cell_type": "code",
   "execution_count": 17,
   "metadata": {},
   "outputs": [],
   "source": [
    "def run(self):\n",
    "    return self.transform(self.extract_councils(),self.extract_avg_price(),self.extract_sales_volume())"
   ]
  },
  {
   "cell_type": "code",
   "execution_count": 21,
   "metadata": {},
   "outputs": [
    {
     "ename": "TypeError",
     "evalue": "run() missing 1 required positional argument: 'self'",
     "output_type": "error",
     "traceback": [
      "\u001b[0;31m---------------------------------------------------------------------------\u001b[0m",
      "\u001b[0;31mTypeError\u001b[0m                                 Traceback (most recent call last)",
      "Cell \u001b[0;32mIn[21], line 3\u001b[0m\n\u001b[1;32m      1\u001b[0m \u001b[39m# Main Module\u001b[39;00m\n\u001b[1;32m      2\u001b[0m s \u001b[39m=\u001b[39m CouncilsJob()\n\u001b[0;32m----> 3\u001b[0m a \u001b[39m=\u001b[39m run()\n\u001b[1;32m      4\u001b[0m \u001b[39m# s.run()\u001b[39;00m\n\u001b[1;32m      5\u001b[0m \u001b[39m# a = s.run()\u001b[39;00m\n\u001b[1;32m      6\u001b[0m \u001b[39m# print(a)\u001b[39;00m\n",
      "\u001b[0;31mTypeError\u001b[0m: run() missing 1 required positional argument: 'self'"
     ]
    }
   ],
   "source": [
    "# Main Module\n",
    "s = CouncilsJob()\n",
    "a = run()\n",
    "# s.run()\n",
    "# a = s.run()\n",
    "# print(a)\n"
   ]
  }
 ],
 "metadata": {
  "kernelspec": {
   "display_name": "venvdt",
   "language": "python",
   "name": "python3"
  },
  "language_info": {
   "codemirror_mode": {
    "name": "ipython",
    "version": 3
   },
   "file_extension": ".py",
   "mimetype": "text/x-python",
   "name": "python",
   "nbconvert_exporter": "python",
   "pygments_lexer": "ipython3",
   "version": "3.8.10 (default, Jun 22 2022, 20:18:18) \n[GCC 9.4.0]"
  },
  "orig_nbformat": 4,
  "vscode": {
   "interpreter": {
    "hash": "0dcc85c4f71229b6099eb35aa11e58cece2d49f14a132d07237ed49196d88abb"
   }
  }
 },
 "nbformat": 4,
 "nbformat_minor": 2
}
