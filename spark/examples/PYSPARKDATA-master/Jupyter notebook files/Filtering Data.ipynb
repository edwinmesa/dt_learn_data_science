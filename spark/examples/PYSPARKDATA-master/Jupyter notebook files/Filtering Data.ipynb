{
 "cells": [
  {
   "cell_type": "markdown",
   "metadata": {},
   "source": [
    "# Creating spark session"
   ]
  },
  {
   "cell_type": "code",
   "execution_count": 1,
   "metadata": {},
   "outputs": [
    {
     "name": "stdout",
     "output_type": "stream",
     "text": [
      "+-----------------+----------+--------+---------------+\n",
      "|order_customer_id|order_date|order_id|   order_status|\n",
      "+-----------------+----------+--------+---------------+\n",
      "|                1|2013-07-25|   11599|         CLOSED|\n",
      "|                2|2013-07-25|     256|PENDING_PAYMENT|\n",
      "+-----------------+----------+--------+---------------+\n",
      "only showing top 2 rows\n",
      "\n"
     ]
    }
   ],
   "source": [
    "# use tis command if you are using the jupyter notebook\n",
    "\n",
    "import os\n",
    "from pyspark import SparkConf\n",
    "from pyspark.sql import SparkSession\n",
    "spark = SparkSession.builder.master(\"local\").config(conf=SparkConf()).getOrCreate()\n",
    "\n",
    "# loading the data and assigning the schema.\n",
    "\n",
    "path_text_orders=\"file:///D://data-master/retail_db/orders\"\n",
    "\n",
    "orders_text=spark.read.format(\"text\").load(path_text_orders)\n",
    "\n",
    "orders_table=orders_text.selectExpr(\"cast(split(value,',') [0] as int) order_customer_id\",\n",
    "                                     \"cast(split(value,',') [1] as date) order_date\",\n",
    "                                     \"cast(split(value,',') [2] as int) order_id\",\n",
    "                                      \"cast(split(value,',') [3] as string) order_status\")\n",
    "\n",
    "orders_table.show(2)"
   ]
  },
  {
   "cell_type": "markdown",
   "metadata": {},
   "source": [
    "# Launching in CLOUDERA vm"
   ]
  },
  {
   "cell_type": "code",
   "execution_count": null,
   "metadata": {},
   "outputs": [],
   "source": [
    "## to stop the warnings and info in saprk 1.6\n",
    "\n",
    "sc.setLogLevel(\"ERROR\")\n",
    "\n",
    "'''launch pysaprk'''\n",
    "\n",
    "'''load the data'''\n",
    "\n",
    "path_text_orders=\"/user/pruthviraj/sqoop_text/orders\"\n",
    "\n",
    "orders_text=sqlContext.read.format(\"text\").load(path_text_orders)\n",
    "\n",
    "orders_table=orders_text.selectExpr(\"cast(split(value,',') [0] as int) order_customer_id\",\n",
    "                                     \"cast(split(value,',') [1] as date) order_date\",\n",
    "                                     \"cast(split(value,',') [2] as int) order_id\",\n",
    "                                      \"cast(split(value,',') [3] as string) order_status\")\n",
    "\n",
    "orders_table.count()"
   ]
  },
  {
   "cell_type": "markdown",
   "metadata": {},
   "source": [
    "![tilte](https://pysparktutorials.files.wordpress.com/2018/05/12.jpg)"
   ]
  },
  {
   "cell_type": "markdown",
   "metadata": {},
   "source": [
    "# Filtering data using multipart name"
   ]
  },
  {
   "cell_type": "markdown",
   "metadata": {},
   "source": [
    "## filtering data on single condition"
   ]
  },
  {
   "cell_type": "code",
   "execution_count": 19,
   "metadata": {},
   "outputs": [
    {
     "name": "stdout",
     "output_type": "stream",
     "text": [
      "+-----------------+----------+--------+---------------+\n",
      "|order_customer_id|order_date|order_id|   order_status|\n",
      "+-----------------+----------+--------+---------------+\n",
      "|               11|2013-07-25|     918| PAYMENT_REVIEW|\n",
      "|               12|2013-07-25|    1837|         CLOSED|\n",
      "|               13|2013-07-25|    9149|PENDING_PAYMENT|\n",
      "|               14|2013-07-25|    9842|     PROCESSING|\n",
      "|               15|2013-07-25|    2568|       COMPLETE|\n",
      "|               16|2013-07-25|    7276|PENDING_PAYMENT|\n",
      "|               17|2013-07-25|    2667|       COMPLETE|\n",
      "|               18|2013-07-25|    1205|         CLOSED|\n",
      "|               19|2013-07-25|    9488|PENDING_PAYMENT|\n",
      "|               20|2013-07-25|    9198|     PROCESSING|\n",
      "|               21|2013-07-25|    2711|        PENDING|\n",
      "|               22|2013-07-25|     333|       COMPLETE|\n",
      "|               23|2013-07-25|    4367|PENDING_PAYMENT|\n",
      "|               24|2013-07-25|   11441|         CLOSED|\n",
      "|               25|2013-07-25|    9503|         CLOSED|\n",
      "|               26|2013-07-25|    7562|       COMPLETE|\n",
      "|               27|2013-07-25|    3241|PENDING_PAYMENT|\n",
      "|               28|2013-07-25|     656|       COMPLETE|\n",
      "|               29|2013-07-25|     196|     PROCESSING|\n",
      "|               30|2013-07-25|   10039|PENDING_PAYMENT|\n",
      "+-----------------+----------+--------+---------------+\n",
      "only showing top 20 rows\n",
      "\n"
     ]
    }
   ],
   "source": [
    "# filtering data on single column\n",
    "\n",
    "orders_table.filter(orders_table.order_customer_id>10).show()"
   ]
  },
  {
   "cell_type": "markdown",
   "metadata": {},
   "source": [
    "## filtering data on multiple condtion"
   ]
  },
  {
   "cell_type": "code",
   "execution_count": 20,
   "metadata": {},
   "outputs": [
    {
     "name": "stdout",
     "output_type": "stream",
     "text": [
      "+-----------------+----------+--------+---------------+\n",
      "|order_customer_id|order_date|order_id|   order_status|\n",
      "+-----------------+----------+--------+---------------+\n",
      "|            50001|2014-06-02|   10731|PENDING_PAYMENT|\n",
      "|            50006|2014-06-02|   11020|       COMPLETE|\n",
      "|            50012|2014-06-02|   10696|        PENDING|\n",
      "|            50013|2014-06-02|   10275|     PROCESSING|\n",
      "|            50022|2014-06-02|   11413|     PROCESSING|\n",
      "|            50023|2014-06-02|   11947|       COMPLETE|\n",
      "|            50028|2014-06-02|   12139|         CLOSED|\n",
      "|            50029|2014-06-02|   12215|PENDING_PAYMENT|\n",
      "|            50030|2014-06-02|   11106|       COMPLETE|\n",
      "|            50031|2014-06-02|   10987|     PROCESSING|\n",
      "|            50035|2014-06-02|   10664|       COMPLETE|\n",
      "|            50036|2014-06-02|   11696|         CLOSED|\n",
      "|            50043|2014-06-02|   10434|         CLOSED|\n",
      "|            50055|2014-06-02|   10101|        ON_HOLD|\n",
      "|            50057|2014-06-02|   11309|PENDING_PAYMENT|\n",
      "|            50061|2014-06-03|   11734|PENDING_PAYMENT|\n",
      "|            50062|2014-06-03|   10863|     PROCESSING|\n",
      "|            50075|2014-06-03|   11765|       COMPLETE|\n",
      "|            50077|2014-06-03|   11058|     PROCESSING|\n",
      "|            50087|2014-06-03|   11375|       COMPLETE|\n",
      "+-----------------+----------+--------+---------------+\n",
      "only showing top 20 rows\n",
      "\n"
     ]
    }
   ],
   "source": [
    "# filtering data multiple columns\n",
    "\n",
    "orders_table.filter((orders_table.order_customer_id>50000) &\\\n",
    "                    (orders_table.order_id >10000)).show()"
   ]
  },
  {
   "cell_type": "markdown",
   "metadata": {},
   "source": [
    "# Filtering data using double quote method"
   ]
  },
  {
   "cell_type": "code",
   "execution_count": 21,
   "metadata": {},
   "outputs": [
    {
     "name": "stdout",
     "output_type": "stream",
     "text": [
      "+-----------------+----------+--------+---------------+\n",
      "|order_customer_id|order_date|order_id|   order_status|\n",
      "+-----------------+----------+--------+---------------+\n",
      "|               11|2013-07-25|     918| PAYMENT_REVIEW|\n",
      "|               12|2013-07-25|    1837|         CLOSED|\n",
      "|               13|2013-07-25|    9149|PENDING_PAYMENT|\n",
      "|               14|2013-07-25|    9842|     PROCESSING|\n",
      "|               15|2013-07-25|    2568|       COMPLETE|\n",
      "|               16|2013-07-25|    7276|PENDING_PAYMENT|\n",
      "|               17|2013-07-25|    2667|       COMPLETE|\n",
      "|               18|2013-07-25|    1205|         CLOSED|\n",
      "|               19|2013-07-25|    9488|PENDING_PAYMENT|\n",
      "|               20|2013-07-25|    9198|     PROCESSING|\n",
      "|               21|2013-07-25|    2711|        PENDING|\n",
      "|               22|2013-07-25|     333|       COMPLETE|\n",
      "|               23|2013-07-25|    4367|PENDING_PAYMENT|\n",
      "|               24|2013-07-25|   11441|         CLOSED|\n",
      "|               25|2013-07-25|    9503|         CLOSED|\n",
      "|               26|2013-07-25|    7562|       COMPLETE|\n",
      "|               27|2013-07-25|    3241|PENDING_PAYMENT|\n",
      "|               28|2013-07-25|     656|       COMPLETE|\n",
      "|               29|2013-07-25|     196|     PROCESSING|\n",
      "|               30|2013-07-25|   10039|PENDING_PAYMENT|\n",
      "+-----------------+----------+--------+---------------+\n",
      "only showing top 20 rows\n",
      "\n"
     ]
    }
   ],
   "source": [
    "# filtering data on single column using double quote\n",
    "\n",
    "orders_table.filter(\"order_customer_id>10 \").show()"
   ]
  },
  {
   "cell_type": "code",
   "execution_count": 29,
   "metadata": {},
   "outputs": [
    {
     "name": "stdout",
     "output_type": "stream",
     "text": [
      "+------------+-----+-----+\n",
      "|order_status|count|  max|\n",
      "+------------+-----+-----+\n",
      "|    COMPLETE|22899|12434|\n",
      "+------------+-----+-----+\n",
      "\n"
     ]
    }
   ],
   "source": [
    "# filtering data on multiple column using double qoute\n",
    "\n",
    "from pyspark.sql import functions as f\n",
    "\n",
    "orders_table.groupBy(\"order_status\").\\\n",
    "agg(f.count(orders_table.order_status).alias(\"count\"),\\\n",
    "f.max(orders_table.order_id).alias(\"max\")).\\\n",
    "filter(\"count >2000 and max>=12433 and order_status='COMPLETE'\").show()"
   ]
  },
  {
   "cell_type": "markdown",
   "metadata": {},
   "source": [
    "## Filtering on null values"
   ]
  },
  {
   "cell_type": "code",
   "execution_count": 50,
   "metadata": {},
   "outputs": [
    {
     "name": "stdout",
     "output_type": "stream",
     "text": [
      "+-----------------+----------+--------+\n",
      "|order_customer_id|order_date|order_id|\n",
      "+-----------------+----------+--------+\n",
      "|                1|2013-07-25|   11599|\n",
      "|                2|2013-07-25|     256|\n",
      "|                3|2013-07-25|   12111|\n",
      "|                4|2013-07-25|    8827|\n",
      "|             null|      null|    null|\n",
      "+-----------------+----------+--------+\n",
      "\n",
      "+-----------------+----------+--------+\n",
      "|order_customer_id|order_date|order_id|\n",
      "+-----------------+----------+--------+\n",
      "|             null|      null|    null|\n",
      "+-----------------+----------+--------+\n",
      "\n",
      "+-----------------+----------+--------+\n",
      "|order_customer_id|order_date|order_id|\n",
      "+-----------------+----------+--------+\n",
      "|                1|2013-07-25|   11599|\n",
      "|                2|2013-07-25|     256|\n",
      "|                3|2013-07-25|   12111|\n",
      "|                4|2013-07-25|    8827|\n",
      "+-----------------+----------+--------+\n",
      "\n"
     ]
    }
   ],
   "source": [
    "#loading the data\n",
    "\n",
    "path_text_orders=\"file:///D://data-master/retail_db/orders\"\n",
    "\n",
    "orders_text=spark.read.format(\"file:///D://data-master/retail_db/orders\").load(path_text_orders)\n",
    "\n",
    "orders_table=orders_text.selectExpr(\"cast(split(value,',') [0] as int) order_customer_id\",\n",
    "                                     \"cast(split(value,',') [1] as date) order_date\",\n",
    "                                     \"cast(split(value,',') [2] as int) order_id\",\n",
    "                                      \"cast(split(value,',') [3] as string) order_status\")\n",
    "a=orders_table.limit(4)\n",
    "b=orders_table.limit(5)\n",
    "c=a.join(b,a.order_customer_id==b.order_customer_id,\"outer\").\\\n",
    "    select(b.order_customer_id,a.order_date,b.order_id)\n",
    "\n",
    "c.show()\n",
    "    \n",
    "c.filter(\"order_customer_id is null\").show()\n",
    "    \n",
    "c.filter(\"order_customer_id is not null\").show()"
   ]
  }
 ],
 "metadata": {
  "kernelspec": {
   "display_name": "Python 3",
   "language": "python",
   "name": "python3"
  },
  "language_info": {
   "codemirror_mode": {
    "name": "ipython",
    "version": 3
   },
   "file_extension": ".py",
   "mimetype": "text/x-python",
   "name": "python",
   "nbconvert_exporter": "python",
   "pygments_lexer": "ipython3",
   "version": "3.6.4"
  }
 },
 "nbformat": 4,
 "nbformat_minor": 2
}
