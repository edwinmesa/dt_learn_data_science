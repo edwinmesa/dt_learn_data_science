{
 "cells": [
  {
   "cell_type": "markdown",
   "metadata": {},
   "source": [
    "# Creating a spark session"
   ]
  },
  {
   "cell_type": "code",
   "execution_count": 1,
   "metadata": {},
   "outputs": [
    {
     "name": "stdout",
     "output_type": "stream",
     "text": [
      "+-----------------+----------+--------+---------------+\n",
      "|order_customer_id|order_date|order_id|   order_status|\n",
      "+-----------------+----------+--------+---------------+\n",
      "|                1|2013-07-25|   11599|         CLOSED|\n",
      "|                2|2013-07-25|     256|PENDING_PAYMENT|\n",
      "+-----------------+----------+--------+---------------+\n",
      "only showing top 2 rows\n",
      "\n"
     ]
    }
   ],
   "source": [
    "import os\n",
    "from pyspark import SparkConf\n",
    "from pyspark.sql import SparkSession\n",
    "spark = SparkSession.builder.master(\"local\").config(conf=SparkConf()).getOrCreate()\n",
    "\n",
    "# loading the data and assigning the schema.\n",
    "\n",
    "path_text_orders=\"file:///D://data-master/retail_db/orders\"\n",
    "\n",
    "orders_text=spark.read.format(\"text\").load(path_text_orders)\n",
    "\n",
    "orders_table=orders_text.selectExpr(\"cast(split(value,',') [0] as int) order_customer_id\",\n",
    " \"cast(split(value,',') [1] as date) order_date\",\n",
    " \"cast(split(value,',') [2] as int) order_id\",\n",
    " \"cast(split(value,',') [3] as string) order_status\")\n",
    "\n",
    "orders_table.show(2)"
   ]
  },
  {
   "cell_type": "code",
   "execution_count": null,
   "metadata": {},
   "outputs": [],
   "source": [
    "## to stop the warnings and info and creating spark 1.6\n",
    "\n",
    "\n",
    "sc.setLogLevel(\"ERROR\")\n",
    "\n",
    "'''launch pysaprk'''\n",
    "\n",
    "'''load the data'''\n",
    "\n",
    "path_text_orders=\"/user/pruthviraj/sqoop_text/orders\"\n",
    "\n",
    "orders_text=sqlContext.read.format(\"text\").load(path_text_orders)\n",
    "\n",
    "orders_table=orders_text.selectExpr(\"cast(split(value,',') [0] as int) order_customer_id\",\n",
    "\"cast(split(value,',') [1] as date) order_date\",\n",
    "\"cast(split(value,',') [2] as int) order_id\",\n",
    "\"cast(split(value,',') [3] as string) order_status\")\n",
    "\n",
    "orders_table.count()"
   ]
  },
  {
   "cell_type": "markdown",
   "metadata": {},
   "source": [
    "![tilte](https://pysparktutorials.files.wordpress.com/2018/05/12.jpg)"
   ]
  },
  {
   "cell_type": "markdown",
   "metadata": {},
   "source": [
    "# joing the dataframes "
   ]
  },
  {
   "cell_type": "code",
   "execution_count": 3,
   "metadata": {},
   "outputs": [
    {
     "name": "stdout",
     "output_type": "stream",
     "text": [
      "+-----------------+----------+--------+---------------+\n",
      "|order_customer_id|order_date|order_id|   order_status|\n",
      "+-----------------+----------+--------+---------------+\n",
      "|                1|2013-07-25|   11599|         CLOSED|\n",
      "|                2|2013-07-25|     256|PENDING_PAYMENT|\n",
      "|                3|2013-07-25|   12111|       COMPLETE|\n",
      "+-----------------+----------+--------+---------------+\n",
      "only showing top 3 rows\n",
      "\n",
      "+-----------------+----------+--------+---------------+\n",
      "|order_customer_id|order_date|order_id|   order_status|\n",
      "+-----------------+----------+--------+---------------+\n",
      "|                1|2013-07-25|   11599|         CLOSED|\n",
      "|                2|2013-07-25|     256|PENDING_PAYMENT|\n",
      "|                3|2013-07-25|   12111|       COMPLETE|\n",
      "+-----------------+----------+--------+---------------+\n",
      "only showing top 3 rows\n",
      "\n",
      "+-----------------+----------+--------+---------------+\n",
      "|order_customer_id|order_date|order_id|   order_status|\n",
      "+-----------------+----------+--------+---------------+\n",
      "|                1|2013-07-25|   11599|         CLOSED|\n",
      "|                2|2013-07-25|     256|PENDING_PAYMENT|\n",
      "|                3|2013-07-25|   12111|       COMPLETE|\n",
      "+-----------------+----------+--------+---------------+\n",
      "only showing top 3 rows\n",
      "\n"
     ]
    }
   ],
   "source": [
    "a=orders_table.limit(10)\n",
    "b=orders_table.limit(20)\n",
    "c=orders_table.limit(30)\n",
    "a.show(3)\n",
    "b.show(3)\n",
    "c.show(3)"
   ]
  },
  {
   "cell_type": "markdown",
   "metadata": {},
   "source": [
    "# Join on two tables"
   ]
  },
  {
   "cell_type": "code",
   "execution_count": 34,
   "metadata": {},
   "outputs": [
    {
     "name": "stdout",
     "output_type": "stream",
     "text": [
      "+-----------------+----------+-----------------+---------------+\n",
      "|order_customer_id|order_date|order_customer_id|   order_status|\n",
      "+-----------------+----------+-----------------+---------------+\n",
      "|                1|2013-07-25|                1|         CLOSED|\n",
      "|                2|2013-07-25|                2|PENDING_PAYMENT|\n",
      "|                3|2013-07-25|                3|       COMPLETE|\n",
      "|                4|2013-07-25|                4|         CLOSED|\n",
      "|                5|2013-07-25|                5|       COMPLETE|\n",
      "|                6|2013-07-25|                6|       COMPLETE|\n",
      "|                7|2013-07-25|                7|       COMPLETE|\n",
      "|                8|2013-07-25|                8|     PROCESSING|\n",
      "|                9|2013-07-25|                9|PENDING_PAYMENT|\n",
      "|               10|2013-07-25|               10|PENDING_PAYMENT|\n",
      "|               11|2013-07-25|               11| PAYMENT_REVIEW|\n",
      "|               12|2013-07-25|               12|         CLOSED|\n",
      "|               13|2013-07-25|               13|PENDING_PAYMENT|\n",
      "|               14|2013-07-25|               14|     PROCESSING|\n",
      "|               15|2013-07-25|               15|       COMPLETE|\n",
      "|               16|2013-07-25|               16|PENDING_PAYMENT|\n",
      "|               17|2013-07-25|               17|       COMPLETE|\n",
      "|               18|2013-07-25|               18|         CLOSED|\n",
      "|               19|2013-07-25|               19|PENDING_PAYMENT|\n",
      "|               20|2013-07-25|               20|     PROCESSING|\n",
      "+-----------------+----------+-----------------+---------------+\n",
      "\n"
     ]
    }
   ],
   "source": [
    "# joinin the data on two tables\n",
    "\n",
    "b.join(a,b.order_customer_id==a.order_customer_id,\"left\").\\\n",
    "select(a.order_customer_id,a.order_date,b.order_customer_id,b.order_status).show()"
   ]
  }
 ],
 "metadata": {
  "kernelspec": {
   "display_name": "Python 3",
   "language": "python",
   "name": "python3"
  },
  "language_info": {
   "codemirror_mode": {
    "name": "ipython",
    "version": 3
   },
   "file_extension": ".py",
   "mimetype": "text/x-python",
   "name": "python",
   "nbconvert_exporter": "python",
   "pygments_lexer": "ipython3",
   "version": "3.6.4"
  }
 },
 "nbformat": 4,
 "nbformat_minor": 2
}
