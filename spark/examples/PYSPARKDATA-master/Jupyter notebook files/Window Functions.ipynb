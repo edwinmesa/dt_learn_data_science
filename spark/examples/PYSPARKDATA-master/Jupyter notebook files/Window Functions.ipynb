{
 "cells": [
  {
   "cell_type": "markdown",
   "metadata": {},
   "source": [
    "# Creating a spark session"
   ]
  },
  {
   "cell_type": "code",
   "execution_count": 73,
   "metadata": {},
   "outputs": [
    {
     "name": "stdout",
     "output_type": "stream",
     "text": [
      "+-------------+-------------------+---------------------+-------------------+-------------------+------------------------+\n",
      "|order_item_id|order_item_order_id|order_item_product_id|order_item_quantity|order_item_subtotal|order_item_product_price|\n",
      "+-------------+-------------------+---------------------+-------------------+-------------------+------------------------+\n",
      "|            1|                  1|                  957|                  1|             299.98|                  299.98|\n",
      "|            2|                  2|                 1073|                  1|             199.99|                  199.99|\n",
      "|            3|                  2|                  502|                  5|              250.0|                    50.0|\n",
      "|            4|                  2|                  403|                  1|             129.99|                  129.99|\n",
      "|            5|                  4|                  897|                  2|              49.98|                   24.99|\n",
      "|            6|                  4|                  365|                  5|             299.95|                   59.99|\n",
      "|            7|                  4|                  502|                  3|              150.0|                    50.0|\n",
      "|            8|                  4|                 1014|                  4|             199.92|                   49.98|\n",
      "|            9|                  5|                  957|                  1|             299.98|                  299.98|\n",
      "|           10|                  5|                  365|                  5|             299.95|                   59.99|\n",
      "|           11|                  5|                 1014|                  2|              99.96|                   49.98|\n",
      "|           12|                  5|                  957|                  1|             299.98|                  299.98|\n",
      "|           13|                  5|                  403|                  1|             129.99|                  129.99|\n",
      "|           14|                  7|                 1073|                  1|             199.99|                  199.99|\n",
      "|           15|                  7|                  957|                  1|             299.98|                  299.98|\n",
      "|           16|                  7|                  926|                  5|              79.95|                   15.99|\n",
      "|           17|                  8|                  365|                  3|             179.97|                   59.99|\n",
      "|           18|                  8|                  365|                  5|             299.95|                   59.99|\n",
      "|           19|                  8|                 1014|                  4|             199.92|                   49.98|\n",
      "|           20|                  8|                  502|                  1|               50.0|                    50.0|\n",
      "+-------------+-------------------+---------------------+-------------------+-------------------+------------------------+\n",
      "only showing top 20 rows\n",
      "\n",
      "+-----------------+----------+--------+---------------+\n",
      "|order_customer_id|order_date|order_id|   order_status|\n",
      "+-----------------+----------+--------+---------------+\n",
      "|                1|2013-07-25|   11599|         CLOSED|\n",
      "|                2|2013-07-25|     256|PENDING_PAYMENT|\n",
      "|                3|2013-07-25|   12111|       COMPLETE|\n",
      "|                4|2013-07-25|    8827|         CLOSED|\n",
      "|                5|2013-07-25|   11318|       COMPLETE|\n",
      "|                6|2013-07-25|    7130|       COMPLETE|\n",
      "|                7|2013-07-25|    4530|       COMPLETE|\n",
      "|                8|2013-07-25|    2911|     PROCESSING|\n",
      "|                9|2013-07-25|    5657|PENDING_PAYMENT|\n",
      "|               10|2013-07-25|    5648|PENDING_PAYMENT|\n",
      "|               11|2013-07-25|     918| PAYMENT_REVIEW|\n",
      "|               12|2013-07-25|    1837|         CLOSED|\n",
      "|               13|2013-07-25|    9149|PENDING_PAYMENT|\n",
      "|               14|2013-07-25|    9842|     PROCESSING|\n",
      "|               15|2013-07-25|    2568|       COMPLETE|\n",
      "|               16|2013-07-25|    7276|PENDING_PAYMENT|\n",
      "|               17|2013-07-25|    2667|       COMPLETE|\n",
      "|               18|2013-07-25|    1205|         CLOSED|\n",
      "|               19|2013-07-25|    9488|PENDING_PAYMENT|\n",
      "|               20|2013-07-25|    9198|     PROCESSING|\n",
      "+-----------------+----------+--------+---------------+\n",
      "only showing top 20 rows\n",
      "\n",
      "+----------+-------------------+--------------------+-------------------+-------------+--------------------+\n",
      "|product_id|product_category_id|        product_name|product_description|product_price|       product_image|\n",
      "+----------+-------------------+--------------------+-------------------+-------------+--------------------+\n",
      "|         1|                  2|Quest Q64 10 FT. ...|                   |        59.98|http://images.acm...|\n",
      "|         2|                  2|Under Armour Men'...|                   |       129.99|http://images.acm...|\n",
      "|         3|                  2|Under Armour Men'...|                   |        89.99|http://images.acm...|\n",
      "|         4|                  2|Under Armour Men'...|                   |        89.99|http://images.acm...|\n",
      "|         5|                  2|Riddell Youth Rev...|                   |       199.99|http://images.acm...|\n",
      "|         6|                  2|Jordan Men's VI R...|                   |       134.99|http://images.acm...|\n",
      "|         7|                  2|Schutt Youth Recr...|                   |        99.99|http://images.acm...|\n",
      "|         8|                  2|Nike Men's Vapor ...|                   |       129.99|http://images.acm...|\n",
      "|         9|                  2|Nike Adult Vapor ...|                   |         50.0|http://images.acm...|\n",
      "|        10|                  2|Under Armour Men'...|                   |       129.99|http://images.acm...|\n",
      "|        11|                  2|Fitness Gear 300 ...|                   |       209.99|http://images.acm...|\n",
      "|        12|                  2|Under Armour Men'...|                   |       139.99|http://images.acm...|\n",
      "|        13|                  2|Under Armour Men'...|                   |        89.99|http://images.acm...|\n",
      "|        14|                  2|Quik Shade Summit...|                   |       199.99|http://images.acm...|\n",
      "|        15|                  2|Under Armour Kids...|                   |        59.99|http://images.acm...|\n",
      "|        16|                  2|Riddell Youth 360...|                   |       299.99|http://images.acm...|\n",
      "|        17|                  2|Under Armour Men'...|                   |       129.99|http://images.acm...|\n",
      "|        18|                  2|Reebok Men's Full...|                   |        29.97|http://images.acm...|\n",
      "|        19|                  2|Nike Men's Finger...|                   |       124.99|http://images.acm...|\n",
      "|        20|                  2|Under Armour Men'...|                   |       129.99|http://images.acm...|\n",
      "+----------+-------------------+--------------------+-------------------+-------------+--------------------+\n",
      "only showing top 20 rows\n",
      "\n",
      "+-----------+----------------------+-------------------+\n",
      "|category_id|category_department_id|      category_name|\n",
      "+-----------+----------------------+-------------------+\n",
      "|          1|                     2|           Football|\n",
      "|          2|                     2|             Soccer|\n",
      "|          3|                     2|Baseball & Softball|\n",
      "|          4|                     2|         Basketball|\n",
      "|          5|                     2|           Lacrosse|\n",
      "|          6|                     2|   Tennis & Racquet|\n",
      "|          7|                     2|             Hockey|\n",
      "|          8|                     2|        More Sports|\n",
      "|          9|                     3|   Cardio Equipment|\n",
      "|         10|                     3|  Strength Training|\n",
      "|         11|                     3|Fitness Accessories|\n",
      "|         12|                     3|       Boxing & MMA|\n",
      "|         13|                     3|        Electronics|\n",
      "|         14|                     3|     Yoga & Pilates|\n",
      "|         15|                     3|  Training by Sport|\n",
      "|         16|                     3|    As Seen on  TV!|\n",
      "|         17|                     4|             Cleats|\n",
      "|         18|                     4|     Men's Footwear|\n",
      "|         19|                     4|   Women's Footwear|\n",
      "|         20|                     4|     Kids' Footwear|\n",
      "+-----------+----------------------+-------------------+\n",
      "only showing top 20 rows\n",
      "\n"
     ]
    }
   ],
   "source": [
    "import os\n",
    "from pyspark import SparkConf\n",
    "from pyspark.sql import SparkSession\n",
    "spark = SparkSession.builder.master(\"local\").config(conf=SparkConf()).getOrCreate()\n",
    "\n",
    "# loading the data and assigning the schema.\n",
    "\n",
    "items=\"file:///D://data-master/retail_db/order_items\"\n",
    "items=spark.read.format(\"text\").load(items)\n",
    "items=items.selectExpr(\"cast(split(value,',') [0] as int) order_item_id\",\\\n",
    " \"cast(split(value,',') [1] as int) order_item_order_id\",\\\n",
    " \"cast(split(value,',') [2] as int) order_item_product_id\",\\\n",
    " \"cast(split(value,',') [3] as int) order_item_quantity\",\\\n",
    " \"cast(split(value,',') [4] as float) order_item_subtotal\",\\\n",
    " \"cast(split(value,',') [5] as float) order_item_product_price\")\n",
    "\n",
    "orders=\"file:///D://data-master/retail_db/orders\"\n",
    "orders=spark.read.format(\"text\").load(orders)\n",
    "orders=orders.selectExpr(\"cast(split(value,',') [0] as int) order_customer_id\",\n",
    " \"cast(split(value,',') [1] as date) order_date\",\n",
    " \"cast(split(value,',') [2] as int) order_id\",\n",
    " \"cast(split(value,',') [3] as string) order_status\")\n",
    "\n",
    "products=\"file:///D://data-master/retail_db/products\"\n",
    "products=spark.read.format(\"text\").load(products)\n",
    "products=products.selectExpr(\"cast(split(value,',') [0] as int) product_id\",\n",
    " \"cast(split(value,',') [1] as int) product_category_id\",\n",
    " \"cast(split(value,',') [2] as string) product_name\",\n",
    "\"cast(split(value,',') [3] as string) product_description\",\n",
    "\"cast(split(value,',') [4] as float) product_price\",\n",
    "\"cast(split(value,',') [5] as string) product_image\")\n",
    "\n",
    "\n",
    "    \n",
    "categories=\"file:///D://data-master/retail_db/categories\"\n",
    "categories=spark.read.format(\"text\").load(categories)\n",
    "categories=categories.selectExpr(\"cast(split(value,',') [0] as int) category_id\",\n",
    " \"cast(split(value,',') [1] as int) category_department_id\",\n",
    " \"cast(split(value,',') [2] as string) category_name\")\n",
    "\n",
    "items.show()\n",
    "orders.show()\n",
    "products.show()\n",
    "categories.show()"
   ]
  },
  {
   "cell_type": "code",
   "execution_count": null,
   "metadata": {},
   "outputs": [],
   "source": [
    "#Loading data in linux environment\n",
    "\n",
    "items=\"/user/pruthviraj/sqoop_text/order_items\"\n",
    "items=sqlContext.read.format(\"text\").load(items)\n",
    "items=items.selectExpr(\"cast(split(value,',') [0] as int) order_item_id\",\\\n",
    "\"cast(split(value,',') [1] as int) order_item_order_id\",\\\n",
    "\"cast(split(value,',') [2] as int) order_item_product_id\",\\\n",
    "\"cast(split(value,',') [3] as int) order_item_quantity\",\\\n",
    "\"cast(split(value,',') [4] as float) order_item_subtotal\",\\\n",
    "\"cast(split(value,',') [5] as float) order_item_product_price\")\n",
    "\n",
    "orders=\"/user/pruthviraj/sqoop_text/orders\"\n",
    "orders=sqlContext.read.format(\"text\").load(orders)\n",
    "orders=orders.selectExpr(\"cast(split(value,',') [0] as int) order_customer_id\",\n",
    "\"cast(split(value,',') [1] as date) order_date\",\n",
    "\"cast(split(value,',') [2] as int) order_id\",\n",
    "\"cast(split(value,',') [3] as string) order_status\")\n",
    "\n",
    "products=\"/user/pruthviraj/sqoop_text/products\"\n",
    "products=sqlContext.read.format(\"text\").load(products)\n",
    "products=products.selectExpr(\"cast(split(value,',') [0] as int) product_id\",\n",
    "\"cast(split(value,',') [1] as int) product_category_id\",\n",
    "\"cast(split(value,',') [2] as string) product_name\",\n",
    "\"cast(split(value,',') [3] as string) product_description\",\n",
    "\"cast(split(value,',') [4] as float) product_price\",\n",
    "\"cast(split(value,',') [5] as string) product_image\")\n",
    "  \n",
    "categories=\"/user/pruthviraj/sqoop_text/categories\"\n",
    "categories=sqlContext.read.format(\"text\").load(categories)\n",
    "categories=categories.selectExpr(\"cast(split(value,',') [0] as int) category_id\",\n",
    "\"cast(split(value,',') [1] as int) category_department_id\",\n",
    "\"cast(split(value,',') [2] as string) category_name\")\n",
    "\n",
    "items.show(2)\n",
    "orders.show(2)\n",
    "products.show(2)\n",
    "categories.show(2)"
   ]
  },
  {
   "cell_type": "markdown",
   "metadata": {},
   "source": [
    "![tilte](https://pysparktutorials.files.wordpress.com/2018/05/sparkload.jpg)"
   ]
  },
  {
   "cell_type": "markdown",
   "metadata": {},
   "source": [
    "![tilte](https://pysparktutorials.files.wordpress.com/2018/05/loadres.jpg)"
   ]
  },
  {
   "cell_type": "markdown",
   "metadata": {},
   "source": [
    "# Ranking "
   ]
  },
  {
   "cell_type": "code",
   "execution_count": 57,
   "metadata": {},
   "outputs": [
    {
     "name": "stdout",
     "output_type": "stream",
     "text": [
      "+-------------------+--------------------+---------+----+\n",
      "|      category_name|        product_name|max_price|rank|\n",
      "+-------------------+--------------------+---------+----+\n",
      "|   Men's Golf Clubs|Merrell Women's S...|   134.99|   1|\n",
      "|   Men's Golf Clubs|Merrell Women's G...|   129.99|   2|\n",
      "|   Men's Golf Clubs|Merrell Men's All...|   109.99|   3|\n",
      "|   Men's Golf Clubs|Merrell Women's G...|    99.99|   4|\n",
      "|   Camping & Hiking|Diamondback Women...|   299.98|   1|\n",
      "|Fitness Accessories|Bowflex SelectTec...|   599.99|   1|\n",
      "|Fitness Accessories|Under Armour Hust...|    34.99|   2|\n",
      "|         Golf Shoes|LIJA Women's Butt...|    108.0|   1|\n",
      "|         Golf Shoes|LIJA Women's Mid-...|    100.0|   2|\n",
      "|         Golf Shoes|LIJA Women's Argy...|     80.0|   3|\n",
      "|         Golf Shoes|LIJA Women's Eyel...|     65.0|   4|\n",
      "|         Basketball| SOLE E25 Elliptical|   999.99|   1|\n",
      "|         Basketball|Diamondback Girls...|   299.99|   2|\n",
      "|         Basketball|Diamondback Boys'...|   299.99|   2|\n",
      "|     Men's Footwear|Nike Men's CJ Eli...|   129.99|   1|\n",
      "|        Electronics|Titleist Pro V1 H...|    51.99|   1|\n",
      "|        Electronics|Titleist Pro V1x ...|    51.99|   1|\n",
      "|        Electronics|Titleist Pro V1x ...|    47.99|   2|\n",
      "|        Electronics|Titleist Pro V1x ...|    47.99|   2|\n",
      "|        Electronics|Under Armour Men'...|    44.99|   3|\n",
      "+-------------------+--------------------+---------+----+\n",
      "only showing top 20 rows\n",
      "\n"
     ]
    }
   ],
   "source": [
    "from pyspark.sql import functions as f\n",
    "from pyspark.sql.window import Window as w\n",
    "\n",
    "win_fun=items.join(products,items.order_item_product_id==products.product_id).\\\n",
    "        join(categories,products.product_category_id==categories.category_id).\\\n",
    "        groupBy(categories.category_name,products.product_name).\\\n",
    "        agg(f.max(items.order_item_product_price).alias(\"max_price\")).\\\n",
    "        sort(categories.category_name.asc(),f.desc(\"max_price\"))\n",
    "\n",
    "win_fun.select(\"category_name\",\"product_name\",\"max_price\",\\\n",
    "               f.rank().over(w.partitionBy(\"category_name\").orderBy(f.desc(\"max_price\"))).alias(\"rank\")).show()"
   ]
  },
  {
   "cell_type": "markdown",
   "metadata": {},
   "source": [
    "# dense rank"
   ]
  },
  {
   "cell_type": "code",
   "execution_count": 58,
   "metadata": {},
   "outputs": [
    {
     "name": "stdout",
     "output_type": "stream",
     "text": [
      "+-------------------+--------------------+---------+----+\n",
      "|      category_name|        product_name|max_price|rank|\n",
      "+-------------------+--------------------+---------+----+\n",
      "|   Men's Golf Clubs|Merrell Women's S...|   134.99|   1|\n",
      "|   Men's Golf Clubs|Merrell Women's G...|   129.99|   2|\n",
      "|   Men's Golf Clubs|Merrell Men's All...|   109.99|   3|\n",
      "|   Men's Golf Clubs|Merrell Women's G...|    99.99|   4|\n",
      "|   Camping & Hiking|Diamondback Women...|   299.98|   1|\n",
      "|Fitness Accessories|Bowflex SelectTec...|   599.99|   1|\n",
      "|Fitness Accessories|Under Armour Hust...|    34.99|   2|\n",
      "|         Golf Shoes|LIJA Women's Butt...|    108.0|   1|\n",
      "|         Golf Shoes|LIJA Women's Mid-...|    100.0|   2|\n",
      "|         Golf Shoes|LIJA Women's Argy...|     80.0|   3|\n",
      "|         Golf Shoes|LIJA Women's Eyel...|     65.0|   4|\n",
      "|         Basketball| SOLE E25 Elliptical|   999.99|   1|\n",
      "|         Basketball|Diamondback Girls...|   299.99|   2|\n",
      "|         Basketball|Diamondback Boys'...|   299.99|   2|\n",
      "|     Men's Footwear|Nike Men's CJ Eli...|   129.99|   1|\n",
      "|        Electronics|Titleist Pro V1 H...|    51.99|   1|\n",
      "|        Electronics|Titleist Pro V1x ...|    51.99|   1|\n",
      "|        Electronics|Titleist Pro V1x ...|    47.99|   2|\n",
      "|        Electronics|Titleist Pro V1x ...|    47.99|   2|\n",
      "|        Electronics|Under Armour Men'...|    44.99|   3|\n",
      "+-------------------+--------------------+---------+----+\n",
      "only showing top 20 rows\n",
      "\n"
     ]
    }
   ],
   "source": [
    "from pyspark.sql import functions as f\n",
    "from pyspark.sql.window import Window as w\n",
    "\n",
    "win_fun=items.join(products,items.order_item_product_id==products.product_id).\\\n",
    "        join(categories,products.product_category_id==categories.category_id).\\\n",
    "        groupBy(categories.category_name,products.product_name).\\\n",
    "        agg(f.max(items.order_item_product_price).alias(\"max_price\")).\\\n",
    "        sort(categories.category_name.asc(),f.desc(\"max_price\"))\n",
    "\n",
    "win_fun.select(\"category_name\",\"product_name\",\"max_price\",\\\n",
    "               f.dense_rank().over(w.partitionBy(\"category_name\").orderBy(f.desc(\"max_price\"))).alias(\"dense_rank\")).show()"
   ]
  },
  {
   "cell_type": "markdown",
   "metadata": {},
   "source": [
    "# percent rank"
   ]
  },
  {
   "cell_type": "code",
   "execution_count": 74,
   "metadata": {},
   "outputs": [
    {
     "name": "stdout",
     "output_type": "stream",
     "text": [
      "+-------------------+--------------------+---------+------------------+\n",
      "|      category_name|        product_name|max_price|      percent_rank|\n",
      "+-------------------+--------------------+---------+------------------+\n",
      "|   Men's Golf Clubs|Merrell Women's S...|   134.99|               0.0|\n",
      "|   Men's Golf Clubs|Merrell Women's G...|   129.99|0.3333333333333333|\n",
      "|   Men's Golf Clubs|Merrell Men's All...|   109.99|0.6666666666666666|\n",
      "|   Men's Golf Clubs|Merrell Women's G...|    99.99|               1.0|\n",
      "|   Camping & Hiking|Diamondback Women...|   299.98|               0.0|\n",
      "|Fitness Accessories|Bowflex SelectTec...|   599.99|               0.0|\n",
      "|Fitness Accessories|Under Armour Hust...|    34.99|               1.0|\n",
      "|         Golf Shoes|LIJA Women's Butt...|    108.0|               0.0|\n",
      "|         Golf Shoes|LIJA Women's Mid-...|    100.0|0.3333333333333333|\n",
      "|         Golf Shoes|LIJA Women's Argy...|     80.0|0.6666666666666666|\n",
      "|         Golf Shoes|LIJA Women's Eyel...|     65.0|               1.0|\n",
      "|         Basketball| SOLE E25 Elliptical|   999.99|               0.0|\n",
      "|         Basketball|Diamondback Girls...|   299.99|               0.5|\n",
      "|         Basketball|Diamondback Boys'...|   299.99|               0.5|\n",
      "|     Men's Footwear|Nike Men's CJ Eli...|   129.99|               0.0|\n",
      "|        Electronics|Titleist Pro V1 H...|    51.99|               0.0|\n",
      "|        Electronics|Titleist Pro V1x ...|    51.99|               0.0|\n",
      "|        Electronics|Titleist Pro V1x ...|    47.99|               0.2|\n",
      "|        Electronics|Titleist Pro V1x ...|    47.99|               0.2|\n",
      "|        Electronics|Under Armour Men'...|    44.99|               0.4|\n",
      "+-------------------+--------------------+---------+------------------+\n",
      "only showing top 20 rows\n",
      "\n"
     ]
    }
   ],
   "source": [
    "from pyspark.sql import functions as f\n",
    "from pyspark.sql.window import Window as w\n",
    "\n",
    "win_fun=items.join(products,items.order_item_product_id==products.product_id).\\\n",
    "        join(categories,products.product_category_id==categories.category_id).\\\n",
    "        groupBy(categories.category_name,products.product_name).\\\n",
    "        agg(f.max(items.order_item_product_price).alias(\"max_price\")).\\\n",
    "        sort(categories.category_name.asc(),f.desc(\"max_price\"))\n",
    "\n",
    "win_fun.select(\"category_name\",\"product_name\",\"max_price\",\\\n",
    "               f.percent_rank().over(w.partitionBy(\"category_name\").orderBy(f.desc(\"max_price\"))).alias(\"percent_rank\")).show()"
   ]
  },
  {
   "cell_type": "markdown",
   "metadata": {},
   "source": [
    "# ntile"
   ]
  },
  {
   "cell_type": "code",
   "execution_count": 62,
   "metadata": {},
   "outputs": [
    {
     "name": "stdout",
     "output_type": "stream",
     "text": [
      "+-------------------+--------------------+---------+-----+\n",
      "|      category_name|        product_name|max_price|ntile|\n",
      "+-------------------+--------------------+---------+-----+\n",
      "|   Men's Golf Clubs|Merrell Women's S...|   134.99|    1|\n",
      "|   Men's Golf Clubs|Merrell Women's G...|   129.99|    1|\n",
      "|   Men's Golf Clubs|Merrell Men's All...|   109.99|    2|\n",
      "|   Men's Golf Clubs|Merrell Women's G...|    99.99|    2|\n",
      "|   Camping & Hiking|Diamondback Women...|   299.98|    1|\n",
      "|Fitness Accessories|Bowflex SelectTec...|   599.99|    1|\n",
      "|Fitness Accessories|Under Armour Hust...|    34.99|    2|\n",
      "|         Golf Shoes|LIJA Women's Butt...|    108.0|    1|\n",
      "|         Golf Shoes|LIJA Women's Mid-...|    100.0|    1|\n",
      "|         Golf Shoes|LIJA Women's Argy...|     80.0|    2|\n",
      "|         Golf Shoes|LIJA Women's Eyel...|     65.0|    2|\n",
      "|         Basketball| SOLE E25 Elliptical|   999.99|    1|\n",
      "|         Basketball|Diamondback Girls...|   299.99|    1|\n",
      "|         Basketball|Diamondback Boys'...|   299.99|    2|\n",
      "|     Men's Footwear|Nike Men's CJ Eli...|   129.99|    1|\n",
      "|        Electronics|Titleist Pro V1 H...|    51.99|    1|\n",
      "|        Electronics|Titleist Pro V1x ...|    51.99|    1|\n",
      "|        Electronics|Titleist Pro V1x ...|    47.99|    1|\n",
      "|        Electronics|Titleist Pro V1x ...|    47.99|    1|\n",
      "|        Electronics|Under Armour Men'...|    44.99|    1|\n",
      "|        Electronics|Bridgestone e6 St...|    31.99|    1|\n",
      "|        Electronics|Under Armour Wome...|    31.99|    2|\n",
      "|        Electronics|Bridgestone e6 St...|    31.99|    2|\n",
      "|        Electronics|Bridgestone e6 St...|    31.99|    2|\n",
      "|        Electronics|Under Armour Wome...|    31.99|    2|\n",
      "|        Electronics|Under Armour Kids...|    27.99|    2|\n",
      "|    Women's Apparel|Nike Men's Dri-FI...|     50.0|    1|\n",
      "|     Girls' Apparel|adidas Youth Germ...|     70.0|    1|\n",
      "|     Girls' Apparel|TYR Boys' Team Di...|    39.99|    1|\n",
      "|     Girls' Apparel|Nike Men's Deutsc...|     30.0|    2|\n",
      "+-------------------+--------------------+---------+-----+\n",
      "only showing top 30 rows\n",
      "\n"
     ]
    }
   ],
   "source": [
    "from pyspark.sql import functions as f\n",
    "from pyspark.sql.window import Window as w\n",
    "\n",
    "win_fun=items.join(products,items.order_item_product_id==products.product_id).\\\n",
    "        join(categories,products.product_category_id==categories.category_id).\\\n",
    "        groupBy(categories.category_name,products.product_name).\\\n",
    "        agg(f.max(items.order_item_product_price).alias(\"max_price\")).\\\n",
    "        sort(categories.category_name.asc(),f.desc(\"max_price\"))\n",
    "\n",
    "win_fun.select(\"category_name\",\"product_name\",\"max_price\",\\\n",
    "               f.ntile(2).over(w.partitionBy(\"category_name\").orderBy(f.desc(\"max_price\"))).alias(\"ntile\")).show(30)"
   ]
  },
  {
   "cell_type": "markdown",
   "metadata": {},
   "source": [
    "# row Number"
   ]
  },
  {
   "cell_type": "code",
   "execution_count": 76,
   "metadata": {},
   "outputs": [
    {
     "name": "stdout",
     "output_type": "stream",
     "text": [
      "+-------------------+--------------------+---------+----------+\n",
      "|      category_name|        product_name|max_price|row_number|\n",
      "+-------------------+--------------------+---------+----------+\n",
      "|   Men's Golf Clubs|Merrell Women's S...|   134.99|         1|\n",
      "|   Men's Golf Clubs|Merrell Women's G...|   129.99|         2|\n",
      "|   Men's Golf Clubs|Merrell Men's All...|   109.99|         3|\n",
      "|   Men's Golf Clubs|Merrell Women's G...|    99.99|         4|\n",
      "|   Camping & Hiking|Diamondback Women...|   299.98|         1|\n",
      "|Fitness Accessories|Bowflex SelectTec...|   599.99|         1|\n",
      "|Fitness Accessories|Under Armour Hust...|    34.99|         2|\n",
      "|         Golf Shoes|LIJA Women's Butt...|    108.0|         1|\n",
      "|         Golf Shoes|LIJA Women's Mid-...|    100.0|         2|\n",
      "|         Golf Shoes|LIJA Women's Argy...|     80.0|         3|\n",
      "|         Golf Shoes|LIJA Women's Eyel...|     65.0|         4|\n",
      "|         Basketball| SOLE E25 Elliptical|   999.99|         1|\n",
      "|         Basketball|Diamondback Girls...|   299.99|         2|\n",
      "|         Basketball|Diamondback Boys'...|   299.99|         3|\n",
      "|     Men's Footwear|Nike Men's CJ Eli...|   129.99|         1|\n",
      "|        Electronics|Titleist Pro V1 H...|    51.99|         1|\n",
      "|        Electronics|Titleist Pro V1x ...|    51.99|         2|\n",
      "|        Electronics|Titleist Pro V1x ...|    47.99|         3|\n",
      "|        Electronics|Titleist Pro V1x ...|    47.99|         4|\n",
      "|        Electronics|Under Armour Men'...|    44.99|         5|\n",
      "+-------------------+--------------------+---------+----------+\n",
      "only showing top 20 rows\n",
      "\n"
     ]
    }
   ],
   "source": [
    "from pyspark.sql import functions as f\n",
    "from pyspark.sql.window import Window as w\n",
    "\n",
    "win_fun=items.join(products,items.order_item_product_id==products.product_id).\\\n",
    "        join(categories,products.product_category_id==categories.category_id).\\\n",
    "        groupBy(categories.category_name,products.product_name).\\\n",
    "        agg(f.max(items.order_item_product_price).alias(\"max_price\")).\\\n",
    "        sort(categories.category_name.asc(),f.desc(\"max_price\"))\n",
    "\n",
    "win_fun.select(\"category_name\",\"product_name\",\"max_price\",\\\n",
    "               f.row_number().over(w.partitionBy(\"category_name\").orderBy(f.desc(\"max_price\"))).alias(\"row_number\")).show()"
   ]
  },
  {
   "cell_type": "markdown",
   "metadata": {},
   "source": [
    "# lead"
   ]
  },
  {
   "cell_type": "code",
   "execution_count": 77,
   "metadata": {},
   "outputs": [
    {
     "name": "stdout",
     "output_type": "stream",
     "text": [
      "+-------------------+--------------------+---------+------+\n",
      "|      category_name|        product_name|max_price|  lead|\n",
      "+-------------------+--------------------+---------+------+\n",
      "|   Men's Golf Clubs|Merrell Women's S...|   134.99|129.99|\n",
      "|   Men's Golf Clubs|Merrell Women's G...|   129.99|109.99|\n",
      "|   Men's Golf Clubs|Merrell Men's All...|   109.99| 99.99|\n",
      "|   Men's Golf Clubs|Merrell Women's G...|    99.99|  null|\n",
      "|   Camping & Hiking|Diamondback Women...|   299.98|  null|\n",
      "|Fitness Accessories|Bowflex SelectTec...|   599.99| 34.99|\n",
      "|Fitness Accessories|Under Armour Hust...|    34.99|  null|\n",
      "|         Golf Shoes|LIJA Women's Butt...|    108.0| 100.0|\n",
      "|         Golf Shoes|LIJA Women's Mid-...|    100.0|  80.0|\n",
      "|         Golf Shoes|LIJA Women's Argy...|     80.0|  65.0|\n",
      "|         Golf Shoes|LIJA Women's Eyel...|     65.0|  null|\n",
      "|         Basketball| SOLE E25 Elliptical|   999.99|299.99|\n",
      "|         Basketball|Diamondback Girls...|   299.99|299.99|\n",
      "|         Basketball|Diamondback Boys'...|   299.99|  null|\n",
      "|     Men's Footwear|Nike Men's CJ Eli...|   129.99|  null|\n",
      "|        Electronics|Titleist Pro V1 H...|    51.99| 51.99|\n",
      "|        Electronics|Titleist Pro V1x ...|    51.99| 47.99|\n",
      "|        Electronics|Titleist Pro V1x ...|    47.99| 47.99|\n",
      "|        Electronics|Titleist Pro V1x ...|    47.99| 44.99|\n",
      "|        Electronics|Under Armour Men'...|    44.99| 31.99|\n",
      "+-------------------+--------------------+---------+------+\n",
      "only showing top 20 rows\n",
      "\n"
     ]
    }
   ],
   "source": [
    "from pyspark.sql import functions as f\n",
    "from pyspark.sql.window import Window as w\n",
    "\n",
    "win_fun=items.join(products,items.order_item_product_id==products.product_id).\\\n",
    "        join(categories,products.product_category_id==categories.category_id).\\\n",
    "        groupBy(categories.category_name,products.product_name).\\\n",
    "        agg(f.max(items.order_item_product_price).alias(\"max_price\")).\\\n",
    "        sort(categories.category_name.asc(),f.desc(\"max_price\"))\n",
    "\n",
    "win_fun.select(\"category_name\",\"product_name\",\"max_price\",\\\n",
    "               f.lead(\"max_price\",1).over(w.partitionBy(\"category_name\").orderBy(f.desc(\"max_price\"))).alias(\"lead\")).show()"
   ]
  },
  {
   "cell_type": "markdown",
   "metadata": {},
   "source": [
    "# LAG "
   ]
  },
  {
   "cell_type": "code",
   "execution_count": 78,
   "metadata": {},
   "outputs": [
    {
     "name": "stdout",
     "output_type": "stream",
     "text": [
      "+-------------------+--------------------+---------+------+\n",
      "|      category_name|        product_name|max_price|   lag|\n",
      "+-------------------+--------------------+---------+------+\n",
      "|   Men's Golf Clubs|Merrell Women's S...|   134.99|  null|\n",
      "|   Men's Golf Clubs|Merrell Women's G...|   129.99|134.99|\n",
      "|   Men's Golf Clubs|Merrell Men's All...|   109.99|129.99|\n",
      "|   Men's Golf Clubs|Merrell Women's G...|    99.99|109.99|\n",
      "|   Camping & Hiking|Diamondback Women...|   299.98|  null|\n",
      "|Fitness Accessories|Bowflex SelectTec...|   599.99|  null|\n",
      "|Fitness Accessories|Under Armour Hust...|    34.99|599.99|\n",
      "|         Golf Shoes|LIJA Women's Butt...|    108.0|  null|\n",
      "|         Golf Shoes|LIJA Women's Mid-...|    100.0| 108.0|\n",
      "|         Golf Shoes|LIJA Women's Argy...|     80.0| 100.0|\n",
      "|         Golf Shoes|LIJA Women's Eyel...|     65.0|  80.0|\n",
      "|         Basketball| SOLE E25 Elliptical|   999.99|  null|\n",
      "|         Basketball|Diamondback Girls...|   299.99|999.99|\n",
      "|         Basketball|Diamondback Boys'...|   299.99|299.99|\n",
      "|     Men's Footwear|Nike Men's CJ Eli...|   129.99|  null|\n",
      "|        Electronics|Titleist Pro V1 H...|    51.99|  null|\n",
      "|        Electronics|Titleist Pro V1x ...|    51.99| 51.99|\n",
      "|        Electronics|Titleist Pro V1x ...|    47.99| 51.99|\n",
      "|        Electronics|Titleist Pro V1x ...|    47.99| 47.99|\n",
      "|        Electronics|Under Armour Men'...|    44.99| 47.99|\n",
      "+-------------------+--------------------+---------+------+\n",
      "only showing top 20 rows\n",
      "\n"
     ]
    }
   ],
   "source": [
    "from pyspark.sql import functions as f\n",
    "from pyspark.sql.window import Window as w\n",
    "\n",
    "win_fun=items.join(products,items.order_item_product_id==products.product_id).\\\n",
    "        join(categories,products.product_category_id==categories.category_id).\\\n",
    "        groupBy(categories.category_name,products.product_name).\\\n",
    "        agg(f.max(items.order_item_product_price).alias(\"max_price\")).\\\n",
    "        sort(categories.category_name.asc(),f.desc(\"max_price\"))\n",
    "\n",
    "win_fun.select(\"category_name\",\"product_name\",\"max_price\",\\\n",
    "               f.lag(\"max_price\",1).over(w.partitionBy(\"category_name\").orderBy(f.desc(\"max_price\"))).alias(\"lag\")).show()"
   ]
  },
  {
   "cell_type": "markdown",
   "metadata": {},
   "source": [
    "# cume distance"
   ]
  },
  {
   "cell_type": "code",
   "execution_count": 79,
   "metadata": {},
   "outputs": [
    {
     "name": "stdout",
     "output_type": "stream",
     "text": [
      "+-------------------+--------------------+---------+-------------------+\n",
      "|      category_name|        product_name|max_price|          cume_dist|\n",
      "+-------------------+--------------------+---------+-------------------+\n",
      "|   Men's Golf Clubs|Merrell Women's S...|   134.99|               0.25|\n",
      "|   Men's Golf Clubs|Merrell Women's G...|   129.99|                0.5|\n",
      "|   Men's Golf Clubs|Merrell Men's All...|   109.99|               0.75|\n",
      "|   Men's Golf Clubs|Merrell Women's G...|    99.99|                1.0|\n",
      "|   Camping & Hiking|Diamondback Women...|   299.98|                1.0|\n",
      "|Fitness Accessories|Bowflex SelectTec...|   599.99|                0.5|\n",
      "|Fitness Accessories|Under Armour Hust...|    34.99|                1.0|\n",
      "|         Golf Shoes|LIJA Women's Butt...|    108.0|               0.25|\n",
      "|         Golf Shoes|LIJA Women's Mid-...|    100.0|                0.5|\n",
      "|         Golf Shoes|LIJA Women's Argy...|     80.0|               0.75|\n",
      "|         Golf Shoes|LIJA Women's Eyel...|     65.0|                1.0|\n",
      "|         Basketball| SOLE E25 Elliptical|   999.99| 0.3333333333333333|\n",
      "|         Basketball|Diamondback Girls...|   299.99|                1.0|\n",
      "|         Basketball|Diamondback Boys'...|   299.99|                1.0|\n",
      "|     Men's Footwear|Nike Men's CJ Eli...|   129.99|                1.0|\n",
      "|        Electronics|Titleist Pro V1 H...|    51.99|0.18181818181818182|\n",
      "|        Electronics|Titleist Pro V1x ...|    51.99|0.18181818181818182|\n",
      "|        Electronics|Titleist Pro V1x ...|    47.99|0.36363636363636365|\n",
      "|        Electronics|Titleist Pro V1x ...|    47.99|0.36363636363636365|\n",
      "|        Electronics|Under Armour Men'...|    44.99|0.45454545454545453|\n",
      "+-------------------+--------------------+---------+-------------------+\n",
      "only showing top 20 rows\n",
      "\n"
     ]
    }
   ],
   "source": [
    "from pyspark.sql import functions as f\n",
    "from pyspark.sql.window import Window as w\n",
    "\n",
    "win_fun=items.join(products,items.order_item_product_id==products.product_id).\\\n",
    "        join(categories,products.product_category_id==categories.category_id).\\\n",
    "        groupBy(categories.category_name,products.product_name).\\\n",
    "        agg(f.max(items.order_item_product_price).alias(\"max_price\")).\\\n",
    "        sort(categories.category_name.asc(),f.desc(\"max_price\"))\n",
    "        \n",
    "win_fun.select(\"category_name\",\"product_name\",\"max_price\",\\\n",
    "               f.cume_dist().over(w.partitionBy(\"category_name\").orderBy(f.desc(\"max_price\"))).alias(\"cume_dist\")).show()"
   ]
  }
 ],
 "metadata": {
  "kernelspec": {
   "display_name": "Python 3",
   "language": "python",
   "name": "python3"
  },
  "language_info": {
   "codemirror_mode": {
    "name": "ipython",
    "version": 3
   },
   "file_extension": ".py",
   "mimetype": "text/x-python",
   "name": "python",
   "nbconvert_exporter": "python",
   "pygments_lexer": "ipython3",
   "version": "3.6.4"
  }
 },
 "nbformat": 4,
 "nbformat_minor": 2
}
