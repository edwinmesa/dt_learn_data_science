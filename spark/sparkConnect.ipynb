{
 "cells": [
  {
   "cell_type": "code",
   "execution_count": 1,
   "metadata": {},
   "outputs": [],
   "source": [
    "# Import Libraries Spark\n",
    "from pyspark.sql import SparkSession\n",
    "from pyspark.sql.functions import *\n",
    "from pyspark.sql import functions as sf, Window as w\n",
    "from pyspark.sql.functions import udf\n",
    "from collections import Counter\n",
    "from pyspark.sql.functions import concat, col, lit, concat_ws, row_number\n",
    "from pyspark.sql.functions import explode, explode_outer, split, length, trim, mean, min, max\n",
    "from pyspark.sql.types import StructField, DecimalType, StringType, IntegerType, DoubleType, FloatType, DateType, TimestampType\n",
    "from pyspark import StorageLevel"
   ]
  },
  {
   "cell_type": "code",
   "execution_count": null,
   "metadata": {},
   "outputs": [],
   "source": [
    "# Create Spark Session\n",
    "spark = SparkSession.builder.master(\n",
    "    \"local[*]\").appName(\"clasificationAllDataScrap\").config('spark.sql.debug.maxToStringFields', 2000).getOrCreate()"
   ]
  }
 ],
 "metadata": {
  "kernelspec": {
   "display_name": "envSpark",
   "language": "python",
   "name": "python3"
  },
  "language_info": {
   "codemirror_mode": {
    "name": "ipython",
    "version": 3
   },
   "file_extension": ".py",
   "mimetype": "text/x-python",
   "name": "python",
   "nbconvert_exporter": "python",
   "pygments_lexer": "ipython3",
   "version": "3.8.10 (default, Nov 14 2022, 12:59:47) \n[GCC 9.4.0]"
  },
  "orig_nbformat": 4,
  "vscode": {
   "interpreter": {
    "hash": "7b084bd5d932fbe9640f9116fd74048650a204a045aa4757b00e4e8784d9ce36"
   }
  }
 },
 "nbformat": 4,
 "nbformat_minor": 2
}
