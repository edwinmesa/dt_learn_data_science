{
 "cells": [
  {
   "cell_type": "code",
   "execution_count": 16,
   "metadata": {},
   "outputs": [
    {
     "data": {
      "text/plain": [
       "False"
      ]
     },
     "execution_count": 16,
     "metadata": {},
     "output_type": "execute_result"
    }
   ],
   "source": [
    "# Given the string, check if it is a palindrome.\n",
    "\n",
    "# For inputString = \"aabaa\", the output should be\n",
    "# solution(inputString) = true;\n",
    "# For inputString = \"abac\", the output should be\n",
    "# solution(inputString) = false;\n",
    "# For inputString = \"a\", the output should be\n",
    "# solution(inputString) = true.\n",
    "\n",
    "# def solution(inputString):\n",
    "#     for i in range(0, int(len(inputString)/2)):\n",
    "#         if inputString[i] != inputString[len(inputString)-i-1]:\n",
    "#             return False\n",
    "#     return True    \n",
    "# solution(inputString)\n",
    "\n",
    "inputString = \"az\"\n",
    "def solution1(inputString):\n",
    "    if inputString == inputString[::-1]:\n",
    "        return True\n",
    "    else:\n",
    "        return False\n",
    "solution1(inputString)"
   ]
  },
  {
   "cell_type": "code",
   "execution_count": 18,
   "metadata": {},
   "outputs": [
    {
     "data": {
      "text/plain": [
       "18"
      ]
     },
     "execution_count": 18,
     "metadata": {},
     "output_type": "execute_result"
    }
   ],
   "source": [
    "# Given an array of integers, find the pair of adjacent \n",
    "# elements that has the largest product and return that product.\n",
    "# For inputArray = [3, 6, -2, -5, 7, 3], the output should be\n",
    "# solution(inputArray) = 21.\n",
    "\n",
    "# def solution(inputArray):\n",
    "#     list = []\n",
    "#     for i in range(1, len(inputArray)): # list the len from position 1 that is to say 6 i: 1,2,3,4,5\n",
    "#         # print(i)\n",
    "#         # print(inputArray[i]) # 6,-2,-5,7,3\n",
    "#         # print(inputArray[i-1]) # 3,6,-2,-5,7\n",
    "#         list.append(inputArray[i] * inputArray[i-1]) # first 6*3, second-2*6, third -5*-2, four 7*-5, 3*7\n",
    "#     return max(list)\n",
    "\n",
    "inputArray = [3, 6, -2, -5, 7, 3]\n",
    "# solution(inputArray)\n",
    "\n",
    "# best solution\n",
    "\n",
    "def solution1(inputArray):\n",
    "    return max([inputArray[i] * inputArray[i-1] for i in range(len(inputArray)-1)])\n",
    "\n",
    "solution1(inputArray)"
   ]
  },
  {
   "cell_type": "code",
   "execution_count": 23,
   "metadata": {},
   "outputs": [
    {
     "name": "stdout",
     "output_type": "stream",
     "text": [
      "13\n"
     ]
    }
   ],
   "source": [
    "# Below we will define an n-interesting polygon. Your task is to find the area of a polygon for a given n.\n",
    "\n",
    "# A 1-interesting polygon is just a square with a side of length 1. An n-interesting polygon is obtained by\n",
    "#  taking the n - 1-interesting polygon and appending 1-interesting polygons to its rim, side by side.\n",
    "#  You can see the 1-, 2-, 3- and 4-interesting polygons in the picture below.\n",
    "\n",
    "def solution(n):\n",
    "    if n == 1:\n",
    "        return 1\n",
    "    return n**2 + (n-1) ** 2\n",
    "\n",
    "# solution(2)\n",
    "n = 2\n",
    "print(n**2 + (n-1) ** 2) # when is 3:  9 + (3-1 ** 2) =  13 / when is 2: 4 + (2-1) ** 2 = 5"
   ]
  },
  {
   "cell_type": "code",
   "execution_count": 74,
   "metadata": {},
   "outputs": [
    {
     "data": {
      "text/plain": [
       "3"
      ]
     },
     "execution_count": 74,
     "metadata": {},
     "output_type": "execute_result"
    }
   ],
   "source": [
    "# Ratiorg got statues of different sizes as a present from CodeMaster for his birthday, \n",
    "# each statue having an non-negative integer size. Since he likes to make things perfect,\n",
    "# he wants to arrange them from smallest to largest so that each statue will be bigger \n",
    "# than the previous one exactly by 1. He may need some additional statues to be able to \n",
    "# accomplish that. Help him figure out the minimum number of additional statues needed.\n",
    "\n",
    "# For statues = [6, 2, 3, 8], the output should be\n",
    "# solution(statues) = 3.\n",
    "\n",
    "statues = [6, 2, 3, 8]\n",
    "\n",
    "# def solution(statues):\n",
    "#     statues.sort() # 2,3,6,8\n",
    "#     c = 0\n",
    "#     for i in range(len(statues)-1): # from 3\n",
    "#         if statues[i+1] - statues[i] > 1: # 3,6,8 - 2,3,6\n",
    "#             # print(statues[i+1]) # 6,8 - 2,5\n",
    "#             # print(statues[i] -1) # 6,8 - 2,5\n",
    "#             c += statues[i+1] - statues[i] -1 # 6,8 - 2,5\n",
    "#     return c\n",
    "\n",
    "# solution(statues)\n",
    "\n",
    "# def solution1(statues):\n",
    "#     statues.sort() # 2,3,6,8\n",
    "#     if len(statues) > 1:\n",
    "#         diff_statues = [y-x for x, y in zip(statues[:-1], statues[1:])]\n",
    "#         print(list(zip(statues[:-1], statues[1:])))\n",
    "#         print(diff_statues)\n",
    "#         return sum(i-1 for i in diff_statues)\n",
    "#     else:\n",
    "#         return 0\n",
    "\n",
    "# solution1(statues)\n",
    "\n",
    "def solution2(statues):\n",
    "    return max(statues) - min(statues) - len(statues) +1\n",
    "\n",
    "solution2(statues)"
   ]
  },
  {
   "cell_type": "code",
   "execution_count": 104,
   "metadata": {},
   "outputs": [
    {
     "name": "stdout",
     "output_type": "stream",
     "text": [
      "[1, 2]\n"
     ]
    },
    {
     "data": {
      "text/plain": [
       "True"
      ]
     },
     "execution_count": 104,
     "metadata": {},
     "output_type": "execute_result"
    }
   ],
   "source": [
    "# Given a sequence of integers as an array, determine \n",
    "# whether it is possible to obtain a strictly increasing sequence by\n",
    "# removing no more than one element from the array.\n",
    "\n",
    "# Note: sequence a0, a1, ..., an is considered to be a strictly\n",
    "# increasing if a0 < a1 < ... < an. Sequence containing only one element \n",
    "# is also considered to be strictly increasing.\n",
    "\n",
    "# For sequence = [1, 3, 2, 1], the output should be\n",
    "# solution(sequence) = false.\n",
    "\n",
    "# There is no one element in this array that can be removed in \n",
    "# order to get a strictly increasing sequence.\n",
    "\n",
    "# For sequence = [1, 3, 2], the output should be\n",
    "# solution(sequence) = true.\n",
    "\n",
    "def solution(sequence):\n",
    "    if len(sequence) > 2:\n",
    "        for i in range(len(sequence)-1):\n",
    "            if sequence[i]>sequence[i+1]:\n",
    "                news = sequence[:i]+sequence[i+1:]\n",
    "                if news == sorted(news) and len(set(news)) == len(news):\n",
    "                    return True\n",
    "                else:\n",
    "                    news = sequence[:i+1]+sequence[i+2:]\n",
    "                    if news == sorted(news) and len(set(news)) == len(news):\n",
    "                        return True\n",
    "        return False\n",
    "    else:\n",
    "        return True\n",
    "                \n",
    "sequence  = [1, 3, 2, 1]\n",
    "sequence1 = [1, 3, 2]\n",
    "# statues =  [6, 2, 3, 8]\n",
    "solution(sequence1)"
   ]
  }
 ],
 "metadata": {
  "kernelspec": {
   "display_name": "envSpark",
   "language": "python",
   "name": "python3"
  },
  "language_info": {
   "codemirror_mode": {
    "name": "ipython",
    "version": 3
   },
   "file_extension": ".py",
   "mimetype": "text/x-python",
   "name": "python",
   "nbconvert_exporter": "python",
   "pygments_lexer": "ipython3",
   "version": "3.8.10"
  },
  "orig_nbformat": 4
 },
 "nbformat": 4,
 "nbformat_minor": 2
}
