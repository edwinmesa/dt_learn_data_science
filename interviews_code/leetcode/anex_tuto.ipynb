{
 "cells": [
  {
   "cell_type": "code",
   "execution_count": 26,
   "metadata": {},
   "outputs": [],
   "source": [
    "# rolling means\n",
    "import numpy as np\n",
    "from time import time"
   ]
  },
  {
   "cell_type": "code",
   "execution_count": 27,
   "metadata": {},
   "outputs": [],
   "source": [
    "large_list_of_numbers = [np.random.rand() for _ in range(20000)]"
   ]
  },
  {
   "cell_type": "code",
   "execution_count": 28,
   "metadata": {},
   "outputs": [
    {
     "name": "stdout",
     "output_type": "stream",
     "text": [
      "Time taken for the second method:  5.04561448097229 seconds\n"
     ]
    }
   ],
   "source": [
    "start_time      = time()\n",
    "rolling_means_1 = []\n",
    "\n",
    "for k in range(1, len(large_list_of_numbers)+1):\n",
    "    r = np.mean(large_list_of_numbers[:k])\n",
    "    rolling_means_1.append(r)\n",
    "\n",
    "time1 = time() - start_time\n",
    "print(\"Time taken for the second method: \", (time1), \"seconds\")"
   ]
  },
  {
   "cell_type": "code",
   "execution_count": 29,
   "metadata": {},
   "outputs": [
    {
     "name": "stdout",
     "output_type": "stream",
     "text": [
      "Time taken for the second method:  0.002953767776489258 seconds\n"
     ]
    }
   ],
   "source": [
    "start_time = time()\n",
    "\n",
    "rolling_means_2 = [large_list_of_numbers[0]]\n",
    "\n",
    "for k in range(1, len(large_list_of_numbers)):\n",
    "    r = (k * rolling_means_2[-1] + large_list_of_numbers[k]) / (k + 1)\n",
    "    rolling_means_2.append(r)\n",
    "\n",
    "time2 = time() - start_time\n",
    "print(\"Time taken for the second method: \", (time2), \"seconds\")"
   ]
  },
  {
   "cell_type": "code",
   "execution_count": 30,
   "metadata": {},
   "outputs": [
    {
     "data": {
      "text/plain": [
       "8.756190217340531e-16"
      ]
     },
     "execution_count": 30,
     "metadata": {},
     "output_type": "execute_result"
    }
   ],
   "source": [
    "np.mean([abs(r1-r2) for r1, r2 in zip(rolling_means_1, rolling_means_2)])"
   ]
  },
  {
   "cell_type": "code",
   "execution_count": 31,
   "metadata": {},
   "outputs": [
    {
     "data": {
      "text/plain": [
       "(20000, 20000)"
      ]
     },
     "execution_count": 31,
     "metadata": {},
     "output_type": "execute_result"
    }
   ],
   "source": [
    "len(rolling_means_1), len(rolling_means_2)"
   ]
  },
  {
   "cell_type": "code",
   "execution_count": 32,
   "metadata": {},
   "outputs": [
    {
     "data": {
      "text/plain": [
       "([0.013157800984790469,\n",
       "  0.21066492780169116,\n",
       "  0.3295450105082806,\n",
       "  0.4311933582784863,\n",
       "  0.46646196041618737],\n",
       " [0.013157800984790469,\n",
       "  0.21066492780169116,\n",
       "  0.3295450105082806,\n",
       "  0.4311933582784863,\n",
       "  0.46646196041618737])"
      ]
     },
     "execution_count": 32,
     "metadata": {},
     "output_type": "execute_result"
    }
   ],
   "source": [
    "rolling_means_1[:5], rolling_means_2[:5]"
   ]
  },
  {
   "cell_type": "code",
   "execution_count": 34,
   "metadata": {},
   "outputs": [
    {
     "name": "stdout",
     "output_type": "stream",
     "text": [
      "3\n",
      "2\n",
      "1\n"
     ]
    }
   ],
   "source": [
    "# recursive and decorator Python\n",
    "\n",
    "def count_down(start):\n",
    "    print(start)\n",
    "\n",
    "    next = start - 1\n",
    "    if next > 0:\n",
    "        count_down(next)\n",
    "\n",
    "count_down(3)"
   ]
  },
  {
   "cell_type": "code",
   "execution_count": 38,
   "metadata": {},
   "outputs": [
    {
     "name": "stdout",
     "output_type": "stream",
     "text": [
      "The result is:  5050\n"
     ]
    }
   ],
   "source": [
    "def sum(n):\n",
    "    total = 0\n",
    "    for index in range( n + 1):\n",
    "        total += index\n",
    "    \n",
    "    return total\n",
    "\n",
    "res = sum(100)\n",
    "print(\"The result is: \", res )"
   ]
  },
  {
   "cell_type": "code",
   "execution_count": 39,
   "metadata": {},
   "outputs": [
    {
     "name": "stdout",
     "output_type": "stream",
     "text": [
      "The result is:  5050\n"
     ]
    }
   ],
   "source": [
    "def sum(n):\n",
    "    if n > 0:\n",
    "        return n + sum(n -1)\n",
    "    return 0\n",
    "\n",
    "res = sum(100)\n",
    "print(\"The result is: \", res )"
   ]
  },
  {
   "cell_type": "code",
   "execution_count": 40,
   "metadata": {},
   "outputs": [
    {
     "name": "stdout",
     "output_type": "stream",
     "text": [
      "5\n",
      "4\n",
      "3\n",
      "2\n",
      "1\n",
      "0\n"
     ]
    }
   ],
   "source": [
    "def countdown(n):\n",
    "    print(n)\n",
    "    if n == 0:\n",
    "        return\n",
    "    else:\n",
    "        countdown(n-1)\n",
    "\n",
    "countdown(5)"
   ]
  },
  {
   "cell_type": "code",
   "execution_count": 42,
   "metadata": {},
   "outputs": [
    {
     "name": "stdout",
     "output_type": "stream",
     "text": [
      "factorial() called with n = 5\n",
      "factorial() called with n = 4\n",
      "factorial() called with n = 3\n",
      "factorial() called with n = 2\n",
      "factorial() called with n = 1\n",
      "-> factorial(1) returns 1\n",
      "-> factorial(2) returns 2\n",
      "-> factorial(3) returns 6\n",
      "-> factorial(4) returns 24\n",
      "-> factorial(5) returns 120\n"
     ]
    },
    {
     "data": {
      "text/plain": [
       "120"
      ]
     },
     "execution_count": 42,
     "metadata": {},
     "output_type": "execute_result"
    }
   ],
   "source": [
    "def factorial(n):\n",
    "    print(f\"factorial() called with n = {n}\")\n",
    "    return_value =  1 if n <= 1 else n * factorial(n - 1)\n",
    "    print(f\"-> factorial({n}) returns {return_value}\")\n",
    "    return return_value\n",
    "\n",
    "factorial(5)"
   ]
  },
  {
   "cell_type": "code",
   "execution_count": 44,
   "metadata": {},
   "outputs": [
    {
     "data": {
      "text/plain": [
       "24"
      ]
     },
     "execution_count": 44,
     "metadata": {},
     "output_type": "execute_result"
    }
   ],
   "source": [
    "def factorial(n):\n",
    "    return_value = 1\n",
    "    for i in range(2, n + 1):\n",
    "        return_value *= i\n",
    "    return return_value \n",
    "\n",
    "factorial(4)"
   ]
  },
  {
   "cell_type": "code",
   "execution_count": 47,
   "metadata": {},
   "outputs": [
    {
     "data": {
      "text/plain": [
       "24"
      ]
     },
     "execution_count": 47,
     "metadata": {},
     "output_type": "execute_result"
    }
   ],
   "source": [
    "from functools import reduce\n",
    "def factorial(n):\n",
    "    return reduce(lambda x, y : x * y, range(1, n + 1) or [1])\n",
    "\n",
    "factorial(4)"
   ]
  },
  {
   "cell_type": "code",
   "execution_count": 54,
   "metadata": {},
   "outputs": [
    {
     "name": "stdout",
     "output_type": "stream",
     "text": [
      "J =  0\n",
      "J =  0\n",
      "J =  1\n"
     ]
    }
   ],
   "source": [
    "for i in range(1, 3):\n",
    "    # print('I =', i) # 1, 2\n",
    "    for j in range(i): # iterate over each position\n",
    "        print('J = ', j)"
   ]
  }
 ],
 "metadata": {
  "kernelspec": {
   "display_name": "envSpark",
   "language": "python",
   "name": "python3"
  },
  "language_info": {
   "codemirror_mode": {
    "name": "ipython",
    "version": 3
   },
   "file_extension": ".py",
   "mimetype": "text/x-python",
   "name": "python",
   "nbconvert_exporter": "python",
   "pygments_lexer": "ipython3",
   "version": "3.8.10"
  },
  "orig_nbformat": 4
 },
 "nbformat": 4,
 "nbformat_minor": 2
}
