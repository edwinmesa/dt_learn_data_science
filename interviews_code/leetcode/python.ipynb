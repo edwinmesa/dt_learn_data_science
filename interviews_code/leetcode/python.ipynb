{
 "cells": [
  {
   "cell_type": "code",
   "execution_count": 2,
   "metadata": {},
   "outputs": [
    {
     "data": {
      "text/plain": [
       "[0, 1]"
      ]
     },
     "execution_count": 2,
     "metadata": {},
     "output_type": "execute_result"
    }
   ],
   "source": [
    "# 1. Two Sum\n",
    "\n",
    "# Given an array of integers nums and an integer target, return indices of the two numbers such that they add up to target.\n",
    "# You may assume that each input would have exactly one solution, and you may not use the same element twice.\n",
    "# You can return the answer in any order.\n",
    "\n",
    "# Input: nums = [2,7,11,15], target = 9\n",
    "# Output: [0,1]\n",
    "# Explanation: Because nums[0] + nums[1] == 9, we return [0, 1].\n",
    "from typing import List\n",
    "\n",
    "\n",
    "class Solution:\n",
    "    def twoSum(self, nums: List[int], target: int) -> List[int]:\n",
    "        for i in range(len(nums)):\n",
    "            for j in range(i + 1, len(nums)):\n",
    "                if (nums[i] + nums[j]) == target:\n",
    "                    return [i, j]\n",
    "\n",
    "\n",
    "nums = [2, 7, 11, 15]\n",
    "target = 9\n",
    "s = Solution()\n",
    "s.twoSum(nums, target)"
   ]
  },
  {
   "cell_type": "code",
   "execution_count": 3,
   "metadata": {},
   "outputs": [
    {
     "data": {
      "text/plain": [
       "True"
      ]
     },
     "execution_count": 3,
     "metadata": {},
     "output_type": "execute_result"
    }
   ],
   "source": [
    "# 9. Palindrome Number\n",
    "\n",
    "\n",
    "# Given an integer x, return true if x is a palindrome, and false otherwise.\n",
    "class Solution:\n",
    "    def isPalindrome(self, x: int) -> bool:\n",
    "        if str(x) == str(x)[::-1]:\n",
    "            return True\n",
    "        else:\n",
    "            return False\n",
    "\n",
    "\n",
    "sa = 121\n",
    "s = Solution()\n",
    "s.isPalindrome(sa)"
   ]
  },
  {
   "cell_type": "code",
   "execution_count": 4,
   "metadata": {},
   "outputs": [
    {
     "data": {
      "text/plain": [
       "[1, 2]"
      ]
     },
     "execution_count": 4,
     "metadata": {},
     "output_type": "execute_result"
    }
   ],
   "source": [
    "# Review Two SUM\n",
    "# Given an array of integers nums and an integer target, return indices of the two numbers such that they add up to target.\n",
    "# You may assume that each input would have exactly one solution, and you may not use the same element twice.\n",
    "# You can return the answer in any order.\n",
    "# Input: nums = [2,7,11,15], target = 9\n",
    "# Output: [0,1]\n",
    "\n",
    "\n",
    "class Solution:\n",
    "    def twoSumNumbers(self, nums: List[int], target: int) -> List[int]:\n",
    "        for i in range(len(nums)):\n",
    "            for j in range(i + 1, len(nums)):\n",
    "                if (nums[i] + nums[j]) == target:\n",
    "                    return [i, j]\n",
    "\n",
    "\n",
    "nums = [2, 7, 11, 15]\n",
    "target = 18\n",
    "c = Solution()\n",
    "c.twoSumNumbers(nums, target)"
   ]
  },
  {
   "cell_type": "code",
   "execution_count": 5,
   "metadata": {},
   "outputs": [
    {
     "data": {
      "text/plain": [
       "1994"
      ]
     },
     "execution_count": 5,
     "metadata": {},
     "output_type": "execute_result"
    }
   ],
   "source": [
    "# 13. Roman to Integer\n",
    "# Roman numerals are represented by seven different symbols: I, V, X, L, C, D and M.\n",
    "\n",
    "# Symbol       Value\n",
    "# I             1\n",
    "# V             5\n",
    "# X             10\n",
    "# L             50\n",
    "# C             100\n",
    "# D             500\n",
    "# M             1000\n",
    "\n",
    "# For example, 2 is written as II in Roman numeral, just two ones added together. 12 is written as XII,\n",
    "# which is simply X + II. The number 27 is written as XXVII, which is XX + V + II.\n",
    "\n",
    "\n",
    "class Solution:\n",
    "    def romanToInt(self, s: str) -> int:\n",
    "        roman_to_integer = {\n",
    "            \"I\": 1,\n",
    "            \"V\": 5,\n",
    "            \"X\": 10,\n",
    "            \"L\": 50,\n",
    "            \"C\": 100,\n",
    "            \"D\": 500,\n",
    "            \"M\": 1000,\n",
    "        }\n",
    "\n",
    "        s = (\n",
    "            s.replace(\"IV\", \"IIII\")\n",
    "            .replace(\"IX\", \"VIIII\")\n",
    "            .replace(\"XL\", \"XXXX\")\n",
    "            .replace(\"XC\", \"LXXXX\")\n",
    "            .replace(\"CD\", \"CCCC\")\n",
    "            .replace(\"CM\", \"DCCCC\")\n",
    "        )\n",
    "        return sum(map(lambda x: roman_to_integer[x], s))\n",
    "    \n",
    "s = \"MCMXCIV\"\n",
    "x = Solution()\n",
    "x.romanToInt(s)"
   ]
  },
  {
   "cell_type": "code",
   "execution_count": 6,
   "metadata": {},
   "outputs": [
    {
     "data": {
      "text/plain": [
       "'fl'"
      ]
     },
     "execution_count": 6,
     "metadata": {},
     "output_type": "execute_result"
    }
   ],
   "source": [
    "# 14. Longest Common Prefix\n",
    "\n",
    "# Write a function to find the longest common prefix string amongst an array of strings.\n",
    "# If there is no common prefix, return an empty string \n",
    "\n",
    "class Solution:\n",
    "    def longestCommonPrefix(self, strs: List[str]) -> str:\n",
    "        if not strs: # check if is null\n",
    "            return \"\"\n",
    "        shortest = min(strs, key=len) # find the shortest word: flow\n",
    "        for i, char in enumerate(shortest): # 0-f, 1-l, 2-o, 3-w\n",
    "            for other in strs:\n",
    "                if other[i] != char:\n",
    "                    return shortest[:i]\n",
    "        return shortest\n",
    "\n",
    "strs = [\"flower\",\"flow\",\"flight\"]\n",
    "z = Solution()\n",
    "# z.longestCommonPrefix(strs)\n",
    "\n",
    "\n",
    "class Solution1:\n",
    "    def longestCommonPrefix(self, strs: List[str]) -> str:\n",
    "        ans   = ''\n",
    "        v     = sorted(strs) # order the words\n",
    "        first = v[0]  # flight\n",
    "        last  = v[-1] # flower\n",
    "        # result = min(len(x) for x in first)\n",
    "        for i in range(min(len(first), len(last))): # 1, 6\n",
    "            if(first[i] != last[i]): #fl, fl\n",
    "                return ans           # flo, flo, fli \n",
    "            ans += first[i]          # f,f,f -> l,l,l\n",
    "        return ans\n",
    "        \n",
    "y = Solution1()\n",
    "y.longestCommonPrefix(strs)"
   ]
  },
  {
   "cell_type": "code",
   "execution_count": 7,
   "metadata": {},
   "outputs": [
    {
     "data": {
      "text/plain": [
       "False"
      ]
     },
     "execution_count": 7,
     "metadata": {},
     "output_type": "execute_result"
    }
   ],
   "source": [
    "# 20. Valid Parentheses\n",
    "# Given a string s containing just the characters '(', ')', '{', '}', '[' and ']', determine if the input string is valid.\n",
    "# An input string is valid if:\n",
    "# Open brackets must be closed by the same type of brackets.\n",
    "# Open brackets must be closed in the correct order.\n",
    "# Every close bracket has a corresponding open bracket of the same type.\n",
    "\n",
    "# Input: s = \"()[]{}\"\n",
    "# Output: true\n",
    "\n",
    "class Solution:\n",
    "    def isValid(self, s: str) -> bool:\n",
    "        stack = []\n",
    "        for char in s:\n",
    "            if char == '(' or char == '{' or char == '[':\n",
    "                stack.append(char)\n",
    "            else:\n",
    "                if not stack:\n",
    "                    return False\n",
    "                if char == ')'   and stack[-1] == '(':\n",
    "                    stack.pop()\n",
    "                elif char == '}' and stack[-1] == '{':\n",
    "                    stack.pop()\n",
    "                elif char == ']' and stack[-1] == '[':\n",
    "                    stack.pop()\n",
    "                else:\n",
    "                    return False\n",
    "        return not stack\n",
    "\n",
    "s = \"(})\"\n",
    "f = Solution()\n",
    "f.isValid(s)"
   ]
  },
  {
   "cell_type": "code",
   "execution_count": 14,
   "metadata": {},
   "outputs": [
    {
     "data": {
      "text/plain": [
       "5"
      ]
     },
     "execution_count": 14,
     "metadata": {},
     "output_type": "execute_result"
    }
   ],
   "source": [
    "# 26. Remove Duplicates from Sorted Array\n",
    "\n",
    "# Given an integer array nums sorted in non-decreasing order, remove the duplicates\n",
    "# in-place such that each unique element appears only once. The relative order of the elements\n",
    "# should be kept the same. Then return the number of unique elements in nums.\n",
    "# Input: nums = [1,1,2]\n",
    "# Output: 2, nums = [1,2,_]\n",
    "# Explanation: Your function should return k = 2, with the first two elements of nums being 1 and 2 respectively.\n",
    "# It does not matter what you leave beyond the returned k (hence they are underscores).\n",
    "\n",
    "class Solution:\n",
    "    def removeDuplicates(self, nums: List[int]) -> int:\n",
    "        i = 0\n",
    "        for j in range(1, len(nums)):\n",
    "            if nums[i] != nums[j]:\n",
    "                i += 1\n",
    "                nums[i] = nums[j]\n",
    "        return i + 1\n",
    "\n",
    "# nums = [1,1,2]\n",
    "nums = [0,0,1,1,1,2,2,3,3,4]\n",
    "h = Solution()\n",
    "h.removeDuplicates(nums)"
   ]
  },
  {
   "cell_type": "code",
   "execution_count": null,
   "metadata": {},
   "outputs": [],
   "source": []
  }
 ],
 "metadata": {
  "kernelspec": {
   "display_name": "envSpark",
   "language": "python",
   "name": "python3"
  },
  "language_info": {
   "codemirror_mode": {
    "name": "ipython",
    "version": 3
   },
   "file_extension": ".py",
   "mimetype": "text/x-python",
   "name": "python",
   "nbconvert_exporter": "python",
   "pygments_lexer": "ipython3",
   "version": "3.8.10"
  },
  "orig_nbformat": 4
 },
 "nbformat": 4,
 "nbformat_minor": 2
}
