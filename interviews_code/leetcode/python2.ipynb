{
 "cells": [
  {
   "cell_type": "code",
   "execution_count": 112,
   "metadata": {},
   "outputs": [
    {
     "data": {
      "text/plain": [
       "[0, 2]"
      ]
     },
     "execution_count": 112,
     "metadata": {},
     "output_type": "execute_result"
    }
   ],
   "source": [
    "# 1. Two Sum\n",
    "\n",
    "# Given an array of integers nums and an integer target, return indices of the two numbers such that they add up to target.\n",
    "# You may assume that each input would have exactly one solution, and you may not use the same element twice.\n",
    "# You can return the answer in any order.\n",
    "\n",
    "# Input:\n",
    "nums = [2, 7, 11, 15]\n",
    "target = 13\n",
    "\n",
    "# Output: [0,1]\n",
    "# Explanation: Because nums[0] + nums[1] == 9, we return [0, 1]\n",
    "from typing import List\n",
    "\n",
    "\n",
    "class Solution:\n",
    "    def twoSum(self, nums: List[int], target: int) -> List[int]:\n",
    "        n = len(nums)  # 4 elems\n",
    "        for i in range(n - 1):  # exterior bucle\n",
    "            for j in range(i + 1, n):  # interior bucle\n",
    "                if nums[i] + nums[j] == target:  # solution good\n",
    "                    return [i, j]\n",
    "        return []\n",
    "\n",
    "\n",
    "c = Solution()\n",
    "c.twoSum(nums, target)\n",
    "\n",
    "# Esto se puede hacer usando bucles anidados, donde el bucle exterior\n",
    "# itera desde el primer elemento hasta el penúltimo elemento, y el bucle interior\n",
    "# itera desde el siguiente elemento hasta el último elemento"
   ]
  },
  {
   "cell_type": "code",
   "execution_count": 113,
   "metadata": {},
   "outputs": [
    {
     "data": {
      "text/plain": [
       "[0, 1]"
      ]
     },
     "execution_count": 113,
     "metadata": {},
     "output_type": "execute_result"
    }
   ],
   "source": [
    "# only coding\n",
    "nums = [2, 7, 11, 15]\n",
    "target = 9\n",
    "\n",
    "\n",
    "class Solution:\n",
    "    def twoSum(self, nums: List[int], target: int) -> List[int]:\n",
    "        n = len(nums)\n",
    "\n",
    "        for i in range(n - 1):\n",
    "            for j in range(i + 1, n):\n",
    "                if nums[i] + nums[j] == target:\n",
    "                    return [i, j]\n",
    "        return []\n",
    "\n",
    "\n",
    "c1 = Solution()\n",
    "c1.twoSum(nums, target)"
   ]
  },
  {
   "cell_type": "code",
   "execution_count": 114,
   "metadata": {},
   "outputs": [
    {
     "data": {
      "text/plain": [
       "True"
      ]
     },
     "execution_count": 114,
     "metadata": {},
     "output_type": "execute_result"
    }
   ],
   "source": [
    "# 9. Palindrome Number\n",
    "# Given an integer x, return true if x is a  palindrome, and false otherwise.\n",
    "# Input:\n",
    "x = 1211203\n",
    "\n",
    "\n",
    "# Output: true\n",
    "# Explanation: 121 reads as 121 from left to right and from right to left.\n",
    "class Solution:\n",
    "    def isPalindrome(self, x: int) -> bool:\n",
    "        if x < 0:\n",
    "            return False\n",
    "        return str(x) == str(x)[::1]\n",
    "\n",
    "\n",
    "c2 = Solution()\n",
    "c2.isPalindrome(x)"
   ]
  },
  {
   "cell_type": "code",
   "execution_count": 115,
   "metadata": {},
   "outputs": [
    {
     "data": {
      "text/plain": [
       "1994"
      ]
     },
     "execution_count": 115,
     "metadata": {},
     "output_type": "execute_result"
    }
   ],
   "source": [
    "# 13. Roman to Integer\n",
    "# For example, 2 is written as II in Roman numeral, just two ones added together.\n",
    "# 12 is written as XII, which is simply X + II. The number 27 is written as XXVII, which is XX + V + II.\n",
    "# For example, 2 is written as II in Roman numeral, just two ones added together.\n",
    "# 12 is written as XII, which is simply X + II. The number 27 is written as XXVII, which is XX + V + II.\n",
    "\n",
    "# Roman numerals are usually written largest to smallest from left to right.\n",
    "# However, the numeral for four is not IIII. Instead, the number four is written as IV.\n",
    "#  Because the one is before the five we subtract it making four.\n",
    "# The same principle applies to the number nine, which is written as IX.\n",
    "# There are six instances where subtraction is used:\n",
    "\n",
    "# I can be placed before V (5) and X (10) to make 4 and 9.\n",
    "# X can be placed before L (50) and C (100) to make 40 and 90.\n",
    "# C can be placed before D (500) and M (1000) to make 400 and 900.\n",
    "# Given a roman numeral, convert it to an integer.\n",
    "\n",
    "s = \"MCMXCIV\"\n",
    "class Solution:\n",
    "    def romanToInt(self, s: str) -> int:\n",
    "        roman_to_integer = {\n",
    "            \"I\": 1,\n",
    "            \"V\": 5,\n",
    "            \"X\": 10,\n",
    "            \"L\": 50,\n",
    "            \"C\": 100,\n",
    "            \"D\": 500,\n",
    "            \"M\": 1000,\n",
    "        }\n",
    "\n",
    "        s = (\n",
    "            s.replace(\"IV\", \"IIII\")\n",
    "            .replace(\"IX\", \"VIIII\")\n",
    "            .replace(\"XL\", \"XXXX\")\n",
    "            .replace(\"XC\", \"LXXXX\")\n",
    "            .replace(\"CD\", \"CCCC\")\n",
    "            .replace(\"CM\", \"DCCCC\")\n",
    "        )\n",
    "\n",
    "        return sum(map(lambda X: roman_to_integer[X], s)) # convert to number\n",
    "\n",
    "c3 = Solution()\n",
    "c3.romanToInt(s)"
   ]
  },
  {
   "cell_type": "code",
   "execution_count": 116,
   "metadata": {},
   "outputs": [
    {
     "name": "stdout",
     "output_type": "stream",
     "text": [
      "[12, 14, 22, 33]\n",
      "(33, 22, 14, 12)\n",
      "(330, 20, 30, 220, 140, 120, 60)\n",
      "[TRACE] func: add_two, args: (3,), kwargs: {}\n",
      "[TRACE] func: <lambda>, args: (0,), kwargs: {}\n",
      "[TRACE] func: <lambda>, args: (1,), kwargs: {}\n",
      "[TRACE] func: <lambda>, args: (2,), kwargs: {}\n",
      "[0, 2, 4]\n",
      "['Cat', 'Dog', 'Cow']\n",
      "10\n",
      "10\n"
     ]
    }
   ],
   "source": [
    "# short understanding lambda function\n",
    "(lambda x : x + 1)(2)\n",
    "\n",
    "# sort \n",
    "lst = [33,2,3,22,14,12,6]\n",
    "d   = sorted(filter(lambda x: x > 10, lst))\n",
    "print(d)\n",
    "# tuple\n",
    "tpl = tuple(filter(lambda x : x > 10, lst))\n",
    "print(tpl)\n",
    "# with map\n",
    "tpl_map = tuple(map(lambda x : x  *10, lst))\n",
    "print(tpl_map)\n",
    "\n",
    "# complex map\n",
    "# Defining a decorator\n",
    "def trace(f):\n",
    "    def wrap(*args, **kwargs):\n",
    "        print(f\"[TRACE] func: {f.__name__}, args: {args}, kwargs: {kwargs}\")\n",
    "        return f(*args, **kwargs)\n",
    "\n",
    "    return wrap\n",
    "\n",
    "# Applying decorator to a function\n",
    "@trace\n",
    "def add_two(x):\n",
    "    return x + 2\n",
    "\n",
    "# Calling the decorated function\n",
    "add_two(3)\n",
    "\n",
    "# Applying decorator to a lambda\n",
    "# print((trace(lambda x: x ** 2))(3))\n",
    "\n",
    "t = list(map(trace(lambda x: x*2), range(3)))\n",
    "print(t)\n",
    "\n",
    "#capitalize\n",
    "v =list(map(lambda x : x.capitalize(), ['cat', 'dog', 'cow']))\n",
    "print(v)\n",
    "\n",
    "import functools\n",
    "pairs = [(1, 'a'), (2,'b'), (3, 'c'), (4, 'd')]\n",
    "f = functools.reduce(lambda acc, pair: acc + pair[0], pairs, 0)\n",
    "print(f)\n",
    "\n",
    "# sum easy\n",
    "s = sum(x[0] for x in pairs)\n",
    "print(s)"
   ]
  },
  {
   "cell_type": "code",
   "execution_count": 117,
   "metadata": {},
   "outputs": [
    {
     "data": {
      "text/plain": [
       "'fl'"
      ]
     },
     "execution_count": 117,
     "metadata": {},
     "output_type": "execute_result"
    }
   ],
   "source": [
    "# 14. Longest Common Prefix\n",
    "\n",
    "# Write a function to find the longest common prefix string amongst an array of strings.\n",
    "# If there is no common prefix, return an empty string \"\".\n",
    "# Input:\n",
    "strs = [\"flower\",\"flow\",\"flight\", \"flu\"]\n",
    "# Output: \"fl\"\n",
    "\n",
    "class Solution:\n",
    "    def longestCommonPrefix(self, strs: List[str]) -> str:\n",
    "        prefix     = ''            # str empty\n",
    "        sort_strs  = sorted(strs)  # sort the list\n",
    "        first_word = sort_strs[0]  # first word: flight\n",
    "        last_word  = sort_strs[-1] # last word: flower\n",
    "        # print(first_word, last_word)\n",
    "        # print(min(len(first_word), len(last_word)))\n",
    "        for i in range(min(len(first_word), len(last_word))): # iterate over words and find the shorter string\n",
    "            # print(first_word[i],last_word[i] )\n",
    "            if(first_word[i] != last_word[i]): # first_word: fli, last_word:flu\n",
    "                return prefix\n",
    "            prefix += first_word[i]            # f,l by each word and compare\n",
    "        return prefix\n",
    "\n",
    "f = Solution()\n",
    "f.longestCommonPrefix(strs)"
   ]
  },
  {
   "cell_type": "code",
   "execution_count": 118,
   "metadata": {},
   "outputs": [
    {
     "data": {
      "text/plain": [
       "'fl'"
      ]
     },
     "execution_count": 118,
     "metadata": {},
     "output_type": "execute_result"
    }
   ],
   "source": [
    "# solution manual \n",
    "# 14. Longest Common Prefix\n",
    "\n",
    "# Write a function to find the longest common prefix string amongst an array of strings.\n",
    "# If there is no common prefix, return an empty string \"\".\n",
    "# Input:\n",
    "strs = [\"flower\",\"flow\",\"flight\", \"flu\"]\n",
    "# Output: \"fl\"\n",
    "\n",
    "class Solution:\n",
    "    def logestCommonPrefix(self, strs:List[str])-> str:\n",
    "        prefix = ''\n",
    "        s_str  = sorted(strs)\n",
    "        f_word = s_str[0]\n",
    "        l_word = s_str[-1]\n",
    "\n",
    "        for i in range(min(len(f_word), len(l_word))):\n",
    "            if f_word[i] != l_word[i]:\n",
    "                return prefix\n",
    "            prefix += f_word[i]\n",
    "        return prefix\n",
    "\n",
    "\n",
    "t2 = Solution()\n",
    "t2.logestCommonPrefix(strs)"
   ]
  },
  {
   "cell_type": "code",
   "execution_count": 119,
   "metadata": {},
   "outputs": [
    {
     "data": {
      "text/plain": [
       "5"
      ]
     },
     "execution_count": 119,
     "metadata": {},
     "output_type": "execute_result"
    }
   ],
   "source": [
    "# 26. Remove Duplicates from Sorted Array\n",
    "\n",
    "# Given an integer array nums sorted in non-decreasing order, remove the duplicates in-place such that each unique element appears only once.\n",
    "# The relative order of the elements should be kept the same. Then return the number of unique elements in nums.\n",
    "\n",
    "# Consider the number of unique elements of nums to be k, to get accepted, you need to do the following things:\n",
    "\n",
    "# Change the array nums such that the first k elements of nums contain the unique elements in the order they were present in nums initially. \n",
    "# The remaining elements of nums are not important as well as the size of nums.\n",
    "# Return k.\n",
    "nums = [0,0,1,1,1,2,2,3,3,4]\n",
    "class Solution:\n",
    "    def removeDuplicates(self, nums: List[int]) -> int:\n",
    "        uniqueList = list(set(nums))\n",
    "        uniqueList.sort()\n",
    "\n",
    "        for i in range(len(nums)):\n",
    "            if i == len(uniqueList):\n",
    "                break\n",
    "            nums[i] = uniqueList[i]\n",
    "        \n",
    "        return len(uniqueList)\n",
    "\n",
    "        \n",
    "r = Solution()\n",
    "r.removeDuplicates(nums)\n"
   ]
  },
  {
   "cell_type": "code",
   "execution_count": 120,
   "metadata": {},
   "outputs": [
    {
     "data": {
      "text/plain": [
       "5"
      ]
     },
     "execution_count": 120,
     "metadata": {},
     "output_type": "execute_result"
    }
   ],
   "source": [
    "# 27. Remove Element\n",
    "# Given an integer array nums and an integer val, remove all occurrences of val in nums in-place. \n",
    "# The order of the elements may be changed. Then return the number of elements in nums which are not equal to val.\n",
    "# Consider the number of elements in nums which are not equal to val be k, to get accepted, you need to do the following things:\n",
    "# Change the array nums such that the first k elements of nums contain the elements which are not equal to val.\n",
    "# The remaining elements of nums are not important as well as the size of nums.\n",
    "# Return k.\n",
    "\n",
    "# Input: \n",
    "nums = [0,1,2,2,3,0,4,2]\n",
    "val = 2\n",
    "\n",
    "class Solution:\n",
    "    def removeElement(self, nums: List[int], val : int) -> int:\n",
    "        while val in nums:\n",
    "            nums.remove(val)\n",
    "\n",
    "        return len(nums)\n",
    "\n",
    "re = Solution()\n",
    "re.removeElement(nums, val)            \n"
   ]
  },
  {
   "cell_type": "code",
   "execution_count": 121,
   "metadata": {},
   "outputs": [
    {
     "data": {
      "text/plain": [
       "2"
      ]
     },
     "execution_count": 121,
     "metadata": {},
     "output_type": "execute_result"
    }
   ],
   "source": [
    "# 28. Find the Index of the First Occurrence in a String\n",
    "# Given two strings needle and haystack, return the index of the first occurrence of needle in haystack, or -1 if needle is not part of haystack.\n",
    "\n",
    "# Input: \n",
    "haystack = \"hello\"\n",
    "needle = \"ll\"\n",
    "# Output: 0\n",
    "# Explanation: \"sad\" occurs at index 0 and 6.\n",
    "# The first occurrence is at index 0, so we return 0\n",
    "class Solution:\n",
    "    def strStr(self, haystack: str, needle: str) -> int:\n",
    "        for i in range(len(haystack) - len(needle) + 1): # 5 - 2 + 1 = 4\n",
    "            if all(haystack[ i + j] == needle[j] for j in range(len(needle))):\n",
    "                return i\n",
    "        return -1\n",
    "st = Solution()\n",
    "st.strStr(haystack, needle)\n",
    "\n",
    "\n",
    "# class Solution:\n",
    "#     def strStr(self, haystack: str, needle: str) -> int:\n",
    "#         len_needle = len(needle)\n",
    "\n",
    "#         for i in range(len(haystack)):\n",
    "#             if haystack[i : len_needle + i] == needle:\n",
    "#                 return i\n",
    "#         return -1"
   ]
  },
  {
   "cell_type": "code",
   "execution_count": 122,
   "metadata": {},
   "outputs": [
    {
     "data": {
      "text/plain": [
       "4"
      ]
     },
     "execution_count": 122,
     "metadata": {},
     "output_type": "execute_result"
    }
   ],
   "source": [
    "# 35. Search Insert Position\n",
    "\n",
    "# Given a sorted array of distinct integers and a target value, return the index if the target is found. \n",
    "# If not, return the index where it would be if it were inserted in order.\n",
    "# You must write an algorithm with O(log n) runtime complexity.\n",
    "# Input: \n",
    "nums = [1,3,5,6]\n",
    "target = 5\n",
    "# Output: 2\n",
    "# Input: \n",
    "nums = [1,3,5,6]\n",
    "target = 7\n",
    "# Output: 1\n",
    "\n",
    "class Solution:\n",
    "    def searchInsert(self, nums: List[int], target: int) -> int:\n",
    "        if target in nums:   # if the num is in list retur his index\n",
    "            return nums.index(target)\n",
    "        else:\n",
    "            nums.append(target)\n",
    "            return sorted(nums).index(target)\n",
    "\n",
    "se = Solution()\n",
    "se.searchInsert(nums, target)"
   ]
  },
  {
   "cell_type": "code",
   "execution_count": 123,
   "metadata": {},
   "outputs": [
    {
     "data": {
      "text/plain": [
       "4"
      ]
     },
     "execution_count": 123,
     "metadata": {},
     "output_type": "execute_result"
    }
   ],
   "source": [
    "# 58. Length of Last Word\n",
    "\n",
    "# Given a string s consisting of words and spaces, return the length of the last word in the string.\n",
    "\n",
    "# A word is a maximal \n",
    "# substring\n",
    "#  consisting of non-space characters only.\n",
    "\n",
    "# Input: \n",
    "s = \"Hello World\"\n",
    "s = \"   fly me   to   the moon  \"\n",
    "# Output: 5\n",
    "# Explanation: The last word is \"World\" with length 5.\n",
    "\n",
    "class Solution:\n",
    "    def lengthOfLastWord(self, s:str) -> int:\n",
    "        arr = s.split()\n",
    "\n",
    "        return len(arr[-1])\n",
    "\n",
    "le = Solution()\n",
    "le.lengthOfLastWord(s)"
   ]
  },
  {
   "cell_type": "code",
   "execution_count": 124,
   "metadata": {},
   "outputs": [
    {
     "data": {
      "text/plain": [
       "[1, 2, 4]"
      ]
     },
     "execution_count": 124,
     "metadata": {},
     "output_type": "execute_result"
    }
   ],
   "source": [
    "# 66. Plus One\n",
    "\n",
    "# You are given a large integer represented as an integer array digits, where each digits[i] is the ith digit of the integer.\n",
    "# The digits are ordered from most significant to least significant in left-to-right order. The large integer does not contain any leading 0's.\n",
    "\n",
    "# Increment the large integer by one and return the resulting array of digits.\n",
    "\n",
    "# Input: \n",
    "digits = [1,2,3]\n",
    "# Output: [1,2,4]\n",
    "# Explanation: The array represents the integer 123.\n",
    "# Incrementing by one gives 123 + 1 = 124.\n",
    "# Thus, the result should be [1,2,4].\n",
    "\n",
    "\n",
    "# Input: digits = [4,3,2,1]\n",
    "# Output: [4,3,2,2]\n",
    "# Explanation: The array represents the integer 4321.\n",
    "# Incrementing by one gives 4321 + 1 = 4322.\n",
    "# Thus, the result should be [4,3,2,2].\n",
    "\n",
    "class Solution:\n",
    "    def plusOne(self, digists: List[int]) -> List[int]:\n",
    "        rev = 0\n",
    "        for i in digits:\n",
    "            rev = (rev * 10) + i # 1, 12, 123\n",
    "        rev += 1                 # 1234\n",
    "        res = [int(x) for x in str(rev)]\n",
    "        return res\n",
    "\n",
    "pl = Solution()\n",
    "pl.plusOne(digits)"
   ]
  },
  {
   "cell_type": "code",
   "execution_count": 125,
   "metadata": {},
   "outputs": [
    {
     "data": {
      "text/plain": [
       "'100'"
      ]
     },
     "execution_count": 125,
     "metadata": {},
     "output_type": "execute_result"
    }
   ],
   "source": [
    "# 67. Add Binary\n",
    "# Given two binary strings a and b, return their sum as a binary string.\n",
    "\n",
    "# Input: \n",
    "a = \"11\"\n",
    "b = \"1\"\n",
    "# Output: \"100\"\n",
    "\n",
    "# Input: a = \"1010\", b = \"1011\"\n",
    "# Output: \"10101\"\n",
    "\n",
    "class Solution:\n",
    "    def addBinary(self, a: str, b: str) -> str:\n",
    "        return bin(int(a, 2) + int(b, 2))[2:]\n",
    "\n",
    "ad = Solution()\n",
    "ad.addBinary(a, b)"
   ]
  },
  {
   "cell_type": "code",
   "execution_count": 126,
   "metadata": {},
   "outputs": [
    {
     "data": {
      "text/plain": [
       "2"
      ]
     },
     "execution_count": 126,
     "metadata": {},
     "output_type": "execute_result"
    }
   ],
   "source": [
    "# 69. Sqrt(x)\n",
    "# Given a non-negative integer x, return the square root of x rounded down to the nearest integer. The returned integer should be non-negative as well.\n",
    "\n",
    "# You must not use any built-in exponent function or operator.\n",
    "\n",
    "# For example, do not use pow(x, 0.5) in c++ or x ** 0.5 in python.\n",
    "x = 8\n",
    "class Solution:\n",
    "    def mySqrt(self, x : int) -> int:\n",
    "        if x == 0:\n",
    "            return 0\n",
    "        first, last = 1, x  # 1, 4\n",
    "        while first <= last:\n",
    "            mid = first + (last-first) //2 # 1 + (4-1) = 4//2 = 2 ||| 1 + (8-1)= 8//2 = 4 ||| 1 + (3-1) // 2\n",
    "            if mid == x // mid:  # 2 == 4 // 2 = 2 True           ||| 4 == 8//4= 2 False\n",
    "                return mid       # 2\n",
    "            elif mid > x // mid: # 2 > 4//2= 2 - False            ||| 4 > (8 // 4 = 2) = True\n",
    "                last = mid - 1   #                                ||| 4-1 = 3\n",
    "            else:\n",
    "                first = mid + 1\n",
    "            \n",
    "        return last\n",
    "\n",
    "sq = Solution()\n",
    "sq.mySqrt(x)"
   ]
  },
  {
   "cell_type": "code",
   "execution_count": 127,
   "metadata": {},
   "outputs": [
    {
     "data": {
      "text/plain": [
       "3"
      ]
     },
     "execution_count": 127,
     "metadata": {},
     "output_type": "execute_result"
    }
   ],
   "source": [
    "# 70. Climbing Stairs\n",
    "\n",
    "# You are climbing a staircase. It takes n steps to reach the top.\n",
    "# Each time you can either climb 1 or 2 steps. In how many distinct ways can you climb to the top?\n",
    "\n",
    "\n",
    "# Input: \n",
    "# n = 2\n",
    "# Output: 2\n",
    "# Explanation: There are two ways to climb to the top.\n",
    "# 1. 1 step + 1 step\n",
    "# 2. 2 steps\n",
    "\n",
    "# Input: \n",
    "n = 3\n",
    "# Output: 3\n",
    "# Explanation: There are three ways to climb to the top.\n",
    "# 1. 1 step + 1 step + 1 step\n",
    "# 2. 1 step + 2 steps\n",
    "# 3. 2 steps + 1 step\n",
    "\n",
    "class Solution:\n",
    "    def climbStars(self, n: int) -> int:\n",
    "        prev  = 1 \n",
    "        prev2 = 0\n",
    "        for i in range(1, n + 1):\n",
    "            curi  = prev + prev2  # 1 + 0\n",
    "            prev2 = prev          # 1,1,1\n",
    "            prev  = curi          # 3\n",
    "        return prev\n",
    "            \n",
    "\n",
    "cl = Solution()\n",
    "cl.climbStars(n)"
   ]
  },
  {
   "cell_type": "code",
   "execution_count": 128,
   "metadata": {},
   "outputs": [],
   "source": [
    "# 88. Merge Sorted Array\n",
    "# You are given two integer arrays nums1 and nums2, sorted in non-decreasing order, and two integers m and n, \n",
    "# representing the number of elements in nums1 and nums2 respectively.\n",
    "\n",
    "# Merge nums1 and nums2 into a single array sorted in non-decreasing order.\n",
    "\n",
    "# The final sorted array should not be returned by the function, but instead be stored inside the array nums1. \n",
    "# To accommodate this, nums1 has a length of m + n, where the first m elements denote the elements that should be\n",
    "# merged, and the last n elements are set to 0 and should be ignored. nums2 has a length of n.\n",
    "# Input: \n",
    "nums1 = [1,2,3,0,0,0] \n",
    "m = 3 \n",
    "nums2 = [2,5,6]\n",
    "n = 3\n",
    "# Output: [1,2,2,3,5,6]\n",
    "# Explanation: The arrays we are merging are [1,2,3] and [2,5,6].\n",
    "# The result of the merge is [1,2,2,3,5,6] with the underlined elements coming from nums1.\n",
    "\n",
    "class Solution:\n",
    "    def merge(self, nums1: List[int], m : int, nums2:List[int], n: int) -> None:\n",
    "        i = m - 1                              # 3 - 1 = 2\n",
    "        j = n - 1                              # 3 - 1 = 2\n",
    "        k = m + n - 1                          # 3 + 3 - 1 = 5\n",
    "        while j >= 0:                          # True\n",
    "            if i >= 0 and nums1[i] > nums2[j]: # 2 >= 0 and 3 > 6\n",
    "                nums1[k] = nums1[i]\n",
    "                k       -= 1\n",
    "                i       -= 1\n",
    "            else:\n",
    "                nums1[k] = nums2[j]\n",
    "                k       -= 1\n",
    "                j       -= 1\n",
    "\n",
    "me = Solution()\n",
    "me.merge(nums1, m, nums2, n)"
   ]
  },
  {
   "cell_type": "code",
   "execution_count": 129,
   "metadata": {},
   "outputs": [
    {
     "name": "stdout",
     "output_type": "stream",
     "text": [
      "true\n"
     ]
    }
   ],
   "source": [
    "import collections\n",
    "test_list1 = [1, 2, 4, 3, 5]\n",
    "test_list2 = [1, 2, 4, 3, 5]\n",
    "\n",
    "if collections.Counter(test_list1) == collections.Counter(test_list2):\n",
    "    print(\"true\")\n",
    "else:\n",
    "    print(\"false\")"
   ]
  },
  {
   "cell_type": "code",
   "execution_count": 130,
   "metadata": {},
   "outputs": [
    {
     "data": {
      "text/plain": [
       "[[1], [1, 1], [1, 2, 1], [1, 3, 3, 1], [1, 4, 6, 4, 1]]"
      ]
     },
     "execution_count": 130,
     "metadata": {},
     "output_type": "execute_result"
    }
   ],
   "source": [
    "# 118. Pascal's Triangle\n",
    "\n",
    "# Given an integer numRows, return the first numRows of Pascal's triangle.\n",
    "# In Pascal's triangle, each number is the sum of the two numbers directly above it as shown:\n",
    "\n",
    "# Input: \n",
    "numRows = 5\n",
    "# Output: [[1],[1,1],[1,2,1],[1,3,3,1],[1,4,6,4,1]]\n",
    "\n",
    "class Solution:\n",
    "    def generate(self, numRows: int) -> List[List[int]]:\n",
    "        finalNums = []\n",
    "        finalNums.append([1])\n",
    "        for i in range(numRows - 1): # 0,1,2,3\n",
    "            newRow = [1]             # 1,1,1,1\n",
    "            # print(i)\n",
    "            for j in range(i):       # 1=0 2=0,1 3=0,1,2\n",
    "                newRow.append(finalNums[i][j] + finalNums[i][j+1])\n",
    "            newRow.append(1)\n",
    "            finalNums.append(newRow)\n",
    "        return finalNums\n",
    "\n",
    "ge = Solution()\n",
    "ge.generate(numRows) "
   ]
  },
  {
   "cell_type": "code",
   "execution_count": 131,
   "metadata": {},
   "outputs": [
    {
     "name": "stdout",
     "output_type": "stream",
     "text": [
      "0 1\n",
      "4 1\n",
      "4 1\n",
      "5 1\n",
      "5 1\n"
     ]
    },
    {
     "data": {
      "text/plain": [
       "5"
      ]
     },
     "execution_count": 131,
     "metadata": {},
     "output_type": "execute_result"
    }
   ],
   "source": [
    "# 121. Best Time to Buy and Sell Stock\n",
    "\n",
    "# You are given an array prices where prices[i] is the price of a given stock on the ith day.\n",
    "# You want to maximize your profit by choosing a single day to buy one stock and choosing a different day in the future\n",
    "# to sell that stock.\n",
    "# Return the maximum profit you can achieve from this transaction. If you cannot achieve any profit, return 0.\n",
    "\n",
    "# Input: \n",
    "prices = [7,1,5,3,6,4]\n",
    "# Output: 5\n",
    "# Explanation: Buy on day 2 (price = 1) and sell on day 5 (price = 6), profit = 6-1 = 5.\n",
    "# Note that buying on day 2 and selling on day 1 is not allowed because you must buy before you sell.\n",
    "\n",
    "class Solution:\n",
    "    def maxProfit(self, prices: List[int]) -> int:\n",
    "        if not prices:\n",
    "            return 0\n",
    "        \n",
    "        maxProfit   = 0\n",
    "        minPurchase = prices[0]\n",
    "        # print(maxProfit, minPurchase)\n",
    "        for i in range(1, len(prices)):\n",
    "            maxProfit   = max(maxProfit, prices[i] - minPurchase) \n",
    "            minPurchase = min(minPurchase, prices[i])\n",
    "            print(maxProfit, minPurchase)\n",
    "        return maxProfit\n",
    "\n",
    "mx = Solution()\n",
    "mx.maxProfit(prices)"
   ]
  },
  {
   "cell_type": "code",
   "execution_count": 132,
   "metadata": {},
   "outputs": [
    {
     "data": {
      "text/plain": [
       "True"
      ]
     },
     "execution_count": 132,
     "metadata": {},
     "output_type": "execute_result"
    }
   ],
   "source": [
    "# 125. Valid Palindrome\n",
    "\n",
    "# A phrase is a palindrome if, after converting all uppercase letters into lowercase letters and removing all\n",
    "# non-alphanumeric characters, it reads the same forward and backward. Alphanumeric characters include letters and numbers.\n",
    "\n",
    "# Given a string s, return true if it is a palindrome, or false otherwise.\n",
    "\n",
    "# Input: \n",
    "s = \"A man, a plan, a canal: Panama\"\n",
    "# Output: true\n",
    "# Explanation: \"amanaplanacanalpanama\" is a palindrome\n",
    "\n",
    "class Solution:\n",
    "    def isPalindrome(self, s: str) -> bool:\n",
    "        s = [i for i in s.lower() if i.isalnum()]\n",
    "        return s == s[::-1]\n",
    "\n",
    "vl = Solution()\n",
    "vl.isPalindrome(s)"
   ]
  },
  {
   "cell_type": "code",
   "execution_count": 133,
   "metadata": {},
   "outputs": [
    {
     "data": {
      "text/plain": [
       "6"
      ]
     },
     "execution_count": 133,
     "metadata": {},
     "output_type": "execute_result"
    }
   ],
   "source": [
    "# 136. Single Number\n",
    "\n",
    "# Given a non-empty array of integers nums, every element appears twice except for one. Find that single one.\n",
    "# You must implement a solution with a linear runtime complexity and use only constant extra space.\n",
    "\n",
    "# Input: \n",
    "nums = [2,2,1,1,7,6,7]\n",
    "# Output: 1\n",
    "\n",
    "class Solution():\n",
    "    def singleNumber(self, nums: List[int])->int:\n",
    "        uniqNum = 0\n",
    "        for idx in nums:\n",
    "            uniqNum ^= idx\n",
    "        return uniqNum\n",
    "\n",
    "sg = Solution()\n",
    "sg.singleNumber(nums)"
   ]
  },
  {
   "cell_type": "code",
   "execution_count": 134,
   "metadata": {},
   "outputs": [
    {
     "data": {
      "text/plain": [
       "'T'"
      ]
     },
     "execution_count": 134,
     "metadata": {},
     "output_type": "execute_result"
    }
   ],
   "source": [
    "# 168. Excel Sheet Column Title\n",
    "# Given an integer columnNumber, return its corresponding column title as it appears in an Excel sheet.\n",
    "# A -> 1\n",
    "# B -> 2\n",
    "# C -> 3\n",
    "# ...\n",
    "# Z -> 26\n",
    "# AA -> 27\n",
    "# AB -> 28 \n",
    "\n",
    "c = 20\n",
    "\n",
    "class Solution:\n",
    "    def convertToTitle(self, columnNumber: int) -> str:\n",
    "        title = \"\"\n",
    "        while columnNumber > 0:\n",
    "            columnNumber -= 1\n",
    "            title = chr(columnNumber % 26 + 65) + title\n",
    "            columnNumber //= 26\n",
    "        return  title\n",
    "\n",
    "co = Solution()\n",
    "co.convertToTitle(c)"
   ]
  },
  {
   "cell_type": "code",
   "execution_count": 135,
   "metadata": {},
   "outputs": [
    {
     "data": {
      "text/plain": [
       "3"
      ]
     },
     "execution_count": 135,
     "metadata": {},
     "output_type": "execute_result"
    }
   ],
   "source": [
    "# 169. Majority Element\n",
    "\n",
    "# Given an array nums of size n, return the majority element.\n",
    "# The majority element is the element that appears more than ⌊n / 2⌋ times. \n",
    "# You may assume that the majority element always exists in the array.\n",
    "\n",
    "# Input: \n",
    "nums = [3,3,3,2,1]\n",
    "# Output: 3\n",
    "\n",
    "class Solution:\n",
    "    def majorityElement(self, nums: List[int]) -> int:\n",
    "        sol = None\n",
    "        cnt = 0\n",
    "        for i in nums:\n",
    "            if cnt == 0:\n",
    "                sol = i\n",
    "            cnt += (1 if i == sol else -1)\n",
    "        return sol\n",
    "    \n",
    "mj = Solution()\n",
    "mj.majorityElement(nums)"
   ]
  },
  {
   "cell_type": "code",
   "execution_count": 136,
   "metadata": {},
   "outputs": [
    {
     "data": {
      "text/plain": [
       "28"
      ]
     },
     "execution_count": 136,
     "metadata": {},
     "output_type": "execute_result"
    }
   ],
   "source": [
    "# 169. Majority Element\n",
    "\n",
    "# Given an array nums of size n, return the majority element.\n",
    "# The majority element is the element that appears more than ⌊n / 2⌋ times.\n",
    "# You may assume that the majority element always exists in the arra\n",
    "# Input: \n",
    "columnTitle = \"AB\"\n",
    "# Output: 28\n",
    "class Solution:\n",
    "    def titleToNumber(self, columnTitle: str) -> int:\n",
    "        col_num = 0\n",
    "        for char in columnTitle:\n",
    "            col_num = col_num * 26 + (ord(char) - 64)\n",
    "        return col_num\n",
    "    \n",
    "tl = Solution()\n",
    "tl.titleToNumber(columnTitle)"
   ]
  },
  {
   "cell_type": "code",
   "execution_count": 139,
   "metadata": {},
   "outputs": [
    {
     "data": {
      "text/plain": [
       "True"
      ]
     },
     "execution_count": 139,
     "metadata": {},
     "output_type": "execute_result"
    }
   ],
   "source": [
    "# 202. Happy Number\n",
    "# Write an algorithm to determine if a number n is happy.\n",
    "\n",
    "# A happy number is a number defined by the following process:\n",
    "\n",
    "# Starting with any positive integer, replace the number by the sum of the squares of its digits.\n",
    "# Repeat the process until the number equals 1 (where it will stay), or it loops endlessly in a cycle which does not include 1.\n",
    "# Those numbers for which this process ends in 1 are happy.\n",
    "# Return true if n is a happy number, and false if not.\n",
    "\n",
    "# Input: \n",
    "n = 19\n",
    "# Output: true\n",
    "# Explanation:\n",
    "# 12 + 92 = 82\n",
    "# 82 + 22 = 68\n",
    "# 62 + 82 = 100\n",
    "# 12 + 02 + 02 = 1\n",
    "class Solution:\n",
    "    def isHappy(self, n: int) -> bool:\n",
    "        hset = set()\n",
    "        while n != 1:\n",
    "            if n in hset:\n",
    "                return False\n",
    "            hset.add(n)\n",
    "            n = sum([int(i) ** 2 for i in str(n)])\n",
    "        else:\n",
    "            return True\n",
    "\n",
    "\n",
    "ih = Solution()\n",
    "ih.isHappy(n)\n"
   ]
  },
  {
   "cell_type": "code",
   "execution_count": 144,
   "metadata": {},
   "outputs": [
    {
     "name": "stdout",
     "output_type": "stream",
     "text": [
      "e\n",
      "g\n",
      "g\n"
     ]
    }
   ],
   "source": [
    "# 205. Isomorphic Strings\n",
    "\n",
    "# Given two strings s and t, determine if they are isomorphic.\n",
    "# Two strings s and t are isomorphic if the characters in s can be replaced to get t.\n",
    "# All occurrences of a character must be replaced with another character while preserving the order of characters. \n",
    "# No two characters may map to the same character, but a character may map to itself.\n",
    "\n",
    "# Input: \n",
    "s = \"egg\" \n",
    "t = \"add\"\n",
    "# Output: true\n",
    "class Solution:\n",
    "    def isIsomorphic(self, s: str, t: str) -> bool:\n",
    "        map1 = []\n",
    "        map2 = []\n",
    "        for idx in s:\n",
    "            map1.append(s.index(idx))\n",
    "        for idx in t:\n",
    "            map2.append(t.index(idx))\n",
    "        if map1 == map2:\n",
    "            return True\n",
    "        return False\n",
    "\n",
    "im = Solution()\n",
    "im.isIsomorphic(s, t)\n"
   ]
  },
  {
   "cell_type": "code",
   "execution_count": 151,
   "metadata": {},
   "outputs": [
    {
     "data": {
      "text/plain": [
       "True"
      ]
     },
     "execution_count": 151,
     "metadata": {},
     "output_type": "execute_result"
    }
   ],
   "source": [
    "# 217. Contains Duplicate\n",
    "# Given an integer array nums, return true if any value appears at least twice in the array, and return \n",
    "# false if every element is distinct.\n",
    "\n",
    "# Input: \n",
    "nums = [1,2,3, 5,1]\n",
    "# Output: true\n",
    "\n",
    "class Solution:\n",
    "    def containsDuplicate(self, nums: List[int]) -> bool:\n",
    "        hset = set()\n",
    "        for idx in nums:\n",
    "            if idx in hset:\n",
    "                return True\n",
    "            else:\n",
    "                hset.add(idx)\n",
    "        return False\n",
    "\n",
    "co = Solution()\n",
    "co.containsDuplicate(nums)"
   ]
  },
  {
   "cell_type": "code",
   "execution_count": 152,
   "metadata": {},
   "outputs": [
    {
     "data": {
      "text/plain": [
       "True"
      ]
     },
     "execution_count": 152,
     "metadata": {},
     "output_type": "execute_result"
    }
   ],
   "source": [
    "# 219. Contains Duplicate II\n",
    "\n",
    "# Given an integer array nums and an integer k, return true if \n",
    "# there are two distinct indices i and j in the array such that nums[i] == nums[j] and abs(i - j) <= k.\n",
    "# Input: \n",
    "nums = [1,2,3,1]\n",
    "k = 3\n",
    "# Output: true\n",
    "\n",
    "class Solution:\n",
    "    def containsNearbyDuplicate(self, nums: List[int], k: int) -> bool:\n",
    "        hset = {}\n",
    "        for idx in range(len(nums)):\n",
    "            if nums[idx] in hset and abs(idx - hset[nums[idx]]) <=k:\n",
    "                return True\n",
    "            hset[nums[idx]] = idx\n",
    "        return False\n",
    "\n",
    "cn = Solution()\n",
    "cn.containsNearbyDuplicate(nums, k)"
   ]
  },
  {
   "cell_type": "code",
   "execution_count": 165,
   "metadata": {},
   "outputs": [
    {
     "data": {
      "text/plain": [
       "['0->2', '4->5', '7']"
      ]
     },
     "execution_count": 165,
     "metadata": {},
     "output_type": "execute_result"
    }
   ],
   "source": [
    "# 228. Summary Ranges\n",
    "\n",
    "# You are given a sorted unique integer array nums.\n",
    "# A range [a,b] is the set of all integers from a to b (inclusive).\n",
    "# Return the smallest sorted list of ranges that cover all the numbers in the array exactly. \n",
    "# That is, each element of nums is covered by exactly one of the ranges, and there is no integer\n",
    "# x such that x is in one of the ranges but not in nums.\n",
    "# Each range [a,b] in the list should be output as:\n",
    "# \"a->b\" if a != b\n",
    "# \"a\" if a == b\n",
    "nums = [0,1,2,4,5,7]\n",
    "class Solution:\n",
    "    def summaryRanges(self, nums: List[int]) -> List[str]:\n",
    "        if not nums:\n",
    "            return []\n",
    "        \n",
    "        ranges = []\n",
    "        start  = nums[0]\n",
    "\n",
    "        for i in range(1, len(nums)): # 1 to 5\n",
    "            if nums[i] != nums[i -1] + 1:\n",
    "                if start == nums[i-1]:\n",
    "                    ranges.append(str(start))\n",
    "                else:\n",
    "                    ranges.append(str(start) + \"->\" + str(nums[i-1]))\n",
    "                start = nums[i]\n",
    "\n",
    "        if start == nums[-1]:\n",
    "            ranges.append(str(start))\n",
    "        else:\n",
    "            ranges.append(str(start) + \"->\" + str(nums[-1]))\n",
    "        \n",
    "        return ranges\n",
    "\n",
    "\n",
    "su = Solution()\n",
    "su.summaryRanges(nums)       "
   ]
  },
  {
   "cell_type": "code",
   "execution_count": 174,
   "metadata": {},
   "outputs": [
    {
     "name": "stdout",
     "output_type": "stream",
     "text": [
      "[0, 0, 0, 0, 0, 0, 0, 0, 0, 0, 0, 0, 0, 0, 0, 0, 0, 0, 0, 0, 0, 0, 0, 0, 0, 0, 0, 0, 0, 0, 0, 0, 0, 0, 0, 0, 0, 0, 0, 0, 0, 0, 0, 0, 0, 0, 0, 0, 0, 0, 0, 0, 0, 0, 0, 0, 0, 0, 0, 0, 0, 0, 0, 0, 0, 0, 0, 0, 0, 0, 0, 0, 0, 0, 0, 0, 0, 0, 0, 0, 0, 0, 0, 0, 0, 0, 0, 0, 0, 0, 0, 0, 0, 0, 0, 0, 0, 3, 0, 0, 0, 0, 0, 1, 0, 0, 0, 0, 0, 1, 1, 0, 0, 0, 1, 0, 0, 0, 0, 0, 0, 0, 0, 0, 0, 0, 0, 0, 0, 0, 0, 0, 0, 0, 0, 0, 0, 0, 0, 0, 0, 0, 0, 0, 0, 0, 0, 0, 0, 0, 0, 0, 0, 0, 0, 0, 0, 0, 0, 0, 0, 0, 0, 0, 0, 0, 0, 0, 0, 0, 0, 0, 0, 0, 0, 0, 0, 0, 0, 0, 0, 0, 0, 0, 0, 0, 0, 0, 0, 0, 0, 0, 0, 0, 0, 0, 0, 0, 0, 0, 0, 0, 0, 0, 0, 0, 0, 0, 0, 0, 0, 0, 0, 0, 0, 0, 0, 0, 0, 0, 0, 0, 0, 0, 0, 0, 0, 0, 0, 0, 0, 0, 0, 0, 0, 0, 0, 0, 0, 0, 0, 0, 0, 0, 0, 0, 0, 0, 0, 0, 0, 0, 0, 0, 0, 0] [0, 0, 0, 0, 0, 0, 0, 0, 0, 0, 0, 0, 0, 0, 0, 0, 0, 0, 0, 0, 0, 0, 0, 0, 0, 0, 0, 0, 0, 0, 0, 0, 0, 0, 0, 0, 0, 0, 0, 0, 0, 0, 0, 0, 0, 0, 0, 0, 0, 0, 0, 0, 0, 0, 0, 0, 0, 0, 0, 0, 0, 0, 0, 0, 0, 0, 0, 0, 0, 0, 0, 0, 0, 0, 0, 0, 0, 0, 0, 0, 0, 0, 0, 0, 0, 0, 0, 0, 0, 0, 0, 0, 0, 0, 0, 0, 0, 3, 0, 0, 0, 0, 0, 1, 0, 0, 0, 0, 0, 1, 1, 0, 0, 0, 1, 0, 0, 0, 0, 0, 0, 0, 0, 0, 0, 0, 0, 0, 0, 0, 0, 0, 0, 0, 0, 0, 0, 0, 0, 0, 0, 0, 0, 0, 0, 0, 0, 0, 0, 0, 0, 0, 0, 0, 0, 0, 0, 0, 0, 0, 0, 0, 0, 0, 0, 0, 0, 0, 0, 0, 0, 0, 0, 0, 0, 0, 0, 0, 0, 0, 0, 0, 0, 0, 0, 0, 0, 0, 0, 0, 0, 0, 0, 0, 0, 0, 0, 0, 0, 0, 0, 0, 0, 0, 0, 0, 0, 0, 0, 0, 0, 0, 0, 0, 0, 0, 0, 0, 0, 0, 0, 0, 0, 0, 0, 0, 0, 0, 0, 0, 0, 0, 0, 0, 0, 0, 0, 0, 0, 0, 0, 0, 0, 0, 0, 0, 0, 0, 0, 0, 0, 0, 0, 0, 0, 0]\n"
     ]
    }
   ],
   "source": [
    "# 242. Valid Anagram\n",
    "\n",
    "# Given two strings s and t, return true if t is an anagram of s, and false otherwise.\n",
    "# An Anagram is a word or phrase formed by rearranging the letters of a different word or phrase, \n",
    "# typically using all the original letters exactly once.\n",
    "\n",
    "# Input: \n",
    "s = \"anagram\"\n",
    "t = \"nagaram\"\n",
    "# Output: true\n",
    "# class Solution:\n",
    "#     def isAnagram(self, s: str, t: str) -> bool:\n",
    "        \n",
    "#         if len(s) != len(t):\n",
    "#             return False\n",
    "#         freq = [0] * 26\n",
    "#         for i in range(len(s)):\n",
    "#             freq[ord(s[i]) - ord('a')] += 1\n",
    "#             freq[ord(t[i]) - ord('a')] -= 1\n",
    "#         for i in range(len(freq)):\n",
    "#             if freq[i] != 0:\n",
    "#                 return False\n",
    "#         return True\n",
    "\n",
    "class Solution:\n",
    "    def isAnagram(self, s: str, t: str) -> bool:\n",
    "            l1 = [0]*256\n",
    "            l2 = [0]*256\n",
    "            for i in range(len(s)):\n",
    "                l1[ord(s[i])] +=1 \n",
    "\n",
    "            for i in range(len(t)):\n",
    "                l2[ord(t[i])] +=1 \n",
    "\n",
    "            print(l1, l2)\n",
    "\n",
    "            if len(s) != len(t):\n",
    "                return False\n",
    "            else:    \n",
    "                if l1 == l2:\n",
    "                    return True\n",
    "                else:\n",
    "                    return False\n",
    "\n",
    "\n",
    "ia = Solution()\n",
    "ia.isAnagram(s, t)"
   ]
  },
  {
   "cell_type": "code",
   "execution_count": 175,
   "metadata": {},
   "outputs": [
    {
     "data": {
      "text/plain": [
       "2"
      ]
     },
     "execution_count": 175,
     "metadata": {},
     "output_type": "execute_result"
    }
   ],
   "source": [
    "# 258. Add Digits\n",
    "# Given an integer num, repeatedly add all its digits until the result has only one digit, and return it.\n",
    "# Input: \n",
    "num = 38\n",
    "# Output: 2\n",
    "# Explanation: The process is\n",
    "# 38 --> 3 + 8 --> 11\n",
    "# 11 --> 1 + 1 --> 2 \n",
    "# Since 2 has only one digit, return it.\n",
    "class Solution:\n",
    "    def addDigits(self, num: int) -> int:\n",
    "        while num >= 10:\n",
    "            num = sum(int(i) for i in str(num))\n",
    "        return num\n",
    "\n",
    "ad = Solution()\n",
    "ad.addDigits(num)"
   ]
  },
  {
   "cell_type": "code",
   "execution_count": 24,
   "metadata": {},
   "outputs": [
    {
     "name": "stdout",
     "output_type": "stream",
     "text": [
      "3\n",
      "1\n"
     ]
    },
    {
     "data": {
      "text/plain": [
       "True"
      ]
     },
     "execution_count": 24,
     "metadata": {},
     "output_type": "execute_result"
    }
   ],
   "source": [
    "# 263. Ugly Number\n",
    "\n",
    "# An ugly number is a positive integer whose prime factors are limited to 2, 3, and 5.\n",
    "# Given an integer n, return true if n is an ugly number.\n",
    "\n",
    "# Input: \n",
    "n = 6\n",
    "# Output: true\n",
    "# Explanation: 6 = 2 × 3\n",
    "\n",
    "class Solution:\n",
    "    def isUgly(self, n: int) -> bool:\n",
    "        if n <= 0:\n",
    "            return False\n",
    "        while n % 2 == 0:\n",
    "            n //= 2\n",
    "        while n % 3 == 0:\n",
    "            n //= 3\n",
    "        while n % 5 == 0:\n",
    "            n //= 5\n",
    "        return n == 1\n",
    "\n",
    "iu = Solution()\n",
    "iu.isUgly(n)"
   ]
  },
  {
   "cell_type": "markdown",
   "metadata": {},
   "source": []
  }
 ],
 "metadata": {
  "kernelspec": {
   "display_name": "envSpark",
   "language": "python",
   "name": "python3"
  },
  "language_info": {
   "codemirror_mode": {
    "name": "ipython",
    "version": 3
   },
   "file_extension": ".py",
   "mimetype": "text/x-python",
   "name": "python",
   "nbconvert_exporter": "python",
   "pygments_lexer": "ipython3",
   "version": "3.8.10"
  },
  "orig_nbformat": 4
 },
 "nbformat": 4,
 "nbformat_minor": 2
}
