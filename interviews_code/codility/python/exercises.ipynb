{
 "cells": [
  {
   "attachments": {},
   "cell_type": "markdown",
   "metadata": {},
   "source": [
    "# Binary Gap\n"
   ]
  },
  {
   "attachments": {},
   "cell_type": "markdown",
   "metadata": {},
   "source": [
    "A binary gap within a positive integer N is any maximal sequence of consecutive zeros that is surrounded by ones at both ends in the binary representation of N.\n",
    "\n",
    "For example, number 9 has binary representation 1001 and contains a binary gap of length 2. The number 529 has binary representation 1000010001 and contains two binary gaps: one of length 4 and one of length 3. The number 20 has binary representation 10100 and contains one binary gap of length 1. The number 15 has binary representation 1111 and has no binary gaps. The number 32 has binary representation 100000 and has no binary gaps.\n",
    "\n",
    "Write a function:\n",
    "\n",
    "def solution(N)\n",
    "\n",
    "that, given a positive integer N, returns the length of its longest binary gap. The function should return 0 if N doesn't contain a binary gap.\n",
    "\n",
    "For example, given N = 1041 the function should return 5, because N has binary representation 10000010001 and so its longest binary gap is of length 5. Given N = 32 the function should return 0, because N has binary representation '100000' and thus no binary gaps.\n",
    "\n",
    "Write an efficient algorithm for the following assumptions:\n",
    "\n",
    "N is an integer within the range [1..2,147,483,647].\n"
   ]
  },
  {
   "cell_type": "code",
   "execution_count": 24,
   "metadata": {},
   "outputs": [
    {
     "data": {
      "text/plain": [
       "'10110'"
      ]
     },
     "execution_count": 24,
     "metadata": {},
     "output_type": "execute_result"
    }
   ],
   "source": [
    "# Converting Int to Binary Using the String Formatting\n",
    "def numberToBinary(integer):\n",
    "    return f\"{integer:b}\"\n",
    "\n",
    "\n",
    "numberToBinary(22)"
   ]
  },
  {
   "cell_type": "code",
   "execution_count": 25,
   "metadata": {},
   "outputs": [
    {
     "data": {
      "text/plain": [
       "5"
      ]
     },
     "execution_count": 25,
     "metadata": {},
     "output_type": "execute_result"
    }
   ],
   "source": [
    "def solution(N):\n",
    "    br = str(bin(N))[2:]\n",
    "    br_group = False\n",
    "    br_highest = 0\n",
    "    bin_zero_counter = 0\n",
    "    for char in br:\n",
    "        if char == \"1\":  # si es 1\n",
    "            if br_highest < bin_zero_counter:  # si es 0 es menor que 0\n",
    "                br_highest = bin_zero_counter  # entonces 0\n",
    "            br_group = True  #\n",
    "            bin_zero_counter = 0\n",
    "        #  print(br_highest)\n",
    "        elif br_group:\n",
    "            bin_zero_counter += 1\n",
    "    return br_highest\n",
    "\n",
    "\n",
    "solution(1041)"
   ]
  },
  {
   "cell_type": "code",
   "execution_count": 26,
   "metadata": {},
   "outputs": [
    {
     "name": "stdout",
     "output_type": "stream",
     "text": [
      "5\n"
     ]
    }
   ],
   "source": [
    "def convert_to_binary(n):\n",
    "    if n > 1:\n",
    "        return convert_to_binary(n // 2) + str(n % 2)\n",
    "    return str(n % 2)\n",
    "\n",
    "\n",
    "def binary_gap(n):\n",
    "    b = convert_to_binary(n)\n",
    "    x = b.split(\"1\")[:-1]\n",
    "    return max(len(d) for d in x)\n",
    "\n",
    "\n",
    "print(binary_gap(1041))  # 1"
   ]
  },
  {
   "attachments": {},
   "cell_type": "markdown",
   "metadata": {},
   "source": [
    "# Arrays: CyclicRotation\n"
   ]
  },
  {
   "attachments": {},
   "cell_type": "markdown",
   "metadata": {},
   "source": [
    "An array A consisting of N integers is given. Rotation of the array means that each element is shifted right by one index, and the last element of the array is moved to the first place. For example, the rotation of array A = [3, 8, 9, 7, 6] is [6, 3, 8, 9, 7] (elements are shifted right by one index and 6 is moved to the first place).\n",
    "\n",
    "The goal is to rotate array A K times; that is, each element of A will be shifted to the right K times.\n",
    "\n",
    "Write a function:\n",
    "\n",
    "def solution(A, K)\n",
    "\n",
    "that, given an array A consisting of N integers and an integer K, returns the array A rotated K times.\n",
    "\n",
    "For example, given\n",
    "\n",
    "    A = [3, 8, 9, 7, 6]\n",
    "    K = 3\n",
    "\n",
    "the function should return [9, 7, 6, 3, 8]. Three rotations were made:\n",
    "\n",
    "    [3, 8, 9, 7, 6] -> [6, 3, 8, 9, 7]\n",
    "    [6, 3, 8, 9, 7] -> [7, 6, 3, 8, 9]\n",
    "    [7, 6, 3, 8, 9] -> [9, 7, 6, 3, 8]\n"
   ]
  },
  {
   "cell_type": "code",
   "execution_count": 27,
   "metadata": {},
   "outputs": [
    {
     "data": {
      "text/plain": [
       "[9, 7, 6, 3, 8]"
      ]
     },
     "execution_count": 27,
     "metadata": {},
     "output_type": "execute_result"
    }
   ],
   "source": [
    "import numpy as np\n",
    "\n",
    "a = [3, 8, 9, 7, 6]\n",
    "k = 3\n",
    "\n",
    "\n",
    "def solution(A, K):\n",
    "    for i in range(0, K):  # will perform K iterations of the below code\n",
    "        if A == []:  # check if list is empty\n",
    "            return A  # return A if A is the empty list\n",
    "        A.insert(0, A.pop())  # inserts at the first index of A the last element of A\n",
    "    return A  # will return the list A\n",
    "\n",
    "\n",
    "solution(a, k)"
   ]
  },
  {
   "cell_type": "code",
   "execution_count": 28,
   "metadata": {},
   "outputs": [
    {
     "data": {
      "text/plain": [
       "[9, 7, 6, 3, 8]"
      ]
     },
     "execution_count": 28,
     "metadata": {},
     "output_type": "execute_result"
    }
   ],
   "source": [
    "# Original Solution\n",
    "def solution(A, K):\n",
    "    list = []\n",
    "    for item in range(len(A) - K, len(A)):\n",
    "        list.append(A[item])\n",
    "    for item in range(0, len(A) - K):\n",
    "        list.append(A[item])\n",
    "    return list\n",
    "\n",
    "\n",
    "a = [3, 8, 9, 7, 6]\n",
    "k = 3\n",
    "\n",
    "solution(a, k)"
   ]
  },
  {
   "cell_type": "code",
   "execution_count": 29,
   "metadata": {},
   "outputs": [
    {
     "name": "stdout",
     "output_type": "stream",
     "text": [
      "[9, 7, 6, 3, 8]\n"
     ]
    }
   ],
   "source": [
    "# Example: Right Rotation of a List by Appending Elements to a New List\n",
    "a = [3, 8, 9, 7, 6]\n",
    "k = 3\n",
    "l = []  # empty list\n",
    "\n",
    "for item in range(len(a) - k, len(a)):\n",
    "    l.append(a[item])\n",
    "\n",
    "for item in range(0, len(a) - k):\n",
    "    l.append(a[item])\n",
    "\n",
    "print(l)"
   ]
  },
  {
   "cell_type": "code",
   "execution_count": 30,
   "metadata": {},
   "outputs": [
    {
     "name": "stdout",
     "output_type": "stream",
     "text": [
      "[9, 7, 6, 3, 8]\n"
     ]
    }
   ],
   "source": [
    "# Example: Rotate a List using List Comprehension\n",
    "a = [3, 8, 9, 7, 6]\n",
    "k = 3\n",
    "l2 = [a[(i - k) % len(a)] for i, x in enumerate(a)]\n",
    "print(l2)"
   ]
  },
  {
   "attachments": {},
   "cell_type": "markdown",
   "metadata": {},
   "source": [
    "# Array: OddOccurrencesInArray\n"
   ]
  },
  {
   "attachments": {},
   "cell_type": "markdown",
   "metadata": {},
   "source": [
    "A non-empty array A consisting of N integers is given. The array contains an odd number of elements, and each element of the array can be paired with another element that has the same value, except for one element that is left unpaired.\n",
    "\n",
    "For example, in array A such that:\n",
    "\n",
    "    A[0] = 9  A[1] = 3  A[2] = 9\n",
    "    A[3] = 3  A[4] = 9  A[5] = 7\n",
    "    A[6] = 9\n",
    "\n",
    "the elements at indexes 0 and 2 have value 9,\n",
    "the elements at indexes 1 and 3 have value 3,\n",
    "the elements at indexes 4 and 6 have value 9,\n",
    "the element at index 5 has value 7 and is unpaired.\n"
   ]
  },
  {
   "cell_type": "code",
   "execution_count": 31,
   "metadata": {},
   "outputs": [
    {
     "data": {
      "text/plain": [
       "11"
      ]
     },
     "execution_count": 31,
     "metadata": {},
     "output_type": "execute_result"
    }
   ],
   "source": [
    "def solution(N):\n",
    "    s = set()\n",
    "    for v in N:\n",
    "        s.add(v) if v not in s else s.remove(v)\n",
    "    for v in s:\n",
    "        return v\n",
    "\n",
    "input = [9, 3, 9, 3, 7, 9, 9, 10, 11, 10, 7]\n",
    "solution(input)"
   ]
  },
  {
   "attachments": {},
   "cell_type": "markdown",
   "metadata": {},
   "source": [
    "# Time Complexity: FrogJmp"
   ]
  },
  {
   "attachments": {},
   "cell_type": "markdown",
   "metadata": {},
   "source": [
    "A small frog wants to get to the other side of the road. The frog is currently located at position X and wants to get to a position greater than or equal to Y. The small frog always jumps a fixed distance, D.\n",
    "\n",
    "Count the minimal number of jumps that the small frog must perform to reach its target.\n",
    "\n",
    "Write a function:\n",
    "\n",
    "def solution(X, Y, D)\n",
    "\n",
    "that, given three integers X, Y and D, returns the minimal number of jumps from position X to a position equal to or greater than Y.\n",
    "\n",
    "For example, given:\n",
    "\n",
    "    X = 10\n",
    "    Y = 85\n",
    "    D = 30\n",
    "the function should return 3, because the frog will be positioned as follows:\n",
    "- after the first jump, at position 10 + 30 = 40\n",
    "- after the second jump, at position 10 + 30 + 30 = 70\n",
    "- after the third jump, at position 10 + 30 + 30 + 30 = 100"
   ]
  },
  {
   "cell_type": "code",
   "execution_count": 32,
   "metadata": {},
   "outputs": [
    {
     "data": {
      "text/plain": [
       "3"
      ]
     },
     "execution_count": 32,
     "metadata": {},
     "output_type": "execute_result"
    }
   ],
   "source": [
    "# one way\n",
    "def solution(X, Y, D):\n",
    "    distance = Y - X  # 75\n",
    "    if distance % D == 0: # module if 75 % 30 == 0, result 15, the condition is false\n",
    "        return distance // D\n",
    "    else:\n",
    "        return distance // D + 1  # floor then, 75 // 30 + 1 = 3\n",
    "solution(10, 85, 30)\n",
    "# solution(10, 10, 1)"
   ]
  },
  {
   "attachments": {},
   "cell_type": "markdown",
   "metadata": {},
   "source": [
    "# Array: Value Missing"
   ]
  },
  {
   "attachments": {},
   "cell_type": "markdown",
   "metadata": {},
   "source": [
    "An array A consisting of N different integers is given. The array contains integers in the range [1..(N + 1)], which means that exactly one element is missing.\n",
    "\n",
    "Your goal is to find that missing element.\n",
    "\n",
    "Write a function:\n",
    "\n",
    "def solution(A)\n",
    "\n",
    "that, given an array A, returns the value of the missing element.\n",
    "\n",
    "For example, given array A such that:\n",
    "\n",
    "    A[0] = 2\n",
    "    A[1] = 3\n",
    "    A[2] = 1\n",
    "    A[3] = 5\n",
    "the function should return 4, as it is the missing element."
   ]
  },
  {
   "cell_type": "code",
   "execution_count": 33,
   "metadata": {},
   "outputs": [
    {
     "data": {
      "text/plain": [
       "4"
      ]
     },
     "execution_count": 33,
     "metadata": {},
     "output_type": "execute_result"
    }
   ],
   "source": [
    "# you can write to stdout for debugging purposes, e.g.\n",
    "# print(\"this is a debug message\")\n",
    "\n",
    "def solution(n):\n",
    "    # Implement your solution here\n",
    "    # pass\n",
    "    numbers = set(n)\n",
    "    # length = len(n)\n",
    "    output = []\n",
    "    for i in range(1, n[-1]):\n",
    "        if i not in numbers:\n",
    "            output.append(i)\n",
    "    return output[0]\n",
    "\n",
    "solution([2,3,1,5])       "
   ]
  },
  {
   "cell_type": "code",
   "execution_count": 34,
   "metadata": {},
   "outputs": [
    {
     "data": {
      "text/plain": [
       "4"
      ]
     },
     "execution_count": 34,
     "metadata": {},
     "output_type": "execute_result"
    }
   ],
   "source": [
    "def findMissingNumbers(n):\n",
    "    numbers = set(n)\n",
    "    length = len(n)\n",
    "    output = []\n",
    "    for i in range(1, n[-1]): \n",
    "        if i not in numbers:\n",
    "            output.append(i)\n",
    "    return output[0]\n",
    "findMissingNumbers([2,3,1,5])"
   ]
  },
  {
   "cell_type": "code",
   "execution_count": 35,
   "metadata": {},
   "outputs": [
    {
     "name": "stdout",
     "output_type": "stream",
     "text": [
      "[4]\n"
     ]
    }
   ],
   "source": [
    "def findMissingNumbers(n):\n",
    "    numbers = set(n)\n",
    "    length = len(n)\n",
    "    output = []\n",
    "    for i in range(1, n[-1]):\n",
    "        if i not in numbers:\n",
    "            output.append(i)\n",
    "    return output\n",
    "    \n",
    "listOfNumbers = [1, 2, 3, 5]\n",
    "print(findMissingNumbers(listOfNumbers))"
   ]
  },
  {
   "cell_type": "code",
   "execution_count": 36,
   "metadata": {},
   "outputs": [
    {
     "data": {
      "text/plain": [
       "4"
      ]
     },
     "execution_count": 36,
     "metadata": {},
     "output_type": "execute_result"
    }
   ],
   "source": [
    "\n",
    "def solution(A):\n",
    "    # sort the list\n",
    "    A.sort()\n",
    "    # append index of non-positive integers in indicies\n",
    "    indicies = []\n",
    "    for index, int_val in enumerate(A):\n",
    "        if int_val <= 0:\n",
    "            indicies.append(index)\n",
    "    # check if a non-positive integer is present in array A\n",
    "    # if present, use the last occurrence of that non-positive\n",
    "    # integer to slice array A\n",
    "    if min(A) <= 0:\n",
    "        A = A[indicies[-1]+1:]\n",
    "    # now check for extreme case in which the function returns 1\n",
    "    if len(A) == 0 or min(A) != 1:\n",
    "        return 1\n",
    "    # after eliminating different cases check for the case,\n",
    "    # where array starts with 1 and only positive integers are present\n",
    "    # lag array A by removing last integer and add 0 to the start\n",
    "    B = [0] + A[:-1]\n",
    "    # perform element wise subtraction of A from B, \n",
    "    C = list(map(lambda a,b: a-b, A,B))\n",
    "    # if the sequence is complete and no missing integer is found\n",
    "    # the function returns the last integer in array A plus 1\n",
    "    if 0 <= max(C) <= 1:\n",
    "        return A[-1]+1\n",
    "    # if the sequence is incomplete and there is an instance of \n",
    "    # missing integer, find the first instance where difference\n",
    "    # between current and previous element > 1 and return that\n",
    "    # value of integer at that index-1 plus 1\n",
    "    else:\n",
    "        for index, int_val in enumerate(C):\n",
    "            if int_val > 1:\n",
    "                return A[index-1] + 1\n",
    "            \n",
    "solution([2,3,1,5,7,9])            "
   ]
  },
  {
   "cell_type": "code",
   "execution_count": 37,
   "metadata": {},
   "outputs": [
    {
     "data": {
      "text/plain": [
       "4"
      ]
     },
     "execution_count": 37,
     "metadata": {},
     "output_type": "execute_result"
    }
   ],
   "source": [
    "def solution_alt(numbers):\n",
    "    \"\"\"Alternate solution method implementation.\"\"\"\n",
    "    # convert the list into a sorted list of unique elements\n",
    "    nums = sorted(set(numbers))\n",
    "    # get the first positive non-zero number or default to -1\n",
    "    first_positive = next((x for x in nums if x > 0), -1)\n",
    "    # return 1 if either not found or greater than 1\n",
    "    if first_positive == -1 or first_positive > 1:\n",
    "        return 1\n",
    "    # get the index of the first positive number\n",
    "    start = nums.index(first_positive)\n",
    "    # iterate through the list, starting from that index\n",
    "    for crt, nxt in zip(nums[start:], nums[start + 1:]):\n",
    "        # difference between neighbors > 1\n",
    "        if nxt - crt > 1:\n",
    "            return crt + 1\n",
    "    # return the next would-be element\n",
    "    return nums[-1] + 1\n",
    "\n",
    "solution_alt([2,3,1,5,7,9])  "
   ]
  },
  {
   "cell_type": "code",
   "execution_count": 38,
   "metadata": {},
   "outputs": [
    {
     "data": {
      "text/plain": [
       "4"
      ]
     },
     "execution_count": 38,
     "metadata": {},
     "output_type": "execute_result"
    }
   ],
   "source": [
    "def solution(A):\n",
    "    sum = 0\n",
    "    N = len(A)\n",
    "    for val in A:\n",
    "        sum += val\n",
    "    expected = (N + 1) * (N + 2) // 2;\n",
    "    return expected - sum\n",
    "\n",
    "solution([2,3,1,5])  "
   ]
  },
  {
   "attachments": {},
   "cell_type": "markdown",
   "metadata": {},
   "source": [
    "# Time Complexity: TapeEquilibrium"
   ]
  },
  {
   "attachments": {},
   "cell_type": "markdown",
   "metadata": {},
   "source": [
    "A non-empty array A consisting of N integers is given. Array A represents numbers on a tape.\n",
    "\n",
    "Any integer P, such that 0 < P < N, splits this tape into two non-empty parts: A[0], A[1], ..., A[P − 1] and A[P], A[P + 1], ..., A[N − 1].\n",
    "\n",
    "The difference between the two parts is the value of: |(A[0] + A[1] + ... + A[P − 1]) − (A[P] + A[P + 1] + ... + A[N − 1])|\n",
    "\n",
    "In other words, it is the absolute difference between the sum of the first part and the sum of the second part.\n",
    "\n",
    "For example, consider array A such that:\n",
    "\n",
    "    A[0] = 3\n",
    "    A[1] = 1\n",
    "    A[2] = 2\n",
    "    A[3] = 4\n",
    "    A[4] = 3\n",
    "We can split this tape in four places:\n",
    "\n",
    "- P = 1, difference = |3 − 10| = 7\n",
    "- P = 2, difference = |4 − 9| = 5\n",
    "- P = 3, difference = |6 − 7| = 1\n",
    "- P = 4, difference = |10 − 3| = 7\n",
    "Write a function:\n",
    "\n",
    "class Solution { public int solution(int[] A); }\n",
    "\n",
    "that, given a non-empty array A of N integers, returns the minimal difference that can be achieved."
   ]
  },
  {
   "cell_type": "code",
   "execution_count": 39,
   "metadata": {},
   "outputs": [
    {
     "data": {
      "text/plain": [
       "1"
      ]
     },
     "execution_count": 39,
     "metadata": {},
     "output_type": "execute_result"
    }
   ],
   "source": [
    "def solution(A):\n",
    "    heads = A[0]\n",
    "    tails = sum(A[1:])\n",
    "    diff  = abs(heads - tails)\n",
    "\n",
    "    for index in range(1, len(A)-1):\n",
    "        heads += A[index]\n",
    "        tails -= A[index]\n",
    "        if abs(heads-tails) < diff:\n",
    "            diff = abs(heads - tails)\n",
    "    return diff\n",
    "\n",
    "solution([3, 1, 2, 4, 3])"
   ]
  },
  {
   "attachments": {},
   "cell_type": "markdown",
   "metadata": {},
   "source": [
    "# Counting Elements: FrogRiverOne"
   ]
  },
  {
   "attachments": {},
   "cell_type": "markdown",
   "metadata": {},
   "source": [
    "A small frog wants to get to the other side of a river. The frog is initially located on one bank of the river (position 0) and wants to get to the opposite bank (position X+1). Leaves fall from a tree onto the surface of the river.\n",
    "\n",
    "You are given an array A consisting of N integers representing the falling leaves. A[K] represents the position where one leaf falls at time K, measured in seconds.\n",
    "\n",
    "The goal is to find the earliest time when the frog can jump to the other side of the river. The frog can cross only when leaves appear at every position across the river from 1 to X (that is, we want to find the earliest moment when all the positions from 1 to X are covered by leaves). You may assume that the speed of the current in the river is negligibly small, i.e. the leaves do not change their positions once they fall in the river.\n",
    "\n",
    "For example, you are given integer X = 5 and array A such that:\n",
    "\n",
    "    A[0] = 1\n",
    "    [1] = 3\n",
    "    A[2] = 1\n",
    "    A[3] = 4\n",
    "    A[4] = 2\n",
    "    A[5] = 3\n",
    "    A[6] = 5\n",
    "    A[7] = 4\n",
    "In second 6, a leaf falls into position 5. This is the earliest time when leaves appear in every position across the river.\n",
    "\n",
    "Write a function:\n",
    "\n",
    "def solution(X, A)\n",
    "\n",
    "that, given a non-empty array A consisting of N integers and integer X, returns the earliest time when the frog can jump to the other side of the river.\n",
    "\n",
    "If the frog is never able to jump to the other side of the river, the function should return −1.\n",
    "\n",
    "For example, given X = 5 and array A such that:\n",
    "\n",
    "    A[0] = 1\n",
    "    A[1] = 3\n",
    "    A[2] = 1\n",
    "    A[3] = 4\n",
    "    A[4] = 2\n",
    "    A[5] = 3\n",
    "    A[6] = 5\n",
    "    A[7] = 4\n",
    "the function should return 6, as explained above."
   ]
  },
  {
   "cell_type": "code",
   "execution_count": 40,
   "metadata": {},
   "outputs": [
    {
     "data": {
      "text/plain": [
       "6"
      ]
     },
     "execution_count": 40,
     "metadata": {},
     "output_type": "execute_result"
    }
   ],
   "source": [
    "def solution(X, A):\n",
    "    steps      = set([i for i in range(1, X + 1 )])\n",
    "    frog_steps = set()\n",
    "\n",
    "    for index, leaf in enumerate(A):\n",
    "        frog_steps.add(leaf)\n",
    "        if frog_steps == steps:\n",
    "            return index\n",
    "    return -1\n",
    "\n",
    "solution(5, [1, 3, 1, 4, 2, 3, 5, 4])"
   ]
  },
  {
   "cell_type": "code",
   "execution_count": 41,
   "metadata": {},
   "outputs": [
    {
     "data": {
      "text/plain": [
       "6"
      ]
     },
     "execution_count": 41,
     "metadata": {},
     "output_type": "execute_result"
    }
   ],
   "source": [
    "from collections import OrderedDict as od\n",
    "def solution(X, A):\n",
    "    if sum(set(A))!=(X*(X+1))//2:\n",
    "        return -1\n",
    "    k=list(od.fromkeys(A).keys())[-1]\n",
    "    for x,y in enumerate(A):\n",
    "        if y==k:\n",
    "            return x\n",
    "        \n",
    "solution(5, [1, 3, 1, 4, 2, 3, 5, 4])"
   ]
  }
 ],
 "metadata": {
  "kernelspec": {
   "display_name": "envSpark",
   "language": "python",
   "name": "python3"
  },
  "language_info": {
   "codemirror_mode": {
    "name": "ipython",
    "version": 3
   },
   "file_extension": ".py",
   "mimetype": "text/x-python",
   "name": "python",
   "nbconvert_exporter": "python",
   "pygments_lexer": "ipython3",
   "version": "3.8.10"
  },
  "orig_nbformat": 4
 },
 "nbformat": 4,
 "nbformat_minor": 2
}
