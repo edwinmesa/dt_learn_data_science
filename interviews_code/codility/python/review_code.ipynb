{
 "cells": [
  {
   "attachments": {},
   "cell_type": "markdown",
   "metadata": {},
   "source": [
    "Learning Python: Programming and Data Structures- Tutorial 7- Functions and Recursion; Multiple Function Arguments and Partial Functions\n"
   ]
  },
  {
   "cell_type": "code",
   "execution_count": 5,
   "metadata": {},
   "outputs": [
    {
     "name": "stdout",
     "output_type": "stream",
     "text": [
      "12\n"
     ]
    }
   ],
   "source": [
    "# index function\n",
    "message = 'Python is a fun programming language'\n",
    "print(message.find('fun'))"
   ]
  },
  {
   "cell_type": "code",
   "execution_count": 8,
   "metadata": {},
   "outputs": [
    {
     "name": "stdout",
     "output_type": "stream",
     "text": [
      "doing A's stuff\n",
      "doing B's stuff\n",
      "doing A's stuff\n",
      "doing C's stuff\n",
      "doing D's stuff\n"
     ]
    }
   ],
   "source": [
    "# The Diamond Problem\n",
    "class A(object):\n",
    "    def do_your_stuff(self):\n",
    "        print(\"doing A's stuff\")\n",
    "\n",
    "class B(A):\n",
    "    def do_your_stuff(self):\n",
    "        A.do_your_stuff(self)\n",
    "        print(\"doing B's stuff\")\n",
    "\n",
    "class C(A):\n",
    "    def do_your_stuff(self):\n",
    "        A.do_your_stuff(self)\n",
    "        print(\"doing C's stuff\")\n",
    "\n",
    "class D(B,C):\n",
    "    def do_your_stuff(self):\n",
    "        B.do_your_stuff(self)\n",
    "        C.do_your_stuff(self)\n",
    "        print(\"doing D's stuff\")\n",
    "\n",
    "d = D()\n",
    "d.do_your_stuff()"
   ]
  },
  {
   "cell_type": "code",
   "execution_count": 11,
   "metadata": {},
   "outputs": [
    {
     "name": "stdout",
     "output_type": "stream",
     "text": [
      "51\n"
     ]
    }
   ],
   "source": [
    "# Decorators\n",
    "# In Python, a decorator is a design pattern that allows you to modify the \n",
    "# functionality of a function by wrapping it in another function.\n",
    "\n",
    "# The outer function is called the decorator, which takes the original\n",
    "# function as an argument and returns a modified version of it.\n",
    "\n",
    "# Nested Function\n",
    "\n",
    "def outer(x):\n",
    "    def inner(y):\n",
    "        return x + y\n",
    "    return inner\n",
    "\n",
    "add_five = outer(45)\n",
    "add_six  = add_five(6)\n",
    "print(add_six)"
   ]
  },
  {
   "cell_type": "code",
   "execution_count": 15,
   "metadata": {},
   "outputs": [
    {
     "name": "stdout",
     "output_type": "stream",
     "text": [
      "10\n"
     ]
    }
   ],
   "source": [
    "# Pass Function as Argument\n",
    "def add(x,y):\n",
    "    return x + y\n",
    "\n",
    "def calculate(func, x, y):\n",
    "    return func(x, y)\n",
    "\n",
    "result = calculate(add, 4, 6)\n",
    "print(result)"
   ]
  },
  {
   "cell_type": "code",
   "execution_count": 16,
   "metadata": {},
   "outputs": [
    {
     "name": "stdout",
     "output_type": "stream",
     "text": [
      "Hello, Atlatins!\n"
     ]
    }
   ],
   "source": [
    "# Return a Function as a Value\n",
    "def greeting(name):\n",
    "    def hello():\n",
    "        return 'Hello, ' + name + '!'\n",
    "    return hello\n",
    "\n",
    "greet = greeting('Atlatins')\n",
    "print(greet())"
   ]
  },
  {
   "cell_type": "code",
   "execution_count": 26,
   "metadata": {},
   "outputs": [
    {
     "name": "stdout",
     "output_type": "stream",
     "text": [
      "I got decorated\n",
      "I am ordinary\n"
     ]
    }
   ],
   "source": [
    "# Python Decorators\n",
    "# A Python decorator is a function \n",
    "# that takes in a function and returns it by adding some functionality\n",
    "def make_pretty(func):\n",
    "    def inner():\n",
    "        print(\"I got decorated\")\n",
    "        func()\n",
    "    return inner\n",
    "\n",
    "@make_pretty\n",
    "def ordinary():\n",
    "    print(\"I am ordinary\")\n",
    "\n",
    "ordinary()\n",
    "# decorated_function = make_pretty(ordinary)\n",
    "# decorated_function()"
   ]
  },
  {
   "cell_type": "code",
   "execution_count": 27,
   "metadata": {},
   "outputs": [
    {
     "name": "stdout",
     "output_type": "stream",
     "text": [
      "i am going to divide 2 and 5\n",
      "0.4\n"
     ]
    }
   ],
   "source": [
    "def smart_divide(func):\n",
    "    def inner(a, b):\n",
    "        print(\"i am going to divide\", a, \"and\", b)\n",
    "        if b == 0:\n",
    "            print(\"Whoops! cannot divide\")\n",
    "            return\n",
    "        return func(a, b)\n",
    "    return inner\n",
    "\n",
    "@smart_divide\n",
    "def divide(a,b):\n",
    "    print(a/b)\n",
    "\n",
    "divide(2,5)"
   ]
  },
  {
   "cell_type": "code",
   "execution_count": 28,
   "metadata": {},
   "outputs": [
    {
     "name": "stdout",
     "output_type": "stream",
     "text": [
      "i am going to divide 2 and 0\n",
      "Whoops! cannot divide\n"
     ]
    }
   ],
   "source": [
    "divide(2,0)"
   ]
  },
  {
   "cell_type": "code",
   "execution_count": 30,
   "metadata": {},
   "outputs": [
    {
     "name": "stdout",
     "output_type": "stream",
     "text": [
      "***************\n",
      "%%%%%%%%%%%%%%%\n",
      "Hello\n",
      "%%%%%%%%%%%%%%%\n",
      "***************\n"
     ]
    }
   ],
   "source": [
    "def star(func):\n",
    "    def inner(*args, **kwargs):\n",
    "        print(\"*\" * 15)\n",
    "        func(*args, **kwargs)\n",
    "        print(\"*\" * 15)\n",
    "    return inner\n",
    "\n",
    "\n",
    "def percent(func):\n",
    "    def inner(*args, **kwargs):\n",
    "        print(\"%\" * 15)\n",
    "        func(*args, **kwargs)\n",
    "        print(\"%\" * 15)\n",
    "    return inner\n",
    "\n",
    "@star\n",
    "@percent\n",
    "\n",
    "def printer(msg):\n",
    "    print(msg)\n",
    "\n",
    "printer(\"Hello\")"
   ]
  }
 ],
 "metadata": {
  "kernelspec": {
   "display_name": "envSpark",
   "language": "python",
   "name": "python3"
  },
  "language_info": {
   "codemirror_mode": {
    "name": "ipython",
    "version": 3
   },
   "file_extension": ".py",
   "mimetype": "text/x-python",
   "name": "python",
   "nbconvert_exporter": "python",
   "pygments_lexer": "ipython3",
   "version": "3.8.10"
  },
  "orig_nbformat": 4
 },
 "nbformat": 4,
 "nbformat_minor": 2
}
