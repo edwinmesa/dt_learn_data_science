{
 "cells": [
  {
   "cell_type": "code",
   "execution_count": 10,
   "metadata": {},
   "outputs": [
    {
     "name": "stdout",
     "output_type": "stream",
     "text": [
      "Floor Division:  5\n",
      "**************************************************\n",
      "Floor Division:  3\n",
      "**************************************************\n",
      "Floor Division:  2\n",
      "**************************************************\n",
      "Floor Division:  4\n",
      "**************************************************\n",
      "Floor Division:  3\n",
      "**************************************************\n"
     ]
    }
   ],
   "source": [
    "# Floor Division 10 // 3 = 3\n",
    "print(\"Floor Division: \", 10 // 2)\n",
    "print(\"*\" * 50)\n",
    "print(\"Floor Division: \", 10 // 3)\n",
    "print(\"*\" * 50)\n",
    "print(\"Floor Division: \", 10 // 4)\n",
    "print(\"*\" * 50)\n",
    "print(\"Floor Division: \", 19 // 4)\n",
    "print(\"*\" * 50)\n",
    "print(\"Floor Division: \", 75 // 30 + 1)\n",
    "print(\"*\" * 50)\n"
   ]
  },
  {
   "cell_type": "code",
   "execution_count": 11,
   "metadata": {},
   "outputs": [
    {
     "name": "stdout",
     "output_type": "stream",
     "text": [
      "modulo Operator:  3\n",
      "**************************************************\n",
      "modulo Operator:  2\n",
      "**************************************************\n",
      "modulo Operator:  1\n",
      "**************************************************\n",
      "modulo Operator:  15\n",
      "**************************************************\n",
      "modulo Operator:  0\n"
     ]
    }
   ],
   "source": [
    "# modulo Operator\n",
    "print(\"modulo Operator: \", 15 % 4)\n",
    "print(\"*\" * 50)\n",
    "print(\"modulo Operator: \", 17 % 3)\n",
    "print(\"*\" * 50)\n",
    "print(\"modulo Operator: \", 21 % 4)\n",
    "print(\"*\" * 50)\n",
    "print(\"modulo Operator: \", 75 % 30)\n",
    "print(\"*\" * 50)\n",
    "print(\"modulo Operator: \", 10 % 2)\n"
   ]
  },
  {
   "attachments": {},
   "cell_type": "markdown",
   "metadata": {},
   "source": [
    "# Set\n"
   ]
  },
  {
   "cell_type": "code",
   "execution_count": 12,
   "metadata": {},
   "outputs": [
    {
     "name": "stdout",
     "output_type": "stream",
     "text": [
      "<class 'set'>\n"
     ]
    }
   ],
   "source": [
    "languages = {\"Swift\", \"Java\", \"Python\"}\n",
    "print(type(languages))\n"
   ]
  },
  {
   "cell_type": "code",
   "execution_count": 13,
   "metadata": {},
   "outputs": [
    {
     "name": "stdout",
     "output_type": "stream",
     "text": [
      "{'Lacoste', 'google', 'apple', 'Ralph Lauren'}\n",
      "<class 'set'>\n"
     ]
    }
   ],
   "source": [
    "companies = {\"Lacoste\", \"Ralph Lauren\"}\n",
    "tech_companies = [\"apple\", \"google\", \"apple\"]\n",
    "companies.update(tech_companies)\n",
    "print(companies)\n",
    "print(type(companies))\n"
   ]
  },
  {
   "cell_type": "code",
   "execution_count": 14,
   "metadata": {},
   "outputs": [
    {
     "name": "stdout",
     "output_type": "stream",
     "text": [
      "Union using |: {0, 1, 2, 3, 4, 5}\n",
      "Union using union(): {0, 1, 2, 3, 4, 5}\n"
     ]
    }
   ],
   "source": [
    "# first set\n",
    "A = {1, 3, 5}\n",
    "# second set\n",
    "B = {0, 2, 4}\n",
    "\n",
    "# perform union operation using |\n",
    "print(\"Union using |:\", A | B)\n",
    "\n",
    "# perform union operation using union()\n",
    "print(\"Union using union():\", A.union(B))\n"
   ]
  },
  {
   "cell_type": "code",
   "execution_count": 15,
   "metadata": {},
   "outputs": [
    {
     "name": "stdout",
     "output_type": "stream",
     "text": [
      "Intersection using &: {1, 3}\n",
      "Intersection using intersection(): {1, 3}\n"
     ]
    }
   ],
   "source": [
    "# first set\n",
    "A = {1, 3, 5}\n",
    "\n",
    "# second set\n",
    "B = {1, 2, 3}\n",
    "\n",
    "# perform intersection operation using &\n",
    "print(\"Intersection using &:\", A & B)\n",
    "\n",
    "# perform intersection operation using intersection()\n",
    "print(\"Intersection using intersection():\", A.intersection(B))\n"
   ]
  },
  {
   "attachments": {},
   "cell_type": "markdown",
   "metadata": {},
   "source": [
    "# Lists, Dictionarys, Tuples, Set\n"
   ]
  },
  {
   "cell_type": "code",
   "execution_count": 16,
   "metadata": {},
   "outputs": [
    {
     "name": "stdout",
     "output_type": "stream",
     "text": [
      "type <class 'dict'> {'a': 1, 'b': 2, 'c': 3}\n",
      "**************************************************\n",
      "type <class 'set'> {'c', 'a', 'b', 'd'}\n",
      "**************************************************\n",
      "type <class 'list'> ['a', 'b', 'c', 'd']\n",
      "**************************************************\n",
      "type <class 'tuple'> ('a', 'b', 'c')\n",
      "**************************************************\n"
     ]
    }
   ],
   "source": [
    "a = {\"a\": 1, \"b\": 2}\n",
    "a1 = {\"c\": 3}\n",
    "a.update(a1)\n",
    "b = {\"a\", \"b\", \"c\"}\n",
    "b1 = {\"d\"}\n",
    "b.update(b1)\n",
    "c = [\"a\", \"b\", \"c\"]\n",
    "c.insert(3, \"d\")\n",
    "d = (\"a\", \"b\", \"c\")\n",
    "\n",
    "print(\"type\", type(a), a)\n",
    "print(\"*\" * 50)\n",
    "print(\"type\", type(b), b)\n",
    "print(\"*\" * 50)\n",
    "print(\"type\", type(c), c)\n",
    "print(\"*\" * 50)\n",
    "print(\"type\", type(d), d)\n",
    "print(\"*\" * 50)\n"
   ]
  },
  {
   "attachments": {},
   "cell_type": "markdown",
   "metadata": {},
   "source": [
    "# Enumerate\n"
   ]
  },
  {
   "cell_type": "code",
   "execution_count": 17,
   "metadata": {},
   "outputs": [
    {
     "name": "stdout",
     "output_type": "stream",
     "text": [
      "[(0, 'Python'), (1, 'Java'), (2, 'JavaScript')]\n"
     ]
    }
   ],
   "source": [
    "languages = [\"Python\", \"Java\", \"JavaScript\"]\n",
    "enumerate_prime = enumerate(languages)\n",
    "print(list(enumerate_prime))\n"
   ]
  },
  {
   "cell_type": "code",
   "execution_count": 18,
   "metadata": {},
   "outputs": [
    {
     "name": "stdout",
     "output_type": "stream",
     "text": [
      "<class 'enumerate'>\n",
      "**************************************************\n",
      "[(0, 'bread'), (1, 'milk'), (2, 'butter')]\n",
      "**************************************************\n",
      "[(10, 'bread'), (11, 'milk'), (12, 'butter')]\n"
     ]
    }
   ],
   "source": [
    "grocery = [\"bread\", \"milk\", \"butter\"]\n",
    "enumerate_grocery = enumerate(grocery)\n",
    "print(type(enumerate_grocery))\n",
    "print(\"*\" * 50)\n",
    "# convert to list\n",
    "print(list(enumerate_grocery))\n",
    "print(\"*\" * 50)\n",
    "enumerate_grocery = enumerate(grocery, 10)\n",
    "print(list(enumerate_grocery))\n"
   ]
  },
  {
   "cell_type": "code",
   "execution_count": 19,
   "metadata": {},
   "outputs": [
    {
     "name": "stdout",
     "output_type": "stream",
     "text": [
      "(0, 'bread')\n",
      "(1, 'milk')\n",
      "(2, 'butter')\n",
      "**************************************************\n",
      "0 bread\n",
      "1 milk\n",
      "2 butter\n",
      "**************************************************\n",
      "10 bread\n",
      "11 milk\n",
      "12 butter\n",
      "**************************************************\n",
      "0 bread\n",
      "1 milk\n",
      "2 butter\n"
     ]
    }
   ],
   "source": [
    "grocery = [\"bread\", \"milk\", \"butter\"]\n",
    "\n",
    "for item in enumerate(grocery):\n",
    "    print(item)\n",
    "print(\"*\" * 50)\n",
    "for count, item in enumerate(grocery):\n",
    "    print(count, item)\n",
    "print(\"*\" * 50)\n",
    "for count, item in enumerate(grocery, 10):\n",
    "    print(count, item)\n",
    "print(\"*\" * 50)\n",
    "for index, item in enumerate(grocery):\n",
    "    print(index, item)\n"
   ]
  },
  {
   "attachments": {},
   "cell_type": "markdown",
   "metadata": {},
   "source": [
    "# Loops Easy - Range\n"
   ]
  },
  {
   "cell_type": "code",
   "execution_count": 20,
   "metadata": {},
   "outputs": [
    {
     "name": "stdout",
     "output_type": "stream",
     "text": [
      "Swift\n",
      "Python\n",
      "Go\n",
      "JavaScript\n"
     ]
    }
   ],
   "source": [
    "languages = [\"Swift\", \"Python\", \"Go\", \"JavaScript\"]\n",
    "\n",
    "for language in languages:\n",
    "    print(language)\n"
   ]
  },
  {
   "cell_type": "code",
   "execution_count": 21,
   "metadata": {},
   "outputs": [
    {
     "name": "stdout",
     "output_type": "stream",
     "text": [
      "0\n",
      "1\n",
      "5\n",
      "No items left\n"
     ]
    }
   ],
   "source": [
    "digits = [0, 1, 5]\n",
    "\n",
    "for i in digits:\n",
    "    print(i)\n",
    "else:\n",
    "    print(\"No items left\")"
   ]
  },
  {
   "cell_type": "code",
   "execution_count": 22,
   "metadata": {},
   "outputs": [
    {
     "name": "stdout",
     "output_type": "stream",
     "text": [
      "0\n",
      "1\n",
      "2\n",
      "3\n",
      "4\n",
      "**************************************************\n",
      "3\n",
      "4\n",
      "5\n",
      "**************************************************\n",
      "3\n",
      "5\n",
      "7\n"
     ]
    }
   ],
   "source": [
    "for x in range(5):\n",
    "    print(x)\n",
    "print(\"*\" * 50)\n",
    "for x in range(3, 6):\n",
    "    print(x)\n",
    "print(\"*\" * 50)\n",
    "for x in range(3, 8, 2):\n",
    "    print(x)\n"
   ]
  },
  {
   "cell_type": "code",
   "execution_count": 23,
   "metadata": {},
   "outputs": [
    {
     "name": "stdout",
     "output_type": "stream",
     "text": [
      "0\n",
      "1\n",
      "2\n",
      "3\n",
      "4\n",
      "**************************************************\n",
      "1\n",
      "3\n",
      "5\n",
      "7\n",
      "9\n",
      "**************************************************\n",
      "2\n",
      "4\n",
      "6\n",
      "8\n"
     ]
    }
   ],
   "source": [
    "count = 0\n",
    "while True:\n",
    "    print(count)\n",
    "    count += 1\n",
    "    if count >= 5:\n",
    "        break\n",
    "print(\"*\" * 50)\n",
    "\n",
    "# Prints out only odd numbers - 1,3,5,7,9\n",
    "for x in range(10):\n",
    "    # Check if x is even\n",
    "    if x % 2 == 0:\n",
    "        continue\n",
    "    print(x)\n",
    "print(\"*\" * 50)\n",
    "\n",
    "# Prints out only even numbers - 0,2,4,6,8\n",
    "for x in range(2, 10):\n",
    "    if x % 2 == 0:\n",
    "        print(x)\n"
   ]
  },
  {
   "cell_type": "code",
   "execution_count": 24,
   "metadata": {},
   "outputs": [
    {
     "name": "stdout",
     "output_type": "stream",
     "text": [
      "0\n",
      "1\n",
      "2\n",
      "3\n",
      "4\n",
      "count value reached 5\n",
      "**************************************************\n",
      "1\n",
      "2\n",
      "3\n",
      "4\n"
     ]
    }
   ],
   "source": [
    "count = 0\n",
    "while count < 5:\n",
    "    print(count)\n",
    "    count += 1\n",
    "else:\n",
    "    print(\"count value reached %d\" % (count))\n",
    "\n",
    "print(\"*\" * 50)\n",
    "\n",
    "# Prints out 1,2,3,4\n",
    "for i in range(1, 10):\n",
    "    if i % 5 == 0:\n",
    "        break\n",
    "    print(i)\n",
    "else:\n",
    "    print(\"................\")\n"
   ]
  },
  {
   "cell_type": "code",
   "execution_count": 25,
   "metadata": {},
   "outputs": [
    {
     "name": "stdout",
     "output_type": "stream",
     "text": [
      "4\n",
      "5\n",
      "9\n",
      "1\n",
      "3\n",
      "**************************************************\n",
      "0 : 4\n",
      "1 : 5\n",
      "2 : 9\n",
      "3 : 1\n",
      "4 : 3\n",
      "**************************************************\n",
      "[2, 3]\n",
      "[7, 8]\n",
      "**************************************************\n",
      "2\n",
      "3\n",
      "7\n",
      "8\n"
     ]
    }
   ],
   "source": [
    "nums = [4, 5, 9, 1, 3]\n",
    "for i in range(len(nums)):\n",
    "    print(nums[i])\n",
    "\n",
    "print(\"*\" * 50)\n",
    "for index, num in enumerate(nums):\n",
    "    print(f\"{index} : {num}\")\n",
    "\n",
    "print(\"*\" * 50)\n",
    "array1 = [[2, 3], [7, 8]]\n",
    "for row in array1:\n",
    "    print(row)\n",
    "\n",
    "print(\"*\" * 50)\n",
    "for row in array1:\n",
    "    for el in row:\n",
    "        print(el)\n"
   ]
  },
  {
   "cell_type": "code",
   "execution_count": 26,
   "metadata": {},
   "outputs": [
    {
     "name": "stdout",
     "output_type": "stream",
     "text": [
      "a 1\n",
      "a 2\n",
      "a 3\n",
      "b 1\n",
      "b 2\n",
      "b 3\n",
      "c 1\n",
      "c 2\n",
      "c 3\n"
     ]
    }
   ],
   "source": [
    "x = [\"a\", \"b\", \"c\"]\n",
    "y = [1, 2, 3]\n",
    "\n",
    "for i in x:\n",
    "    for j in y:\n",
    "        print(i, j)\n"
   ]
  },
  {
   "cell_type": "code",
   "execution_count": 27,
   "metadata": {},
   "outputs": [
    {
     "name": "stdout",
     "output_type": "stream",
     "text": [
      "2 * 1 = 2\n",
      "2 * 2 = 4\n",
      "2 * 3 = 6\n",
      "2 * 4 = 8\n",
      "**************************************************\n",
      "3 * 1 = 3\n",
      "3 * 2 = 6\n",
      "3 * 3 = 9\n",
      "3 * 4 = 12\n",
      "**************************************************\n"
     ]
    }
   ],
   "source": [
    "# Example 2: Printing multiplication table using Python nested for loops\n",
    "for i in range(2, 4):\n",
    "    for j in range(1, 5):\n",
    "        print(i, \"*\", j, \"=\", i * j)\n",
    "    print(\"*\" * 50)\n"
   ]
  },
  {
   "cell_type": "code",
   "execution_count": 28,
   "metadata": {},
   "outputs": [
    {
     "name": "stdout",
     "output_type": "stream",
     "text": [
      "I am  healthy\n",
      "I am  fine\n",
      "I am  geek\n",
      "**************************************************\n",
      "You are  healthy\n",
      "You are  fine\n",
      "You are  geek\n",
      "**************************************************\n"
     ]
    }
   ],
   "source": [
    "# Example 3: Printing using different inner and outer nested loops\n",
    "\n",
    "list1 = [\"I am \", \"You are \"]\n",
    "list2 = [\"healthy\", \"fine\", \"geek\"]\n",
    "len_list = len(list2)\n",
    "\n",
    "for item in list1:\n",
    "    i = 0\n",
    "    while i < len_list:\n",
    "        print(item, list2[i])\n",
    "        i += 1\n",
    "    print(\"*\" * 50)\n"
   ]
  },
  {
   "cell_type": "code",
   "execution_count": 29,
   "metadata": {},
   "outputs": [
    {
     "name": "stdout",
     "output_type": "stream",
     "text": [
      "Show Perfect number fom 1 to 100\n",
      "perfect number:  6\n",
      "perfect number:  28\n"
     ]
    }
   ],
   "source": [
    "# show the perfect number\n",
    "print(\"Show Perfect number fom 1 to 100\")\n",
    "n = 2\n",
    "\n",
    "while n <= 100:\n",
    "    x_sum = 0\n",
    "    # inner loop\n",
    "    for i in range(1, n):\n",
    "        if n % i == 0:\n",
    "            x_sum += i\n",
    "    if x_sum == n:\n",
    "        print(\"perfect number: \", n)\n",
    "    n += 1\n"
   ]
  },
  {
   "cell_type": "code",
   "execution_count": 30,
   "metadata": {},
   "outputs": [
    {
     "name": "stdout",
     "output_type": "stream",
     "text": [
      "1   2   3   4   5   6   7   8   9   10  \n",
      "2   4   6   8   10  12  14  16  18  20  \n",
      "3   6   9   12  15  18  21  24  27  30  \n",
      "4   8   12  16  20  24  28  32  36  40  \n",
      "5   10  15  20  25  30  35  40  45  50  \n",
      "6   12  18  24  30  36  42  48  54  60  \n",
      "7   14  21  28  35  42  49  56  63  70  \n",
      "8   16  24  32  40  48  56  64  72  80  \n",
      "9   18  27  36  45  54  63  72  81  90  \n",
      "10  20  30  40  50  60  70  80  90  100 \n"
     ]
    }
   ],
   "source": [
    "for i in range(1, 11):\n",
    "    for j in range(1, 11):\n",
    "        print(f\"{i * j}\".ljust(3), end=\" \")\n",
    "    print()"
   ]
  },
  {
   "cell_type": "code",
   "execution_count": 31,
   "metadata": {},
   "outputs": [
    {
     "name": "stdout",
     "output_type": "stream",
     "text": [
      "* \n",
      "* * \n",
      "* * * \n",
      "* * * * \n",
      "* * * * * \n",
      "* * * * * * \n",
      "* * * * * * * \n",
      "* * * * * * * * \n",
      "* * * * * * * * * \n",
      "* * * * * * * * * * \n"
     ]
    }
   ],
   "source": [
    "for i in range(1, 11):\n",
    "    for j in range(1, 11):\n",
    "        if j - i > 0:\n",
    "            break\n",
    "        print(\"*\", end=\" \")\n",
    "    print()\n"
   ]
  },
  {
   "attachments": {},
   "cell_type": "markdown",
   "metadata": {},
   "source": [
    "# Loops Complex\n"
   ]
  },
  {
   "cell_type": "code",
   "execution_count": 32,
   "metadata": {},
   "outputs": [
    {
     "name": "stdout",
     "output_type": "stream",
     "text": [
      "index 0: 10\n",
      "index 1: 20\n",
      "index 2: 30\n",
      "index 3: 40\n",
      "index 4: 50\n"
     ]
    }
   ],
   "source": [
    "x = (10, 20, 30, 40, 50)\n",
    "for i in x:\n",
    "    print(\"index \" + str(x.index(i)) + \":\", i)\n"
   ]
  },
  {
   "cell_type": "code",
   "execution_count": 33,
   "metadata": {},
   "outputs": [
    {
     "name": "stdout",
     "output_type": "stream",
     "text": [
      "1 plus 2 equals 3\n",
      "3 plus 4 equals 7\n",
      "5 plus 6 equals 11\n"
     ]
    }
   ],
   "source": [
    "x = [(1, 2), (3, 4), (5, 6)]\n",
    "for a, b in x:\n",
    "    print(a, \"plus\", b, \"equals\", a + b)\n"
   ]
  },
  {
   "cell_type": "code",
   "execution_count": 34,
   "metadata": {},
   "outputs": [
    {
     "name": "stdout",
     "output_type": "stream",
     "text": [
      "AAPL:187.31\n",
      "MSFT:124.06\n",
      "FB:183.5\n"
     ]
    }
   ],
   "source": [
    "stocks = {\"AAPL\": 187.31, \"MSFT\": 124.06, \"FB\": 183.50}\n",
    "\n",
    "for key, value in stocks.items():\n",
    "    print(key + \":\" + str(value))\n"
   ]
  },
  {
   "cell_type": "code",
   "execution_count": 35,
   "metadata": {},
   "outputs": [
    {
     "name": "stdout",
     "output_type": "stream",
     "text": [
      "The number 5: is odd\n",
      "The number 6: is even\n",
      "The number 7: is odd\n",
      "The number 8: is even\n",
      "The number 9: is odd\n",
      "The number 10: is even\n",
      "The number 11: is odd\n",
      "The number 12: is even\n",
      "The number 13: is odd\n",
      "The number 14: is even\n"
     ]
    }
   ],
   "source": [
    "# Check odd an even numbers\n",
    "\n",
    "number = 5\n",
    "\n",
    "while number < 15:\n",
    "    if number % 2 == 0:\n",
    "        print(f\"The number {str(number)}: is even\")\n",
    "    else:\n",
    "        print(f\"The number {str(number)}: is odd\")\n",
    "\n",
    "    number += 1"
   ]
  },
  {
   "cell_type": "code",
   "execution_count": 36,
   "metadata": {},
   "outputs": [
    {
     "name": "stdout",
     "output_type": "stream",
     "text": [
      "The number 2 is even\n",
      "The number 4 is even\n"
     ]
    }
   ],
   "source": [
    "# Take user input\n",
    "number = 2\n",
    "\n",
    "# Condition of the while loop\n",
    "while number < 5:\n",
    "    # condition of the nested while loop\n",
    "    while number % 2 == 0:\n",
    "        print(\"The number \" + str(number) + \" is even\")\n",
    "        break\n",
    "\n",
    "    number += 1"
   ]
  },
  {
   "cell_type": "code",
   "execution_count": 37,
   "metadata": {},
   "outputs": [
    {
     "name": "stdout",
     "output_type": "stream",
     "text": [
      "[4, 7, 19]\n"
     ]
    }
   ],
   "source": [
    "numbers = [4, -2, 7, -4, 19]\n",
    "new_nums = []\n",
    "\n",
    "for num in numbers:\n",
    "    if num > 0:\n",
    "        new_nums.append(num)\n",
    "print(new_nums)"
   ]
  },
  {
   "cell_type": "code",
   "execution_count": 38,
   "metadata": {},
   "outputs": [
    {
     "name": "stdout",
     "output_type": "stream",
     "text": [
      "[4, 7, 19]\n"
     ]
    }
   ],
   "source": [
    "numbers = [4, -2, 7, -4, 19]\n",
    "new_nums = [num for num in numbers if num > 0]\n",
    "print(new_nums)"
   ]
  },
  {
   "cell_type": "code",
   "execution_count": 39,
   "metadata": {},
   "outputs": [
    {
     "name": "stdout",
     "output_type": "stream",
     "text": [
      "1\n",
      "2\n",
      "3\n",
      "4\n",
      "5\n"
     ]
    },
    {
     "ename": "StopIteration",
     "evalue": "",
     "output_type": "error",
     "traceback": [
      "\u001b[0;31m---------------------------------------------------------------------------\u001b[0m",
      "\u001b[0;31mStopIteration\u001b[0m                             Traceback (most recent call last)",
      "Cell \u001b[0;32mIn[39], line 9\u001b[0m\n\u001b[1;32m      7\u001b[0m \u001b[39mwhile\u001b[39;00m \u001b[39mTrue\u001b[39;00m:\n\u001b[1;32m      8\u001b[0m     \u001b[39mtry\u001b[39;00m:\n\u001b[0;32m----> 9\u001b[0m         \u001b[39mprint\u001b[39m(numbersIterator\u001b[39m.\u001b[39;49m\u001b[39m__next__\u001b[39;49m())\n\u001b[1;32m     10\u001b[0m     \u001b[39mexcept\u001b[39;00m \u001b[39mStopAsyncIteration\u001b[39;00m:\n\u001b[1;32m     11\u001b[0m         \u001b[39mbreak\u001b[39;00m\n",
      "\u001b[0;31mStopIteration\u001b[0m: "
     ]
    }
   ],
   "source": [
    "# list\n",
    "numbers = [1, 2, 3, 4, 5]\n",
    "# iterator\n",
    "numbersIterator = numbers.__iter__()\n",
    "# print(numbersIterator.__next__())\n",
    "\n",
    "while True:\n",
    "    try:\n",
    "        print(numbersIterator.__next__())\n",
    "    except StopAsyncIteration:\n",
    "        break"
   ]
  },
  {
   "cell_type": "code",
   "execution_count": null,
   "metadata": {},
   "outputs": [
    {
     "data": {
      "text/plain": [
       "889"
      ]
     },
     "execution_count": 59,
     "metadata": {},
     "output_type": "execute_result"
    }
   ],
   "source": [
    "def get_largest(list_of_numbers):\n",
    "    largest_num = 0\n",
    "    for current_num in list_of_numbers:\n",
    "        if current_num > largest_num:\n",
    "            largest_num = current_num\n",
    "    return largest_num\n",
    "\n",
    "\n",
    "get_largest([1, 2, 3, 56, 866, 889])"
   ]
  },
  {
   "cell_type": "code",
   "execution_count": null,
   "metadata": {},
   "outputs": [
    {
     "name": "stdout",
     "output_type": "stream",
     "text": [
      "Python 100\n",
      "Python 200\n",
      "Python 400\n",
      "SQL 100\n",
      "SQL 200\n",
      "SQL 400\n",
      "PowerBi 100\n",
      "PowerBi 200\n",
      "PowerBi 400\n"
     ]
    }
   ],
   "source": [
    "tips = [\"Python\", \"SQL\", \"PowerBi\"]\n",
    "levels = [100, 200, 400]\n",
    "\n",
    "for tip in tips:\n",
    "    for level in levels:\n",
    "        print(tip, level)"
   ]
  },
  {
   "cell_type": "code",
   "execution_count": null,
   "metadata": {},
   "outputs": [
    {
     "data": {
      "text/plain": [
       "120"
      ]
     },
     "execution_count": 61,
     "metadata": {},
     "output_type": "execute_result"
    }
   ],
   "source": [
    "def calculate_factorial(n):\n",
    "    result = 1\n",
    "    while True:\n",
    "        if not n > 1:\n",
    "            break\n",
    "        result = result * n\n",
    "        n -= 1\n",
    "    return result\n",
    "\n",
    "\n",
    "calculate_factorial(5)"
   ]
  },
  {
   "cell_type": "code",
   "execution_count": null,
   "metadata": {},
   "outputs": [
    {
     "name": "stdout",
     "output_type": "stream",
     "text": [
      "8\n",
      "9\n",
      "2\n",
      "3\n",
      "4\n",
      "6\n"
     ]
    }
   ],
   "source": [
    "myList = [8, 9, 2, 3, 4, 6]\n",
    "i = 0\n",
    "\n",
    "while i < len(myList):\n",
    "    print(myList[i])\n",
    "    i += 1\n"
   ]
  },
  {
   "attachments": {},
   "cell_type": "markdown",
   "metadata": {},
   "source": [
    "# list comprehension\n"
   ]
  },
  {
   "cell_type": "code",
   "execution_count": null,
   "metadata": {},
   "outputs": [],
   "source": [
    "# Delete a Python program to count the occurrences of items in a given list.\n",
    "my_list = [1, 2, 2, 3, 1, 4, 5, 1, 2, 6]\n",
    "my_finallist = []\n",
    "[my_finallist.append(n) for n in my_list if n not in my_finallist]\n",
    "print(my_finallist)"
   ]
  },
  {
   "cell_type": "code",
   "execution_count": null,
   "metadata": {},
   "outputs": [
    {
     "name": "stdout",
     "output_type": "stream",
     "text": [
      "[11, 19, 25, 12]\n",
      "**************************************************\n"
     ]
    },
    {
     "data": {
      "text/plain": [
       "[11, 19, 25, 12]"
      ]
     },
     "execution_count": 69,
     "metadata": {},
     "output_type": "execute_result"
    }
   ],
   "source": [
    "# classic way\n",
    "num_list = [4, 11, 2, 19, 7, 6, 25, 12]\n",
    "new_list = []\n",
    "for num in num_list:\n",
    "    if num > 10:\n",
    "        new_list.append(num)\n",
    "print(new_list)\n",
    "print(\"*\" * 50)\n",
    "# with list comprehension\n",
    "new_list_2 = [x for x in num_list if x > 10]\n",
    "new_list_2\n"
   ]
  },
  {
   "cell_type": "code",
   "execution_count": null,
   "metadata": {},
   "outputs": [
    {
     "data": {
      "text/plain": [
       "[961, 1156, 1681, 2304]"
      ]
     },
     "execution_count": 70,
     "metadata": {},
     "output_type": "execute_result"
    }
   ],
   "source": [
    "alternative_list = [21, 26, 31, 34, 41, 48, 59, 63]\n",
    "[num**2 for num in alternative_list if 30 < num < 50]\n"
   ]
  },
  {
   "cell_type": "code",
   "execution_count": null,
   "metadata": {},
   "outputs": [
    {
     "data": {
      "text/plain": [
       "[4, 8, 4, 2, 28, 1, 12, 3, 6, 2]"
      ]
     },
     "execution_count": 71,
     "metadata": {},
     "output_type": "execute_result"
    }
   ],
   "source": [
    "list_of_lists = [[\"4\", \"8\"], [\"4\", \"2\", \"28\"], [\"1\", \"12\"], [\"3\", \"6\", \"2\"]]\n",
    "[int(i) for sublist in list_of_lists for i in sublist]"
   ]
  },
  {
   "cell_type": "code",
   "execution_count": null,
   "metadata": {},
   "outputs": [
    {
     "data": {
      "text/html": [
       "<div>\n",
       "<style scoped>\n",
       "    .dataframe tbody tr th:only-of-type {\n",
       "        vertical-align: middle;\n",
       "    }\n",
       "\n",
       "    .dataframe tbody tr th {\n",
       "        vertical-align: top;\n",
       "    }\n",
       "\n",
       "    .dataframe thead th {\n",
       "        text-align: right;\n",
       "    }\n",
       "</style>\n",
       "<table border=\"1\" class=\"dataframe\">\n",
       "  <thead>\n",
       "    <tr style=\"text-align: right;\">\n",
       "      <th></th>\n",
       "      <th>type</th>\n",
       "      <th>microseconds</th>\n",
       "    </tr>\n",
       "  </thead>\n",
       "  <tbody>\n",
       "    <tr>\n",
       "      <th>1</th>\n",
       "      <td>list comprehension</td>\n",
       "      <td>428.93</td>\n",
       "    </tr>\n",
       "    <tr>\n",
       "      <th>0</th>\n",
       "      <td>for loop</td>\n",
       "      <td>550.38</td>\n",
       "    </tr>\n",
       "  </tbody>\n",
       "</table>\n",
       "</div>"
      ],
      "text/plain": [
       "                 type  microseconds\n",
       "1  list comprehension        428.93\n",
       "0            for loop        550.38"
      ]
     },
     "execution_count": 73,
     "metadata": {},
     "output_type": "execute_result"
    }
   ],
   "source": [
    "import random\n",
    "import pandas as pd\n",
    "\n",
    "num_list = random.sample(range(0, 1000000), 10000)\n",
    "\n",
    "\n",
    "def for_loop():\n",
    "    new_list = []\n",
    "    for num in num_list:\n",
    "        if num > 500000:\n",
    "            new_list.append(num)\n",
    "\n",
    "\n",
    "def list_comp():\n",
    "    new_list = [num for num in num_list if num > 500000]\n",
    "\n",
    "\n",
    "# Calculate timings\n",
    "for_loop_time = %timeit - o - q for_loop()\n",
    "list_comp_time = %timeit - o - q list_comp()\n",
    "\n",
    "# Create data table\n",
    "data = [['for loop', for_loop_time.average], [\n",
    "    'list comprehension', list_comp_time.average]]\n",
    "df = pd.DataFrame(data, columns=['type', 'microseconds'])\n",
    "df.microseconds = round(df.microseconds * 1e6, 2)\n",
    "df.sort_values('microseconds', inplace=True)\n",
    "\n",
    "df\n"
   ]
  },
  {
   "cell_type": "code",
   "execution_count": null,
   "metadata": {},
   "outputs": [
    {
     "data": {
      "text/plain": [
       "['Jane Austen', 'George Orwell', 'James Clear', 'Cal Newport']"
      ]
     },
     "execution_count": 75,
     "metadata": {},
     "output_type": "execute_result"
    }
   ],
   "source": [
    "authors = [\"jane austen\", \"george orwell\", \"james clear\", \"cal newport\"]\n",
    "author_list = [author.title() for author in authors]\n",
    "author_list"
   ]
  },
  {
   "cell_type": "code",
   "execution_count": null,
   "metadata": {},
   "outputs": [
    {
     "data": {
      "text/plain": [
       "[8, 5, 7, 27]"
      ]
     },
     "execution_count": 76,
     "metadata": {},
     "output_type": "execute_result"
    }
   ],
   "source": [
    "l_arr = [4, 5, 1, 3]\n",
    "b_arr = [2, 1, 7, 9]\n",
    "\n",
    "area = [l * b for l, b in zip(l_arr, b_arr)]\n",
    "area"
   ]
  },
  {
   "cell_type": "code",
   "execution_count": null,
   "metadata": {},
   "outputs": [
    {
     "data": {
      "text/plain": [
       "['3', '2', '0', '2', '2']"
      ]
     },
     "execution_count": 77,
     "metadata": {},
     "output_type": "execute_result"
    }
   ],
   "source": [
    "str1 = \"I'm learning Python3 in 2022\"\n",
    "digists = [char for char in str1 if char.isdigit()]\n",
    "digists"
   ]
  },
  {
   "cell_type": "code",
   "execution_count": null,
   "metadata": {},
   "outputs": [
    {
     "data": {
      "text/plain": [
       "['blueberry', 'banana']"
      ]
     },
     "execution_count": 78,
     "metadata": {},
     "output_type": "execute_result"
    }
   ],
   "source": [
    "fruits = [\"blueberry\", \"apple\", \"banana\", \"orange\", \"cherry\"]\n",
    "\n",
    "fruits_with_b = [fruit for fruit in fruits if fruit.startswith(\"b\")]\n",
    "fruits_with_b"
   ]
  },
  {
   "cell_type": "code",
   "execution_count": null,
   "metadata": {},
   "outputs": [
    {
     "name": "stdout",
     "output_type": "stream",
     "text": [
      "[2, 4, 6, 8, 10, 12, 14, 16, 18]\n",
      "[3, 5, 7, 9, 11, 13, 15, 17, 19]\n"
     ]
    }
   ],
   "source": [
    "even_num = [x for x in range(2, 20) if x % 2 == 0]\n",
    "print(even_num)\n",
    "odd_num = [x for x in range(2, 20) if x % 2 != 0]\n",
    "print(odd_num)"
   ]
  },
  {
   "cell_type": "code",
   "execution_count": null,
   "metadata": {},
   "outputs": [
    {
     "data": {
      "text/plain": [
       "[[1, 3, 5, 7], [2, 4, 6, 8]]"
      ]
     },
     "execution_count": 86,
     "metadata": {},
     "output_type": "execute_result"
    }
   ],
   "source": [
    "matrix = [[1, 2], [3, 4], [5, 6], [7, 8]]\n",
    "transpose = [[row[i] for row in matrix] for i in range(2)]\n",
    "transpose"
   ]
  },
  {
   "cell_type": "code",
   "execution_count": null,
   "metadata": {},
   "outputs": [
    {
     "data": {
      "text/plain": [
       "['t', 'i', 'p', 't', 'f', 'i']"
      ]
     },
     "execution_count": 89,
     "metadata": {},
     "output_type": "execute_result"
    }
   ],
   "source": [
    "listOfWords = [\"this\", \"is\", \"python\", \"tutorial\", \"from\", \"intellipaat\"]\n",
    "new_list_o = [word[0] for word in listOfWords]\n",
    "new_list_o"
   ]
  },
  {
   "cell_type": "code",
   "execution_count": null,
   "metadata": {},
   "outputs": [
    {
     "data": {
      "text/plain": [
       "[1, 4, 9, 16, 25, 36, 49, 64, 81]"
      ]
     },
     "execution_count": 91,
     "metadata": {},
     "output_type": "execute_result"
    }
   ],
   "source": [
    "matrix = [[1, 2, 3], [4, 5, 6], [7, 8, 9]]\n",
    "flat = [x**2 for row in matrix for x in row]\n",
    "flat\n"
   ]
  },
  {
   "cell_type": "code",
   "execution_count": null,
   "metadata": {},
   "outputs": [
    {
     "name": "stdout",
     "output_type": "stream",
     "text": [
      "0.0684 seconds list comprehension\n",
      "0.1278 seconds loop\n"
     ]
    }
   ],
   "source": [
    "from timeit import default_timer as timer\n",
    "\n",
    "start = timer()\n",
    "a = [i * i for i in range(1_000_000)]\n",
    "stop = timer()\n",
    "print(f\"{stop-start:.4f} seconds list comprehension\")\n",
    "\n",
    "start = timer()\n",
    "a = []\n",
    "for i in range(1_000_000):\n",
    "    a.append(i * i)\n",
    "stop = timer()\n",
    "print(f\"{stop-start:.4f} seconds loop\")\n"
   ]
  },
  {
   "attachments": {},
   "cell_type": "markdown",
   "metadata": {},
   "source": [
    "# Map and Lambda\n"
   ]
  },
  {
   "cell_type": "code",
   "execution_count": null,
   "metadata": {},
   "outputs": [
    {
     "name": "stdout",
     "output_type": "stream",
     "text": [
      "[4, 9, 16, 25, 36, 49]\n"
     ]
    }
   ],
   "source": [
    "def square(n):\n",
    "    return n * n\n",
    "\n",
    "\n",
    "listn = [2, 3, 4, 5, 6, 7]\n",
    "result = map(square, listn)\n",
    "# result = set(result)\n",
    "print(list(result))\n"
   ]
  },
  {
   "cell_type": "code",
   "execution_count": null,
   "metadata": {},
   "outputs": [
    {
     "name": "stdout",
     "output_type": "stream",
     "text": [
      "[1, 8, 27, 64, 125]\n"
     ]
    }
   ],
   "source": [
    "org_list = [1, 2, 3, 4, 5]\n",
    "\n",
    "\n",
    "# define a function that returns the cube of `num`\n",
    "def cube(num):\n",
    "    return num**3\n",
    "\n",
    "\n",
    "fin_list = list(map(cube, org_list))\n",
    "print(fin_list)  # [1, 8, 27, 64, 125]\n"
   ]
  },
  {
   "cell_type": "code",
   "execution_count": null,
   "metadata": {},
   "outputs": [
    {
     "name": "stdout",
     "output_type": "stream",
     "text": [
      "using map:  [4, 16, 24, -10, -20]\n",
      "using lambda:  [4, 16, 24, -10, -20]\n",
      "using list comprehension:  [4, 16, 24, -10, -20]\n"
     ]
    }
   ],
   "source": [
    "# Using lambda expressions to process sequences\n",
    "\n",
    "# Task. Multiply each element of the sequence by 2.\n",
    "# Use lambda expression and function map()\n",
    "\n",
    "# 1. Declare a function that multiplies a number by 2\n",
    "\n",
    "\n",
    "def mult2(n):\n",
    "    return n * 2\n",
    "\n",
    "\n",
    "# 2. The list under test.\n",
    "L = [2, 8, 12, -5, -10]\n",
    "# 3. Apply map() function without lambda expression based on function Mult2()\n",
    "mapF = list(map(mult2, L))\n",
    "print(\"using map: \", mapF)\n",
    "# 4. Apply map() function with lambda expression\n",
    "lambdaF = list(map((lambda t: t * 2), L))\n",
    "print(\"using lambda: \", lambdaF)\n",
    "# 5. Using list comprehension\n",
    "listComp = [x * 2 for x in L]\n",
    "print(\"using list comprehension: \", lambdaF)\n"
   ]
  },
  {
   "cell_type": "code",
   "execution_count": null,
   "metadata": {},
   "outputs": [
    {
     "name": "stdout",
     "output_type": "stream",
     "text": [
      "[4, 9, 16, 25, 36]\n"
     ]
    }
   ],
   "source": [
    "nums = [2, 3, 4, 5, 6]\n",
    "result = map(lambda x: x * x, nums)\n",
    "print(list(result))\n"
   ]
  },
  {
   "cell_type": "code",
   "execution_count": null,
   "metadata": {},
   "outputs": [
    {
     "data": {
      "text/plain": [
       "['-500', '-12', '0', '4', '7', '12', '45', '100', '200']"
      ]
     },
     "execution_count": 8,
     "metadata": {},
     "output_type": "execute_result"
    }
   ],
   "source": [
    "# Write a Python program to sort a given list of strings (numbers) numerically using lambda.\n",
    "\n",
    "\n",
    "def sort_numeric_string(n):\n",
    "    return sorted(n, key=lambda el: int(el))\n",
    "\n",
    "\n",
    "nums_str = [\"4\", \"12\", \"45\", \"7\", \"0\", \"100\", \"200\", \"-12\", \"-500\"]\n",
    "sort_numeric_string(nums_str)"
   ]
  },
  {
   "cell_type": "code",
   "execution_count": null,
   "metadata": {},
   "outputs": [
    {
     "data": {
      "text/plain": [
       "[12, 0, 23, -55, 234, 89, 0, 6, -12]"
      ]
     },
     "execution_count": 11,
     "metadata": {},
     "output_type": "execute_result"
    }
   ],
   "source": [
    "# Write a Python program to remove None values from a given list using the lambda function.\n",
    "\n",
    "\n",
    "def remove_none_values(n):\n",
    "    res = filter(lambda v: v is not None, n)\n",
    "    return list(res)\n",
    "\n",
    "\n",
    "nums = [12, 0, None, 23, None, -55, 234, 89, None, 0, 6, -12]\n",
    "remove_none_values(nums)"
   ]
  },
  {
   "cell_type": "code",
   "execution_count": null,
   "metadata": {},
   "outputs": [
    {
     "data": {
      "text/plain": [
       "['red', 'green', 'blue', 'white']"
      ]
     },
     "execution_count": 4,
     "metadata": {},
     "output_type": "execute_result"
    }
   ],
   "source": [
    "# Write a Python program to remove specific words from a given list using lambda.\n",
    "def remove_specific_words(list_w, w):\n",
    "    res = list(filter(lambda word: word not in w, list_w))\n",
    "    return res\n",
    "\n",
    "\n",
    "colors = [\"orange\", \"red\", \"green\", \"blue\", \"white\", \"black\"]\n",
    "remove_colors = [\"orange\", \"black\"]\n",
    "remove_specific_words(colors, remove_colors)"
   ]
  },
  {
   "cell_type": "code",
   "execution_count": null,
   "metadata": {},
   "outputs": [
    {
     "data": {
      "text/plain": [
       "{3: 4, 4: 2, 5: 3, 8: 2, 0: 2, 1: 1, 2: 2}"
      ]
     },
     "execution_count": 5,
     "metadata": {},
     "output_type": "execute_result"
    }
   ],
   "source": [
    "# Write a Python program to count the occurrences of items in a given list using lambda.\n",
    "def count_ocurrences(n):\n",
    "    res = dict(map(lambda el: (el, list(n).count(el)), n))\n",
    "    return res\n",
    "\n",
    "\n",
    "nums = [3, 4, 5, 8, 0, 3, 8, 5, 0, 3, 1, 5, 2, 3, 4, 2]\n",
    "count_ocurrences(nums)"
   ]
  },
  {
   "cell_type": "code",
   "execution_count": 41,
   "metadata": {},
   "outputs": [
    {
     "data": {
      "text/plain": [
       "[1, 10, 12, 19, 'blue', 'green', 'green', 'red', 'white']"
      ]
     },
     "execution_count": 41,
     "metadata": {},
     "output_type": "execute_result"
    }
   ],
   "source": [
    "# Write a Python program to sort a given mixed list of integers and strings using lambda. Numbers must be sorted before strings.\n",
    "def sorted_mixed_list(lm):\n",
    "    lm.sort(key=lambda e: (isinstance(e, str), e))\n",
    "    return lm\n",
    "\n",
    "\n",
    "mixed_list = [19, \"red\", 12, \"green\", \"blue\", 10, \"white\", \"green\", 1]\n",
    "sorted_mixed_list(mixed_list)"
   ]
  },
  {
   "cell_type": "code",
   "execution_count": 42,
   "metadata": {},
   "outputs": [
    {
     "data": {
      "text/plain": [
       "((5, 89), (3, 10.11))"
      ]
     },
     "execution_count": 42,
     "metadata": {},
     "output_type": "execute_result"
    }
   ],
   "source": [
    "# Write a Python program to find the index position and value of the maximum and minimum values in a given list of numbers using lambda.\n",
    "def getPosition_max_min(n):\n",
    "    n_max = max(enumerate(n), key=(lambda x: x[1]))\n",
    "    n_min = min(enumerate(n), key=(lambda x: x[1]))\n",
    "    return n_max, n_min\n",
    "\n",
    "\n",
    "nums = [12, 33, 23, 10.11, 67, 89, 45, 66.7, 23, 12, 11, 10.25, 54]\n",
    "getPosition_max_min(nums)"
   ]
  },
  {
   "cell_type": "code",
   "execution_count": 45,
   "metadata": {},
   "outputs": [
    {
     "data": {
      "text/plain": [
       "['black', 'orange']"
      ]
     },
     "execution_count": 45,
     "metadata": {},
     "output_type": "execute_result"
    }
   ],
   "source": [
    "# Write a Python program to find the elements of a given list of strings that contain a specific substring using lambda.\n",
    "def find_substring(str, w):\n",
    "    res = list(filter(lambda x: w in x, str))\n",
    "    return res\n",
    "\n",
    "\n",
    "colors = [\"red\", \"black\", \"white\", \"green\", \"orange\"]\n",
    "sub_str = \"a\"\n",
    "\n",
    "find_substring(colors, sub_str)"
   ]
  },
  {
   "cell_type": "code",
   "execution_count": 46,
   "metadata": {},
   "outputs": [
    {
     "data": {
      "text/plain": [
       "[1, 3, 5, 7, 9, 10]"
      ]
     },
     "execution_count": 46,
     "metadata": {},
     "output_type": "execute_result"
    }
   ],
   "source": [
    "# Write a Python program to remove all elements from a given list present in another list using lambda.\n",
    "\n",
    "\n",
    "def index_on_inner_list(arr1, arr2):\n",
    "    res = list(filter(lambda x: x not in arr2, arr1))\n",
    "    return res\n",
    "\n",
    "\n",
    "list1 = [1, 2, 3, 4, 5, 6, 7, 8, 9, 10]\n",
    "list2 = [2, 4, 6, 8]\n",
    "index_on_inner_list(list1, list2)"
   ]
  },
  {
   "cell_type": "code",
   "execution_count": 48,
   "metadata": {},
   "outputs": [
    {
     "data": {
      "text/plain": [
       "['Greyson Fulton', 'Brady Kent', 'Wyatt Knott', 'Beau Turnbull']"
      ]
     },
     "execution_count": 48,
     "metadata": {},
     "output_type": "execute_result"
    }
   ],
   "source": [
    "# Write a Python program to extract the nth element from a given list of tuples using lambda.\n",
    "def extract_nth_element(el, n):\n",
    "    res = list(map(lambda x: (x[n]), el))\n",
    "    return res\n",
    "\n",
    "\n",
    "students = [\n",
    "    (\"Greyson Fulton\", 98, 99),\n",
    "    (\"Brady Kent\", 97, 96),\n",
    "    (\"Wyatt Knott\", 91, 94),\n",
    "    (\"Beau Turnbull\", 94, 98),\n",
    "]\n",
    "extract_nth_element(students, 0)"
   ]
  },
  {
   "cell_type": "code",
   "execution_count": 53,
   "metadata": {},
   "outputs": [
    {
     "data": {
      "text/plain": [
       "False"
      ]
     },
     "execution_count": 53,
     "metadata": {},
     "output_type": "execute_result"
    }
   ],
   "source": [
    "# Write a Python program to check whether a specified list is sorted or not using lambda.\n",
    "def is_sort_list(nums, key=lambda x: x):\n",
    "    for i, e in enumerate(nums[1:]):\n",
    "        if key(e) < key(nums[i]):\n",
    "            return False\n",
    "    return True\n",
    "\n",
    "\n",
    "nums1 = [1, 2, 4, 6, 8, 10, 12, 14, 16, 17]\n",
    "nums2 = [1, 2, 3, 4, 5, 8, 7]\n",
    "\n",
    "is_sort_list(nums2)"
   ]
  },
  {
   "cell_type": "code",
   "execution_count": 57,
   "metadata": {},
   "outputs": [
    {
     "data": {
      "text/plain": [
       "{'Cierra Vega': (6.2, 70), 'Kierra Gentry': (6.0, 68)}"
      ]
     },
     "execution_count": 57,
     "metadata": {},
     "output_type": "execute_result"
    }
   ],
   "source": [
    "# Write a Python program to filter the height and width of students, which are stored in a dictionary using lambda.\n",
    "\n",
    "\n",
    "def filter_data(str, h, w):\n",
    "    res = dict(filter(lambda x: (x[1][0], x[1][1]) > (h, w), str.items()))\n",
    "    return res\n",
    "\n",
    "\n",
    "students = {\n",
    "    \"Cierra Vega\": (6.2, 70),\n",
    "    \"Alden Cantrell\": (5.9, 65),\n",
    "    \"Kierra Gentry\": (6.0, 68),\n",
    "    \"Pierre Cox\": (5.8, 66),\n",
    "}\n",
    "\n",
    "filter_data(students, 6.0, 67)"
   ]
  },
  {
   "cell_type": "code",
   "execution_count": 62,
   "metadata": {},
   "outputs": [
    {
     "data": {
      "text/plain": [
       "['Valid String']"
      ]
     },
     "execution_count": 62,
     "metadata": {},
     "output_type": "execute_result"
    }
   ],
   "source": [
    "# Write a Python program to check whether a given string contains a capital letter, a lower case letter, a number and a minimum length using lambda.\n",
    "\n",
    "\n",
    "def check_string(str1):\n",
    "    messg = [\n",
    "        lambda str1: any(x.isupper() for x in str1)\n",
    "        or \"String must have 1 upper case character.\",\n",
    "        lambda str1: any(x.islower() for x in str1)\n",
    "        or \"String must have 1 lower case character.\",\n",
    "        lambda str1: any(x.isdigit() for x in str1) or \"String must have 1 number.\",\n",
    "        lambda str1: len(str1) >= 7 or \"String length should be atleast 8.\",\n",
    "    ]\n",
    "    res = [x for x in [i(str1) for i in messg] if x != True]\n",
    "    if not res:\n",
    "        res.append(\"Valid String\")\n",
    "    return res\n",
    "\n",
    "\n",
    "str = \"e4Klaidjdyuud\"\n",
    "check_string(str)"
   ]
  },
  {
   "cell_type": "code",
   "execution_count": 65,
   "metadata": {},
   "outputs": [
    {
     "data": {
      "text/plain": [
       "4"
      ]
     },
     "execution_count": 65,
     "metadata": {},
     "output_type": "execute_result"
    }
   ],
   "source": [
    "# Write a Python program to count float values in a mixed list using lambda.\n",
    "\n",
    "\n",
    "def count_integer(str):\n",
    "    res = list(map(lambda i: isinstance(i, float), str))\n",
    "    res_i = len([e for e in res if e])\n",
    "    return res_i\n",
    "\n",
    "\n",
    "list1 = [1.3, \"abcd\", 3.12, 1.2, 4, \"xyz\", 5, \"pqr\", 7, -5, -12.22]\n",
    "\n",
    "count_integer(list1)"
   ]
  },
  {
   "cell_type": "code",
   "execution_count": 66,
   "metadata": {},
   "outputs": [
    {
     "data": {
      "text/plain": [
       "['practice', 'solution']"
      ]
     },
     "execution_count": 66,
     "metadata": {},
     "output_type": "execute_result"
    }
   ],
   "source": [
    "# Write a Python program to extract a specified size of strings from a given list of string values using lambda.\n",
    "\n",
    "\n",
    "def extract_stringSize(str, l):\n",
    "    res = list(filter(lambda e: len(e) == l, str))\n",
    "    return res\n",
    "\n",
    "\n",
    "str_list1 = [\"Python\", \"list\", \"exercises\", \"practice\", \"solution\"]\n",
    "\n",
    "extract_stringSize(str_list1, 8)"
   ]
  },
  {
   "cell_type": "code",
   "execution_count": 67,
   "metadata": {},
   "outputs": [
    {
     "data": {
      "text/plain": [
       "[['green', 'orange'], ['black', 'white'], ['black', 'orange', 'white']]"
      ]
     },
     "execution_count": 67,
     "metadata": {},
     "output_type": "execute_result"
    }
   ],
   "source": [
    "# Write a Python program to sort each sublist of strings in a given list of lists using lambda.\n",
    "\n",
    "\n",
    "def sort_sublists(str):\n",
    "    res = [sorted(x, key=lambda x: x[0]) for x in str]\n",
    "    return res\n",
    "\n",
    "\n",
    "color1 = [[\"green\", \"orange\"], [\"black\", \"white\"], [\"white\", \"black\", \"orange\"]]\n",
    "\n",
    "sort_sublists(color1)"
   ]
  },
  {
   "cell_type": "code",
   "execution_count": 69,
   "metadata": {},
   "outputs": [
    {
     "data": {
      "text/plain": [
       "2558"
      ]
     },
     "execution_count": 69,
     "metadata": {},
     "output_type": "execute_result"
    }
   ],
   "source": [
    "# Write a Python program to find the maximum value in a given heterogeneous list using lambda.\n",
    "def maxVal(str):\n",
    "    res = max(str, key=lambda i: (isinstance(i, int), i))\n",
    "    return res\n",
    "\n",
    "\n",
    "list_val = [\"Python\", 3, 2, 4, 5, 2558, \"version\"]\n",
    "maxVal(list_val)"
   ]
  },
  {
   "cell_type": "code",
   "execution_count": 71,
   "metadata": {},
   "outputs": [
    {
     "name": "stdout",
     "output_type": "stream",
     "text": [
      "(3, [13, 15, 17])\n",
      "(1, [0])\n"
     ]
    }
   ],
   "source": [
    "# Write a Python program to find a list with maximum and minimum length using lambda.\n",
    "def max_length_list(input_list):\n",
    "    max_length = max(len(x) for x in input_list)\n",
    "    max_list = max(input_list, key=lambda i: len(i))\n",
    "    return (max_length, max_list)\n",
    "\n",
    "\n",
    "def min_length_list(input_list):\n",
    "    min_length = min(len(x) for x in input_list)\n",
    "    min_list = min(input_list, key=lambda i: len(i))\n",
    "    return (min_length, min_list)\n",
    "\n",
    "\n",
    "list1 = [[0], [1, 3], [5, 7], [9, 11], [13, 15, 17]]\n",
    "print(max_length_list(list1))\n",
    "print(min_length_list(list1))"
   ]
  },
  {
   "cell_type": "code",
   "execution_count": 73,
   "metadata": {},
   "outputs": [
    {
     "name": "stdout",
     "output_type": "stream",
     "text": [
      "Sum of the positive numbers:  48\n",
      "Sum of the negative numbers:  -32\n"
     ]
    }
   ],
   "source": [
    "# Write a Python program to calculate the sum of the positive and negative numbers of a given list of numbers using the lambda function.\n",
    "nums = [2, 4, -6, -9, 11, -12, 14, -5, 17]\n",
    "n_positives = list(filter(lambda nums: nums > 0, nums))\n",
    "n_negatives = list(filter(lambda nums: nums < 0, nums))\n",
    "\n",
    "print(\"Sum of the positive numbers: \", sum(n_positives))\n",
    "print(\"Sum of the negative numbers: \", sum(n_negatives))"
   ]
  },
  {
   "cell_type": "code",
   "execution_count": 74,
   "metadata": {},
   "outputs": [
    {
     "name": "stdout",
     "output_type": "stream",
     "text": [
      "Result:\n",
      "16\n"
     ]
    }
   ],
   "source": [
    "# Write a Python program that sums the length of a list of names after removing those that start with lowercase letters. Use the lambda function.\n",
    "sample_names = [\"sally\", \"Dylan\", \"rebecca\", \"Diana\", \"Joanne\", \"keith\"]\n",
    "sample_names = list(\n",
    "    filter(lambda el: el[0].isupper() and el[1:].islower(), sample_names)\n",
    ")\n",
    "print(\"Result:\")\n",
    "print(len(\"\".join(sample_names)))"
   ]
  },
  {
   "cell_type": "code",
   "execution_count": 76,
   "metadata": {},
   "outputs": [
    {
     "name": "stdout",
     "output_type": "stream",
     "text": [
      "[1, 2, 8, 9]\n"
     ]
    }
   ],
   "source": [
    "# Write a Python program to find the intersection of two given arrays using Lambda.\n",
    "\n",
    "array_nums1 = [1, 2, 3, 5, 7, 8, 9, 10]\n",
    "array_nums2 = [1, 2, 4, 8, 9]\n",
    "res = list(filter(lambda x: x in array_nums1, array_nums2))\n",
    "print(res)"
   ]
  },
  {
   "cell_type": "code",
   "execution_count": 77,
   "metadata": {},
   "outputs": [
    {
     "name": "stdout",
     "output_type": "stream",
     "text": [
      "[0, 1, 1, 2, 3]\n"
     ]
    }
   ],
   "source": [
    "# Write a Python program to create Fibonacci series up to n using Lambda.\n",
    "from functools import reduce\n",
    "\n",
    "fib_series = lambda n: reduce(lambda x, _: x + [x[-1] + x[-2]], range(n - 2), [0, 1])\n",
    "print(fib_series(5))"
   ]
  },
  {
   "cell_type": "code",
   "execution_count": 82,
   "metadata": {},
   "outputs": [
    {
     "name": "stdout",
     "output_type": "stream",
     "text": [
      "True\n",
      "False\n"
     ]
    }
   ],
   "source": [
    "# Write a Python program to find whether a given string starts with a given character using Lambda.\n",
    "starts_with = lambda x: True if x.startswith('P') else False\n",
    "print(starts_with('Python'))\n",
    "starts_with = lambda x: True if x.startswith('P') else False\n",
    "print(starts_with('Java'))"
   ]
  }
 ],
 "metadata": {
  "kernelspec": {
   "display_name": "envSpark",
   "language": "python",
   "name": "python3"
  },
  "language_info": {
   "codemirror_mode": {
    "name": "ipython",
    "version": 3
   },
   "file_extension": ".py",
   "mimetype": "text/x-python",
   "name": "python",
   "nbconvert_exporter": "python",
   "pygments_lexer": "ipython3",
   "version": "3.8.10"
  },
  "orig_nbformat": 4
 },
 "nbformat": 4,
 "nbformat_minor": 2
}
