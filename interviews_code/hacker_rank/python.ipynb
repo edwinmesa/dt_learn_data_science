{
 "cells": [
  {
   "cell_type": "code",
   "execution_count": 12,
   "metadata": {},
   "outputs": [
    {
     "name": "stdout",
     "output_type": "stream",
     "text": [
      "(0, 1)\n",
      "(1, 2)\n",
      "(4, 5)\n"
     ]
    }
   ],
   "source": [
    "# start() & end()\n",
    "# These expressions return the indices of the start and end of the substring matched by the group.\n",
    "\n",
    "import re\n",
    "m = re.search(r'\\d+','ttllf1234')\n",
    "m.end()\n",
    "m.start()\n",
    "# print(m)\n",
    "# Task\n",
    "# You are given a string .\n",
    "# Your task is to find the indices of the start and end of string  in .\n",
    "\n",
    "s1 = 'aaadaa'\n",
    "s2 = 'aa'\n",
    "\n",
    "for i in range(len(s1) - len(s2) + 1):\n",
    "    fins = s1[ i:i + len(s2)]\n",
    "    if fins == s2:\n",
    "        print(f\"({i}, {i + len(s2) - 1})\")\n"
   ]
  },
  {
   "cell_type": "code",
   "execution_count": 15,
   "metadata": {},
   "outputs": [
    {
     "name": "stdout",
     "output_type": "stream",
     "text": [
      "(0, 1)\n",
      "(1, 2)\n",
      "(4, 5)\n"
     ]
    }
   ],
   "source": [
    "import re\n",
    "# s, k = input(), input()\n",
    "s = 'aaadaa'\n",
    "k = 'aa'\n",
    "\n",
    "pattern = r'{}'.format('{}(?={})'.format(k[0:-1], k[-1]))\n",
    "\n",
    "r = re.finditer(pattern, s)\n",
    "b = True    \n",
    "\n",
    "for m in r:\n",
    "    b = False\n",
    "    print((m.start(), m.end()))\n",
    "if b:\n",
    "    print((-1, -1))   "
   ]
  },
  {
   "cell_type": "code",
   "execution_count": 19,
   "metadata": {},
   "outputs": [
    {
     "name": "stdout",
     "output_type": "stream",
     "text": [
      "[[1, 4, 7], [2, 5, 8], [3, 6, 9]]\n"
     ]
    }
   ],
   "source": [
    "matrix    = [[1, 2, 3], [4, 5, 6], [7, 8, 9]]\n",
    "transpose = [[row[i] for row in matrix] for i in range(3)]\n",
    "print(transpose) "
   ]
  },
  {
   "cell_type": "code",
   "execution_count": 21,
   "metadata": {},
   "outputs": [
    {
     "name": "stdout",
     "output_type": "stream",
     "text": [
      "['odd', 'even', 'odd', 'even', 'odd', 'even']\n"
     ]
    }
   ],
   "source": [
    "# Example 3: Classify Numbers as Odd or Even:\n",
    "numbers = [1, 2, 3, 4, 5, 6]\n",
    "classification = [\"even\" if num % 2 == 0 else \"odd\" for num in numbers]\n",
    "print(classification)"
   ]
  },
  {
   "cell_type": "code",
   "execution_count": 23,
   "metadata": {},
   "outputs": [
    {
     "name": "stdout",
     "output_type": "stream",
     "text": [
      "[1, 2, 3, 4, 5, 6, 7, 8, 9]\n"
     ]
    }
   ],
   "source": [
    "# Example 1: Flatten a Nested List:\n",
    "# List Comprehension with Multiple For Loops:\n",
    "nested_list = [[1, 2, 3], [4, 5, 6], [7, 8, 9]]\n",
    "flattened  = [ num for sublist in nested_list for num in sublist] \n",
    "print(flattened)"
   ]
  },
  {
   "cell_type": "code",
   "execution_count": 24,
   "metadata": {},
   "outputs": [
    {
     "name": "stdout",
     "output_type": "stream",
     "text": [
      "[('a', 1), ('a', 2), ('a', 3), ('b', 1), ('b', 2), ('b', 3), ('c', 1), ('c', 2), ('c', 3)]\n"
     ]
    }
   ],
   "source": [
    "# Example 2: Cartesian Product of Two Lists:\n",
    "# List Comprehension with Multiple For Loops:\n",
    "list1 = ['a', 'b', 'c']\n",
    "list2 = [1, 2, 3]\n",
    "\n",
    "product = [(letter, num) for letter in list1 for num in list2]\n",
    "print(product)\n"
   ]
  },
  {
   "cell_type": "code",
   "execution_count": 26,
   "metadata": {},
   "outputs": [
    {
     "name": "stdout",
     "output_type": "stream",
     "text": [
      "[1, 4, 9, 16, 25, 36]\n"
     ]
    }
   ],
   "source": [
    "# Example 1: Apply a Function to Each Element:\n",
    "# List Comprehension with Function Call:\n",
    "\n",
    "def square(n):\n",
    "    return n ** 2\n",
    "\n",
    "numbers = [1,2,3,4,5,6]\n",
    "squares = [square(num) for num in numbers ]\n",
    "print(squares)"
   ]
  },
  {
   "cell_type": "code",
   "execution_count": 30,
   "metadata": {},
   "outputs": [
    {
     "name": "stdout",
     "output_type": "stream",
     "text": [
      "[1, 4, 9, 16, 25]\n"
     ]
    }
   ],
   "source": [
    "# Example 2: Set Comprehensions\n",
    "# Set Comprehension:\n",
    "numbers = [1, 2, 2, 3, 4, 4, 4, 5, 5, 5, 5]\n",
    "numbers = set(numbers)\n",
    "unique_squares = [num**2 for num in numbers]\n",
    "print(unique_squares)"
   ]
  },
  {
   "cell_type": "code",
   "execution_count": 32,
   "metadata": {},
   "outputs": [
    {
     "name": "stdout",
     "output_type": "stream",
     "text": [
      "banana\n"
     ]
    }
   ],
   "source": [
    "# Example 2: First Matching Element:\n",
    "# Generator Expression:\n",
    "words = [\"apple\", \"banana\", \"cherry\", \"date\", \"elderberry\"]\n",
    "first_long_word = next(word for word in words if len(word) > 5)\n",
    "\n",
    "print(first_long_word)"
   ]
  },
  {
   "cell_type": "code",
   "execution_count": 34,
   "metadata": {},
   "outputs": [
    {
     "name": "stdout",
     "output_type": "stream",
     "text": [
      "[10, 20]\n"
     ]
    }
   ],
   "source": [
    "# List Comprehension with Multiple Conditions:\n",
    "# With List Comprehension:\n",
    "numbers = list(range(1, 21))\n",
    "filtered_numbers = [n for n in numbers if n % 2 == 0 and n % 5 == 0]\n",
    "print(filtered_numbers)"
   ]
  },
  {
   "cell_type": "code",
   "execution_count": 36,
   "metadata": {},
   "outputs": [
    {
     "name": "stdout",
     "output_type": "stream",
     "text": [
      "[(0, 'Alice'), (1, 'Bob'), (2, 'Charlie'), (3, 'Dave')]\n"
     ]
    }
   ],
   "source": [
    "# List Comprehension with Index:\n",
    "# With List Comprehension:\n",
    "names = ['Alice', 'Bob', 'Charlie', 'Dave']\n",
    "indexed_names = [(i, name) for i, name in enumerate(names)] \n",
    "print(indexed_names)"
   ]
  },
  {
   "cell_type": "code",
   "execution_count": 38,
   "metadata": {},
   "outputs": [
    {
     "name": "stdout",
     "output_type": "stream",
     "text": [
      "[1, 2, 3]\n"
     ]
    }
   ],
   "source": [
    "# List Comprehension with Tuple Unpacking:\n",
    "# Without List Comprehension:\n",
    "pairs = [(1, 'one'), (2, 'two'), (3, 'three')]\n",
    "numbers = [num for num, name in pairs]\n",
    "print(numbers)"
   ]
  },
  {
   "cell_type": "code",
   "execution_count": 39,
   "metadata": {},
   "outputs": [
    {
     "name": "stdout",
     "output_type": "stream",
     "text": [
      "[1, 4, 7]\n"
     ]
    }
   ],
   "source": [
    "# List Comprehension with List Slicing:\n",
    "# Without List Comprehension:\n",
    "list_of_lists = [[1, 2, 3], [4, 5, 6], [7, 8, 9]]\n",
    "first_elements = [sublist[0] for sublist in list_of_lists]\n",
    "print(first_elements)"
   ]
  },
  {
   "cell_type": "code",
   "execution_count": 41,
   "metadata": {},
   "outputs": [
    {
     "name": "stdout",
     "output_type": "stream",
     "text": [
      "[(1, 4), (2, 5), (3, 6), (4, 4)]\n"
     ]
    }
   ],
   "source": [
    "# List Comprehension with Multiple Lists:\n",
    "# Without List Comprehension:\n",
    "\n",
    "list1 = [1,2,3,4]\n",
    "list2 = [4,5,6,4]\n",
    "combined = [(x, y) for x, y in zip(list1, list2)]\n",
    "print(combined)\n"
   ]
  },
  {
   "cell_type": "code",
   "execution_count": 43,
   "metadata": {},
   "outputs": [
    {
     "name": "stdout",
     "output_type": "stream",
     "text": [
      "[(0, 'apple'), (1, 'banana'), (2, 'cherry')]\n"
     ]
    }
   ],
   "source": [
    "# List Comprehension with Enumerate:\n",
    "# Without List Comprehension:\n",
    "words = ['apple', 'banana', 'cherry']\n",
    "indexed_words = [(i, name) for i, name in enumerate(words)]\n",
    "print(indexed_words)"
   ]
  },
  {
   "cell_type": "code",
   "execution_count": 44,
   "metadata": {},
   "outputs": [
    {
     "name": "stdout",
     "output_type": "stream",
     "text": [
      "[(2, 1, 2), (2, 2, 4), (2, 3, 6), (2, 4, 8), (2, 5, 10), (2, 6, 12), (2, 7, 14), (2, 8, 16), (2, 9, 18), (3, 1, 3), (3, 2, 6), (3, 3, 9), (3, 4, 12), (3, 5, 15), (3, 6, 18), (3, 7, 21), (3, 8, 24), (3, 9, 27), (4, 1, 4), (4, 2, 8), (4, 3, 12), (4, 4, 16), (4, 5, 20), (4, 6, 24), (4, 7, 28), (4, 8, 32), (4, 9, 36)]\n"
     ]
    }
   ],
   "source": [
    "# List Comprehension with Multiple Iterables:\n",
    "# Without List Comprehension:\n",
    "\n",
    "products = [(i, j, i*j) for i in range(2,5) for j in range(1,10)]\n",
    "print(products)\n"
   ]
  },
  {
   "cell_type": "code",
   "execution_count": 45,
   "metadata": {},
   "outputs": [
    {
     "name": "stdout",
     "output_type": "stream",
     "text": [
      "['jumps', 'dog', 'over', 'quick', 'fox', 'the', 'and', 'lazy', 'brown']\n"
     ]
    }
   ],
   "source": [
    "# Create a list of non-repeated words in a sentence, ignoring case:\n",
    "# Without List Comprehension:\n",
    "sentence = \"The quick brown fox jumps over the lazy dog and the dog jumps over the fox\"\n",
    "unique_words = list(set(word.lower() for word in sentence.split()))\n",
    "print(unique_words)"
   ]
  },
  {
   "cell_type": "code",
   "execution_count": 46,
   "metadata": {},
   "outputs": [
    {
     "name": "stdout",
     "output_type": "stream",
     "text": [
      "[6]\n"
     ]
    }
   ],
   "source": [
    "# Generating a list of common elements from multiple lists without duplicates\n",
    "# Without List Comprehension:\n",
    "list1 = [1, 2, 3, 4, 5, 6]\n",
    "list2 = [4, 5, 6, 7, 8, 9]\n",
    "list3 = [6, 7, 8, 9, 10, 11]\n",
    "\n",
    "common_elements = list(set(x for x in list1 if x in list2 and x in list3))\n",
    "print(common_elements)\n"
   ]
  },
  {
   "cell_type": "code",
   "execution_count": 47,
   "metadata": {},
   "outputs": [
    {
     "data": {
      "text/plain": [
       "[2, 3, 5, 7, 11, 13, 17, 19, 23, 29, 31, 37, 41, 43, 47]"
      ]
     },
     "execution_count": 47,
     "metadata": {},
     "output_type": "execute_result"
    }
   ],
   "source": [
    "# Creating a list of prime numbers\n",
    "# Without List Comprehension:\n",
    "primes = [x for x in range(2,50) if all(x % i !=0 for i in range(2, int(x ** 0.5) +1))]\n",
    "primes\n"
   ]
  },
  {
   "cell_type": "code",
   "execution_count": 49,
   "metadata": {},
   "outputs": [
    {
     "data": {
      "text/plain": [
       "32"
      ]
     },
     "execution_count": 49,
     "metadata": {},
     "output_type": "execute_result"
    }
   ],
   "source": [
    "# Calculate the dot product of two lists (vectors):\n",
    "# Without List Comprehension:\n",
    "vector1 = [1, 2, 3]\n",
    "vector2 = [4, 5, 6]\n",
    "\n",
    "dot_product = sum(x * y for x,y in zip(vector1, vector2))\n",
    "dot_product"
   ]
  },
  {
   "cell_type": "code",
   "execution_count": 50,
   "metadata": {},
   "outputs": [
    {
     "data": {
      "text/plain": [
       "[{'d': 1}, {'h': 1}, {'l': 3}, {'w': 1}, {'r': 1}, {'o': 2}, {'e': 1}]"
      ]
     },
     "execution_count": 50,
     "metadata": {},
     "output_type": "execute_result"
    }
   ],
   "source": [
    "# Create a list of dictionaries containing the frequency of each character in a string:\n",
    "# Without List Comprehension:\n",
    "\n",
    "text = \"hello world\"\n",
    "\n",
    "char_freq = [{char: text.count(char)} for char in set(text) if char != ' ']\n",
    "char_freq"
   ]
  },
  {
   "cell_type": "code",
   "execution_count": 51,
   "metadata": {},
   "outputs": [
    {
     "data": {
      "text/plain": [
       "[70, 70, 90, 70, 90, 110]"
      ]
     },
     "execution_count": 51,
     "metadata": {},
     "output_type": "execute_result"
    }
   ],
   "source": [
    "# List Comprehension with Complex Expressions:\n",
    "# Without List Comprehension:\n",
    "result = [x+y for x in [10,30,50] for y in [20,40,60] if x+y > 50]\n",
    "result"
   ]
  },
  {
   "cell_type": "code",
   "execution_count": 54,
   "metadata": {},
   "outputs": [
    {
     "name": "stdout",
     "output_type": "stream",
     "text": [
      "5\n"
     ]
    }
   ],
   "source": [
    "# Given the participants' score sheet for your University Sports Day, \n",
    "# you are required to find the runner-up score. You are given  scores. \n",
    "# Store them in a list and find the score of the runner-up.\n",
    "# n = int(input())\n",
    "n    = [5]\n",
    "arr  = map(int, input().split())\n",
    "sort = sorted(dict.fromkeys(arr), reverse=True)\n",
    "print(sort[1])"
   ]
  },
  {
   "cell_type": "code",
   "execution_count": 60,
   "metadata": {},
   "outputs": [
    {
     "name": "stdout",
     "output_type": "stream",
     "text": [
      "    1     1     1     1\n",
      "    2     2     2    10\n",
      "    3     3     3    11\n",
      "    4     4     4   100\n",
      "    5     5     5   101\n",
      "    6     6     6   110\n",
      "    7     7     7   111\n",
      "    8    10     8  1000\n",
      "    9    11     9  1001\n",
      "   10    12     A  1010\n",
      "   11    13     B  1011\n",
      "   12    14     C  1100\n",
      "   13    15     D  1101\n",
      "   14    16     E  1110\n",
      "   15    17     F  1111\n",
      "   16    20    10 10000\n",
      "   17    21    11 10001\n"
     ]
    }
   ],
   "source": [
    "# Given an integer, , print the following values for each integer  from  to :\n",
    "# Decimal\n",
    "# Octal\n",
    "# Hexadecimal (capitalized)\n",
    "# Binary\n",
    "# Function Description\n",
    "# Complete the print_formatted function in the editor below.\n",
    "# print_formatted has the following parameters:\n",
    "# int number: the maximum value to print\n",
    "\n",
    "def print_formated(number):\n",
    "    # max_width = len(f\"{number: b}\")\n",
    "\n",
    "    # for i in range(1, number + 1):\n",
    "    #     decNum = str(i).rjust(max_width, \" \")\n",
    "    #     octNum = str(f\"{i:o}\").rjust(max_width, \" \")\n",
    "    #     hexNum = str(f\"{i:X}\").rjust(max_width, \" \")\n",
    "    #     binNum = str(f\"{i:b}\").rjust(max_width, \" \")\n",
    "    #     print(decNum, octNum, hexNum, binNum)\n",
    "\n",
    "    w = len(str(bin(number)).lstrip('0b'))\n",
    "    for i in range(1,number+1):\n",
    "        print(str(i).rjust(w),oct(i)[2:].rjust(w),hex(i)[2:].upper().rjust(w),bin(i)[2:].rjust(w))\n",
    "\n",
    "if __name__ == '__main__':\n",
    "    n = 17\n",
    "    print_formated(n)"
   ]
  },
  {
   "cell_type": "code",
   "execution_count": 62,
   "metadata": {},
   "outputs": [
    {
     "name": "stdout",
     "output_type": "stream",
     "text": [
      "ABCD\n",
      "EFGH\n",
      "IJKL\n",
      "IMNO\n",
      "QRST\n",
      "UVWX\n",
      "YZ\n"
     ]
    }
   ],
   "source": [
    "# You are given a string  and width .\n",
    "# Your task is to wrap the string into a paragraph of width .\n",
    "# Function Description\n",
    "# Complete the wrap function in the editor below.\n",
    "# wrap has the following parameters:\n",
    "# string string: a long string\n",
    "# int max_width: the width to wrap to\n",
    "\n",
    "\n",
    "import textwrap\n",
    "\n",
    "def wrap(string, max_width):\n",
    "    return '\\n'.join(textwrap.wrap(string, max_width))\n",
    "\n",
    "string = 'ABCDEFGHIJKLIMNOQRSTUVWXYZ'\n",
    "n      = 4\n",
    "\n",
    "res = wrap(string, 4)\n",
    "print(res)"
   ]
  },
  {
   "cell_type": "code",
   "execution_count": 63,
   "metadata": {},
   "outputs": [
    {
     "name": "stdout",
     "output_type": "stream",
     "text": [
      "True\n",
      "True\n",
      "True\n",
      "True\n",
      "True\n"
     ]
    }
   ],
   "source": [
    "# Python has built-in string validation methods for basic data. It can check if a string\n",
    "# is composed of alphabetical characters, alphanumeric characters, digits, etc.\n",
    "\n",
    "def validate_string(string, command):\n",
    "    for char in string:\n",
    "        if eval(f'\"{char}\".{command}()'):\n",
    "            return True    \n",
    "    return False\n",
    "\n",
    "if __name__ == '__main__':\n",
    "    s = input()\n",
    "    print(validate_string(s, \"isalnum\"))\n",
    "    print(validate_string(s, \"isalpha\"))\n",
    "    print(validate_string(s, \"isdigit\"))\n",
    "    print(validate_string(s, \"islower\"))\n",
    "    print(validate_string(s, \"isupper\"))\n",
    "        "
   ]
  },
  {
   "cell_type": "code",
   "execution_count": 67,
   "metadata": {},
   "outputs": [
    {
     "name": "stdout",
     "output_type": "stream",
     "text": [
      "AB\n",
      "CA\n",
      "AD\n"
     ]
    }
   ],
   "source": [
    "def merge_the_tools(string, k):\n",
    "   for i in range(int(len(string) / k)):\n",
    "     substr = string[i * k:((i + 1) * k)]\n",
    "     res = \"\".join(dict.fromkeys(substr))\n",
    "     print(res)\n",
    "\n",
    "s = 'AABCAAADA'\n",
    "n = 3\n",
    "merge_the_tools(s,n)"
   ]
  },
  {
   "cell_type": "code",
   "execution_count": 71,
   "metadata": {},
   "outputs": [
    {
     "name": "stdout",
     "output_type": "stream",
     "text": [
      "WEDNESDAY\n"
     ]
    }
   ],
   "source": [
    "import calendar\n",
    "\n",
    "# m,d,y=map(int,input().split())\n",
    "d = '08 05 2015'\n",
    "m,d,y=map(int,d.split())\n",
    "day_nam=calendar.day_name[calendar.weekday(y,m,d)].upper()\n",
    "\n",
    "print(day_nam)\n",
    "\n",
    "# d = '08/05/2015'\n",
    "# day(d)"
   ]
  },
  {
   "cell_type": "code",
   "execution_count": 75,
   "metadata": {},
   "outputs": [
    {
     "name": "stdout",
     "output_type": "stream",
     "text": [
      "25200\n"
     ]
    }
   ],
   "source": [
    "# When users post an update on social media,such as a URL, image, status update etc.,\n",
    "# other users in their network are able to view this new post on their news feed.\n",
    "# Users can also see exactly when the post was published, i.e, how many hours, minutes or seconds ago.\n",
    "\n",
    "# Since sometimes posts are published and viewed in different time zones, this can be confusing. \n",
    "# You are given two timestamps of one such post that a user can see on his newsfeed in the following format:\n",
    "\n",
    "# Day dd Mon yyyy hh:mm:ss +xxxx\n",
    "from datetime import datetime\n",
    "def time_delta(t1, t2):\n",
    "    t1 = datetime.strptime(t1, \"%a %d %b %Y %H:%M:%S %z\")\n",
    "    t2 = datetime.strptime(t2, \"%a %d %b %Y %H:%M:%S %z\")\n",
    "    print(abs(int((t1 -t2).total_seconds())))\n",
    "t1 = 'Sun 10 May 2015 13:54:36 -0700'\n",
    "t2 = 'Sun 10 May 2015 13:54:36 -0000'\n",
    "\n",
    "# time_delta(t1, t2)\n",
    "\n",
    "\n",
    "import math\n",
    "import os\n",
    "import random\n",
    "import re\n",
    "import sys\n",
    "from datetime import datetime\n",
    "\n",
    "# Complete the time_delta function below.\n",
    "def time_delta(t1, t2):\n",
    "    t1 = datetime.strptime(t1, \"%a %d %b %Y %H:%M:%S %z\")\n",
    "    t2 = datetime.strptime(t2, \"%a %d %b %Y %H:%M:%S %z\")\n",
    "    difference = abs(t1 - t2)\n",
    "    diff_seconds = difference.total_seconds()\n",
    "    return(str(int(diff_seconds)))  \n",
    "\n",
    "if __name__ == '__main__':\n",
    "    fptr = open(os.environ['OUTPUT_PATH'], 'w')\n",
    "\n",
    "    t = int(input())\n",
    "\n",
    "    for t_itr in range(t):\n",
    "        t1 = input()\n",
    "\n",
    "        t2 = input()\n",
    "\n",
    "        delta = time_delta(t1, t2)\n",
    "\n",
    "        fptr.write(delta + '\\n')\n",
    "\n",
    "    fptr.close()"
   ]
  },
  {
   "cell_type": "code",
   "execution_count": 82,
   "metadata": {},
   "outputs": [
    {
     "name": "stdout",
     "output_type": "stream",
     "text": [
      "Error Code: not enough values to unpack (expected 2, got 1)\n"
     ]
    }
   ],
   "source": [
    "# Exceptions\n",
    "# Errors detected during execution are called exceptions.\n",
    "\n",
    "# Examples:\n",
    "\n",
    "# ZeroDivisionError\n",
    "# This error is raised when the second argument of a division or modulo operation is zero\n",
    "\n",
    "T = int(input())\n",
    "\n",
    "for _ in range(T):\n",
    "    try:\n",
    "        a, b = [int(x) for x in input().split()]\n",
    "        print(a // b)\n",
    "    except (ZeroDivisionError, ValueError) as e:\n",
    "        print(f\"Error Code: {e}\")"
   ]
  },
  {
   "cell_type": "code",
   "execution_count": null,
   "metadata": {},
   "outputs": [],
   "source": [
    "# Let's use decorators to build a name directory! You are given some information about  people. \n",
    "# Each person has a first name, last name, age and sex. Print their names in a specific format sorted by\n",
    "# their age in ascending order i.e. the youngest person's name should be printed first. For two people \n",
    "# of the same age, print them in the order of their input.\n",
    "import operator\n",
    "\n",
    "def person_lister(f):\n",
    "    def inner(people):\n",
    "        # complete the function\n",
    "        return [f(person) for person in sorted(people, key=lambda x: int(x[2]))]\n",
    "    return inner\n",
    "\n",
    "@person_lister\n",
    "def name_format(person):\n",
    "    return (\"Mr. \" if person[3] == \"M\" else \"Ms. \") + person[0] + \" \" + person[1]\n",
    "\n",
    "if __name__ == '__main__':\n",
    "    people = [input().split() for i in range(int(input()))]\n",
    "    print(*name_format(people), sep='\\n')"
   ]
  }
 ],
 "metadata": {
  "kernelspec": {
   "display_name": "envSpark",
   "language": "python",
   "name": "python3"
  },
  "language_info": {
   "codemirror_mode": {
    "name": "ipython",
    "version": 3
   },
   "file_extension": ".py",
   "mimetype": "text/x-python",
   "name": "python",
   "nbconvert_exporter": "python",
   "pygments_lexer": "ipython3",
   "version": "3.8.10"
  },
  "orig_nbformat": 4
 },
 "nbformat": 4,
 "nbformat_minor": 2
}
